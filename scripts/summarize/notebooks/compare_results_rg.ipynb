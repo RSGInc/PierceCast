{
 "cells": [
  {
   "cell_type": "code",
   "execution_count": 1,
   "metadata": {
    "execution": {
     "iopub.execute_input": "2021-06-10T22:08:00.311088Z",
     "iopub.status.busy": "2021-06-10T22:08:00.311088Z",
     "iopub.status.idle": "2021-06-10T22:08:00.905102Z",
     "shell.execute_reply": "2021-06-10T22:08:00.905102Z"
    }
   },
   "outputs": [],
   "source": [
    "import pandas as pd\n",
    "import os"
   ]
  },
  {
   "cell_type": "code",
   "execution_count": 2,
   "metadata": {
    "execution": {
     "iopub.execute_input": "2021-06-10T22:08:00.905102Z",
     "iopub.status.busy": "2021-06-10T22:08:00.905102Z",
     "iopub.status.idle": "2021-06-10T22:08:00.920804Z",
     "shell.execute_reply": "2021-06-10T22:08:00.920804Z"
    }
   },
   "outputs": [],
   "source": [
    "# Compare runs\n",
    "\n",
    "run_dict = {\n",
    "    'Scenario A': r'C:\\workspace\\sc_18_bike_count_test',\n",
    "    'Scenario B': r'C:\\workspace\\sc_18_bike_count_test',\n",
    "    'Scenario C': r'C:\\workspace\\sc_18_bike_count_test'\n",
    "}"
   ]
  },
  {
   "cell_type": "code",
   "execution_count": 3,
   "metadata": {
    "execution": {
     "iopub.execute_input": "2021-06-10T22:08:00.920804Z",
     "iopub.status.busy": "2021-06-10T22:08:00.920804Z",
     "iopub.status.idle": "2021-06-10T22:08:00.936389Z",
     "shell.execute_reply": "2021-06-10T22:08:00.936389Z"
    }
   },
   "outputs": [],
   "source": [
    "def load_data(fname, geog):\n",
    "    df = pd.DataFrame()\n",
    "    for scen_name, scen_path in run_dict.items():\n",
    "        _df = pd.read_csv(os.path.join(scen_path,r'outputs\\compare', geog ,fname))\n",
    "        _df['source'] = scen_name\n",
    "        df = df.append(_df)\n",
    "    \n",
    "    return df"
   ]
  },
  {
   "cell_type": "code",
   "execution_count": 4,
   "metadata": {
    "execution": {
     "iopub.execute_input": "2021-06-10T22:08:00.936389Z",
     "iopub.status.busy": "2021-06-10T22:08:00.936389Z",
     "iopub.status.idle": "2021-06-10T22:08:00.952092Z",
     "shell.execute_reply": "2021-06-10T22:08:00.952092Z"
    }
   },
   "outputs": [],
   "source": [
    "geog = 'rg'"
   ]
  },
  {
   "cell_type": "markdown",
   "metadata": {},
   "source": [
    "# Population"
   ]
  },
  {
   "cell_type": "code",
   "execution_count": 5,
   "metadata": {
    "execution": {
     "iopub.execute_input": "2021-06-10T22:08:00.952092Z",
     "iopub.status.busy": "2021-06-10T22:08:00.952092Z",
     "iopub.status.idle": "2021-06-10T22:08:01.014588Z",
     "shell.execute_reply": "2021-06-10T22:08:01.014588Z"
    }
   },
   "outputs": [],
   "source": [
    "pd.options.display.float_format = '{:0,.0f}'.format\n",
    "df = load_data('1_population.csv', geog)\n",
    "df = df.pivot_table(index='hh_rg_proposed', columns='source', aggfunc='sum', values='Persons')"
   ]
  },
  {
   "cell_type": "code",
   "execution_count": 6,
   "metadata": {
    "execution": {
     "iopub.execute_input": "2021-06-10T22:08:01.014588Z",
     "iopub.status.busy": "2021-06-10T22:08:01.014588Z",
     "iopub.status.idle": "2021-06-10T22:08:01.530056Z",
     "shell.execute_reply": "2021-06-10T22:08:01.530056Z"
    }
   },
   "outputs": [
    {
     "data": {
      "text/html": [
       "<div>\n",
       "<style scoped>\n",
       "    .dataframe tbody tr th:only-of-type {\n",
       "        vertical-align: middle;\n",
       "    }\n",
       "\n",
       "    .dataframe tbody tr th {\n",
       "        vertical-align: top;\n",
       "    }\n",
       "\n",
       "    .dataframe thead th {\n",
       "        text-align: right;\n",
       "    }\n",
       "</style>\n",
       "<table border=\"1\" class=\"dataframe\">\n",
       "  <thead>\n",
       "    <tr style=\"text-align: right;\">\n",
       "      <th>source</th>\n",
       "      <th>Scenario A</th>\n",
       "      <th>Scenario B</th>\n",
       "      <th>Scenario C</th>\n",
       "    </tr>\n",
       "    <tr>\n",
       "      <th>hh_rg_proposed</th>\n",
       "      <th></th>\n",
       "      <th></th>\n",
       "      <th></th>\n",
       "    </tr>\n",
       "  </thead>\n",
       "  <tbody>\n",
       "    <tr>\n",
       "      <th>Cities and Towns</th>\n",
       "      <td>371,926</td>\n",
       "      <td>371,926</td>\n",
       "      <td>371,926</td>\n",
       "    </tr>\n",
       "    <tr>\n",
       "      <th>Core Cities</th>\n",
       "      <td>686,747</td>\n",
       "      <td>686,747</td>\n",
       "      <td>686,747</td>\n",
       "    </tr>\n",
       "    <tr>\n",
       "      <th>HCT Communities</th>\n",
       "      <td>921,557</td>\n",
       "      <td>921,557</td>\n",
       "      <td>921,557</td>\n",
       "    </tr>\n",
       "    <tr>\n",
       "      <th>Metropolitan Cities</th>\n",
       "      <td>993,114</td>\n",
       "      <td>993,114</td>\n",
       "      <td>993,114</td>\n",
       "    </tr>\n",
       "    <tr>\n",
       "      <th>Rural</th>\n",
       "      <td>844,633</td>\n",
       "      <td>844,633</td>\n",
       "      <td>844,633</td>\n",
       "    </tr>\n",
       "    <tr>\n",
       "      <th>Urban Unincorporated</th>\n",
       "      <td>167,640</td>\n",
       "      <td>167,640</td>\n",
       "      <td>167,640</td>\n",
       "    </tr>\n",
       "  </tbody>\n",
       "</table>\n",
       "</div>"
      ],
      "text/plain": [
       "source                Scenario A  Scenario B  Scenario C\n",
       "hh_rg_proposed                                          \n",
       "Cities and Towns         371,926     371,926     371,926\n",
       "Core Cities              686,747     686,747     686,747\n",
       "HCT Communities          921,557     921,557     921,557\n",
       "Metropolitan Cities      993,114     993,114     993,114\n",
       "Rural                    844,633     844,633     844,633\n",
       "Urban Unincorporated     167,640     167,640     167,640"
      ]
     },
     "execution_count": 1,
     "metadata": {},
     "output_type": "execute_result"
    },
    {
     "data": {
      "image/png": "[encoded data removed]",
      "text/plain": [
       "<Figure size 432x288 with 1 Axes>"
      ]
     },
     "metadata": {
      "needs_background": "light"
     },
     "output_type": "display_data"
    }
   ],
   "source": [
    "df.plot(kind='barh', alpha=0.6)\n",
    "# df.to_csv(os.path.join(scen_path,r'outputs\\compare\\inputs',fname)\n",
    "df"
   ]
  },
  {
   "cell_type": "markdown",
   "metadata": {},
   "source": [
    "# Employment"
   ]
  },
  {
   "cell_type": "code",
   "execution_count": 7,
   "metadata": {
    "execution": {
     "iopub.execute_input": "2021-06-10T22:08:01.530056Z",
     "iopub.status.busy": "2021-06-10T22:08:01.530056Z",
     "iopub.status.idle": "2021-06-10T22:08:01.592542Z",
     "shell.execute_reply": "2021-06-10T22:08:01.592542Z"
    }
   },
   "outputs": [
    {
     "data": {
      "text/html": [
       "<div>\n",
       "<style scoped>\n",
       "    .dataframe tbody tr th:only-of-type {\n",
       "        vertical-align: middle;\n",
       "    }\n",
       "\n",
       "    .dataframe tbody tr th {\n",
       "        vertical-align: top;\n",
       "    }\n",
       "\n",
       "    .dataframe thead th {\n",
       "        text-align: right;\n",
       "    }\n",
       "</style>\n",
       "<table border=\"1\" class=\"dataframe\">\n",
       "  <thead>\n",
       "    <tr style=\"text-align: right;\">\n",
       "      <th>source</th>\n",
       "      <th>Scenario A</th>\n",
       "      <th>Scenario B</th>\n",
       "      <th>Scenario C</th>\n",
       "    </tr>\n",
       "    <tr>\n",
       "      <th>hh_rg_proposed</th>\n",
       "      <th></th>\n",
       "      <th></th>\n",
       "      <th></th>\n",
       "    </tr>\n",
       "  </thead>\n",
       "  <tbody>\n",
       "    <tr>\n",
       "      <th>Cities and Towns</th>\n",
       "      <td>181,281</td>\n",
       "      <td>181,281</td>\n",
       "      <td>181,281</td>\n",
       "    </tr>\n",
       "    <tr>\n",
       "      <th>Core Cities</th>\n",
       "      <td>328,177</td>\n",
       "      <td>328,177</td>\n",
       "      <td>328,177</td>\n",
       "    </tr>\n",
       "    <tr>\n",
       "      <th>HCT Communities</th>\n",
       "      <td>464,248</td>\n",
       "      <td>464,248</td>\n",
       "      <td>464,248</td>\n",
       "    </tr>\n",
       "    <tr>\n",
       "      <th>Metropolitan Cities</th>\n",
       "      <td>478,234</td>\n",
       "      <td>478,234</td>\n",
       "      <td>478,234</td>\n",
       "    </tr>\n",
       "    <tr>\n",
       "      <th>Rural</th>\n",
       "      <td>416,314</td>\n",
       "      <td>416,314</td>\n",
       "      <td>416,314</td>\n",
       "    </tr>\n",
       "    <tr>\n",
       "      <th>Urban Unincorporated</th>\n",
       "      <td>84,650</td>\n",
       "      <td>84,650</td>\n",
       "      <td>84,650</td>\n",
       "    </tr>\n",
       "  </tbody>\n",
       "</table>\n",
       "</div>"
      ],
      "text/plain": [
       "source                Scenario A  Scenario B  Scenario C\n",
       "hh_rg_proposed                                          \n",
       "Cities and Towns         181,281     181,281     181,281\n",
       "Core Cities              328,177     328,177     328,177\n",
       "HCT Communities          464,248     464,248     464,248\n",
       "Metropolitan Cities      478,234     478,234     478,234\n",
       "Rural                    416,314     416,314     416,314\n",
       "Urban Unincorporated      84,650      84,650      84,650"
      ]
     },
     "execution_count": 1,
     "metadata": {},
     "output_type": "execute_result"
    }
   ],
   "source": [
    "df = load_data('2_employment.csv', geog)\n",
    "df['Workers'] = df['Paid Full-Time Worker']+df['Paid Part-Time Worker']\n",
    "df = df.pivot_table(index='hh_rg_proposed', columns='source', aggfunc='sum', values='Workers')\n",
    "df"
   ]
  },
  {
   "cell_type": "markdown",
   "metadata": {},
   "source": [
    "# Transit Ridership"
   ]
  },
  {
   "cell_type": "code",
   "execution_count": 8,
   "metadata": {
    "execution": {
     "iopub.execute_input": "2021-06-10T22:08:01.592542Z",
     "iopub.status.busy": "2021-06-10T22:08:01.592542Z",
     "iopub.status.idle": "2021-06-10T22:08:01.826660Z",
     "shell.execute_reply": "2021-06-10T22:08:01.826660Z"
    }
   },
   "outputs": [
    {
     "data": {
      "text/html": [
       "<div>\n",
       "<style scoped>\n",
       "    .dataframe tbody tr th:only-of-type {\n",
       "        vertical-align: middle;\n",
       "    }\n",
       "\n",
       "    .dataframe tbody tr th {\n",
       "        vertical-align: top;\n",
       "    }\n",
       "\n",
       "    .dataframe thead th {\n",
       "        text-align: right;\n",
       "    }\n",
       "</style>\n",
       "<table border=\"1\" class=\"dataframe\">\n",
       "  <thead>\n",
       "    <tr style=\"text-align: right;\">\n",
       "      <th>source</th>\n",
       "      <th>Scenario A</th>\n",
       "      <th>Scenario B</th>\n",
       "      <th>Scenario C</th>\n",
       "    </tr>\n",
       "    <tr>\n",
       "      <th>hh_rg_proposed</th>\n",
       "      <th></th>\n",
       "      <th></th>\n",
       "      <th></th>\n",
       "    </tr>\n",
       "  </thead>\n",
       "  <tbody>\n",
       "    <tr>\n",
       "      <th>Cities and Towns</th>\n",
       "      <td>39,823</td>\n",
       "      <td>39,823</td>\n",
       "      <td>39,823</td>\n",
       "    </tr>\n",
       "    <tr>\n",
       "      <th>Core Cities</th>\n",
       "      <td>59,434</td>\n",
       "      <td>59,434</td>\n",
       "      <td>59,434</td>\n",
       "    </tr>\n",
       "    <tr>\n",
       "      <th>HCT Communities</th>\n",
       "      <td>128,279</td>\n",
       "      <td>128,279</td>\n",
       "      <td>128,279</td>\n",
       "    </tr>\n",
       "    <tr>\n",
       "      <th>Metropolitan Cities</th>\n",
       "      <td>94,891</td>\n",
       "      <td>94,891</td>\n",
       "      <td>94,891</td>\n",
       "    </tr>\n",
       "    <tr>\n",
       "      <th>Rural</th>\n",
       "      <td>120,067</td>\n",
       "      <td>120,067</td>\n",
       "      <td>120,067</td>\n",
       "    </tr>\n",
       "    <tr>\n",
       "      <th>Urban Unincorporated</th>\n",
       "      <td>23,121</td>\n",
       "      <td>23,121</td>\n",
       "      <td>23,121</td>\n",
       "    </tr>\n",
       "  </tbody>\n",
       "</table>\n",
       "</div>"
      ],
      "text/plain": [
       "source                Scenario A  Scenario B  Scenario C\n",
       "hh_rg_proposed                                          \n",
       "Cities and Towns          39,823      39,823      39,823\n",
       "Core Cities               59,434      59,434      59,434\n",
       "HCT Communities          128,279     128,279     128,279\n",
       "Metropolitan Cities       94,891      94,891      94,891\n",
       "Rural                    120,067     120,067     120,067\n",
       "Urban Unincorporated      23,121      23,121      23,121"
      ]
     },
     "execution_count": 1,
     "metadata": {},
     "output_type": "execute_result"
    },
    {
     "data": {
      "image/png": "[encoded data removed]",
      "text/plain": [
       "<Figure size 432x288 with 1 Axes>"
      ]
     },
     "metadata": {
      "needs_background": "light"
     },
     "output_type": "display_data"
    }
   ],
   "source": [
    "df = load_data('3_transit_trips.csv', geog)\n",
    "df = df.pivot_table(index='hh_rg_proposed', columns='source', aggfunc='sum', values='trexpfac')\n",
    "df.plot(kind='barh', alpha=0.6)\n",
    "df"
   ]
  },
  {
   "cell_type": "markdown",
   "metadata": {},
   "source": [
    "## Transit Commute Mode Share"
   ]
  },
  {
   "cell_type": "code",
   "execution_count": 9,
   "metadata": {
    "execution": {
     "iopub.execute_input": "2021-06-10T22:08:01.826660Z",
     "iopub.status.busy": "2021-06-10T22:08:01.826660Z",
     "iopub.status.idle": "2021-06-10T22:08:02.045358Z",
     "shell.execute_reply": "2021-06-10T22:08:02.045358Z"
    }
   },
   "outputs": [
    {
     "data": {
      "text/html": [
       "<div>\n",
       "<style scoped>\n",
       "    .dataframe tbody tr th:only-of-type {\n",
       "        vertical-align: middle;\n",
       "    }\n",
       "\n",
       "    .dataframe tbody tr th {\n",
       "        vertical-align: top;\n",
       "    }\n",
       "\n",
       "    .dataframe thead th {\n",
       "        text-align: right;\n",
       "    }\n",
       "</style>\n",
       "<table border=\"1\" class=\"dataframe\">\n",
       "  <thead>\n",
       "    <tr style=\"text-align: right;\">\n",
       "      <th>source</th>\n",
       "      <th>Scenario A</th>\n",
       "      <th>Scenario B</th>\n",
       "      <th>Scenario C</th>\n",
       "    </tr>\n",
       "    <tr>\n",
       "      <th>hh_rg_proposed</th>\n",
       "      <th></th>\n",
       "      <th></th>\n",
       "      <th></th>\n",
       "    </tr>\n",
       "  </thead>\n",
       "  <tbody>\n",
       "    <tr>\n",
       "      <th>Cities and Towns</th>\n",
       "      <td>5.6%</td>\n",
       "      <td>5.6%</td>\n",
       "      <td>5.6%</td>\n",
       "    </tr>\n",
       "    <tr>\n",
       "      <th>Core Cities</th>\n",
       "      <td>5.2%</td>\n",
       "      <td>5.2%</td>\n",
       "      <td>5.2%</td>\n",
       "    </tr>\n",
       "    <tr>\n",
       "      <th>HCT Communities</th>\n",
       "      <td>6.6%</td>\n",
       "      <td>6.6%</td>\n",
       "      <td>6.6%</td>\n",
       "    </tr>\n",
       "    <tr>\n",
       "      <th>Metropolitan Cities</th>\n",
       "      <td>5.4%</td>\n",
       "      <td>5.4%</td>\n",
       "      <td>5.4%</td>\n",
       "    </tr>\n",
       "    <tr>\n",
       "      <th>Rural</th>\n",
       "      <td>6.9%</td>\n",
       "      <td>6.9%</td>\n",
       "      <td>6.9%</td>\n",
       "    </tr>\n",
       "    <tr>\n",
       "      <th>Urban Unincorporated</th>\n",
       "      <td>6.6%</td>\n",
       "      <td>6.6%</td>\n",
       "      <td>6.6%</td>\n",
       "    </tr>\n",
       "  </tbody>\n",
       "</table>\n",
       "</div>"
      ],
      "text/plain": [
       "source                Scenario A  Scenario B  Scenario C\n",
       "hh_rg_proposed                                          \n",
       "Cities and Towns            5.6%        5.6%        5.6%\n",
       "Core Cities                 5.2%        5.2%        5.2%\n",
       "HCT Communities             6.6%        6.6%        6.6%\n",
       "Metropolitan Cities         5.4%        5.4%        5.4%\n",
       "Rural                       6.9%        6.9%        6.9%\n",
       "Urban Unincorporated        6.6%        6.6%        6.6%"
      ]
     },
     "execution_count": 1,
     "metadata": {},
     "output_type": "execute_result"
    },
    {
     "data": {
      "image/png": "[encoded data removed]",
      "text/plain": [
       "<Figure size 432x288 with 1 Axes>"
      ]
     },
     "metadata": {
      "needs_background": "light"
     },
     "output_type": "display_data"
    }
   ],
   "source": [
    "pd.options.display.float_format = '{:0,.1%}'.format\n",
    "df = load_data('4_transit_commute_share.csv', geog)\n",
    "df = df.pivot_table(index='hh_rg_proposed', columns='source', aggfunc='sum', values='mode_share')\n",
    "df.plot(kind='barh', alpha=0.6)\n",
    "df"
   ]
  },
  {
   "cell_type": "markdown",
   "metadata": {},
   "source": [
    "# VMT"
   ]
  },
  {
   "cell_type": "code",
   "execution_count": 10,
   "metadata": {
    "execution": {
     "iopub.execute_input": "2021-06-10T22:08:02.045358Z",
     "iopub.status.busy": "2021-06-10T22:08:02.045358Z",
     "iopub.status.idle": "2021-06-10T22:08:02.248732Z",
     "shell.execute_reply": "2021-06-10T22:08:02.248732Z"
    }
   },
   "outputs": [
    {
     "data": {
      "text/html": [
       "<div>\n",
       "<style scoped>\n",
       "    .dataframe tbody tr th:only-of-type {\n",
       "        vertical-align: middle;\n",
       "    }\n",
       "\n",
       "    .dataframe tbody tr th {\n",
       "        vertical-align: top;\n",
       "    }\n",
       "\n",
       "    .dataframe thead th {\n",
       "        text-align: right;\n",
       "    }\n",
       "</style>\n",
       "<table border=\"1\" class=\"dataframe\">\n",
       "  <thead>\n",
       "    <tr style=\"text-align: right;\">\n",
       "      <th>source</th>\n",
       "      <th>Scenario A</th>\n",
       "      <th>Scenario B</th>\n",
       "      <th>Scenario C</th>\n",
       "    </tr>\n",
       "    <tr>\n",
       "      <th>hh_rg_proposed</th>\n",
       "      <th></th>\n",
       "      <th></th>\n",
       "      <th></th>\n",
       "    </tr>\n",
       "  </thead>\n",
       "  <tbody>\n",
       "    <tr>\n",
       "      <th>Cities and Towns</th>\n",
       "      <td>5,875,682</td>\n",
       "      <td>5,875,682</td>\n",
       "      <td>5,875,682</td>\n",
       "    </tr>\n",
       "    <tr>\n",
       "      <th>Core Cities</th>\n",
       "      <td>11,665,359</td>\n",
       "      <td>11,665,359</td>\n",
       "      <td>11,665,359</td>\n",
       "    </tr>\n",
       "    <tr>\n",
       "      <th>HCT Communities</th>\n",
       "      <td>14,401,509</td>\n",
       "      <td>14,401,509</td>\n",
       "      <td>14,401,509</td>\n",
       "    </tr>\n",
       "    <tr>\n",
       "      <th>Metropolitan Cities</th>\n",
       "      <td>16,709,126</td>\n",
       "      <td>16,709,126</td>\n",
       "      <td>16,709,126</td>\n",
       "    </tr>\n",
       "    <tr>\n",
       "      <th>Rural</th>\n",
       "      <td>13,109,361</td>\n",
       "      <td>13,109,361</td>\n",
       "      <td>13,109,361</td>\n",
       "    </tr>\n",
       "    <tr>\n",
       "      <th>Urban Unincorporated</th>\n",
       "      <td>2,614,367</td>\n",
       "      <td>2,614,367</td>\n",
       "      <td>2,614,367</td>\n",
       "    </tr>\n",
       "    <tr>\n",
       "      <th>Total</th>\n",
       "      <td>64,375,404</td>\n",
       "      <td>64,375,404</td>\n",
       "      <td>64,375,404</td>\n",
       "    </tr>\n",
       "  </tbody>\n",
       "</table>\n",
       "</div>"
      ],
      "text/plain": [
       "source                Scenario A  Scenario B  Scenario C\n",
       "hh_rg_proposed                                          \n",
       "Cities and Towns       5,875,682   5,875,682   5,875,682\n",
       "Core Cities           11,665,359  11,665,359  11,665,359\n",
       "HCT Communities       14,401,509  14,401,509  14,401,509\n",
       "Metropolitan Cities   16,709,126  16,709,126  16,709,126\n",
       "Rural                 13,109,361  13,109,361  13,109,361\n",
       "Urban Unincorporated   2,614,367   2,614,367   2,614,367\n",
       "Total                 64,375,404  64,375,404  64,375,404"
      ]
     },
     "execution_count": 1,
     "metadata": {},
     "output_type": "execute_result"
    },
    {
     "data": {
      "image/png": "[encoded data removed]",
      "text/plain": [
       "<Figure size 432x288 with 1 Axes>"
      ]
     },
     "metadata": {
      "needs_background": "light"
     },
     "output_type": "display_data"
    }
   ],
   "source": [
    "pd.options.display.float_format = '{:0,.0f}'.format\n",
    "df = load_data('5_vmt.csv', geog)\n",
    "df = df.pivot_table(index='hh_rg_proposed', columns='source', aggfunc='sum', values='VMT')\n",
    "df.plot(kind='barh', alpha=0.6)\n",
    "df.loc['Total'] = df.sum(axis=0)\n",
    "df"
   ]
  },
  {
   "cell_type": "markdown",
   "metadata": {},
   "source": [
    "# Delay"
   ]
  },
  {
   "cell_type": "code",
   "execution_count": null,
   "metadata": {},
   "outputs": [],
   "source": []
  }
 ],
 "metadata": {
  "kernelspec": {
   "display_name": "Python 3",
   "language": "python",
   "name": "python3"
  },
  "language_info": {
   "codemirror_mode": {
    "name": "ipython",
    "version": 3
   },
   "file_extension": ".py",
   "mimetype": "text/x-python",
   "name": "python",
   "nbconvert_exporter": "python",
   "pygments_lexer": "ipython3",
   "version": "3.7.10"
  }
 },
 "nbformat": 4,
 "nbformat_minor": 4
}
