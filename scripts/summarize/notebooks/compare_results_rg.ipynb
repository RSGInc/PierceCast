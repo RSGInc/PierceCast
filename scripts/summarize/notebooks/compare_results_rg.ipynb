{
 "cells": [
  {
   "cell_type": "code",
   "execution_count": 1,
   "metadata": {
    "execution": {
     "iopub.execute_input": "2021-06-10T22:08:00.311088Z",
     "iopub.status.busy": "2021-06-10T22:08:00.311088Z",
     "iopub.status.idle": "2021-06-10T22:08:00.905102Z",
     "shell.execute_reply": "2021-06-10T22:08:00.905102Z"
    }
   },
   "outputs": [],
   "source": [
    "import pandas as pd\n",
    "import os\n",
    "from settings import comparison_dict"
   ]
  },
  {
   "cell_type": "code",
   "execution_count": 2,
   "metadata": {
    "execution": {
     "iopub.execute_input": "2021-06-10T22:08:00.920804Z",
     "iopub.status.busy": "2021-06-10T22:08:00.920804Z",
     "iopub.status.idle": "2021-06-10T22:08:00.936389Z",
     "shell.execute_reply": "2021-06-10T22:08:00.936389Z"
    }
   },
   "outputs": [],
   "source": [
    "def load_data(fname, geog):\n",
    "    df = pd.DataFrame()\n",
    "    for scen_name, scen_path in comparison_dict.items():\n",
    "        _df = pd.read_csv(os.path.join(scen_path,r'outputs\\compare', geog ,fname))\n",
    "        _df['source'] = scen_name\n",
    "        df = df.append(_df)\n",
    "    \n",
    "    return df"
   ]
  },
  {
   "cell_type": "code",
   "execution_count": 3,
   "metadata": {
    "execution": {
     "iopub.execute_input": "2021-06-10T22:08:00.936389Z",
     "iopub.status.busy": "2021-06-10T22:08:00.936389Z",
     "iopub.status.idle": "2021-06-10T22:08:00.952092Z",
     "shell.execute_reply": "2021-06-10T22:08:00.952092Z"
    }
   },
   "outputs": [],
   "source": [
    "geog = 'rg'"
   ]
  },
  {
   "cell_type": "markdown",
   "metadata": {},
   "source": [
    "# Population"
   ]
  },
  {
   "cell_type": "code",
   "execution_count": 4,
   "metadata": {
    "execution": {
     "iopub.execute_input": "2021-06-10T22:08:00.952092Z",
     "iopub.status.busy": "2021-06-10T22:08:00.952092Z",
     "iopub.status.idle": "2021-06-10T22:08:01.014588Z",
     "shell.execute_reply": "2021-06-10T22:08:01.014588Z"
    }
   },
   "outputs": [],
   "source": [
    "pd.options.display.float_format = '{:0,.0f}'.format\n",
    "df = load_data('1_population.csv', geog)\n",
    "df = df.pivot_table(index='hh_rg_proposed', columns='source', aggfunc='sum', values='Persons')"
   ]
  },
  {
   "cell_type": "code",
   "execution_count": 5,
   "metadata": {},
   "outputs": [],
   "source": [
    "df = pd.read_csv(r'\\\\modelstation3\\\\c$\\\\Workspace\\\\sc_new_vot_SCEN1_2018\\\\soundcast\\\\outputs\\\\compare\\\\rg\\\\1_population.csv')"
   ]
  },
  {
   "cell_type": "code",
   "execution_count": 6,
   "metadata": {
    "execution": {
     "iopub.execute_input": "2021-06-10T22:08:01.014588Z",
     "iopub.status.busy": "2021-06-10T22:08:01.014588Z",
     "iopub.status.idle": "2021-06-10T22:08:01.530056Z",
     "shell.execute_reply": "2021-06-10T22:08:01.530056Z"
    }
   },
   "outputs": [
    {
     "data": {
      "text/html": [
       "<div>\n",
       "<style scoped>\n",
       "    .dataframe tbody tr th:only-of-type {\n",
       "        vertical-align: middle;\n",
       "    }\n",
       "\n",
       "    .dataframe tbody tr th {\n",
       "        vertical-align: top;\n",
       "    }\n",
       "\n",
       "    .dataframe thead th {\n",
       "        text-align: right;\n",
       "    }\n",
       "</style>\n",
       "<table border=\"1\" class=\"dataframe\">\n",
       "  <thead>\n",
       "    <tr style=\"text-align: right;\">\n",
       "      <th></th>\n",
       "      <th>hh_rg_proposed</th>\n",
       "      <th>Households</th>\n",
       "      <th>Persons</th>\n",
       "    </tr>\n",
       "  </thead>\n",
       "  <tbody>\n",
       "    <tr>\n",
       "      <th>0</th>\n",
       "      <td>Core</td>\n",
       "      <td>23,428</td>\n",
       "      <td>48,801</td>\n",
       "    </tr>\n",
       "    <tr>\n",
       "      <th>1</th>\n",
       "      <td>HCT</td>\n",
       "      <td>584</td>\n",
       "      <td>1,726</td>\n",
       "    </tr>\n",
       "    <tr>\n",
       "      <th>2</th>\n",
       "      <td>Metro</td>\n",
       "      <td>108,805</td>\n",
       "      <td>178,334</td>\n",
       "    </tr>\n",
       "    <tr>\n",
       "      <th>3</th>\n",
       "      <td>UU</td>\n",
       "      <td>212</td>\n",
       "      <td>637</td>\n",
       "    </tr>\n",
       "  </tbody>\n",
       "</table>\n",
       "</div>"
      ],
      "text/plain": [
       "  hh_rg_proposed  Households  Persons\n",
       "0           Core      23,428   48,801\n",
       "1            HCT         584    1,726\n",
       "2          Metro     108,805  178,334\n",
       "3             UU         212      637"
      ]
     },
     "execution_count": 6,
     "metadata": {},
     "output_type": "execute_result"
    }
   ],
   "source": [
    "df.plot(kind='barh', alpha=0.6)\n",
    "# df.to_csv(os.path.join(scen_path,r'outputs\\compare\\inputs',fname)\n",
    "df"
   ]
  },
  {
   "cell_type": "markdown",
   "metadata": {},
   "source": [
    "# Employment"
   ]
  },
  {
   "cell_type": "code",
   "execution_count": 7,
   "metadata": {
    "execution": {
     "iopub.execute_input": "2021-06-10T22:08:01.530056Z",
     "iopub.status.busy": "2021-06-10T22:08:01.530056Z",
     "iopub.status.idle": "2021-06-10T22:08:01.592542Z",
     "shell.execute_reply": "2021-06-10T22:08:01.592542Z"
    }
   },
   "outputs": [
    {
     "data": {
      "text/html": [
       "<div>\n",
       "<style scoped>\n",
       "    .dataframe tbody tr th:only-of-type {\n",
       "        vertical-align: middle;\n",
       "    }\n",
       "\n",
       "    .dataframe tbody tr th {\n",
       "        vertical-align: top;\n",
       "    }\n",
       "\n",
       "    .dataframe thead th {\n",
       "        text-align: right;\n",
       "    }\n",
       "</style>\n",
       "<table border=\"1\" class=\"dataframe\">\n",
       "  <thead>\n",
       "    <tr style=\"text-align: right;\">\n",
       "      <th>source</th>\n",
       "      <th>Base</th>\n",
       "      <th>Scenario 1</th>\n",
       "      <th>Scenario 2</th>\n",
       "    </tr>\n",
       "    <tr>\n",
       "      <th>hh_rg_proposed</th>\n",
       "      <th></th>\n",
       "      <th></th>\n",
       "      <th></th>\n",
       "    </tr>\n",
       "  </thead>\n",
       "  <tbody>\n",
       "    <tr>\n",
       "      <th>Core</th>\n",
       "      <td>25,728</td>\n",
       "      <td>25,728</td>\n",
       "      <td>25,728</td>\n",
       "    </tr>\n",
       "    <tr>\n",
       "      <th>HCT</th>\n",
       "      <td>789</td>\n",
       "      <td>789</td>\n",
       "      <td>789</td>\n",
       "    </tr>\n",
       "    <tr>\n",
       "      <th>Metro</th>\n",
       "      <td>110,828</td>\n",
       "      <td>110,828</td>\n",
       "      <td>110,828</td>\n",
       "    </tr>\n",
       "    <tr>\n",
       "      <th>UU</th>\n",
       "      <td>296</td>\n",
       "      <td>296</td>\n",
       "      <td>296</td>\n",
       "    </tr>\n",
       "  </tbody>\n",
       "</table>\n",
       "</div>"
      ],
      "text/plain": [
       "source            Base  Scenario 1  Scenario 2\n",
       "hh_rg_proposed                                \n",
       "Core            25,728      25,728      25,728\n",
       "HCT                789         789         789\n",
       "Metro          110,828     110,828     110,828\n",
       "UU                 296         296         296"
      ]
     },
     "execution_count": 7,
     "metadata": {},
     "output_type": "execute_result"
    }
   ],
   "source": [
    "df = load_data('2_employment.csv', geog)\n",
    "df['Workers'] = df['Paid Full-Time Worker']+df['Paid Part-Time Worker']\n",
    "df = df.pivot_table(index='hh_rg_proposed', columns='source', aggfunc='sum', values='Workers')\n",
    "df"
   ]
  },
  {
   "cell_type": "markdown",
   "metadata": {},
   "source": [
    "# Transit Ridership"
   ]
  },
  {
   "cell_type": "code",
   "execution_count": 8,
   "metadata": {
    "execution": {
     "iopub.execute_input": "2021-06-10T22:08:01.592542Z",
     "iopub.status.busy": "2021-06-10T22:08:01.592542Z",
     "iopub.status.idle": "2021-06-10T22:08:01.826660Z",
     "shell.execute_reply": "2021-06-10T22:08:01.826660Z"
    }
   },
   "outputs": [
    {
     "data": {
      "text/html": [
       "<div>\n",
       "<style scoped>\n",
       "    .dataframe tbody tr th:only-of-type {\n",
       "        vertical-align: middle;\n",
       "    }\n",
       "\n",
       "    .dataframe tbody tr th {\n",
       "        vertical-align: top;\n",
       "    }\n",
       "\n",
       "    .dataframe thead th {\n",
       "        text-align: right;\n",
       "    }\n",
       "</style>\n",
       "<table border=\"1\" class=\"dataframe\">\n",
       "  <thead>\n",
       "    <tr style=\"text-align: right;\">\n",
       "      <th>source</th>\n",
       "      <th>Base</th>\n",
       "      <th>Scenario 1</th>\n",
       "      <th>Scenario 2</th>\n",
       "    </tr>\n",
       "    <tr>\n",
       "      <th>hh_rg_proposed</th>\n",
       "      <th></th>\n",
       "      <th></th>\n",
       "      <th></th>\n",
       "    </tr>\n",
       "  </thead>\n",
       "  <tbody>\n",
       "    <tr>\n",
       "      <th>CitiesTowns</th>\n",
       "      <td>17,481</td>\n",
       "      <td>14,856</td>\n",
       "      <td>16,170</td>\n",
       "    </tr>\n",
       "    <tr>\n",
       "      <th>Core</th>\n",
       "      <td>104,933</td>\n",
       "      <td>90,768</td>\n",
       "      <td>94,162</td>\n",
       "    </tr>\n",
       "    <tr>\n",
       "      <th>HCT</th>\n",
       "      <td>72,153</td>\n",
       "      <td>62,123</td>\n",
       "      <td>64,640</td>\n",
       "    </tr>\n",
       "    <tr>\n",
       "      <th>Metro</th>\n",
       "      <td>246,674</td>\n",
       "      <td>219,232</td>\n",
       "      <td>222,838</td>\n",
       "    </tr>\n",
       "    <tr>\n",
       "      <th>Rural</th>\n",
       "      <td>14,735</td>\n",
       "      <td>12,318</td>\n",
       "      <td>13,577</td>\n",
       "    </tr>\n",
       "    <tr>\n",
       "      <th>UU</th>\n",
       "      <td>6,152</td>\n",
       "      <td>5,165</td>\n",
       "      <td>5,718</td>\n",
       "    </tr>\n",
       "  </tbody>\n",
       "</table>\n",
       "</div>"
      ],
      "text/plain": [
       "source            Base  Scenario 1  Scenario 2\n",
       "hh_rg_proposed                                \n",
       "CitiesTowns     17,481      14,856      16,170\n",
       "Core           104,933      90,768      94,162\n",
       "HCT             72,153      62,123      64,640\n",
       "Metro          246,674     219,232     222,838\n",
       "Rural           14,735      12,318      13,577\n",
       "UU               6,152       5,165       5,718"
      ]
     },
     "execution_count": 8,
     "metadata": {},
     "output_type": "execute_result"
    },
    {
     "data": {
      "image/png": "[encoded data removed]",
      "text/plain": [
       "<Figure size 432x288 with 1 Axes>"
      ]
     },
     "metadata": {
      "needs_background": "light"
     },
     "output_type": "display_data"
    }
   ],
   "source": [
    "df = load_data('3_transit_trips.csv', geog)\n",
    "df = df.pivot_table(index='hh_rg_proposed', columns='source', aggfunc='sum', values='trexpfac')\n",
    "df.plot(kind='barh', alpha=0.6).invert_yaxis()\n",
    "df"
   ]
  },
  {
   "cell_type": "markdown",
   "metadata": {},
   "source": [
    "## Transit Commute Mode Share"
   ]
  },
  {
   "cell_type": "code",
   "execution_count": 9,
   "metadata": {
    "execution": {
     "iopub.execute_input": "2021-06-10T22:08:01.826660Z",
     "iopub.status.busy": "2021-06-10T22:08:01.826660Z",
     "iopub.status.idle": "2021-06-10T22:08:02.045358Z",
     "shell.execute_reply": "2021-06-10T22:08:02.045358Z"
    }
   },
   "outputs": [
    {
     "data": {
      "text/html": [
       "<div>\n",
       "<style scoped>\n",
       "    .dataframe tbody tr th:only-of-type {\n",
       "        vertical-align: middle;\n",
       "    }\n",
       "\n",
       "    .dataframe tbody tr th {\n",
       "        vertical-align: top;\n",
       "    }\n",
       "\n",
       "    .dataframe thead th {\n",
       "        text-align: right;\n",
       "    }\n",
       "</style>\n",
       "<table border=\"1\" class=\"dataframe\">\n",
       "  <thead>\n",
       "    <tr style=\"text-align: right;\">\n",
       "      <th>source</th>\n",
       "      <th>Base</th>\n",
       "      <th>Scenario 1</th>\n",
       "      <th>Scenario 2</th>\n",
       "    </tr>\n",
       "    <tr>\n",
       "      <th>hh_rg_proposed</th>\n",
       "      <th></th>\n",
       "      <th></th>\n",
       "      <th></th>\n",
       "    </tr>\n",
       "  </thead>\n",
       "  <tbody>\n",
       "    <tr>\n",
       "      <th>CitiesTowns</th>\n",
       "      <td>3.7%</td>\n",
       "      <td>3.0%</td>\n",
       "      <td>3.4%</td>\n",
       "    </tr>\n",
       "    <tr>\n",
       "      <th>Core</th>\n",
       "      <td>6.4%</td>\n",
       "      <td>5.1%</td>\n",
       "      <td>5.6%</td>\n",
       "    </tr>\n",
       "    <tr>\n",
       "      <th>HCT</th>\n",
       "      <td>5.0%</td>\n",
       "      <td>4.1%</td>\n",
       "      <td>4.4%</td>\n",
       "    </tr>\n",
       "    <tr>\n",
       "      <th>Metro</th>\n",
       "      <td>7.9%</td>\n",
       "      <td>6.5%</td>\n",
       "      <td>7.2%</td>\n",
       "    </tr>\n",
       "    <tr>\n",
       "      <th>Rural</th>\n",
       "      <td>2.5%</td>\n",
       "      <td>2.1%</td>\n",
       "      <td>2.4%</td>\n",
       "    </tr>\n",
       "    <tr>\n",
       "      <th>UU</th>\n",
       "      <td>3.0%</td>\n",
       "      <td>2.4%</td>\n",
       "      <td>2.8%</td>\n",
       "    </tr>\n",
       "  </tbody>\n",
       "</table>\n",
       "</div>"
      ],
      "text/plain": [
       "source          Base  Scenario 1  Scenario 2\n",
       "hh_rg_proposed                              \n",
       "CitiesTowns     3.7%        3.0%        3.4%\n",
       "Core            6.4%        5.1%        5.6%\n",
       "HCT             5.0%        4.1%        4.4%\n",
       "Metro           7.9%        6.5%        7.2%\n",
       "Rural           2.5%        2.1%        2.4%\n",
       "UU              3.0%        2.4%        2.8%"
      ]
     },
     "execution_count": 9,
     "metadata": {},
     "output_type": "execute_result"
    },
    {
     "data": {
      "image/png": "[encoded data removed]",
      "text/plain": [
       "<Figure size 432x288 with 1 Axes>"
      ]
     },
     "metadata": {
      "needs_background": "light"
     },
     "output_type": "display_data"
    }
   ],
   "source": [
    "pd.options.display.float_format = '{:0,.1%}'.format\n",
    "df = load_data('4_transit_commute_share.csv', geog)\n",
    "df = df.pivot_table(index='hh_rg_proposed', columns='source', aggfunc='sum', values='mode_share')\n",
    "df.plot(kind='barh', alpha=0.6).invert_yaxis()\n",
    "df"
   ]
  },
  {
   "cell_type": "markdown",
   "metadata": {},
   "source": [
    "# VMT"
   ]
  },
  {
   "cell_type": "code",
   "execution_count": 10,
   "metadata": {
    "execution": {
     "iopub.execute_input": "2021-06-10T22:08:02.045358Z",
     "iopub.status.busy": "2021-06-10T22:08:02.045358Z",
     "iopub.status.idle": "2021-06-10T22:08:02.248732Z",
     "shell.execute_reply": "2021-06-10T22:08:02.248732Z"
    }
   },
   "outputs": [
    {
     "data": {
      "text/html": [
       "<div>\n",
       "<style scoped>\n",
       "    .dataframe tbody tr th:only-of-type {\n",
       "        vertical-align: middle;\n",
       "    }\n",
       "\n",
       "    .dataframe tbody tr th {\n",
       "        vertical-align: top;\n",
       "    }\n",
       "\n",
       "    .dataframe thead th {\n",
       "        text-align: right;\n",
       "    }\n",
       "</style>\n",
       "<table border=\"1\" class=\"dataframe\">\n",
       "  <thead>\n",
       "    <tr style=\"text-align: right;\">\n",
       "      <th>source</th>\n",
       "      <th>Base</th>\n",
       "      <th>Scenario 1</th>\n",
       "      <th>Scenario 2</th>\n",
       "    </tr>\n",
       "    <tr>\n",
       "      <th>hh_rg_proposed</th>\n",
       "      <th></th>\n",
       "      <th></th>\n",
       "      <th></th>\n",
       "    </tr>\n",
       "  </thead>\n",
       "  <tbody>\n",
       "    <tr>\n",
       "      <th>Core</th>\n",
       "      <td>601,705</td>\n",
       "      <td>548,555</td>\n",
       "      <td>533,528</td>\n",
       "    </tr>\n",
       "    <tr>\n",
       "      <th>HCT</th>\n",
       "      <td>28,372</td>\n",
       "      <td>26,386</td>\n",
       "      <td>26,092</td>\n",
       "    </tr>\n",
       "    <tr>\n",
       "      <th>Metro</th>\n",
       "      <td>970,678</td>\n",
       "      <td>849,573</td>\n",
       "      <td>830,945</td>\n",
       "    </tr>\n",
       "    <tr>\n",
       "      <th>UU</th>\n",
       "      <td>11,582</td>\n",
       "      <td>10,883</td>\n",
       "      <td>10,836</td>\n",
       "    </tr>\n",
       "    <tr>\n",
       "      <th>Total</th>\n",
       "      <td>1,612,337</td>\n",
       "      <td>1,435,397</td>\n",
       "      <td>1,401,401</td>\n",
       "    </tr>\n",
       "  </tbody>\n",
       "</table>\n",
       "</div>"
      ],
      "text/plain": [
       "source              Base  Scenario 1  Scenario 2\n",
       "hh_rg_proposed                                  \n",
       "Core             601,705     548,555     533,528\n",
       "HCT               28,372      26,386      26,092\n",
       "Metro            970,678     849,573     830,945\n",
       "UU                11,582      10,883      10,836\n",
       "Total          1,612,337   1,435,397   1,401,401"
      ]
     },
     "execution_count": 10,
     "metadata": {},
     "output_type": "execute_result"
    },
    {
     "data": {
      "image/png": "[encoded data removed]",
      "text/plain": [
       "<Figure size 432x288 with 1 Axes>"
      ]
     },
     "metadata": {
      "needs_background": "light"
     },
     "output_type": "display_data"
    }
   ],
   "source": [
    "pd.options.display.float_format = '{:0,.0f}'.format\n",
    "df = load_data('5_vmt.csv', geog)\n",
    "df = df.pivot_table(index='hh_rg_proposed', columns='source', aggfunc='sum', values='VMT')\n",
    "df.plot(kind='barh', alpha=0.6).invert_yaxis()\n",
    "df.loc['Total'] = df.sum(axis=0)\n",
    "df"
   ]
  },
  {
   "cell_type": "markdown",
   "metadata": {},
   "source": [
    "# Delay"
   ]
  },
  {
   "cell_type": "code",
   "execution_count": null,
   "metadata": {},
   "outputs": [],
   "source": []
  }
 ],
 "metadata": {
  "kernelspec": {
   "display_name": "Python 3",
   "language": "python",
   "name": "python3"
  },
  "language_info": {
   "codemirror_mode": {
    "name": "ipython",
    "version": 3
   },
   "file_extension": ".py",
   "mimetype": "text/x-python",
   "name": "python",
   "nbconvert_exporter": "python",
   "pygments_lexer": "ipython3",
   "version": "3.7.10"
  }
 },
 "nbformat": 4,
 "nbformat_minor": 4
}
