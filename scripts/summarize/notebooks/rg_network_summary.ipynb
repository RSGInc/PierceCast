{
 "cells": [
  {
   "cell_type": "code",
   "execution_count": 1,
   "metadata": {
    "execution": {
     "iopub.execute_input": "2021-06-10T22:01:49.764427Z",
     "iopub.status.busy": "2021-06-10T22:01:49.764427Z",
     "iopub.status.idle": "2021-06-10T22:01:51.766839Z",
     "shell.execute_reply": "2021-06-10T22:01:51.766839Z"
    }
   },
   "outputs": [],
   "source": [
    "import pandas as pd\n",
    "import sqlalchemy\n",
    "import geopandas as gpd\n",
    "import seaborn as sns\n",
    "from shapely import wkt\n",
    "from itertools import cycle, islice"
   ]
  },
  {
   "cell_type": "code",
   "execution_count": 2,
   "metadata": {
    "execution": {
     "iopub.execute_input": "2021-06-10T22:01:51.766839Z",
     "iopub.status.busy": "2021-06-10T22:01:51.766839Z",
     "iopub.status.idle": "2021-06-10T22:01:58.052813Z",
     "shell.execute_reply": "2021-06-10T22:01:58.052813Z"
    }
   },
   "outputs": [],
   "source": [
    "df = pd.read_csv(r'..\\..\\..\\outputs\\network\\network_results.csv')\n",
    "\n",
    "# Congested network components by time of day\n",
    "df.columns\n",
    "\n",
    "# Get freeflow from 20to5 period\n",
    "\n",
    "# Exclude trips taken on non-designated facilities (facility_type == 0)\n",
    "# These are artificial (weave lanes to connect HOV) or for non-auto uses \n",
    "df = df[df['data3'] != 0]    # data3 represents facility_type\n",
    "\n",
    "# calculate total link VMT and VHT\n",
    "df['VMT'] = df['@tveh']*df['length']\n",
    "df['VHT'] = df['@tveh']*df['auto_time']/60\n",
    "\n",
    "# Define facility type\n",
    "df.loc[df['data3'].isin([1,2]), 'facility_type'] = 'highway'\n",
    "df.loc[df['data3'].isin([3,4,6]), 'facility_type'] = 'arterial'\n",
    "df.loc[df['data3'].isin([5]), 'facility_type'] = 'connector'\n",
    "\n",
    "# Calculate delay\n",
    "# Select links from overnight time of day\n",
    "delay_df = df.loc[df['tod'] == '20to5'][['ij','auto_time']]\n",
    "delay_df.rename(columns={'auto_time':'freeflow_time'}, inplace=True)\n",
    "\n",
    "# Merge delay field back onto network link df\n",
    "df = pd.merge(df, delay_df, on='ij', how='left')\n",
    "\n",
    "# Calcualte hourly delay\n",
    "df['total_delay'] = ((df['auto_time']-df['freeflow_time'])*df['@tveh'])/60    # sum of (volume)*(travtime diff from freeflow)\n",
    "\n",
    "# Calcualte speed as a percent of freeflow\n",
    "df['flow_index'] = df['auto_time']/df['freeflow_time']\n",
    "\n",
    "df['county'] =df['@countyid'].map({33: 'King',\n",
    "                                      35: 'Kitsap',\n",
    "                                      53: 'Pierce',\n",
    "                                      61: 'Snohomish'})\n",
    "\n",
    "df['speed'] = df['length']/df['auto_time']*60\n",
    "df['congestion_index'] = df['speed']/df['data2']\n",
    "df['congestion_index'] = df['congestion_index'].clip(0,1)\n",
    "df['congestion_category'] = pd.cut(df['congestion_index'], bins=[0,.25,.5,.7,1], labels=['Severe','Heavy','Moderate','Light'])"
   ]
  },
  {
   "cell_type": "code",
   "execution_count": 3,
   "metadata": {
    "execution": {
     "iopub.execute_input": "2021-06-10T22:01:58.052813Z",
     "iopub.status.busy": "2021-06-10T22:01:58.052813Z",
     "iopub.status.idle": "2021-06-10T22:01:58.068435Z",
     "shell.execute_reply": "2021-06-10T22:01:58.068435Z"
    }
   },
   "outputs": [],
   "source": [
    "def read_from_sde(connection_string, feature_class_name, version,\n",
    "                  crs={'init': 'epsg:2285'}, is_table = False):\n",
    "    \"\"\"\n",
    "    Returns the specified feature class as a geodataframe from ElmerGeo.\n",
    "    \n",
    "    Parameters\n",
    "    ----------\n",
    "    connection_string : SQL connection string that is read by geopandas \n",
    "                        read_sql function\n",
    "    \n",
    "    feature_class_name: the name of the featureclass in PSRC's ElmerGeo \n",
    "                        Geodatabase\n",
    "    \n",
    "    cs: cordinate system\n",
    "    \"\"\"\n",
    "\n",
    "\n",
    "    engine = sqlalchemy.create_engine(connection_string)\n",
    "    con=engine.connect()\n",
    "    #con.execute(\"sde.set_current_version {0}\".format(version))\n",
    "    if is_table:\n",
    "        gdf=pd.read_sql('select * from %s' % \n",
    "                   (feature_class_name), con=con)\n",
    "        con.close()\n",
    "\n",
    "    else:\n",
    "        df=pd.read_sql('select *, Shape.STAsText() as geometry from %s' % \n",
    "                   (feature_class_name), con=con)\n",
    "        con.close()\n",
    "\n",
    "        df['geometry'] = df['geometry'].apply(wkt.loads)\n",
    "        gdf=gpd.GeoDataFrame(df, geometry='geometry')\n",
    "        gdf.crs = crs\n",
    "        cols = [col for col in gdf.columns if col not in \n",
    "                ['Shape', 'GDB_GEOMATTR_DATA', 'SDE_STATE_ID']]\n",
    "        gdf = gdf[cols]\n",
    "    \n",
    "    return gdf\n"
   ]
  },
  {
   "cell_type": "code",
   "execution_count": 4,
   "metadata": {
    "execution": {
     "iopub.execute_input": "2021-06-10T22:01:58.068435Z",
     "iopub.status.busy": "2021-06-10T22:01:58.068435Z",
     "iopub.status.idle": "2021-06-10T22:01:58.084054Z",
     "shell.execute_reply": "2021-06-10T22:01:58.084054Z"
    }
   },
   "outputs": [],
   "source": [
    "def format_df(df, col_list, col_name, index_list, index_name):\n",
    "    \n",
    "    # Re-order columns\n",
    "    df = df[col_list]\n",
    "    # Re-order index\n",
    "    df = df.reindex(index_list)\n",
    "    # Set visible column and index names\n",
    "    df.columns.name = col_name\n",
    "    df.index.name = index_name\n",
    "    \n",
    "    return df\n"
   ]
  },
  {
   "cell_type": "code",
   "execution_count": 5,
   "metadata": {
    "execution": {
     "iopub.execute_input": "2021-06-10T22:01:58.084054Z",
     "iopub.status.busy": "2021-06-10T22:01:58.084054Z",
     "iopub.status.idle": "2021-06-10T22:01:58.099677Z",
     "shell.execute_reply": "2021-06-10T22:01:58.099677Z"
    }
   },
   "outputs": [],
   "source": [
    "# set chart style\n",
    "sns.set_style(\"dark\")\n",
    "sns.set_context(\"notebook\", font_scale=1.5, \n",
    "                rc={\"lines.linewidth\": 1.5})\n",
    "colors = ['#91268F','#F05A28','#8CC63E','#00A7A0','#4C4C4C', '#BFE9E7']\n",
    "sns.set(font=\"Pragmatica Condensed Light\")"
   ]
  },
  {
   "cell_type": "code",
   "execution_count": 6,
   "metadata": {
    "execution": {
     "iopub.execute_input": "2021-06-10T22:01:58.115300Z",
     "iopub.status.busy": "2021-06-10T22:01:58.099677Z",
     "iopub.status.idle": "2021-06-10T22:07:48.712787Z",
     "shell.execute_reply": "2021-06-10T22:07:48.712787Z"
    }
   },
   "outputs": [
    {
     "name": "stderr",
     "output_type": "stream",
     "text": [
      "C:\\Users\\Modeller\\.conda\\envs\\model_py3\\lib\\site-packages\\pyproj\\crs\\crs.py:68: FutureWarning: '+init=<authority>:<code>' syntax is deprecated. '<authority>:<code>' is the preferred initialization method. When making the change, be mindful of axis order changes: https://pyproj4.github.io/pyproj/stable/gotchas.html#axis-order-changes-in-proj-6\n",
      "  return _prepare_from_string(\" \".join(pjargs))\n"
     ]
    }
   ],
   "source": [
    "# Load regional geographies layer to intersect with network shapefile\n",
    "connection_string = 'mssql+pyodbc://AWS-PROD-SQL\\Sockeye/ElmerGeo?driver=SQL Server?Trusted_Connection=yes'\n",
    "crs = {'init' : 'EPSG:2285'}\n",
    "version = \"'DBO.Default'\"\n",
    "gdf_shp = read_from_sde(connection_string, 'regional_geographies_preferred_alternative', version, crs=crs, is_table=False)\n",
    "\n",
    "# Intersect geography this with the network shapefile\n",
    "gdf_network = gpd.read_file(r'..\\..\\..\\inputs\\scenario\\networks\\shapefiles\\AM\\AM_edges.shp')\n",
    "gdf_intersect = gpd.overlay(gdf_network, gdf_shp, how=\"union\", keep_geom_type=False)\n",
    "\n",
    "# Will need to relaculate the lengths since some were split across the regional geographies\n",
    "gdf_intersect['new_length'] = gdf_intersect.geometry.length/5280.0\n",
    "\n",
    "### IMPORTANT\n",
    "# filter out the polygon results and only keep lines\n",
    "gdf_intersect = gdf_intersect[gdf_intersect.geometry.type.isin(['MultiLineString','LineString'])]"
   ]
  },
  {
   "cell_type": "code",
   "execution_count": 7,
   "metadata": {
    "execution": {
     "iopub.execute_input": "2021-06-10T22:07:48.728407Z",
     "iopub.status.busy": "2021-06-10T22:07:48.712787Z",
     "iopub.status.idle": "2021-06-10T22:07:50.103089Z",
     "shell.execute_reply": "2021-06-10T22:07:50.103089Z"
    }
   },
   "outputs": [],
   "source": [
    "df = df[['@tveh','congestion_category','i_node','j_node','length','tod']].merge(gdf_intersect, \n",
    "                                                             left_on=['i_node','j_node'],\n",
    "                                                            right_on=['i','j'],\n",
    "                                                                  how='left')\n",
    "df['VMT'] = df['new_length']*df['@tveh']"
   ]
  },
  {
   "cell_type": "markdown",
   "metadata": {},
   "source": [
    "# Congestion by Regional Geography\n",
    "### Total VMT & Percent of VMT by Congestion Level\n",
    "\n",
    "- **Severe: < 25% Speed Limit** (e.g., less than 15 mph on a road with speed limit of 60 mph)\n",
    "- **Heavy: 25-50% Speed Limit** (e.g., 15-30 mph on a road with speed limit of 60 mph)\n",
    "- **Moderate: 50-70% Speed Limit** (e.g, 30-42 mph on a road with speed limit of 60 mph)\n",
    "\n",
    "#### All Day"
   ]
  },
  {
   "cell_type": "code",
   "execution_count": 8,
   "metadata": {
    "execution": {
     "iopub.execute_input": "2021-06-10T22:07:50.103089Z",
     "iopub.status.busy": "2021-06-10T22:07:50.103089Z",
     "iopub.status.idle": "2021-06-10T22:07:50.118709Z",
     "shell.execute_reply": "2021-06-10T22:07:50.118709Z"
    }
   },
   "outputs": [],
   "source": [
    "rg_list = ['Metro', 'Core', 'HCT', 'CitiesTowns', 'UU', 'Rural']"
   ]
  },
  {
   "cell_type": "code",
   "execution_count": 9,
   "metadata": {
    "execution": {
     "iopub.execute_input": "2021-06-10T22:07:50.118709Z",
     "iopub.status.busy": "2021-06-10T22:07:50.118709Z",
     "iopub.status.idle": "2021-06-10T22:07:50.446758Z",
     "shell.execute_reply": "2021-06-10T22:07:50.446758Z"
    }
   },
   "outputs": [
    {
     "data": {
      "text/html": [
       "<div>\n",
       "<style scoped>\n",
       "    .dataframe tbody tr th:only-of-type {\n",
       "        vertical-align: middle;\n",
       "    }\n",
       "\n",
       "    .dataframe tbody tr th {\n",
       "        vertical-align: top;\n",
       "    }\n",
       "\n",
       "    .dataframe thead th {\n",
       "        text-align: right;\n",
       "    }\n",
       "</style>\n",
       "<table border=\"1\" class=\"dataframe\">\n",
       "  <thead>\n",
       "    <tr style=\"text-align: right;\">\n",
       "      <th></th>\n",
       "      <th>Metro</th>\n",
       "      <th>Core</th>\n",
       "      <th>HCT</th>\n",
       "      <th>CitiesTowns</th>\n",
       "      <th>UU</th>\n",
       "      <th>Rural</th>\n",
       "    </tr>\n",
       "  </thead>\n",
       "  <tbody>\n",
       "    <tr>\n",
       "      <th>Light</th>\n",
       "      <td>16,791,828</td>\n",
       "      <td>17,905,199</td>\n",
       "      <td>11,162,687</td>\n",
       "      <td>3,872,506</td>\n",
       "      <td>3,015,577</td>\n",
       "      <td>14,335,181</td>\n",
       "    </tr>\n",
       "    <tr>\n",
       "      <th>Moderate</th>\n",
       "      <td>3,279,537</td>\n",
       "      <td>3,013,534</td>\n",
       "      <td>1,945,088</td>\n",
       "      <td>548,831</td>\n",
       "      <td>340,941</td>\n",
       "      <td>709,801</td>\n",
       "    </tr>\n",
       "    <tr>\n",
       "      <th>Heavy</th>\n",
       "      <td>1,908,408</td>\n",
       "      <td>1,918,332</td>\n",
       "      <td>1,163,642</td>\n",
       "      <td>208,786</td>\n",
       "      <td>235,006</td>\n",
       "      <td>387,087</td>\n",
       "    </tr>\n",
       "    <tr>\n",
       "      <th>Severe</th>\n",
       "      <td>262,559</td>\n",
       "      <td>210,059</td>\n",
       "      <td>103,868</td>\n",
       "      <td>20,500</td>\n",
       "      <td>11,968</td>\n",
       "      <td>91,426</td>\n",
       "    </tr>\n",
       "  </tbody>\n",
       "</table>\n",
       "</div>"
      ],
      "text/plain": [
       "              Metro       Core        HCT  CitiesTowns        UU      Rural\n",
       "Light    16,791,828 17,905,199 11,162,687    3,872,506 3,015,577 14,335,181\n",
       "Moderate  3,279,537  3,013,534  1,945,088      548,831   340,941    709,801\n",
       "Heavy     1,908,408  1,918,332  1,163,642      208,786   235,006    387,087\n",
       "Severe      262,559    210,059    103,868       20,500    11,968     91,426"
      ]
     },
     "execution_count": 9,
     "metadata": {},
     "output_type": "execute_result"
    }
   ],
   "source": [
    "# Percent of VMT by congestion category\n",
    "pd.options.display.float_format = '{:0,.0f}'.format\n",
    "_df = df.pivot_table(index='congestion_category',columns='rg_propose_pa',\n",
    "               aggfunc='sum',values='VMT')\n",
    "_df = format_df(_df, rg_list, None, ['Light','Moderate','Heavy','Severe'], None)\n",
    "_df "
   ]
  },
  {
   "cell_type": "code",
   "execution_count": 10,
   "metadata": {
    "execution": {
     "iopub.execute_input": "2021-06-10T22:07:50.462380Z",
     "iopub.status.busy": "2021-06-10T22:07:50.462380Z",
     "iopub.status.idle": "2021-06-10T22:07:50.478003Z",
     "shell.execute_reply": "2021-06-10T22:07:50.478003Z"
    }
   },
   "outputs": [
    {
     "data": {
      "text/html": [
       "<div>\n",
       "<style scoped>\n",
       "    .dataframe tbody tr th:only-of-type {\n",
       "        vertical-align: middle;\n",
       "    }\n",
       "\n",
       "    .dataframe tbody tr th {\n",
       "        vertical-align: top;\n",
       "    }\n",
       "\n",
       "    .dataframe thead th {\n",
       "        text-align: right;\n",
       "    }\n",
       "</style>\n",
       "<table border=\"1\" class=\"dataframe\">\n",
       "  <thead>\n",
       "    <tr style=\"text-align: right;\">\n",
       "      <th></th>\n",
       "      <th>Metro</th>\n",
       "      <th>Core</th>\n",
       "      <th>HCT</th>\n",
       "      <th>CitiesTowns</th>\n",
       "      <th>UU</th>\n",
       "      <th>Rural</th>\n",
       "    </tr>\n",
       "  </thead>\n",
       "  <tbody>\n",
       "    <tr>\n",
       "      <th>Light</th>\n",
       "      <td>75.5%</td>\n",
       "      <td>77.7%</td>\n",
       "      <td>77.7%</td>\n",
       "      <td>83.3%</td>\n",
       "      <td>83.7%</td>\n",
       "      <td>92.3%</td>\n",
       "    </tr>\n",
       "    <tr>\n",
       "      <th>Moderate</th>\n",
       "      <td>14.7%</td>\n",
       "      <td>13.1%</td>\n",
       "      <td>13.5%</td>\n",
       "      <td>11.8%</td>\n",
       "      <td>9.5%</td>\n",
       "      <td>4.6%</td>\n",
       "    </tr>\n",
       "    <tr>\n",
       "      <th>Heavy</th>\n",
       "      <td>8.6%</td>\n",
       "      <td>8.3%</td>\n",
       "      <td>8.1%</td>\n",
       "      <td>4.5%</td>\n",
       "      <td>6.5%</td>\n",
       "      <td>2.5%</td>\n",
       "    </tr>\n",
       "    <tr>\n",
       "      <th>Severe</th>\n",
       "      <td>1.2%</td>\n",
       "      <td>0.9%</td>\n",
       "      <td>0.7%</td>\n",
       "      <td>0.4%</td>\n",
       "      <td>0.3%</td>\n",
       "      <td>0.6%</td>\n",
       "    </tr>\n",
       "  </tbody>\n",
       "</table>\n",
       "</div>"
      ],
      "text/plain": [
       "          Metro  Core   HCT  CitiesTowns    UU  Rural\n",
       "Light     75.5% 77.7% 77.7%        83.3% 83.7%  92.3%\n",
       "Moderate  14.7% 13.1% 13.5%        11.8%  9.5%   4.6%\n",
       "Heavy      8.6%  8.3%  8.1%         4.5%  6.5%   2.5%\n",
       "Severe     1.2%  0.9%  0.7%         0.4%  0.3%   0.6%"
      ]
     },
     "execution_count": 10,
     "metadata": {},
     "output_type": "execute_result"
    }
   ],
   "source": [
    "pd.options.display.float_format = '{:0,.1%}'.format\n",
    "_df = _df/_df.sum(axis=0)\n",
    "_df"
   ]
  },
  {
   "cell_type": "code",
   "execution_count": 11,
   "metadata": {
    "execution": {
     "iopub.execute_input": "2021-06-10T22:07:50.478003Z",
     "iopub.status.busy": "2021-06-10T22:07:50.478003Z",
     "iopub.status.idle": "2021-06-10T22:07:50.790428Z",
     "shell.execute_reply": "2021-06-10T22:07:50.790428Z"
    }
   },
   "outputs": [
    {
     "name": "stderr",
     "output_type": "stream",
     "text": [
      "findfont: Font family ['Pragmatica Condensed Light'] not found. Falling back to DejaVu Sans.\n"
     ]
    },
    {
     "data": {
      "image/png": "[encoded data removed]",
      "text/plain": [
       "<Figure size 720x576 with 1 Axes>"
      ]
     },
     "metadata": {},
     "output_type": "display_data"
    }
   ],
   "source": [
    "my_colors = list(islice(cycle(colors), None, len(_df)))\n",
    "ax = _df.plot(kind='barh', alpha=0.6, color=colors, figsize=(10,8))\n",
    "ax.invert_yaxis()\n",
    "ax.legend(loc='lower right');"
   ]
  },
  {
   "cell_type": "markdown",
   "metadata": {},
   "source": [
    "#### AM Peak (7 to 8 AM)"
   ]
  },
  {
   "cell_type": "code",
   "execution_count": 12,
   "metadata": {
    "execution": {
     "iopub.execute_input": "2021-06-10T22:07:50.852911Z",
     "iopub.status.busy": "2021-06-10T22:07:50.852911Z",
     "iopub.status.idle": "2021-06-10T22:07:51.009128Z",
     "shell.execute_reply": "2021-06-10T22:07:51.009128Z"
    }
   },
   "outputs": [
    {
     "data": {
      "text/html": [
       "<div>\n",
       "<style scoped>\n",
       "    .dataframe tbody tr th:only-of-type {\n",
       "        vertical-align: middle;\n",
       "    }\n",
       "\n",
       "    .dataframe tbody tr th {\n",
       "        vertical-align: top;\n",
       "    }\n",
       "\n",
       "    .dataframe thead th {\n",
       "        text-align: right;\n",
       "    }\n",
       "</style>\n",
       "<table border=\"1\" class=\"dataframe\">\n",
       "  <thead>\n",
       "    <tr style=\"text-align: right;\">\n",
       "      <th></th>\n",
       "      <th>Metro</th>\n",
       "      <th>Core</th>\n",
       "      <th>HCT</th>\n",
       "      <th>CitiesTowns</th>\n",
       "      <th>UU</th>\n",
       "      <th>Rural</th>\n",
       "    </tr>\n",
       "  </thead>\n",
       "  <tbody>\n",
       "    <tr>\n",
       "      <th>Light</th>\n",
       "      <td>16,791,828</td>\n",
       "      <td>17,905,199</td>\n",
       "      <td>11,162,687</td>\n",
       "      <td>3,872,506</td>\n",
       "      <td>3,015,577</td>\n",
       "      <td>14,335,181</td>\n",
       "    </tr>\n",
       "    <tr>\n",
       "      <th>Moderate</th>\n",
       "      <td>3,279,537</td>\n",
       "      <td>3,013,534</td>\n",
       "      <td>1,945,088</td>\n",
       "      <td>548,831</td>\n",
       "      <td>340,941</td>\n",
       "      <td>709,801</td>\n",
       "    </tr>\n",
       "    <tr>\n",
       "      <th>Heavy</th>\n",
       "      <td>1,908,408</td>\n",
       "      <td>1,918,332</td>\n",
       "      <td>1,163,642</td>\n",
       "      <td>208,786</td>\n",
       "      <td>235,006</td>\n",
       "      <td>387,087</td>\n",
       "    </tr>\n",
       "    <tr>\n",
       "      <th>Severe</th>\n",
       "      <td>262,559</td>\n",
       "      <td>210,059</td>\n",
       "      <td>103,868</td>\n",
       "      <td>20,500</td>\n",
       "      <td>11,968</td>\n",
       "      <td>91,426</td>\n",
       "    </tr>\n",
       "  </tbody>\n",
       "</table>\n",
       "</div>"
      ],
      "text/plain": [
       "              Metro       Core        HCT  CitiesTowns        UU      Rural\n",
       "Light    16,791,828 17,905,199 11,162,687    3,872,506 3,015,577 14,335,181\n",
       "Moderate  3,279,537  3,013,534  1,945,088      548,831   340,941    709,801\n",
       "Heavy     1,908,408  1,918,332  1,163,642      208,786   235,006    387,087\n",
       "Severe      262,559    210,059    103,868       20,500    11,968     91,426"
      ]
     },
     "execution_count": 12,
     "metadata": {},
     "output_type": "execute_result"
    }
   ],
   "source": [
    "pd.options.display.float_format = '{:0,.0f}'.format\n",
    "df_am = df[df['tod'] == '7to8']\n",
    "_df = df.pivot_table(index='congestion_category',columns='rg_propose_pa',\n",
    "               aggfunc='sum',values='VMT')\n",
    "_df = format_df(_df, rg_list, None, ['Light','Moderate','Heavy','Severe'], None)\n",
    "_df "
   ]
  },
  {
   "cell_type": "code",
   "execution_count": 13,
   "metadata": {
    "execution": {
     "iopub.execute_input": "2021-06-10T22:07:51.024677Z",
     "iopub.status.busy": "2021-06-10T22:07:51.024677Z",
     "iopub.status.idle": "2021-06-10T22:07:51.040369Z",
     "shell.execute_reply": "2021-06-10T22:07:51.040369Z"
    }
   },
   "outputs": [
    {
     "data": {
      "text/html": [
       "<div>\n",
       "<style scoped>\n",
       "    .dataframe tbody tr th:only-of-type {\n",
       "        vertical-align: middle;\n",
       "    }\n",
       "\n",
       "    .dataframe tbody tr th {\n",
       "        vertical-align: top;\n",
       "    }\n",
       "\n",
       "    .dataframe thead th {\n",
       "        text-align: right;\n",
       "    }\n",
       "</style>\n",
       "<table border=\"1\" class=\"dataframe\">\n",
       "  <thead>\n",
       "    <tr style=\"text-align: right;\">\n",
       "      <th></th>\n",
       "      <th>Metro</th>\n",
       "      <th>Core</th>\n",
       "      <th>HCT</th>\n",
       "      <th>CitiesTowns</th>\n",
       "      <th>UU</th>\n",
       "      <th>Rural</th>\n",
       "    </tr>\n",
       "  </thead>\n",
       "  <tbody>\n",
       "    <tr>\n",
       "      <th>Light</th>\n",
       "      <td>75.5%</td>\n",
       "      <td>77.7%</td>\n",
       "      <td>77.7%</td>\n",
       "      <td>83.3%</td>\n",
       "      <td>83.7%</td>\n",
       "      <td>92.3%</td>\n",
       "    </tr>\n",
       "    <tr>\n",
       "      <th>Moderate</th>\n",
       "      <td>14.7%</td>\n",
       "      <td>13.1%</td>\n",
       "      <td>13.5%</td>\n",
       "      <td>11.8%</td>\n",
       "      <td>9.5%</td>\n",
       "      <td>4.6%</td>\n",
       "    </tr>\n",
       "    <tr>\n",
       "      <th>Heavy</th>\n",
       "      <td>8.6%</td>\n",
       "      <td>8.3%</td>\n",
       "      <td>8.1%</td>\n",
       "      <td>4.5%</td>\n",
       "      <td>6.5%</td>\n",
       "      <td>2.5%</td>\n",
       "    </tr>\n",
       "    <tr>\n",
       "      <th>Severe</th>\n",
       "      <td>1.2%</td>\n",
       "      <td>0.9%</td>\n",
       "      <td>0.7%</td>\n",
       "      <td>0.4%</td>\n",
       "      <td>0.3%</td>\n",
       "      <td>0.6%</td>\n",
       "    </tr>\n",
       "  </tbody>\n",
       "</table>\n",
       "</div>"
      ],
      "text/plain": [
       "          Metro  Core   HCT  CitiesTowns    UU  Rural\n",
       "Light     75.5% 77.7% 77.7%        83.3% 83.7%  92.3%\n",
       "Moderate  14.7% 13.1% 13.5%        11.8%  9.5%   4.6%\n",
       "Heavy      8.6%  8.3%  8.1%         4.5%  6.5%   2.5%\n",
       "Severe     1.2%  0.9%  0.7%         0.4%  0.3%   0.6%"
      ]
     },
     "execution_count": 13,
     "metadata": {},
     "output_type": "execute_result"
    }
   ],
   "source": [
    "pd.options.display.float_format = '{:0,.1%}'.format\n",
    "_df = _df/_df.sum(axis=0)\n",
    "_df"
   ]
  },
  {
   "cell_type": "code",
   "execution_count": 14,
   "metadata": {
    "execution": {
     "iopub.execute_input": "2021-06-10T22:07:51.071604Z",
     "iopub.status.busy": "2021-06-10T22:07:51.055918Z",
     "iopub.status.idle": "2021-06-10T22:07:51.274686Z",
     "shell.execute_reply": "2021-06-10T22:07:51.274686Z"
    }
   },
   "outputs": [
    {
     "data": {
      "image/png": "[encoded data removed]",
      "text/plain": [
       "<Figure size 720x576 with 1 Axes>"
      ]
     },
     "metadata": {},
     "output_type": "display_data"
    }
   ],
   "source": [
    "my_colors = list(islice(cycle(colors), None, len(_df)))\n",
    "ax = _df.plot(kind='barh', alpha=0.6, color=colors, figsize=(10,8))\n",
    "ax.invert_yaxis()\n",
    "ax.legend(loc='lower right');"
   ]
  },
  {
   "cell_type": "markdown",
   "metadata": {},
   "source": [
    "#### PM Peak (5 to 6 PM)"
   ]
  },
  {
   "cell_type": "code",
   "execution_count": 15,
   "metadata": {
    "execution": {
     "iopub.execute_input": "2021-06-10T22:07:51.321551Z",
     "iopub.status.busy": "2021-06-10T22:07:51.321551Z",
     "iopub.status.idle": "2021-06-10T22:07:51.493387Z",
     "shell.execute_reply": "2021-06-10T22:07:51.493387Z"
    }
   },
   "outputs": [
    {
     "data": {
      "text/html": [
       "<div>\n",
       "<style scoped>\n",
       "    .dataframe tbody tr th:only-of-type {\n",
       "        vertical-align: middle;\n",
       "    }\n",
       "\n",
       "    .dataframe tbody tr th {\n",
       "        vertical-align: top;\n",
       "    }\n",
       "\n",
       "    .dataframe thead th {\n",
       "        text-align: right;\n",
       "    }\n",
       "</style>\n",
       "<table border=\"1\" class=\"dataframe\">\n",
       "  <thead>\n",
       "    <tr style=\"text-align: right;\">\n",
       "      <th></th>\n",
       "      <th>Metro</th>\n",
       "      <th>Core</th>\n",
       "      <th>HCT</th>\n",
       "      <th>CitiesTowns</th>\n",
       "      <th>UU</th>\n",
       "      <th>Rural</th>\n",
       "    </tr>\n",
       "  </thead>\n",
       "  <tbody>\n",
       "    <tr>\n",
       "      <th>Light</th>\n",
       "      <td>16,791,828</td>\n",
       "      <td>17,905,199</td>\n",
       "      <td>11,162,687</td>\n",
       "      <td>3,872,506</td>\n",
       "      <td>3,015,577</td>\n",
       "      <td>14,335,181</td>\n",
       "    </tr>\n",
       "    <tr>\n",
       "      <th>Moderate</th>\n",
       "      <td>3,279,537</td>\n",
       "      <td>3,013,534</td>\n",
       "      <td>1,945,088</td>\n",
       "      <td>548,831</td>\n",
       "      <td>340,941</td>\n",
       "      <td>709,801</td>\n",
       "    </tr>\n",
       "    <tr>\n",
       "      <th>Heavy</th>\n",
       "      <td>1,908,408</td>\n",
       "      <td>1,918,332</td>\n",
       "      <td>1,163,642</td>\n",
       "      <td>208,786</td>\n",
       "      <td>235,006</td>\n",
       "      <td>387,087</td>\n",
       "    </tr>\n",
       "    <tr>\n",
       "      <th>Severe</th>\n",
       "      <td>262,559</td>\n",
       "      <td>210,059</td>\n",
       "      <td>103,868</td>\n",
       "      <td>20,500</td>\n",
       "      <td>11,968</td>\n",
       "      <td>91,426</td>\n",
       "    </tr>\n",
       "  </tbody>\n",
       "</table>\n",
       "</div>"
      ],
      "text/plain": [
       "              Metro       Core        HCT  CitiesTowns        UU      Rural\n",
       "Light    16,791,828 17,905,199 11,162,687    3,872,506 3,015,577 14,335,181\n",
       "Moderate  3,279,537  3,013,534  1,945,088      548,831   340,941    709,801\n",
       "Heavy     1,908,408  1,918,332  1,163,642      208,786   235,006    387,087\n",
       "Severe      262,559    210,059    103,868       20,500    11,968     91,426"
      ]
     },
     "execution_count": 15,
     "metadata": {},
     "output_type": "execute_result"
    }
   ],
   "source": [
    "pd.options.display.float_format = '{:0,.0f}'.format\n",
    "df_am = df[df['tod'] == '17to18']\n",
    "_df = df.pivot_table(index='congestion_category',columns='rg_propose_pa',\n",
    "               aggfunc='sum',values='VMT')\n",
    "_df = format_df(_df, rg_list, None, ['Light','Moderate','Heavy','Severe'], None)\n",
    "_df "
   ]
  },
  {
   "cell_type": "code",
   "execution_count": 16,
   "metadata": {
    "execution": {
     "iopub.execute_input": "2021-06-10T22:07:51.508938Z",
     "iopub.status.busy": "2021-06-10T22:07:51.508938Z",
     "iopub.status.idle": "2021-06-10T22:07:51.524631Z",
     "shell.execute_reply": "2021-06-10T22:07:51.524631Z"
    }
   },
   "outputs": [
    {
     "data": {
      "text/html": [
       "<div>\n",
       "<style scoped>\n",
       "    .dataframe tbody tr th:only-of-type {\n",
       "        vertical-align: middle;\n",
       "    }\n",
       "\n",
       "    .dataframe tbody tr th {\n",
       "        vertical-align: top;\n",
       "    }\n",
       "\n",
       "    .dataframe thead th {\n",
       "        text-align: right;\n",
       "    }\n",
       "</style>\n",
       "<table border=\"1\" class=\"dataframe\">\n",
       "  <thead>\n",
       "    <tr style=\"text-align: right;\">\n",
       "      <th></th>\n",
       "      <th>Metro</th>\n",
       "      <th>Core</th>\n",
       "      <th>HCT</th>\n",
       "      <th>CitiesTowns</th>\n",
       "      <th>UU</th>\n",
       "      <th>Rural</th>\n",
       "    </tr>\n",
       "  </thead>\n",
       "  <tbody>\n",
       "    <tr>\n",
       "      <th>Light</th>\n",
       "      <td>75.5%</td>\n",
       "      <td>77.7%</td>\n",
       "      <td>77.7%</td>\n",
       "      <td>83.3%</td>\n",
       "      <td>83.7%</td>\n",
       "      <td>92.3%</td>\n",
       "    </tr>\n",
       "    <tr>\n",
       "      <th>Moderate</th>\n",
       "      <td>14.7%</td>\n",
       "      <td>13.1%</td>\n",
       "      <td>13.5%</td>\n",
       "      <td>11.8%</td>\n",
       "      <td>9.5%</td>\n",
       "      <td>4.6%</td>\n",
       "    </tr>\n",
       "    <tr>\n",
       "      <th>Heavy</th>\n",
       "      <td>8.6%</td>\n",
       "      <td>8.3%</td>\n",
       "      <td>8.1%</td>\n",
       "      <td>4.5%</td>\n",
       "      <td>6.5%</td>\n",
       "      <td>2.5%</td>\n",
       "    </tr>\n",
       "    <tr>\n",
       "      <th>Severe</th>\n",
       "      <td>1.2%</td>\n",
       "      <td>0.9%</td>\n",
       "      <td>0.7%</td>\n",
       "      <td>0.4%</td>\n",
       "      <td>0.3%</td>\n",
       "      <td>0.6%</td>\n",
       "    </tr>\n",
       "  </tbody>\n",
       "</table>\n",
       "</div>"
      ],
      "text/plain": [
       "          Metro  Core   HCT  CitiesTowns    UU  Rural\n",
       "Light     75.5% 77.7% 77.7%        83.3% 83.7%  92.3%\n",
       "Moderate  14.7% 13.1% 13.5%        11.8%  9.5%   4.6%\n",
       "Heavy      8.6%  8.3%  8.1%         4.5%  6.5%   2.5%\n",
       "Severe     1.2%  0.9%  0.7%         0.4%  0.3%   0.6%"
      ]
     },
     "execution_count": 16,
     "metadata": {},
     "output_type": "execute_result"
    }
   ],
   "source": [
    "pd.options.display.float_format = '{:0,.1%}'.format\n",
    "_df = _df/_df.sum(axis=0)\n",
    "_df"
   ]
  },
  {
   "cell_type": "code",
   "execution_count": 17,
   "metadata": {
    "execution": {
     "iopub.execute_input": "2021-06-10T22:07:51.555869Z",
     "iopub.status.busy": "2021-06-10T22:07:51.555869Z",
     "iopub.status.idle": "2021-06-10T22:07:51.761754Z",
     "shell.execute_reply": "2021-06-10T22:07:51.761754Z"
    }
   },
   "outputs": [
    {
     "data": {
      "image/png": "[encoded data removed]",
      "text/plain": [
       "<Figure size 720x576 with 1 Axes>"
      ]
     },
     "metadata": {},
     "output_type": "display_data"
    }
   ],
   "source": [
    "my_colors = list(islice(cycle(colors), None, len(_df)))\n",
    "ax = _df.plot(kind='barh', alpha=0.6, color=colors, figsize=(10,8))\n",
    "ax.invert_yaxis()\n",
    "ax.legend(loc='lower right');"
   ]
  }
 ],
 "metadata": {
  "kernelspec": {
   "display_name": "Python 3",
   "language": "python",
   "name": "python3"
  },
  "language_info": {
   "codemirror_mode": {
    "name": "ipython",
    "version": 3
   },
   "file_extension": ".py",
   "mimetype": "text/x-python",
   "name": "python",
   "nbconvert_exporter": "python",
   "pygments_lexer": "ipython3",
   "version": "3.7.10"
  }
 },
 "nbformat": 4,
 "nbformat_minor": 4
}
