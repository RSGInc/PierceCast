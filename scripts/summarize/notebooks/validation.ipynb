{
 "cells": [
  {
   "cell_type": "code",
   "execution_count": 1,
   "metadata": {},
   "outputs": [
    {
     "data": {
      "text/html": [
       "<script>\n",
       "code_show=true; \n",
       "function code_toggle() {\n",
       " if (code_show){\n",
       " $('div.input').hide();\n",
       " } else {\n",
       " $('div.input').show();\n",
       " }\n",
       " code_show = !code_show\n",
       "} \n",
       "$( document ).ready(code_toggle);\n",
       "</script>\n",
       "<form action=\"javascript:code_toggle()\"><input type=\"submit\" value=\"Click here to toggle on/off the raw code.\"></form>"
      ],
      "text/plain": [
       "<IPython.core.display.HTML object>"
      ]
     },
     "execution_count": 1,
     "metadata": {},
     "output_type": "execute_result"
    }
   ],
   "source": [
    "import os, time\n",
    "from scipy import stats\n",
    "import pandas as pd\n",
    "import numpy as np\n",
    "%matplotlib inline\n",
    "\n",
    "from IPython.display import display, HTML\n",
    "\n",
    "HTML('''<script>\n",
    "code_show=true; \n",
    "function code_toggle() {\n",
    " if (code_show){\n",
    " $('div.input').hide();\n",
    " } else {\n",
    " $('div.input').show();\n",
    " }\n",
    " code_show = !code_show\n",
    "} \n",
    "$( document ).ready(code_toggle);\n",
    "</script>\n",
    "<form action=\"javascript:code_toggle()\"><input type=\"submit\" value=\"Click here to toggle on/off the raw code.\"></form>''')"
   ]
  },
  {
   "cell_type": "code",
   "execution_count": 2,
   "metadata": {},
   "outputs": [
    {
     "name": "stdout",
     "output_type": "stream",
     "text": [
      "Summary run: Mon, 23 Mar 2020 15:18\n"
     ]
    }
   ],
   "source": [
    "# Create timestamp to show when this summary was run\n",
    "print 'Summary run: ' + time.strftime(\"%a, %d %b %Y %H:%M\")"
   ]
  },
  {
   "cell_type": "code",
   "execution_count": 3,
   "metadata": {},
   "outputs": [],
   "source": [
    "relative_path = '../../../outputs'\n",
    "pd.options.display.float_format = '{:0,.0f}'.format\n",
    "format_percent = \"{:,.2%}\".format"
   ]
  },
  {
   "cell_type": "markdown",
   "metadata": {},
   "source": [
    "# Traffic Counts\n",
    "----\n",
    "### By Facility Type"
   ]
  },
  {
   "cell_type": "code",
   "execution_count": 4,
   "metadata": {},
   "outputs": [],
   "source": [
    "df = pd.read_csv(os.path.join(relative_path,'validation','daily_volume.csv'))\n",
    "df[['modeled','observed']] = df[['modeled','observed']].astype('float')"
   ]
  },
  {
   "cell_type": "code",
   "execution_count": 5,
   "metadata": {},
   "outputs": [
    {
     "data": {
      "text/html": [
       "<div>\n",
       "<table border=\"1\" class=\"dataframe\">\n",
       "  <thead>\n",
       "    <tr style=\"text-align: right;\">\n",
       "      <th></th>\n",
       "      <th>observed</th>\n",
       "      <th>modeled</th>\n",
       "      <th>diff</th>\n",
       "      <th>percent_diff</th>\n",
       "    </tr>\n",
       "    <tr>\n",
       "      <th>@facilitytype</th>\n",
       "      <th></th>\n",
       "      <th></th>\n",
       "      <th></th>\n",
       "      <th></th>\n",
       "    </tr>\n",
       "  </thead>\n",
       "  <tbody>\n",
       "    <tr>\n",
       "      <th>Freeway</th>\n",
       "      <td>468,008,082</td>\n",
       "      <td>462,229,841</td>\n",
       "      <td>-5,778,241</td>\n",
       "      <td>-1.23%</td>\n",
       "    </tr>\n",
       "    <tr>\n",
       "      <th>HOV</th>\n",
       "      <td>1,194,523</td>\n",
       "      <td>1,174,030</td>\n",
       "      <td>-20,493</td>\n",
       "      <td>-1.72%</td>\n",
       "    </tr>\n",
       "    <tr>\n",
       "      <th>Principal Arterial</th>\n",
       "      <td>11,044,380</td>\n",
       "      <td>12,440,436</td>\n",
       "      <td>1,396,056</td>\n",
       "      <td>12.64%</td>\n",
       "    </tr>\n",
       "    <tr>\n",
       "      <th>Ramp</th>\n",
       "      <td>352,596</td>\n",
       "      <td>290,148</td>\n",
       "      <td>-62,448</td>\n",
       "      <td>-17.71%</td>\n",
       "    </tr>\n",
       "    <tr>\n",
       "      <th>Total</th>\n",
       "      <td>480,599,581</td>\n",
       "      <td>476,134,455</td>\n",
       "      <td>-4,465,126</td>\n",
       "      <td>-0.93%</td>\n",
       "    </tr>\n",
       "  </tbody>\n",
       "</table>\n",
       "</div>"
      ],
      "text/plain": [
       "                      observed     modeled       diff percent_diff\n",
       "@facilitytype                                                     \n",
       "Freeway            468,008,082 462,229,841 -5,778,241       -1.23%\n",
       "HOV                  1,194,523   1,174,030    -20,493       -1.72%\n",
       "Principal Arterial  11,044,380  12,440,436  1,396,056       12.64%\n",
       "Ramp                   352,596     290,148    -62,448      -17.71%\n",
       "Total              480,599,581 476,134,455 -4,465,126       -0.93%"
      ]
     },
     "execution_count": 5,
     "metadata": {},
     "output_type": "execute_result"
    }
   ],
   "source": [
    "_df = df.groupby('@facilitytype').sum()[['observed','modeled']]\n",
    "_df.loc['Total',:] = _df.sum().values\n",
    "_df['diff'] = _df['modeled']-_df['observed']\n",
    "_df['percent_diff'] = _df['diff']/_df['observed']\n",
    "_df[['percent_diff']] = _df[['percent_diff']].applymap(format_percent)\n",
    "_df"
   ]
  },
  {
   "cell_type": "markdown",
   "metadata": {},
   "source": [
    "----\n",
    "### By County"
   ]
  },
  {
   "cell_type": "code",
   "execution_count": 6,
   "metadata": {},
   "outputs": [
    {
     "data": {
      "text/html": [
       "<div>\n",
       "<table border=\"1\" class=\"dataframe\">\n",
       "  <thead>\n",
       "    <tr style=\"text-align: right;\">\n",
       "      <th></th>\n",
       "      <th>observed</th>\n",
       "      <th>modeled</th>\n",
       "      <th>diff</th>\n",
       "      <th>percent_diff</th>\n",
       "    </tr>\n",
       "    <tr>\n",
       "      <th>county</th>\n",
       "      <th></th>\n",
       "      <th></th>\n",
       "      <th></th>\n",
       "      <th></th>\n",
       "    </tr>\n",
       "  </thead>\n",
       "  <tbody>\n",
       "    <tr>\n",
       "      <th>King</th>\n",
       "      <td>338,145,881</td>\n",
       "      <td>331,792,742</td>\n",
       "      <td>-6,353,139</td>\n",
       "      <td>-1.88%</td>\n",
       "    </tr>\n",
       "    <tr>\n",
       "      <th>Pierce</th>\n",
       "      <td>76,929,900</td>\n",
       "      <td>79,218,828</td>\n",
       "      <td>2,288,928</td>\n",
       "      <td>2.98%</td>\n",
       "    </tr>\n",
       "    <tr>\n",
       "      <th>Snohomish</th>\n",
       "      <td>65,523,800</td>\n",
       "      <td>65,122,885</td>\n",
       "      <td>-400,915</td>\n",
       "      <td>-0.61%</td>\n",
       "    </tr>\n",
       "    <tr>\n",
       "      <th>Total</th>\n",
       "      <td>480,599,581</td>\n",
       "      <td>476,134,455</td>\n",
       "      <td>-4,465,126</td>\n",
       "      <td>-0.93%</td>\n",
       "    </tr>\n",
       "  </tbody>\n",
       "</table>\n",
       "</div>"
      ],
      "text/plain": [
       "             observed     modeled       diff percent_diff\n",
       "county                                                   \n",
       "King      338,145,881 331,792,742 -6,353,139       -1.88%\n",
       "Pierce     76,929,900  79,218,828  2,288,928        2.98%\n",
       "Snohomish  65,523,800  65,122,885   -400,915       -0.61%\n",
       "Total     480,599,581 476,134,455 -4,465,126       -0.93%"
      ]
     },
     "execution_count": 6,
     "metadata": {},
     "output_type": "execute_result"
    }
   ],
   "source": [
    "df = pd.read_csv(os.path.join(relative_path,'validation','daily_volume_county_facility.csv'))\n",
    "df[['modeled','observed']] = df[['modeled','observed']].astype('float')\n",
    "\n",
    "_df = df.groupby('county').sum()[['observed','modeled']]\n",
    "_df.loc['Total',:] = _df.sum().values\n",
    "_df['diff'] = _df['modeled']-_df['observed']\n",
    "_df['percent_diff'] = _df['diff']/_df['observed']\n",
    "_df[['percent_diff']] = _df[['percent_diff']].applymap(format_percent)\n",
    "_df"
   ]
  },
  {
   "cell_type": "markdown",
   "metadata": {},
   "source": [
    "----\n",
    "### Scatterplots "
   ]
  },
  {
   "cell_type": "code",
   "execution_count": 7,
   "metadata": {},
   "outputs": [
    {
     "data": {
      "text/plain": [
       "[<matplotlib.lines.Line2D at 0xbcc7e10>]"
      ]
     },
     "execution_count": 7,
     "metadata": {},
     "output_type": "execute_result"
    },
    {
     "data": {
      "image/png": "[encoded data removed]",
      "text/plain": [
       "<matplotlib.figure.Figure at 0xba44128>"
      ]
     },
     "metadata": {},
     "output_type": "display_data"
    }
   ],
   "source": [
    "df = pd.read_csv(os.path.join(relative_path,'validation','daily_volume.csv'))\n",
    "ax = df.plot(kind='scatter', x='observed', y='modeled')\n",
    "lim = df[['observed','modeled']].max().max()*1.05\n",
    "ax.set_ylim(0,lim)\n",
    "ax.set_xlim(0,lim)\n",
    "x = np.linspace(*ax.get_xlim())\n",
    "ax.plot(x, x)"
   ]
  },
  {
   "cell_type": "code",
   "execution_count": 8,
   "metadata": {},
   "outputs": [
    {
     "name": "stdout",
     "output_type": "stream",
     "text": [
      "r^2: 0.954472612867\n"
     ]
    }
   ],
   "source": [
    "slope, intercept, r_value, p_value, std_err = stats.linregress(df['observed'],df['modeled'])\n",
    "print 'r^2: ' + str(r_value)"
   ]
  },
  {
   "cell_type": "markdown",
   "metadata": {},
   "source": [
    "---\n",
    "By County"
   ]
  },
  {
   "cell_type": "code",
   "execution_count": 9,
   "metadata": {},
   "outputs": [
    {
     "name": "stdout",
     "output_type": "stream",
     "text": [
      "King r^2: 0.959731418927\n",
      "Pierce r^2: 0.824524586993\n",
      "Snohomish r^2: 0.985297447542\n"
     ]
    },
    {
     "data": {
      "image/png": "[encoded data removed]",
      "text/plain": [
       "<matplotlib.figure.Figure at 0xbd3ba58>"
      ]
     },
     "metadata": {},
     "output_type": "display_data"
    },
    {
     "data": {
      "image/png": "[encoded data removed]",
      "text/plain": [
       "<matplotlib.figure.Figure at 0xc232518>"
      ]
     },
     "metadata": {},
     "output_type": "display_data"
    },
    {
     "data": {
      "image/png": "[encoded data removed]",
      "text/plain": [
       "<matplotlib.figure.Figure at 0xc34e2e8>"
      ]
     },
     "metadata": {},
     "output_type": "display_data"
    }
   ],
   "source": [
    "for county in np.unique(df['county']):\n",
    "    _df = df[df['county'] == county]\n",
    "    ax = _df.plot(kind='scatter', x='observed', y='modeled', label=county)\n",
    "    lim = _df[['observed','modeled']].max().max()*1.05\n",
    "    ax.set_ylim(0,lim)\n",
    "    ax.set_xlim(0,lim)\n",
    "    slope, intercept, r_value, p_value, std_err = stats.linregress(_df['observed'],_df['modeled'])\n",
    "    x = np.linspace(*ax.get_xlim())\n",
    "    ax.plot(x, x)\n",
    "    print str(county) + ' r^2: ' + str(r_value)"
   ]
  },
  {
   "cell_type": "markdown",
   "metadata": {},
   "source": [
    "---\n",
    "By Facility Type"
   ]
  },
  {
   "cell_type": "code",
   "execution_count": 10,
   "metadata": {},
   "outputs": [
    {
     "name": "stdout",
     "output_type": "stream",
     "text": [
      "r^2 Freeway: 0.944198742175\n",
      "r^2 Principal Arterial: 0.92433685446\n"
     ]
    },
    {
     "data": {
      "image/png": "[encoded data removed]",
      "text/plain": [
       "<matplotlib.figure.Figure at 0xc610a90>"
      ]
     },
     "metadata": {},
     "output_type": "display_data"
    },
    {
     "data": {
      "image/png": "[encoded data removed]",
      "text/plain": [
       "<matplotlib.figure.Figure at 0x10342668>"
      ]
     },
     "metadata": {},
     "output_type": "display_data"
    }
   ],
   "source": [
    "for factype in ['Freeway','Principal Arterial']:\n",
    "    _df = df[df['@facilitytype'] == factype]\n",
    "    ax = _df.plot(kind='scatter', x='observed', y='modeled', label=factype)\n",
    "    lim = _df[['observed','modeled']].max().max()*1.05\n",
    "    ax.set_ylim(0,lim)\n",
    "    ax.set_xlim(0,lim)\n",
    "    x = np.linspace(*ax.get_xlim())\n",
    "    ax.plot(x, x)\n",
    "    slope, intercept, r_value, p_value, std_err = stats.linregress(_df['observed'],_df['modeled'])\n",
    "    print 'r^2 ' + str(factype) + ': ' + str(r_value)"
   ]
  },
  {
   "cell_type": "markdown",
   "metadata": {},
   "source": [
    "# Screenlines"
   ]
  },
  {
   "cell_type": "code",
   "execution_count": 11,
   "metadata": {},
   "outputs": [
    {
     "data": {
      "text/html": [
       "<div>\n",
       "<table border=\"1\" class=\"dataframe\">\n",
       "  <thead>\n",
       "    <tr style=\"text-align: right;\">\n",
       "      <th></th>\n",
       "      <th>name</th>\n",
       "      <th>observed</th>\n",
       "      <th>modeled</th>\n",
       "      <th>diff</th>\n",
       "      <th>percent_diff</th>\n",
       "    </tr>\n",
       "  </thead>\n",
       "  <tbody>\n",
       "    <tr>\n",
       "      <th>0</th>\n",
       "      <td>AUBURN - SOUTH KING</td>\n",
       "      <td>568,417</td>\n",
       "      <td>531,464</td>\n",
       "      <td>-36,953</td>\n",
       "      <td>-6.50%</td>\n",
       "    </tr>\n",
       "    <tr>\n",
       "      <th>1</th>\n",
       "      <td>KENT</td>\n",
       "      <td>550,322</td>\n",
       "      <td>491,767</td>\n",
       "      <td>-58,555</td>\n",
       "      <td>-10.64%</td>\n",
       "    </tr>\n",
       "    <tr>\n",
       "      <th>2</th>\n",
       "      <td>SEATTLE - SOUTH OF CBD</td>\n",
       "      <td>526,500</td>\n",
       "      <td>506,548</td>\n",
       "      <td>-19,952</td>\n",
       "      <td>-3.79%</td>\n",
       "    </tr>\n",
       "    <tr>\n",
       "      <th>3</th>\n",
       "      <td>SHIP CANAL</td>\n",
       "      <td>519,802</td>\n",
       "      <td>547,428</td>\n",
       "      <td>27,626</td>\n",
       "      <td>5.31%</td>\n",
       "    </tr>\n",
       "    <tr>\n",
       "      <th>4</th>\n",
       "      <td>KIRKLAND-REDMOND</td>\n",
       "      <td>414,120</td>\n",
       "      <td>390,021</td>\n",
       "      <td>-24,099</td>\n",
       "      <td>-5.82%</td>\n",
       "    </tr>\n",
       "    <tr>\n",
       "      <th>5</th>\n",
       "      <td>MILL CREEK</td>\n",
       "      <td>400,848</td>\n",
       "      <td>388,575</td>\n",
       "      <td>-12,273</td>\n",
       "      <td>-3.06%</td>\n",
       "    </tr>\n",
       "    <tr>\n",
       "      <th>6</th>\n",
       "      <td>SOUTH BELLEVUE</td>\n",
       "      <td>399,500</td>\n",
       "      <td>357,038</td>\n",
       "      <td>-42,462</td>\n",
       "      <td>-10.63%</td>\n",
       "    </tr>\n",
       "    <tr>\n",
       "      <th>7</th>\n",
       "      <td>SEATTLE - NORTH</td>\n",
       "      <td>372,000</td>\n",
       "      <td>373,832</td>\n",
       "      <td>1,832</td>\n",
       "      <td>0.49%</td>\n",
       "    </tr>\n",
       "    <tr>\n",
       "      <th>8</th>\n",
       "      <td>TACOMA - EAST OF CBD</td>\n",
       "      <td>312,164</td>\n",
       "      <td>321,680</td>\n",
       "      <td>9,516</td>\n",
       "      <td>3.05%</td>\n",
       "    </tr>\n",
       "    <tr>\n",
       "      <th>9</th>\n",
       "      <td>PARKLAND</td>\n",
       "      <td>304,322</td>\n",
       "      <td>265,321</td>\n",
       "      <td>-39,001</td>\n",
       "      <td>-12.82%</td>\n",
       "    </tr>\n",
       "    <tr>\n",
       "      <th>10</th>\n",
       "      <td>BOTHELL</td>\n",
       "      <td>293,729</td>\n",
       "      <td>302,355</td>\n",
       "      <td>8,626</td>\n",
       "      <td>2.94%</td>\n",
       "    </tr>\n",
       "    <tr>\n",
       "      <th>11</th>\n",
       "      <td>LYNNWOOD-BOTHELL</td>\n",
       "      <td>269,900</td>\n",
       "      <td>301,600</td>\n",
       "      <td>31,700</td>\n",
       "      <td>11.74%</td>\n",
       "    </tr>\n",
       "    <tr>\n",
       "      <th>12</th>\n",
       "      <td>TUKWILA</td>\n",
       "      <td>259,341</td>\n",
       "      <td>226,471</td>\n",
       "      <td>-32,870</td>\n",
       "      <td>-12.67%</td>\n",
       "    </tr>\n",
       "    <tr>\n",
       "      <th>13</th>\n",
       "      <td>TRANSLAKE</td>\n",
       "      <td>252,300</td>\n",
       "      <td>265,292</td>\n",
       "      <td>12,992</td>\n",
       "      <td>5.15%</td>\n",
       "    </tr>\n",
       "    <tr>\n",
       "      <th>14</th>\n",
       "      <td>PUYALLUP</td>\n",
       "      <td>135,600</td>\n",
       "      <td>123,303</td>\n",
       "      <td>-12,297</td>\n",
       "      <td>-9.07%</td>\n",
       "    </tr>\n",
       "    <tr>\n",
       "      <th>15</th>\n",
       "      <td>WOODINVILLE</td>\n",
       "      <td>110,168</td>\n",
       "      <td>136,581</td>\n",
       "      <td>26,413</td>\n",
       "      <td>23.98%</td>\n",
       "    </tr>\n",
       "    <tr>\n",
       "      <th>16</th>\n",
       "      <td>NORTH KITSAP</td>\n",
       "      <td>109,890</td>\n",
       "      <td>82,246</td>\n",
       "      <td>-27,644</td>\n",
       "      <td>-25.16%</td>\n",
       "    </tr>\n",
       "    <tr>\n",
       "      <th>17</th>\n",
       "      <td>TACOMA NARROWS</td>\n",
       "      <td>96,000</td>\n",
       "      <td>105,842</td>\n",
       "      <td>9,842</td>\n",
       "      <td>10.25%</td>\n",
       "    </tr>\n",
       "    <tr>\n",
       "      <th>18</th>\n",
       "      <td>PRESTON-ISSAQUAH</td>\n",
       "      <td>91,950</td>\n",
       "      <td>86,166</td>\n",
       "      <td>-5,784</td>\n",
       "      <td>-6.29%</td>\n",
       "    </tr>\n",
       "    <tr>\n",
       "      <th>19</th>\n",
       "      <td>RENTON</td>\n",
       "      <td>73,973</td>\n",
       "      <td>73,615</td>\n",
       "      <td>-358</td>\n",
       "      <td>-0.48%</td>\n",
       "    </tr>\n",
       "    <tr>\n",
       "      <th>20</th>\n",
       "      <td>SEATAC</td>\n",
       "      <td>73,635</td>\n",
       "      <td>88,293</td>\n",
       "      <td>14,658</td>\n",
       "      <td>19.91%</td>\n",
       "    </tr>\n",
       "    <tr>\n",
       "      <th>21</th>\n",
       "      <td>MAPLE VALLEY</td>\n",
       "      <td>71,874</td>\n",
       "      <td>65,747</td>\n",
       "      <td>-6,127</td>\n",
       "      <td>-8.52%</td>\n",
       "    </tr>\n",
       "    <tr>\n",
       "      <th>22</th>\n",
       "      <td>GIG HARBOR</td>\n",
       "      <td>71,040</td>\n",
       "      <td>92,729</td>\n",
       "      <td>21,689</td>\n",
       "      <td>30.53%</td>\n",
       "    </tr>\n",
       "    <tr>\n",
       "      <th>23</th>\n",
       "      <td>AGATE PASS BRIDGE</td>\n",
       "      <td>22,000</td>\n",
       "      <td>21,859</td>\n",
       "      <td>-141</td>\n",
       "      <td>-0.64%</td>\n",
       "    </tr>\n",
       "    <tr>\n",
       "      <th>24</th>\n",
       "      <td>CROSS SOUND</td>\n",
       "      <td>18,530</td>\n",
       "      <td>26,077</td>\n",
       "      <td>7,547</td>\n",
       "      <td>40.73%</td>\n",
       "    </tr>\n",
       "  </tbody>\n",
       "</table>\n",
       "</div>"
      ],
      "text/plain": [
       "                      name  observed  modeled    diff percent_diff\n",
       "0      AUBURN - SOUTH KING   568,417  531,464 -36,953       -6.50%\n",
       "1                     KENT   550,322  491,767 -58,555      -10.64%\n",
       "2   SEATTLE - SOUTH OF CBD   526,500  506,548 -19,952       -3.79%\n",
       "3               SHIP CANAL   519,802  547,428  27,626        5.31%\n",
       "4         KIRKLAND-REDMOND   414,120  390,021 -24,099       -5.82%\n",
       "5               MILL CREEK   400,848  388,575 -12,273       -3.06%\n",
       "6           SOUTH BELLEVUE   399,500  357,038 -42,462      -10.63%\n",
       "7          SEATTLE - NORTH   372,000  373,832   1,832        0.49%\n",
       "8     TACOMA - EAST OF CBD   312,164  321,680   9,516        3.05%\n",
       "9                 PARKLAND   304,322  265,321 -39,001      -12.82%\n",
       "10                 BOTHELL   293,729  302,355   8,626        2.94%\n",
       "11        LYNNWOOD-BOTHELL   269,900  301,600  31,700       11.74%\n",
       "12                 TUKWILA   259,341  226,471 -32,870      -12.67%\n",
       "13               TRANSLAKE   252,300  265,292  12,992        5.15%\n",
       "14                PUYALLUP   135,600  123,303 -12,297       -9.07%\n",
       "15             WOODINVILLE   110,168  136,581  26,413       23.98%\n",
       "16            NORTH KITSAP   109,890   82,246 -27,644      -25.16%\n",
       "17          TACOMA NARROWS    96,000  105,842   9,842       10.25%\n",
       "18        PRESTON-ISSAQUAH    91,950   86,166  -5,784       -6.29%\n",
       "19                  RENTON    73,973   73,615    -358       -0.48%\n",
       "20                  SEATAC    73,635   88,293  14,658       19.91%\n",
       "21            MAPLE VALLEY    71,874   65,747  -6,127       -8.52%\n",
       "22              GIG HARBOR    71,040   92,729  21,689       30.53%\n",
       "23       AGATE PASS BRIDGE    22,000   21,859    -141       -0.64%\n",
       "24             CROSS SOUND    18,530   26,077   7,547       40.73%"
      ]
     },
     "execution_count": 11,
     "metadata": {},
     "output_type": "execute_result"
    }
   ],
   "source": [
    "df = pd.read_csv(os.path.join(relative_path,'validation','screenlines.csv'))\n",
    "df['percent_diff'] = df['diff']/df['observed']\n",
    "df[['percent_diff']] = df[['percent_diff']].applymap(format_percent)\n",
    "df"
   ]
  },
  {
   "cell_type": "code",
   "execution_count": 12,
   "metadata": {},
   "outputs": [
    {
     "name": "stdout",
     "output_type": "stream",
     "text": [
      "r^2 : 0.991741506654\n"
     ]
    },
    {
     "data": {
      "image/png": "[encoded data removed]",
      "text/plain": [
       "<matplotlib.figure.Figure at 0xffe5208>"
      ]
     },
     "metadata": {},
     "output_type": "display_data"
    }
   ],
   "source": [
    "ax = df.plot(kind='scatter', x='observed', y='modeled')\n",
    "lim = df[['observed','modeled']].max().max()*1.05\n",
    "ax.set_ylim(0,lim)\n",
    "ax.set_xlim(0,lim)\n",
    "x = np.linspace(*ax.get_xlim())\n",
    "ax.plot(x, x)\n",
    "slope, intercept, r_value, p_value, std_err = stats.linregress(df['observed'],df['modeled'])\n",
    "print 'r^2 : ' + str(r_value)"
   ]
  },
  {
   "cell_type": "markdown",
   "metadata": {},
   "source": [
    "# Transit Boarding\n",
    "----\n",
    "### By Agency"
   ]
  },
  {
   "cell_type": "code",
   "execution_count": 13,
   "metadata": {},
   "outputs": [
    {
     "data": {
      "text/html": [
       "<div>\n",
       "<table border=\"1\" class=\"dataframe\">\n",
       "  <thead>\n",
       "    <tr style=\"text-align: right;\">\n",
       "      <th></th>\n",
       "      <th>agency</th>\n",
       "      <th>observed_5to20</th>\n",
       "      <th>modeled_5to20</th>\n",
       "      <th>diff</th>\n",
       "      <th>perc_diff</th>\n",
       "    </tr>\n",
       "  </thead>\n",
       "  <tbody>\n",
       "    <tr>\n",
       "      <th>2</th>\n",
       "      <td>King County Metro</td>\n",
       "      <td>392,694</td>\n",
       "      <td>310,153</td>\n",
       "      <td>-82,541</td>\n",
       "      <td>-21.02%</td>\n",
       "    </tr>\n",
       "    <tr>\n",
       "      <th>5</th>\n",
       "      <td>Sound Transit</td>\n",
       "      <td>145,426</td>\n",
       "      <td>91,803</td>\n",
       "      <td>-53,622</td>\n",
       "      <td>-36.87%</td>\n",
       "    </tr>\n",
       "    <tr>\n",
       "      <th>0</th>\n",
       "      <td>Community Transit</td>\n",
       "      <td>30,918</td>\n",
       "      <td>31,427</td>\n",
       "      <td>509</td>\n",
       "      <td>1.65%</td>\n",
       "    </tr>\n",
       "    <tr>\n",
       "      <th>4</th>\n",
       "      <td>Pierce Transit</td>\n",
       "      <td>27,233</td>\n",
       "      <td>38,095</td>\n",
       "      <td>10,862</td>\n",
       "      <td>39.89%</td>\n",
       "    </tr>\n",
       "    <tr>\n",
       "      <th>6</th>\n",
       "      <td>Washington Ferries</td>\n",
       "      <td>16,912</td>\n",
       "      <td>23,735</td>\n",
       "      <td>6,824</td>\n",
       "      <td>40.35%</td>\n",
       "    </tr>\n",
       "    <tr>\n",
       "      <th>3</th>\n",
       "      <td>Kitsap Transit</td>\n",
       "      <td>7,638</td>\n",
       "      <td>15,506</td>\n",
       "      <td>7,868</td>\n",
       "      <td>103.00%</td>\n",
       "    </tr>\n",
       "    <tr>\n",
       "      <th>1</th>\n",
       "      <td>Everett Transit</td>\n",
       "      <td>3,290</td>\n",
       "      <td>1,593</td>\n",
       "      <td>-1,697</td>\n",
       "      <td>-51.58%</td>\n",
       "    </tr>\n",
       "  </tbody>\n",
       "</table>\n",
       "</div>"
      ],
      "text/plain": [
       "               agency  observed_5to20  modeled_5to20    diff perc_diff\n",
       "2   King County Metro         392,694        310,153 -82,541   -21.02%\n",
       "5       Sound Transit         145,426         91,803 -53,622   -36.87%\n",
       "0   Community Transit          30,918         31,427     509     1.65%\n",
       "4      Pierce Transit          27,233         38,095  10,862    39.89%\n",
       "6  Washington Ferries          16,912         23,735   6,824    40.35%\n",
       "3      Kitsap Transit           7,638         15,506   7,868   103.00%\n",
       "1     Everett Transit           3,290          1,593  -1,697   -51.58%"
      ]
     },
     "execution_count": 13,
     "metadata": {},
     "output_type": "execute_result"
    }
   ],
   "source": [
    "df = pd.read_csv(os.path.join(relative_path,'validation/') + 'daily_boardings_by_agency.csv')\n",
    "df[['observed_5to20','modeled_5to20','diff']] = df[['observed_5to20','modeled_5to20','diff']].astype('float')\n",
    "df[['perc_diff']] = df[['perc_diff']].applymap(format_percent)\n",
    "df.sort_values('observed_5to20', ascending=False)"
   ]
  },
  {
   "cell_type": "markdown",
   "metadata": {},
   "source": [
    "----\n",
    "### Key Routes\n",
    "#### Ferries"
   ]
  },
  {
   "cell_type": "code",
   "execution_count": 14,
   "metadata": {},
   "outputs": [
    {
     "data": {
      "text/html": [
       "<div>\n",
       "<table border=\"1\" class=\"dataframe\">\n",
       "  <thead>\n",
       "    <tr style=\"text-align: right;\">\n",
       "      <th></th>\n",
       "      <th>description</th>\n",
       "      <th>observed_5to20</th>\n",
       "      <th>modeled_5to20</th>\n",
       "      <th>diff</th>\n",
       "      <th>perc_diff</th>\n",
       "    </tr>\n",
       "  </thead>\n",
       "  <tbody>\n",
       "    <tr>\n",
       "      <th>0</th>\n",
       "      <td>POF West Seattle - S</td>\n",
       "      <td>1,356</td>\n",
       "      <td>3,544</td>\n",
       "      <td>2,188</td>\n",
       "      <td>161.40%</td>\n",
       "    </tr>\n",
       "    <tr>\n",
       "      <th>1</th>\n",
       "      <td>POF Vashon Island -</td>\n",
       "      <td>670</td>\n",
       "      <td>250</td>\n",
       "      <td>-420</td>\n",
       "      <td>-62.68%</td>\n",
       "    </tr>\n",
       "    <tr>\n",
       "      <th>2</th>\n",
       "      <td>WSF Kingston - Edmon</td>\n",
       "      <td>1,732</td>\n",
       "      <td>1,380</td>\n",
       "      <td>-352</td>\n",
       "      <td>-20.32%</td>\n",
       "    </tr>\n",
       "    <tr>\n",
       "      <th>3</th>\n",
       "      <td>WSF Bainbridge Islan</td>\n",
       "      <td>8,857</td>\n",
       "      <td>10,609</td>\n",
       "      <td>1,752</td>\n",
       "      <td>19.78%</td>\n",
       "    </tr>\n",
       "    <tr>\n",
       "      <th>4</th>\n",
       "      <td>WSF Bremerton - Seat</td>\n",
       "      <td>4,484</td>\n",
       "      <td>9,627</td>\n",
       "      <td>5,142</td>\n",
       "      <td>114.68%</td>\n",
       "    </tr>\n",
       "    <tr>\n",
       "      <th>5</th>\n",
       "      <td>WSF Fauntleroy - Sou</td>\n",
       "      <td>365</td>\n",
       "      <td>437</td>\n",
       "      <td>72</td>\n",
       "      <td>19.73%</td>\n",
       "    </tr>\n",
       "    <tr>\n",
       "      <th>6</th>\n",
       "      <td>WSF Vashon Island -</td>\n",
       "      <td>946</td>\n",
       "      <td>1,219</td>\n",
       "      <td>273</td>\n",
       "      <td>28.90%</td>\n",
       "    </tr>\n",
       "    <tr>\n",
       "      <th>7</th>\n",
       "      <td>WSF Southworth - Vas</td>\n",
       "      <td>239</td>\n",
       "      <td>407</td>\n",
       "      <td>168</td>\n",
       "      <td>70.49%</td>\n",
       "    </tr>\n",
       "    <tr>\n",
       "      <th>8</th>\n",
       "      <td>WSF Point Defiance -</td>\n",
       "      <td>289</td>\n",
       "      <td>56</td>\n",
       "      <td>-232</td>\n",
       "      <td>-80.55%</td>\n",
       "    </tr>\n",
       "  </tbody>\n",
       "</table>\n",
       "</div>"
      ],
      "text/plain": [
       "            description  observed_5to20  modeled_5to20  diff perc_diff\n",
       "0  POF West Seattle - S           1,356          3,544 2,188   161.40%\n",
       "1   POF Vashon Island -             670            250  -420   -62.68%\n",
       "2  WSF Kingston - Edmon           1,732          1,380  -352   -20.32%\n",
       "3  WSF Bainbridge Islan           8,857         10,609 1,752    19.78%\n",
       "4  WSF Bremerton - Seat           4,484          9,627 5,142   114.68%\n",
       "5  WSF Fauntleroy - Sou             365            437    72    19.73%\n",
       "6   WSF Vashon Island -             946          1,219   273    28.90%\n",
       "7  WSF Southworth - Vas             239            407   168    70.49%\n",
       "8  WSF Point Defiance -             289             56  -232   -80.55%"
      ]
     },
     "execution_count": 14,
     "metadata": {},
     "output_type": "execute_result"
    }
   ],
   "source": [
    "df = pd.read_csv(os.path.join(relative_path,'validation/') + 'daily_boardings_key_routes.csv', index_col='description')\n",
    "df[['observed_5to20','modeled_5to20']] = df[['observed_5to20','modeled_5to20']].astype('float')\n",
    "_df = df[df['route_code'].isin([5001,5002,5003,5004,5005,5006,5007,1973,1975])].reset_index()\n",
    "_df.drop(['route_code','agency'], axis=1, inplace=True)\n",
    "_df[['perc_diff']] = _df[['perc_diff']].applymap(format_percent)\n",
    "_df"
   ]
  },
  {
   "cell_type": "code",
   "execution_count": 15,
   "metadata": {},
   "outputs": [
    {
     "name": "stdout",
     "output_type": "stream",
     "text": [
      "r^2 : 0.929997955818\n"
     ]
    },
    {
     "data": {
      "image/png": "[encoded data removed]",
      "text/plain": [
       "<matplotlib.figure.Figure at 0x105eb080>"
      ]
     },
     "metadata": {},
     "output_type": "display_data"
    }
   ],
   "source": [
    "ax = _df.plot(kind='scatter', x='observed_5to20', y='modeled_5to20')\n",
    "lim = _df[['observed_5to20','modeled_5to20']].max().max()*1.05\n",
    "ax.set_ylim(0,lim)\n",
    "ax.set_xlim(0,lim)\n",
    "x = np.linspace(*ax.get_xlim())\n",
    "ax.plot(x, x)\n",
    "slope, intercept, r_value, p_value, std_err = stats.linregress(_df['observed_5to20'],_df['modeled_5to20'])\n",
    "print 'r^2 ' + str('') + ': ' + str(r_value)"
   ]
  },
  {
   "cell_type": "markdown",
   "metadata": {},
   "source": [
    "#### Rail"
   ]
  },
  {
   "cell_type": "code",
   "execution_count": 16,
   "metadata": {},
   "outputs": [
    {
     "data": {
      "text/html": [
       "<div>\n",
       "<table border=\"1\" class=\"dataframe\">\n",
       "  <thead>\n",
       "    <tr style=\"text-align: right;\">\n",
       "      <th></th>\n",
       "      <th>description</th>\n",
       "      <th>observed_5to20</th>\n",
       "      <th>modeled_5to20</th>\n",
       "      <th>diff</th>\n",
       "      <th>perc_diff</th>\n",
       "    </tr>\n",
       "  </thead>\n",
       "  <tbody>\n",
       "    <tr>\n",
       "      <th>0</th>\n",
       "      <td>Link Red Line</td>\n",
       "      <td>69,383</td>\n",
       "      <td>34,652</td>\n",
       "      <td>-34,731</td>\n",
       "      <td>-50.06%</td>\n",
       "    </tr>\n",
       "    <tr>\n",
       "      <th>1</th>\n",
       "      <td>Sounder South</td>\n",
       "      <td>15,356</td>\n",
       "      <td>4,706</td>\n",
       "      <td>-10,650</td>\n",
       "      <td>-69.35%</td>\n",
       "    </tr>\n",
       "    <tr>\n",
       "      <th>2</th>\n",
       "      <td>Sounder North</td>\n",
       "      <td>1,667</td>\n",
       "      <td>863</td>\n",
       "      <td>-803</td>\n",
       "      <td>-48.20%</td>\n",
       "    </tr>\n",
       "  </tbody>\n",
       "</table>\n",
       "</div>"
      ],
      "text/plain": [
       "     description  observed_5to20  modeled_5to20    diff perc_diff\n",
       "0  Link Red Line          69,383         34,652 -34,731   -50.06%\n",
       "1  Sounder South          15,356          4,706 -10,650   -69.35%\n",
       "2  Sounder North           1,667            863    -803   -48.20%"
      ]
     },
     "execution_count": 16,
     "metadata": {},
     "output_type": "execute_result"
    }
   ],
   "source": [
    "_df = df[df['route_code'].isin([6996,6999,6998])].reset_index()\n",
    "_df['description'] = _df['route_code'].map({6998: 'Sounder South', 6999: 'Sounder North',6996: 'Link Red Line'})\n",
    "_df.drop(['route_code','agency'], axis=1, inplace=True)\n",
    "_df[['perc_diff']] = _df[['perc_diff']].applymap(format_percent)\n",
    "_df"
   ]
  },
  {
   "cell_type": "code",
   "execution_count": 17,
   "metadata": {},
   "outputs": [
    {
     "name": "stdout",
     "output_type": "stream",
     "text": [
      "r^2 : 0.996104506176\n"
     ]
    },
    {
     "data": {
      "image/png": "[encoded data removed]",
      "text/plain": [
       "<matplotlib.figure.Figure at 0x105ebac8>"
      ]
     },
     "metadata": {},
     "output_type": "display_data"
    }
   ],
   "source": [
    "ax = _df.plot(kind='scatter', x='observed_5to20', y='modeled_5to20')\n",
    "lim = _df[['observed_5to20','modeled_5to20']].max().max()*1.05\n",
    "ax.set_ylim(0,lim)\n",
    "ax.set_xlim(0,lim)\n",
    "x = np.linspace(*ax.get_xlim())\n",
    "ax.plot(x, x)\n",
    "slope, intercept, r_value, p_value, std_err = stats.linregress(_df['observed_5to20'],_df['modeled_5to20'])\n",
    "print 'r^2 ' + str('') + ': ' + str(r_value)"
   ]
  },
  {
   "cell_type": "markdown",
   "metadata": {},
   "source": [
    "#### RapidRide, Busiest Buses, Streetcar"
   ]
  },
  {
   "cell_type": "code",
   "execution_count": 18,
   "metadata": {},
   "outputs": [
    {
     "data": {
      "text/html": [
       "<div>\n",
       "<table border=\"1\" class=\"dataframe\">\n",
       "  <thead>\n",
       "    <tr style=\"text-align: right;\">\n",
       "      <th></th>\n",
       "      <th>description</th>\n",
       "      <th>observed_5to20</th>\n",
       "      <th>modeled_5to20</th>\n",
       "      <th>diff</th>\n",
       "      <th>perc_diff</th>\n",
       "    </tr>\n",
       "  </thead>\n",
       "  <tbody>\n",
       "    <tr>\n",
       "      <th>6</th>\n",
       "      <td>E Line RapidRide</td>\n",
       "      <td>15,336</td>\n",
       "      <td>11,806</td>\n",
       "      <td>-3,530</td>\n",
       "      <td>-23.02%</td>\n",
       "    </tr>\n",
       "    <tr>\n",
       "      <th>4</th>\n",
       "      <td>C Line RapidRide</td>\n",
       "      <td>11,368</td>\n",
       "      <td>10,019</td>\n",
       "      <td>-1,349</td>\n",
       "      <td>-11.86%</td>\n",
       "    </tr>\n",
       "    <tr>\n",
       "      <th>2</th>\n",
       "      <td>A Line RapidRide</td>\n",
       "      <td>8,522</td>\n",
       "      <td>9,380</td>\n",
       "      <td>858</td>\n",
       "      <td>10.07%</td>\n",
       "    </tr>\n",
       "    <tr>\n",
       "      <th>1</th>\n",
       "      <td>KC Metro 40</td>\n",
       "      <td>11,405</td>\n",
       "      <td>9,314</td>\n",
       "      <td>-2,091</td>\n",
       "      <td>-18.33%</td>\n",
       "    </tr>\n",
       "    <tr>\n",
       "      <th>10</th>\n",
       "      <td>Sound Transit 550</td>\n",
       "      <td>9,168</td>\n",
       "      <td>9,201</td>\n",
       "      <td>34</td>\n",
       "      <td>0.37%</td>\n",
       "    </tr>\n",
       "    <tr>\n",
       "      <th>5</th>\n",
       "      <td>D Line RapidRide</td>\n",
       "      <td>13,078</td>\n",
       "      <td>8,802</td>\n",
       "      <td>-4,276</td>\n",
       "      <td>-32.69%</td>\n",
       "    </tr>\n",
       "    <tr>\n",
       "      <th>0</th>\n",
       "      <td>KC Metro 7</td>\n",
       "      <td>10,150</td>\n",
       "      <td>6,655</td>\n",
       "      <td>-3,495</td>\n",
       "      <td>-34.44%</td>\n",
       "    </tr>\n",
       "    <tr>\n",
       "      <th>7</th>\n",
       "      <td>F Line RapidRide</td>\n",
       "      <td>5,267</td>\n",
       "      <td>4,946</td>\n",
       "      <td>-321</td>\n",
       "      <td>-6.09%</td>\n",
       "    </tr>\n",
       "    <tr>\n",
       "      <th>3</th>\n",
       "      <td>B Line RapidRide</td>\n",
       "      <td>5,914</td>\n",
       "      <td>3,792</td>\n",
       "      <td>-2,122</td>\n",
       "      <td>-35.88%</td>\n",
       "    </tr>\n",
       "    <tr>\n",
       "      <th>9</th>\n",
       "      <td>First Hill Streetcar</td>\n",
       "      <td>3,586</td>\n",
       "      <td>882</td>\n",
       "      <td>-2,704</td>\n",
       "      <td>-75.41%</td>\n",
       "    </tr>\n",
       "    <tr>\n",
       "      <th>8</th>\n",
       "      <td>SLU Streetcar</td>\n",
       "      <td>1,703</td>\n",
       "      <td>590</td>\n",
       "      <td>-1,113</td>\n",
       "      <td>-65.34%</td>\n",
       "    </tr>\n",
       "  </tbody>\n",
       "</table>\n",
       "</div>"
      ],
      "text/plain": [
       "             description  observed_5to20  modeled_5to20   diff perc_diff\n",
       "6       E Line RapidRide          15,336         11,806 -3,530   -23.02%\n",
       "4       C Line RapidRide          11,368         10,019 -1,349   -11.86%\n",
       "2       A Line RapidRide           8,522          9,380    858    10.07%\n",
       "1            KC Metro 40          11,405          9,314 -2,091   -18.33%\n",
       "10     Sound Transit 550           9,168          9,201     34     0.37%\n",
       "5       D Line RapidRide          13,078          8,802 -4,276   -32.69%\n",
       "0             KC Metro 7          10,150          6,655 -3,495   -34.44%\n",
       "7       F Line RapidRide           5,267          4,946   -321    -6.09%\n",
       "3       B Line RapidRide           5,914          3,792 -2,122   -35.88%\n",
       "9   First Hill Streetcar           3,586            882 -2,704   -75.41%\n",
       "8          SLU Streetcar           1,703            590 -1,113   -65.34%"
      ]
     },
     "execution_count": 18,
     "metadata": {},
     "output_type": "execute_result"
    }
   ],
   "source": [
    "_df = df[df['route_code'].isin([1671,1672,1673,1674,1675,1676,6550,1007,1040,1997,1998])].reset_index()\n",
    "_df['description'] = _df['route_code'].map({1671: 'A Line RapidRide', 1672: 'B Line RapidRide',\n",
    "                                            1673: 'C Line RapidRide', 1674: 'D Line RapidRide',\n",
    "                                            1675: 'E Line RapidRide', 1676: 'F Line RapidRide',\n",
    "                                            6550: 'Sound Transit 550', 1040: 'KC Metro 40', 1007: 'KC Metro 7',\n",
    "                                            1997: 'SLU Streetcar', 1998: 'First Hill Streetcar'})\n",
    "_df.drop(['route_code','agency'], axis=1, inplace=True)\n",
    "_df[['perc_diff']] = _df[['perc_diff']].applymap(format_percent)\n",
    "_df.sort_values('modeled_5to20', ascending=False)"
   ]
  },
  {
   "cell_type": "code",
   "execution_count": 19,
   "metadata": {},
   "outputs": [
    {
     "name": "stdout",
     "output_type": "stream",
     "text": [
      "r^2 : 0.92177249448\n"
     ]
    },
    {
     "data": {
      "image/png": "[encoded data removed]",
      "text/plain": [
       "<matplotlib.figure.Figure at 0x10666fd0>"
      ]
     },
     "metadata": {},
     "output_type": "display_data"
    }
   ],
   "source": [
    "ax = _df.plot(kind='scatter', x='observed_5to20', y='modeled_5to20')\n",
    "lim = _df[['observed_5to20','modeled_5to20']].max().max()*1.05\n",
    "ax.set_ylim(0,lim)\n",
    "ax.set_xlim(0,lim)\n",
    "x = np.linspace(*ax.get_xlim())\n",
    "ax.plot(x, x)\n",
    "slope, intercept, r_value, p_value, std_err = stats.linregress(_df['observed_5to20'],_df['modeled_5to20'])\n",
    "print 'r^2 ' + str('') + ': ' + str(r_value)"
   ]
  },
  {
   "cell_type": "markdown",
   "metadata": {},
   "source": [
    "---\n",
    "### Lines by Agency"
   ]
  },
  {
   "cell_type": "code",
   "execution_count": 20,
   "metadata": {},
   "outputs": [
    {
     "name": "stdout",
     "output_type": "stream",
     "text": [
      "r^2 Community Transit: 0.836176252684\n"
     ]
    },
    {
     "name": "stdout",
     "output_type": "stream",
     "text": [
      "r^2 Everett Transit: -0.318573810789\n",
      "r^2 King County Metro: 0.942524135497\n",
      "r^2 Kitsap Transit: 0.31891479442\n",
      "r^2 Pierce Transit: 0.922851015155\n"
     ]
    },
    {
     "name": "stdout",
     "output_type": "stream",
     "text": [
      "r^2 Sound Transit: 0.974819917022\n"
     ]
    },
    {
     "name": "stdout",
     "output_type": "stream",
     "text": [
      "r^2 Washington Ferries: 0.937709196497\n"
     ]
    },
    {
     "data": {
      "image/png": "[encoded data removed]",
      "text/plain": [
       "<matplotlib.figure.Figure at 0x10df5748>"
      ]
     },
     "metadata": {},
     "output_type": "display_data"
    },
    {
     "data": {
      "image/png": "[encoded data removed]",
      "text/plain": [
       "<matplotlib.figure.Figure at 0x1087be80>"
      ]
     },
     "metadata": {},
     "output_type": "display_data"
    },
    {
     "data": {
      "image/png": "[encoded data removed]",
      "text/plain": [
       "<matplotlib.figure.Figure at 0x102c1b00>"
      ]
     },
     "metadata": {},
     "output_type": "display_data"
    },
    {
     "data": {
      "image/png": "[encoded data removed]",
      "text/plain": [
       "<matplotlib.figure.Figure at 0x10a64240>"
      ]
     },
     "metadata": {},
     "output_type": "display_data"
    },
    {
     "data": {
      "image/png": "[encoded data removed]",
      "text/plain": [
       "<matplotlib.figure.Figure at 0xc4e3f28>"
      ]
     },
     "metadata": {},
     "output_type": "display_data"
    },
    {
     "data": {
      "image/png": "[encoded data removed]",
      "text/plain": [
       "<matplotlib.figure.Figure at 0x105cb9b0>"
      ]
     },
     "metadata": {},
     "output_type": "display_data"
    },
    {
     "data": {
      "image/png": "[encoded data removed]",
      "text/plain": [
       "<matplotlib.figure.Figure at 0x10333f98>"
      ]
     },
     "metadata": {},
     "output_type": "display_data"
    }
   ],
   "source": [
    "df = pd.read_csv(os.path.join(relative_path,'validation/') + 'daily_boardings_by_line.csv', index_col='agency')\n",
    "df = df[-df['agency_id'].isnull()]\n",
    "\n",
    "for agency in np.unique(df.index):\n",
    "    _df = df.loc[agency,:]\n",
    "    ax = _df.plot(kind='scatter', x='observed_5to20', y='modeled_5to20', label=agency)\n",
    "    lim = _df[['observed_5to20','modeled_5to20']].max().max()*1.05\n",
    "    ax.set_ylim(0,lim)\n",
    "    ax.set_xlim(0,lim)\n",
    "    x = np.linspace(*ax.get_xlim())\n",
    "    ax.plot(x, x)\n",
    "    slope, intercept, r_value, p_value, std_err = stats.linregress(_df['observed_5to20'],_df['modeled_5to20'])\n",
    "    print 'r^2 ' + str(agency) + ': ' + str(r_value)"
   ]
  },
  {
   "cell_type": "markdown",
   "metadata": {},
   "source": [
    "# Light Rail Station Boardings\n",
    "----\n",
    "Red Line"
   ]
  },
  {
   "cell_type": "code",
   "execution_count": 21,
   "metadata": {},
   "outputs": [
    {
     "data": {
      "text/html": [
       "<div>\n",
       "<table border=\"1\" class=\"dataframe\">\n",
       "  <thead>\n",
       "    <tr style=\"text-align: right;\">\n",
       "      <th></th>\n",
       "      <th>observed_5to20</th>\n",
       "      <th>modeled_5to20</th>\n",
       "      <th>diff</th>\n",
       "      <th>percent_diff</th>\n",
       "    </tr>\n",
       "    <tr>\n",
       "      <th>station_name</th>\n",
       "      <th></th>\n",
       "      <th></th>\n",
       "      <th></th>\n",
       "      <th></th>\n",
       "    </tr>\n",
       "  </thead>\n",
       "  <tbody>\n",
       "    <tr>\n",
       "      <th>Husky Stadium</th>\n",
       "      <td>9,416</td>\n",
       "      <td>3,884</td>\n",
       "      <td>-5,532</td>\n",
       "      <td>-58.75%</td>\n",
       "    </tr>\n",
       "    <tr>\n",
       "      <th>Westlake</th>\n",
       "      <td>10,904</td>\n",
       "      <td>4,403</td>\n",
       "      <td>-6,501</td>\n",
       "      <td>-59.62%</td>\n",
       "    </tr>\n",
       "    <tr>\n",
       "      <th>University St</th>\n",
       "      <td>5,257</td>\n",
       "      <td>2,924</td>\n",
       "      <td>-2,333</td>\n",
       "      <td>-44.38%</td>\n",
       "    </tr>\n",
       "    <tr>\n",
       "      <th>Pioneer Square</th>\n",
       "      <td>3,865</td>\n",
       "      <td>4,398</td>\n",
       "      <td>533</td>\n",
       "      <td>13.78%</td>\n",
       "    </tr>\n",
       "    <tr>\n",
       "      <th>Int'l District</th>\n",
       "      <td>5,647</td>\n",
       "      <td>1,818</td>\n",
       "      <td>-3,829</td>\n",
       "      <td>-67.81%</td>\n",
       "    </tr>\n",
       "    <tr>\n",
       "      <th>Capitol Hill</th>\n",
       "      <td>7,016</td>\n",
       "      <td>3,398</td>\n",
       "      <td>-3,618</td>\n",
       "      <td>-51.56%</td>\n",
       "    </tr>\n",
       "    <tr>\n",
       "      <th>Stadium</th>\n",
       "      <td>1,912</td>\n",
       "      <td>348</td>\n",
       "      <td>-1,564</td>\n",
       "      <td>-81.79%</td>\n",
       "    </tr>\n",
       "    <tr>\n",
       "      <th>SODO</th>\n",
       "      <td>2,108</td>\n",
       "      <td>1,533</td>\n",
       "      <td>-575</td>\n",
       "      <td>-27.28%</td>\n",
       "    </tr>\n",
       "    <tr>\n",
       "      <th>Beacon Hill</th>\n",
       "      <td>2,587</td>\n",
       "      <td>769</td>\n",
       "      <td>-1,818</td>\n",
       "      <td>-70.27%</td>\n",
       "    </tr>\n",
       "    <tr>\n",
       "      <th>Mount Baker</th>\n",
       "      <td>2,222</td>\n",
       "      <td>1,042</td>\n",
       "      <td>-1,180</td>\n",
       "      <td>-53.12%</td>\n",
       "    </tr>\n",
       "    <tr>\n",
       "      <th>Columbia City</th>\n",
       "      <td>2,376</td>\n",
       "      <td>736</td>\n",
       "      <td>-1,640</td>\n",
       "      <td>-69.04%</td>\n",
       "    </tr>\n",
       "    <tr>\n",
       "      <th>Othello</th>\n",
       "      <td>2,386</td>\n",
       "      <td>953</td>\n",
       "      <td>-1,433</td>\n",
       "      <td>-60.04%</td>\n",
       "    </tr>\n",
       "    <tr>\n",
       "      <th>Rainier Beach</th>\n",
       "      <td>2,026</td>\n",
       "      <td>626</td>\n",
       "      <td>-1,400</td>\n",
       "      <td>-69.10%</td>\n",
       "    </tr>\n",
       "    <tr>\n",
       "      <th>Tukwila Int'l Blvd</th>\n",
       "      <td>2,779</td>\n",
       "      <td>1,144</td>\n",
       "      <td>-1,635</td>\n",
       "      <td>-58.82%</td>\n",
       "    </tr>\n",
       "    <tr>\n",
       "      <th>SeaTac/Airport</th>\n",
       "      <td>5,399</td>\n",
       "      <td>4,232</td>\n",
       "      <td>-1,167</td>\n",
       "      <td>-21.61%</td>\n",
       "    </tr>\n",
       "    <tr>\n",
       "      <th>Angle Lake</th>\n",
       "      <td>3,552</td>\n",
       "      <td>2,443</td>\n",
       "      <td>-1,108</td>\n",
       "      <td>-31.21%</td>\n",
       "    </tr>\n",
       "    <tr>\n",
       "      <th>Total</th>\n",
       "      <td>69,453</td>\n",
       "      <td>34,652</td>\n",
       "      <td>-34,801</td>\n",
       "      <td>-50.11%</td>\n",
       "    </tr>\n",
       "  </tbody>\n",
       "</table>\n",
       "</div>"
      ],
      "text/plain": [
       "                    observed_5to20  modeled_5to20    diff percent_diff\n",
       "station_name                                                          \n",
       "Husky Stadium                9,416          3,884  -5,532      -58.75%\n",
       "Westlake                    10,904          4,403  -6,501      -59.62%\n",
       "University St                5,257          2,924  -2,333      -44.38%\n",
       "Pioneer Square               3,865          4,398     533       13.78%\n",
       "Int'l District               5,647          1,818  -3,829      -67.81%\n",
       "Capitol Hill                 7,016          3,398  -3,618      -51.56%\n",
       "Stadium                      1,912            348  -1,564      -81.79%\n",
       "SODO                         2,108          1,533    -575      -27.28%\n",
       "Beacon Hill                  2,587            769  -1,818      -70.27%\n",
       "Mount Baker                  2,222          1,042  -1,180      -53.12%\n",
       "Columbia City                2,376            736  -1,640      -69.04%\n",
       "Othello                      2,386            953  -1,433      -60.04%\n",
       "Rainier Beach                2,026            626  -1,400      -69.10%\n",
       "Tukwila Int'l Blvd           2,779          1,144  -1,635      -58.82%\n",
       "SeaTac/Airport               5,399          4,232  -1,167      -21.61%\n",
       "Angle Lake                   3,552          2,443  -1,108      -31.21%\n",
       "Total                       69,453         34,652 -34,801      -50.11%"
      ]
     },
     "execution_count": 21,
     "metadata": {},
     "output_type": "execute_result"
    }
   ],
   "source": [
    "df = pd.read_csv(os.path.join(relative_path,'validation/') + 'light_rail_boardings.csv', index_col='station_name')\n",
    "df['diff'] = df['modeled_5to20']-df['observed_5to20']\n",
    "df['percent_diff'] = df['diff']/df['observed_5to20']\n",
    "df[['percent_diff']] = df[['percent_diff']].applymap(format_percent)\n",
    "df"
   ]
  },
  {
   "cell_type": "markdown",
   "metadata": {},
   "source": [
    "Sound Transit Station Groupings"
   ]
  },
  {
   "cell_type": "code",
   "execution_count": 22,
   "metadata": {},
   "outputs": [
    {
     "data": {
      "text/html": [
       "<div>\n",
       "<table border=\"1\" class=\"dataframe\">\n",
       "  <thead>\n",
       "    <tr style=\"text-align: right;\">\n",
       "      <th></th>\n",
       "      <th>observed_5to20</th>\n",
       "      <th>modeled_5to20</th>\n",
       "      <th>diff</th>\n",
       "      <th>percent_diff</th>\n",
       "    </tr>\n",
       "    <tr>\n",
       "      <th>station_group</th>\n",
       "      <th></th>\n",
       "      <th></th>\n",
       "      <th></th>\n",
       "      <th></th>\n",
       "    </tr>\n",
       "  </thead>\n",
       "  <tbody>\n",
       "    <tr>\n",
       "      <th>Husky Stadium</th>\n",
       "      <td>9,416</td>\n",
       "      <td>3,884</td>\n",
       "      <td>-5,532</td>\n",
       "      <td>-58.75%</td>\n",
       "    </tr>\n",
       "    <tr>\n",
       "      <th>Capitol Hill</th>\n",
       "      <td>7,016</td>\n",
       "      <td>3,398</td>\n",
       "      <td>-3,618</td>\n",
       "      <td>-51.56%</td>\n",
       "    </tr>\n",
       "    <tr>\n",
       "      <th>Westlake/University St</th>\n",
       "      <td>16,161</td>\n",
       "      <td>7,327</td>\n",
       "      <td>-8,833</td>\n",
       "      <td>-54.66%</td>\n",
       "    </tr>\n",
       "    <tr>\n",
       "      <th>Pioneer Square/Int'l District</th>\n",
       "      <td>9,512</td>\n",
       "      <td>6,216</td>\n",
       "      <td>-3,297</td>\n",
       "      <td>-34.66%</td>\n",
       "    </tr>\n",
       "    <tr>\n",
       "      <th>Stadium/SODO</th>\n",
       "      <td>4,020</td>\n",
       "      <td>1,881</td>\n",
       "      <td>-2,139</td>\n",
       "      <td>-53.21%</td>\n",
       "    </tr>\n",
       "    <tr>\n",
       "      <th>Beacon Hill/Mount Baker</th>\n",
       "      <td>4,809</td>\n",
       "      <td>1,811</td>\n",
       "      <td>-2,998</td>\n",
       "      <td>-62.34%</td>\n",
       "    </tr>\n",
       "    <tr>\n",
       "      <th>Columbia City</th>\n",
       "      <td>2,376</td>\n",
       "      <td>736</td>\n",
       "      <td>-1,640</td>\n",
       "      <td>-69.04%</td>\n",
       "    </tr>\n",
       "    <tr>\n",
       "      <th>Othello/Rainier Beach</th>\n",
       "      <td>4,412</td>\n",
       "      <td>1,579</td>\n",
       "      <td>-2,833</td>\n",
       "      <td>-64.20%</td>\n",
       "    </tr>\n",
       "    <tr>\n",
       "      <th>Tukwila Int'l Blvd</th>\n",
       "      <td>2,779</td>\n",
       "      <td>1,144</td>\n",
       "      <td>-1,635</td>\n",
       "      <td>-58.82%</td>\n",
       "    </tr>\n",
       "    <tr>\n",
       "      <th>SeaTac/Airport</th>\n",
       "      <td>5,399</td>\n",
       "      <td>4,232</td>\n",
       "      <td>-1,167</td>\n",
       "      <td>-21.61%</td>\n",
       "    </tr>\n",
       "    <tr>\n",
       "      <th>Angle Lake</th>\n",
       "      <td>3,552</td>\n",
       "      <td>2,443</td>\n",
       "      <td>-1,108</td>\n",
       "      <td>-31.21%</td>\n",
       "    </tr>\n",
       "  </tbody>\n",
       "</table>\n",
       "</div>"
      ],
      "text/plain": [
       "                               observed_5to20  modeled_5to20   diff  \\\n",
       "station_group                                                         \n",
       "Husky Stadium                           9,416          3,884 -5,532   \n",
       "Capitol Hill                            7,016          3,398 -3,618   \n",
       "Westlake/University St                 16,161          7,327 -8,833   \n",
       "Pioneer Square/Int'l District           9,512          6,216 -3,297   \n",
       "Stadium/SODO                            4,020          1,881 -2,139   \n",
       "Beacon Hill/Mount Baker                 4,809          1,811 -2,998   \n",
       "Columbia City                           2,376            736 -1,640   \n",
       "Othello/Rainier Beach                   4,412          1,579 -2,833   \n",
       "Tukwila Int'l Blvd                      2,779          1,144 -1,635   \n",
       "SeaTac/Airport                          5,399          4,232 -1,167   \n",
       "Angle Lake                              3,552          2,443 -1,108   \n",
       "\n",
       "                              percent_diff  \n",
       "station_group                               \n",
       "Husky Stadium                      -58.75%  \n",
       "Capitol Hill                       -51.56%  \n",
       "Westlake/University St             -54.66%  \n",
       "Pioneer Square/Int'l District      -34.66%  \n",
       "Stadium/SODO                       -53.21%  \n",
       "Beacon Hill/Mount Baker            -62.34%  \n",
       "Columbia City                      -69.04%  \n",
       "Othello/Rainier Beach              -64.20%  \n",
       "Tukwila Int'l Blvd                 -58.82%  \n",
       "SeaTac/Airport                     -21.61%  \n",
       "Angle Lake                         -31.21%  "
      ]
     },
     "execution_count": 22,
     "metadata": {},
     "output_type": "execute_result"
    }
   ],
   "source": [
    "df_combined = df.copy()\n",
    "\n",
    "df_combined['station_group'] = df.index\n",
    "df_combined.loc[['Westlake'],'station_group'] = 'Westlake/University St'\n",
    "df_combined.loc[['University St'],'station_group'] = 'Westlake/University St'\n",
    "\n",
    "df_combined.loc[['Pioneer Square'],'station_group'] = \"Pioneer Square/Int'l District\"\n",
    "df_combined.loc[[\"Int'l District\"],'station_group'] = \"Pioneer Square/Int'l District\"\n",
    "\n",
    "df_combined.loc[['Stadium'],'station_group'] = 'Stadium/SODO'\n",
    "df_combined.loc[['SODO'],'station_group'] = 'Stadium/SODO'\n",
    "\n",
    "df_combined.loc[['Beacon Hill'],'station_group'] = 'Beacon Hill/Mount Baker'\n",
    "df_combined.loc[['Mount Baker'],'station_group'] = 'Beacon Hill/Mount Baker'\n",
    "\n",
    "df_combined.loc[['Othello'],'station_group'] = 'Othello/Rainier Beach'\n",
    "df_combined.loc[['Rainier Beach'],'station_group'] = 'Othello/Rainier Beach'\n",
    "\n",
    "df_combined = df_combined.groupby('station_group').sum()[['observed_5to20','modeled_5to20']]\n",
    "df_combined['diff'] = df_combined['modeled_5to20']-df_combined['observed_5to20']\n",
    "df_combined['percent_diff'] = df_combined['diff']/df_combined['observed_5to20']\n",
    "df_combined[['percent_diff']] = df_combined[['percent_diff']].applymap(format_percent)\n",
    "\n",
    "df_combined.loc[['Husky Stadium','Capitol Hill','Westlake/University St',\"Pioneer Square/Int'l District\",\n",
    "                 'Stadium/SODO','Beacon Hill/Mount Baker','Columbia City','Othello/Rainier Beach',\n",
    "                \"Tukwila Int'l Blvd\",'SeaTac/Airport','Angle Lake']]"
   ]
  },
  {
   "cell_type": "markdown",
   "metadata": {},
   "source": [
    "# Stop Transfers\n",
    "\n",
    "### Light Rail"
   ]
  },
  {
   "cell_type": "code",
   "execution_count": 23,
   "metadata": {},
   "outputs": [
    {
     "data": {
      "text/html": [
       "<div>\n",
       "<table border=\"1\" class=\"dataframe\">\n",
       "  <thead>\n",
       "    <tr style=\"text-align: right;\">\n",
       "      <th></th>\n",
       "      <th>modeled_transfer_rate</th>\n",
       "      <th>observed_transfer_rate</th>\n",
       "      <th>diff</th>\n",
       "      <th>percent_diff</th>\n",
       "    </tr>\n",
       "    <tr>\n",
       "      <th>station_name</th>\n",
       "      <th></th>\n",
       "      <th></th>\n",
       "      <th></th>\n",
       "      <th></th>\n",
       "    </tr>\n",
       "  </thead>\n",
       "  <tbody>\n",
       "    <tr>\n",
       "      <th>Husky Stadium</th>\n",
       "      <td>0.25</td>\n",
       "      <td>-99.00</td>\n",
       "      <td>99.25</td>\n",
       "      <td>-100.25%</td>\n",
       "    </tr>\n",
       "    <tr>\n",
       "      <th>Westlake</th>\n",
       "      <td>0.51</td>\n",
       "      <td>0.36</td>\n",
       "      <td>0.15</td>\n",
       "      <td>40.37%</td>\n",
       "    </tr>\n",
       "    <tr>\n",
       "      <th>University St</th>\n",
       "      <td>0.65</td>\n",
       "      <td>0.20</td>\n",
       "      <td>0.45</td>\n",
       "      <td>222.83%</td>\n",
       "    </tr>\n",
       "    <tr>\n",
       "      <th>Pioneer Square</th>\n",
       "      <td>0.83</td>\n",
       "      <td>0.16</td>\n",
       "      <td>0.67</td>\n",
       "      <td>421.82%</td>\n",
       "    </tr>\n",
       "    <tr>\n",
       "      <th>Int'l District</th>\n",
       "      <td>0.79</td>\n",
       "      <td>0.45</td>\n",
       "      <td>0.34</td>\n",
       "      <td>76.51%</td>\n",
       "    </tr>\n",
       "    <tr>\n",
       "      <th>Capitol Hill</th>\n",
       "      <td>0.08</td>\n",
       "      <td>-99.00</td>\n",
       "      <td>99.08</td>\n",
       "      <td>-100.08%</td>\n",
       "    </tr>\n",
       "    <tr>\n",
       "      <th>Stadium</th>\n",
       "      <td>0.47</td>\n",
       "      <td>0.12</td>\n",
       "      <td>0.35</td>\n",
       "      <td>291.53%</td>\n",
       "    </tr>\n",
       "    <tr>\n",
       "      <th>SODO</th>\n",
       "      <td>0.55</td>\n",
       "      <td>0.31</td>\n",
       "      <td>0.24</td>\n",
       "      <td>76.89%</td>\n",
       "    </tr>\n",
       "    <tr>\n",
       "      <th>Beacon Hill</th>\n",
       "      <td>0.34</td>\n",
       "      <td>0.35</td>\n",
       "      <td>-0.02</td>\n",
       "      <td>-5.06%</td>\n",
       "    </tr>\n",
       "    <tr>\n",
       "      <th>Mount Baker</th>\n",
       "      <td>0.40</td>\n",
       "      <td>0.32</td>\n",
       "      <td>0.08</td>\n",
       "      <td>23.36%</td>\n",
       "    </tr>\n",
       "    <tr>\n",
       "      <th>Columbia City</th>\n",
       "      <td>0.01</td>\n",
       "      <td>0.12</td>\n",
       "      <td>-0.11</td>\n",
       "      <td>-89.08%</td>\n",
       "    </tr>\n",
       "    <tr>\n",
       "      <th>Othello</th>\n",
       "      <td>0.10</td>\n",
       "      <td>0.12</td>\n",
       "      <td>-0.03</td>\n",
       "      <td>-21.49%</td>\n",
       "    </tr>\n",
       "    <tr>\n",
       "      <th>Rainier Beach</th>\n",
       "      <td>0.20</td>\n",
       "      <td>0.36</td>\n",
       "      <td>-0.16</td>\n",
       "      <td>-44.54%</td>\n",
       "    </tr>\n",
       "    <tr>\n",
       "      <th>Tukwila Int'l Blvd</th>\n",
       "      <td>0.34</td>\n",
       "      <td>0.26</td>\n",
       "      <td>0.07</td>\n",
       "      <td>27.19%</td>\n",
       "    </tr>\n",
       "    <tr>\n",
       "      <th>SeaTac/Airport</th>\n",
       "      <td>0.19</td>\n",
       "      <td>0.26</td>\n",
       "      <td>-0.08</td>\n",
       "      <td>-28.77%</td>\n",
       "    </tr>\n",
       "    <tr>\n",
       "      <th>Angle Lake</th>\n",
       "      <td>0.06</td>\n",
       "      <td>-99.00</td>\n",
       "      <td>99.06</td>\n",
       "      <td>-100.07%</td>\n",
       "    </tr>\n",
       "  </tbody>\n",
       "</table>\n",
       "</div>"
      ],
      "text/plain": [
       "                    modeled_transfer_rate  observed_transfer_rate  diff  \\\n",
       "station_name                                                              \n",
       "Husky Stadium                        0.25                  -99.00 99.25   \n",
       "Westlake                             0.51                    0.36  0.15   \n",
       "University St                        0.65                    0.20  0.45   \n",
       "Pioneer Square                       0.83                    0.16  0.67   \n",
       "Int'l District                       0.79                    0.45  0.34   \n",
       "Capitol Hill                         0.08                  -99.00 99.08   \n",
       "Stadium                              0.47                    0.12  0.35   \n",
       "SODO                                 0.55                    0.31  0.24   \n",
       "Beacon Hill                          0.34                    0.35 -0.02   \n",
       "Mount Baker                          0.40                    0.32  0.08   \n",
       "Columbia City                        0.01                    0.12 -0.11   \n",
       "Othello                              0.10                    0.12 -0.03   \n",
       "Rainier Beach                        0.20                    0.36 -0.16   \n",
       "Tukwila Int'l Blvd                   0.34                    0.26  0.07   \n",
       "SeaTac/Airport                       0.19                    0.26 -0.08   \n",
       "Angle Lake                           0.06                  -99.00 99.06   \n",
       "\n",
       "                   percent_diff  \n",
       "station_name                     \n",
       "Husky Stadium          -100.25%  \n",
       "Westlake                 40.37%  \n",
       "University St           222.83%  \n",
       "Pioneer Square          421.82%  \n",
       "Int'l District           76.51%  \n",
       "Capitol Hill           -100.08%  \n",
       "Stadium                 291.53%  \n",
       "SODO                     76.89%  \n",
       "Beacon Hill              -5.06%  \n",
       "Mount Baker              23.36%  \n",
       "Columbia City           -89.08%  \n",
       "Othello                 -21.49%  \n",
       "Rainier Beach           -44.54%  \n",
       "Tukwila Int'l Blvd       27.19%  \n",
       "SeaTac/Airport          -28.77%  \n",
       "Angle Lake             -100.07%  "
      ]
     },
     "execution_count": 23,
     "metadata": {},
     "output_type": "execute_result"
    }
   ],
   "source": [
    "df = pd.read_csv(os.path.join(relative_path,'validation/') + 'light_rail_transfers.csv', index_col='station_name')\n",
    "pd.options.display.float_format = '{:0,.2f}'.format\n",
    "df[['percent_diff']] = df[['percent_diff']].applymap(format_percent)\n",
    "df"
   ]
  },
  {
   "cell_type": "markdown",
   "metadata": {},
   "source": [
    "# Externals"
   ]
  },
  {
   "cell_type": "code",
   "execution_count": 24,
   "metadata": {},
   "outputs": [
    {
     "data": {
      "text/html": [
       "<div>\n",
       "<table border=\"1\" class=\"dataframe\">\n",
       "  <thead>\n",
       "    <tr style=\"text-align: right;\">\n",
       "      <th></th>\n",
       "      <th>external_station</th>\n",
       "      <th>observed</th>\n",
       "      <th>modeled</th>\n",
       "      <th>diff</th>\n",
       "      <th>percent_diff</th>\n",
       "    </tr>\n",
       "    <tr>\n",
       "      <th>location</th>\n",
       "      <th></th>\n",
       "      <th></th>\n",
       "      <th></th>\n",
       "      <th></th>\n",
       "      <th></th>\n",
       "    </tr>\n",
       "  </thead>\n",
       "  <tbody>\n",
       "    <tr>\n",
       "      <th>I-5 to Olympia</th>\n",
       "      <td>3733</td>\n",
       "      <td>130,000</td>\n",
       "      <td>123,953</td>\n",
       "      <td>-6,047</td>\n",
       "      <td>-4.65%</td>\n",
       "    </tr>\n",
       "    <tr>\n",
       "      <th>I-5 to Mount Vernon</th>\n",
       "      <td>3744</td>\n",
       "      <td>67,000</td>\n",
       "      <td>56,679</td>\n",
       "      <td>-10,321</td>\n",
       "      <td>-15.40%</td>\n",
       "    </tr>\n",
       "    <tr>\n",
       "      <th>I-90 @ Snoqualmie Pass</th>\n",
       "      <td>3739</td>\n",
       "      <td>33,000</td>\n",
       "      <td>28,998</td>\n",
       "      <td>-4,002</td>\n",
       "      <td>-12.13%</td>\n",
       "    </tr>\n",
       "    <tr>\n",
       "      <th>SR-532 to Camano Island</th>\n",
       "      <td>3746</td>\n",
       "      <td>23,000</td>\n",
       "      <td>19,990</td>\n",
       "      <td>-3,010</td>\n",
       "      <td>-13.09%</td>\n",
       "    </tr>\n",
       "    <tr>\n",
       "      <th>SR-507 to Yelm</th>\n",
       "      <td>3734</td>\n",
       "      <td>23,000</td>\n",
       "      <td>19,453</td>\n",
       "      <td>-3,547</td>\n",
       "      <td>-15.42%</td>\n",
       "    </tr>\n",
       "    <tr>\n",
       "      <th>SR-3 to Belfair</th>\n",
       "      <td>3749</td>\n",
       "      <td>18,000</td>\n",
       "      <td>16,046</td>\n",
       "      <td>-1,954</td>\n",
       "      <td>-10.85%</td>\n",
       "    </tr>\n",
       "    <tr>\n",
       "      <th>Hood Canal Bridge</th>\n",
       "      <td>3748</td>\n",
       "      <td>18,000</td>\n",
       "      <td>16,148</td>\n",
       "      <td>-1,852</td>\n",
       "      <td>-10.29%</td>\n",
       "    </tr>\n",
       "    <tr>\n",
       "      <th>SR-530 N/O Stanwood</th>\n",
       "      <td>3745</td>\n",
       "      <td>9,100</td>\n",
       "      <td>8,319</td>\n",
       "      <td>-781</td>\n",
       "      <td>-8.58%</td>\n",
       "    </tr>\n",
       "    <tr>\n",
       "      <th>Mukilteo-Clinton Ferry</th>\n",
       "      <td>3747</td>\n",
       "      <td>6,300</td>\n",
       "      <td>5,891</td>\n",
       "      <td>-409</td>\n",
       "      <td>-6.49%</td>\n",
       "    </tr>\n",
       "    <tr>\n",
       "      <th>SR-2 @ Stevens Pass</th>\n",
       "      <td>3740</td>\n",
       "      <td>5,600</td>\n",
       "      <td>3,081</td>\n",
       "      <td>-2,519</td>\n",
       "      <td>-44.98%</td>\n",
       "    </tr>\n",
       "    <tr>\n",
       "      <th>SR-302 to Shelton</th>\n",
       "      <td>3750</td>\n",
       "      <td>4,100</td>\n",
       "      <td>4,140</td>\n",
       "      <td>40</td>\n",
       "      <td>0.97%</td>\n",
       "    </tr>\n",
       "    <tr>\n",
       "      <th>SR-7 to Morton</th>\n",
       "      <td>3735</td>\n",
       "      <td>2,700</td>\n",
       "      <td>2,104</td>\n",
       "      <td>-596</td>\n",
       "      <td>-22.06%</td>\n",
       "    </tr>\n",
       "    <tr>\n",
       "      <th>SR-706 to Longmire</th>\n",
       "      <td>3736</td>\n",
       "      <td>1,800</td>\n",
       "      <td>1,918</td>\n",
       "      <td>118</td>\n",
       "      <td>6.55%</td>\n",
       "    </tr>\n",
       "    <tr>\n",
       "      <th>SR-530 N/O Darrington</th>\n",
       "      <td>3742</td>\n",
       "      <td>1,600</td>\n",
       "      <td>1,138</td>\n",
       "      <td>-462</td>\n",
       "      <td>-28.87%</td>\n",
       "    </tr>\n",
       "    <tr>\n",
       "      <th>SR-9 N/O Arlington</th>\n",
       "      <td>3743</td>\n",
       "      <td>1,400</td>\n",
       "      <td>1,871</td>\n",
       "      <td>471</td>\n",
       "      <td>33.61%</td>\n",
       "    </tr>\n",
       "    <tr>\n",
       "      <th>SR-123 S/O Cayuse Pass</th>\n",
       "      <td>3737</td>\n",
       "      <td>1,100</td>\n",
       "      <td>525</td>\n",
       "      <td>-575</td>\n",
       "      <td>-52.29%</td>\n",
       "    </tr>\n",
       "    <tr>\n",
       "      <th>SR 410 E/O Cayuse Pass</th>\n",
       "      <td>3738</td>\n",
       "      <td>960</td>\n",
       "      <td>553</td>\n",
       "      <td>-407</td>\n",
       "      <td>-42.41%</td>\n",
       "    </tr>\n",
       "    <tr>\n",
       "      <th>Total</th>\n",
       "      <td></td>\n",
       "      <td>346,660</td>\n",
       "      <td>310,806</td>\n",
       "      <td>-35,854</td>\n",
       "      <td>-10.34%</td>\n",
       "    </tr>\n",
       "  </tbody>\n",
       "</table>\n",
       "</div>"
      ],
      "text/plain": [
       "                        external_station  observed  modeled    diff  \\\n",
       "location                                                              \n",
       "I-5 to Olympia                      3733   130,000  123,953  -6,047   \n",
       "I-5 to Mount Vernon                 3744    67,000   56,679 -10,321   \n",
       "I-90 @ Snoqualmie Pass              3739    33,000   28,998  -4,002   \n",
       "SR-532 to Camano Island             3746    23,000   19,990  -3,010   \n",
       "SR-507 to Yelm                      3734    23,000   19,453  -3,547   \n",
       "SR-3 to Belfair                     3749    18,000   16,046  -1,954   \n",
       "Hood Canal Bridge                   3748    18,000   16,148  -1,852   \n",
       "SR-530 N/O Stanwood                 3745     9,100    8,319    -781   \n",
       "Mukilteo-Clinton Ferry              3747     6,300    5,891    -409   \n",
       "SR-2 @ Stevens Pass                 3740     5,600    3,081  -2,519   \n",
       "SR-302 to Shelton                   3750     4,100    4,140      40   \n",
       "SR-7 to Morton                      3735     2,700    2,104    -596   \n",
       "SR-706 to Longmire                  3736     1,800    1,918     118   \n",
       "SR-530 N/O Darrington               3742     1,600    1,138    -462   \n",
       "SR-9 N/O Arlington                  3743     1,400    1,871     471   \n",
       "SR-123 S/O Cayuse Pass              3737     1,100      525    -575   \n",
       "SR 410 E/O Cayuse Pass              3738       960      553    -407   \n",
       "Total                                      346,660  310,806 -35,854   \n",
       "\n",
       "                        percent_diff  \n",
       "location                              \n",
       "I-5 to Olympia                -4.65%  \n",
       "I-5 to Mount Vernon          -15.40%  \n",
       "I-90 @ Snoqualmie Pass       -12.13%  \n",
       "SR-532 to Camano Island      -13.09%  \n",
       "SR-507 to Yelm               -15.42%  \n",
       "SR-3 to Belfair              -10.85%  \n",
       "Hood Canal Bridge            -10.29%  \n",
       "SR-530 N/O Stanwood           -8.58%  \n",
       "Mukilteo-Clinton Ferry        -6.49%  \n",
       "SR-2 @ Stevens Pass          -44.98%  \n",
       "SR-302 to Shelton              0.97%  \n",
       "SR-7 to Morton               -22.06%  \n",
       "SR-706 to Longmire             6.55%  \n",
       "SR-530 N/O Darrington        -28.87%  \n",
       "SR-9 N/O Arlington            33.61%  \n",
       "SR-123 S/O Cayuse Pass       -52.29%  \n",
       "SR 410 E/O Cayuse Pass       -42.41%  \n",
       "Total                        -10.34%  "
      ]
     },
     "execution_count": 24,
     "metadata": {},
     "output_type": "execute_result"
    }
   ],
   "source": [
    "df = pd.read_csv(os.path.join(relative_path,'validation/') + 'external_volumes.csv', index_col='location')\n",
    "pd.options.display.float_format = '{:0,.0f}'.format\n",
    "df = df.drop('diff', axis=1)\n",
    "df['diff'] = df['modeled']-df['observed']\n",
    "df = df.fillna(0)\n",
    "df.loc['Total',['observed','modeled','diff']] = df[['observed','modeled','diff']].sum()\n",
    "df['percent_diff'] = df['diff']/df['observed']\n",
    "df[['percent_diff']] = df[['percent_diff']].applymap(format_percent)\n",
    "\n",
    "df[['external_station']] = df[['external_station']].applymap('{:0.0f}'.format)\n",
    "df.replace('nan', '', regex=True)"
   ]
  },
  {
   "cell_type": "code",
   "execution_count": 25,
   "metadata": {},
   "outputs": [],
   "source": []
  }
 ],
 "metadata": {
  "kernelspec": {
   "display_name": "Python 2",
   "language": "python",
   "name": "python2"
  },
  "language_info": {
   "codemirror_mode": {
    "name": "ipython",
    "version": 2
   },
   "file_extension": ".py",
   "mimetype": "text/x-python",
   "name": "python",
   "nbconvert_exporter": "python",
   "pygments_lexer": "ipython2",
   "version": "2.7.14"
  }
 },
 "nbformat": 4,
 "nbformat_minor": 2
}
