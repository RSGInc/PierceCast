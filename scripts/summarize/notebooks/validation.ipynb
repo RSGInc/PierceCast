{
 "cells": [
  {
   "cell_type": "code",
   "execution_count": 1,
   "metadata": {},
   "outputs": [
    {
     "data": {
      "text/html": [
       "<script>\n",
       "code_show=true; \n",
       "function code_toggle() {\n",
       " if (code_show){\n",
       " $('div.input').hide();\n",
       " } else {\n",
       " $('div.input').show();\n",
       " }\n",
       " code_show = !code_show\n",
       "} \n",
       "$( document ).ready(code_toggle);\n",
       "</script>\n",
       "<form action=\"javascript:code_toggle()\"><input type=\"submit\" value=\"Click here to toggle on/off the raw code.\"></form>"
      ],
      "text/plain": [
       "<IPython.core.display.HTML object>"
      ]
     },
     "execution_count": 1,
     "metadata": {},
     "output_type": "execute_result"
    }
   ],
   "source": [
    "import os, time\n",
    "from scipy import stats\n",
    "import pandas as pd\n",
    "import numpy as np\n",
    "%matplotlib inline\n",
    "\n",
    "from IPython.display import display, HTML\n",
    "\n",
    "HTML('''<script>\n",
    "code_show=true; \n",
    "function code_toggle() {\n",
    " if (code_show){\n",
    " $('div.input').hide();\n",
    " } else {\n",
    " $('div.input').show();\n",
    " }\n",
    " code_show = !code_show\n",
    "} \n",
    "$( document ).ready(code_toggle);\n",
    "</script>\n",
    "<form action=\"javascript:code_toggle()\"><input type=\"submit\" value=\"Click here to toggle on/off the raw code.\"></form>''')"
   ]
  },
  {
   "cell_type": "code",
   "execution_count": 2,
   "metadata": {},
   "outputs": [
    {
     "name": "stdout",
     "output_type": "stream",
     "text": [
      "Summary run: Thu, 09 Jan 2020 15:30\n"
     ]
    }
   ],
   "source": [
    "# Create timestamp to show when this summary was run\n",
    "print 'Summary run: ' + time.strftime(\"%a, %d %b %Y %H:%M\")"
   ]
  },
  {
   "cell_type": "code",
   "execution_count": 3,
   "metadata": {},
   "outputs": [],
   "source": [
    "relative_path = '../../../outputs'\n",
    "pd.options.display.float_format = '{:0,.0f}'.format\n",
    "format_percent = \"{:,.2%}\".format"
   ]
  },
  {
   "cell_type": "markdown",
   "metadata": {},
   "source": [
    "# Traffic Counts\n",
    "----\n",
    "### By Facility Type"
   ]
  },
  {
   "cell_type": "code",
   "execution_count": 4,
   "metadata": {},
   "outputs": [],
   "source": [
    "df = pd.read_csv(os.path.join(relative_path,'validation','daily_volume.csv'))\n",
    "df[['modeled','observed']] = df[['modeled','observed']].astype('float')"
   ]
  },
  {
   "cell_type": "code",
   "execution_count": 5,
   "metadata": {},
   "outputs": [
    {
     "data": {
      "text/html": [
       "<div>\n",
       "<table border=\"1\" class=\"dataframe\">\n",
       "  <thead>\n",
       "    <tr style=\"text-align: right;\">\n",
       "      <th></th>\n",
       "      <th>observed</th>\n",
       "      <th>modeled</th>\n",
       "      <th>diff</th>\n",
       "      <th>percent_diff</th>\n",
       "    </tr>\n",
       "    <tr>\n",
       "      <th>@facilitytype</th>\n",
       "      <th></th>\n",
       "      <th></th>\n",
       "      <th></th>\n",
       "      <th></th>\n",
       "    </tr>\n",
       "  </thead>\n",
       "  <tbody>\n",
       "    <tr>\n",
       "      <th>Freeway</th>\n",
       "      <td>39,709,168</td>\n",
       "      <td>38,190,420</td>\n",
       "      <td>-1,518,748</td>\n",
       "      <td>-3.82%</td>\n",
       "    </tr>\n",
       "    <tr>\n",
       "      <th>HOV</th>\n",
       "      <td>108,593</td>\n",
       "      <td>105,013</td>\n",
       "      <td>-3,580</td>\n",
       "      <td>-3.30%</td>\n",
       "    </tr>\n",
       "    <tr>\n",
       "      <th>Principal Arterial</th>\n",
       "      <td>920,365</td>\n",
       "      <td>1,012,408</td>\n",
       "      <td>92,043</td>\n",
       "      <td>10.00%</td>\n",
       "    </tr>\n",
       "    <tr>\n",
       "      <th>Ramp</th>\n",
       "      <td>29,383</td>\n",
       "      <td>24,188</td>\n",
       "      <td>-5,195</td>\n",
       "      <td>-17.68%</td>\n",
       "    </tr>\n",
       "    <tr>\n",
       "      <th>Total</th>\n",
       "      <td>40,767,509</td>\n",
       "      <td>39,332,029</td>\n",
       "      <td>-1,435,480</td>\n",
       "      <td>-3.52%</td>\n",
       "    </tr>\n",
       "  </tbody>\n",
       "</table>\n",
       "</div>"
      ],
      "text/plain": [
       "                     observed    modeled       diff percent_diff\n",
       "@facilitytype                                                   \n",
       "Freeway            39,709,168 38,190,420 -1,518,748       -3.82%\n",
       "HOV                   108,593    105,013     -3,580       -3.30%\n",
       "Principal Arterial    920,365  1,012,408     92,043       10.00%\n",
       "Ramp                   29,383     24,188     -5,195      -17.68%\n",
       "Total              40,767,509 39,332,029 -1,435,480       -3.52%"
      ]
     },
     "execution_count": 5,
     "metadata": {},
     "output_type": "execute_result"
    }
   ],
   "source": [
    "_df = df.groupby('@facilitytype').sum()[['observed','modeled']]\n",
    "_df.loc['Total',:] = _df.sum().values\n",
    "_df['diff'] = _df['modeled']-_df['observed']\n",
    "_df['percent_diff'] = _df['diff']/_df['observed']\n",
    "_df[['percent_diff']] = _df[['percent_diff']].applymap(format_percent)\n",
    "_df"
   ]
  },
  {
   "cell_type": "markdown",
   "metadata": {},
   "source": [
    "----\n",
    "### By County"
   ]
  },
  {
   "cell_type": "code",
   "execution_count": 6,
   "metadata": {},
   "outputs": [
    {
     "data": {
      "text/html": [
       "<div>\n",
       "<table border=\"1\" class=\"dataframe\">\n",
       "  <thead>\n",
       "    <tr style=\"text-align: right;\">\n",
       "      <th></th>\n",
       "      <th>observed</th>\n",
       "      <th>modeled</th>\n",
       "      <th>diff</th>\n",
       "      <th>percent_diff</th>\n",
       "    </tr>\n",
       "    <tr>\n",
       "      <th>county</th>\n",
       "      <th></th>\n",
       "      <th></th>\n",
       "      <th></th>\n",
       "      <th></th>\n",
       "    </tr>\n",
       "  </thead>\n",
       "  <tbody>\n",
       "    <tr>\n",
       "      <th>King</th>\n",
       "      <td>28,864,568</td>\n",
       "      <td>27,452,918</td>\n",
       "      <td>-1,411,650</td>\n",
       "      <td>-4.89%</td>\n",
       "    </tr>\n",
       "    <tr>\n",
       "      <th>Pierce</th>\n",
       "      <td>6,410,825</td>\n",
       "      <td>6,616,220</td>\n",
       "      <td>205,395</td>\n",
       "      <td>3.20%</td>\n",
       "    </tr>\n",
       "    <tr>\n",
       "      <th>Snohomish</th>\n",
       "      <td>5,492,116</td>\n",
       "      <td>5,262,891</td>\n",
       "      <td>-229,225</td>\n",
       "      <td>-4.17%</td>\n",
       "    </tr>\n",
       "    <tr>\n",
       "      <th>Total</th>\n",
       "      <td>40,767,509</td>\n",
       "      <td>39,332,029</td>\n",
       "      <td>-1,435,480</td>\n",
       "      <td>-3.52%</td>\n",
       "    </tr>\n",
       "  </tbody>\n",
       "</table>\n",
       "</div>"
      ],
      "text/plain": [
       "            observed    modeled       diff percent_diff\n",
       "county                                                 \n",
       "King      28,864,568 27,452,918 -1,411,650       -4.89%\n",
       "Pierce     6,410,825  6,616,220    205,395        3.20%\n",
       "Snohomish  5,492,116  5,262,891   -229,225       -4.17%\n",
       "Total     40,767,509 39,332,029 -1,435,480       -3.52%"
      ]
     },
     "execution_count": 6,
     "metadata": {},
     "output_type": "execute_result"
    }
   ],
   "source": [
    "df = pd.read_csv(os.path.join(relative_path,'validation','daily_volume_county_facility.csv'))\n",
    "df[['modeled','observed']] = df[['modeled','observed']].astype('float')\n",
    "\n",
    "_df = df.groupby('county').sum()[['observed','modeled']]\n",
    "_df.loc['Total',:] = _df.sum().values\n",
    "_df['diff'] = _df['modeled']-_df['observed']\n",
    "_df['percent_diff'] = _df['diff']/_df['observed']\n",
    "_df[['percent_diff']] = _df[['percent_diff']].applymap(format_percent)\n",
    "_df"
   ]
  },
  {
   "cell_type": "markdown",
   "metadata": {},
   "source": [
    "----\n",
    "### Scatterplots "
   ]
  },
  {
   "cell_type": "code",
   "execution_count": 7,
   "metadata": {},
   "outputs": [
    {
     "data": {
      "text/plain": [
       "[<matplotlib.lines.Line2D at 0x1d3c82b0>]"
      ]
     },
     "execution_count": 7,
     "metadata": {},
     "output_type": "execute_result"
    },
    {
     "name": "stderr",
     "output_type": "stream",
     "text": [
      "C:\\anaconda\\envs\\model\\lib\\site-packages\\matplotlib\\collections.py:590: FutureWarning: elementwise comparison failed; returning scalar instead, but in the future will perform elementwise comparison\n",
      "  if self._edgecolors == str('face'):\n"
     ]
    },
    {
     "data": {
      "image/png": "[encoded data removed]",
      "text/plain": [
       "<matplotlib.figure.Figure at 0x1d3c8278>"
      ]
     },
     "metadata": {},
     "output_type": "display_data"
    }
   ],
   "source": [
    "df = pd.read_csv(os.path.join(relative_path,'validation','daily_volume.csv'))\n",
    "ax = df.plot(kind='scatter', x='observed', y='modeled')\n",
    "lim = df[['observed','modeled']].max().max()*1.05\n",
    "ax.set_ylim(0,lim)\n",
    "ax.set_xlim(0,lim)\n",
    "x = np.linspace(*ax.get_xlim())\n",
    "ax.plot(x, x)"
   ]
  },
  {
   "cell_type": "code",
   "execution_count": 8,
   "metadata": {},
   "outputs": [
    {
     "name": "stdout",
     "output_type": "stream",
     "text": [
      "r^2: 0.949717356722\n"
     ]
    }
   ],
   "source": [
    "slope, intercept, r_value, p_value, std_err = stats.linregress(df['observed'],df['modeled'])\n",
    "print 'r^2: ' + str(r_value)"
   ]
  },
  {
   "cell_type": "markdown",
   "metadata": {},
   "source": [
    "---\n",
    "By County"
   ]
  },
  {
   "cell_type": "code",
   "execution_count": 9,
   "metadata": {},
   "outputs": [
    {
     "name": "stdout",
     "output_type": "stream",
     "text": [
      "King r^2: 0.960665807677\n",
      "Pierce r^2: 0.80022801905\n"
     ]
    },
    {
     "name": "stdout",
     "output_type": "stream",
     "text": [
      "Snohomish r^2: 0.983298206527\n"
     ]
    },
    {
     "data": {
      "image/png": "[encoded data removed]",
      "text/plain": [
       "<matplotlib.figure.Figure at 0x1d469ba8>"
      ]
     },
     "metadata": {},
     "output_type": "display_data"
    },
    {
     "data": {
      "image/png": "[encoded data removed]",
      "text/plain": [
       "<matplotlib.figure.Figure at 0x1d769860>"
      ]
     },
     "metadata": {},
     "output_type": "display_data"
    },
    {
     "data": {
      "image/png": "[encoded data removed]",
      "text/plain": [
       "<matplotlib.figure.Figure at 0x1d83f710>"
      ]
     },
     "metadata": {},
     "output_type": "display_data"
    }
   ],
   "source": [
    "for county in np.unique(df['county']):\n",
    "    _df = df[df['county'] == county]\n",
    "    ax = _df.plot(kind='scatter', x='observed', y='modeled', label=county)\n",
    "    lim = _df[['observed','modeled']].max().max()*1.05\n",
    "    ax.set_ylim(0,lim)\n",
    "    ax.set_xlim(0,lim)\n",
    "    slope, intercept, r_value, p_value, std_err = stats.linregress(_df['observed'],_df['modeled'])\n",
    "    x = np.linspace(*ax.get_xlim())\n",
    "    ax.plot(x, x)\n",
    "    print str(county) + ' r^2: ' + str(r_value)"
   ]
  },
  {
   "cell_type": "markdown",
   "metadata": {},
   "source": [
    "---\n",
    "By Facility Type"
   ]
  },
  {
   "cell_type": "code",
   "execution_count": 10,
   "metadata": {},
   "outputs": [
    {
     "name": "stdout",
     "output_type": "stream",
     "text": [
      "r^2 Freeway: 0.938997457883\n",
      "r^2 Principal Arterial: 0.925055552356\n"
     ]
    },
    {
     "data": {
      "image/png": "[encoded data removed]",
      "text/plain": [
       "<matplotlib.figure.Figure at 0x1daa7b38>"
      ]
     },
     "metadata": {},
     "output_type": "display_data"
    },
    {
     "data": {
      "image/png": "[encoded data removed]",
      "text/plain": [
       "<matplotlib.figure.Figure at 0x1df08b70>"
      ]
     },
     "metadata": {},
     "output_type": "display_data"
    }
   ],
   "source": [
    "for factype in ['Freeway','Principal Arterial']:\n",
    "    _df = df[df['@facilitytype'] == factype]\n",
    "    ax = _df.plot(kind='scatter', x='observed', y='modeled', label=factype)\n",
    "    lim = _df[['observed','modeled']].max().max()*1.05\n",
    "    ax.set_ylim(0,lim)\n",
    "    ax.set_xlim(0,lim)\n",
    "    x = np.linspace(*ax.get_xlim())\n",
    "    ax.plot(x, x)\n",
    "    slope, intercept, r_value, p_value, std_err = stats.linregress(_df['observed'],_df['modeled'])\n",
    "    print 'r^2 ' + str(factype) + ': ' + str(r_value)"
   ]
  },
  {
   "cell_type": "markdown",
   "metadata": {},
   "source": [
    "# Screenlines"
   ]
  },
  {
   "cell_type": "code",
   "execution_count": 11,
   "metadata": {},
   "outputs": [
    {
     "data": {
      "text/html": [
       "<div>\n",
       "<table border=\"1\" class=\"dataframe\">\n",
       "  <thead>\n",
       "    <tr style=\"text-align: right;\">\n",
       "      <th></th>\n",
       "      <th>name</th>\n",
       "      <th>observed</th>\n",
       "      <th>modeled</th>\n",
       "      <th>diff</th>\n",
       "      <th>percent_diff</th>\n",
       "    </tr>\n",
       "  </thead>\n",
       "  <tbody>\n",
       "    <tr>\n",
       "      <th>0</th>\n",
       "      <td>AUBURN - SOUTH KING</td>\n",
       "      <td>568,417</td>\n",
       "      <td>518,171</td>\n",
       "      <td>-50,246</td>\n",
       "      <td>-8.84%</td>\n",
       "    </tr>\n",
       "    <tr>\n",
       "      <th>1</th>\n",
       "      <td>KENT</td>\n",
       "      <td>550,322</td>\n",
       "      <td>483,146</td>\n",
       "      <td>-67,176</td>\n",
       "      <td>-12.21%</td>\n",
       "    </tr>\n",
       "    <tr>\n",
       "      <th>2</th>\n",
       "      <td>SEATTLE - SOUTH OF CBD</td>\n",
       "      <td>526,500</td>\n",
       "      <td>499,041</td>\n",
       "      <td>-27,459</td>\n",
       "      <td>-5.22%</td>\n",
       "    </tr>\n",
       "    <tr>\n",
       "      <th>3</th>\n",
       "      <td>SHIP CANAL</td>\n",
       "      <td>519,802</td>\n",
       "      <td>542,623</td>\n",
       "      <td>22,821</td>\n",
       "      <td>4.39%</td>\n",
       "    </tr>\n",
       "    <tr>\n",
       "      <th>4</th>\n",
       "      <td>KIRKLAND-REDMOND</td>\n",
       "      <td>414,120</td>\n",
       "      <td>380,264</td>\n",
       "      <td>-33,856</td>\n",
       "      <td>-8.18%</td>\n",
       "    </tr>\n",
       "    <tr>\n",
       "      <th>5</th>\n",
       "      <td>MILL CREEK</td>\n",
       "      <td>400,848</td>\n",
       "      <td>378,372</td>\n",
       "      <td>-22,476</td>\n",
       "      <td>-5.61%</td>\n",
       "    </tr>\n",
       "    <tr>\n",
       "      <th>6</th>\n",
       "      <td>SOUTH BELLEVUE</td>\n",
       "      <td>399,500</td>\n",
       "      <td>348,315</td>\n",
       "      <td>-51,185</td>\n",
       "      <td>-12.81%</td>\n",
       "    </tr>\n",
       "    <tr>\n",
       "      <th>7</th>\n",
       "      <td>SEATTLE - NORTH</td>\n",
       "      <td>372,000</td>\n",
       "      <td>362,843</td>\n",
       "      <td>-9,157</td>\n",
       "      <td>-2.46%</td>\n",
       "    </tr>\n",
       "    <tr>\n",
       "      <th>8</th>\n",
       "      <td>TACOMA - EAST OF CBD</td>\n",
       "      <td>312,164</td>\n",
       "      <td>313,117</td>\n",
       "      <td>953</td>\n",
       "      <td>0.31%</td>\n",
       "    </tr>\n",
       "    <tr>\n",
       "      <th>9</th>\n",
       "      <td>PARKLAND</td>\n",
       "      <td>304,322</td>\n",
       "      <td>263,651</td>\n",
       "      <td>-40,671</td>\n",
       "      <td>-13.36%</td>\n",
       "    </tr>\n",
       "    <tr>\n",
       "      <th>10</th>\n",
       "      <td>BOTHELL</td>\n",
       "      <td>293,729</td>\n",
       "      <td>293,124</td>\n",
       "      <td>-605</td>\n",
       "      <td>-0.21%</td>\n",
       "    </tr>\n",
       "    <tr>\n",
       "      <th>11</th>\n",
       "      <td>LYNNWOOD-BOTHELL</td>\n",
       "      <td>269,900</td>\n",
       "      <td>295,028</td>\n",
       "      <td>25,128</td>\n",
       "      <td>9.31%</td>\n",
       "    </tr>\n",
       "    <tr>\n",
       "      <th>12</th>\n",
       "      <td>TUKWILA</td>\n",
       "      <td>259,341</td>\n",
       "      <td>225,104</td>\n",
       "      <td>-34,237</td>\n",
       "      <td>-13.20%</td>\n",
       "    </tr>\n",
       "    <tr>\n",
       "      <th>13</th>\n",
       "      <td>TRANSLAKE</td>\n",
       "      <td>252,300</td>\n",
       "      <td>263,458</td>\n",
       "      <td>11,158</td>\n",
       "      <td>4.42%</td>\n",
       "    </tr>\n",
       "    <tr>\n",
       "      <th>14</th>\n",
       "      <td>PUYALLUP</td>\n",
       "      <td>135,600</td>\n",
       "      <td>120,831</td>\n",
       "      <td>-14,769</td>\n",
       "      <td>-10.89%</td>\n",
       "    </tr>\n",
       "    <tr>\n",
       "      <th>15</th>\n",
       "      <td>WOODINVILLE</td>\n",
       "      <td>110,168</td>\n",
       "      <td>132,516</td>\n",
       "      <td>22,348</td>\n",
       "      <td>20.29%</td>\n",
       "    </tr>\n",
       "    <tr>\n",
       "      <th>16</th>\n",
       "      <td>NORTH KITSAP</td>\n",
       "      <td>109,890</td>\n",
       "      <td>79,557</td>\n",
       "      <td>-30,333</td>\n",
       "      <td>-27.60%</td>\n",
       "    </tr>\n",
       "    <tr>\n",
       "      <th>17</th>\n",
       "      <td>TACOMA NARROWS</td>\n",
       "      <td>96,000</td>\n",
       "      <td>102,131</td>\n",
       "      <td>6,131</td>\n",
       "      <td>6.39%</td>\n",
       "    </tr>\n",
       "    <tr>\n",
       "      <th>18</th>\n",
       "      <td>PRESTON-ISSAQUAH</td>\n",
       "      <td>91,950</td>\n",
       "      <td>85,514</td>\n",
       "      <td>-6,436</td>\n",
       "      <td>-7.00%</td>\n",
       "    </tr>\n",
       "    <tr>\n",
       "      <th>19</th>\n",
       "      <td>RENTON</td>\n",
       "      <td>73,973</td>\n",
       "      <td>72,977</td>\n",
       "      <td>-996</td>\n",
       "      <td>-1.35%</td>\n",
       "    </tr>\n",
       "    <tr>\n",
       "      <th>20</th>\n",
       "      <td>SEATAC</td>\n",
       "      <td>73,635</td>\n",
       "      <td>88,862</td>\n",
       "      <td>15,227</td>\n",
       "      <td>20.68%</td>\n",
       "    </tr>\n",
       "    <tr>\n",
       "      <th>21</th>\n",
       "      <td>MAPLE VALLEY</td>\n",
       "      <td>71,874</td>\n",
       "      <td>62,071</td>\n",
       "      <td>-9,803</td>\n",
       "      <td>-13.64%</td>\n",
       "    </tr>\n",
       "    <tr>\n",
       "      <th>22</th>\n",
       "      <td>GIG HARBOR</td>\n",
       "      <td>71,040</td>\n",
       "      <td>89,383</td>\n",
       "      <td>18,343</td>\n",
       "      <td>25.82%</td>\n",
       "    </tr>\n",
       "    <tr>\n",
       "      <th>23</th>\n",
       "      <td>AGATE PASS BRIDGE</td>\n",
       "      <td>22,000</td>\n",
       "      <td>21,413</td>\n",
       "      <td>-587</td>\n",
       "      <td>-2.67%</td>\n",
       "    </tr>\n",
       "    <tr>\n",
       "      <th>24</th>\n",
       "      <td>CROSS SOUND</td>\n",
       "      <td>18,530</td>\n",
       "      <td>23,336</td>\n",
       "      <td>4,806</td>\n",
       "      <td>25.94%</td>\n",
       "    </tr>\n",
       "  </tbody>\n",
       "</table>\n",
       "</div>"
      ],
      "text/plain": [
       "                      name  observed  modeled    diff percent_diff\n",
       "0      AUBURN - SOUTH KING   568,417  518,171 -50,246       -8.84%\n",
       "1                     KENT   550,322  483,146 -67,176      -12.21%\n",
       "2   SEATTLE - SOUTH OF CBD   526,500  499,041 -27,459       -5.22%\n",
       "3               SHIP CANAL   519,802  542,623  22,821        4.39%\n",
       "4         KIRKLAND-REDMOND   414,120  380,264 -33,856       -8.18%\n",
       "5               MILL CREEK   400,848  378,372 -22,476       -5.61%\n",
       "6           SOUTH BELLEVUE   399,500  348,315 -51,185      -12.81%\n",
       "7          SEATTLE - NORTH   372,000  362,843  -9,157       -2.46%\n",
       "8     TACOMA - EAST OF CBD   312,164  313,117     953        0.31%\n",
       "9                 PARKLAND   304,322  263,651 -40,671      -13.36%\n",
       "10                 BOTHELL   293,729  293,124    -605       -0.21%\n",
       "11        LYNNWOOD-BOTHELL   269,900  295,028  25,128        9.31%\n",
       "12                 TUKWILA   259,341  225,104 -34,237      -13.20%\n",
       "13               TRANSLAKE   252,300  263,458  11,158        4.42%\n",
       "14                PUYALLUP   135,600  120,831 -14,769      -10.89%\n",
       "15             WOODINVILLE   110,168  132,516  22,348       20.29%\n",
       "16            NORTH KITSAP   109,890   79,557 -30,333      -27.60%\n",
       "17          TACOMA NARROWS    96,000  102,131   6,131        6.39%\n",
       "18        PRESTON-ISSAQUAH    91,950   85,514  -6,436       -7.00%\n",
       "19                  RENTON    73,973   72,977    -996       -1.35%\n",
       "20                  SEATAC    73,635   88,862  15,227       20.68%\n",
       "21            MAPLE VALLEY    71,874   62,071  -9,803      -13.64%\n",
       "22              GIG HARBOR    71,040   89,383  18,343       25.82%\n",
       "23       AGATE PASS BRIDGE    22,000   21,413    -587       -2.67%\n",
       "24             CROSS SOUND    18,530   23,336   4,806       25.94%"
      ]
     },
     "execution_count": 11,
     "metadata": {},
     "output_type": "execute_result"
    }
   ],
   "source": [
    "df = pd.read_csv(os.path.join(relative_path,'validation','screenlines.csv'))\n",
    "df['percent_diff'] = df['diff']/df['observed']\n",
    "df[['percent_diff']] = df[['percent_diff']].applymap(format_percent)\n",
    "df"
   ]
  },
  {
   "cell_type": "code",
   "execution_count": 12,
   "metadata": {},
   "outputs": [
    {
     "name": "stdout",
     "output_type": "stream",
     "text": [
      "r^2 : 0.991578168874\n"
     ]
    },
    {
     "data": {
      "image/png": "[encoded data removed]",
      "text/plain": [
       "<matplotlib.figure.Figure at 0x4013f28>"
      ]
     },
     "metadata": {},
     "output_type": "display_data"
    }
   ],
   "source": [
    "ax = df.plot(kind='scatter', x='observed', y='modeled')\n",
    "lim = df[['observed','modeled']].max().max()*1.05\n",
    "ax.set_ylim(0,lim)\n",
    "ax.set_xlim(0,lim)\n",
    "x = np.linspace(*ax.get_xlim())\n",
    "ax.plot(x, x)\n",
    "slope, intercept, r_value, p_value, std_err = stats.linregress(df['observed'],df['modeled'])\n",
    "print 'r^2 : ' + str(r_value)"
   ]
  },
  {
   "cell_type": "markdown",
   "metadata": {},
   "source": [
    "# Transit Boarding\n",
    "----\n",
    "### By Agency"
   ]
  },
  {
   "cell_type": "code",
   "execution_count": 13,
   "metadata": {},
   "outputs": [
    {
     "data": {
      "text/html": [
       "<div>\n",
       "<table border=\"1\" class=\"dataframe\">\n",
       "  <thead>\n",
       "    <tr style=\"text-align: right;\">\n",
       "      <th></th>\n",
       "      <th>agency</th>\n",
       "      <th>observed_20to5</th>\n",
       "      <th>modeled_20to5</th>\n",
       "      <th>diff</th>\n",
       "      <th>perc_diff</th>\n",
       "    </tr>\n",
       "  </thead>\n",
       "  <tbody>\n",
       "    <tr>\n",
       "      <th>2</th>\n",
       "      <td>King County Metro</td>\n",
       "      <td>392,694</td>\n",
       "      <td>308,734</td>\n",
       "      <td>-83,960</td>\n",
       "      <td>-21.38%</td>\n",
       "    </tr>\n",
       "    <tr>\n",
       "      <th>5</th>\n",
       "      <td>Sound Transit</td>\n",
       "      <td>145,426</td>\n",
       "      <td>92,036</td>\n",
       "      <td>-53,390</td>\n",
       "      <td>-36.71%</td>\n",
       "    </tr>\n",
       "    <tr>\n",
       "      <th>0</th>\n",
       "      <td>Community Transit</td>\n",
       "      <td>30,918</td>\n",
       "      <td>33,035</td>\n",
       "      <td>2,117</td>\n",
       "      <td>6.85%</td>\n",
       "    </tr>\n",
       "    <tr>\n",
       "      <th>4</th>\n",
       "      <td>Pierce Transit</td>\n",
       "      <td>27,233</td>\n",
       "      <td>38,359</td>\n",
       "      <td>11,125</td>\n",
       "      <td>40.85%</td>\n",
       "    </tr>\n",
       "    <tr>\n",
       "      <th>6</th>\n",
       "      <td>Washington Ferries</td>\n",
       "      <td>16,912</td>\n",
       "      <td>8,805</td>\n",
       "      <td>-8,107</td>\n",
       "      <td>-47.94%</td>\n",
       "    </tr>\n",
       "    <tr>\n",
       "      <th>3</th>\n",
       "      <td>Kitsap Transit</td>\n",
       "      <td>7,638</td>\n",
       "      <td>9,567</td>\n",
       "      <td>1,929</td>\n",
       "      <td>25.26%</td>\n",
       "    </tr>\n",
       "    <tr>\n",
       "      <th>1</th>\n",
       "      <td>Everett Transit</td>\n",
       "      <td>3,290</td>\n",
       "      <td>1,691</td>\n",
       "      <td>-1,600</td>\n",
       "      <td>-48.62%</td>\n",
       "    </tr>\n",
       "  </tbody>\n",
       "</table>\n",
       "</div>"
      ],
      "text/plain": [
       "               agency  observed_20to5  modeled_20to5    diff perc_diff\n",
       "2   King County Metro         392,694        308,734 -83,960   -21.38%\n",
       "5       Sound Transit         145,426         92,036 -53,390   -36.71%\n",
       "0   Community Transit          30,918         33,035   2,117     6.85%\n",
       "4      Pierce Transit          27,233         38,359  11,125    40.85%\n",
       "6  Washington Ferries          16,912          8,805  -8,107   -47.94%\n",
       "3      Kitsap Transit           7,638          9,567   1,929    25.26%\n",
       "1     Everett Transit           3,290          1,691  -1,600   -48.62%"
      ]
     },
     "execution_count": 13,
     "metadata": {},
     "output_type": "execute_result"
    }
   ],
   "source": [
    "df = pd.read_csv(os.path.join(relative_path,'validation/') + 'daily_boardings_by_agency.csv')\n",
    "df[['observed_20to5','modeled_20to5','diff']] = df[['observed_20to5','modeled_20to5','diff']].astype('float')\n",
    "df[['perc_diff']] = df[['perc_diff']].applymap(format_percent)\n",
    "df.sort_values('observed_20to5', ascending=False)"
   ]
  },
  {
   "cell_type": "markdown",
   "metadata": {},
   "source": [
    "----\n",
    "### Key Routes\n",
    "#### Ferries"
   ]
  },
  {
   "cell_type": "code",
   "execution_count": 14,
   "metadata": {},
   "outputs": [
    {
     "data": {
      "text/html": [
       "<div>\n",
       "<table border=\"1\" class=\"dataframe\">\n",
       "  <thead>\n",
       "    <tr style=\"text-align: right;\">\n",
       "      <th></th>\n",
       "      <th>description</th>\n",
       "      <th>observed_20to5</th>\n",
       "      <th>modeled_20to5</th>\n",
       "      <th>diff</th>\n",
       "      <th>perc_diff</th>\n",
       "    </tr>\n",
       "  </thead>\n",
       "  <tbody>\n",
       "    <tr>\n",
       "      <th>0</th>\n",
       "      <td>POF West Seattle - S</td>\n",
       "      <td>1,356</td>\n",
       "      <td>716</td>\n",
       "      <td>-639</td>\n",
       "      <td>-47.16%</td>\n",
       "    </tr>\n",
       "    <tr>\n",
       "      <th>1</th>\n",
       "      <td>POF Vashon Island -</td>\n",
       "      <td>670</td>\n",
       "      <td>13</td>\n",
       "      <td>-656</td>\n",
       "      <td>-98.00%</td>\n",
       "    </tr>\n",
       "    <tr>\n",
       "      <th>2</th>\n",
       "      <td>WSF Kingston - Edmon</td>\n",
       "      <td>1,732</td>\n",
       "      <td>537</td>\n",
       "      <td>-1,195</td>\n",
       "      <td>-68.97%</td>\n",
       "    </tr>\n",
       "    <tr>\n",
       "      <th>3</th>\n",
       "      <td>WSF Bainbridge Islan</td>\n",
       "      <td>8,857</td>\n",
       "      <td>4,829</td>\n",
       "      <td>-4,027</td>\n",
       "      <td>-45.47%</td>\n",
       "    </tr>\n",
       "    <tr>\n",
       "      <th>4</th>\n",
       "      <td>WSF Bremerton - Seat</td>\n",
       "      <td>4,484</td>\n",
       "      <td>3,029</td>\n",
       "      <td>-1,455</td>\n",
       "      <td>-32.45%</td>\n",
       "    </tr>\n",
       "    <tr>\n",
       "      <th>5</th>\n",
       "      <td>WSF Southworth - Fau</td>\n",
       "      <td>365</td>\n",
       "      <td>109</td>\n",
       "      <td>-257</td>\n",
       "      <td>-70.24%</td>\n",
       "    </tr>\n",
       "    <tr>\n",
       "      <th>6</th>\n",
       "      <td>WSF Vashon Island -</td>\n",
       "      <td>946</td>\n",
       "      <td>260</td>\n",
       "      <td>-686</td>\n",
       "      <td>-72.48%</td>\n",
       "    </tr>\n",
       "    <tr>\n",
       "      <th>7</th>\n",
       "      <td>WSF Southworth - Vas</td>\n",
       "      <td>239</td>\n",
       "      <td>25</td>\n",
       "      <td>-214</td>\n",
       "      <td>-89.51%</td>\n",
       "    </tr>\n",
       "    <tr>\n",
       "      <th>8</th>\n",
       "      <td>WSF Point Defiance -</td>\n",
       "      <td>289</td>\n",
       "      <td>14</td>\n",
       "      <td>-274</td>\n",
       "      <td>-95.07%</td>\n",
       "    </tr>\n",
       "  </tbody>\n",
       "</table>\n",
       "</div>"
      ],
      "text/plain": [
       "            description  observed_20to5  modeled_20to5   diff perc_diff\n",
       "0  POF West Seattle - S           1,356            716   -639   -47.16%\n",
       "1   POF Vashon Island -             670             13   -656   -98.00%\n",
       "2  WSF Kingston - Edmon           1,732            537 -1,195   -68.97%\n",
       "3  WSF Bainbridge Islan           8,857          4,829 -4,027   -45.47%\n",
       "4  WSF Bremerton - Seat           4,484          3,029 -1,455   -32.45%\n",
       "5  WSF Southworth - Fau             365            109   -257   -70.24%\n",
       "6   WSF Vashon Island -             946            260   -686   -72.48%\n",
       "7  WSF Southworth - Vas             239             25   -214   -89.51%\n",
       "8  WSF Point Defiance -             289             14   -274   -95.07%"
      ]
     },
     "execution_count": 14,
     "metadata": {},
     "output_type": "execute_result"
    }
   ],
   "source": [
    "df = pd.read_csv(os.path.join(relative_path,'validation/') + 'daily_boardings_key_routes.csv', index_col='description')\n",
    "df[['observed_20to5','modeled_20to5']] = df[['observed_20to5','modeled_20to5']].astype('float')\n",
    "_df = df[df['route_code'].isin([5001,5002,5003,5004,5005,5006,5007,1973,1975])].reset_index()\n",
    "_df.drop(['route_code','agency'], axis=1, inplace=True)\n",
    "_df[['perc_diff']] = _df[['perc_diff']].applymap(format_percent)\n",
    "_df"
   ]
  },
  {
   "cell_type": "code",
   "execution_count": 15,
   "metadata": {},
   "outputs": [
    {
     "name": "stdout",
     "output_type": "stream",
     "text": [
      "r^2 : 0.988534015422\n"
     ]
    },
    {
     "data": {
      "image/png": "[encoded data removed]",
      "text/plain": [
       "<matplotlib.figure.Figure at 0x1d12de48>"
      ]
     },
     "metadata": {},
     "output_type": "display_data"
    }
   ],
   "source": [
    "ax = _df.plot(kind='scatter', x='observed_20to5', y='modeled_20to5')\n",
    "lim = _df[['observed_20to5','modeled_20to5']].max().max()*1.05\n",
    "ax.set_ylim(0,lim)\n",
    "ax.set_xlim(0,lim)\n",
    "x = np.linspace(*ax.get_xlim())\n",
    "ax.plot(x, x)\n",
    "slope, intercept, r_value, p_value, std_err = stats.linregress(_df['observed_20to5'],_df['modeled_20to5'])\n",
    "print 'r^2 ' + str('') + ': ' + str(r_value)"
   ]
  },
  {
   "cell_type": "markdown",
   "metadata": {},
   "source": [
    "#### Rail"
   ]
  },
  {
   "cell_type": "code",
   "execution_count": 16,
   "metadata": {},
   "outputs": [
    {
     "data": {
      "text/html": [
       "<div>\n",
       "<table border=\"1\" class=\"dataframe\">\n",
       "  <thead>\n",
       "    <tr style=\"text-align: right;\">\n",
       "      <th></th>\n",
       "      <th>description</th>\n",
       "      <th>observed_20to5</th>\n",
       "      <th>modeled_20to5</th>\n",
       "      <th>diff</th>\n",
       "      <th>perc_diff</th>\n",
       "    </tr>\n",
       "  </thead>\n",
       "  <tbody>\n",
       "    <tr>\n",
       "      <th>0</th>\n",
       "      <td>Link Red Line</td>\n",
       "      <td>69,383</td>\n",
       "      <td>32,560</td>\n",
       "      <td>-36,823</td>\n",
       "      <td>-53.07%</td>\n",
       "    </tr>\n",
       "    <tr>\n",
       "      <th>1</th>\n",
       "      <td>Sounder South</td>\n",
       "      <td>15,356</td>\n",
       "      <td>5,293</td>\n",
       "      <td>-10,063</td>\n",
       "      <td>-65.53%</td>\n",
       "    </tr>\n",
       "    <tr>\n",
       "      <th>2</th>\n",
       "      <td>Sounder North</td>\n",
       "      <td>1,667</td>\n",
       "      <td>839</td>\n",
       "      <td>-828</td>\n",
       "      <td>-49.66%</td>\n",
       "    </tr>\n",
       "  </tbody>\n",
       "</table>\n",
       "</div>"
      ],
      "text/plain": [
       "     description  observed_20to5  modeled_20to5    diff perc_diff\n",
       "0  Link Red Line          69,383         32,560 -36,823   -53.07%\n",
       "1  Sounder South          15,356          5,293 -10,063   -65.53%\n",
       "2  Sounder North           1,667            839    -828   -49.66%"
      ]
     },
     "execution_count": 16,
     "metadata": {},
     "output_type": "execute_result"
    }
   ],
   "source": [
    "_df = df[df['route_code'].isin([6996,6999,6998])].reset_index()\n",
    "_df['description'] = _df['route_code'].map({6998: 'Sounder South', 6999: 'Sounder North',6996: 'Link Red Line'})\n",
    "_df.drop(['route_code','agency'], axis=1, inplace=True)\n",
    "_df[['perc_diff']] = _df[['perc_diff']].applymap(format_percent)\n",
    "_df"
   ]
  },
  {
   "cell_type": "code",
   "execution_count": 17,
   "metadata": {},
   "outputs": [
    {
     "name": "stdout",
     "output_type": "stream",
     "text": [
      "r^2 : 0.99805910847\n"
     ]
    },
    {
     "data": {
      "image/png": "[encoded data removed]",
      "text/plain": [
       "<matplotlib.figure.Figure at 0x1d211400>"
      ]
     },
     "metadata": {},
     "output_type": "display_data"
    }
   ],
   "source": [
    "ax = _df.plot(kind='scatter', x='observed_20to5', y='modeled_20to5')\n",
    "lim = _df[['observed_20to5','modeled_20to5']].max().max()*1.05\n",
    "ax.set_ylim(0,lim)\n",
    "ax.set_xlim(0,lim)\n",
    "x = np.linspace(*ax.get_xlim())\n",
    "ax.plot(x, x)\n",
    "slope, intercept, r_value, p_value, std_err = stats.linregress(_df['observed_20to5'],_df['modeled_20to5'])\n",
    "print 'r^2 ' + str('') + ': ' + str(r_value)"
   ]
  },
  {
   "cell_type": "markdown",
   "metadata": {},
   "source": [
    "#### RapidRide, Busiest Buses, Streetcar"
   ]
  },
  {
   "cell_type": "code",
   "execution_count": 18,
   "metadata": {},
   "outputs": [
    {
     "data": {
      "text/html": [
       "<div>\n",
       "<table border=\"1\" class=\"dataframe\">\n",
       "  <thead>\n",
       "    <tr style=\"text-align: right;\">\n",
       "      <th></th>\n",
       "      <th>description</th>\n",
       "      <th>observed_20to5</th>\n",
       "      <th>modeled_20to5</th>\n",
       "      <th>diff</th>\n",
       "      <th>perc_diff</th>\n",
       "    </tr>\n",
       "  </thead>\n",
       "  <tbody>\n",
       "    <tr>\n",
       "      <th>6</th>\n",
       "      <td>E Line RapidRide</td>\n",
       "      <td>15,336</td>\n",
       "      <td>11,944</td>\n",
       "      <td>-3,392</td>\n",
       "      <td>-22.11%</td>\n",
       "    </tr>\n",
       "    <tr>\n",
       "      <th>10</th>\n",
       "      <td>Sound Transit 550</td>\n",
       "      <td>9,168</td>\n",
       "      <td>9,747</td>\n",
       "      <td>580</td>\n",
       "      <td>6.32%</td>\n",
       "    </tr>\n",
       "    <tr>\n",
       "      <th>2</th>\n",
       "      <td>A Line RapidRide</td>\n",
       "      <td>8,522</td>\n",
       "      <td>8,908</td>\n",
       "      <td>386</td>\n",
       "      <td>4.53%</td>\n",
       "    </tr>\n",
       "    <tr>\n",
       "      <th>1</th>\n",
       "      <td>KC Metro 40</td>\n",
       "      <td>11,405</td>\n",
       "      <td>8,667</td>\n",
       "      <td>-2,738</td>\n",
       "      <td>-24.01%</td>\n",
       "    </tr>\n",
       "    <tr>\n",
       "      <th>5</th>\n",
       "      <td>D Line RapidRide</td>\n",
       "      <td>13,078</td>\n",
       "      <td>8,212</td>\n",
       "      <td>-4,866</td>\n",
       "      <td>-37.21%</td>\n",
       "    </tr>\n",
       "    <tr>\n",
       "      <th>4</th>\n",
       "      <td>C Line RapidRide</td>\n",
       "      <td>11,368</td>\n",
       "      <td>7,807</td>\n",
       "      <td>-3,561</td>\n",
       "      <td>-31.32%</td>\n",
       "    </tr>\n",
       "    <tr>\n",
       "      <th>0</th>\n",
       "      <td>KC Metro 7</td>\n",
       "      <td>10,150</td>\n",
       "      <td>6,351</td>\n",
       "      <td>-3,799</td>\n",
       "      <td>-37.43%</td>\n",
       "    </tr>\n",
       "    <tr>\n",
       "      <th>7</th>\n",
       "      <td>F Line RapidRide</td>\n",
       "      <td>5,267</td>\n",
       "      <td>5,435</td>\n",
       "      <td>168</td>\n",
       "      <td>3.20%</td>\n",
       "    </tr>\n",
       "    <tr>\n",
       "      <th>3</th>\n",
       "      <td>B Line RapidRide</td>\n",
       "      <td>5,914</td>\n",
       "      <td>4,118</td>\n",
       "      <td>-1,796</td>\n",
       "      <td>-30.37%</td>\n",
       "    </tr>\n",
       "    <tr>\n",
       "      <th>9</th>\n",
       "      <td>First Hill Streetcar</td>\n",
       "      <td>3,586</td>\n",
       "      <td>800</td>\n",
       "      <td>-2,786</td>\n",
       "      <td>-77.68%</td>\n",
       "    </tr>\n",
       "    <tr>\n",
       "      <th>8</th>\n",
       "      <td>SLU Streetcar</td>\n",
       "      <td>1,703</td>\n",
       "      <td>584</td>\n",
       "      <td>-1,120</td>\n",
       "      <td>-65.74%</td>\n",
       "    </tr>\n",
       "  </tbody>\n",
       "</table>\n",
       "</div>"
      ],
      "text/plain": [
       "             description  observed_20to5  modeled_20to5   diff perc_diff\n",
       "6       E Line RapidRide          15,336         11,944 -3,392   -22.11%\n",
       "10     Sound Transit 550           9,168          9,747    580     6.32%\n",
       "2       A Line RapidRide           8,522          8,908    386     4.53%\n",
       "1            KC Metro 40          11,405          8,667 -2,738   -24.01%\n",
       "5       D Line RapidRide          13,078          8,212 -4,866   -37.21%\n",
       "4       C Line RapidRide          11,368          7,807 -3,561   -31.32%\n",
       "0             KC Metro 7          10,150          6,351 -3,799   -37.43%\n",
       "7       F Line RapidRide           5,267          5,435    168     3.20%\n",
       "3       B Line RapidRide           5,914          4,118 -1,796   -30.37%\n",
       "9   First Hill Streetcar           3,586            800 -2,786   -77.68%\n",
       "8          SLU Streetcar           1,703            584 -1,120   -65.74%"
      ]
     },
     "execution_count": 18,
     "metadata": {},
     "output_type": "execute_result"
    }
   ],
   "source": [
    "_df = df[df['route_code'].isin([1671,1672,1673,1674,1675,1676,6550,1007,1040,1997,1998])].reset_index()\n",
    "_df['description'] = _df['route_code'].map({1671: 'A Line RapidRide', 1672: 'B Line RapidRide',\n",
    "                                            1673: 'C Line RapidRide', 1674: 'D Line RapidRide',\n",
    "                                            1675: 'E Line RapidRide', 1676: 'F Line RapidRide',\n",
    "                                            6550: 'Sound Transit 550', 1040: 'KC Metro 40', 1007: 'KC Metro 7',\n",
    "                                            1997: 'SLU Streetcar', 1998: 'First Hill Streetcar'})\n",
    "_df.drop(['route_code','agency'], axis=1, inplace=True)\n",
    "_df[['perc_diff']] = _df[['perc_diff']].applymap(format_percent)\n",
    "_df.sort_values('modeled_20to5', ascending=False)"
   ]
  },
  {
   "cell_type": "code",
   "execution_count": 19,
   "metadata": {},
   "outputs": [
    {
     "name": "stdout",
     "output_type": "stream",
     "text": [
      "r^2 : 0.895577650332\n"
     ]
    },
    {
     "data": {
      "image/png": "[encoded data removed]",
      "text/plain": [
       "<matplotlib.figure.Figure at 0x1e2df128>"
      ]
     },
     "metadata": {},
     "output_type": "display_data"
    }
   ],
   "source": [
    "ax = _df.plot(kind='scatter', x='observed_20to5', y='modeled_20to5')\n",
    "lim = _df[['observed_20to5','modeled_20to5']].max().max()*1.05\n",
    "ax.set_ylim(0,lim)\n",
    "ax.set_xlim(0,lim)\n",
    "x = np.linspace(*ax.get_xlim())\n",
    "ax.plot(x, x)\n",
    "slope, intercept, r_value, p_value, std_err = stats.linregress(_df['observed_20to5'],_df['modeled_20to5'])\n",
    "print 'r^2 ' + str('') + ': ' + str(r_value)"
   ]
  },
  {
   "cell_type": "markdown",
   "metadata": {},
   "source": [
    "---\n",
    "### Lines by Agency"
   ]
  },
  {
   "cell_type": "code",
   "execution_count": 20,
   "metadata": {},
   "outputs": [
    {
     "name": "stdout",
     "output_type": "stream",
     "text": [
      "r^2 Community Transit: 0.854446790768\n",
      "r^2 Everett Transit: -0.340187357235\n"
     ]
    },
    {
     "name": "stdout",
     "output_type": "stream",
     "text": [
      "r^2 King County Metro: 0.921387044977\n",
      "r^2 Kitsap Transit: 0.679800731522\n"
     ]
    },
    {
     "name": "stdout",
     "output_type": "stream",
     "text": [
      "r^2 Pierce Transit: 0.921489170456\n",
      "r^2 Sound Transit: 0.970322884414\n"
     ]
    },
    {
     "name": "stdout",
     "output_type": "stream",
     "text": [
      "r^2 Washington Ferries: 0.988942438718\n"
     ]
    },
    {
     "data": {
      "image/png": "[encoded data removed]",
      "text/plain": [
       "<matplotlib.figure.Figure at 0x1ecd0438>"
      ]
     },
     "metadata": {},
     "output_type": "display_data"
    },
    {
     "data": {
      "image/png": "[encoded data removed]",
      "text/plain": [
       "<matplotlib.figure.Figure at 0x1e749a58>"
      ]
     },
     "metadata": {},
     "output_type": "display_data"
    },
    {
     "data": {
      "image/png": "[encoded data removed]",
      "text/plain": [
       "<matplotlib.figure.Figure at 0x1e579ba8>"
      ]
     },
     "metadata": {},
     "output_type": "display_data"
    },
    {
     "data": {
      "image/png": "[encoded data removed]",
      "text/plain": [
       "<matplotlib.figure.Figure at 0x1e039a20>"
      ]
     },
     "metadata": {},
     "output_type": "display_data"
    },
    {
     "data": {
      "image/png": "[encoded data removed]",
      "text/plain": [
       "<matplotlib.figure.Figure at 0x1e028828>"
      ]
     },
     "metadata": {},
     "output_type": "display_data"
    },
    {
     "data": {
      "image/png": "[encoded data removed]",
      "text/plain": [
       "<matplotlib.figure.Figure at 0x1daa7ac8>"
      ]
     },
     "metadata": {},
     "output_type": "display_data"
    },
    {
     "data": {
      "image/png": "[encoded data removed]",
      "text/plain": [
       "<matplotlib.figure.Figure at 0x1d81e320>"
      ]
     },
     "metadata": {},
     "output_type": "display_data"
    }
   ],
   "source": [
    "df = pd.read_csv(os.path.join(relative_path,'validation/') + 'daily_boardings_by_line.csv', index_col='agency')\n",
    "df = df[-df['agency_id'].isnull()]\n",
    "\n",
    "for agency in np.unique(df.index):\n",
    "    _df = df.loc[agency,:]\n",
    "    ax = _df.plot(kind='scatter', x='observed_20to5', y='modeled_20to5', label=agency)\n",
    "    lim = _df[['observed_20to5','modeled_20to5']].max().max()*1.05\n",
    "    ax.set_ylim(0,lim)\n",
    "    ax.set_xlim(0,lim)\n",
    "    x = np.linspace(*ax.get_xlim())\n",
    "    ax.plot(x, x)\n",
    "    slope, intercept, r_value, p_value, std_err = stats.linregress(_df['observed_20to5'],_df['modeled_20to5'])\n",
    "    print 'r^2 ' + str(agency) + ': ' + str(r_value)"
   ]
  },
  {
   "cell_type": "markdown",
   "metadata": {},
   "source": [
    "# Light Rail Station Boardings\n",
    "----\n",
    "Red Line"
   ]
  },
  {
   "cell_type": "code",
   "execution_count": 21,
   "metadata": {},
   "outputs": [
    {
     "data": {
      "text/html": [
       "<div>\n",
       "<table border=\"1\" class=\"dataframe\">\n",
       "  <thead>\n",
       "    <tr style=\"text-align: right;\">\n",
       "      <th></th>\n",
       "      <th>observed_20to5</th>\n",
       "      <th>modeled_20to5</th>\n",
       "      <th>diff</th>\n",
       "      <th>percent_diff</th>\n",
       "    </tr>\n",
       "    <tr>\n",
       "      <th>station_name</th>\n",
       "      <th></th>\n",
       "      <th></th>\n",
       "      <th></th>\n",
       "      <th></th>\n",
       "    </tr>\n",
       "  </thead>\n",
       "  <tbody>\n",
       "    <tr>\n",
       "      <th>Husky Stadium</th>\n",
       "      <td>9,416</td>\n",
       "      <td>4,382</td>\n",
       "      <td>-5,034</td>\n",
       "      <td>-53.46%</td>\n",
       "    </tr>\n",
       "    <tr>\n",
       "      <th>Westlake</th>\n",
       "      <td>10,904</td>\n",
       "      <td>3,911</td>\n",
       "      <td>-6,992</td>\n",
       "      <td>-64.13%</td>\n",
       "    </tr>\n",
       "    <tr>\n",
       "      <th>University St</th>\n",
       "      <td>5,257</td>\n",
       "      <td>2,674</td>\n",
       "      <td>-2,583</td>\n",
       "      <td>-49.14%</td>\n",
       "    </tr>\n",
       "    <tr>\n",
       "      <th>Pioneer Square</th>\n",
       "      <td>3,865</td>\n",
       "      <td>3,263</td>\n",
       "      <td>-602</td>\n",
       "      <td>-15.58%</td>\n",
       "    </tr>\n",
       "    <tr>\n",
       "      <th>Int'l District</th>\n",
       "      <td>5,647</td>\n",
       "      <td>1,529</td>\n",
       "      <td>-4,119</td>\n",
       "      <td>-72.93%</td>\n",
       "    </tr>\n",
       "    <tr>\n",
       "      <th>Capitol Hill</th>\n",
       "      <td>7,016</td>\n",
       "      <td>3,198</td>\n",
       "      <td>-3,818</td>\n",
       "      <td>-54.42%</td>\n",
       "    </tr>\n",
       "    <tr>\n",
       "      <th>Stadium</th>\n",
       "      <td>1,912</td>\n",
       "      <td>226</td>\n",
       "      <td>-1,686</td>\n",
       "      <td>-88.19%</td>\n",
       "    </tr>\n",
       "    <tr>\n",
       "      <th>SODO</th>\n",
       "      <td>2,108</td>\n",
       "      <td>1,429</td>\n",
       "      <td>-679</td>\n",
       "      <td>-32.22%</td>\n",
       "    </tr>\n",
       "    <tr>\n",
       "      <th>Beacon Hill</th>\n",
       "      <td>2,587</td>\n",
       "      <td>743</td>\n",
       "      <td>-1,844</td>\n",
       "      <td>-71.28%</td>\n",
       "    </tr>\n",
       "    <tr>\n",
       "      <th>Mount Baker</th>\n",
       "      <td>2,222</td>\n",
       "      <td>962</td>\n",
       "      <td>-1,260</td>\n",
       "      <td>-56.72%</td>\n",
       "    </tr>\n",
       "    <tr>\n",
       "      <th>Columbia City</th>\n",
       "      <td>2,376</td>\n",
       "      <td>760</td>\n",
       "      <td>-1,616</td>\n",
       "      <td>-68.01%</td>\n",
       "    </tr>\n",
       "    <tr>\n",
       "      <th>Othello</th>\n",
       "      <td>2,386</td>\n",
       "      <td>913</td>\n",
       "      <td>-1,473</td>\n",
       "      <td>-61.75%</td>\n",
       "    </tr>\n",
       "    <tr>\n",
       "      <th>Rainier Beach</th>\n",
       "      <td>2,026</td>\n",
       "      <td>901</td>\n",
       "      <td>-1,125</td>\n",
       "      <td>-55.55%</td>\n",
       "    </tr>\n",
       "    <tr>\n",
       "      <th>Tukwila Int'l Blvd</th>\n",
       "      <td>2,779</td>\n",
       "      <td>1,130</td>\n",
       "      <td>-1,649</td>\n",
       "      <td>-59.33%</td>\n",
       "    </tr>\n",
       "    <tr>\n",
       "      <th>SeaTac/Airport</th>\n",
       "      <td>5,399</td>\n",
       "      <td>4,484</td>\n",
       "      <td>-916</td>\n",
       "      <td>-16.96%</td>\n",
       "    </tr>\n",
       "    <tr>\n",
       "      <th>Angle Lake</th>\n",
       "      <td>3,552</td>\n",
       "      <td>2,056</td>\n",
       "      <td>-1,495</td>\n",
       "      <td>-42.10%</td>\n",
       "    </tr>\n",
       "    <tr>\n",
       "      <th>Total</th>\n",
       "      <td>69,453</td>\n",
       "      <td>32,560</td>\n",
       "      <td>-36,893</td>\n",
       "      <td>-53.12%</td>\n",
       "    </tr>\n",
       "  </tbody>\n",
       "</table>\n",
       "</div>"
      ],
      "text/plain": [
       "                    observed_20to5  modeled_20to5    diff percent_diff\n",
       "station_name                                                          \n",
       "Husky Stadium                9,416          4,382  -5,034      -53.46%\n",
       "Westlake                    10,904          3,911  -6,992      -64.13%\n",
       "University St                5,257          2,674  -2,583      -49.14%\n",
       "Pioneer Square               3,865          3,263    -602      -15.58%\n",
       "Int'l District               5,647          1,529  -4,119      -72.93%\n",
       "Capitol Hill                 7,016          3,198  -3,818      -54.42%\n",
       "Stadium                      1,912            226  -1,686      -88.19%\n",
       "SODO                         2,108          1,429    -679      -32.22%\n",
       "Beacon Hill                  2,587            743  -1,844      -71.28%\n",
       "Mount Baker                  2,222            962  -1,260      -56.72%\n",
       "Columbia City                2,376            760  -1,616      -68.01%\n",
       "Othello                      2,386            913  -1,473      -61.75%\n",
       "Rainier Beach                2,026            901  -1,125      -55.55%\n",
       "Tukwila Int'l Blvd           2,779          1,130  -1,649      -59.33%\n",
       "SeaTac/Airport               5,399          4,484    -916      -16.96%\n",
       "Angle Lake                   3,552          2,056  -1,495      -42.10%\n",
       "Total                       69,453         32,560 -36,893      -53.12%"
      ]
     },
     "execution_count": 21,
     "metadata": {},
     "output_type": "execute_result"
    }
   ],
   "source": [
    "df = pd.read_csv(os.path.join(relative_path,'validation/') + 'light_rail_boardings.csv', index_col='station_name')\n",
    "df['diff'] = df['modeled_20to5']-df['observed_20to5']\n",
    "df['percent_diff'] = df['diff']/df['observed_20to5']\n",
    "df[['percent_diff']] = df[['percent_diff']].applymap(format_percent)\n",
    "df"
   ]
  },
  {
   "cell_type": "markdown",
   "metadata": {},
   "source": [
    "Sound Transit Station Groupings"
   ]
  },
  {
   "cell_type": "code",
   "execution_count": 22,
   "metadata": {},
   "outputs": [
    {
     "data": {
      "text/html": [
       "<div>\n",
       "<table border=\"1\" class=\"dataframe\">\n",
       "  <thead>\n",
       "    <tr style=\"text-align: right;\">\n",
       "      <th></th>\n",
       "      <th>observed_20to5</th>\n",
       "      <th>modeled_20to5</th>\n",
       "      <th>diff</th>\n",
       "      <th>percent_diff</th>\n",
       "    </tr>\n",
       "    <tr>\n",
       "      <th>station_group</th>\n",
       "      <th></th>\n",
       "      <th></th>\n",
       "      <th></th>\n",
       "      <th></th>\n",
       "    </tr>\n",
       "  </thead>\n",
       "  <tbody>\n",
       "    <tr>\n",
       "      <th>Husky Stadium</th>\n",
       "      <td>9,416</td>\n",
       "      <td>4,382</td>\n",
       "      <td>-5,034</td>\n",
       "      <td>-53.46%</td>\n",
       "    </tr>\n",
       "    <tr>\n",
       "      <th>Capitol Hill</th>\n",
       "      <td>7,016</td>\n",
       "      <td>3,198</td>\n",
       "      <td>-3,818</td>\n",
       "      <td>-54.42%</td>\n",
       "    </tr>\n",
       "    <tr>\n",
       "      <th>Westlake/University St</th>\n",
       "      <td>16,161</td>\n",
       "      <td>6,585</td>\n",
       "      <td>-9,576</td>\n",
       "      <td>-59.25%</td>\n",
       "    </tr>\n",
       "    <tr>\n",
       "      <th>Pioneer Square/Int'l District</th>\n",
       "      <td>9,512</td>\n",
       "      <td>4,792</td>\n",
       "      <td>-4,721</td>\n",
       "      <td>-49.63%</td>\n",
       "    </tr>\n",
       "    <tr>\n",
       "      <th>Stadium/SODO</th>\n",
       "      <td>4,020</td>\n",
       "      <td>1,654</td>\n",
       "      <td>-2,365</td>\n",
       "      <td>-58.84%</td>\n",
       "    </tr>\n",
       "    <tr>\n",
       "      <th>Beacon Hill/Mount Baker</th>\n",
       "      <td>4,809</td>\n",
       "      <td>1,705</td>\n",
       "      <td>-3,105</td>\n",
       "      <td>-64.55%</td>\n",
       "    </tr>\n",
       "    <tr>\n",
       "      <th>Columbia City</th>\n",
       "      <td>2,376</td>\n",
       "      <td>760</td>\n",
       "      <td>-1,616</td>\n",
       "      <td>-68.01%</td>\n",
       "    </tr>\n",
       "    <tr>\n",
       "      <th>Othello/Rainier Beach</th>\n",
       "      <td>4,412</td>\n",
       "      <td>1,813</td>\n",
       "      <td>-2,599</td>\n",
       "      <td>-58.90%</td>\n",
       "    </tr>\n",
       "    <tr>\n",
       "      <th>Tukwila Int'l Blvd</th>\n",
       "      <td>2,779</td>\n",
       "      <td>1,130</td>\n",
       "      <td>-1,649</td>\n",
       "      <td>-59.33%</td>\n",
       "    </tr>\n",
       "    <tr>\n",
       "      <th>SeaTac/Airport</th>\n",
       "      <td>5,399</td>\n",
       "      <td>4,484</td>\n",
       "      <td>-916</td>\n",
       "      <td>-16.96%</td>\n",
       "    </tr>\n",
       "    <tr>\n",
       "      <th>Angle Lake</th>\n",
       "      <td>3,552</td>\n",
       "      <td>2,056</td>\n",
       "      <td>-1,495</td>\n",
       "      <td>-42.10%</td>\n",
       "    </tr>\n",
       "  </tbody>\n",
       "</table>\n",
       "</div>"
      ],
      "text/plain": [
       "                               observed_20to5  modeled_20to5   diff  \\\n",
       "station_group                                                         \n",
       "Husky Stadium                           9,416          4,382 -5,034   \n",
       "Capitol Hill                            7,016          3,198 -3,818   \n",
       "Westlake/University St                 16,161          6,585 -9,576   \n",
       "Pioneer Square/Int'l District           9,512          4,792 -4,721   \n",
       "Stadium/SODO                            4,020          1,654 -2,365   \n",
       "Beacon Hill/Mount Baker                 4,809          1,705 -3,105   \n",
       "Columbia City                           2,376            760 -1,616   \n",
       "Othello/Rainier Beach                   4,412          1,813 -2,599   \n",
       "Tukwila Int'l Blvd                      2,779          1,130 -1,649   \n",
       "SeaTac/Airport                          5,399          4,484   -916   \n",
       "Angle Lake                              3,552          2,056 -1,495   \n",
       "\n",
       "                              percent_diff  \n",
       "station_group                               \n",
       "Husky Stadium                      -53.46%  \n",
       "Capitol Hill                       -54.42%  \n",
       "Westlake/University St             -59.25%  \n",
       "Pioneer Square/Int'l District      -49.63%  \n",
       "Stadium/SODO                       -58.84%  \n",
       "Beacon Hill/Mount Baker            -64.55%  \n",
       "Columbia City                      -68.01%  \n",
       "Othello/Rainier Beach              -58.90%  \n",
       "Tukwila Int'l Blvd                 -59.33%  \n",
       "SeaTac/Airport                     -16.96%  \n",
       "Angle Lake                         -42.10%  "
      ]
     },
     "execution_count": 22,
     "metadata": {},
     "output_type": "execute_result"
    }
   ],
   "source": [
    "df_combined = df.copy()\n",
    "\n",
    "df_combined['station_group'] = df.index\n",
    "df_combined.loc[['Westlake'],'station_group'] = 'Westlake/University St'\n",
    "df_combined.loc[['University St'],'station_group'] = 'Westlake/University St'\n",
    "\n",
    "df_combined.loc[['Pioneer Square'],'station_group'] = \"Pioneer Square/Int'l District\"\n",
    "df_combined.loc[[\"Int'l District\"],'station_group'] = \"Pioneer Square/Int'l District\"\n",
    "\n",
    "df_combined.loc[['Stadium'],'station_group'] = 'Stadium/SODO'\n",
    "df_combined.loc[['SODO'],'station_group'] = 'Stadium/SODO'\n",
    "\n",
    "df_combined.loc[['Beacon Hill'],'station_group'] = 'Beacon Hill/Mount Baker'\n",
    "df_combined.loc[['Mount Baker'],'station_group'] = 'Beacon Hill/Mount Baker'\n",
    "\n",
    "df_combined.loc[['Othello'],'station_group'] = 'Othello/Rainier Beach'\n",
    "df_combined.loc[['Rainier Beach'],'station_group'] = 'Othello/Rainier Beach'\n",
    "\n",
    "df_combined = df_combined.groupby('station_group').sum()[['observed_20to5','modeled_20to5']]\n",
    "df_combined['diff'] = df_combined['modeled_20to5']-df_combined['observed_20to5']\n",
    "df_combined['percent_diff'] = df_combined['diff']/df_combined['observed_20to5']\n",
    "df_combined[['percent_diff']] = df_combined[['percent_diff']].applymap(format_percent)\n",
    "\n",
    "df_combined.loc[['Husky Stadium','Capitol Hill','Westlake/University St',\"Pioneer Square/Int'l District\",\n",
    "                 'Stadium/SODO','Beacon Hill/Mount Baker','Columbia City','Othello/Rainier Beach',\n",
    "                \"Tukwila Int'l Blvd\",'SeaTac/Airport','Angle Lake']]"
   ]
  },
  {
   "cell_type": "markdown",
   "metadata": {},
   "source": [
    "# Stop Transfers\n",
    "\n",
    "### Light Rail"
   ]
  },
  {
   "cell_type": "code",
   "execution_count": 23,
   "metadata": {},
   "outputs": [
    {
     "data": {
      "text/html": [
       "<div>\n",
       "<table border=\"1\" class=\"dataframe\">\n",
       "  <thead>\n",
       "    <tr style=\"text-align: right;\">\n",
       "      <th></th>\n",
       "      <th>modeled_transfer_rate</th>\n",
       "      <th>observed_transfer_rate</th>\n",
       "      <th>diff</th>\n",
       "      <th>percent_diff</th>\n",
       "    </tr>\n",
       "    <tr>\n",
       "      <th>station_name</th>\n",
       "      <th></th>\n",
       "      <th></th>\n",
       "      <th></th>\n",
       "      <th></th>\n",
       "    </tr>\n",
       "  </thead>\n",
       "  <tbody>\n",
       "    <tr>\n",
       "      <th>Husky Stadium</th>\n",
       "      <td>0.17</td>\n",
       "      <td>-99.00</td>\n",
       "      <td>99.17</td>\n",
       "      <td>-100.17%</td>\n",
       "    </tr>\n",
       "    <tr>\n",
       "      <th>Westlake</th>\n",
       "      <td>0.56</td>\n",
       "      <td>0.36</td>\n",
       "      <td>0.19</td>\n",
       "      <td>52.77%</td>\n",
       "    </tr>\n",
       "    <tr>\n",
       "      <th>University St</th>\n",
       "      <td>0.71</td>\n",
       "      <td>0.20</td>\n",
       "      <td>0.51</td>\n",
       "      <td>253.94%</td>\n",
       "    </tr>\n",
       "    <tr>\n",
       "      <th>Pioneer Square</th>\n",
       "      <td>0.80</td>\n",
       "      <td>0.16</td>\n",
       "      <td>0.64</td>\n",
       "      <td>404.97%</td>\n",
       "    </tr>\n",
       "    <tr>\n",
       "      <th>Int'l District</th>\n",
       "      <td>0.79</td>\n",
       "      <td>0.45</td>\n",
       "      <td>0.34</td>\n",
       "      <td>76.27%</td>\n",
       "    </tr>\n",
       "    <tr>\n",
       "      <th>Capitol Hill</th>\n",
       "      <td>0.07</td>\n",
       "      <td>-99.00</td>\n",
       "      <td>99.07</td>\n",
       "      <td>-100.07%</td>\n",
       "    </tr>\n",
       "    <tr>\n",
       "      <th>Stadium</th>\n",
       "      <td>0.54</td>\n",
       "      <td>0.12</td>\n",
       "      <td>0.42</td>\n",
       "      <td>350.24%</td>\n",
       "    </tr>\n",
       "    <tr>\n",
       "      <th>SODO</th>\n",
       "      <td>0.56</td>\n",
       "      <td>0.31</td>\n",
       "      <td>0.25</td>\n",
       "      <td>78.36%</td>\n",
       "    </tr>\n",
       "    <tr>\n",
       "      <th>Beacon Hill</th>\n",
       "      <td>0.33</td>\n",
       "      <td>0.35</td>\n",
       "      <td>-0.02</td>\n",
       "      <td>-5.80%</td>\n",
       "    </tr>\n",
       "    <tr>\n",
       "      <th>Mount Baker</th>\n",
       "      <td>0.36</td>\n",
       "      <td>0.32</td>\n",
       "      <td>0.03</td>\n",
       "      <td>9.96%</td>\n",
       "    </tr>\n",
       "    <tr>\n",
       "      <th>Columbia City</th>\n",
       "      <td>0.02</td>\n",
       "      <td>0.12</td>\n",
       "      <td>-0.11</td>\n",
       "      <td>-86.22%</td>\n",
       "    </tr>\n",
       "    <tr>\n",
       "      <th>Othello</th>\n",
       "      <td>0.08</td>\n",
       "      <td>0.12</td>\n",
       "      <td>-0.05</td>\n",
       "      <td>-37.98%</td>\n",
       "    </tr>\n",
       "    <tr>\n",
       "      <th>Rainier Beach</th>\n",
       "      <td>0.32</td>\n",
       "      <td>0.36</td>\n",
       "      <td>-0.04</td>\n",
       "      <td>-11.10%</td>\n",
       "    </tr>\n",
       "    <tr>\n",
       "      <th>Tukwila Int'l Blvd</th>\n",
       "      <td>0.49</td>\n",
       "      <td>0.26</td>\n",
       "      <td>0.23</td>\n",
       "      <td>85.23%</td>\n",
       "    </tr>\n",
       "    <tr>\n",
       "      <th>SeaTac/Airport</th>\n",
       "      <td>0.19</td>\n",
       "      <td>0.26</td>\n",
       "      <td>-0.08</td>\n",
       "      <td>-28.65%</td>\n",
       "    </tr>\n",
       "    <tr>\n",
       "      <th>Angle Lake</th>\n",
       "      <td>0.10</td>\n",
       "      <td>-99.00</td>\n",
       "      <td>99.10</td>\n",
       "      <td>-100.10%</td>\n",
       "    </tr>\n",
       "  </tbody>\n",
       "</table>\n",
       "</div>"
      ],
      "text/plain": [
       "                    modeled_transfer_rate  observed_transfer_rate  diff  \\\n",
       "station_name                                                              \n",
       "Husky Stadium                        0.17                  -99.00 99.17   \n",
       "Westlake                             0.56                    0.36  0.19   \n",
       "University St                        0.71                    0.20  0.51   \n",
       "Pioneer Square                       0.80                    0.16  0.64   \n",
       "Int'l District                       0.79                    0.45  0.34   \n",
       "Capitol Hill                         0.07                  -99.00 99.07   \n",
       "Stadium                              0.54                    0.12  0.42   \n",
       "SODO                                 0.56                    0.31  0.25   \n",
       "Beacon Hill                          0.33                    0.35 -0.02   \n",
       "Mount Baker                          0.36                    0.32  0.03   \n",
       "Columbia City                        0.02                    0.12 -0.11   \n",
       "Othello                              0.08                    0.12 -0.05   \n",
       "Rainier Beach                        0.32                    0.36 -0.04   \n",
       "Tukwila Int'l Blvd                   0.49                    0.26  0.23   \n",
       "SeaTac/Airport                       0.19                    0.26 -0.08   \n",
       "Angle Lake                           0.10                  -99.00 99.10   \n",
       "\n",
       "                   percent_diff  \n",
       "station_name                     \n",
       "Husky Stadium          -100.17%  \n",
       "Westlake                 52.77%  \n",
       "University St           253.94%  \n",
       "Pioneer Square          404.97%  \n",
       "Int'l District           76.27%  \n",
       "Capitol Hill           -100.07%  \n",
       "Stadium                 350.24%  \n",
       "SODO                     78.36%  \n",
       "Beacon Hill              -5.80%  \n",
       "Mount Baker               9.96%  \n",
       "Columbia City           -86.22%  \n",
       "Othello                 -37.98%  \n",
       "Rainier Beach           -11.10%  \n",
       "Tukwila Int'l Blvd       85.23%  \n",
       "SeaTac/Airport          -28.65%  \n",
       "Angle Lake             -100.10%  "
      ]
     },
     "execution_count": 23,
     "metadata": {},
     "output_type": "execute_result"
    }
   ],
   "source": [
    "df = pd.read_csv(os.path.join(relative_path,'validation/') + 'light_rail_transfers.csv', index_col='station_name')\n",
    "pd.options.display.float_format = '{:0,.2f}'.format\n",
    "df[['percent_diff']] = df[['percent_diff']].applymap(format_percent)\n",
    "df"
   ]
  },
  {
   "cell_type": "markdown",
   "metadata": {},
   "source": [
    "# Externals"
   ]
  },
  {
   "cell_type": "code",
   "execution_count": 24,
   "metadata": {},
   "outputs": [
    {
     "data": {
      "text/html": [
       "<div>\n",
       "<table border=\"1\" class=\"dataframe\">\n",
       "  <thead>\n",
       "    <tr style=\"text-align: right;\">\n",
       "      <th></th>\n",
       "      <th>external_station</th>\n",
       "      <th>observed</th>\n",
       "      <th>modeled</th>\n",
       "      <th>diff</th>\n",
       "      <th>percent_diff</th>\n",
       "    </tr>\n",
       "    <tr>\n",
       "      <th>location</th>\n",
       "      <th></th>\n",
       "      <th></th>\n",
       "      <th></th>\n",
       "      <th></th>\n",
       "      <th></th>\n",
       "    </tr>\n",
       "  </thead>\n",
       "  <tbody>\n",
       "    <tr>\n",
       "      <th>I-5 to Olympia</th>\n",
       "      <td>3733</td>\n",
       "      <td>130,000</td>\n",
       "      <td>152,682</td>\n",
       "      <td>22,682</td>\n",
       "      <td>17.45%</td>\n",
       "    </tr>\n",
       "    <tr>\n",
       "      <th>I-5 to Mount Vernon</th>\n",
       "      <td>3744</td>\n",
       "      <td>67,000</td>\n",
       "      <td>65,300</td>\n",
       "      <td>-1,700</td>\n",
       "      <td>-2.54%</td>\n",
       "    </tr>\n",
       "    <tr>\n",
       "      <th>I-90 @ Snoqualmie Pass</th>\n",
       "      <td>3739</td>\n",
       "      <td>33,000</td>\n",
       "      <td>29,743</td>\n",
       "      <td>-3,257</td>\n",
       "      <td>-9.87%</td>\n",
       "    </tr>\n",
       "    <tr>\n",
       "      <th>SR-532 to Camano Island</th>\n",
       "      <td>3746</td>\n",
       "      <td>23,000</td>\n",
       "      <td>20,706</td>\n",
       "      <td>-2,294</td>\n",
       "      <td>-9.98%</td>\n",
       "    </tr>\n",
       "    <tr>\n",
       "      <th>SR-507 to Yelm</th>\n",
       "      <td>3734</td>\n",
       "      <td>23,000</td>\n",
       "      <td>19,150</td>\n",
       "      <td>-3,850</td>\n",
       "      <td>-16.74%</td>\n",
       "    </tr>\n",
       "    <tr>\n",
       "      <th>SR-3 to Belfair</th>\n",
       "      <td>3749</td>\n",
       "      <td>18,000</td>\n",
       "      <td>21,001</td>\n",
       "      <td>3,001</td>\n",
       "      <td>16.67%</td>\n",
       "    </tr>\n",
       "    <tr>\n",
       "      <th>Hood Canal Bridge</th>\n",
       "      <td>3748</td>\n",
       "      <td>18,000</td>\n",
       "      <td>17,664</td>\n",
       "      <td>-336</td>\n",
       "      <td>-1.87%</td>\n",
       "    </tr>\n",
       "    <tr>\n",
       "      <th>SR-530 N/O Stanwood</th>\n",
       "      <td>3745</td>\n",
       "      <td>9,100</td>\n",
       "      <td>8,074</td>\n",
       "      <td>-1,026</td>\n",
       "      <td>-11.27%</td>\n",
       "    </tr>\n",
       "    <tr>\n",
       "      <th>Mukilteo-Clinton Ferry</th>\n",
       "      <td>3747</td>\n",
       "      <td>6,300</td>\n",
       "      <td>7,635</td>\n",
       "      <td>1,335</td>\n",
       "      <td>21.18%</td>\n",
       "    </tr>\n",
       "    <tr>\n",
       "      <th>SR-2 @ Stevens Pass</th>\n",
       "      <td>3740</td>\n",
       "      <td>5,600</td>\n",
       "      <td>3,407</td>\n",
       "      <td>-2,193</td>\n",
       "      <td>-39.15%</td>\n",
       "    </tr>\n",
       "    <tr>\n",
       "      <th>SR-302 to Shelton</th>\n",
       "      <td>3750</td>\n",
       "      <td>4,100</td>\n",
       "      <td>4,444</td>\n",
       "      <td>344</td>\n",
       "      <td>8.38%</td>\n",
       "    </tr>\n",
       "    <tr>\n",
       "      <th>SR-7 to Morton</th>\n",
       "      <td>3735</td>\n",
       "      <td>2,700</td>\n",
       "      <td>2,421</td>\n",
       "      <td>-279</td>\n",
       "      <td>-10.32%</td>\n",
       "    </tr>\n",
       "    <tr>\n",
       "      <th>SR-706 to Longmire</th>\n",
       "      <td>3736</td>\n",
       "      <td>1,800</td>\n",
       "      <td>1,871</td>\n",
       "      <td>71</td>\n",
       "      <td>3.95%</td>\n",
       "    </tr>\n",
       "    <tr>\n",
       "      <th>SR-530 N/O Darrington</th>\n",
       "      <td>3742</td>\n",
       "      <td>1,600</td>\n",
       "      <td>1,413</td>\n",
       "      <td>-187</td>\n",
       "      <td>-11.71%</td>\n",
       "    </tr>\n",
       "    <tr>\n",
       "      <th>SR-9 N/O Arlington</th>\n",
       "      <td>3743</td>\n",
       "      <td>1,400</td>\n",
       "      <td>1,356</td>\n",
       "      <td>-44</td>\n",
       "      <td>-3.15%</td>\n",
       "    </tr>\n",
       "    <tr>\n",
       "      <th>SR-123 S/O Cayuse Pass</th>\n",
       "      <td>3737</td>\n",
       "      <td>1,100</td>\n",
       "      <td>0</td>\n",
       "      <td>-1,100</td>\n",
       "      <td>-100.00%</td>\n",
       "    </tr>\n",
       "    <tr>\n",
       "      <th>SR 410 E/O Cayuse Pass</th>\n",
       "      <td>3738</td>\n",
       "      <td>960</td>\n",
       "      <td>442</td>\n",
       "      <td>-518</td>\n",
       "      <td>-53.93%</td>\n",
       "    </tr>\n",
       "    <tr>\n",
       "      <th>SR-92 to Monte Carlo</th>\n",
       "      <td>3741</td>\n",
       "      <td>90</td>\n",
       "      <td>0</td>\n",
       "      <td>-90</td>\n",
       "      <td>-100.00%</td>\n",
       "    </tr>\n",
       "    <tr>\n",
       "      <th>Total</th>\n",
       "      <td></td>\n",
       "      <td>346,750</td>\n",
       "      <td>357,309</td>\n",
       "      <td>10,559</td>\n",
       "      <td>3.05%</td>\n",
       "    </tr>\n",
       "  </tbody>\n",
       "</table>\n",
       "</div>"
      ],
      "text/plain": [
       "                        external_station  observed  modeled   diff  \\\n",
       "location                                                             \n",
       "I-5 to Olympia                      3733   130,000  152,682 22,682   \n",
       "I-5 to Mount Vernon                 3744    67,000   65,300 -1,700   \n",
       "I-90 @ Snoqualmie Pass              3739    33,000   29,743 -3,257   \n",
       "SR-532 to Camano Island             3746    23,000   20,706 -2,294   \n",
       "SR-507 to Yelm                      3734    23,000   19,150 -3,850   \n",
       "SR-3 to Belfair                     3749    18,000   21,001  3,001   \n",
       "Hood Canal Bridge                   3748    18,000   17,664   -336   \n",
       "SR-530 N/O Stanwood                 3745     9,100    8,074 -1,026   \n",
       "Mukilteo-Clinton Ferry              3747     6,300    7,635  1,335   \n",
       "SR-2 @ Stevens Pass                 3740     5,600    3,407 -2,193   \n",
       "SR-302 to Shelton                   3750     4,100    4,444    344   \n",
       "SR-7 to Morton                      3735     2,700    2,421   -279   \n",
       "SR-706 to Longmire                  3736     1,800    1,871     71   \n",
       "SR-530 N/O Darrington               3742     1,600    1,413   -187   \n",
       "SR-9 N/O Arlington                  3743     1,400    1,356    -44   \n",
       "SR-123 S/O Cayuse Pass              3737     1,100        0 -1,100   \n",
       "SR 410 E/O Cayuse Pass              3738       960      442   -518   \n",
       "SR-92 to Monte Carlo                3741        90        0    -90   \n",
       "Total                                      346,750  357,309 10,559   \n",
       "\n",
       "                        percent_diff  \n",
       "location                              \n",
       "I-5 to Olympia                17.45%  \n",
       "I-5 to Mount Vernon           -2.54%  \n",
       "I-90 @ Snoqualmie Pass        -9.87%  \n",
       "SR-532 to Camano Island       -9.98%  \n",
       "SR-507 to Yelm               -16.74%  \n",
       "SR-3 to Belfair               16.67%  \n",
       "Hood Canal Bridge             -1.87%  \n",
       "SR-530 N/O Stanwood          -11.27%  \n",
       "Mukilteo-Clinton Ferry        21.18%  \n",
       "SR-2 @ Stevens Pass          -39.15%  \n",
       "SR-302 to Shelton              8.38%  \n",
       "SR-7 to Morton               -10.32%  \n",
       "SR-706 to Longmire             3.95%  \n",
       "SR-530 N/O Darrington        -11.71%  \n",
       "SR-9 N/O Arlington            -3.15%  \n",
       "SR-123 S/O Cayuse Pass      -100.00%  \n",
       "SR 410 E/O Cayuse Pass       -53.93%  \n",
       "SR-92 to Monte Carlo        -100.00%  \n",
       "Total                          3.05%  "
      ]
     },
     "execution_count": 24,
     "metadata": {},
     "output_type": "execute_result"
    }
   ],
   "source": [
    "df = pd.read_csv(os.path.join(relative_path,'validation/') + 'external_volumes.csv', index_col='location')\n",
    "pd.options.display.float_format = '{:0,.0f}'.format\n",
    "df = df.drop('diff', axis=1)\n",
    "df['diff'] = df['modeled']-df['observed']\n",
    "df = df.fillna(0)\n",
    "df.loc['Total',['observed','modeled','diff']] = df[['observed','modeled','diff']].sum()\n",
    "df['percent_diff'] = df['diff']/df['observed']\n",
    "df[['percent_diff']] = df[['percent_diff']].applymap(format_percent)\n",
    "\n",
    "df[['external_station']] = df[['external_station']].applymap('{:0.0f}'.format)\n",
    "df.replace('nan', '', regex=True)"
   ]
  }
 ],
 "metadata": {
  "kernelspec": {
   "display_name": "Python 2",
   "language": "python",
   "name": "python2"
  },
  "language_info": {
   "codemirror_mode": {
    "name": "ipython",
    "version": 2
   },
   "file_extension": ".py",
   "mimetype": "text/x-python",
   "name": "python",
   "nbconvert_exporter": "python",
   "pygments_lexer": "ipython2",
   "version": "2.7.14"
  }
 },
 "nbformat": 4,
 "nbformat_minor": 2
}
