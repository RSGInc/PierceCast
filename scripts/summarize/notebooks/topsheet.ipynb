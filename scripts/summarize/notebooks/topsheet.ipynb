{
 "cells": [
  {
   "cell_type": "code",
   "execution_count": 1,
   "metadata": {},
   "outputs": [],
   "source": [
    "import os, sys, time\n",
    "import warnings\n",
    "warnings.simplefilter(action='ignore', category=FutureWarning)\n",
    "import pandas as pd\n",
    "pd.options.mode.chained_assignment = None\n",
    "import h5py\n",
    "\n",
    "%matplotlib inline\n",
    "\n",
    "from IPython.display import display, HTML\n",
    "\n",
    "if (sys.version_info < (3, 0)):\n",
    "    HTML('''<script>\n",
    "    code_show=true; \n",
    "    function code_toggle() {\n",
    "     if (code_show){\n",
    "     $('div.input').hide();\n",
    "     } else {\n",
    "     $('div.input').show();\n",
    "     }\n",
    "     code_show = !code_show\n",
    "    } \n",
    "    $( document ).ready(code_toggle);\n",
    "    </script>\n",
    "    <form action=\"javascript:code_toggle()\"><input type=\"submit\" value=\"Click here to toggle on/off the raw code.\"></form>''')\n"
   ]
  },
  {
   "cell_type": "code",
   "execution_count": null,
   "metadata": {},
   "outputs": [],
   "source": []
  },
  {
   "cell_type": "code",
   "execution_count": 2,
   "metadata": {},
   "outputs": [
    {
     "name": "stdout",
     "output_type": "stream",
     "text": [
      "Summary run: Mon, 19 Apr 2021 14:40:22\n"
     ]
    }
   ],
   "source": [
    "# Create timestamp to show when this summary was run\n",
    "print('Summary run: ' + time.strftime(\"%a, %d %b %Y %H:%M:%S\"))"
   ]
  },
  {
   "cell_type": "code",
   "execution_count": 3,
   "metadata": {},
   "outputs": [
    {
     "data": {
      "text/html": [
       "<style>\n",
       ".output {\n",
       "    flex-direction: row;\n",
       "}\n",
       "</style>"
      ],
      "text/plain": [
       "<IPython.core.display.HTML object>"
      ]
     },
     "execution_count": 3,
     "metadata": {},
     "output_type": "execute_result"
    }
   ],
   "source": [
    "CSS = \"\"\"\n",
    ".output {\n",
    "    flex-direction: row;\n",
    "}\n",
    "\"\"\"\n",
    "\n",
    "HTML('<style>{}</style>'.format(CSS))"
   ]
  },
  {
   "cell_type": "code",
   "execution_count": 4,
   "metadata": {},
   "outputs": [],
   "source": [
    "pd.options.display.float_format = '{:0,.0f}'.format"
   ]
  },
  {
   "cell_type": "code",
   "execution_count": 5,
   "metadata": {},
   "outputs": [],
   "source": [
    "# Relative path between notebooks and goruped output directories\n",
    "relative_path = '../../../outputs'"
   ]
  },
  {
   "cell_type": "code",
   "execution_count": 6,
   "metadata": {},
   "outputs": [],
   "source": [
    "tod_dict = {\n",
    "    '5to6': 'AM',\n",
    "    '6to7': 'AM',\n",
    "    '7to8': 'AM',\n",
    "    '8to9': 'AM',\n",
    "    '9to10': 'Mid-Day',\n",
    "    '10to14': 'Mid-Day',\n",
    "    '14to15': 'Mid-Day',\n",
    "    '15to16': 'PM',\n",
    "    '16to17': 'PM',\n",
    "    '17to18': 'PM',\n",
    "    '18to20': 'Evening',\n",
    "    '20to5': 'Night'\n",
    "}"
   ]
  },
  {
   "cell_type": "code",
   "execution_count": 7,
   "metadata": {},
   "outputs": [],
   "source": [
    "# Load Network Summary sheet from network_summary_detailed\n",
    "df = pd.read_excel(os.path.join(relative_path,'network/') + r'network_summary.xlsx','VMT by FC')"
   ]
  },
  {
   "cell_type": "markdown",
   "metadata": {},
   "source": [
    "## Vehicle Miles Traveled (VMT)"
   ]
  },
  {
   "cell_type": "code",
   "execution_count": 8,
   "metadata": {},
   "outputs": [
    {
     "data": {
      "text/html": [
       "<div>\n",
       "<style scoped>\n",
       "    .dataframe tbody tr th:only-of-type {\n",
       "        vertical-align: middle;\n",
       "    }\n",
       "\n",
       "    .dataframe tbody tr th {\n",
       "        vertical-align: top;\n",
       "    }\n",
       "\n",
       "    .dataframe thead th {\n",
       "        text-align: right;\n",
       "    }\n",
       "</style>\n",
       "<table border=\"1\" class=\"dataframe\">\n",
       "  <thead>\n",
       "    <tr style=\"text-align: right;\">\n",
       "      <th></th>\n",
       "      <th>VMT</th>\n",
       "    </tr>\n",
       "    <tr>\n",
       "      <th>Facility Type</th>\n",
       "      <th></th>\n",
       "    </tr>\n",
       "  </thead>\n",
       "  <tbody>\n",
       "    <tr>\n",
       "      <th>arterial</th>\n",
       "      <td>38,143,436</td>\n",
       "    </tr>\n",
       "    <tr>\n",
       "      <th>highway</th>\n",
       "      <td>42,300,987</td>\n",
       "    </tr>\n",
       "    <tr>\n",
       "      <th>connector</th>\n",
       "      <td>5,438,953</td>\n",
       "    </tr>\n",
       "    <tr>\n",
       "      <th>Total</th>\n",
       "      <td>85,883,376</td>\n",
       "    </tr>\n",
       "  </tbody>\n",
       "</table>\n",
       "</div>"
      ],
      "text/plain": [
       "                     VMT\n",
       "Facility Type           \n",
       "arterial      38,143,436\n",
       "highway       42,300,987\n",
       "connector      5,438,953\n",
       "Total         85,883,376"
      ]
     },
     "metadata": {},
     "output_type": "display_data"
    },
    {
     "data": {
      "text/html": [
       "<div>\n",
       "<style scoped>\n",
       "    .dataframe tbody tr th:only-of-type {\n",
       "        vertical-align: middle;\n",
       "    }\n",
       "\n",
       "    .dataframe tbody tr th {\n",
       "        vertical-align: top;\n",
       "    }\n",
       "\n",
       "    .dataframe thead th {\n",
       "        text-align: right;\n",
       "    }\n",
       "</style>\n",
       "<table border=\"1\" class=\"dataframe\">\n",
       "  <thead>\n",
       "    <tr style=\"text-align: right;\">\n",
       "      <th></th>\n",
       "      <th>VMT</th>\n",
       "    </tr>\n",
       "    <tr>\n",
       "      <th>period</th>\n",
       "      <th></th>\n",
       "    </tr>\n",
       "  </thead>\n",
       "  <tbody>\n",
       "    <tr>\n",
       "      <th>am</th>\n",
       "      <td>20,119,155</td>\n",
       "    </tr>\n",
       "    <tr>\n",
       "      <th>ev</th>\n",
       "      <td>10,923,280</td>\n",
       "    </tr>\n",
       "    <tr>\n",
       "      <th>md</th>\n",
       "      <td>28,389,973</td>\n",
       "    </tr>\n",
       "    <tr>\n",
       "      <th>ni</th>\n",
       "      <td>6,180,833</td>\n",
       "    </tr>\n",
       "    <tr>\n",
       "      <th>pm</th>\n",
       "      <td>20,270,136</td>\n",
       "    </tr>\n",
       "    <tr>\n",
       "      <th>Total</th>\n",
       "      <td>85,883,376</td>\n",
       "    </tr>\n",
       "  </tbody>\n",
       "</table>\n",
       "</div>"
      ],
      "text/plain": [
       "              VMT\n",
       "period           \n",
       "am     20,119,155\n",
       "ev     10,923,280\n",
       "md     28,389,973\n",
       "ni      6,180,833\n",
       "pm     20,270,136\n",
       "Total  85,883,376"
      ]
     },
     "metadata": {},
     "output_type": "display_data"
    }
   ],
   "source": [
    "df_tod = df.groupby(['period']).sum()[['arterial','connector','highway']]\n",
    "df_tod['VMT'] = df_tod.sum(axis=1)\n",
    "df_tod.loc['Total'] = df_tod.sum()\n",
    "df_tod = df_tod[['VMT']]\n",
    "\n",
    "# Save total VMT for later use\n",
    "total_vmt = df_tod.loc['Total'].values[0]\n",
    "\n",
    "df_fac = pd.DataFrame(df.sum()[['arterial','highway','connector']])\n",
    "df_fac = df_fac.reset_index()\n",
    "df_fac.columns = ['Facility Type', 'VMT']\n",
    "df_fac.index = df_fac['Facility Type']\n",
    "df_fac.drop('Facility Type', axis=1, inplace=True)\n",
    "df_fac.loc['Total'] = df_fac.sum()\n",
    "\n",
    "display(df_fac)\n",
    "display(df_tod)"
   ]
  },
  {
   "cell_type": "markdown",
   "metadata": {},
   "source": [
    "## Vehicle Hours Traveled (VHT)"
   ]
  },
  {
   "cell_type": "code",
   "execution_count": 9,
   "metadata": {},
   "outputs": [
    {
     "data": {
      "text/html": [
       "<div>\n",
       "<style scoped>\n",
       "    .dataframe tbody tr th:only-of-type {\n",
       "        vertical-align: middle;\n",
       "    }\n",
       "\n",
       "    .dataframe tbody tr th {\n",
       "        vertical-align: top;\n",
       "    }\n",
       "\n",
       "    .dataframe thead th {\n",
       "        text-align: right;\n",
       "    }\n",
       "</style>\n",
       "<table border=\"1\" class=\"dataframe\">\n",
       "  <thead>\n",
       "    <tr style=\"text-align: right;\">\n",
       "      <th></th>\n",
       "      <th>VHT</th>\n",
       "    </tr>\n",
       "    <tr>\n",
       "      <th>Facility Type</th>\n",
       "      <th></th>\n",
       "    </tr>\n",
       "  </thead>\n",
       "  <tbody>\n",
       "    <tr>\n",
       "      <th>arterial</th>\n",
       "      <td>1,332,810</td>\n",
       "    </tr>\n",
       "    <tr>\n",
       "      <th>highway</th>\n",
       "      <td>1,015,845</td>\n",
       "    </tr>\n",
       "    <tr>\n",
       "      <th>connector</th>\n",
       "      <td>348,015</td>\n",
       "    </tr>\n",
       "    <tr>\n",
       "      <th>Total</th>\n",
       "      <td>2,696,669</td>\n",
       "    </tr>\n",
       "  </tbody>\n",
       "</table>\n",
       "</div>"
      ],
      "text/plain": [
       "                    VHT\n",
       "Facility Type          \n",
       "arterial      1,332,810\n",
       "highway       1,015,845\n",
       "connector       348,015\n",
       "Total         2,696,669"
      ]
     },
     "metadata": {},
     "output_type": "display_data"
    },
    {
     "data": {
      "text/html": [
       "<div>\n",
       "<style scoped>\n",
       "    .dataframe tbody tr th:only-of-type {\n",
       "        vertical-align: middle;\n",
       "    }\n",
       "\n",
       "    .dataframe tbody tr th {\n",
       "        vertical-align: top;\n",
       "    }\n",
       "\n",
       "    .dataframe thead th {\n",
       "        text-align: right;\n",
       "    }\n",
       "</style>\n",
       "<table border=\"1\" class=\"dataframe\">\n",
       "  <thead>\n",
       "    <tr style=\"text-align: right;\">\n",
       "      <th></th>\n",
       "      <th>VHT</th>\n",
       "    </tr>\n",
       "    <tr>\n",
       "      <th>period</th>\n",
       "      <th></th>\n",
       "    </tr>\n",
       "  </thead>\n",
       "  <tbody>\n",
       "    <tr>\n",
       "      <th>am</th>\n",
       "      <td>649,375</td>\n",
       "    </tr>\n",
       "    <tr>\n",
       "      <th>ev</th>\n",
       "      <td>363,641</td>\n",
       "    </tr>\n",
       "    <tr>\n",
       "      <th>md</th>\n",
       "      <td>828,056</td>\n",
       "    </tr>\n",
       "    <tr>\n",
       "      <th>ni</th>\n",
       "      <td>160,840</td>\n",
       "    </tr>\n",
       "    <tr>\n",
       "      <th>pm</th>\n",
       "      <td>694,758</td>\n",
       "    </tr>\n",
       "    <tr>\n",
       "      <th>Total</th>\n",
       "      <td>2,696,669</td>\n",
       "    </tr>\n",
       "  </tbody>\n",
       "</table>\n",
       "</div>"
      ],
      "text/plain": [
       "             VHT\n",
       "period          \n",
       "am       649,375\n",
       "ev       363,641\n",
       "md       828,056\n",
       "ni       160,840\n",
       "pm       694,758\n",
       "Total  2,696,669"
      ]
     },
     "metadata": {},
     "output_type": "display_data"
    }
   ],
   "source": [
    "df = pd.read_excel(os.path.join(relative_path,'network/') + r'network_summary.xlsx','VHT by FC')\n",
    "df_tod = df.groupby(['period']).sum()[['arterial','connector','highway']]\n",
    "df_tod['VHT'] = df_tod.sum(axis=1)\n",
    "df_tod.loc['Total'] = df_tod.sum()\n",
    "df_tod = df_tod[['VHT']]\n",
    "\n",
    "df_fac = pd.DataFrame(df.sum()[['arterial','highway','connector']])\n",
    "df_fac = df_fac.reset_index()\n",
    "df_fac.columns = ['Facility Type', 'VHT']\n",
    "df_fac.index = df_fac['Facility Type']\n",
    "df_fac.drop('Facility Type', axis=1, inplace=True)\n",
    "df_fac.loc['Total'] = df_fac.sum()\n",
    "\n",
    "display(df_fac)\n",
    "display(df_tod)"
   ]
  },
  {
   "cell_type": "markdown",
   "metadata": {},
   "source": [
    "## Delay"
   ]
  },
  {
   "cell_type": "code",
   "execution_count": 10,
   "metadata": {},
   "outputs": [
    {
     "data": {
      "text/html": [
       "<div>\n",
       "<style scoped>\n",
       "    .dataframe tbody tr th:only-of-type {\n",
       "        vertical-align: middle;\n",
       "    }\n",
       "\n",
       "    .dataframe tbody tr th {\n",
       "        vertical-align: top;\n",
       "    }\n",
       "\n",
       "    .dataframe thead th {\n",
       "        text-align: right;\n",
       "    }\n",
       "</style>\n",
       "<table border=\"1\" class=\"dataframe\">\n",
       "  <thead>\n",
       "    <tr style=\"text-align: right;\">\n",
       "      <th></th>\n",
       "      <th>Delay</th>\n",
       "    </tr>\n",
       "    <tr>\n",
       "      <th>Facility Type</th>\n",
       "      <th></th>\n",
       "    </tr>\n",
       "  </thead>\n",
       "  <tbody>\n",
       "    <tr>\n",
       "      <th>arterial</th>\n",
       "      <td>152,359</td>\n",
       "    </tr>\n",
       "    <tr>\n",
       "      <th>highway</th>\n",
       "      <td>216,958</td>\n",
       "    </tr>\n",
       "    <tr>\n",
       "      <th>Total</th>\n",
       "      <td>369,317</td>\n",
       "    </tr>\n",
       "  </tbody>\n",
       "</table>\n",
       "</div>"
      ],
      "text/plain": [
       "                Delay\n",
       "Facility Type        \n",
       "arterial      152,359\n",
       "highway       216,958\n",
       "Total         369,317"
      ]
     },
     "metadata": {},
     "output_type": "display_data"
    },
    {
     "data": {
      "text/html": [
       "<div>\n",
       "<style scoped>\n",
       "    .dataframe tbody tr th:only-of-type {\n",
       "        vertical-align: middle;\n",
       "    }\n",
       "\n",
       "    .dataframe tbody tr th {\n",
       "        vertical-align: top;\n",
       "    }\n",
       "\n",
       "    .dataframe thead th {\n",
       "        text-align: right;\n",
       "    }\n",
       "</style>\n",
       "<table border=\"1\" class=\"dataframe\">\n",
       "  <thead>\n",
       "    <tr style=\"text-align: right;\">\n",
       "      <th></th>\n",
       "      <th>Delay</th>\n",
       "    </tr>\n",
       "    <tr>\n",
       "      <th>period</th>\n",
       "      <th></th>\n",
       "    </tr>\n",
       "  </thead>\n",
       "  <tbody>\n",
       "    <tr>\n",
       "      <th>am</th>\n",
       "      <td>122,529</td>\n",
       "    </tr>\n",
       "    <tr>\n",
       "      <th>ev</th>\n",
       "      <td>51,287</td>\n",
       "    </tr>\n",
       "    <tr>\n",
       "      <th>md</th>\n",
       "      <td>57,980</td>\n",
       "    </tr>\n",
       "    <tr>\n",
       "      <th>ni</th>\n",
       "      <td>0</td>\n",
       "    </tr>\n",
       "    <tr>\n",
       "      <th>pm</th>\n",
       "      <td>137,520</td>\n",
       "    </tr>\n",
       "    <tr>\n",
       "      <th>Total</th>\n",
       "      <td>369,317</td>\n",
       "    </tr>\n",
       "  </tbody>\n",
       "</table>\n",
       "</div>"
      ],
      "text/plain": [
       "         Delay\n",
       "period        \n",
       "am     122,529\n",
       "ev      51,287\n",
       "md      57,980\n",
       "ni           0\n",
       "pm     137,520\n",
       "Total  369,317"
      ]
     },
     "metadata": {},
     "output_type": "display_data"
    }
   ],
   "source": [
    "df = pd.read_excel(os.path.join(relative_path,'network/') + r'network_summary.xlsx','delay by FC')\n",
    "df_tod = df.groupby(['period']).sum()[['arterial','connector','highway']]\n",
    "df_tod['Delay'] = df_tod.sum(axis=1)\n",
    "df_tod.loc['Total'] = df_tod.sum()\n",
    "df_tod = df_tod[['Delay']]\n",
    "\n",
    "df_fac = pd.DataFrame(df.sum()[['arterial','highway']])\n",
    "df_fac = df_fac.reset_index()\n",
    "df_fac.columns = ['Facility Type', 'Delay']\n",
    "df_fac.index = df_fac['Facility Type']\n",
    "df_fac.drop('Facility Type', axis=1, inplace=True)\n",
    "df_fac.loc['Total'] = df_fac.sum()\n",
    "\n",
    "display(df_fac)\n",
    "display(df_tod)"
   ]
  },
  {
   "cell_type": "markdown",
   "metadata": {},
   "source": [
    "## VMT per Person"
   ]
  },
  {
   "cell_type": "code",
   "execution_count": 11,
   "metadata": {},
   "outputs": [],
   "source": [
    "# Load Daysim results\n",
    "trip = pd.read_csv(os.path.join(relative_path,r'daysim/') + r'_trip.tsv', sep='\\t')\n",
    "person = pd.read_csv(os.path.join(relative_path,r'daysim/') + r'_person.tsv', sep='\\t')"
   ]
  },
  {
   "cell_type": "code",
   "execution_count": 12,
   "metadata": {},
   "outputs": [],
   "source": [
    "# Load survey results\n",
    "surveyh5 = h5py.File(os.path.join(relative_path,r'../inputs/base_year/observed/survey.h5'), 'r')"
   ]
  },
  {
   "cell_type": "code",
   "execution_count": 13,
   "metadata": {},
   "outputs": [],
   "source": [
    "survey_trip = pd.DataFrame()\n",
    "survey_person = pd.DataFrame()\n",
    "for col in surveyh5['Trip'].keys():\n",
    "    survey_trip[col] = surveyh5['Trip'][col][:]\n",
    "    \n",
    "for col in surveyh5['Person'].keys():\n",
    "    survey_person[col] = surveyh5['Person'][col][:]"
   ]
  },
  {
   "cell_type": "code",
   "execution_count": 14,
   "metadata": {},
   "outputs": [
    {
     "data": {
      "text/html": [
       "<div>\n",
       "<style scoped>\n",
       "    .dataframe tbody tr th:only-of-type {\n",
       "        vertical-align: middle;\n",
       "    }\n",
       "\n",
       "    .dataframe tbody tr th {\n",
       "        vertical-align: top;\n",
       "    }\n",
       "\n",
       "    .dataframe thead th {\n",
       "        text-align: right;\n",
       "    }\n",
       "</style>\n",
       "<table border=\"1\" class=\"dataframe\">\n",
       "  <thead>\n",
       "    <tr style=\"text-align: right;\">\n",
       "      <th></th>\n",
       "      <th>Average VMT per Capita</th>\n",
       "    </tr>\n",
       "  </thead>\n",
       "  <tbody>\n",
       "    <tr>\n",
       "      <th>0</th>\n",
       "      <td>21.19</td>\n",
       "    </tr>\n",
       "  </tbody>\n",
       "</table>\n",
       "</div>"
      ],
      "text/plain": [
       "   Average VMT per Capita\n",
       "0                   21.19"
      ]
     },
     "execution_count": 14,
     "metadata": {},
     "output_type": "execute_result"
    }
   ],
   "source": [
    "pd.options.display.float_format = '{:0,.2f}'.format\n",
    "\n",
    "\n",
    "# This is average trips\n",
    "# model_value = trip['trexpfac'].sum()/person['psexpfac'].sum()\n",
    "# survey_value = survey_trip['trexpfac'].sum()/survey_person['psexpfac'].sum()\n",
    "\n",
    "_df = pd.DataFrame([total_vmt/person['psexpfac'].sum()])\n",
    "_df.columns = ['Average VMT per Capita']\n",
    "_df\n",
    "\n"
   ]
  },
  {
   "cell_type": "markdown",
   "metadata": {},
   "source": [
    "## Trips per Person"
   ]
  },
  {
   "cell_type": "code",
   "execution_count": 15,
   "metadata": {},
   "outputs": [
    {
     "data": {
      "text/html": [
       "<div>\n",
       "<style scoped>\n",
       "    .dataframe tbody tr th:only-of-type {\n",
       "        vertical-align: middle;\n",
       "    }\n",
       "\n",
       "    .dataframe tbody tr th {\n",
       "        vertical-align: top;\n",
       "    }\n",
       "\n",
       "    .dataframe thead th {\n",
       "        text-align: right;\n",
       "    }\n",
       "</style>\n",
       "<table border=\"1\" class=\"dataframe\">\n",
       "  <thead>\n",
       "    <tr style=\"text-align: right;\">\n",
       "      <th></th>\n",
       "      <th>Total Trips per Capita</th>\n",
       "    </tr>\n",
       "  </thead>\n",
       "  <tbody>\n",
       "    <tr>\n",
       "      <th>Model</th>\n",
       "      <td>4.03</td>\n",
       "    </tr>\n",
       "    <tr>\n",
       "      <th>Survey</th>\n",
       "      <td>4.54</td>\n",
       "    </tr>\n",
       "  </tbody>\n",
       "</table>\n",
       "</div>"
      ],
      "text/plain": [
       "        Total Trips per Capita\n",
       "Model                     4.03\n",
       "Survey                    4.54"
      ]
     },
     "execution_count": 15,
     "metadata": {},
     "output_type": "execute_result"
    }
   ],
   "source": [
    "model_result = (trip['trexpfac'].sum()*1.0)/person['psexpfac'].sum()\n",
    "survey_result = (survey_trip['trexpfac'].sum()*1.0)/survey_person['psexpfac'].sum()\n",
    "\n",
    "_df = pd.DataFrame([model_result,survey_result])\n",
    "_df.columns = ['Total Trips per Capita']\n",
    "_df.index = ['Model', 'Survey']\n",
    "_df"
   ]
  },
  {
   "cell_type": "markdown",
   "metadata": {},
   "source": [
    "## Average Trip Length"
   ]
  },
  {
   "cell_type": "code",
   "execution_count": 16,
   "metadata": {},
   "outputs": [
    {
     "data": {
      "text/html": [
       "<div>\n",
       "<style scoped>\n",
       "    .dataframe tbody tr th:only-of-type {\n",
       "        vertical-align: middle;\n",
       "    }\n",
       "\n",
       "    .dataframe tbody tr th {\n",
       "        vertical-align: top;\n",
       "    }\n",
       "\n",
       "    .dataframe thead th {\n",
       "        text-align: right;\n",
       "    }\n",
       "</style>\n",
       "<table border=\"1\" class=\"dataframe\">\n",
       "  <thead>\n",
       "    <tr style=\"text-align: right;\">\n",
       "      <th></th>\n",
       "      <th>Average Trip Length</th>\n",
       "    </tr>\n",
       "  </thead>\n",
       "  <tbody>\n",
       "    <tr>\n",
       "      <th>Model</th>\n",
       "      <td>5.48</td>\n",
       "    </tr>\n",
       "    <tr>\n",
       "      <th>Survey</th>\n",
       "      <td>5.74</td>\n",
       "    </tr>\n",
       "  </tbody>\n",
       "</table>\n",
       "</div>"
      ],
      "text/plain": [
       "        Average Trip Length\n",
       "Model                  5.48\n",
       "Survey                 5.74"
      ]
     },
     "execution_count": 16,
     "metadata": {},
     "output_type": "execute_result"
    }
   ],
   "source": [
    "model_result = (trip['travdist']*trip['trexpfac']).sum()/trip['trexpfac'].sum()\n",
    "survey_result = (survey_trip['travdist']*survey_trip['trexpfac']).sum()/survey_trip['trexpfac'].sum()\n",
    "\n",
    "_df = pd.DataFrame([model_result,survey_result])\n",
    "_df.columns = ['Average Trip Length']\n",
    "_df.index = ['Model','Survey']\n",
    "_df"
   ]
  },
  {
   "cell_type": "markdown",
   "metadata": {},
   "source": [
    "## Transit Boardings"
   ]
  },
  {
   "cell_type": "code",
   "execution_count": 17,
   "metadata": {},
   "outputs": [
    {
     "data": {
      "text/html": [
       "<div>\n",
       "<style scoped>\n",
       "    .dataframe tbody tr th:only-of-type {\n",
       "        vertical-align: middle;\n",
       "    }\n",
       "\n",
       "    .dataframe tbody tr th {\n",
       "        vertical-align: top;\n",
       "    }\n",
       "\n",
       "    .dataframe thead th {\n",
       "        text-align: right;\n",
       "    }\n",
       "</style>\n",
       "<table border=\"1\" class=\"dataframe\">\n",
       "  <thead>\n",
       "    <tr style=\"text-align: right;\">\n",
       "      <th></th>\n",
       "      <th>boardings</th>\n",
       "    </tr>\n",
       "    <tr>\n",
       "      <th>agency_name</th>\n",
       "      <th></th>\n",
       "    </tr>\n",
       "  </thead>\n",
       "  <tbody>\n",
       "    <tr>\n",
       "      <th>King County Metro</th>\n",
       "      <td>389,485.96</td>\n",
       "    </tr>\n",
       "    <tr>\n",
       "      <th>Sound Transit</th>\n",
       "      <td>149,206.85</td>\n",
       "    </tr>\n",
       "    <tr>\n",
       "      <th>Pierce Transit</th>\n",
       "      <td>34,547.71</td>\n",
       "    </tr>\n",
       "    <tr>\n",
       "      <th>Community Transit</th>\n",
       "      <td>32,790.46</td>\n",
       "    </tr>\n",
       "    <tr>\n",
       "      <th>Kitsap Transit</th>\n",
       "      <td>17,983.30</td>\n",
       "    </tr>\n",
       "    <tr>\n",
       "      <th>Washington Ferries</th>\n",
       "      <td>11,613.06</td>\n",
       "    </tr>\n",
       "    <tr>\n",
       "      <th>Everett Transit</th>\n",
       "      <td>5,260.90</td>\n",
       "    </tr>\n",
       "    <tr>\n",
       "      <th>Region Total</th>\n",
       "      <td>640,888.24</td>\n",
       "    </tr>\n",
       "  </tbody>\n",
       "</table>\n",
       "</div>"
      ],
      "text/plain": [
       "                    boardings\n",
       "agency_name                  \n",
       "King County Metro  389,485.96\n",
       "Sound Transit      149,206.85\n",
       "Pierce Transit      34,547.71\n",
       "Community Transit   32,790.46\n",
       "Kitsap Transit      17,983.30\n",
       "Washington Ferries  11,613.06\n",
       "Everett Transit      5,260.90\n",
       "Region Total       640,888.24"
      ]
     },
     "execution_count": 17,
     "metadata": {},
     "output_type": "execute_result"
    }
   ],
   "source": [
    "df = pd.read_csv(os.path.join(relative_path,'transit','daily_boardings_by_agency.csv'),index_col=0)\n",
    "df.loc['Region Total','boardings'] = df['boardings'].sum()\n",
    "df"
   ]
  },
  {
   "cell_type": "markdown",
   "metadata": {},
   "source": [
    "## Trip Mode Share"
   ]
  },
  {
   "cell_type": "code",
   "execution_count": 18,
   "metadata": {},
   "outputs": [
    {
     "data": {
      "text/html": [
       "<div>\n",
       "<style scoped>\n",
       "    .dataframe tbody tr th:only-of-type {\n",
       "        vertical-align: middle;\n",
       "    }\n",
       "\n",
       "    .dataframe tbody tr th {\n",
       "        vertical-align: top;\n",
       "    }\n",
       "\n",
       "    .dataframe thead th {\n",
       "        text-align: right;\n",
       "    }\n",
       "</style>\n",
       "<table border=\"1\" class=\"dataframe\">\n",
       "  <thead>\n",
       "    <tr style=\"text-align: right;\">\n",
       "      <th></th>\n",
       "      <th>Model</th>\n",
       "      <th>Survey</th>\n",
       "    </tr>\n",
       "    <tr>\n",
       "      <th>mode</th>\n",
       "      <th></th>\n",
       "      <th></th>\n",
       "    </tr>\n",
       "  </thead>\n",
       "  <tbody>\n",
       "    <tr>\n",
       "      <th>Walk</th>\n",
       "      <td>12.7%</td>\n",
       "      <td>12.5%</td>\n",
       "    </tr>\n",
       "    <tr>\n",
       "      <th>Bike</th>\n",
       "      <td>1.4%</td>\n",
       "      <td>1.3%</td>\n",
       "    </tr>\n",
       "    <tr>\n",
       "      <th>SOV</th>\n",
       "      <td>41.4%</td>\n",
       "      <td>40.8%</td>\n",
       "    </tr>\n",
       "    <tr>\n",
       "      <th>HOV2</th>\n",
       "      <td>22.8%</td>\n",
       "      <td>22.0%</td>\n",
       "    </tr>\n",
       "    <tr>\n",
       "      <th>HOV3+</th>\n",
       "      <td>15.7%</td>\n",
       "      <td>15.8%</td>\n",
       "    </tr>\n",
       "    <tr>\n",
       "      <th>Transit</th>\n",
       "      <td>2.9%</td>\n",
       "      <td>4.9%</td>\n",
       "    </tr>\n",
       "    <tr>\n",
       "      <th>School Bus</th>\n",
       "      <td>2.0%</td>\n",
       "      <td>2.2%</td>\n",
       "    </tr>\n",
       "    <tr>\n",
       "      <th>TNC</th>\n",
       "      <td>1.1%</td>\n",
       "      <td>0.5%</td>\n",
       "    </tr>\n",
       "  </tbody>\n",
       "</table>\n",
       "</div>"
      ],
      "text/plain": [
       "            Model  Survey\n",
       "mode                     \n",
       "Walk        12.7%   12.5%\n",
       "Bike         1.4%    1.3%\n",
       "SOV         41.4%   40.8%\n",
       "HOV2        22.8%   22.0%\n",
       "HOV3+       15.7%   15.8%\n",
       "Transit      2.9%    4.9%\n",
       "School Bus   2.0%    2.2%\n",
       "TNC          1.1%    0.5%"
      ]
     },
     "metadata": {},
     "output_type": "display_data"
    },
    {
     "data": {
      "image/png": "[encoded data removed]",
      "text/plain": [
       "<Figure size 720x360 with 1 Axes>"
      ]
     },
     "metadata": {
      "needs_background": "light"
     },
     "output_type": "display_data"
    }
   ],
   "source": [
    "pd.options.display.float_format = '{:,.1%}'.format\n",
    "model_df = trip[['mode','trexpfac']].groupby('mode').sum()[['trexpfac']]/trip[['trexpfac']].sum()\n",
    "model_df = model_df.reset_index()\n",
    "survey_df = survey_trip[['mode','trexpfac']].groupby('mode').sum()[['trexpfac']]/survey_trip[['trexpfac']].sum()\n",
    "survey_df = survey_df.reset_index()\n",
    "_df = pd.merge(model_df, survey_df, on='mode', how='left')\n",
    "_df.columns = ['mode','Model', 'Survey']\n",
    "# _df = trip[['mode','trexpfac']].groupby('mode').sum()[['trexpfac']]/trip[['trexpfac']].sum()\n",
    "# _df = _df.reset_index()\n",
    "mode_dict = {0:'Other',1:'Walk',2:'Bike',3:'SOV',4:'HOV2',5:'HOV3+',6:'Transit',8:'School Bus',9:'TNC'}\n",
    "_df.replace({'mode':mode_dict}, inplace=True)\n",
    "_df.index = _df['mode']\n",
    "_df.drop('mode', axis=1, inplace=True)\n",
    "dfplot = _df.drop('Other', axis=0)\n",
    "dfplot.plot(kind='barh', alpha=0.6, figsize=(10,5))\n",
    "display(dfplot)\n"
   ]
  },
  {
   "cell_type": "markdown",
   "metadata": {},
   "source": [
    "# Home-Based Work Trip Mode Share"
   ]
  },
  {
   "cell_type": "code",
   "execution_count": 23,
   "metadata": {},
   "outputs": [
    {
     "data": {
      "text/html": [
       "<div>\n",
       "<style scoped>\n",
       "    .dataframe tbody tr th:only-of-type {\n",
       "        vertical-align: middle;\n",
       "    }\n",
       "\n",
       "    .dataframe tbody tr th {\n",
       "        vertical-align: top;\n",
       "    }\n",
       "\n",
       "    .dataframe thead th {\n",
       "        text-align: right;\n",
       "    }\n",
       "</style>\n",
       "<table border=\"1\" class=\"dataframe\">\n",
       "  <thead>\n",
       "    <tr style=\"text-align: right;\">\n",
       "      <th></th>\n",
       "      <th>index</th>\n",
       "      <th>mode</th>\n",
       "      <th>share_model</th>\n",
       "      <th>share_survey</th>\n",
       "    </tr>\n",
       "  </thead>\n",
       "  <tbody>\n",
       "    <tr>\n",
       "      <th>0</th>\n",
       "      <td>0</td>\n",
       "      <td>Walk</td>\n",
       "      <td>5.8%</td>\n",
       "      <td>5.3%</td>\n",
       "    </tr>\n",
       "    <tr>\n",
       "      <th>1</th>\n",
       "      <td>1</td>\n",
       "      <td>Bike</td>\n",
       "      <td>1.4%</td>\n",
       "      <td>1.3%</td>\n",
       "    </tr>\n",
       "    <tr>\n",
       "      <th>2</th>\n",
       "      <td>2</td>\n",
       "      <td>SOV</td>\n",
       "      <td>71.0%</td>\n",
       "      <td>71.2%</td>\n",
       "    </tr>\n",
       "    <tr>\n",
       "      <th>3</th>\n",
       "      <td>3</td>\n",
       "      <td>HOV2</td>\n",
       "      <td>10.5%</td>\n",
       "      <td>8.4%</td>\n",
       "    </tr>\n",
       "    <tr>\n",
       "      <th>4</th>\n",
       "      <td>4</td>\n",
       "      <td>HOV3+</td>\n",
       "      <td>4.8%</td>\n",
       "      <td>2.6%</td>\n",
       "    </tr>\n",
       "    <tr>\n",
       "      <th>5</th>\n",
       "      <td>5</td>\n",
       "      <td>Transit</td>\n",
       "      <td>6.0%</td>\n",
       "      <td>9.6%</td>\n",
       "    </tr>\n",
       "    <tr>\n",
       "      <th>6</th>\n",
       "      <td>6</td>\n",
       "      <td>School Bus</td>\n",
       "      <td>0.0%</td>\n",
       "      <td>0.1%</td>\n",
       "    </tr>\n",
       "    <tr>\n",
       "      <th>7</th>\n",
       "      <td>7</td>\n",
       "      <td>TNC</td>\n",
       "      <td>0.5%</td>\n",
       "      <td>0.8%</td>\n",
       "    </tr>\n",
       "  </tbody>\n",
       "</table>\n",
       "</div>"
      ],
      "text/plain": [
       "   index        mode  share_model  share_survey\n",
       "0      0        Walk         5.8%          5.3%\n",
       "1      1        Bike         1.4%          1.3%\n",
       "2      2         SOV        71.0%         71.2%\n",
       "3      3        HOV2        10.5%          8.4%\n",
       "4      4       HOV3+         4.8%          2.6%\n",
       "5      5     Transit         6.0%          9.6%\n",
       "6      6  School Bus         0.0%          0.1%\n",
       "7      7         TNC         0.5%          0.8%"
      ]
     },
     "execution_count": 23,
     "metadata": {},
     "output_type": "execute_result"
    }
   ],
   "source": [
    "trip['Trip Type'] = 'Not Home-Based Work'\n",
    "trip.loc[(((trip['opurp']==0) & (trip['dpurp']==1)) | ((trip['opurp']==1) & (trip['dpurp']==0))),'Trip Type']= 'Home-Based Work'\n",
    "hbw_trips = trip.loc[trip['Trip Type']=='Home-Based Work']\n",
    "model_df_hbw = hbw_trips[['mode','trexpfac']].groupby(['mode']).sum()[['trexpfac']]/hbw_trips[['trexpfac']].sum()\n",
    "model_df_hbw.reset_index(inplace=True)\n",
    "mode_dict = {0:'Other',1:'Walk',2:'Bike',3:'SOV',4:'HOV2',5:'HOV3+',6:'Transit',8:'School Bus',9:'TNC'}\n",
    "model_df_hbw.replace({'mode':mode_dict}, inplace=True)\n",
    "model_df_hbw.columns = ['mode', 'share']\n",
    "model_df_hbw\n",
    "\n",
    "# Survey trip\n",
    "survey_trip = pd.read_csv(os.path.join(relative_path,r'../inputs/base_year/survey/_trip.tsv'), delim_whitespace=True)\n",
    "survey_trip.loc[(((survey_trip['opurp']==0) & (survey_trip['dpurp']==1)) | ((survey_trip['opurp']==1) & (survey_trip['dpurp']==0))),'Trip Type']= 'Home-Based Work'\n",
    "survey_hbw_trips = survey_trip.loc[survey_trip['Trip Type']=='Home-Based Work']\n",
    "survey_df_hbw = survey_hbw_trips[['mode','trexpfac']].groupby(['mode']).sum()[['trexpfac']]/survey_hbw_trips[['trexpfac']].sum()\n",
    "survey_df_hbw.reset_index(inplace=True)\n",
    "mode_dict = {0:'Other',1:'Walk',2:'Bike',3:'SOV',4:'HOV2',5:'HOV3+',6:'Transit',8:'School Bus',9:'TNC'}\n",
    "survey_df_hbw.replace({'mode':mode_dict}, inplace=True)\n",
    "survey_df_hbw.columns = ['mode', 'share']\n",
    "\n",
    "model_df_hbw.merge(survey_df_hbw, on='mode', suffixes=['_model','_survey']).reset_index()"
   ]
  },
  {
   "cell_type": "markdown",
   "metadata": {},
   "source": [
    "# Other Trip Mode Share (Not Home-Based Work)"
   ]
  },
  {
   "cell_type": "code",
   "execution_count": 24,
   "metadata": {},
   "outputs": [
    {
     "data": {
      "text/html": [
       "<div>\n",
       "<style scoped>\n",
       "    .dataframe tbody tr th:only-of-type {\n",
       "        vertical-align: middle;\n",
       "    }\n",
       "\n",
       "    .dataframe tbody tr th {\n",
       "        vertical-align: top;\n",
       "    }\n",
       "\n",
       "    .dataframe thead th {\n",
       "        text-align: right;\n",
       "    }\n",
       "</style>\n",
       "<table border=\"1\" class=\"dataframe\">\n",
       "  <thead>\n",
       "    <tr style=\"text-align: right;\">\n",
       "      <th></th>\n",
       "      <th>index</th>\n",
       "      <th>mode</th>\n",
       "      <th>share_model</th>\n",
       "      <th>share_survey</th>\n",
       "    </tr>\n",
       "  </thead>\n",
       "  <tbody>\n",
       "    <tr>\n",
       "      <th>0</th>\n",
       "      <td>0</td>\n",
       "      <td>Walk</td>\n",
       "      <td>11.6%</td>\n",
       "      <td>13.9%</td>\n",
       "    </tr>\n",
       "    <tr>\n",
       "      <th>1</th>\n",
       "      <td>1</td>\n",
       "      <td>Bike</td>\n",
       "      <td>0.9%</td>\n",
       "      <td>1.4%</td>\n",
       "    </tr>\n",
       "    <tr>\n",
       "      <th>2</th>\n",
       "      <td>2</td>\n",
       "      <td>SOV</td>\n",
       "      <td>42.0%</td>\n",
       "      <td>36.2%</td>\n",
       "    </tr>\n",
       "    <tr>\n",
       "      <th>3</th>\n",
       "      <td>3</td>\n",
       "      <td>HOV2</td>\n",
       "      <td>23.4%</td>\n",
       "      <td>24.9%</td>\n",
       "    </tr>\n",
       "    <tr>\n",
       "      <th>4</th>\n",
       "      <td>4</td>\n",
       "      <td>HOV3+</td>\n",
       "      <td>16.0%</td>\n",
       "      <td>17.6%</td>\n",
       "    </tr>\n",
       "    <tr>\n",
       "      <th>5</th>\n",
       "      <td>5</td>\n",
       "      <td>Transit</td>\n",
       "      <td>3.7%</td>\n",
       "      <td>2.3%</td>\n",
       "    </tr>\n",
       "    <tr>\n",
       "      <th>6</th>\n",
       "      <td>6</td>\n",
       "      <td>School Bus</td>\n",
       "      <td>1.2%</td>\n",
       "      <td>2.4%</td>\n",
       "    </tr>\n",
       "    <tr>\n",
       "      <th>7</th>\n",
       "      <td>7</td>\n",
       "      <td>TNC</td>\n",
       "      <td>0.3%</td>\n",
       "      <td>1.2%</td>\n",
       "    </tr>\n",
       "  </tbody>\n",
       "</table>\n",
       "</div>"
      ],
      "text/plain": [
       "   index        mode  share_model  share_survey\n",
       "0      0        Walk        11.6%         13.9%\n",
       "1      1        Bike         0.9%          1.4%\n",
       "2      2         SOV        42.0%         36.2%\n",
       "3      3        HOV2        23.4%         24.9%\n",
       "4      4       HOV3+        16.0%         17.6%\n",
       "5      5     Transit         3.7%          2.3%\n",
       "6      6  School Bus         1.2%          2.4%\n",
       "7      7         TNC         0.3%          1.2%"
      ]
     },
     "execution_count": 24,
     "metadata": {},
     "output_type": "execute_result"
    }
   ],
   "source": [
    "nhbw_trips = trip.loc[trip['Trip Type']!='Home-Based Work']\n",
    "model_df_nhbw = nhbw_trips[['mode','trexpfac']].groupby(['mode']).sum()[['trexpfac']]/nhbw_trips[['trexpfac']].sum()\n",
    "model_df_nhbw.reset_index(inplace=True)\n",
    "mode_dict = {0:'Other',1:'Walk',2:'Bike',3:'SOV',4:'HOV2',5:'HOV3+',6:'Transit',8:'School Bus',9:'TNC'}\n",
    "model_df_nhbw.replace({'mode':mode_dict}, inplace=True)\n",
    "model_df_nhbw.columns = ['mode', 'share']\n",
    "\n",
    "\n",
    "# Survey trip\n",
    "survey_nhbw_trips = survey_trip.loc[trip['Trip Type']!='Home-Based Work']\n",
    "survey_df_nhbw = survey_nhbw_trips[['mode','trexpfac']].groupby(['mode']).sum()[['trexpfac']]/survey_nhbw_trips[['trexpfac']].sum()\n",
    "survey_df_nhbw.reset_index(inplace=True)\n",
    "mode_dict = {0:'Other',1:'Walk',2:'Bike',3:'SOV',4:'HOV2',5:'HOV3+',6:'Transit',8:'School Bus',9:'TNC'}\n",
    "survey_df_nhbw.replace({'mode':mode_dict}, inplace=True)\n",
    "survey_df_nhbw.columns = ['mode', 'share']\n",
    "\n",
    "\n",
    "survey_df_nhbw.merge(model_df_nhbw, on='mode', suffixes=['_model','_survey']).reset_index()"
   ]
  },
  {
   "cell_type": "code",
   "execution_count": null,
   "metadata": {},
   "outputs": [],
   "source": []
  }
 ],
 "metadata": {
  "anaconda-cloud": {},
  "kernelspec": {
   "display_name": "Python 3",
   "language": "python",
   "name": "python3"
  },
  "language_info": {
   "codemirror_mode": {
    "name": "ipython",
    "version": 3
   },
   "file_extension": ".py",
   "mimetype": "text/x-python",
   "name": "python",
   "nbconvert_exporter": "python",
   "pygments_lexer": "ipython3",
   "version": "3.8.5"
  }
 },
 "nbformat": 4,
 "nbformat_minor": 1
}
