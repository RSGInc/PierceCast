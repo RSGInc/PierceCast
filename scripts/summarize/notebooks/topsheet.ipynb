{
 "cells": [
  {
   "cell_type": "code",
   "execution_count": 1,
   "metadata": {},
   "outputs": [
    {
     "data": {
      "text/html": [
       "<script>\n",
       "code_show=true; \n",
       "function code_toggle() {\n",
       " if (code_show){\n",
       " $('div.input').hide();\n",
       " } else {\n",
       " $('div.input').show();\n",
       " }\n",
       " code_show = !code_show\n",
       "} \n",
       "$( document ).ready(code_toggle);\n",
       "</script>\n",
       "<form action=\"javascript:code_toggle()\"><input type=\"submit\" value=\"Click here to toggle on/off the raw code.\"></form>"
      ],
      "text/plain": [
       "<IPython.core.display.HTML object>"
      ]
     },
     "execution_count": 1,
     "metadata": {},
     "output_type": "execute_result"
    }
   ],
   "source": [
    "import os, time\n",
    "import warnings\n",
    "warnings.simplefilter(action='ignore', category=FutureWarning)\n",
    "import pandas as pd\n",
    "pd.options.mode.chained_assignment = None\n",
    "import h5py\n",
    "\n",
    "%matplotlib inline\n",
    "\n",
    "from IPython.display import display, HTML\n",
    "\n",
    "HTML('''<script>\n",
    "code_show=true; \n",
    "function code_toggle() {\n",
    " if (code_show){\n",
    " $('div.input').hide();\n",
    " } else {\n",
    " $('div.input').show();\n",
    " }\n",
    " code_show = !code_show\n",
    "} \n",
    "$( document ).ready(code_toggle);\n",
    "</script>\n",
    "<form action=\"javascript:code_toggle()\"><input type=\"submit\" value=\"Click here to toggle on/off the raw code.\"></form>''')"
   ]
  },
  {
   "cell_type": "code",
   "execution_count": 2,
   "metadata": {},
   "outputs": [
    {
     "name": "stdout",
     "output_type": "stream",
     "text": [
      "Summary run: Thu, 05 Nov 2020 16:37:26\n"
     ]
    }
   ],
   "source": [
    "# Create timestamp to show when this summary was run\n",
    "print 'Summary run: ' + time.strftime(\"%a, %d %b %Y %H:%M:%S\")"
   ]
  },
  {
   "cell_type": "code",
   "execution_count": 3,
   "metadata": {},
   "outputs": [
    {
     "data": {
      "text/html": [
       "<style>\n",
       ".output {\n",
       "    flex-direction: row;\n",
       "}\n",
       "</style>"
      ],
      "text/plain": [
       "<IPython.core.display.HTML object>"
      ]
     },
     "execution_count": 3,
     "metadata": {},
     "output_type": "execute_result"
    }
   ],
   "source": [
    "CSS = \"\"\"\n",
    ".output {\n",
    "    flex-direction: row;\n",
    "}\n",
    "\"\"\"\n",
    "\n",
    "HTML('<style>{}</style>'.format(CSS))"
   ]
  },
  {
   "cell_type": "code",
   "execution_count": 4,
   "metadata": {},
   "outputs": [],
   "source": [
    "pd.options.display.float_format = '{:0,.0f}'.format"
   ]
  },
  {
   "cell_type": "code",
   "execution_count": 5,
   "metadata": {},
   "outputs": [],
   "source": [
    "# Relative path between notebooks and goruped output directories\n",
    "relative_path = '../../../outputs'"
   ]
  },
  {
   "cell_type": "code",
   "execution_count": 6,
   "metadata": {},
   "outputs": [],
   "source": [
    "tod_dict = {\n",
    "    '5to6': 'AM',\n",
    "    '6to7': 'AM',\n",
    "    '7to8': 'AM',\n",
    "    '8to9': 'AM',\n",
    "    '9to10': 'Mid-Day',\n",
    "    '10to14': 'Mid-Day',\n",
    "    '14to15': 'Mid-Day',\n",
    "    '15to16': 'PM',\n",
    "    '16to17': 'PM',\n",
    "    '17to18': 'PM',\n",
    "    '18to20': 'Evening',\n",
    "    '20to5': 'Night'\n",
    "}"
   ]
  },
  {
   "cell_type": "code",
   "execution_count": 7,
   "metadata": {},
   "outputs": [],
   "source": [
    "# Load Network Summary sheet from network_summary_detailed\n",
    "df = pd.read_excel(os.path.join(relative_path,'network/') + r'network_summary.xlsx',\n",
    "                  sheetname='VMT by FC')"
   ]
  },
  {
   "cell_type": "markdown",
   "metadata": {},
   "source": [
    "## Vehicle Miles Traveled (VMT)"
   ]
  },
  {
   "cell_type": "code",
   "execution_count": 8,
   "metadata": {},
   "outputs": [
    {
     "data": {
      "text/html": [
       "<div>\n",
       "<table border=\"1\" class=\"dataframe\">\n",
       "  <thead>\n",
       "    <tr style=\"text-align: right;\">\n",
       "      <th></th>\n",
       "      <th>VMT</th>\n",
       "    </tr>\n",
       "    <tr>\n",
       "      <th>Facility Type</th>\n",
       "      <th></th>\n",
       "    </tr>\n",
       "  </thead>\n",
       "  <tbody>\n",
       "    <tr>\n",
       "      <th>arterial</th>\n",
       "      <td>38,617,359</td>\n",
       "    </tr>\n",
       "    <tr>\n",
       "      <th>highway</th>\n",
       "      <td>42,362,033</td>\n",
       "    </tr>\n",
       "    <tr>\n",
       "      <th>connector</th>\n",
       "      <td>5,595,992</td>\n",
       "    </tr>\n",
       "    <tr>\n",
       "      <th>Total</th>\n",
       "      <td>86,575,383</td>\n",
       "    </tr>\n",
       "  </tbody>\n",
       "</table>\n",
       "</div>"
      ],
      "text/plain": [
       "                     VMT\n",
       "Facility Type           \n",
       "arterial      38,617,359\n",
       "highway       42,362,033\n",
       "connector      5,595,992\n",
       "Total         86,575,383"
      ]
     },
     "metadata": {},
     "output_type": "display_data"
    },
    {
     "data": {
      "text/html": [
       "<div>\n",
       "<table border=\"1\" class=\"dataframe\">\n",
       "  <thead>\n",
       "    <tr style=\"text-align: right;\">\n",
       "      <th></th>\n",
       "      <th>VMT</th>\n",
       "    </tr>\n",
       "    <tr>\n",
       "      <th>period</th>\n",
       "      <th></th>\n",
       "    </tr>\n",
       "  </thead>\n",
       "  <tbody>\n",
       "    <tr>\n",
       "      <th>am</th>\n",
       "      <td>20,307,307</td>\n",
       "    </tr>\n",
       "    <tr>\n",
       "      <th>ev</th>\n",
       "      <td>10,994,084</td>\n",
       "    </tr>\n",
       "    <tr>\n",
       "      <th>md</th>\n",
       "      <td>28,586,721</td>\n",
       "    </tr>\n",
       "    <tr>\n",
       "      <th>ni</th>\n",
       "      <td>6,152,240</td>\n",
       "    </tr>\n",
       "    <tr>\n",
       "      <th>pm</th>\n",
       "      <td>20,535,031</td>\n",
       "    </tr>\n",
       "    <tr>\n",
       "      <th>Total</th>\n",
       "      <td>86,575,383</td>\n",
       "    </tr>\n",
       "  </tbody>\n",
       "</table>\n",
       "</div>"
      ],
      "text/plain": [
       "              VMT\n",
       "period           \n",
       "am     20,307,307\n",
       "ev     10,994,084\n",
       "md     28,586,721\n",
       "ni      6,152,240\n",
       "pm     20,535,031\n",
       "Total  86,575,383"
      ]
     },
     "metadata": {},
     "output_type": "display_data"
    }
   ],
   "source": [
    "df_tod = df.groupby(['period']).sum()[['arterial','connector','highway']]\n",
    "df_tod['VMT'] = df_tod.sum(axis=1)\n",
    "df_tod.loc['Total'] = df_tod.sum()\n",
    "df_tod = df_tod[['VMT']]\n",
    "\n",
    "# Save total VMT for later use\n",
    "total_vmt = df_tod.loc['Total'].values[0]\n",
    "\n",
    "df_fac = pd.DataFrame(df.sum()[['arterial','highway','connector']])\n",
    "df_fac = df_fac.reset_index()\n",
    "df_fac.columns = ['Facility Type', 'VMT']\n",
    "df_fac.index = df_fac['Facility Type']\n",
    "df_fac.drop('Facility Type', axis=1, inplace=True)\n",
    "df_fac.loc['Total'] = df_fac.sum()\n",
    "\n",
    "display(df_fac)\n",
    "display(df_tod)"
   ]
  },
  {
   "cell_type": "markdown",
   "metadata": {},
   "source": [
    "## Vehicle Hours Traveled (VHT)"
   ]
  },
  {
   "cell_type": "code",
   "execution_count": 9,
   "metadata": {},
   "outputs": [
    {
     "data": {
      "text/html": [
       "<div>\n",
       "<table border=\"1\" class=\"dataframe\">\n",
       "  <thead>\n",
       "    <tr style=\"text-align: right;\">\n",
       "      <th></th>\n",
       "      <th>VHT</th>\n",
       "    </tr>\n",
       "    <tr>\n",
       "      <th>Facility Type</th>\n",
       "      <th></th>\n",
       "    </tr>\n",
       "  </thead>\n",
       "  <tbody>\n",
       "    <tr>\n",
       "      <th>arterial</th>\n",
       "      <td>1,342,401</td>\n",
       "    </tr>\n",
       "    <tr>\n",
       "      <th>highway</th>\n",
       "      <td>1,011,578</td>\n",
       "    </tr>\n",
       "    <tr>\n",
       "      <th>connector</th>\n",
       "      <td>357,876</td>\n",
       "    </tr>\n",
       "    <tr>\n",
       "      <th>Total</th>\n",
       "      <td>2,711,855</td>\n",
       "    </tr>\n",
       "  </tbody>\n",
       "</table>\n",
       "</div>"
      ],
      "text/plain": [
       "                    VHT\n",
       "Facility Type          \n",
       "arterial      1,342,401\n",
       "highway       1,011,578\n",
       "connector       357,876\n",
       "Total         2,711,855"
      ]
     },
     "metadata": {},
     "output_type": "display_data"
    },
    {
     "data": {
      "text/html": [
       "<div>\n",
       "<table border=\"1\" class=\"dataframe\">\n",
       "  <thead>\n",
       "    <tr style=\"text-align: right;\">\n",
       "      <th></th>\n",
       "      <th>VHT</th>\n",
       "    </tr>\n",
       "    <tr>\n",
       "      <th>period</th>\n",
       "      <th></th>\n",
       "    </tr>\n",
       "  </thead>\n",
       "  <tbody>\n",
       "    <tr>\n",
       "      <th>am</th>\n",
       "      <td>650,383</td>\n",
       "    </tr>\n",
       "    <tr>\n",
       "      <th>ev</th>\n",
       "      <td>364,671</td>\n",
       "    </tr>\n",
       "    <tr>\n",
       "      <th>md</th>\n",
       "      <td>834,235</td>\n",
       "    </tr>\n",
       "    <tr>\n",
       "      <th>ni</th>\n",
       "      <td>160,925</td>\n",
       "    </tr>\n",
       "    <tr>\n",
       "      <th>pm</th>\n",
       "      <td>701,641</td>\n",
       "    </tr>\n",
       "    <tr>\n",
       "      <th>Total</th>\n",
       "      <td>2,711,855</td>\n",
       "    </tr>\n",
       "  </tbody>\n",
       "</table>\n",
       "</div>"
      ],
      "text/plain": [
       "             VHT\n",
       "period          \n",
       "am       650,383\n",
       "ev       364,671\n",
       "md       834,235\n",
       "ni       160,925\n",
       "pm       701,641\n",
       "Total  2,711,855"
      ]
     },
     "metadata": {},
     "output_type": "display_data"
    }
   ],
   "source": [
    "df = pd.read_excel(os.path.join(relative_path,'network/') + r'network_summary.xlsx',\n",
    "                  sheetname='VHT by FC')\n",
    "df_tod = df.groupby(['period']).sum()[['arterial','connector','highway']]\n",
    "df_tod['VHT'] = df_tod.sum(axis=1)\n",
    "df_tod.loc['Total'] = df_tod.sum()\n",
    "df_tod = df_tod[['VHT']]\n",
    "\n",
    "df_fac = pd.DataFrame(df.sum()[['arterial','highway','connector']])\n",
    "df_fac = df_fac.reset_index()\n",
    "df_fac.columns = ['Facility Type', 'VHT']\n",
    "df_fac.index = df_fac['Facility Type']\n",
    "df_fac.drop('Facility Type', axis=1, inplace=True)\n",
    "df_fac.loc['Total'] = df_fac.sum()\n",
    "\n",
    "display(df_fac)\n",
    "display(df_tod)"
   ]
  },
  {
   "cell_type": "markdown",
   "metadata": {},
   "source": [
    "## Delay"
   ]
  },
  {
   "cell_type": "code",
   "execution_count": 10,
   "metadata": {},
   "outputs": [
    {
     "data": {
      "text/html": [
       "<div>\n",
       "<table border=\"1\" class=\"dataframe\">\n",
       "  <thead>\n",
       "    <tr style=\"text-align: right;\">\n",
       "      <th></th>\n",
       "      <th>Delay</th>\n",
       "    </tr>\n",
       "    <tr>\n",
       "      <th>Facility Type</th>\n",
       "      <th></th>\n",
       "    </tr>\n",
       "  </thead>\n",
       "  <tbody>\n",
       "    <tr>\n",
       "      <th>arterial</th>\n",
       "      <td>150,146</td>\n",
       "    </tr>\n",
       "    <tr>\n",
       "      <th>highway</th>\n",
       "      <td>214,081</td>\n",
       "    </tr>\n",
       "    <tr>\n",
       "      <th>Total</th>\n",
       "      <td>364,227</td>\n",
       "    </tr>\n",
       "  </tbody>\n",
       "</table>\n",
       "</div>"
      ],
      "text/plain": [
       "                Delay\n",
       "Facility Type        \n",
       "arterial      150,146\n",
       "highway       214,081\n",
       "Total         364,227"
      ]
     },
     "metadata": {},
     "output_type": "display_data"
    },
    {
     "data": {
      "text/html": [
       "<div>\n",
       "<table border=\"1\" class=\"dataframe\">\n",
       "  <thead>\n",
       "    <tr style=\"text-align: right;\">\n",
       "      <th></th>\n",
       "      <th>Delay</th>\n",
       "    </tr>\n",
       "    <tr>\n",
       "      <th>period</th>\n",
       "      <th></th>\n",
       "    </tr>\n",
       "  </thead>\n",
       "  <tbody>\n",
       "    <tr>\n",
       "      <th>am</th>\n",
       "      <td>119,401</td>\n",
       "    </tr>\n",
       "    <tr>\n",
       "      <th>ev</th>\n",
       "      <td>49,769</td>\n",
       "    </tr>\n",
       "    <tr>\n",
       "      <th>md</th>\n",
       "      <td>57,970</td>\n",
       "    </tr>\n",
       "    <tr>\n",
       "      <th>ni</th>\n",
       "      <td>0</td>\n",
       "    </tr>\n",
       "    <tr>\n",
       "      <th>pm</th>\n",
       "      <td>137,087</td>\n",
       "    </tr>\n",
       "    <tr>\n",
       "      <th>Total</th>\n",
       "      <td>364,227</td>\n",
       "    </tr>\n",
       "  </tbody>\n",
       "</table>\n",
       "</div>"
      ],
      "text/plain": [
       "         Delay\n",
       "period        \n",
       "am     119,401\n",
       "ev      49,769\n",
       "md      57,970\n",
       "ni           0\n",
       "pm     137,087\n",
       "Total  364,227"
      ]
     },
     "metadata": {},
     "output_type": "display_data"
    }
   ],
   "source": [
    "df = pd.read_excel(os.path.join(relative_path,'network/') + r'network_summary.xlsx',\n",
    "                  sheetname='delay by FC')\n",
    "df_tod = df.groupby(['period']).sum()[['arterial','connector','highway']]\n",
    "df_tod['Delay'] = df_tod.sum(axis=1)\n",
    "df_tod.loc['Total'] = df_tod.sum()\n",
    "df_tod = df_tod[['Delay']]\n",
    "\n",
    "df_fac = pd.DataFrame(df.sum()[['arterial','highway']])\n",
    "df_fac = df_fac.reset_index()\n",
    "df_fac.columns = ['Facility Type', 'Delay']\n",
    "df_fac.index = df_fac['Facility Type']\n",
    "df_fac.drop('Facility Type', axis=1, inplace=True)\n",
    "df_fac.loc['Total'] = df_fac.sum()\n",
    "\n",
    "display(df_fac)\n",
    "display(df_tod)"
   ]
  },
  {
   "cell_type": "markdown",
   "metadata": {},
   "source": [
    "## VMT per Person"
   ]
  },
  {
   "cell_type": "code",
   "execution_count": 11,
   "metadata": {},
   "outputs": [],
   "source": [
    "# Load Daysim results\n",
    "trip = pd.read_csv(os.path.join(relative_path,r'daysim/') + r'_trip.tsv', sep='\\t')\n",
    "person = pd.read_csv(os.path.join(relative_path,r'daysim/') + r'_person.tsv', sep='\\t')"
   ]
  },
  {
   "cell_type": "code",
   "execution_count": 12,
   "metadata": {},
   "outputs": [],
   "source": [
    "# Load survey results\n",
    "surveyh5 = h5py.File(os.path.join(relative_path,r'../inputs/base_year/observed/survey.h5'))"
   ]
  },
  {
   "cell_type": "code",
   "execution_count": 13,
   "metadata": {},
   "outputs": [],
   "source": [
    "survey_trip = pd.DataFrame()\n",
    "survey_person = pd.DataFrame()\n",
    "for col in surveyh5['Trip'].keys():\n",
    "    survey_trip[col] = surveyh5['Trip'][col][:]\n",
    "    \n",
    "for col in surveyh5['Person'].keys():\n",
    "    survey_person[col] = surveyh5['Person'][col][:]"
   ]
  },
  {
   "cell_type": "code",
   "execution_count": 14,
   "metadata": {},
   "outputs": [
    {
     "data": {
      "text/html": [
       "<div>\n",
       "<table border=\"1\" class=\"dataframe\">\n",
       "  <thead>\n",
       "    <tr style=\"text-align: right;\">\n",
       "      <th></th>\n",
       "      <th>Average VMT per Capita</th>\n",
       "    </tr>\n",
       "  </thead>\n",
       "  <tbody>\n",
       "    <tr>\n",
       "      <th>0</th>\n",
       "      <td>21.43</td>\n",
       "    </tr>\n",
       "  </tbody>\n",
       "</table>\n",
       "</div>"
      ],
      "text/plain": [
       "   Average VMT per Capita\n",
       "0                   21.43"
      ]
     },
     "execution_count": 14,
     "metadata": {},
     "output_type": "execute_result"
    }
   ],
   "source": [
    "pd.options.display.float_format = '{:0,.2f}'.format\n",
    "\n",
    "\n",
    "# This is average trips\n",
    "# model_value = trip['trexpfac'].sum()/person['psexpfac'].sum()\n",
    "# survey_value = survey_trip['trexpfac'].sum()/survey_person['psexpfac'].sum()\n",
    "\n",
    "_df = pd.DataFrame([total_vmt/person['psexpfac'].sum()])\n",
    "_df.columns = ['Average VMT per Capita']\n",
    "_df\n",
    "\n"
   ]
  },
  {
   "cell_type": "markdown",
   "metadata": {},
   "source": [
    "## Trips per Person"
   ]
  },
  {
   "cell_type": "code",
   "execution_count": 15,
   "metadata": {},
   "outputs": [
    {
     "data": {
      "text/html": [
       "<div>\n",
       "<table border=\"1\" class=\"dataframe\">\n",
       "  <thead>\n",
       "    <tr style=\"text-align: right;\">\n",
       "      <th></th>\n",
       "      <th>Total Trips per Capita</th>\n",
       "    </tr>\n",
       "  </thead>\n",
       "  <tbody>\n",
       "    <tr>\n",
       "      <th>Model</th>\n",
       "      <td>4.05</td>\n",
       "    </tr>\n",
       "    <tr>\n",
       "      <th>Survey</th>\n",
       "      <td>4.54</td>\n",
       "    </tr>\n",
       "  </tbody>\n",
       "</table>\n",
       "</div>"
      ],
      "text/plain": [
       "        Total Trips per Capita\n",
       "Model                     4.05\n",
       "Survey                    4.54"
      ]
     },
     "execution_count": 15,
     "metadata": {},
     "output_type": "execute_result"
    }
   ],
   "source": [
    "model_result = (trip['trexpfac'].sum()*1.0)/person['psexpfac'].sum()\n",
    "survey_result = (survey_trip['trexpfac'].sum()*1.0)/survey_person['psexpfac'].sum()\n",
    "\n",
    "_df = pd.DataFrame([model_result,survey_result])\n",
    "_df.columns = ['Total Trips per Capita']\n",
    "_df.index = ['Model', 'Survey']\n",
    "_df"
   ]
  },
  {
   "cell_type": "markdown",
   "metadata": {},
   "source": [
    "## Average Trip Length"
   ]
  },
  {
   "cell_type": "code",
   "execution_count": 16,
   "metadata": {},
   "outputs": [
    {
     "data": {
      "text/html": [
       "<div>\n",
       "<table border=\"1\" class=\"dataframe\">\n",
       "  <thead>\n",
       "    <tr style=\"text-align: right;\">\n",
       "      <th></th>\n",
       "      <th>Average Trip Length</th>\n",
       "    </tr>\n",
       "  </thead>\n",
       "  <tbody>\n",
       "    <tr>\n",
       "      <th>Model</th>\n",
       "      <td>5.45</td>\n",
       "    </tr>\n",
       "    <tr>\n",
       "      <th>Survey</th>\n",
       "      <td>5.74</td>\n",
       "    </tr>\n",
       "  </tbody>\n",
       "</table>\n",
       "</div>"
      ],
      "text/plain": [
       "        Average Trip Length\n",
       "Model                  5.45\n",
       "Survey                 5.74"
      ]
     },
     "execution_count": 16,
     "metadata": {},
     "output_type": "execute_result"
    }
   ],
   "source": [
    "model_result = (trip['travdist']*trip['trexpfac']).sum()/trip['trexpfac'].sum()\n",
    "survey_result = (survey_trip['travdist']*survey_trip['trexpfac']).sum()/survey_trip['trexpfac'].sum()\n",
    "\n",
    "_df = pd.DataFrame([model_result,survey_result])\n",
    "_df.columns = ['Average Trip Length']\n",
    "_df.index = ['Model','Survey']\n",
    "_df"
   ]
  },
  {
   "cell_type": "markdown",
   "metadata": {},
   "source": [
    "## Transit Boardings"
   ]
  },
  {
   "cell_type": "code",
   "execution_count": 17,
   "metadata": {},
   "outputs": [
    {
     "data": {
      "text/html": [
       "<div>\n",
       "<table border=\"1\" class=\"dataframe\">\n",
       "  <thead>\n",
       "    <tr style=\"text-align: right;\">\n",
       "      <th></th>\n",
       "      <th>boardings</th>\n",
       "    </tr>\n",
       "    <tr>\n",
       "      <th>agency_name</th>\n",
       "      <th></th>\n",
       "    </tr>\n",
       "  </thead>\n",
       "  <tbody>\n",
       "    <tr>\n",
       "      <th>Washington Ferries</th>\n",
       "      <td>44,502.58</td>\n",
       "    </tr>\n",
       "    <tr>\n",
       "      <th>Everett Transit</th>\n",
       "      <td>-1,900,000,038,080,000,032,768.00</td>\n",
       "    </tr>\n",
       "    <tr>\n",
       "      <th>Sound Transit</th>\n",
       "      <td>-4,300,000,086,179,999,907,840.00</td>\n",
       "    </tr>\n",
       "    <tr>\n",
       "      <th>Kitsap Transit</th>\n",
       "      <td>-5,200,000,104,210,000,510,976.00</td>\n",
       "    </tr>\n",
       "    <tr>\n",
       "      <th>Pierce Transit</th>\n",
       "      <td>-6,000,000,120,250,000,474,112.00</td>\n",
       "    </tr>\n",
       "    <tr>\n",
       "      <th>Community Transit</th>\n",
       "      <td>-6,300,000,126,259,999,801,344.00</td>\n",
       "    </tr>\n",
       "    <tr>\n",
       "      <th>King County Metro</th>\n",
       "      <td>-35,200,000,705,400,001,265,664.00</td>\n",
       "    </tr>\n",
       "    <tr>\n",
       "      <th>Region Total</th>\n",
       "      <td>-58,900,001,180,380,001,468,416.00</td>\n",
       "    </tr>\n",
       "  </tbody>\n",
       "</table>\n",
       "</div>"
      ],
      "text/plain": [
       "                                            boardings\n",
       "agency_name                                          \n",
       "Washington Ferries                          44,502.58\n",
       "Everett Transit     -1,900,000,038,080,000,032,768.00\n",
       "Sound Transit       -4,300,000,086,179,999,907,840.00\n",
       "Kitsap Transit      -5,200,000,104,210,000,510,976.00\n",
       "Pierce Transit      -6,000,000,120,250,000,474,112.00\n",
       "Community Transit   -6,300,000,126,259,999,801,344.00\n",
       "King County Metro  -35,200,000,705,400,001,265,664.00\n",
       "Region Total       -58,900,001,180,380,001,468,416.00"
      ]
     },
     "execution_count": 17,
     "metadata": {},
     "output_type": "execute_result"
    }
   ],
   "source": [
    "df = pd.read_csv(os.path.join(relative_path,'transit','daily_boardings_by_agency.csv'),index_col=0)\n",
    "df.loc['Region Total','boardings'] = df['boardings'].sum()\n",
    "df"
   ]
  },
  {
   "cell_type": "markdown",
   "metadata": {},
   "source": [
    "## Trip Mode Share"
   ]
  },
  {
   "cell_type": "code",
   "execution_count": 18,
   "metadata": {},
   "outputs": [
    {
     "data": {
      "text/html": [
       "<div>\n",
       "<table border=\"1\" class=\"dataframe\">\n",
       "  <thead>\n",
       "    <tr style=\"text-align: right;\">\n",
       "      <th></th>\n",
       "      <th>Model</th>\n",
       "      <th>Survey</th>\n",
       "    </tr>\n",
       "    <tr>\n",
       "      <th>mode</th>\n",
       "      <th></th>\n",
       "      <th></th>\n",
       "    </tr>\n",
       "  </thead>\n",
       "  <tbody>\n",
       "    <tr>\n",
       "      <th>Walk</th>\n",
       "      <td>12.5%</td>\n",
       "      <td>12.5%</td>\n",
       "    </tr>\n",
       "    <tr>\n",
       "      <th>Bike</th>\n",
       "      <td>1.4%</td>\n",
       "      <td>1.3%</td>\n",
       "    </tr>\n",
       "    <tr>\n",
       "      <th>SOV</th>\n",
       "      <td>41.4%</td>\n",
       "      <td>40.8%</td>\n",
       "    </tr>\n",
       "    <tr>\n",
       "      <th>HOV2</th>\n",
       "      <td>23.3%</td>\n",
       "      <td>22.0%</td>\n",
       "    </tr>\n",
       "    <tr>\n",
       "      <th>HOV3+</th>\n",
       "      <td>15.4%</td>\n",
       "      <td>15.8%</td>\n",
       "    </tr>\n",
       "    <tr>\n",
       "      <th>Transit</th>\n",
       "      <td>2.9%</td>\n",
       "      <td>4.9%</td>\n",
       "    </tr>\n",
       "    <tr>\n",
       "      <th>School Bus</th>\n",
       "      <td>1.9%</td>\n",
       "      <td>2.2%</td>\n",
       "    </tr>\n",
       "    <tr>\n",
       "      <th>TNC</th>\n",
       "      <td>1.1%</td>\n",
       "      <td>0.5%</td>\n",
       "    </tr>\n",
       "  </tbody>\n",
       "</table>\n",
       "</div>"
      ],
      "text/plain": [
       "            Model  Survey\n",
       "mode                     \n",
       "Walk        12.5%   12.5%\n",
       "Bike         1.4%    1.3%\n",
       "SOV         41.4%   40.8%\n",
       "HOV2        23.3%   22.0%\n",
       "HOV3+       15.4%   15.8%\n",
       "Transit      2.9%    4.9%\n",
       "School Bus   1.9%    2.2%\n",
       "TNC          1.1%    0.5%"
      ]
     },
     "metadata": {},
     "output_type": "display_data"
    },
    {
     "data": {
      "image/png": "[encoded data removed]",
      "text/plain": [
       "<matplotlib.figure.Figure at 0x990cac8>"
      ]
     },
     "metadata": {},
     "output_type": "display_data"
    }
   ],
   "source": [
    "pd.options.display.float_format = '{:,.1%}'.format\n",
    "model_df = trip[['mode','trexpfac']].groupby('mode').sum()[['trexpfac']]/trip[['trexpfac']].sum()\n",
    "model_df = model_df.reset_index()\n",
    "survey_df = survey_trip[['mode','trexpfac']].groupby('mode').sum()[['trexpfac']]/survey_trip[['trexpfac']].sum()\n",
    "survey_df = survey_df.reset_index()\n",
    "_df = pd.merge(model_df, survey_df, on='mode', how='left')\n",
    "_df.columns = ['mode','Model', 'Survey']\n",
    "# _df = trip[['mode','trexpfac']].groupby('mode').sum()[['trexpfac']]/trip[['trexpfac']].sum()\n",
    "# _df = _df.reset_index()\n",
    "mode_dict = {0:'Other',1:'Walk',2:'Bike',3:'SOV',4:'HOV2',5:'HOV3+',6:'Transit',8:'School Bus',9:'TNC'}\n",
    "_df.replace({'mode':mode_dict}, inplace=True)\n",
    "_df.index = _df['mode']\n",
    "_df.drop('mode', axis=1, inplace=True)\n",
    "dfplot = _df.drop('Other', axis=0)\n",
    "dfplot.plot(kind='barh', alpha=0.6, figsize=(10,5))\n",
    "display(dfplot)\n"
   ]
  },
  {
   "cell_type": "markdown",
   "metadata": {},
   "source": [
    "# Home-Based Work Trip Mode Share"
   ]
  },
  {
   "cell_type": "code",
   "execution_count": 19,
   "metadata": {},
   "outputs": [
    {
     "data": {
      "text/html": [
       "<div>\n",
       "<table border=\"1\" class=\"dataframe\">\n",
       "  <thead>\n",
       "    <tr style=\"text-align: right;\">\n",
       "      <th></th>\n",
       "      <th>index</th>\n",
       "      <th>mode</th>\n",
       "      <th>share_model</th>\n",
       "      <th>share_survey</th>\n",
       "    </tr>\n",
       "  </thead>\n",
       "  <tbody>\n",
       "    <tr>\n",
       "      <th>0</th>\n",
       "      <td>0</td>\n",
       "      <td>Walk</td>\n",
       "      <td>5.3%</td>\n",
       "      <td>5.7%</td>\n",
       "    </tr>\n",
       "    <tr>\n",
       "      <th>1</th>\n",
       "      <td>1</td>\n",
       "      <td>Bike</td>\n",
       "      <td>1.3%</td>\n",
       "      <td>1.5%</td>\n",
       "    </tr>\n",
       "    <tr>\n",
       "      <th>2</th>\n",
       "      <td>2</td>\n",
       "      <td>SOV</td>\n",
       "      <td>71.2%</td>\n",
       "      <td>70.6%</td>\n",
       "    </tr>\n",
       "    <tr>\n",
       "      <th>3</th>\n",
       "      <td>3</td>\n",
       "      <td>HOV2</td>\n",
       "      <td>8.4%</td>\n",
       "      <td>10.9%</td>\n",
       "    </tr>\n",
       "    <tr>\n",
       "      <th>4</th>\n",
       "      <td>4</td>\n",
       "      <td>HOV3+</td>\n",
       "      <td>2.6%</td>\n",
       "      <td>5.0%</td>\n",
       "    </tr>\n",
       "    <tr>\n",
       "      <th>5</th>\n",
       "      <td>5</td>\n",
       "      <td>Transit</td>\n",
       "      <td>9.6%</td>\n",
       "      <td>5.9%</td>\n",
       "    </tr>\n",
       "    <tr>\n",
       "      <th>6</th>\n",
       "      <td>6</td>\n",
       "      <td>School Bus</td>\n",
       "      <td>0.1%</td>\n",
       "      <td>0.0%</td>\n",
       "    </tr>\n",
       "    <tr>\n",
       "      <th>7</th>\n",
       "      <td>7</td>\n",
       "      <td>TNC</td>\n",
       "      <td>0.8%</td>\n",
       "      <td>0.5%</td>\n",
       "    </tr>\n",
       "  </tbody>\n",
       "</table>\n",
       "</div>"
      ],
      "text/plain": [
       "   index        mode  share_model  share_survey\n",
       "0      0        Walk         5.3%          5.7%\n",
       "1      1        Bike         1.3%          1.5%\n",
       "2      2         SOV        71.2%         70.6%\n",
       "3      3        HOV2         8.4%         10.9%\n",
       "4      4       HOV3+         2.6%          5.0%\n",
       "5      5     Transit         9.6%          5.9%\n",
       "6      6  School Bus         0.1%          0.0%\n",
       "7      7         TNC         0.8%          0.5%"
      ]
     },
     "execution_count": 19,
     "metadata": {},
     "output_type": "execute_result"
    }
   ],
   "source": [
    "trip['Trip Type'] = 'Not Home-Based Work'\n",
    "trip.loc[(((trip['opurp']==0) & (trip['dpurp']==1)) | ((trip['opurp']==1) & (trip['dpurp']==0))),'Trip Type']= 'Home-Based Work'\n",
    "hbw_trips = trip.loc[trip['Trip Type']=='Home-Based Work']\n",
    "model_df_hbw = hbw_trips[['mode','trexpfac']].groupby(['mode']).sum()[['trexpfac']]/hbw_trips[['trexpfac']].sum()\n",
    "model_df_hbw.reset_index(inplace=True)\n",
    "mode_dict = {0:'Other',1:'Walk',2:'Bike',3:'SOV',4:'HOV2',5:'HOV3+',6:'Transit',8:'School Bus',9:'TNC'}\n",
    "model_df_hbw.replace({'mode':mode_dict}, inplace=True)\n",
    "model_df_hbw.columns = ['mode', 'share']\n",
    "model_df_hbw\n",
    "\n",
    "# Survey trip\n",
    "survey_trip = pd.read_csv(os.path.join(relative_path,r'../inputs/base_year/survey/_trip.tsv'), delim_whitespace=True)\n",
    "survey_trip.loc[(((survey_trip['opurp']==0) & (survey_trip['dpurp']==1)) | ((survey_trip['opurp']==1) & (survey_trip['dpurp']==0))),'Trip Type']= 'Home-Based Work'\n",
    "survey_hbw_trips = survey_trip.loc[survey_trip['Trip Type']=='Home-Based Work']\n",
    "survey_df_hbw = survey_hbw_trips[['mode','trexpfac']].groupby(['mode']).sum()[['trexpfac']]/survey_hbw_trips[['trexpfac']].sum()\n",
    "survey_df_hbw.reset_index(inplace=True)\n",
    "mode_dict = {0:'Other',1:'Walk',2:'Bike',3:'SOV',4:'HOV2',5:'HOV3+',6:'Transit',8:'School Bus',9:'TNC'}\n",
    "survey_df_hbw.replace({'mode':mode_dict}, inplace=True)\n",
    "survey_df_hbw.columns = ['mode', 'share']\n",
    "\n",
    "survey_df_hbw.merge(model_df_hbw, on='mode', suffixes=['_model','_survey']).reset_index()"
   ]
  },
  {
   "cell_type": "markdown",
   "metadata": {},
   "source": [
    "# Other Trip Mode Share (Not Home-Based Work)"
   ]
  },
  {
   "cell_type": "code",
   "execution_count": 20,
   "metadata": {},
   "outputs": [
    {
     "data": {
      "text/html": [
       "<div>\n",
       "<table border=\"1\" class=\"dataframe\">\n",
       "  <thead>\n",
       "    <tr style=\"text-align: right;\">\n",
       "      <th></th>\n",
       "      <th>index</th>\n",
       "      <th>mode</th>\n",
       "      <th>share_model</th>\n",
       "      <th>share_survey</th>\n",
       "    </tr>\n",
       "  </thead>\n",
       "  <tbody>\n",
       "    <tr>\n",
       "      <th>0</th>\n",
       "      <td>0</td>\n",
       "      <td>Other</td>\n",
       "      <td>0.0%</td>\n",
       "      <td>0.0%</td>\n",
       "    </tr>\n",
       "    <tr>\n",
       "      <th>1</th>\n",
       "      <td>1</td>\n",
       "      <td>Walk</td>\n",
       "      <td>13.7%</td>\n",
       "      <td>13.7%</td>\n",
       "    </tr>\n",
       "    <tr>\n",
       "      <th>2</th>\n",
       "      <td>2</td>\n",
       "      <td>Bike</td>\n",
       "      <td>1.4%</td>\n",
       "      <td>1.4%</td>\n",
       "    </tr>\n",
       "    <tr>\n",
       "      <th>3</th>\n",
       "      <td>3</td>\n",
       "      <td>SOV</td>\n",
       "      <td>36.3%</td>\n",
       "      <td>36.3%</td>\n",
       "    </tr>\n",
       "    <tr>\n",
       "      <th>4</th>\n",
       "      <td>4</td>\n",
       "      <td>HOV2</td>\n",
       "      <td>25.5%</td>\n",
       "      <td>25.5%</td>\n",
       "    </tr>\n",
       "    <tr>\n",
       "      <th>5</th>\n",
       "      <td>5</td>\n",
       "      <td>HOV3+</td>\n",
       "      <td>17.2%</td>\n",
       "      <td>17.2%</td>\n",
       "    </tr>\n",
       "    <tr>\n",
       "      <th>6</th>\n",
       "      <td>6</td>\n",
       "      <td>Transit</td>\n",
       "      <td>2.4%</td>\n",
       "      <td>2.4%</td>\n",
       "    </tr>\n",
       "    <tr>\n",
       "      <th>7</th>\n",
       "      <td>7</td>\n",
       "      <td>School Bus</td>\n",
       "      <td>2.3%</td>\n",
       "      <td>2.3%</td>\n",
       "    </tr>\n",
       "    <tr>\n",
       "      <th>8</th>\n",
       "      <td>8</td>\n",
       "      <td>TNC</td>\n",
       "      <td>1.2%</td>\n",
       "      <td>1.2%</td>\n",
       "    </tr>\n",
       "  </tbody>\n",
       "</table>\n",
       "</div>"
      ],
      "text/plain": [
       "   index        mode  share_model  share_survey\n",
       "0      0       Other         0.0%          0.0%\n",
       "1      1        Walk        13.7%         13.7%\n",
       "2      2        Bike         1.4%          1.4%\n",
       "3      3         SOV        36.3%         36.3%\n",
       "4      4        HOV2        25.5%         25.5%\n",
       "5      5       HOV3+        17.2%         17.2%\n",
       "6      6     Transit         2.4%          2.4%\n",
       "7      7  School Bus         2.3%          2.3%\n",
       "8      8         TNC         1.2%          1.2%"
      ]
     },
     "execution_count": 20,
     "metadata": {},
     "output_type": "execute_result"
    }
   ],
   "source": [
    "nhbw_trips = trip.loc[trip['Trip Type']!='Home-Based Work']\n",
    "model_df_nhbw = nhbw_trips[['mode','trexpfac']].groupby(['mode']).sum()[['trexpfac']]/nhbw_trips[['trexpfac']].sum()\n",
    "model_df_nhbw.reset_index(inplace=True)\n",
    "mode_dict = {0:'Other',1:'Walk',2:'Bike',3:'SOV',4:'HOV2',5:'HOV3+',6:'Transit',8:'School Bus',9:'TNC'}\n",
    "model_df_nhbw.replace({'mode':mode_dict}, inplace=True)\n",
    "model_df_nhbw.columns = ['mode', 'share']\n",
    "\n",
    "\n",
    "# Survey trip\n",
    "survey_nhbw_trips = trip.loc[trip['Trip Type']!='Home-Based Work']\n",
    "survey_df_nhbw = survey_nhbw_trips[['mode','trexpfac']].groupby(['mode']).sum()[['trexpfac']]/survey_nhbw_trips[['trexpfac']].sum()\n",
    "survey_df_nhbw.reset_index(inplace=True)\n",
    "mode_dict = {0:'Other',1:'Walk',2:'Bike',3:'SOV',4:'HOV2',5:'HOV3+',6:'Transit',8:'School Bus',9:'TNC'}\n",
    "survey_df_nhbw.replace({'mode':mode_dict}, inplace=True)\n",
    "survey_df_nhbw.columns = ['mode', 'share']\n",
    "\n",
    "\n",
    "survey_df_nhbw.merge(model_df_nhbw, on='mode', suffixes=['_model','_survey']).reset_index()"
   ]
  },
  {
   "cell_type": "code",
   "execution_count": 21,
   "metadata": {},
   "outputs": [],
   "source": []
  }
 ],
 "metadata": {
  "anaconda-cloud": {},
  "kernelspec": {
   "display_name": "Python 2",
   "language": "python",
   "name": "python2"
  },
  "language_info": {
   "codemirror_mode": {
    "name": "ipython",
    "version": 2
   },
   "file_extension": ".py",
   "mimetype": "text/x-python",
   "name": "python",
   "nbconvert_exporter": "python",
   "pygments_lexer": "ipython2",
   "version": "2.7.14"
  }
 },
 "nbformat": 4,
 "nbformat_minor": 1
}
