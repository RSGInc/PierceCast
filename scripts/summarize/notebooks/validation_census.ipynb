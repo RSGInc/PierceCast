{
 "cells": [
  {
   "cell_type": "code",
   "execution_count": 1,
   "metadata": {},
   "outputs": [
    {
     "data": {
      "text/html": [
       "<script>\n",
       "code_show=true; \n",
       "function code_toggle() {\n",
       " if (code_show){\n",
       " $('div.input').hide();\n",
       " } else {\n",
       " $('div.input').show();\n",
       " }\n",
       " code_show = !code_show\n",
       "} \n",
       "$( document ).ready(code_toggle);\n",
       "</script>\n",
       "<form action=\"javascript:code_toggle()\"><input type=\"submit\" value=\"Click here to toggle on/off the raw code.\"></form>"
      ],
      "text/plain": [
       "<IPython.core.display.HTML object>"
      ]
     },
     "execution_count": 1,
     "metadata": {},
     "output_type": "execute_result"
    }
   ],
   "source": [
    "import os, time\n",
    "from scipy import stats\n",
    "import warnings\n",
    "warnings.simplefilter(action='ignore', category=FutureWarning)\n",
    "import pandas as pd\n",
    "pd.options.mode.chained_assignment = None\n",
    "import numpy as np\n",
    "%matplotlib inline\n",
    "\n",
    "from IPython.display import display, HTML\n",
    "\n",
    "HTML('''<script>\n",
    "code_show=true; \n",
    "function code_toggle() {\n",
    " if (code_show){\n",
    " $('div.input').hide();\n",
    " } else {\n",
    " $('div.input').show();\n",
    " }\n",
    " code_show = !code_show\n",
    "} \n",
    "$( document ).ready(code_toggle);\n",
    "</script>\n",
    "<form action=\"javascript:code_toggle()\"><input type=\"submit\" value=\"Click here to toggle on/off the raw code.\"></form>''')\n",
    "import pandas as pd\n",
    "import numpy as np\n",
    "%matplotlib inline\n",
    "\n",
    "from IPython.display import display, HTML\n",
    "\n",
    "HTML('''<script>\n",
    "code_show=true; \n",
    "function code_toggle() {\n",
    " if (code_show){\n",
    " $('div.input').hide();\n",
    " } else {\n",
    " $('div.input').show();\n",
    " }\n",
    " code_show = !code_show\n",
    "} \n",
    "$( document ).ready(code_toggle);\n",
    "</script>\n",
    "<form action=\"javascript:code_toggle()\"><input type=\"submit\" value=\"Click here to toggle on/off the raw code.\"></form>''')"
   ]
  },
  {
   "cell_type": "code",
   "execution_count": 2,
   "metadata": {},
   "outputs": [
    {
     "data": {
      "text/plain": [
       "'D:\\\\sc_new_path_types\\\\soundcast\\\\scripts\\\\summarize\\\\notebooks'"
      ]
     },
     "execution_count": 2,
     "metadata": {},
     "output_type": "execute_result"
    }
   ],
   "source": [
    "os.getcwd()"
   ]
  },
  {
   "cell_type": "code",
   "execution_count": 3,
   "metadata": {},
   "outputs": [
    {
     "name": "stdout",
     "output_type": "stream",
     "text": [
      "Summary run: Tue, 07 Jul 2020 19:08\n"
     ]
    }
   ],
   "source": [
    "# Create timestamp to show when this summary was run\n",
    "print 'Summary run: ' + time.strftime(\"%a, %d %b %Y %H:%M\")"
   ]
  },
  {
   "cell_type": "code",
   "execution_count": 4,
   "metadata": {},
   "outputs": [],
   "source": [
    "pd.options.display.float_format = '{:0,.2f}'.format\n",
    "format_percent = \"{:,.2%}\".format\n",
    "relative_path = '../../../outputs'"
   ]
  },
  {
   "cell_type": "markdown",
   "metadata": {},
   "source": [
    "# Commute Mode by Workplace Geography"
   ]
  },
  {
   "cell_type": "code",
   "execution_count": 5,
   "metadata": {},
   "outputs": [
    {
     "data": {
      "text/html": [
       "<div>\n",
       "<table border=\"1\" class=\"dataframe\">\n",
       "  <thead>\n",
       "    <tr style=\"text-align: right;\">\n",
       "      <th></th>\n",
       "      <th>work_place</th>\n",
       "      <th>mode</th>\n",
       "      <th>modeled_mode_total</th>\n",
       "      <th>observed_mode_total</th>\n",
       "      <th>percent_diff</th>\n",
       "      <th>diff</th>\n",
       "      <th>modeled_mode_share</th>\n",
       "      <th>observed_mode_share</th>\n",
       "    </tr>\n",
       "  </thead>\n",
       "  <tbody>\n",
       "    <tr>\n",
       "      <th>0</th>\n",
       "      <td>Auburn</td>\n",
       "      <td>auto</td>\n",
       "      <td>10423</td>\n",
       "      <td>33431</td>\n",
       "      <td>-0.69</td>\n",
       "      <td>-23008</td>\n",
       "      <td>0.93</td>\n",
       "      <td>0.94</td>\n",
       "    </tr>\n",
       "    <tr>\n",
       "      <th>1</th>\n",
       "      <td>Auburn</td>\n",
       "      <td>transit</td>\n",
       "      <td>260</td>\n",
       "      <td>691</td>\n",
       "      <td>-0.62</td>\n",
       "      <td>-431</td>\n",
       "      <td>0.02</td>\n",
       "      <td>0.02</td>\n",
       "    </tr>\n",
       "    <tr>\n",
       "      <th>2</th>\n",
       "      <td>Auburn</td>\n",
       "      <td>walk_and_bike</td>\n",
       "      <td>496</td>\n",
       "      <td>1355</td>\n",
       "      <td>-0.63</td>\n",
       "      <td>-859</td>\n",
       "      <td>0.04</td>\n",
       "      <td>0.04</td>\n",
       "    </tr>\n",
       "    <tr>\n",
       "      <th>3</th>\n",
       "      <td>Bellevue</td>\n",
       "      <td>auto</td>\n",
       "      <td>40099</td>\n",
       "      <td>96761</td>\n",
       "      <td>-0.59</td>\n",
       "      <td>-56662</td>\n",
       "      <td>0.93</td>\n",
       "      <td>0.84</td>\n",
       "    </tr>\n",
       "    <tr>\n",
       "      <th>4</th>\n",
       "      <td>Bellevue</td>\n",
       "      <td>transit</td>\n",
       "      <td>1753</td>\n",
       "      <td>12505</td>\n",
       "      <td>-0.86</td>\n",
       "      <td>-10752</td>\n",
       "      <td>0.04</td>\n",
       "      <td>0.11</td>\n",
       "    </tr>\n",
       "    <tr>\n",
       "      <th>5</th>\n",
       "      <td>Bellevue</td>\n",
       "      <td>walk_and_bike</td>\n",
       "      <td>1230</td>\n",
       "      <td>6464</td>\n",
       "      <td>-0.81</td>\n",
       "      <td>-5234</td>\n",
       "      <td>0.03</td>\n",
       "      <td>0.06</td>\n",
       "    </tr>\n",
       "    <tr>\n",
       "      <th>6</th>\n",
       "      <td>Everett</td>\n",
       "      <td>auto</td>\n",
       "      <td>50592</td>\n",
       "      <td>81741</td>\n",
       "      <td>-0.38</td>\n",
       "      <td>-31149</td>\n",
       "      <td>0.90</td>\n",
       "      <td>0.92</td>\n",
       "    </tr>\n",
       "    <tr>\n",
       "      <th>7</th>\n",
       "      <td>Everett</td>\n",
       "      <td>transit</td>\n",
       "      <td>3033</td>\n",
       "      <td>2766</td>\n",
       "      <td>0.10</td>\n",
       "      <td>267</td>\n",
       "      <td>0.05</td>\n",
       "      <td>0.03</td>\n",
       "    </tr>\n",
       "    <tr>\n",
       "      <th>8</th>\n",
       "      <td>Everett</td>\n",
       "      <td>walk_and_bike</td>\n",
       "      <td>2609</td>\n",
       "      <td>3961</td>\n",
       "      <td>-0.34</td>\n",
       "      <td>-1352</td>\n",
       "      <td>0.05</td>\n",
       "      <td>0.04</td>\n",
       "    </tr>\n",
       "    <tr>\n",
       "      <th>9</th>\n",
       "      <td>Federal Way</td>\n",
       "      <td>auto</td>\n",
       "      <td>12445</td>\n",
       "      <td>27590</td>\n",
       "      <td>-0.55</td>\n",
       "      <td>-15145</td>\n",
       "      <td>0.95</td>\n",
       "      <td>0.93</td>\n",
       "    </tr>\n",
       "    <tr>\n",
       "      <th>10</th>\n",
       "      <td>Federal Way</td>\n",
       "      <td>transit</td>\n",
       "      <td>245</td>\n",
       "      <td>110</td>\n",
       "      <td>1.23</td>\n",
       "      <td>135</td>\n",
       "      <td>0.02</td>\n",
       "      <td>0.00</td>\n",
       "    </tr>\n",
       "    <tr>\n",
       "      <th>11</th>\n",
       "      <td>Federal Way</td>\n",
       "      <td>walk_and_bike</td>\n",
       "      <td>458</td>\n",
       "      <td>1828</td>\n",
       "      <td>-0.75</td>\n",
       "      <td>-1370</td>\n",
       "      <td>0.03</td>\n",
       "      <td>0.06</td>\n",
       "    </tr>\n",
       "    <tr>\n",
       "      <th>12</th>\n",
       "      <td>Kent</td>\n",
       "      <td>auto</td>\n",
       "      <td>28528</td>\n",
       "      <td>55178</td>\n",
       "      <td>-0.48</td>\n",
       "      <td>-26650</td>\n",
       "      <td>0.94</td>\n",
       "      <td>0.92</td>\n",
       "    </tr>\n",
       "    <tr>\n",
       "      <th>13</th>\n",
       "      <td>Kent</td>\n",
       "      <td>transit</td>\n",
       "      <td>651</td>\n",
       "      <td>2837</td>\n",
       "      <td>-0.77</td>\n",
       "      <td>-2186</td>\n",
       "      <td>0.02</td>\n",
       "      <td>0.05</td>\n",
       "    </tr>\n",
       "    <tr>\n",
       "      <th>14</th>\n",
       "      <td>Kent</td>\n",
       "      <td>walk_and_bike</td>\n",
       "      <td>1060</td>\n",
       "      <td>1647</td>\n",
       "      <td>-0.36</td>\n",
       "      <td>-587</td>\n",
       "      <td>0.04</td>\n",
       "      <td>0.03</td>\n",
       "    </tr>\n",
       "    <tr>\n",
       "      <th>15</th>\n",
       "      <td>Kirkland</td>\n",
       "      <td>auto</td>\n",
       "      <td>18156</td>\n",
       "      <td>33893</td>\n",
       "      <td>-0.46</td>\n",
       "      <td>-15737</td>\n",
       "      <td>0.94</td>\n",
       "      <td>0.87</td>\n",
       "    </tr>\n",
       "    <tr>\n",
       "      <th>16</th>\n",
       "      <td>Kirkland</td>\n",
       "      <td>transit</td>\n",
       "      <td>391</td>\n",
       "      <td>3409</td>\n",
       "      <td>-0.89</td>\n",
       "      <td>-3018</td>\n",
       "      <td>0.02</td>\n",
       "      <td>0.09</td>\n",
       "    </tr>\n",
       "    <tr>\n",
       "      <th>17</th>\n",
       "      <td>Kirkland</td>\n",
       "      <td>walk_and_bike</td>\n",
       "      <td>731</td>\n",
       "      <td>1766</td>\n",
       "      <td>-0.59</td>\n",
       "      <td>-1035</td>\n",
       "      <td>0.04</td>\n",
       "      <td>0.05</td>\n",
       "    </tr>\n",
       "    <tr>\n",
       "      <th>18</th>\n",
       "      <td>Redmond</td>\n",
       "      <td>auto</td>\n",
       "      <td>13608</td>\n",
       "      <td>70825</td>\n",
       "      <td>-0.81</td>\n",
       "      <td>-57217</td>\n",
       "      <td>0.94</td>\n",
       "      <td>0.85</td>\n",
       "    </tr>\n",
       "    <tr>\n",
       "      <th>19</th>\n",
       "      <td>Redmond</td>\n",
       "      <td>transit</td>\n",
       "      <td>283</td>\n",
       "      <td>8841</td>\n",
       "      <td>-0.97</td>\n",
       "      <td>-8558</td>\n",
       "      <td>0.02</td>\n",
       "      <td>0.11</td>\n",
       "    </tr>\n",
       "    <tr>\n",
       "      <th>20</th>\n",
       "      <td>Redmond</td>\n",
       "      <td>walk_and_bike</td>\n",
       "      <td>543</td>\n",
       "      <td>4137</td>\n",
       "      <td>-0.87</td>\n",
       "      <td>-3594</td>\n",
       "      <td>0.04</td>\n",
       "      <td>0.05</td>\n",
       "    </tr>\n",
       "    <tr>\n",
       "      <th>21</th>\n",
       "      <td>Renton</td>\n",
       "      <td>auto</td>\n",
       "      <td>17833</td>\n",
       "      <td>56760</td>\n",
       "      <td>-0.69</td>\n",
       "      <td>-38927</td>\n",
       "      <td>0.93</td>\n",
       "      <td>0.91</td>\n",
       "    </tr>\n",
       "    <tr>\n",
       "      <th>22</th>\n",
       "      <td>Renton</td>\n",
       "      <td>transit</td>\n",
       "      <td>456</td>\n",
       "      <td>2659</td>\n",
       "      <td>-0.83</td>\n",
       "      <td>-2203</td>\n",
       "      <td>0.02</td>\n",
       "      <td>0.04</td>\n",
       "    </tr>\n",
       "    <tr>\n",
       "      <th>23</th>\n",
       "      <td>Renton</td>\n",
       "      <td>walk_and_bike</td>\n",
       "      <td>964</td>\n",
       "      <td>3287</td>\n",
       "      <td>-0.71</td>\n",
       "      <td>-2323</td>\n",
       "      <td>0.05</td>\n",
       "      <td>0.05</td>\n",
       "    </tr>\n",
       "    <tr>\n",
       "      <th>24</th>\n",
       "      <td>Seattle</td>\n",
       "      <td>auto</td>\n",
       "      <td>144318</td>\n",
       "      <td>303129</td>\n",
       "      <td>-0.52</td>\n",
       "      <td>-158811</td>\n",
       "      <td>0.95</td>\n",
       "      <td>0.55</td>\n",
       "    </tr>\n",
       "    <tr>\n",
       "      <th>25</th>\n",
       "      <td>Seattle</td>\n",
       "      <td>transit</td>\n",
       "      <td>2936</td>\n",
       "      <td>173739</td>\n",
       "      <td>-0.98</td>\n",
       "      <td>-170803</td>\n",
       "      <td>0.02</td>\n",
       "      <td>0.32</td>\n",
       "    </tr>\n",
       "    <tr>\n",
       "      <th>26</th>\n",
       "      <td>Seattle</td>\n",
       "      <td>walk_and_bike</td>\n",
       "      <td>5040</td>\n",
       "      <td>74582</td>\n",
       "      <td>-0.93</td>\n",
       "      <td>-69542</td>\n",
       "      <td>0.03</td>\n",
       "      <td>0.14</td>\n",
       "    </tr>\n",
       "    <tr>\n",
       "      <th>27</th>\n",
       "      <td>Tacoma</td>\n",
       "      <td>auto</td>\n",
       "      <td>91961</td>\n",
       "      <td>105163</td>\n",
       "      <td>-0.13</td>\n",
       "      <td>-13202</td>\n",
       "      <td>0.86</td>\n",
       "      <td>0.94</td>\n",
       "    </tr>\n",
       "    <tr>\n",
       "      <th>28</th>\n",
       "      <td>Tacoma</td>\n",
       "      <td>transit</td>\n",
       "      <td>9160</td>\n",
       "      <td>3199</td>\n",
       "      <td>1.86</td>\n",
       "      <td>5961</td>\n",
       "      <td>0.09</td>\n",
       "      <td>0.03</td>\n",
       "    </tr>\n",
       "    <tr>\n",
       "      <th>29</th>\n",
       "      <td>Tacoma</td>\n",
       "      <td>walk_and_bike</td>\n",
       "      <td>5394</td>\n",
       "      <td>3929</td>\n",
       "      <td>0.37</td>\n",
       "      <td>1465</td>\n",
       "      <td>0.05</td>\n",
       "      <td>0.03</td>\n",
       "    </tr>\n",
       "  </tbody>\n",
       "</table>\n",
       "</div>"
      ],
      "text/plain": [
       "     work_place           mode  modeled_mode_total  observed_mode_total  \\\n",
       "0        Auburn           auto               10423                33431   \n",
       "1        Auburn        transit                 260                  691   \n",
       "2        Auburn  walk_and_bike                 496                 1355   \n",
       "3      Bellevue           auto               40099                96761   \n",
       "4      Bellevue        transit                1753                12505   \n",
       "5      Bellevue  walk_and_bike                1230                 6464   \n",
       "6       Everett           auto               50592                81741   \n",
       "7       Everett        transit                3033                 2766   \n",
       "8       Everett  walk_and_bike                2609                 3961   \n",
       "9   Federal Way           auto               12445                27590   \n",
       "10  Federal Way        transit                 245                  110   \n",
       "11  Federal Way  walk_and_bike                 458                 1828   \n",
       "12         Kent           auto               28528                55178   \n",
       "13         Kent        transit                 651                 2837   \n",
       "14         Kent  walk_and_bike                1060                 1647   \n",
       "15     Kirkland           auto               18156                33893   \n",
       "16     Kirkland        transit                 391                 3409   \n",
       "17     Kirkland  walk_and_bike                 731                 1766   \n",
       "18      Redmond           auto               13608                70825   \n",
       "19      Redmond        transit                 283                 8841   \n",
       "20      Redmond  walk_and_bike                 543                 4137   \n",
       "21       Renton           auto               17833                56760   \n",
       "22       Renton        transit                 456                 2659   \n",
       "23       Renton  walk_and_bike                 964                 3287   \n",
       "24      Seattle           auto              144318               303129   \n",
       "25      Seattle        transit                2936               173739   \n",
       "26      Seattle  walk_and_bike                5040                74582   \n",
       "27       Tacoma           auto               91961               105163   \n",
       "28       Tacoma        transit                9160                 3199   \n",
       "29       Tacoma  walk_and_bike                5394                 3929   \n",
       "\n",
       "    percent_diff    diff  modeled_mode_share  observed_mode_share  \n",
       "0          -0.69  -23008                0.93                 0.94  \n",
       "1          -0.62    -431                0.02                 0.02  \n",
       "2          -0.63    -859                0.04                 0.04  \n",
       "3          -0.59  -56662                0.93                 0.84  \n",
       "4          -0.86  -10752                0.04                 0.11  \n",
       "5          -0.81   -5234                0.03                 0.06  \n",
       "6          -0.38  -31149                0.90                 0.92  \n",
       "7           0.10     267                0.05                 0.03  \n",
       "8          -0.34   -1352                0.05                 0.04  \n",
       "9          -0.55  -15145                0.95                 0.93  \n",
       "10          1.23     135                0.02                 0.00  \n",
       "11         -0.75   -1370                0.03                 0.06  \n",
       "12         -0.48  -26650                0.94                 0.92  \n",
       "13         -0.77   -2186                0.02                 0.05  \n",
       "14         -0.36    -587                0.04                 0.03  \n",
       "15         -0.46  -15737                0.94                 0.87  \n",
       "16         -0.89   -3018                0.02                 0.09  \n",
       "17         -0.59   -1035                0.04                 0.05  \n",
       "18         -0.81  -57217                0.94                 0.85  \n",
       "19         -0.97   -8558                0.02                 0.11  \n",
       "20         -0.87   -3594                0.04                 0.05  \n",
       "21         -0.69  -38927                0.93                 0.91  \n",
       "22         -0.83   -2203                0.02                 0.04  \n",
       "23         -0.71   -2323                0.05                 0.05  \n",
       "24         -0.52 -158811                0.95                 0.55  \n",
       "25         -0.98 -170803                0.02                 0.32  \n",
       "26         -0.93  -69542                0.03                 0.14  \n",
       "27         -0.13  -13202                0.86                 0.94  \n",
       "28          1.86    5961                0.09                 0.03  \n",
       "29          0.37    1465                0.05                 0.03  "
      ]
     },
     "execution_count": 5,
     "metadata": {},
     "output_type": "execute_result"
    }
   ],
   "source": [
    "df = pd.read_csv(os.path.join(relative_path,'validation','acs_commute_share_by_workplace_geog.csv'))\n",
    "\n",
    "# Add mode share by work_place field\n",
    "_df = df.groupby('work_place').sum()[['modeled','observed']].reset_index()\n",
    "_df = _df.merge(df, on='work_place', suffixes=['_geog_total','_mode_total'])\n",
    "_df['observed_mode_share'] = _df['observed_mode_total']/_df['observed_geog_total']\n",
    "_df['modeled_mode_share'] = _df['modeled_mode_total']/_df['modeled_geog_total']\n",
    "_df[['work_place','mode','modeled_mode_total','observed_mode_total','percent_diff','diff','modeled_mode_share','observed_mode_share']]"
   ]
  },
  {
   "cell_type": "code",
   "execution_count": 6,
   "metadata": {},
   "outputs": [
    {
     "name": "stdout",
     "output_type": "stream",
     "text": [
      "r^2 : 0.829943814891\n"
     ]
    },
    {
     "data": {
      "image/png": "[encoded data removed]",
      "text/plain": [
       "<matplotlib.figure.Figure at 0xaf69c18>"
      ]
     },
     "metadata": {},
     "output_type": "display_data"
    }
   ],
   "source": [
    "ax = df.plot(kind='scatter', x='observed', y='modeled')\n",
    "lim = df[['observed','modeled']].max().max()*1.05\n",
    "ax.set_ylim(0,lim)\n",
    "ax.set_xlim(0,lim)\n",
    "x = np.linspace(*ax.get_xlim())\n",
    "ax.plot(x, x)\n",
    "slope, intercept, r_value, p_value, std_err = stats.linregress(df['observed'],df['modeled'])\n",
    "print 'r^2 : ' + str(r_value)"
   ]
  },
  {
   "cell_type": "markdown",
   "metadata": {},
   "source": [
    "# Commute Mode Shares by Work Place\n",
    "----"
   ]
  },
  {
   "cell_type": "code",
   "execution_count": 7,
   "metadata": {},
   "outputs": [],
   "source": [
    "df_tot = df.groupby(['work_place']).sum()[['modeled','observed']].reset_index()\n",
    "df_shares = df.merge(df_tot, on='work_place', suffixes=['','_total'])\n",
    "df_shares['mode_share_modeled'] = df_shares['modeled']/df_shares['modeled_total']\n",
    "df_shares['mode_share_observed'] = df_shares['observed']/df_shares['observed_total']\n",
    "df_shares.rename(columns={'mode_share_modeled': 'modeled', 'mode_share_observed': 'observed',\n",
    "                         'modeled': '_', 'observed': '__'}, inplace=True)\n",
    "df_shares = df_shares[['work_place','modeled','observed','mode']]\n",
    "df_shares['percent_diff'] = (df_shares['modeled']-df_shares['observed'])/df_shares['observed']\n",
    "df_shares['diff'] = df_shares['modeled']-df_shares['observed']"
   ]
  },
  {
   "cell_type": "markdown",
   "metadata": {},
   "source": [
    "## Auto"
   ]
  },
  {
   "cell_type": "code",
   "execution_count": 8,
   "metadata": {},
   "outputs": [
    {
     "data": {
      "text/html": [
       "<div>\n",
       "<table border=\"1\" class=\"dataframe\">\n",
       "  <thead>\n",
       "    <tr style=\"text-align: right;\">\n",
       "      <th></th>\n",
       "      <th>work_place</th>\n",
       "      <th>modeled</th>\n",
       "      <th>observed</th>\n",
       "      <th>mode</th>\n",
       "      <th>percent_diff</th>\n",
       "      <th>diff</th>\n",
       "    </tr>\n",
       "  </thead>\n",
       "  <tbody>\n",
       "    <tr>\n",
       "      <th>0</th>\n",
       "      <td>Auburn</td>\n",
       "      <td>0.93</td>\n",
       "      <td>0.94</td>\n",
       "      <td>auto</td>\n",
       "      <td>-0.01</td>\n",
       "      <td>-0.01</td>\n",
       "    </tr>\n",
       "    <tr>\n",
       "      <th>3</th>\n",
       "      <td>Bellevue</td>\n",
       "      <td>0.93</td>\n",
       "      <td>0.84</td>\n",
       "      <td>auto</td>\n",
       "      <td>0.11</td>\n",
       "      <td>0.09</td>\n",
       "    </tr>\n",
       "    <tr>\n",
       "      <th>6</th>\n",
       "      <td>Everett</td>\n",
       "      <td>0.90</td>\n",
       "      <td>0.92</td>\n",
       "      <td>auto</td>\n",
       "      <td>-0.03</td>\n",
       "      <td>-0.02</td>\n",
       "    </tr>\n",
       "    <tr>\n",
       "      <th>9</th>\n",
       "      <td>Federal Way</td>\n",
       "      <td>0.95</td>\n",
       "      <td>0.93</td>\n",
       "      <td>auto</td>\n",
       "      <td>0.01</td>\n",
       "      <td>0.01</td>\n",
       "    </tr>\n",
       "    <tr>\n",
       "      <th>12</th>\n",
       "      <td>Kent</td>\n",
       "      <td>0.94</td>\n",
       "      <td>0.92</td>\n",
       "      <td>auto</td>\n",
       "      <td>0.02</td>\n",
       "      <td>0.02</td>\n",
       "    </tr>\n",
       "    <tr>\n",
       "      <th>15</th>\n",
       "      <td>Kirkland</td>\n",
       "      <td>0.94</td>\n",
       "      <td>0.87</td>\n",
       "      <td>auto</td>\n",
       "      <td>0.09</td>\n",
       "      <td>0.07</td>\n",
       "    </tr>\n",
       "    <tr>\n",
       "      <th>18</th>\n",
       "      <td>Redmond</td>\n",
       "      <td>0.94</td>\n",
       "      <td>0.85</td>\n",
       "      <td>auto</td>\n",
       "      <td>0.12</td>\n",
       "      <td>0.10</td>\n",
       "    </tr>\n",
       "    <tr>\n",
       "      <th>21</th>\n",
       "      <td>Renton</td>\n",
       "      <td>0.93</td>\n",
       "      <td>0.91</td>\n",
       "      <td>auto</td>\n",
       "      <td>0.02</td>\n",
       "      <td>0.02</td>\n",
       "    </tr>\n",
       "    <tr>\n",
       "      <th>24</th>\n",
       "      <td>Seattle</td>\n",
       "      <td>0.95</td>\n",
       "      <td>0.55</td>\n",
       "      <td>auto</td>\n",
       "      <td>0.72</td>\n",
       "      <td>0.40</td>\n",
       "    </tr>\n",
       "    <tr>\n",
       "      <th>27</th>\n",
       "      <td>Tacoma</td>\n",
       "      <td>0.86</td>\n",
       "      <td>0.94</td>\n",
       "      <td>auto</td>\n",
       "      <td>-0.08</td>\n",
       "      <td>-0.07</td>\n",
       "    </tr>\n",
       "  </tbody>\n",
       "</table>\n",
       "</div>"
      ],
      "text/plain": [
       "     work_place  modeled  observed  mode  percent_diff  diff\n",
       "0        Auburn     0.93      0.94  auto         -0.01 -0.01\n",
       "3      Bellevue     0.93      0.84  auto          0.11  0.09\n",
       "6       Everett     0.90      0.92  auto         -0.03 -0.02\n",
       "9   Federal Way     0.95      0.93  auto          0.01  0.01\n",
       "12         Kent     0.94      0.92  auto          0.02  0.02\n",
       "15     Kirkland     0.94      0.87  auto          0.09  0.07\n",
       "18      Redmond     0.94      0.85  auto          0.12  0.10\n",
       "21       Renton     0.93      0.91  auto          0.02  0.02\n",
       "24      Seattle     0.95      0.55  auto          0.72  0.40\n",
       "27       Tacoma     0.86      0.94  auto         -0.08 -0.07"
      ]
     },
     "execution_count": 8,
     "metadata": {},
     "output_type": "execute_result"
    }
   ],
   "source": [
    "_df = df_shares[df_shares['mode'] == 'auto']\n",
    "_df"
   ]
  },
  {
   "cell_type": "code",
   "execution_count": 9,
   "metadata": {},
   "outputs": [
    {
     "name": "stdout",
     "output_type": "stream",
     "text": [
      "r^2 : -0.365626694912\n"
     ]
    },
    {
     "data": {
      "image/png": "[encoded data removed]",
      "text/plain": [
       "<matplotlib.figure.Figure at 0x406a438>"
      ]
     },
     "metadata": {},
     "output_type": "display_data"
    }
   ],
   "source": [
    "ax = _df.plot(kind='scatter', x='observed', y='modeled')\n",
    "lim = _df[['observed','modeled']].max().max()*1.05\n",
    "ax.set_ylim(0,lim)\n",
    "ax.set_xlim(0,lim)\n",
    "x = np.linspace(*ax.get_xlim())\n",
    "ax.plot(x, x)\n",
    "slope, intercept, r_value, p_value, std_err = stats.linregress(_df['observed'],_df['modeled'])\n",
    "print 'r^2 : ' + str(r_value)"
   ]
  },
  {
   "cell_type": "markdown",
   "metadata": {},
   "source": [
    "## Transit"
   ]
  },
  {
   "cell_type": "code",
   "execution_count": 10,
   "metadata": {},
   "outputs": [
    {
     "data": {
      "text/html": [
       "<div>\n",
       "<table border=\"1\" class=\"dataframe\">\n",
       "  <thead>\n",
       "    <tr style=\"text-align: right;\">\n",
       "      <th></th>\n",
       "      <th>work_place</th>\n",
       "      <th>modeled</th>\n",
       "      <th>observed</th>\n",
       "      <th>mode</th>\n",
       "      <th>percent_diff</th>\n",
       "      <th>diff</th>\n",
       "    </tr>\n",
       "  </thead>\n",
       "  <tbody>\n",
       "    <tr>\n",
       "      <th>1</th>\n",
       "      <td>Auburn</td>\n",
       "      <td>0.02</td>\n",
       "      <td>0.02</td>\n",
       "      <td>transit</td>\n",
       "      <td>0.19</td>\n",
       "      <td>0.00</td>\n",
       "    </tr>\n",
       "    <tr>\n",
       "      <th>4</th>\n",
       "      <td>Bellevue</td>\n",
       "      <td>0.04</td>\n",
       "      <td>0.11</td>\n",
       "      <td>transit</td>\n",
       "      <td>-0.62</td>\n",
       "      <td>-0.07</td>\n",
       "    </tr>\n",
       "    <tr>\n",
       "      <th>7</th>\n",
       "      <td>Everett</td>\n",
       "      <td>0.05</td>\n",
       "      <td>0.03</td>\n",
       "      <td>transit</td>\n",
       "      <td>0.73</td>\n",
       "      <td>0.02</td>\n",
       "    </tr>\n",
       "    <tr>\n",
       "      <th>10</th>\n",
       "      <td>Federal Way</td>\n",
       "      <td>0.02</td>\n",
       "      <td>0.00</td>\n",
       "      <td>transit</td>\n",
       "      <td>4.00</td>\n",
       "      <td>0.01</td>\n",
       "    </tr>\n",
       "    <tr>\n",
       "      <th>13</th>\n",
       "      <td>Kent</td>\n",
       "      <td>0.02</td>\n",
       "      <td>0.05</td>\n",
       "      <td>transit</td>\n",
       "      <td>-0.55</td>\n",
       "      <td>-0.03</td>\n",
       "    </tr>\n",
       "    <tr>\n",
       "      <th>16</th>\n",
       "      <td>Kirkland</td>\n",
       "      <td>0.02</td>\n",
       "      <td>0.09</td>\n",
       "      <td>transit</td>\n",
       "      <td>-0.77</td>\n",
       "      <td>-0.07</td>\n",
       "    </tr>\n",
       "    <tr>\n",
       "      <th>19</th>\n",
       "      <td>Redmond</td>\n",
       "      <td>0.02</td>\n",
       "      <td>0.11</td>\n",
       "      <td>transit</td>\n",
       "      <td>-0.81</td>\n",
       "      <td>-0.09</td>\n",
       "    </tr>\n",
       "    <tr>\n",
       "      <th>22</th>\n",
       "      <td>Renton</td>\n",
       "      <td>0.02</td>\n",
       "      <td>0.04</td>\n",
       "      <td>transit</td>\n",
       "      <td>-0.44</td>\n",
       "      <td>-0.02</td>\n",
       "    </tr>\n",
       "    <tr>\n",
       "      <th>25</th>\n",
       "      <td>Seattle</td>\n",
       "      <td>0.02</td>\n",
       "      <td>0.32</td>\n",
       "      <td>transit</td>\n",
       "      <td>-0.94</td>\n",
       "      <td>-0.30</td>\n",
       "    </tr>\n",
       "    <tr>\n",
       "      <th>28</th>\n",
       "      <td>Tacoma</td>\n",
       "      <td>0.09</td>\n",
       "      <td>0.03</td>\n",
       "      <td>transit</td>\n",
       "      <td>2.02</td>\n",
       "      <td>0.06</td>\n",
       "    </tr>\n",
       "  </tbody>\n",
       "</table>\n",
       "</div>"
      ],
      "text/plain": [
       "     work_place  modeled  observed     mode  percent_diff  diff\n",
       "1        Auburn     0.02      0.02  transit          0.19  0.00\n",
       "4      Bellevue     0.04      0.11  transit         -0.62 -0.07\n",
       "7       Everett     0.05      0.03  transit          0.73  0.02\n",
       "10  Federal Way     0.02      0.00  transit          4.00  0.01\n",
       "13         Kent     0.02      0.05  transit         -0.55 -0.03\n",
       "16     Kirkland     0.02      0.09  transit         -0.77 -0.07\n",
       "19      Redmond     0.02      0.11  transit         -0.81 -0.09\n",
       "22       Renton     0.02      0.04  transit         -0.44 -0.02\n",
       "25      Seattle     0.02      0.32  transit         -0.94 -0.30\n",
       "28       Tacoma     0.09      0.03  transit          2.02  0.06"
      ]
     },
     "execution_count": 10,
     "metadata": {},
     "output_type": "execute_result"
    }
   ],
   "source": [
    "_df = df_shares[df_shares['mode'] == 'transit']\n",
    "_df"
   ]
  },
  {
   "cell_type": "code",
   "execution_count": 11,
   "metadata": {},
   "outputs": [
    {
     "name": "stdout",
     "output_type": "stream",
     "text": [
      "r^2 : -0.267343139285\n"
     ]
    },
    {
     "data": {
      "image/png": "[encoded data removed]",
      "text/plain": [
       "<matplotlib.figure.Figure at 0x4186748>"
      ]
     },
     "metadata": {},
     "output_type": "display_data"
    }
   ],
   "source": [
    "ax = _df.plot(kind='scatter', x='observed', y='modeled')\n",
    "lim = _df[['observed','modeled']].max().max()*1.05\n",
    "ax.set_ylim(0,lim)\n",
    "ax.set_xlim(0,lim)\n",
    "x = np.linspace(*ax.get_xlim())\n",
    "ax.plot(x, x)\n",
    "slope, intercept, r_value, p_value, std_err = stats.linregress(_df['observed'],_df['modeled'])\n",
    "print 'r^2 : ' + str(r_value)"
   ]
  },
  {
   "cell_type": "markdown",
   "metadata": {},
   "source": [
    "## Walk and Bike"
   ]
  },
  {
   "cell_type": "code",
   "execution_count": 12,
   "metadata": {},
   "outputs": [
    {
     "data": {
      "text/html": [
       "<div>\n",
       "<table border=\"1\" class=\"dataframe\">\n",
       "  <thead>\n",
       "    <tr style=\"text-align: right;\">\n",
       "      <th></th>\n",
       "      <th>work_place</th>\n",
       "      <th>modeled</th>\n",
       "      <th>observed</th>\n",
       "      <th>mode</th>\n",
       "      <th>percent_diff</th>\n",
       "      <th>diff</th>\n",
       "    </tr>\n",
       "  </thead>\n",
       "  <tbody>\n",
       "    <tr>\n",
       "      <th>2</th>\n",
       "      <td>Auburn</td>\n",
       "      <td>0.04</td>\n",
       "      <td>0.04</td>\n",
       "      <td>walk_and_bike</td>\n",
       "      <td>0.16</td>\n",
       "      <td>0.01</td>\n",
       "    </tr>\n",
       "    <tr>\n",
       "      <th>5</th>\n",
       "      <td>Bellevue</td>\n",
       "      <td>0.03</td>\n",
       "      <td>0.06</td>\n",
       "      <td>walk_and_bike</td>\n",
       "      <td>-0.49</td>\n",
       "      <td>-0.03</td>\n",
       "    </tr>\n",
       "    <tr>\n",
       "      <th>8</th>\n",
       "      <td>Everett</td>\n",
       "      <td>0.05</td>\n",
       "      <td>0.04</td>\n",
       "      <td>walk_and_bike</td>\n",
       "      <td>0.04</td>\n",
       "      <td>0.00</td>\n",
       "    </tr>\n",
       "    <tr>\n",
       "      <th>11</th>\n",
       "      <td>Federal Way</td>\n",
       "      <td>0.03</td>\n",
       "      <td>0.06</td>\n",
       "      <td>walk_and_bike</td>\n",
       "      <td>-0.44</td>\n",
       "      <td>-0.03</td>\n",
       "    </tr>\n",
       "    <tr>\n",
       "      <th>14</th>\n",
       "      <td>Kent</td>\n",
       "      <td>0.04</td>\n",
       "      <td>0.03</td>\n",
       "      <td>walk_and_bike</td>\n",
       "      <td>0.27</td>\n",
       "      <td>0.01</td>\n",
       "    </tr>\n",
       "    <tr>\n",
       "      <th>17</th>\n",
       "      <td>Kirkland</td>\n",
       "      <td>0.04</td>\n",
       "      <td>0.05</td>\n",
       "      <td>walk_and_bike</td>\n",
       "      <td>-0.16</td>\n",
       "      <td>-0.01</td>\n",
       "    </tr>\n",
       "    <tr>\n",
       "      <th>20</th>\n",
       "      <td>Redmond</td>\n",
       "      <td>0.04</td>\n",
       "      <td>0.05</td>\n",
       "      <td>walk_and_bike</td>\n",
       "      <td>-0.24</td>\n",
       "      <td>-0.01</td>\n",
       "    </tr>\n",
       "    <tr>\n",
       "      <th>23</th>\n",
       "      <td>Renton</td>\n",
       "      <td>0.05</td>\n",
       "      <td>0.05</td>\n",
       "      <td>walk_and_bike</td>\n",
       "      <td>-0.04</td>\n",
       "      <td>-0.00</td>\n",
       "    </tr>\n",
       "    <tr>\n",
       "      <th>26</th>\n",
       "      <td>Seattle</td>\n",
       "      <td>0.03</td>\n",
       "      <td>0.14</td>\n",
       "      <td>walk_and_bike</td>\n",
       "      <td>-0.76</td>\n",
       "      <td>-0.10</td>\n",
       "    </tr>\n",
       "    <tr>\n",
       "      <th>29</th>\n",
       "      <td>Tacoma</td>\n",
       "      <td>0.05</td>\n",
       "      <td>0.03</td>\n",
       "      <td>walk_and_bike</td>\n",
       "      <td>0.45</td>\n",
       "      <td>0.02</td>\n",
       "    </tr>\n",
       "  </tbody>\n",
       "</table>\n",
       "</div>"
      ],
      "text/plain": [
       "     work_place  modeled  observed           mode  percent_diff  diff\n",
       "2        Auburn     0.04      0.04  walk_and_bike          0.16  0.01\n",
       "5      Bellevue     0.03      0.06  walk_and_bike         -0.49 -0.03\n",
       "8       Everett     0.05      0.04  walk_and_bike          0.04  0.00\n",
       "11  Federal Way     0.03      0.06  walk_and_bike         -0.44 -0.03\n",
       "14         Kent     0.04      0.03  walk_and_bike          0.27  0.01\n",
       "17     Kirkland     0.04      0.05  walk_and_bike         -0.16 -0.01\n",
       "20      Redmond     0.04      0.05  walk_and_bike         -0.24 -0.01\n",
       "23       Renton     0.05      0.05  walk_and_bike         -0.04 -0.00\n",
       "26      Seattle     0.03      0.14  walk_and_bike         -0.76 -0.10\n",
       "29       Tacoma     0.05      0.03  walk_and_bike          0.45  0.02"
      ]
     },
     "execution_count": 12,
     "metadata": {},
     "output_type": "execute_result"
    }
   ],
   "source": [
    "_df = df_shares[df_shares['mode'] == 'walk_and_bike']\n",
    "_df"
   ]
  },
  {
   "cell_type": "code",
   "execution_count": 13,
   "metadata": {},
   "outputs": [
    {
     "name": "stdout",
     "output_type": "stream",
     "text": [
      "r^2 : -0.394809770364\n"
     ]
    },
    {
     "data": {
      "image/png": "[encoded data removed]",
      "text/plain": [
       "<matplotlib.figure.Figure at 0xb503a90>"
      ]
     },
     "metadata": {},
     "output_type": "display_data"
    }
   ],
   "source": [
    "ax = _df.plot(kind='scatter', x='observed', y='modeled')\n",
    "lim = _df[['observed','modeled']].max().max()*1.05\n",
    "ax.set_ylim(0,lim)\n",
    "ax.set_xlim(0,lim)\n",
    "x = np.linspace(*ax.get_xlim())\n",
    "ax.plot(x, x)\n",
    "slope, intercept, r_value, p_value, std_err = stats.linregress(_df['observed'],_df['modeled'])\n",
    "print 'r^2 : ' + str(r_value)"
   ]
  },
  {
   "cell_type": "markdown",
   "metadata": {},
   "source": [
    "# Commute Mode Share by Home Tract\n",
    "----"
   ]
  },
  {
   "cell_type": "code",
   "execution_count": 14,
   "metadata": {},
   "outputs": [],
   "source": [
    "df = pd.read_csv(os.path.join(relative_path,'validation','acs_commute_share_by_home_tract.csv'))\n",
    "pd.options.display.float_format = '{:0,.0f}'.format"
   ]
  },
  {
   "cell_type": "code",
   "execution_count": 15,
   "metadata": {},
   "outputs": [
    {
     "data": {
      "text/html": [
       "<div>\n",
       "<table border=\"1\" class=\"dataframe\">\n",
       "  <thead>\n",
       "    <tr style=\"text-align: right;\">\n",
       "      <th></th>\n",
       "      <th>CountyName</th>\n",
       "      <th>modeled</th>\n",
       "      <th>observed</th>\n",
       "    </tr>\n",
       "  </thead>\n",
       "  <tbody>\n",
       "    <tr>\n",
       "      <th>0</th>\n",
       "      <td>King</td>\n",
       "      <td>514,422</td>\n",
       "      <td>1,035,827</td>\n",
       "    </tr>\n",
       "    <tr>\n",
       "      <th>1</th>\n",
       "      <td>Kitsap</td>\n",
       "      <td>143,042</td>\n",
       "      <td>111,998</td>\n",
       "    </tr>\n",
       "    <tr>\n",
       "      <th>2</th>\n",
       "      <td>Pierce</td>\n",
       "      <td>389,594</td>\n",
       "      <td>374,877</td>\n",
       "    </tr>\n",
       "    <tr>\n",
       "      <th>3</th>\n",
       "      <td>Snohomish</td>\n",
       "      <td>663,277</td>\n",
       "      <td>368,546</td>\n",
       "    </tr>\n",
       "  </tbody>\n",
       "</table>\n",
       "</div>"
      ],
      "text/plain": [
       "  CountyName  modeled  observed\n",
       "0       King  514,422 1,035,827\n",
       "1     Kitsap  143,042   111,998\n",
       "2     Pierce  389,594   374,877\n",
       "3  Snohomish  663,277   368,546"
      ]
     },
     "execution_count": 15,
     "metadata": {},
     "output_type": "execute_result"
    }
   ],
   "source": [
    "df_county = df.groupby('CountyName').sum()[['modeled','observed']].reset_index()\n",
    "df_county"
   ]
  },
  {
   "cell_type": "code",
   "execution_count": 16,
   "metadata": {},
   "outputs": [],
   "source": [
    "def calculate_shares(df, geog_col, apply_format=False):\n",
    "    \n",
    "    df[['modeled','observed']] = df[['modeled','observed']].astype('int')\n",
    "    df_total = df.groupby(geog_col).sum()[['modeled','observed']].reset_index()\n",
    "    df_total.rename(columns={'modeled': 'modeled_total','observed':'observed_total'}, inplace=True)\n",
    "    df = df.merge(df_total, on=geog_col, how='left')\n",
    "    df['modeled_share'] = df['modeled']*1.0/df['modeled_total']\n",
    "    df['observed_share'] = df['observed']*1.0/df['observed_total']\n",
    "    if apply_format:\n",
    "        df[['modeled_share','observed_share']] = df[['modeled_share','observed_share']].applymap(format_percent)\n",
    "    \n",
    "    return df"
   ]
  },
  {
   "cell_type": "code",
   "execution_count": 17,
   "metadata": {},
   "outputs": [],
   "source": [
    "df_county_mode = df.groupby(['CountyName','mode']).sum()[['modeled','observed']].reset_index()\n",
    "df_county_mode = calculate_shares(df_county_mode, 'CountyName', apply_format=True)\n",
    "# Shares by Tract\n",
    "df_tract = df[['geoid','mode','modeled','observed']]\n",
    "df_tract_shares = calculate_shares(df_tract, 'geoid')"
   ]
  },
  {
   "cell_type": "markdown",
   "metadata": {},
   "source": [
    "## SOV"
   ]
  },
  {
   "cell_type": "code",
   "execution_count": 18,
   "metadata": {},
   "outputs": [
    {
     "name": "stdout",
     "output_type": "stream",
     "text": [
      " r^2: -0.08633285365\n"
     ]
    },
    {
     "data": {
      "image/png": "[encoded data removed]",
      "text/plain": [
       "<matplotlib.figure.Figure at 0xb9cbd68>"
      ]
     },
     "metadata": {},
     "output_type": "display_data"
    }
   ],
   "source": [
    "# Show only SOV\n",
    "sov_tract_shares = df_tract_shares[df_tract_shares['mode'] == 'SOV']\n",
    "sov_tract_shares = sov_tract_shares[-sov_tract_shares.observed_share.isnull()]\n",
    "\n",
    "_df = sov_tract_shares.copy()\n",
    "ax = _df.plot(kind='scatter', x='observed_share', y='modeled_share')\n",
    "lim = _df[['observed_share','modeled_share']].max().max()*1.05\n",
    "ax.set_ylim(0,lim)\n",
    "ax.set_xlim(0,lim)\n",
    "slope, intercept, r_value, p_value, std_err = stats.linregress(_df['observed_share'],_df['modeled_share'])\n",
    "x = np.linspace(*ax.get_xlim())\n",
    "ax.plot(x, x)\n",
    "print ' r^2: ' + str(r_value)"
   ]
  },
  {
   "cell_type": "markdown",
   "metadata": {},
   "source": [
    "## HOV"
   ]
  },
  {
   "cell_type": "code",
   "execution_count": 19,
   "metadata": {},
   "outputs": [
    {
     "name": "stdout",
     "output_type": "stream",
     "text": [
      " r^2: -0.0421452160607\n"
     ]
    },
    {
     "data": {
      "image/png": "[encoded data removed]",
      "text/plain": [
       "<matplotlib.figure.Figure at 0xf430828>"
      ]
     },
     "metadata": {},
     "output_type": "display_data"
    }
   ],
   "source": [
    "# Show only SOV\n",
    "sov_tract_shares = df_tract_shares[df_tract_shares['mode'] == 'HOV']\n",
    "sov_tract_shares = sov_tract_shares[-sov_tract_shares.observed_share.isnull()]\n",
    "\n",
    "_df = sov_tract_shares.copy()\n",
    "ax = _df.plot(kind='scatter', x='observed_share', y='modeled_share')\n",
    "lim = _df[['observed_share','modeled_share']].max().max()*1.05\n",
    "ax.set_ylim(0,lim)\n",
    "ax.set_xlim(0,lim)\n",
    "slope, intercept, r_value, p_value, std_err = stats.linregress(_df['observed_share'],_df['modeled_share'])\n",
    "x = np.linspace(*ax.get_xlim())\n",
    "ax.plot(x, x)\n",
    "print ' r^2: ' + str(r_value)"
   ]
  },
  {
   "cell_type": "markdown",
   "metadata": {},
   "source": [
    "## Transit"
   ]
  },
  {
   "cell_type": "code",
   "execution_count": 20,
   "metadata": {},
   "outputs": [
    {
     "name": "stdout",
     "output_type": "stream",
     "text": [
      " r^2: -0.257759655765\n"
     ]
    },
    {
     "data": {
      "image/png": "[encoded data removed]",
      "text/plain": [
       "<matplotlib.figure.Figure at 0xf711470>"
      ]
     },
     "metadata": {},
     "output_type": "display_data"
    }
   ],
   "source": [
    "# Show only SOV\n",
    "sov_tract_shares = df_tract_shares[df_tract_shares['mode'] == 'Transit']\n",
    "sov_tract_shares = sov_tract_shares[-sov_tract_shares.observed_share.isnull()]\n",
    "\n",
    "_df = sov_tract_shares.copy()\n",
    "ax = _df.plot(kind='scatter', x='observed_share', y='modeled_share')\n",
    "lim = _df[['observed_share','modeled_share']].max().max()*1.05\n",
    "ax.set_ylim(0,lim)\n",
    "ax.set_xlim(0,lim)\n",
    "slope, intercept, r_value, p_value, std_err = stats.linregress(_df['observed_share'],_df['modeled_share'])\n",
    "x = np.linspace(*ax.get_xlim())\n",
    "ax.plot(x, x)\n",
    "print ' r^2: ' + str(r_value)"
   ]
  },
  {
   "cell_type": "markdown",
   "metadata": {},
   "source": [
    "## Walk"
   ]
  },
  {
   "cell_type": "code",
   "execution_count": 21,
   "metadata": {},
   "outputs": [
    {
     "name": "stdout",
     "output_type": "stream",
     "text": [
      " r^2: -0.0345892779859\n"
     ]
    },
    {
     "data": {
      "image/png": "[encoded data removed]",
      "text/plain": [
       "<matplotlib.figure.Figure at 0xb7e7860>"
      ]
     },
     "metadata": {},
     "output_type": "display_data"
    }
   ],
   "source": [
    "# Show only SOV\n",
    "sov_tract_shares = df_tract_shares[df_tract_shares['mode'] == 'Walk']\n",
    "sov_tract_shares = sov_tract_shares[-sov_tract_shares.observed_share.isnull()]\n",
    "\n",
    "_df = sov_tract_shares.copy()\n",
    "ax = _df.plot(kind='scatter', x='observed_share', y='modeled_share')\n",
    "lim = _df[['observed_share','modeled_share']].max().max()*1.05\n",
    "ax.set_ylim(0,lim)\n",
    "ax.set_xlim(0,lim)\n",
    "slope, intercept, r_value, p_value, std_err = stats.linregress(_df['observed_share'],_df['modeled_share'])\n",
    "x = np.linspace(*ax.get_xlim())\n",
    "ax.plot(x, x)\n",
    "print ' r^2: ' + str(r_value)"
   ]
  }
 ],
 "metadata": {
  "kernelspec": {
   "display_name": "Python 2",
   "language": "python",
   "name": "python2"
  },
  "language_info": {
   "codemirror_mode": {
    "name": "ipython",
    "version": 2
   },
   "file_extension": ".py",
   "mimetype": "text/x-python",
   "name": "python",
   "nbconvert_exporter": "python",
   "pygments_lexer": "ipython2",
   "version": "2.7.14"
  }
 },
 "nbformat": 4,
 "nbformat_minor": 2
}
