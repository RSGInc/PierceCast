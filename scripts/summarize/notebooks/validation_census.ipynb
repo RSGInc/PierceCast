{
 "cells": [
  {
   "cell_type": "code",
   "execution_count": 1,
   "metadata": {},
   "outputs": [
    {
     "data": {
      "text/html": [
       "<script>\n",
       "code_show=true; \n",
       "function code_toggle() {\n",
       " if (code_show){\n",
       " $('div.input').hide();\n",
       " } else {\n",
       " $('div.input').show();\n",
       " }\n",
       " code_show = !code_show\n",
       "} \n",
       "$( document ).ready(code_toggle);\n",
       "</script>\n",
       "<form action=\"javascript:code_toggle()\"><input type=\"submit\" value=\"Click here to toggle on/off the raw code.\"></form>"
      ],
      "text/plain": [
       "<IPython.core.display.HTML object>"
      ]
     },
     "execution_count": 1,
     "metadata": {},
     "output_type": "execute_result"
    }
   ],
   "source": [
    "import os, time\n",
    "from scipy import stats\n",
    "import warnings\n",
    "warnings.simplefilter(action='ignore', category=FutureWarning)\n",
    "import pandas as pd\n",
    "pd.options.mode.chained_assignment = None\n",
    "import numpy as np\n",
    "%matplotlib inline\n",
    "\n",
    "from IPython.display import display, HTML\n",
    "\n",
    "HTML('''<script>\n",
    "code_show=true; \n",
    "function code_toggle() {\n",
    " if (code_show){\n",
    " $('div.input').hide();\n",
    " } else {\n",
    " $('div.input').show();\n",
    " }\n",
    " code_show = !code_show\n",
    "} \n",
    "$( document ).ready(code_toggle);\n",
    "</script>\n",
    "<form action=\"javascript:code_toggle()\"><input type=\"submit\" value=\"Click here to toggle on/off the raw code.\"></form>''')\n",
    "import pandas as pd\n",
    "import numpy as np\n",
    "%matplotlib inline\n",
    "\n",
    "from IPython.display import display, HTML\n",
    "\n",
    "HTML('''<script>\n",
    "code_show=true; \n",
    "function code_toggle() {\n",
    " if (code_show){\n",
    " $('div.input').hide();\n",
    " } else {\n",
    " $('div.input').show();\n",
    " }\n",
    " code_show = !code_show\n",
    "} \n",
    "$( document ).ready(code_toggle);\n",
    "</script>\n",
    "<form action=\"javascript:code_toggle()\"><input type=\"submit\" value=\"Click here to toggle on/off the raw code.\"></form>''')"
   ]
  },
  {
   "cell_type": "code",
   "execution_count": 2,
   "metadata": {},
   "outputs": [
    {
     "name": "stdout",
     "output_type": "stream",
     "text": [
      "Summary run: Thu, 08 Apr 2021 08:33\n"
     ]
    }
   ],
   "source": [
    "# Create timestamp to show when this summary was run\n",
    "print('Summary run: ' + time.strftime(\"%a, %d %b %Y %H:%M\"))"
   ]
  },
  {
   "cell_type": "code",
   "execution_count": 3,
   "metadata": {},
   "outputs": [],
   "source": [
    "pd.options.display.float_format = '{:0,.2f}'.format\n",
    "format_percent = \"{:,.2%}\".format\n",
    "relative_path = '../../../outputs'"
   ]
  },
  {
   "cell_type": "markdown",
   "metadata": {},
   "source": [
    "# Commute Mode by Workplace Geography"
   ]
  },
  {
   "cell_type": "code",
   "execution_count": 4,
   "metadata": {},
   "outputs": [
    {
     "data": {
      "text/html": [
       "<div>\n",
       "<style scoped>\n",
       "    .dataframe tbody tr th:only-of-type {\n",
       "        vertical-align: middle;\n",
       "    }\n",
       "\n",
       "    .dataframe tbody tr th {\n",
       "        vertical-align: top;\n",
       "    }\n",
       "\n",
       "    .dataframe thead th {\n",
       "        text-align: right;\n",
       "    }\n",
       "</style>\n",
       "<table border=\"1\" class=\"dataframe\">\n",
       "  <thead>\n",
       "    <tr style=\"text-align: right;\">\n",
       "      <th></th>\n",
       "      <th>work_place</th>\n",
       "      <th>mode</th>\n",
       "      <th>modeled_mode_total</th>\n",
       "      <th>observed_mode_total</th>\n",
       "      <th>percent_diff</th>\n",
       "      <th>diff</th>\n",
       "      <th>modeled_mode_share</th>\n",
       "      <th>observed_mode_share</th>\n",
       "    </tr>\n",
       "  </thead>\n",
       "  <tbody>\n",
       "    <tr>\n",
       "      <th>0</th>\n",
       "      <td>Auburn</td>\n",
       "      <td>auto</td>\n",
       "      <td>9,740.00</td>\n",
       "      <td>33431</td>\n",
       "      <td>-0.71</td>\n",
       "      <td>-23,691.00</td>\n",
       "      <td>0.93</td>\n",
       "      <td>0.94</td>\n",
       "    </tr>\n",
       "    <tr>\n",
       "      <th>1</th>\n",
       "      <td>Auburn</td>\n",
       "      <td>transit</td>\n",
       "      <td>262.00</td>\n",
       "      <td>691</td>\n",
       "      <td>-0.62</td>\n",
       "      <td>-429.00</td>\n",
       "      <td>0.03</td>\n",
       "      <td>0.02</td>\n",
       "    </tr>\n",
       "    <tr>\n",
       "      <th>2</th>\n",
       "      <td>Auburn</td>\n",
       "      <td>walk_and_bike</td>\n",
       "      <td>477.00</td>\n",
       "      <td>1355</td>\n",
       "      <td>-0.65</td>\n",
       "      <td>-878.00</td>\n",
       "      <td>0.05</td>\n",
       "      <td>0.04</td>\n",
       "    </tr>\n",
       "    <tr>\n",
       "      <th>3</th>\n",
       "      <td>Bellevue</td>\n",
       "      <td>auto</td>\n",
       "      <td>24,780.00</td>\n",
       "      <td>96761</td>\n",
       "      <td>-0.74</td>\n",
       "      <td>-71,981.00</td>\n",
       "      <td>0.95</td>\n",
       "      <td>0.84</td>\n",
       "    </tr>\n",
       "    <tr>\n",
       "      <th>4</th>\n",
       "      <td>Bellevue</td>\n",
       "      <td>transit</td>\n",
       "      <td>583.00</td>\n",
       "      <td>12505</td>\n",
       "      <td>-0.95</td>\n",
       "      <td>-11,922.00</td>\n",
       "      <td>0.02</td>\n",
       "      <td>0.11</td>\n",
       "    </tr>\n",
       "    <tr>\n",
       "      <th>5</th>\n",
       "      <td>Bellevue</td>\n",
       "      <td>walk_and_bike</td>\n",
       "      <td>776.00</td>\n",
       "      <td>6464</td>\n",
       "      <td>-0.88</td>\n",
       "      <td>-5,688.00</td>\n",
       "      <td>0.03</td>\n",
       "      <td>0.06</td>\n",
       "    </tr>\n",
       "    <tr>\n",
       "      <th>6</th>\n",
       "      <td>Everett</td>\n",
       "      <td>auto</td>\n",
       "      <td>47,648.00</td>\n",
       "      <td>81741</td>\n",
       "      <td>-0.42</td>\n",
       "      <td>-34,093.00</td>\n",
       "      <td>0.90</td>\n",
       "      <td>0.92</td>\n",
       "    </tr>\n",
       "    <tr>\n",
       "      <th>7</th>\n",
       "      <td>Everett</td>\n",
       "      <td>transit</td>\n",
       "      <td>2,832.00</td>\n",
       "      <td>2766</td>\n",
       "      <td>0.02</td>\n",
       "      <td>66.00</td>\n",
       "      <td>0.05</td>\n",
       "      <td>0.03</td>\n",
       "    </tr>\n",
       "    <tr>\n",
       "      <th>8</th>\n",
       "      <td>Everett</td>\n",
       "      <td>walk_and_bike</td>\n",
       "      <td>2,356.00</td>\n",
       "      <td>3961</td>\n",
       "      <td>-0.41</td>\n",
       "      <td>-1,605.00</td>\n",
       "      <td>0.04</td>\n",
       "      <td>0.04</td>\n",
       "    </tr>\n",
       "    <tr>\n",
       "      <th>9</th>\n",
       "      <td>Federal Way</td>\n",
       "      <td>auto</td>\n",
       "      <td>11,774.00</td>\n",
       "      <td>27590</td>\n",
       "      <td>-0.57</td>\n",
       "      <td>-15,816.00</td>\n",
       "      <td>0.95</td>\n",
       "      <td>0.93</td>\n",
       "    </tr>\n",
       "    <tr>\n",
       "      <th>10</th>\n",
       "      <td>Federal Way</td>\n",
       "      <td>transit</td>\n",
       "      <td>260.00</td>\n",
       "      <td>110</td>\n",
       "      <td>1.36</td>\n",
       "      <td>150.00</td>\n",
       "      <td>0.02</td>\n",
       "      <td>0.00</td>\n",
       "    </tr>\n",
       "    <tr>\n",
       "      <th>11</th>\n",
       "      <td>Federal Way</td>\n",
       "      <td>walk_and_bike</td>\n",
       "      <td>410.00</td>\n",
       "      <td>1828</td>\n",
       "      <td>-0.78</td>\n",
       "      <td>-1,418.00</td>\n",
       "      <td>0.03</td>\n",
       "      <td>0.06</td>\n",
       "    </tr>\n",
       "    <tr>\n",
       "      <th>12</th>\n",
       "      <td>Kent</td>\n",
       "      <td>auto</td>\n",
       "      <td>26,955.00</td>\n",
       "      <td>55178</td>\n",
       "      <td>-0.51</td>\n",
       "      <td>-28,223.00</td>\n",
       "      <td>0.94</td>\n",
       "      <td>0.92</td>\n",
       "    </tr>\n",
       "    <tr>\n",
       "      <th>13</th>\n",
       "      <td>Kent</td>\n",
       "      <td>transit</td>\n",
       "      <td>636.00</td>\n",
       "      <td>2837</td>\n",
       "      <td>-0.78</td>\n",
       "      <td>-2,201.00</td>\n",
       "      <td>0.02</td>\n",
       "      <td>0.05</td>\n",
       "    </tr>\n",
       "    <tr>\n",
       "      <th>14</th>\n",
       "      <td>Kent</td>\n",
       "      <td>walk_and_bike</td>\n",
       "      <td>1,010.00</td>\n",
       "      <td>1647</td>\n",
       "      <td>-0.39</td>\n",
       "      <td>-637.00</td>\n",
       "      <td>0.04</td>\n",
       "      <td>0.03</td>\n",
       "    </tr>\n",
       "    <tr>\n",
       "      <th>15</th>\n",
       "      <td>Kirkland</td>\n",
       "      <td>auto</td>\n",
       "      <td>16,589.00</td>\n",
       "      <td>33893</td>\n",
       "      <td>-0.51</td>\n",
       "      <td>-17,304.00</td>\n",
       "      <td>0.94</td>\n",
       "      <td>0.87</td>\n",
       "    </tr>\n",
       "    <tr>\n",
       "      <th>16</th>\n",
       "      <td>Kirkland</td>\n",
       "      <td>transit</td>\n",
       "      <td>368.00</td>\n",
       "      <td>3409</td>\n",
       "      <td>-0.89</td>\n",
       "      <td>-3,041.00</td>\n",
       "      <td>0.02</td>\n",
       "      <td>0.09</td>\n",
       "    </tr>\n",
       "    <tr>\n",
       "      <th>17</th>\n",
       "      <td>Kirkland</td>\n",
       "      <td>walk_and_bike</td>\n",
       "      <td>688.00</td>\n",
       "      <td>1766</td>\n",
       "      <td>-0.61</td>\n",
       "      <td>-1,078.00</td>\n",
       "      <td>0.04</td>\n",
       "      <td>0.05</td>\n",
       "    </tr>\n",
       "    <tr>\n",
       "      <th>18</th>\n",
       "      <td>Redmond</td>\n",
       "      <td>auto</td>\n",
       "      <td>12,419.00</td>\n",
       "      <td>70825</td>\n",
       "      <td>-0.82</td>\n",
       "      <td>-58,406.00</td>\n",
       "      <td>0.94</td>\n",
       "      <td>0.85</td>\n",
       "    </tr>\n",
       "    <tr>\n",
       "      <th>19</th>\n",
       "      <td>Redmond</td>\n",
       "      <td>transit</td>\n",
       "      <td>274.00</td>\n",
       "      <td>8841</td>\n",
       "      <td>-0.97</td>\n",
       "      <td>-8,567.00</td>\n",
       "      <td>0.02</td>\n",
       "      <td>0.11</td>\n",
       "    </tr>\n",
       "    <tr>\n",
       "      <th>20</th>\n",
       "      <td>Redmond</td>\n",
       "      <td>walk_and_bike</td>\n",
       "      <td>486.00</td>\n",
       "      <td>4137</td>\n",
       "      <td>-0.88</td>\n",
       "      <td>-3,651.00</td>\n",
       "      <td>0.04</td>\n",
       "      <td>0.05</td>\n",
       "    </tr>\n",
       "    <tr>\n",
       "      <th>21</th>\n",
       "      <td>Renton</td>\n",
       "      <td>auto</td>\n",
       "      <td>16,884.00</td>\n",
       "      <td>56760</td>\n",
       "      <td>-0.70</td>\n",
       "      <td>-39,876.00</td>\n",
       "      <td>0.93</td>\n",
       "      <td>0.91</td>\n",
       "    </tr>\n",
       "    <tr>\n",
       "      <th>22</th>\n",
       "      <td>Renton</td>\n",
       "      <td>transit</td>\n",
       "      <td>435.00</td>\n",
       "      <td>2659</td>\n",
       "      <td>-0.84</td>\n",
       "      <td>-2,224.00</td>\n",
       "      <td>0.02</td>\n",
       "      <td>0.04</td>\n",
       "    </tr>\n",
       "    <tr>\n",
       "      <th>23</th>\n",
       "      <td>Renton</td>\n",
       "      <td>walk_and_bike</td>\n",
       "      <td>904.00</td>\n",
       "      <td>3287</td>\n",
       "      <td>-0.72</td>\n",
       "      <td>-2,383.00</td>\n",
       "      <td>0.05</td>\n",
       "      <td>0.05</td>\n",
       "    </tr>\n",
       "    <tr>\n",
       "      <th>24</th>\n",
       "      <td>Seattle</td>\n",
       "      <td>auto</td>\n",
       "      <td>133,892.00</td>\n",
       "      <td>303129</td>\n",
       "      <td>-0.56</td>\n",
       "      <td>-169,237.00</td>\n",
       "      <td>0.95</td>\n",
       "      <td>0.55</td>\n",
       "    </tr>\n",
       "    <tr>\n",
       "      <th>25</th>\n",
       "      <td>Seattle</td>\n",
       "      <td>transit</td>\n",
       "      <td>2,848.00</td>\n",
       "      <td>173739</td>\n",
       "      <td>-0.98</td>\n",
       "      <td>-170,891.00</td>\n",
       "      <td>0.02</td>\n",
       "      <td>0.32</td>\n",
       "    </tr>\n",
       "    <tr>\n",
       "      <th>26</th>\n",
       "      <td>Seattle</td>\n",
       "      <td>walk_and_bike</td>\n",
       "      <td>4,680.00</td>\n",
       "      <td>74582</td>\n",
       "      <td>-0.94</td>\n",
       "      <td>-69,902.00</td>\n",
       "      <td>0.03</td>\n",
       "      <td>0.14</td>\n",
       "    </tr>\n",
       "    <tr>\n",
       "      <th>27</th>\n",
       "      <td>Tacoma</td>\n",
       "      <td>auto</td>\n",
       "      <td>85,702.00</td>\n",
       "      <td>105163</td>\n",
       "      <td>-0.19</td>\n",
       "      <td>-19,461.00</td>\n",
       "      <td>0.86</td>\n",
       "      <td>0.94</td>\n",
       "    </tr>\n",
       "    <tr>\n",
       "      <th>28</th>\n",
       "      <td>Tacoma</td>\n",
       "      <td>transit</td>\n",
       "      <td>8,480.00</td>\n",
       "      <td>3199</td>\n",
       "      <td>1.65</td>\n",
       "      <td>5,281.00</td>\n",
       "      <td>0.09</td>\n",
       "      <td>0.03</td>\n",
       "    </tr>\n",
       "    <tr>\n",
       "      <th>29</th>\n",
       "      <td>Tacoma</td>\n",
       "      <td>walk_and_bike</td>\n",
       "      <td>4,923.00</td>\n",
       "      <td>3929</td>\n",
       "      <td>0.25</td>\n",
       "      <td>994.00</td>\n",
       "      <td>0.05</td>\n",
       "      <td>0.03</td>\n",
       "    </tr>\n",
       "  </tbody>\n",
       "</table>\n",
       "</div>"
      ],
      "text/plain": [
       "     work_place           mode  modeled_mode_total  observed_mode_total  \\\n",
       "0        Auburn           auto            9,740.00                33431   \n",
       "1        Auburn        transit              262.00                  691   \n",
       "2        Auburn  walk_and_bike              477.00                 1355   \n",
       "3      Bellevue           auto           24,780.00                96761   \n",
       "4      Bellevue        transit              583.00                12505   \n",
       "5      Bellevue  walk_and_bike              776.00                 6464   \n",
       "6       Everett           auto           47,648.00                81741   \n",
       "7       Everett        transit            2,832.00                 2766   \n",
       "8       Everett  walk_and_bike            2,356.00                 3961   \n",
       "9   Federal Way           auto           11,774.00                27590   \n",
       "10  Federal Way        transit              260.00                  110   \n",
       "11  Federal Way  walk_and_bike              410.00                 1828   \n",
       "12         Kent           auto           26,955.00                55178   \n",
       "13         Kent        transit              636.00                 2837   \n",
       "14         Kent  walk_and_bike            1,010.00                 1647   \n",
       "15     Kirkland           auto           16,589.00                33893   \n",
       "16     Kirkland        transit              368.00                 3409   \n",
       "17     Kirkland  walk_and_bike              688.00                 1766   \n",
       "18      Redmond           auto           12,419.00                70825   \n",
       "19      Redmond        transit              274.00                 8841   \n",
       "20      Redmond  walk_and_bike              486.00                 4137   \n",
       "21       Renton           auto           16,884.00                56760   \n",
       "22       Renton        transit              435.00                 2659   \n",
       "23       Renton  walk_and_bike              904.00                 3287   \n",
       "24      Seattle           auto          133,892.00               303129   \n",
       "25      Seattle        transit            2,848.00               173739   \n",
       "26      Seattle  walk_and_bike            4,680.00                74582   \n",
       "27       Tacoma           auto           85,702.00               105163   \n",
       "28       Tacoma        transit            8,480.00                 3199   \n",
       "29       Tacoma  walk_and_bike            4,923.00                 3929   \n",
       "\n",
       "    percent_diff        diff  modeled_mode_share  observed_mode_share  \n",
       "0          -0.71  -23,691.00                0.93                 0.94  \n",
       "1          -0.62     -429.00                0.03                 0.02  \n",
       "2          -0.65     -878.00                0.05                 0.04  \n",
       "3          -0.74  -71,981.00                0.95                 0.84  \n",
       "4          -0.95  -11,922.00                0.02                 0.11  \n",
       "5          -0.88   -5,688.00                0.03                 0.06  \n",
       "6          -0.42  -34,093.00                0.90                 0.92  \n",
       "7           0.02       66.00                0.05                 0.03  \n",
       "8          -0.41   -1,605.00                0.04                 0.04  \n",
       "9          -0.57  -15,816.00                0.95                 0.93  \n",
       "10          1.36      150.00                0.02                 0.00  \n",
       "11         -0.78   -1,418.00                0.03                 0.06  \n",
       "12         -0.51  -28,223.00                0.94                 0.92  \n",
       "13         -0.78   -2,201.00                0.02                 0.05  \n",
       "14         -0.39     -637.00                0.04                 0.03  \n",
       "15         -0.51  -17,304.00                0.94                 0.87  \n",
       "16         -0.89   -3,041.00                0.02                 0.09  \n",
       "17         -0.61   -1,078.00                0.04                 0.05  \n",
       "18         -0.82  -58,406.00                0.94                 0.85  \n",
       "19         -0.97   -8,567.00                0.02                 0.11  \n",
       "20         -0.88   -3,651.00                0.04                 0.05  \n",
       "21         -0.70  -39,876.00                0.93                 0.91  \n",
       "22         -0.84   -2,224.00                0.02                 0.04  \n",
       "23         -0.72   -2,383.00                0.05                 0.05  \n",
       "24         -0.56 -169,237.00                0.95                 0.55  \n",
       "25         -0.98 -170,891.00                0.02                 0.32  \n",
       "26         -0.94  -69,902.00                0.03                 0.14  \n",
       "27         -0.19  -19,461.00                0.86                 0.94  \n",
       "28          1.65    5,281.00                0.09                 0.03  \n",
       "29          0.25      994.00                0.05                 0.03  "
      ]
     },
     "execution_count": 4,
     "metadata": {},
     "output_type": "execute_result"
    }
   ],
   "source": [
    "df = pd.read_csv(os.path.join(relative_path,'validation','acs_commute_share_by_workplace_geog.csv'))\n",
    "\n",
    "# Add mode share by work_place field\n",
    "_df = df.groupby('work_place').sum()[['modeled','observed']].reset_index()\n",
    "_df = _df.merge(df, on='work_place', suffixes=['_geog_total','_mode_total'])\n",
    "_df['observed_mode_share'] = _df['observed_mode_total']/_df['observed_geog_total']\n",
    "_df['modeled_mode_share'] = _df['modeled_mode_total']/_df['modeled_geog_total']\n",
    "_df[['work_place','mode','modeled_mode_total','observed_mode_total','percent_diff','diff','modeled_mode_share','observed_mode_share']]"
   ]
  },
  {
   "cell_type": "code",
   "execution_count": 5,
   "metadata": {},
   "outputs": [
    {
     "name": "stdout",
     "output_type": "stream",
     "text": [
      "r^2 : 0.8236419681399868\n"
     ]
    },
    {
     "data": {
      "image/png": "[encoded data removed]",
      "text/plain": [
       "<Figure size 432x288 with 1 Axes>"
      ]
     },
     "metadata": {
      "needs_background": "light"
     },
     "output_type": "display_data"
    }
   ],
   "source": [
    "ax = df.plot(kind='scatter', x='observed', y='modeled')\n",
    "lim = df[['observed','modeled']].max().max()*1.05\n",
    "ax.set_ylim(0,lim)\n",
    "ax.set_xlim(0,lim)\n",
    "x = np.linspace(*ax.get_xlim())\n",
    "ax.plot(x, x)\n",
    "slope, intercept, r_value, p_value, std_err = stats.linregress(df['observed'],df['modeled'])\n",
    "print('r^2 : ' + str(r_value))"
   ]
  },
  {
   "cell_type": "markdown",
   "metadata": {},
   "source": [
    "# Commute Mode Shares by Work Place\n",
    "----"
   ]
  },
  {
   "cell_type": "code",
   "execution_count": 6,
   "metadata": {},
   "outputs": [],
   "source": [
    "df_tot = df.groupby(['work_place']).sum()[['modeled','observed']].reset_index()\n",
    "df_shares = df.merge(df_tot, on='work_place', suffixes=['','_total'])\n",
    "df_shares['mode_share_modeled'] = df_shares['modeled']/df_shares['modeled_total']\n",
    "df_shares['mode_share_observed'] = df_shares['observed']/df_shares['observed_total']\n",
    "df_shares.rename(columns={'mode_share_modeled': 'modeled', 'mode_share_observed': 'observed',\n",
    "                         'modeled': '_', 'observed': '__'}, inplace=True)\n",
    "df_shares = df_shares[['work_place','modeled','observed','mode']]\n",
    "df_shares['percent_diff'] = (df_shares['modeled']-df_shares['observed'])/df_shares['observed']\n",
    "df_shares['diff'] = df_shares['modeled']-df_shares['observed']"
   ]
  },
  {
   "cell_type": "markdown",
   "metadata": {},
   "source": [
    "## Auto"
   ]
  },
  {
   "cell_type": "code",
   "execution_count": 7,
   "metadata": {},
   "outputs": [
    {
     "data": {
      "text/html": [
       "<div>\n",
       "<style scoped>\n",
       "    .dataframe tbody tr th:only-of-type {\n",
       "        vertical-align: middle;\n",
       "    }\n",
       "\n",
       "    .dataframe tbody tr th {\n",
       "        vertical-align: top;\n",
       "    }\n",
       "\n",
       "    .dataframe thead th {\n",
       "        text-align: right;\n",
       "    }\n",
       "</style>\n",
       "<table border=\"1\" class=\"dataframe\">\n",
       "  <thead>\n",
       "    <tr style=\"text-align: right;\">\n",
       "      <th></th>\n",
       "      <th>work_place</th>\n",
       "      <th>modeled</th>\n",
       "      <th>observed</th>\n",
       "      <th>mode</th>\n",
       "      <th>percent_diff</th>\n",
       "      <th>diff</th>\n",
       "    </tr>\n",
       "  </thead>\n",
       "  <tbody>\n",
       "    <tr>\n",
       "      <th>0</th>\n",
       "      <td>Auburn</td>\n",
       "      <td>0.93</td>\n",
       "      <td>0.94</td>\n",
       "      <td>auto</td>\n",
       "      <td>-0.01</td>\n",
       "      <td>-0.01</td>\n",
       "    </tr>\n",
       "    <tr>\n",
       "      <th>3</th>\n",
       "      <td>Bellevue</td>\n",
       "      <td>0.95</td>\n",
       "      <td>0.84</td>\n",
       "      <td>auto</td>\n",
       "      <td>0.13</td>\n",
       "      <td>0.11</td>\n",
       "    </tr>\n",
       "    <tr>\n",
       "      <th>6</th>\n",
       "      <td>Everett</td>\n",
       "      <td>0.90</td>\n",
       "      <td>0.92</td>\n",
       "      <td>auto</td>\n",
       "      <td>-0.02</td>\n",
       "      <td>-0.02</td>\n",
       "    </tr>\n",
       "    <tr>\n",
       "      <th>9</th>\n",
       "      <td>Federal Way</td>\n",
       "      <td>0.95</td>\n",
       "      <td>0.93</td>\n",
       "      <td>auto</td>\n",
       "      <td>0.01</td>\n",
       "      <td>0.01</td>\n",
       "    </tr>\n",
       "    <tr>\n",
       "      <th>12</th>\n",
       "      <td>Kent</td>\n",
       "      <td>0.94</td>\n",
       "      <td>0.92</td>\n",
       "      <td>auto</td>\n",
       "      <td>0.02</td>\n",
       "      <td>0.02</td>\n",
       "    </tr>\n",
       "    <tr>\n",
       "      <th>15</th>\n",
       "      <td>Kirkland</td>\n",
       "      <td>0.94</td>\n",
       "      <td>0.87</td>\n",
       "      <td>auto</td>\n",
       "      <td>0.08</td>\n",
       "      <td>0.07</td>\n",
       "    </tr>\n",
       "    <tr>\n",
       "      <th>18</th>\n",
       "      <td>Redmond</td>\n",
       "      <td>0.94</td>\n",
       "      <td>0.85</td>\n",
       "      <td>auto</td>\n",
       "      <td>0.12</td>\n",
       "      <td>0.10</td>\n",
       "    </tr>\n",
       "    <tr>\n",
       "      <th>21</th>\n",
       "      <td>Renton</td>\n",
       "      <td>0.93</td>\n",
       "      <td>0.91</td>\n",
       "      <td>auto</td>\n",
       "      <td>0.02</td>\n",
       "      <td>0.02</td>\n",
       "    </tr>\n",
       "    <tr>\n",
       "      <th>24</th>\n",
       "      <td>Seattle</td>\n",
       "      <td>0.95</td>\n",
       "      <td>0.55</td>\n",
       "      <td>auto</td>\n",
       "      <td>0.72</td>\n",
       "      <td>0.40</td>\n",
       "    </tr>\n",
       "    <tr>\n",
       "      <th>27</th>\n",
       "      <td>Tacoma</td>\n",
       "      <td>0.86</td>\n",
       "      <td>0.94</td>\n",
       "      <td>auto</td>\n",
       "      <td>-0.08</td>\n",
       "      <td>-0.07</td>\n",
       "    </tr>\n",
       "  </tbody>\n",
       "</table>\n",
       "</div>"
      ],
      "text/plain": [
       "     work_place  modeled  observed  mode  percent_diff  diff\n",
       "0        Auburn     0.93      0.94  auto         -0.01 -0.01\n",
       "3      Bellevue     0.95      0.84  auto          0.13  0.11\n",
       "6       Everett     0.90      0.92  auto         -0.02 -0.02\n",
       "9   Federal Way     0.95      0.93  auto          0.01  0.01\n",
       "12         Kent     0.94      0.92  auto          0.02  0.02\n",
       "15     Kirkland     0.94      0.87  auto          0.08  0.07\n",
       "18      Redmond     0.94      0.85  auto          0.12  0.10\n",
       "21       Renton     0.93      0.91  auto          0.02  0.02\n",
       "24      Seattle     0.95      0.55  auto          0.72  0.40\n",
       "27       Tacoma     0.86      0.94  auto         -0.08 -0.07"
      ]
     },
     "execution_count": 7,
     "metadata": {},
     "output_type": "execute_result"
    }
   ],
   "source": [
    "_df = df_shares[df_shares['mode'] == 'auto']\n",
    "_df"
   ]
  },
  {
   "cell_type": "code",
   "execution_count": 8,
   "metadata": {},
   "outputs": [
    {
     "name": "stdout",
     "output_type": "stream",
     "text": [
      "r^2 : -0.3784390374021735\n"
     ]
    },
    {
     "data": {
      "image/png": "[encoded data removed]",
      "text/plain": [
       "<Figure size 432x288 with 1 Axes>"
      ]
     },
     "metadata": {
      "needs_background": "light"
     },
     "output_type": "display_data"
    }
   ],
   "source": [
    "ax = _df.plot(kind='scatter', x='observed', y='modeled')\n",
    "lim = _df[['observed','modeled']].max().max()*1.05\n",
    "ax.set_ylim(0,lim)\n",
    "ax.set_xlim(0,lim)\n",
    "x = np.linspace(*ax.get_xlim())\n",
    "ax.plot(x, x)\n",
    "slope, intercept, r_value, p_value, std_err = stats.linregress(_df['observed'],_df['modeled'])\n",
    "print('r^2 : ' + str(r_value))"
   ]
  },
  {
   "cell_type": "markdown",
   "metadata": {},
   "source": [
    "## Transit"
   ]
  },
  {
   "cell_type": "code",
   "execution_count": 9,
   "metadata": {},
   "outputs": [
    {
     "data": {
      "text/html": [
       "<div>\n",
       "<style scoped>\n",
       "    .dataframe tbody tr th:only-of-type {\n",
       "        vertical-align: middle;\n",
       "    }\n",
       "\n",
       "    .dataframe tbody tr th {\n",
       "        vertical-align: top;\n",
       "    }\n",
       "\n",
       "    .dataframe thead th {\n",
       "        text-align: right;\n",
       "    }\n",
       "</style>\n",
       "<table border=\"1\" class=\"dataframe\">\n",
       "  <thead>\n",
       "    <tr style=\"text-align: right;\">\n",
       "      <th></th>\n",
       "      <th>work_place</th>\n",
       "      <th>modeled</th>\n",
       "      <th>observed</th>\n",
       "      <th>mode</th>\n",
       "      <th>percent_diff</th>\n",
       "      <th>diff</th>\n",
       "    </tr>\n",
       "  </thead>\n",
       "  <tbody>\n",
       "    <tr>\n",
       "      <th>1</th>\n",
       "      <td>Auburn</td>\n",
       "      <td>0.03</td>\n",
       "      <td>0.02</td>\n",
       "      <td>transit</td>\n",
       "      <td>0.28</td>\n",
       "      <td>0.01</td>\n",
       "    </tr>\n",
       "    <tr>\n",
       "      <th>4</th>\n",
       "      <td>Bellevue</td>\n",
       "      <td>0.02</td>\n",
       "      <td>0.11</td>\n",
       "      <td>transit</td>\n",
       "      <td>-0.79</td>\n",
       "      <td>-0.09</td>\n",
       "    </tr>\n",
       "    <tr>\n",
       "      <th>7</th>\n",
       "      <td>Everett</td>\n",
       "      <td>0.05</td>\n",
       "      <td>0.03</td>\n",
       "      <td>transit</td>\n",
       "      <td>0.71</td>\n",
       "      <td>0.02</td>\n",
       "    </tr>\n",
       "    <tr>\n",
       "      <th>10</th>\n",
       "      <td>Federal Way</td>\n",
       "      <td>0.02</td>\n",
       "      <td>0.00</td>\n",
       "      <td>transit</td>\n",
       "      <td>4.61</td>\n",
       "      <td>0.02</td>\n",
       "    </tr>\n",
       "    <tr>\n",
       "      <th>13</th>\n",
       "      <td>Kent</td>\n",
       "      <td>0.02</td>\n",
       "      <td>0.05</td>\n",
       "      <td>transit</td>\n",
       "      <td>-0.53</td>\n",
       "      <td>-0.03</td>\n",
       "    </tr>\n",
       "    <tr>\n",
       "      <th>16</th>\n",
       "      <td>Kirkland</td>\n",
       "      <td>0.02</td>\n",
       "      <td>0.09</td>\n",
       "      <td>transit</td>\n",
       "      <td>-0.76</td>\n",
       "      <td>-0.07</td>\n",
       "    </tr>\n",
       "    <tr>\n",
       "      <th>19</th>\n",
       "      <td>Redmond</td>\n",
       "      <td>0.02</td>\n",
       "      <td>0.11</td>\n",
       "      <td>transit</td>\n",
       "      <td>-0.80</td>\n",
       "      <td>-0.08</td>\n",
       "    </tr>\n",
       "    <tr>\n",
       "      <th>22</th>\n",
       "      <td>Renton</td>\n",
       "      <td>0.02</td>\n",
       "      <td>0.04</td>\n",
       "      <td>transit</td>\n",
       "      <td>-0.44</td>\n",
       "      <td>-0.02</td>\n",
       "    </tr>\n",
       "    <tr>\n",
       "      <th>25</th>\n",
       "      <td>Seattle</td>\n",
       "      <td>0.02</td>\n",
       "      <td>0.32</td>\n",
       "      <td>transit</td>\n",
       "      <td>-0.94</td>\n",
       "      <td>-0.29</td>\n",
       "    </tr>\n",
       "    <tr>\n",
       "      <th>28</th>\n",
       "      <td>Tacoma</td>\n",
       "      <td>0.09</td>\n",
       "      <td>0.03</td>\n",
       "      <td>transit</td>\n",
       "      <td>2.00</td>\n",
       "      <td>0.06</td>\n",
       "    </tr>\n",
       "  </tbody>\n",
       "</table>\n",
       "</div>"
      ],
      "text/plain": [
       "     work_place  modeled  observed     mode  percent_diff  diff\n",
       "1        Auburn     0.03      0.02  transit          0.28  0.01\n",
       "4      Bellevue     0.02      0.11  transit         -0.79 -0.09\n",
       "7       Everett     0.05      0.03  transit          0.71  0.02\n",
       "10  Federal Way     0.02      0.00  transit          4.61  0.02\n",
       "13         Kent     0.02      0.05  transit         -0.53 -0.03\n",
       "16     Kirkland     0.02      0.09  transit         -0.76 -0.07\n",
       "19      Redmond     0.02      0.11  transit         -0.80 -0.08\n",
       "22       Renton     0.02      0.04  transit         -0.44 -0.02\n",
       "25      Seattle     0.02      0.32  transit         -0.94 -0.29\n",
       "28       Tacoma     0.09      0.03  transit          2.00  0.06"
      ]
     },
     "execution_count": 9,
     "metadata": {},
     "output_type": "execute_result"
    }
   ],
   "source": [
    "_df = df_shares[df_shares['mode'] == 'transit']\n",
    "_df"
   ]
  },
  {
   "cell_type": "code",
   "execution_count": 10,
   "metadata": {},
   "outputs": [
    {
     "name": "stdout",
     "output_type": "stream",
     "text": [
      "r^2 : -0.30588842168539243\n"
     ]
    },
    {
     "data": {
      "image/png": "[encoded data removed]",
      "text/plain": [
       "<Figure size 432x288 with 1 Axes>"
      ]
     },
     "metadata": {
      "needs_background": "light"
     },
     "output_type": "display_data"
    }
   ],
   "source": [
    "ax = _df.plot(kind='scatter', x='observed', y='modeled')\n",
    "lim = _df[['observed','modeled']].max().max()*1.05\n",
    "ax.set_ylim(0,lim)\n",
    "ax.set_xlim(0,lim)\n",
    "x = np.linspace(*ax.get_xlim())\n",
    "ax.plot(x, x)\n",
    "slope, intercept, r_value, p_value, std_err = stats.linregress(_df['observed'],_df['modeled'])\n",
    "print('r^2 : ' + str(r_value))"
   ]
  },
  {
   "cell_type": "markdown",
   "metadata": {},
   "source": [
    "## Walk and Bike"
   ]
  },
  {
   "cell_type": "code",
   "execution_count": 11,
   "metadata": {},
   "outputs": [
    {
     "data": {
      "text/html": [
       "<div>\n",
       "<style scoped>\n",
       "    .dataframe tbody tr th:only-of-type {\n",
       "        vertical-align: middle;\n",
       "    }\n",
       "\n",
       "    .dataframe tbody tr th {\n",
       "        vertical-align: top;\n",
       "    }\n",
       "\n",
       "    .dataframe thead th {\n",
       "        text-align: right;\n",
       "    }\n",
       "</style>\n",
       "<table border=\"1\" class=\"dataframe\">\n",
       "  <thead>\n",
       "    <tr style=\"text-align: right;\">\n",
       "      <th></th>\n",
       "      <th>work_place</th>\n",
       "      <th>modeled</th>\n",
       "      <th>observed</th>\n",
       "      <th>mode</th>\n",
       "      <th>percent_diff</th>\n",
       "      <th>diff</th>\n",
       "    </tr>\n",
       "  </thead>\n",
       "  <tbody>\n",
       "    <tr>\n",
       "      <th>2</th>\n",
       "      <td>Auburn</td>\n",
       "      <td>0.05</td>\n",
       "      <td>0.04</td>\n",
       "      <td>walk_and_bike</td>\n",
       "      <td>0.19</td>\n",
       "      <td>0.01</td>\n",
       "    </tr>\n",
       "    <tr>\n",
       "      <th>5</th>\n",
       "      <td>Bellevue</td>\n",
       "      <td>0.03</td>\n",
       "      <td>0.06</td>\n",
       "      <td>walk_and_bike</td>\n",
       "      <td>-0.47</td>\n",
       "      <td>-0.03</td>\n",
       "    </tr>\n",
       "    <tr>\n",
       "      <th>8</th>\n",
       "      <td>Everett</td>\n",
       "      <td>0.04</td>\n",
       "      <td>0.04</td>\n",
       "      <td>walk_and_bike</td>\n",
       "      <td>-0.00</td>\n",
       "      <td>-0.00</td>\n",
       "    </tr>\n",
       "    <tr>\n",
       "      <th>11</th>\n",
       "      <td>Federal Way</td>\n",
       "      <td>0.03</td>\n",
       "      <td>0.06</td>\n",
       "      <td>walk_and_bike</td>\n",
       "      <td>-0.47</td>\n",
       "      <td>-0.03</td>\n",
       "    </tr>\n",
       "    <tr>\n",
       "      <th>14</th>\n",
       "      <td>Kent</td>\n",
       "      <td>0.04</td>\n",
       "      <td>0.03</td>\n",
       "      <td>walk_and_bike</td>\n",
       "      <td>0.28</td>\n",
       "      <td>0.01</td>\n",
       "    </tr>\n",
       "    <tr>\n",
       "      <th>17</th>\n",
       "      <td>Kirkland</td>\n",
       "      <td>0.04</td>\n",
       "      <td>0.05</td>\n",
       "      <td>walk_and_bike</td>\n",
       "      <td>-0.14</td>\n",
       "      <td>-0.01</td>\n",
       "    </tr>\n",
       "    <tr>\n",
       "      <th>20</th>\n",
       "      <td>Redmond</td>\n",
       "      <td>0.04</td>\n",
       "      <td>0.05</td>\n",
       "      <td>walk_and_bike</td>\n",
       "      <td>-0.25</td>\n",
       "      <td>-0.01</td>\n",
       "    </tr>\n",
       "    <tr>\n",
       "      <th>23</th>\n",
       "      <td>Renton</td>\n",
       "      <td>0.05</td>\n",
       "      <td>0.05</td>\n",
       "      <td>walk_and_bike</td>\n",
       "      <td>-0.05</td>\n",
       "      <td>-0.00</td>\n",
       "    </tr>\n",
       "    <tr>\n",
       "      <th>26</th>\n",
       "      <td>Seattle</td>\n",
       "      <td>0.03</td>\n",
       "      <td>0.14</td>\n",
       "      <td>walk_and_bike</td>\n",
       "      <td>-0.76</td>\n",
       "      <td>-0.10</td>\n",
       "    </tr>\n",
       "    <tr>\n",
       "      <th>29</th>\n",
       "      <td>Tacoma</td>\n",
       "      <td>0.05</td>\n",
       "      <td>0.03</td>\n",
       "      <td>walk_and_bike</td>\n",
       "      <td>0.42</td>\n",
       "      <td>0.01</td>\n",
       "    </tr>\n",
       "  </tbody>\n",
       "</table>\n",
       "</div>"
      ],
      "text/plain": [
       "     work_place  modeled  observed           mode  percent_diff  diff\n",
       "2        Auburn     0.05      0.04  walk_and_bike          0.19  0.01\n",
       "5      Bellevue     0.03      0.06  walk_and_bike         -0.47 -0.03\n",
       "8       Everett     0.04      0.04  walk_and_bike         -0.00 -0.00\n",
       "11  Federal Way     0.03      0.06  walk_and_bike         -0.47 -0.03\n",
       "14         Kent     0.04      0.03  walk_and_bike          0.28  0.01\n",
       "17     Kirkland     0.04      0.05  walk_and_bike         -0.14 -0.01\n",
       "20      Redmond     0.04      0.05  walk_and_bike         -0.25 -0.01\n",
       "23       Renton     0.05      0.05  walk_and_bike         -0.05 -0.00\n",
       "26      Seattle     0.03      0.14  walk_and_bike         -0.76 -0.10\n",
       "29       Tacoma     0.05      0.03  walk_and_bike          0.42  0.01"
      ]
     },
     "execution_count": 11,
     "metadata": {},
     "output_type": "execute_result"
    }
   ],
   "source": [
    "_df = df_shares[df_shares['mode'] == 'walk_and_bike']\n",
    "_df"
   ]
  },
  {
   "cell_type": "code",
   "execution_count": 12,
   "metadata": {},
   "outputs": [
    {
     "name": "stdout",
     "output_type": "stream",
     "text": [
      "r^2 : -0.4153988786104909\n"
     ]
    },
    {
     "data": {
      "image/png": "[encoded data removed]",
      "text/plain": [
       "<Figure size 432x288 with 1 Axes>"
      ]
     },
     "metadata": {
      "needs_background": "light"
     },
     "output_type": "display_data"
    }
   ],
   "source": [
    "ax = _df.plot(kind='scatter', x='observed', y='modeled')\n",
    "lim = _df[['observed','modeled']].max().max()*1.05\n",
    "ax.set_ylim(0,lim)\n",
    "ax.set_xlim(0,lim)\n",
    "x = np.linspace(*ax.get_xlim())\n",
    "ax.plot(x, x)\n",
    "slope, intercept, r_value, p_value, std_err = stats.linregress(_df['observed'],_df['modeled'])\n",
    "print('r^2 : ' + str(r_value))"
   ]
  },
  {
   "cell_type": "markdown",
   "metadata": {},
   "source": [
    "# Commute Mode Share by Home Tract\n",
    "----"
   ]
  },
  {
   "cell_type": "code",
   "execution_count": 13,
   "metadata": {},
   "outputs": [],
   "source": [
    "df = pd.read_csv(os.path.join(relative_path,'validation','acs_commute_share_by_home_tract.csv'))\n",
    "pd.options.display.float_format = '{:0,.0f}'.format"
   ]
  },
  {
   "cell_type": "code",
   "execution_count": 14,
   "metadata": {},
   "outputs": [
    {
     "data": {
      "text/html": [
       "<div>\n",
       "<style scoped>\n",
       "    .dataframe tbody tr th:only-of-type {\n",
       "        vertical-align: middle;\n",
       "    }\n",
       "\n",
       "    .dataframe tbody tr th {\n",
       "        vertical-align: top;\n",
       "    }\n",
       "\n",
       "    .dataframe thead th {\n",
       "        text-align: right;\n",
       "    }\n",
       "</style>\n",
       "<table border=\"1\" class=\"dataframe\">\n",
       "  <thead>\n",
       "    <tr style=\"text-align: right;\">\n",
       "      <th></th>\n",
       "      <th>CountyName</th>\n",
       "      <th>modeled</th>\n",
       "      <th>observed</th>\n",
       "    </tr>\n",
       "  </thead>\n",
       "  <tbody>\n",
       "    <tr>\n",
       "      <th>0</th>\n",
       "      <td>King</td>\n",
       "      <td>464,623</td>\n",
       "      <td>1,036,598</td>\n",
       "    </tr>\n",
       "    <tr>\n",
       "      <th>1</th>\n",
       "      <td>Kitsap</td>\n",
       "      <td>136,453</td>\n",
       "      <td>111,998</td>\n",
       "    </tr>\n",
       "    <tr>\n",
       "      <th>2</th>\n",
       "      <td>Pierce</td>\n",
       "      <td>365,859</td>\n",
       "      <td>374,996</td>\n",
       "    </tr>\n",
       "    <tr>\n",
       "      <th>3</th>\n",
       "      <td>Snohomish</td>\n",
       "      <td>605,267</td>\n",
       "      <td>368,546</td>\n",
       "    </tr>\n",
       "  </tbody>\n",
       "</table>\n",
       "</div>"
      ],
      "text/plain": [
       "  CountyName  modeled  observed\n",
       "0       King  464,623 1,036,598\n",
       "1     Kitsap  136,453   111,998\n",
       "2     Pierce  365,859   374,996\n",
       "3  Snohomish  605,267   368,546"
      ]
     },
     "execution_count": 14,
     "metadata": {},
     "output_type": "execute_result"
    }
   ],
   "source": [
    "df_county = df.groupby('CountyName').sum()[['modeled','observed']].reset_index()\n",
    "df_county"
   ]
  },
  {
   "cell_type": "code",
   "execution_count": 15,
   "metadata": {},
   "outputs": [],
   "source": [
    "def calculate_shares(df, geog_col, apply_format=False):\n",
    "    \n",
    "    df[['modeled','observed']] = df[['modeled','observed']].astype('int')\n",
    "    df_total = df.groupby(geog_col).sum()[['modeled','observed']].reset_index()\n",
    "    df_total.rename(columns={'modeled': 'modeled_total','observed':'observed_total'}, inplace=True)\n",
    "    df = df.merge(df_total, on=geog_col, how='left')\n",
    "    df['modeled_share'] = df['modeled']*1.0/df['modeled_total']\n",
    "    df['observed_share'] = df['observed']*1.0/df['observed_total']\n",
    "    if apply_format:\n",
    "        df[['modeled_share','observed_share']] = df[['modeled_share','observed_share']].applymap(format_percent)\n",
    "    \n",
    "    return df"
   ]
  },
  {
   "cell_type": "code",
   "execution_count": 16,
   "metadata": {},
   "outputs": [],
   "source": [
    "df_county_mode = df.groupby(['CountyName','mode']).sum()[['modeled','observed']].reset_index()\n",
    "df_county_mode = calculate_shares(df_county_mode, 'CountyName', apply_format=True)\n",
    "# Shares by Tract\n",
    "df_tract = df[['geoid','mode','modeled','observed']]\n",
    "df_tract_shares = calculate_shares(df_tract, 'geoid')"
   ]
  },
  {
   "cell_type": "markdown",
   "metadata": {},
   "source": [
    "## SOV"
   ]
  },
  {
   "cell_type": "code",
   "execution_count": 17,
   "metadata": {},
   "outputs": [
    {
     "name": "stdout",
     "output_type": "stream",
     "text": [
      " r^2: -0.11950471905672727\n"
     ]
    },
    {
     "data": {
      "image/png": "[encoded data removed]",
      "text/plain": [
       "<Figure size 432x288 with 1 Axes>"
      ]
     },
     "metadata": {
      "needs_background": "light"
     },
     "output_type": "display_data"
    }
   ],
   "source": [
    "# Show only SOV\n",
    "sov_tract_shares = df_tract_shares[df_tract_shares['mode'] == 'SOV']\n",
    "sov_tract_shares = sov_tract_shares[-sov_tract_shares.observed_share.isnull()]\n",
    "\n",
    "_df = sov_tract_shares.copy()\n",
    "ax = _df.plot(kind='scatter', x='observed_share', y='modeled_share')\n",
    "lim = _df[['observed_share','modeled_share']].max().max()*1.05\n",
    "ax.set_ylim(0,lim)\n",
    "ax.set_xlim(0,lim)\n",
    "slope, intercept, r_value, p_value, std_err = stats.linregress(_df['observed_share'],_df['modeled_share'])\n",
    "x = np.linspace(*ax.get_xlim())\n",
    "ax.plot(x, x)\n",
    "print(' r^2: ' + str(r_value))"
   ]
  },
  {
   "cell_type": "markdown",
   "metadata": {},
   "source": [
    "## HOV"
   ]
  },
  {
   "cell_type": "code",
   "execution_count": 18,
   "metadata": {},
   "outputs": [
    {
     "name": "stdout",
     "output_type": "stream",
     "text": [
      " r^2: -0.02305218425590085\n"
     ]
    },
    {
     "data": {
      "image/png": "[encoded data removed]",
      "text/plain": [
       "<Figure size 432x288 with 1 Axes>"
      ]
     },
     "metadata": {
      "needs_background": "light"
     },
     "output_type": "display_data"
    }
   ],
   "source": [
    "# Show only SOV\n",
    "sov_tract_shares = df_tract_shares[df_tract_shares['mode'] == 'HOV']\n",
    "sov_tract_shares = sov_tract_shares[-sov_tract_shares.observed_share.isnull()]\n",
    "\n",
    "_df = sov_tract_shares.copy()\n",
    "ax = _df.plot(kind='scatter', x='observed_share', y='modeled_share')\n",
    "lim = _df[['observed_share','modeled_share']].max().max()*1.05\n",
    "ax.set_ylim(0,lim)\n",
    "ax.set_xlim(0,lim)\n",
    "slope, intercept, r_value, p_value, std_err = stats.linregress(_df['observed_share'],_df['modeled_share'])\n",
    "x = np.linspace(*ax.get_xlim())\n",
    "ax.plot(x, x)\n",
    "print(' r^2: ' + str(r_value))"
   ]
  },
  {
   "cell_type": "markdown",
   "metadata": {},
   "source": [
    "## Transit"
   ]
  },
  {
   "cell_type": "code",
   "execution_count": 19,
   "metadata": {},
   "outputs": [
    {
     "name": "stdout",
     "output_type": "stream",
     "text": [
      " r^2: -0.2512121408025733\n"
     ]
    },
    {
     "data": {
      "image/png": "[encoded data removed]",
      "text/plain": [
       "<Figure size 432x288 with 1 Axes>"
      ]
     },
     "metadata": {
      "needs_background": "light"
     },
     "output_type": "display_data"
    }
   ],
   "source": [
    "# Show only SOV\n",
    "sov_tract_shares = df_tract_shares[df_tract_shares['mode'] == 'Transit']\n",
    "sov_tract_shares = sov_tract_shares[-sov_tract_shares.observed_share.isnull()]\n",
    "\n",
    "_df = sov_tract_shares.copy()\n",
    "ax = _df.plot(kind='scatter', x='observed_share', y='modeled_share')\n",
    "lim = _df[['observed_share','modeled_share']].max().max()*1.05\n",
    "ax.set_ylim(0,lim)\n",
    "ax.set_xlim(0,lim)\n",
    "slope, intercept, r_value, p_value, std_err = stats.linregress(_df['observed_share'],_df['modeled_share'])\n",
    "x = np.linspace(*ax.get_xlim())\n",
    "ax.plot(x, x)\n",
    "print(' r^2: ' + str(r_value))"
   ]
  },
  {
   "cell_type": "markdown",
   "metadata": {},
   "source": [
    "## Walk"
   ]
  },
  {
   "cell_type": "code",
   "execution_count": 20,
   "metadata": {},
   "outputs": [
    {
     "name": "stdout",
     "output_type": "stream",
     "text": [
      " r^2: -0.045030891600924335\n"
     ]
    },
    {
     "data": {
      "image/png": "[encoded data removed]",
      "text/plain": [
       "<Figure size 432x288 with 1 Axes>"
      ]
     },
     "metadata": {
      "needs_background": "light"
     },
     "output_type": "display_data"
    }
   ],
   "source": [
    "# Show only SOV\n",
    "sov_tract_shares = df_tract_shares[df_tract_shares['mode'] == 'Walk']\n",
    "sov_tract_shares = sov_tract_shares[-sov_tract_shares.observed_share.isnull()]\n",
    "\n",
    "_df = sov_tract_shares.copy()\n",
    "ax = _df.plot(kind='scatter', x='observed_share', y='modeled_share')\n",
    "lim = _df[['observed_share','modeled_share']].max().max()*1.05\n",
    "ax.set_ylim(0,lim)\n",
    "ax.set_xlim(0,lim)\n",
    "slope, intercept, r_value, p_value, std_err = stats.linregress(_df['observed_share'],_df['modeled_share'])\n",
    "x = np.linspace(*ax.get_xlim())\n",
    "ax.plot(x, x)\n",
    "print(' r^2: ' + str(r_value))"
   ]
  },
  {
   "cell_type": "code",
   "execution_count": null,
   "metadata": {},
   "outputs": [],
   "source": []
  }
 ],
 "metadata": {
  "kernelspec": {
   "display_name": "Python 3",
   "language": "python",
   "name": "python3"
  },
  "language_info": {
   "codemirror_mode": {
    "name": "ipython",
    "version": 3
   },
   "file_extension": ".py",
   "mimetype": "text/x-python",
   "name": "python",
   "nbconvert_exporter": "python",
   "pygments_lexer": "ipython3",
   "version": "3.7.10"
  }
 },
 "nbformat": 4,
 "nbformat_minor": 2
}
