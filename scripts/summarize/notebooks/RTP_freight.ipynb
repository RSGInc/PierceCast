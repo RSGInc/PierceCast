{
 "cells": [
  {
   "cell_type": "code",
   "execution_count": 1,
   "id": "14efb4e1",
   "metadata": {},
   "outputs": [],
   "source": [
    "import os, sys, time\n",
    "import warnings\n",
    "warnings.simplefilter(action='ignore', category=FutureWarning)\n",
    "import pandas as pd\n",
    "pd.options.mode.chained_assignment = None\n",
    "import h5py\n",
    "import geopandas as gpd\n",
    "os.sys.path.append(os.path.join(os.getcwd(),r'..\\standard'))\n",
    "import os, sys\n",
    "sys.path.append(os.path.join(os.getcwd(),r'..\\..\\..'))\n",
    "# import summary_helpers\n",
    "\n",
    "%matplotlib inline\n",
    "\n",
    "from IPython.display import display, HTML\n",
    "\n",
    "if (sys.version_info < (3, 0)):\n",
    "    HTML('''<script>\n",
    "    code_show=true; \n",
    "    function code_toggle() {\n",
    "     if (code_show){\n",
    "     $('div.input').hide();\n",
    "     } else {\n",
    "     $('div.input').show();\n",
    "     }\n",
    "     code_show = !code_show\n",
    "    } \n",
    "    $( document ).ready(code_toggle);\n",
    "    </script>\n",
    "    <form action=\"javascript:code_toggle()\"><input type=\"submit\" value=\"Click here to toggle on/off the raw code.\"></form>''')\n"
   ]
  },
  {
   "cell_type": "code",
   "execution_count": 2,
   "id": "94a64703",
   "metadata": {},
   "outputs": [],
   "source": [
    "CSS = \"\"\"\n",
    ".output {\n",
    "    flex-direction: row;\n",
    "}\n",
    "\"\"\"\n",
    "\n",
    "HTML('<style>{}</style>'.format(CSS))\n",
    "\n",
    "# Relative path between notebooks and goruped output directories\n",
    "relative_path = '../../../outputs'\n",
    "survey_path = '../../../inputs/base_year/survey'"
   ]
  },
  {
   "cell_type": "code",
   "execution_count": 3,
   "id": "84b35b22",
   "metadata": {},
   "outputs": [],
   "source": [
    "pd.options.display.float_format = '{:0,.0f}'.format"
   ]
  },
  {
   "cell_type": "code",
   "execution_count": 4,
   "id": "dd5ec5e8",
   "metadata": {},
   "outputs": [],
   "source": [
    "def load_network_summary(filepath):\n",
    "    \"\"\"Load network-level results using a standard procedure. \"\"\"\n",
    "    df = pd.read_csv(filepath)\n",
    "\n",
    "    # Congested network components by time of day\n",
    "    df.columns\n",
    "\n",
    "    # Get freeflow from 20to5 period\n",
    "\n",
    "    # Exclude trips taken on non-designated facilities (facility_type == 0)\n",
    "    # These are artificial (weave lanes to connect HOV) or for non-auto uses \n",
    "    df = df[df['data3'] != 0]    # data3 represents facility_type\n",
    "\n",
    "    # calculate total link VMT and VHT\n",
    "    df['VMT'] = df['@tveh']*df['length']\n",
    "    df['VHT'] = df['@tveh']*df['auto_time']/60\n",
    "\n",
    "    # Define facility type\n",
    "    df.loc[df['data3'].isin([1,2]), 'facility_type'] = 'highway'\n",
    "    df.loc[df['data3'].isin([3,4,6]), 'facility_type'] = 'arterial'\n",
    "    df.loc[df['data3'].isin([5]), 'facility_type'] = 'connector'\n",
    "\n",
    "    # Calculate delay\n",
    "    # Select links from overnight time of day\n",
    "    delay_df = df.loc[df['tod'] == '20to5'][['ij','auto_time']]\n",
    "    delay_df.rename(columns={'auto_time':'freeflow_time'}, inplace=True)\n",
    "\n",
    "    # Merge delay field back onto network link df\n",
    "    df = pd.merge(df, delay_df, on='ij', how='left')\n",
    "\n",
    "    # Calcualte hourly delay\n",
    "    df['total_delay'] = ((df['auto_time']-df['freeflow_time'])*df['@tveh'])/60    # sum of (volume)*(travtime diff from freeflow)\n",
    "\n",
    "    df['county'] =df['@countyid'].map({33: 'King',\n",
    "                                      35: 'Kitsap',\n",
    "                                      53: 'Pierce',\n",
    "                                      61: 'Snohomish'})\n",
    "    \n",
    "    return df"
   ]
  },
  {
   "cell_type": "markdown",
   "id": "8aa9026c",
   "metadata": {},
   "source": [
    "# Truck Miles Traveled by Type\n",
    "Daily Total"
   ]
  },
  {
   "cell_type": "code",
   "execution_count": 5,
   "id": "b91883f0",
   "metadata": {},
   "outputs": [],
   "source": [
    "df = load_network_summary(os.path.join(relative_path,'network',r'network_results.csv'))"
   ]
  },
  {
   "cell_type": "code",
   "execution_count": 6,
   "id": "7a3f3227",
   "metadata": {},
   "outputs": [
    {
     "data": {
      "text/html": [
       "<table border=\"1\" class=\"dataframe\">\n",
       "  <thead>\n",
       "    <tr style=\"text-align: right;\">\n",
       "      <th>County</th>\n",
       "      <th>Medium Trucks</th>\n",
       "      <th>Heavy Trucks</th>\n",
       "    </tr>\n",
       "  </thead>\n",
       "  <tbody>\n",
       "    <tr>\n",
       "      <td>King</td>\n",
       "      <td>18,984,938</td>\n",
       "      <td>13,386,434</td>\n",
       "    </tr>\n",
       "    <tr>\n",
       "      <td>Kitsap</td>\n",
       "      <td>1,109,625</td>\n",
       "      <td>584,461</td>\n",
       "    </tr>\n",
       "    <tr>\n",
       "      <td>Pierce</td>\n",
       "      <td>4,235,211</td>\n",
       "      <td>5,115,812</td>\n",
       "    </tr>\n",
       "    <tr>\n",
       "      <td>Snohomish</td>\n",
       "      <td>4,584,707</td>\n",
       "      <td>3,752,191</td>\n",
       "    </tr>\n",
       "    <tr>\n",
       "      <td>Total</td>\n",
       "      <td>28,914,481</td>\n",
       "      <td>22,838,898</td>\n",
       "    </tr>\n",
       "  </tbody>\n",
       "</table>"
      ],
      "text/plain": [
       "<IPython.core.display.HTML object>"
      ]
     },
     "execution_count": 6,
     "metadata": {},
     "output_type": "execute_result"
    }
   ],
   "source": [
    "_df = df.groupby('county').sum()[['@medium_truck','@heavy_truck']]\n",
    "_df.loc['Total',:] = _df.sum()\n",
    "_df = _df.reset_index()\n",
    "_df.rename(columns={'county':'County', '@medium_truck': 'Medium Trucks', '@heavy_truck': 'Heavy Trucks'}, inplace=True)\n",
    "_df.to_csv(os.path.join(os.getcwd(), r'..\\..\\..\\outputs\\compare\\RTP','truck_vmt.csv'))\n",
    "HTML(_df.to_html(index=False))"
   ]
  },
  {
   "cell_type": "code",
   "execution_count": 7,
   "id": "9992bef2",
   "metadata": {},
   "outputs": [],
   "source": [
    "# Results by Congestion Level\n",
    "df['speed'] = df['length']/df['auto_time']*60\n",
    "df['congestion_index'] = df['speed']/df['data2']\n",
    "df['congestion_index'] = df['congestion_index'].clip(0,1)\n",
    "df['congestion_category'] = pd.cut(df['congestion_index'], bins=[0,.25,.5,.7,1], labels=['Severe','Heavy','Moderate','Light'])"
   ]
  },
  {
   "cell_type": "markdown",
   "id": "29ec1285",
   "metadata": {},
   "source": [
    "AM Peak (5 - 9 am)"
   ]
  },
  {
   "cell_type": "code",
   "execution_count": 8,
   "id": "f4ceaef0",
   "metadata": {},
   "outputs": [
    {
     "data": {
      "text/html": [
       "<div>\n",
       "<style scoped>\n",
       "    .dataframe tbody tr th:only-of-type {\n",
       "        vertical-align: middle;\n",
       "    }\n",
       "\n",
       "    .dataframe tbody tr th {\n",
       "        vertical-align: top;\n",
       "    }\n",
       "\n",
       "    .dataframe thead th {\n",
       "        text-align: right;\n",
       "    }\n",
       "</style>\n",
       "<table border=\"1\" class=\"dataframe\">\n",
       "  <thead>\n",
       "    <tr style=\"text-align: right;\">\n",
       "      <th></th>\n",
       "      <th>King</th>\n",
       "      <th>Kitsap</th>\n",
       "      <th>Pierce</th>\n",
       "      <th>Snohomish</th>\n",
       "    </tr>\n",
       "  </thead>\n",
       "  <tbody>\n",
       "    <tr>\n",
       "      <th>Light</th>\n",
       "      <td>4,511,455</td>\n",
       "      <td>299,285</td>\n",
       "      <td>1,433,453</td>\n",
       "      <td>1,245,625</td>\n",
       "    </tr>\n",
       "    <tr>\n",
       "      <th>Moderate</th>\n",
       "      <td>1,246,093</td>\n",
       "      <td>21,891</td>\n",
       "      <td>318,713</td>\n",
       "      <td>327,014</td>\n",
       "    </tr>\n",
       "    <tr>\n",
       "      <th>Heavy</th>\n",
       "      <td>1,019,743</td>\n",
       "      <td>13,924</td>\n",
       "      <td>209,025</td>\n",
       "      <td>204,963</td>\n",
       "    </tr>\n",
       "    <tr>\n",
       "      <th>Severe</th>\n",
       "      <td>236,044</td>\n",
       "      <td>8,962</td>\n",
       "      <td>49,490</td>\n",
       "      <td>48,372</td>\n",
       "    </tr>\n",
       "    <tr>\n",
       "      <th>Total</th>\n",
       "      <td>7,013,335</td>\n",
       "      <td>344,061</td>\n",
       "      <td>2,010,681</td>\n",
       "      <td>1,825,974</td>\n",
       "    </tr>\n",
       "  </tbody>\n",
       "</table>\n",
       "</div>"
      ],
      "text/plain": [
       "              King  Kitsap    Pierce  Snohomish\n",
       "Light    4,511,455 299,285 1,433,453  1,245,625\n",
       "Moderate 1,246,093  21,891   318,713    327,014\n",
       "Heavy    1,019,743  13,924   209,025    204,963\n",
       "Severe     236,044   8,962    49,490     48,372\n",
       "Total    7,013,335 344,061 2,010,681  1,825,974"
      ]
     },
     "execution_count": 8,
     "metadata": {},
     "output_type": "execute_result"
    }
   ],
   "source": [
    "df['Medium and Heavy Trucks'] = df['@heavy_truck']+df['@medium_truck']\n",
    "\n",
    "_df = df[df['tod'].isin(['5to6','6to7','7to8','8to9'])]\n",
    "_df = _df.pivot_table(index='congestion_category',columns='county',\n",
    "               aggfunc='sum',values='Medium and Heavy Trucks')\n",
    "_df = _df.reindex(['Light','Moderate','Heavy','Severe'])\n",
    "_df.index.name = None\n",
    "_df.columns.name = None\n",
    "_df.loc['Total',:] = _df.sum()\n",
    "_df.to_csv(os.path.join(os.getcwd(), r'..\\..\\..\\outputs\\compare\\RTP','truck_vmt_am.csv'))\n",
    "_df"
   ]
  },
  {
   "cell_type": "markdown",
   "id": "22af8846",
   "metadata": {},
   "source": [
    "PM Peak (3 - 6 pm)"
   ]
  },
  {
   "cell_type": "code",
   "execution_count": 9,
   "id": "89827ed0",
   "metadata": {},
   "outputs": [
    {
     "data": {
      "text/html": [
       "<div>\n",
       "<style scoped>\n",
       "    .dataframe tbody tr th:only-of-type {\n",
       "        vertical-align: middle;\n",
       "    }\n",
       "\n",
       "    .dataframe tbody tr th {\n",
       "        vertical-align: top;\n",
       "    }\n",
       "\n",
       "    .dataframe thead th {\n",
       "        text-align: right;\n",
       "    }\n",
       "</style>\n",
       "<table border=\"1\" class=\"dataframe\">\n",
       "  <thead>\n",
       "    <tr style=\"text-align: right;\">\n",
       "      <th></th>\n",
       "      <th>King</th>\n",
       "      <th>Kitsap</th>\n",
       "      <th>Pierce</th>\n",
       "      <th>Snohomish</th>\n",
       "    </tr>\n",
       "  </thead>\n",
       "  <tbody>\n",
       "    <tr>\n",
       "      <th>Light</th>\n",
       "      <td>3,541,546</td>\n",
       "      <td>253,529</td>\n",
       "      <td>1,105,421</td>\n",
       "      <td>960,970</td>\n",
       "    </tr>\n",
       "    <tr>\n",
       "      <th>Moderate</th>\n",
       "      <td>1,207,941</td>\n",
       "      <td>19,234</td>\n",
       "      <td>329,673</td>\n",
       "      <td>313,784</td>\n",
       "    </tr>\n",
       "    <tr>\n",
       "      <th>Heavy</th>\n",
       "      <td>1,015,825</td>\n",
       "      <td>11,091</td>\n",
       "      <td>232,693</td>\n",
       "      <td>234,181</td>\n",
       "    </tr>\n",
       "    <tr>\n",
       "      <th>Severe</th>\n",
       "      <td>276,197</td>\n",
       "      <td>8,581</td>\n",
       "      <td>39,004</td>\n",
       "      <td>57,658</td>\n",
       "    </tr>\n",
       "    <tr>\n",
       "      <th>Total</th>\n",
       "      <td>6,041,508</td>\n",
       "      <td>292,434</td>\n",
       "      <td>1,706,791</td>\n",
       "      <td>1,566,592</td>\n",
       "    </tr>\n",
       "  </tbody>\n",
       "</table>\n",
       "</div>"
      ],
      "text/plain": [
       "              King  Kitsap    Pierce  Snohomish\n",
       "Light    3,541,546 253,529 1,105,421    960,970\n",
       "Moderate 1,207,941  19,234   329,673    313,784\n",
       "Heavy    1,015,825  11,091   232,693    234,181\n",
       "Severe     276,197   8,581    39,004     57,658\n",
       "Total    6,041,508 292,434 1,706,791  1,566,592"
      ]
     },
     "execution_count": 9,
     "metadata": {},
     "output_type": "execute_result"
    }
   ],
   "source": [
    "_df = df[df['tod'].isin(['15to16','16to17','17to18'])]\n",
    "_df = _df.pivot_table(index='congestion_category',columns='county',\n",
    "               aggfunc='sum',values='Medium and Heavy Trucks')\n",
    "_df = _df.reindex(['Light','Moderate','Heavy','Severe'])\n",
    "_df.index.name = None\n",
    "_df.columns.name = None\n",
    "_df.loc['Total',:] = _df.sum()\n",
    "_df.to_csv(os.path.join(os.getcwd(), r'..\\..\\..\\outputs\\compare\\RTP','truck_vmt_pm.csv'))\n",
    "_df"
   ]
  },
  {
   "cell_type": "markdown",
   "id": "821c664a",
   "metadata": {},
   "source": [
    "# Share of Truck Miles by Truck Type\n",
    "Daily Total"
   ]
  },
  {
   "cell_type": "code",
   "execution_count": 10,
   "id": "025d7284",
   "metadata": {},
   "outputs": [
    {
     "data": {
      "text/html": [
       "<div>\n",
       "<style scoped>\n",
       "    .dataframe tbody tr th:only-of-type {\n",
       "        vertical-align: middle;\n",
       "    }\n",
       "\n",
       "    .dataframe tbody tr th {\n",
       "        vertical-align: top;\n",
       "    }\n",
       "\n",
       "    .dataframe thead th {\n",
       "        text-align: right;\n",
       "    }\n",
       "</style>\n",
       "<table border=\"1\" class=\"dataframe\">\n",
       "  <thead>\n",
       "    <tr style=\"text-align: right;\">\n",
       "      <th></th>\n",
       "      <th>King</th>\n",
       "      <th>Kitsap</th>\n",
       "      <th>Pierce</th>\n",
       "      <th>Snohomish</th>\n",
       "    </tr>\n",
       "  </thead>\n",
       "  <tbody>\n",
       "    <tr>\n",
       "      <th>Medium Trucks</th>\n",
       "      <td>18,984,938</td>\n",
       "      <td>1,109,625</td>\n",
       "      <td>4,235,211</td>\n",
       "      <td>4,584,707</td>\n",
       "    </tr>\n",
       "    <tr>\n",
       "      <th>Heavy Trucks</th>\n",
       "      <td>13,386,434</td>\n",
       "      <td>584,461</td>\n",
       "      <td>5,115,812</td>\n",
       "      <td>3,752,191</td>\n",
       "    </tr>\n",
       "    <tr>\n",
       "      <th>Total</th>\n",
       "      <td>32,371,373</td>\n",
       "      <td>1,694,086</td>\n",
       "      <td>9,351,024</td>\n",
       "      <td>8,336,897</td>\n",
       "    </tr>\n",
       "  </tbody>\n",
       "</table>\n",
       "</div>"
      ],
      "text/plain": [
       "                    King    Kitsap    Pierce  Snohomish\n",
       "Medium Trucks 18,984,938 1,109,625 4,235,211  4,584,707\n",
       "Heavy Trucks  13,386,434   584,461 5,115,812  3,752,191\n",
       "Total         32,371,373 1,694,086 9,351,024  8,336,897"
      ]
     },
     "execution_count": 10,
     "metadata": {},
     "output_type": "execute_result"
    }
   ],
   "source": [
    "_df = df[['@medium_truck','@heavy_truck','county']].melt(\n",
    "    id_vars='county', var_name='Truck Type')\n",
    "_df = _df.pivot_table(index='Truck Type', columns='county', \n",
    "                values='value', aggfunc='sum')\n",
    "_df.rename(index={'@heavy_truck': 'Heavy Trucks',\n",
    "                 '@medium_truck': 'Medium Trucks'}, inplace=True)\n",
    "_df.index.name = None\n",
    "_df.columns.name = None\n",
    "_df.sort_index(ascending=False, inplace=True)\n",
    "_df_val = _df.copy()\n",
    "_df.loc['Total',:] = _df.sum()\n",
    "_df"
   ]
  },
  {
   "cell_type": "code",
   "execution_count": 11,
   "id": "ef5f257c",
   "metadata": {},
   "outputs": [
    {
     "data": {
      "text/html": [
       "<div>\n",
       "<style scoped>\n",
       "    .dataframe tbody tr th:only-of-type {\n",
       "        vertical-align: middle;\n",
       "    }\n",
       "\n",
       "    .dataframe tbody tr th {\n",
       "        vertical-align: top;\n",
       "    }\n",
       "\n",
       "    .dataframe thead th {\n",
       "        text-align: right;\n",
       "    }\n",
       "</style>\n",
       "<table border=\"1\" class=\"dataframe\">\n",
       "  <thead>\n",
       "    <tr style=\"text-align: right;\">\n",
       "      <th></th>\n",
       "      <th>King</th>\n",
       "      <th>Kitsap</th>\n",
       "      <th>Pierce</th>\n",
       "      <th>Snohomish</th>\n",
       "    </tr>\n",
       "  </thead>\n",
       "  <tbody>\n",
       "    <tr>\n",
       "      <th>Medium Trucks</th>\n",
       "      <td>58.6%</td>\n",
       "      <td>65.5%</td>\n",
       "      <td>45.3%</td>\n",
       "      <td>55.0%</td>\n",
       "    </tr>\n",
       "    <tr>\n",
       "      <th>Heavy Trucks</th>\n",
       "      <td>41.4%</td>\n",
       "      <td>34.5%</td>\n",
       "      <td>54.7%</td>\n",
       "      <td>45.0%</td>\n",
       "    </tr>\n",
       "  </tbody>\n",
       "</table>\n",
       "</div>"
      ],
      "text/plain": [
       "               King  Kitsap  Pierce  Snohomish\n",
       "Medium Trucks 58.6%   65.5%   45.3%      55.0%\n",
       "Heavy Trucks  41.4%   34.5%   54.7%      45.0%"
      ]
     },
     "execution_count": 11,
     "metadata": {},
     "output_type": "execute_result"
    }
   ],
   "source": [
    "pd.options.display.float_format = '{:0,.1%}'.format\n",
    "_df_val/_df_val.sum()"
   ]
  },
  {
   "cell_type": "markdown",
   "id": "5ed04e67",
   "metadata": {},
   "source": [
    "# Truck Miles on FGTS\n",
    "Freight and Goods Transportation System\n",
    "- T-1: More than 10 million tons per year\n",
    "- T-2: 2 4 million to 10 million tons per year"
   ]
  },
  {
   "cell_type": "code",
   "execution_count": 39,
   "id": "1ed46cc1",
   "metadata": {},
   "outputs": [
    {
     "data": {
      "text/html": [
       "<div>\n",
       "<style scoped>\n",
       "    .dataframe tbody tr th:only-of-type {\n",
       "        vertical-align: middle;\n",
       "    }\n",
       "\n",
       "    .dataframe tbody tr th {\n",
       "        vertical-align: top;\n",
       "    }\n",
       "\n",
       "    .dataframe thead th {\n",
       "        text-align: right;\n",
       "    }\n",
       "</style>\n",
       "<table border=\"1\" class=\"dataframe\">\n",
       "  <thead>\n",
       "    <tr style=\"text-align: right;\">\n",
       "      <th></th>\n",
       "      <th>T-1</th>\n",
       "      <th>T-2</th>\n",
       "      <th>Other Routes</th>\n",
       "    </tr>\n",
       "    <tr>\n",
       "      <th>Truck Type</th>\n",
       "      <th></th>\n",
       "      <th></th>\n",
       "      <th></th>\n",
       "    </tr>\n",
       "  </thead>\n",
       "  <tbody>\n",
       "    <tr>\n",
       "      <th>Heavy Trucks</th>\n",
       "      <td>15,606,687</td>\n",
       "      <td>2,743,644</td>\n",
       "      <td>4,573,228</td>\n",
       "    </tr>\n",
       "    <tr>\n",
       "      <th>Medium Trucks</th>\n",
       "      <td>9,211,542</td>\n",
       "      <td>5,743,077</td>\n",
       "      <td>13,994,424</td>\n",
       "    </tr>\n",
       "  </tbody>\n",
       "</table>\n",
       "</div>"
      ],
      "text/plain": [
       "                     T-1       T-2  Other Routes\n",
       "Truck Type                                      \n",
       "Heavy Trucks  15,606,687 2,743,644     4,573,228\n",
       "Medium Trucks  9,211,542 5,743,077    13,994,424"
      ]
     },
     "execution_count": 39,
     "metadata": {},
     "output_type": "execute_result"
    }
   ],
   "source": [
    "pd.options.display.float_format = '{:0,.0f}'.format\n",
    "_df = df[['@medium_truck','@heavy_truck','@fgts']].melt(\n",
    "    id_vars='@fgts', var_name='Truck Type')\n",
    "_df = _df.pivot_table(index='Truck Type', columns='@fgts', \n",
    "                values='value', aggfunc='sum')\n",
    "# _df = _df.reset_index()\n",
    "_df = _df.rename_axis(None, axis=1)\n",
    "_df.rename(columns={0:'Other Routes', 1: 'T-1', 2: 'T-2'}, inplace=True)\n",
    "_df.rename(index={'@heavy_truck': 'Heavy Trucks',\n",
    "                 '@medium_truck': 'Medium Trucks'}, inplace=True)\n",
    "_df[['T-1','T-2','Other Routes']]"
   ]
  },
  {
   "cell_type": "code",
   "execution_count": 41,
   "id": "38f32f35",
   "metadata": {},
   "outputs": [
    {
     "data": {
      "text/html": [
       "<div>\n",
       "<style scoped>\n",
       "    .dataframe tbody tr th:only-of-type {\n",
       "        vertical-align: middle;\n",
       "    }\n",
       "\n",
       "    .dataframe tbody tr th {\n",
       "        vertical-align: top;\n",
       "    }\n",
       "\n",
       "    .dataframe thead th {\n",
       "        text-align: right;\n",
       "    }\n",
       "</style>\n",
       "<table border=\"1\" class=\"dataframe\">\n",
       "  <thead>\n",
       "    <tr style=\"text-align: right;\">\n",
       "      <th></th>\n",
       "      <th>Other Routes</th>\n",
       "      <th>T-1</th>\n",
       "      <th>T-2</th>\n",
       "    </tr>\n",
       "    <tr>\n",
       "      <th>Truck Type</th>\n",
       "      <th></th>\n",
       "      <th></th>\n",
       "      <th></th>\n",
       "    </tr>\n",
       "  </thead>\n",
       "  <tbody>\n",
       "    <tr>\n",
       "      <th>Heavy Trucks</th>\n",
       "      <td>24.6%</td>\n",
       "      <td>62.9%</td>\n",
       "      <td>32.3%</td>\n",
       "    </tr>\n",
       "    <tr>\n",
       "      <th>Medium Trucks</th>\n",
       "      <td>75.4%</td>\n",
       "      <td>37.1%</td>\n",
       "      <td>67.7%</td>\n",
       "    </tr>\n",
       "  </tbody>\n",
       "</table>\n",
       "</div>"
      ],
      "text/plain": [
       "               Other Routes   T-1   T-2\n",
       "Truck Type                             \n",
       "Heavy Trucks          24.6% 62.9% 32.3%\n",
       "Medium Trucks         75.4% 37.1% 67.7%"
      ]
     },
     "execution_count": 41,
     "metadata": {},
     "output_type": "execute_result"
    }
   ],
   "source": [
    "pd.options.display.float_format = '{:0,.1%}'.format\n",
    "_df/_df.sum()"
   ]
  },
  {
   "cell_type": "code",
   "execution_count": 42,
   "id": "8204a12e",
   "metadata": {},
   "outputs": [],
   "source": [
    "pd.options.display.float_format = '{:0,.0f}'.format"
   ]
  },
  {
   "cell_type": "markdown",
   "id": "5d3d2bb0",
   "metadata": {},
   "source": [
    "# Congestion on FGTS\n",
    "AM Peak (5 - 9 am)"
   ]
  },
  {
   "cell_type": "code",
   "execution_count": 50,
   "id": "ee53d777",
   "metadata": {},
   "outputs": [
    {
     "data": {
      "text/html": [
       "<div>\n",
       "<style scoped>\n",
       "    .dataframe tbody tr th:only-of-type {\n",
       "        vertical-align: middle;\n",
       "    }\n",
       "\n",
       "    .dataframe tbody tr th {\n",
       "        vertical-align: top;\n",
       "    }\n",
       "\n",
       "    .dataframe thead th {\n",
       "        text-align: right;\n",
       "    }\n",
       "</style>\n",
       "<table border=\"1\" class=\"dataframe\">\n",
       "  <thead>\n",
       "    <tr style=\"text-align: right;\">\n",
       "      <th></th>\n",
       "      <th>T-1</th>\n",
       "      <th>T-2</th>\n",
       "      <th>Other Routes</th>\n",
       "    </tr>\n",
       "  </thead>\n",
       "  <tbody>\n",
       "    <tr>\n",
       "      <th>Light</th>\n",
       "      <td>2,996,149</td>\n",
       "      <td>1,330,336</td>\n",
       "      <td>3,185,940</td>\n",
       "    </tr>\n",
       "    <tr>\n",
       "      <th>Moderate</th>\n",
       "      <td>1,197,120</td>\n",
       "      <td>260,175</td>\n",
       "      <td>457,134</td>\n",
       "    </tr>\n",
       "    <tr>\n",
       "      <th>Heavy</th>\n",
       "      <td>836,693</td>\n",
       "      <td>206,927</td>\n",
       "      <td>405,714</td>\n",
       "    </tr>\n",
       "    <tr>\n",
       "      <th>Severe</th>\n",
       "      <td>84,686</td>\n",
       "      <td>78,294</td>\n",
       "      <td>180,804</td>\n",
       "    </tr>\n",
       "    <tr>\n",
       "      <th>Total</th>\n",
       "      <td>5,114,648</td>\n",
       "      <td>1,875,732</td>\n",
       "      <td>4,229,592</td>\n",
       "    </tr>\n",
       "  </tbody>\n",
       "</table>\n",
       "</div>"
      ],
      "text/plain": [
       "               T-1       T-2  Other Routes\n",
       "Light    2,996,149 1,330,336     3,185,940\n",
       "Moderate 1,197,120   260,175       457,134\n",
       "Heavy      836,693   206,927       405,714\n",
       "Severe      84,686    78,294       180,804\n",
       "Total    5,114,648 1,875,732     4,229,592"
      ]
     },
     "execution_count": 50,
     "metadata": {},
     "output_type": "execute_result"
    }
   ],
   "source": [
    "# Congested Miles on FGTS versus other Routes\n",
    "df['Medium and Heavy Trucks'] = df['@heavy_truck']+df['@medium_truck']\n",
    "\n",
    "_df = df[df['tod'].isin(['5to6','6to7','7to8','8to9'])]\n",
    "_df = _df.pivot_table(index='congestion_category',columns='@fgts',\n",
    "               aggfunc='sum',values='Medium and Heavy Trucks')\n",
    "_df = _df.reindex(['Light','Moderate','Heavy','Severe'])\n",
    "_df.index.name = None\n",
    "_df.columns.name = None\n",
    "_df.rename(columns={0:'Other Routes', 1: 'T-1', 2: 'T-2'}, inplace=True)\n",
    "_df.loc['Total',:] = _df.sum()\n",
    "_df = _df[['T-1','T-2','Other Routes']]\n",
    "_df"
   ]
  },
  {
   "cell_type": "markdown",
   "id": "65d1e1c7",
   "metadata": {},
   "source": [
    "PM Peak (3 - 6 pm)"
   ]
  },
  {
   "cell_type": "code",
   "execution_count": 51,
   "id": "0217c0cb",
   "metadata": {},
   "outputs": [
    {
     "data": {
      "text/html": [
       "<div>\n",
       "<style scoped>\n",
       "    .dataframe tbody tr th:only-of-type {\n",
       "        vertical-align: middle;\n",
       "    }\n",
       "\n",
       "    .dataframe tbody tr th {\n",
       "        vertical-align: top;\n",
       "    }\n",
       "\n",
       "    .dataframe thead th {\n",
       "        text-align: right;\n",
       "    }\n",
       "</style>\n",
       "<table border=\"1\" class=\"dataframe\">\n",
       "  <thead>\n",
       "    <tr style=\"text-align: right;\">\n",
       "      <th></th>\n",
       "      <th>T-1</th>\n",
       "      <th>T-2</th>\n",
       "      <th>Other Routes</th>\n",
       "    </tr>\n",
       "  </thead>\n",
       "  <tbody>\n",
       "    <tr>\n",
       "      <th>Light</th>\n",
       "      <td>2,169,717</td>\n",
       "      <td>1,067,097</td>\n",
       "      <td>2,643,862</td>\n",
       "    </tr>\n",
       "    <tr>\n",
       "      <th>Moderate</th>\n",
       "      <td>1,186,690</td>\n",
       "      <td>239,006</td>\n",
       "      <td>444,935</td>\n",
       "    </tr>\n",
       "    <tr>\n",
       "      <th>Heavy</th>\n",
       "      <td>843,083</td>\n",
       "      <td>219,736</td>\n",
       "      <td>430,971</td>\n",
       "    </tr>\n",
       "    <tr>\n",
       "      <th>Severe</th>\n",
       "      <td>99,181</td>\n",
       "      <td>87,707</td>\n",
       "      <td>196,437</td>\n",
       "    </tr>\n",
       "    <tr>\n",
       "      <th>Total</th>\n",
       "      <td>4,298,671</td>\n",
       "      <td>1,613,546</td>\n",
       "      <td>3,716,205</td>\n",
       "    </tr>\n",
       "  </tbody>\n",
       "</table>\n",
       "</div>"
      ],
      "text/plain": [
       "               T-1       T-2  Other Routes\n",
       "Light    2,169,717 1,067,097     2,643,862\n",
       "Moderate 1,186,690   239,006       444,935\n",
       "Heavy      843,083   219,736       430,971\n",
       "Severe      99,181    87,707       196,437\n",
       "Total    4,298,671 1,613,546     3,716,205"
      ]
     },
     "execution_count": 51,
     "metadata": {},
     "output_type": "execute_result"
    }
   ],
   "source": [
    "# Congested Miles on FGTS versus other Routes\n",
    "df['Medium and Heavy Trucks'] = df['@heavy_truck']+df['@medium_truck']\n",
    "\n",
    "_df = df[df['tod'].isin(['15to16','16to17','17to18'])]\n",
    "_df = _df.pivot_table(index='congestion_category',columns='@fgts',\n",
    "               aggfunc='sum',values='Medium and Heavy Trucks')\n",
    "_df = _df.reindex(['Light','Moderate','Heavy','Severe'])\n",
    "_df.index.name = None\n",
    "_df.columns.name = None\n",
    "_df.rename(columns={0:'Other Routes', 1: 'T-1', 2: 'T-2'}, inplace=True)\n",
    "_df.loc['Total',:] = _df.sum()\n",
    "_df = _df[['T-1','T-2','Other Routes']]\n",
    "_df"
   ]
  },
  {
   "cell_type": "markdown",
   "id": "1f963d6a",
   "metadata": {},
   "source": [
    "# Households Within 500' of Heavy Truck Volumes\n",
    "Total number of households within 500' of T-1 and T-2 routes\n",
    "- T-1: More than 10 million tons per year\n",
    "- T-2: 2 4 million to 10 million tons per year"
   ]
  },
  {
   "cell_type": "code",
   "execution_count": 52,
   "id": "79b6cae0",
   "metadata": {},
   "outputs": [],
   "source": [
    "# Intersect buffer with land use file\n",
    "df_lu = pd.read_csv(r'..\\..\\..\\inputs\\scenario\\landuse\\parcels_urbansim.txt',\n",
    "                   delim_whitespace=True)\n",
    "\n",
    "# Load as a geodataframe\n",
    "gdf_lu = gpd.GeoDataFrame(\n",
    "    df_lu, geometry=gpd.points_from_xy(df_lu.XCOORD_P, df_lu.YCOORD_P))\n",
    "\n",
    "crs = {'init' : 'EPSG:2285'}\n",
    "gdf_lu.crs = crs\n",
    "\n",
    "# Buffer the parcels at 500ft\n",
    "gdf_lu['geometry'] = gdf_lu.buffer(500)"
   ]
  },
  {
   "cell_type": "code",
   "execution_count": 53,
   "id": "cd8604c6",
   "metadata": {},
   "outputs": [],
   "source": [
    "\n",
    "# Intersect this geography  with the network shapefile\n",
    "gdf_network = gpd.read_file(r'..\\..\\..\\inputs\\scenario\\networks\\shapefiles\\AM\\AM_edges.shp')\n",
    "# Do not include connectors since these are abstracted ul3==5; also remove weave links ul3==0 \n",
    "gdf_network = gdf_network[~gdf_network.ul3.isin([0,5])]\n",
    "# Truck network links are those that are in FGTS 1 or 2 system\n",
    "gdf_network = gdf_network[gdf_network['FGTS'].isin([1,2])]\n",
    "\n",
    "gdf_intersect = gpd.overlay(gdf_network, gdf_lu, how=\"intersection\", keep_geom_type=False)\n",
    "\n",
    "# Will need to relaculate the lengths since some were split across the regional geographies\n",
    "gdf_intersect['new_length'] = gdf_intersect.geometry.length/5280.0\n",
    "\n",
    "# filter out the polygon results and only keep lines\n",
    "gdf_intersect = gdf_intersect[gdf_intersect.geometry.type.isin(['MultiLineString','LineString'])]"
   ]
  },
  {
   "cell_type": "code",
   "execution_count": 54,
   "id": "5c8817e5",
   "metadata": {},
   "outputs": [
    {
     "data": {
      "text/plain": [
       "<AxesSubplot:>"
      ]
     },
     "execution_count": 54,
     "metadata": {},
     "output_type": "execute_result"
    },
    {
     "data": {
      "image/png": "[encoded data removed]",
      "text/plain": [
       "<Figure size 936x936 with 1 Axes>"
      ]
     },
     "metadata": {
      "needs_background": "light"
     },
     "output_type": "display_data"
    }
   ],
   "source": [
    "gdf_network.plot(figsize=(13,13))"
   ]
  },
  {
   "cell_type": "code",
   "execution_count": 61,
   "id": "6aced745",
   "metadata": {},
   "outputs": [],
   "source": [
    "truck_parcels = gdf_intersect.groupby('PARCELID').first()[['HH_P']].reset_index()\n",
    "\n",
    "\n",
    "# Result should be the network components with some flags for the parcelid\n",
    "# We can take the parcel information, join with parcel info and group\n",
    "from input_configuration import base_year\n",
    "\n",
    "parcel_geog = pd.read_sql_table('parcel_'+base_year+'_geography', 'sqlite:///../../../inputs/db/soundcast_inputs.db')\n",
    "df = truck_parcels.merge(parcel_geog,left_on='PARCELID', right_on='ParcelID')"
   ]
  },
  {
   "cell_type": "code",
   "execution_count": 69,
   "id": "6e24b08d",
   "metadata": {},
   "outputs": [
    {
     "data": {
      "text/markdown": [
       "There are **348837** total households within 500 feet of all T-1 and T-2 routes"
      ],
      "text/plain": [
       "<IPython.core.display.Markdown object>"
      ]
     },
     "execution_count": 69,
     "metadata": {},
     "output_type": "execute_result"
    }
   ],
   "source": [
    "# md(\"There are **{}** total households within 500 feet of all T-1 and T-2 routes\".format(int(df['HH_P'].sum())))\n",
    "# df['HH_P'].sum()"
   ]
  },
  {
   "cell_type": "code",
   "execution_count": 165,
   "id": "84736d30",
   "metadata": {},
   "outputs": [],
   "source": [
    "# md(\"This is **{}**% of total regional households\".format(str((df['HH_P'].sum()/df_lu['HH_P'].sum())*100)[:5]))"
   ]
  },
  {
   "cell_type": "code",
   "execution_count": 77,
   "id": "6fcba200",
   "metadata": {},
   "outputs": [],
   "source": [
    "# Get the total number of households that in equtiy geograhpies\n",
    "# Comprae the percent of those that are in the buffer versus those that are not\n",
    "# For the 4 equity groups, perform the calc and add as a table\n",
    "results_df = pd.DataFrame()\n",
    "for col, name in {'racial_geog_vs_reg_total': 'Race',\n",
    "                  'poverty_geog_vs_reg_total': 'Poverty',\n",
    "                  'elderly_geog_vs_reg_total': 'Elderly',\n",
    "                  'youth_geog_vs_reg_total': 'Youth'}.items():\n",
    "    _df = df.groupby(col).sum()[['HH_P']]\n",
    "    _df['equity_group'] = name\n",
    "    results_df = results_df.append(_df)\n",
    "results_df = results_df.reset_index()\n"
   ]
  },
  {
   "cell_type": "markdown",
   "id": "3664995c",
   "metadata": {},
   "source": [
    "Total Households Within 500' of T-1/T-2 Routes by Equity Group"
   ]
  },
  {
   "cell_type": "code",
   "execution_count": 74,
   "id": "14ea523e",
   "metadata": {},
   "outputs": [
    {
     "data": {
      "text/html": [
       "<div>\n",
       "<style scoped>\n",
       "    .dataframe tbody tr th:only-of-type {\n",
       "        vertical-align: middle;\n",
       "    }\n",
       "\n",
       "    .dataframe tbody tr th {\n",
       "        vertical-align: top;\n",
       "    }\n",
       "\n",
       "    .dataframe thead th {\n",
       "        text-align: right;\n",
       "    }\n",
       "</style>\n",
       "<table border=\"1\" class=\"dataframe\">\n",
       "  <thead>\n",
       "    <tr style=\"text-align: right;\">\n",
       "      <th>equity_group</th>\n",
       "      <th>Elderly</th>\n",
       "      <th>Poverty</th>\n",
       "      <th>Race</th>\n",
       "      <th>Youth</th>\n",
       "    </tr>\n",
       "  </thead>\n",
       "  <tbody>\n",
       "    <tr>\n",
       "      <th>Households Not in Equity Geography</th>\n",
       "      <td>220776</td>\n",
       "      <td>150599</td>\n",
       "      <td>126298</td>\n",
       "      <td>235503</td>\n",
       "    </tr>\n",
       "    <tr>\n",
       "      <th>Households in Equity Geography</th>\n",
       "      <td>128061</td>\n",
       "      <td>198238</td>\n",
       "      <td>222539</td>\n",
       "      <td>113334</td>\n",
       "    </tr>\n",
       "  </tbody>\n",
       "</table>\n",
       "</div>"
      ],
      "text/plain": [
       "equity_group                        Elderly  Poverty    Race   Youth\n",
       "Households Not in Equity Geography   220776   150599  126298  235503\n",
       "Households in Equity Geography       128061   198238  222539  113334"
      ]
     },
     "execution_count": 74,
     "metadata": {},
     "output_type": "execute_result"
    }
   ],
   "source": [
    "_df = results_df.pivot_table(index='index', columns='equity_group', values='HH_P', aggfunc='sum')\n",
    "_df.index = ['Households Not in Equity Geography', 'Households in Equity Geography']"
   ]
  },
  {
   "cell_type": "markdown",
   "id": "747113c5",
   "metadata": {},
   "source": [
    "% of households within 500' of truck routes that are in/outside of equity geographies"
   ]
  },
  {
   "cell_type": "code",
   "execution_count": 75,
   "id": "9c2933e2",
   "metadata": {},
   "outputs": [
    {
     "data": {
      "text/html": [
       "<div>\n",
       "<style scoped>\n",
       "    .dataframe tbody tr th:only-of-type {\n",
       "        vertical-align: middle;\n",
       "    }\n",
       "\n",
       "    .dataframe tbody tr th {\n",
       "        vertical-align: top;\n",
       "    }\n",
       "\n",
       "    .dataframe thead th {\n",
       "        text-align: right;\n",
       "    }\n",
       "</style>\n",
       "<table border=\"1\" class=\"dataframe\">\n",
       "  <thead>\n",
       "    <tr style=\"text-align: right;\">\n",
       "      <th>equity_group</th>\n",
       "      <th>Elderly</th>\n",
       "      <th>Poverty</th>\n",
       "      <th>Race</th>\n",
       "      <th>Youth</th>\n",
       "    </tr>\n",
       "  </thead>\n",
       "  <tbody>\n",
       "    <tr>\n",
       "      <th>Households Not in Equity Geography</th>\n",
       "      <td>63.3%</td>\n",
       "      <td>43.2%</td>\n",
       "      <td>36.2%</td>\n",
       "      <td>67.5%</td>\n",
       "    </tr>\n",
       "    <tr>\n",
       "      <th>Households in Equity Geography</th>\n",
       "      <td>36.7%</td>\n",
       "      <td>56.8%</td>\n",
       "      <td>63.8%</td>\n",
       "      <td>32.5%</td>\n",
       "    </tr>\n",
       "  </tbody>\n",
       "</table>\n",
       "</div>"
      ],
      "text/plain": [
       "equity_group                        Elderly  Poverty  Race  Youth\n",
       "Households Not in Equity Geography    63.3%    43.2% 36.2%  67.5%\n",
       "Households in Equity Geography        36.7%    56.8% 63.8%  32.5%"
      ]
     },
     "execution_count": 75,
     "metadata": {},
     "output_type": "execute_result"
    }
   ],
   "source": [
    "_df/_df.sum()"
   ]
  },
  {
   "cell_type": "code",
   "execution_count": 166,
   "id": "8f60cbbe",
   "metadata": {},
   "outputs": [],
   "source": [
    "pd.options.display.float_format = '{:0,.0f}'.format\n",
    "\n",
    "# results_df.groupby(['equity_group','index']).sum()[['HH_P']]\n",
    "_df = results_df.pivot_table(index='equity_group',columns='index',values='HH_P')\n",
    "_df.rename(columns={0:'Not In Equity Group', 1: 'In Equity Group'}, inplace=True)\n",
    "_df.index.name = None\n",
    "_df.columns.name = None\n",
    "_df['Total Households'] = _df.sum(axis=1)\n",
    "_df_buffer = _df.copy()\n"
   ]
  },
  {
   "cell_type": "code",
   "execution_count": 167,
   "id": "7153fda5",
   "metadata": {},
   "outputs": [],
   "source": [
    "df_lu_tot = df_lu[['PARCELID','HH_P']].merge(parcel_geog,left_on='PARCELID', right_on='ParcelID')\n",
    "# df_lu_tot['region'] = 1\n",
    "results_df_tot = pd.DataFrame()\n",
    "for col, name in {'racial_geog_vs_reg_total': 'Race',\n",
    "                  'poverty_geog_vs_reg_total': 'Poverty',\n",
    "                  'elderly_geog_vs_reg_total': 'Elderly',\n",
    "                  'youth_geog_vs_reg_total': 'Youth',\n",
    "#                   'region': 'Regional Total',\n",
    "                 }.items():\n",
    "    _df = df_lu_tot.groupby(col).sum()[['HH_P']]\n",
    "    _df['equity_group'] = name\n",
    "    results_df_tot = results_df_tot.append(_df)\n",
    "results_df_tot = results_df_tot.reset_index()\n",
    "pd.options.display.float_format = '{:0,.0f}'.format\n",
    "\n",
    "results_df_tot = results_df_tot[results_df_tot['index'] >= 0]\n",
    "_df = results_df_tot.pivot_table(index='equity_group',columns='index',values='HH_P')\n",
    "_df.rename(columns={0:'Not in Equity Group', 1: 'In Equity Group'}, inplace=True)\n",
    "_df.index.name = None\n",
    "_df.columns.name = None\n",
    "_df['Total Households'] = _df.sum(axis=1)\n",
    "_df_tot = _df.copy()\n"
   ]
  },
  {
   "cell_type": "markdown",
   "id": "7486a9a5",
   "metadata": {},
   "source": [
    "Percent of Households in Equity Group Also in the Buffer"
   ]
  },
  {
   "cell_type": "code",
   "execution_count": 168,
   "id": "48a57aaf",
   "metadata": {},
   "outputs": [
    {
     "data": {
      "text/html": [
       "<div>\n",
       "<style scoped>\n",
       "    .dataframe tbody tr th:only-of-type {\n",
       "        vertical-align: middle;\n",
       "    }\n",
       "\n",
       "    .dataframe tbody tr th {\n",
       "        vertical-align: top;\n",
       "    }\n",
       "\n",
       "    .dataframe thead th {\n",
       "        text-align: right;\n",
       "    }\n",
       "</style>\n",
       "<table border=\"1\" class=\"dataframe\">\n",
       "  <thead>\n",
       "    <tr style=\"text-align: right;\">\n",
       "      <th></th>\n",
       "      <th>% of Total Households in Buffer</th>\n",
       "    </tr>\n",
       "  </thead>\n",
       "  <tbody>\n",
       "    <tr>\n",
       "      <th>Elderly</th>\n",
       "      <td>11.5%</td>\n",
       "    </tr>\n",
       "    <tr>\n",
       "      <th>Poverty</th>\n",
       "      <td>18.0%</td>\n",
       "    </tr>\n",
       "    <tr>\n",
       "      <th>Race</th>\n",
       "      <td>19.0%</td>\n",
       "    </tr>\n",
       "    <tr>\n",
       "      <th>Youth</th>\n",
       "      <td>10.1%</td>\n",
       "    </tr>\n",
       "    <tr>\n",
       "      <th>All Households</th>\n",
       "      <td>14.4%</td>\n",
       "    </tr>\n",
       "  </tbody>\n",
       "</table>\n",
       "</div>"
      ],
      "text/plain": [
       "                % of Total Households in Buffer\n",
       "Elderly                                   11.5%\n",
       "Poverty                                   18.0%\n",
       "Race                                      19.0%\n",
       "Youth                                     10.1%\n",
       "All Households                            14.4%"
      ]
     },
     "execution_count": 168,
     "metadata": {},
     "output_type": "execute_result"
    }
   ],
   "source": [
    "_df = _df_tot.merge(_df_buffer, left_index=True, right_index=True, suffixes=['_tot','_buffer'])\n",
    "\n",
    "pd.options.display.float_format = '{:0,.1%}'.format\n",
    "_df_compare = pd.DataFrame(_df['In Equity Group_buffer']/_df['In Equity Group_tot'], columns=['% of Total Households in Buffer'])\n",
    "_df_compare.loc['All Households'] = (_df['Total Households_buffer']/_df['Total Households_tot'])[0]\n",
    "_df_compare"
   ]
  }
 ],
 "metadata": {
  "kernelspec": {
   "display_name": "Python 3",
   "language": "python",
   "name": "python3"
  },
  "language_info": {
   "codemirror_mode": {
    "name": "ipython",
    "version": 3
   },
   "file_extension": ".py",
   "mimetype": "text/x-python",
   "name": "python",
   "nbconvert_exporter": "python",
   "pygments_lexer": "ipython3",
   "version": "3.7.10"
  }
 },
 "nbformat": 4,
 "nbformat_minor": 5
}
