{
 "cells": [
  {
   "cell_type": "code",
   "execution_count": 1,
   "metadata": {
    "collapsed": true
   },
   "outputs": [],
   "source": [
    "# Emissions Calculation by Vehicle Type\n"
   ]
  },
  {
   "cell_type": "code",
   "execution_count": 261,
   "metadata": {
    "collapsed": true
   },
   "outputs": [],
   "source": [
    "import pandas as pd"
   ]
  },
  {
   "cell_type": "code",
   "execution_count": 356,
   "metadata": {
    "collapsed": true
   },
   "outputs": [],
   "source": [
    "def grams_to_tons(value):\n",
    "\t\"\"\" Convert grams to tons.\"\"\"\n",
    "\n",
    "\tvalue = value/453.592\n",
    "\tvalue = value/2000\n",
    "\n",
    "\treturn value"
   ]
  },
  {
   "cell_type": "code",
   "execution_count": 370,
   "metadata": {
    "collapsed": true
   },
   "outputs": [],
   "source": [
    "def calculate_tons(df):\n",
    "    df.rename(columns={'geog_name':'county', 'avgspeedbinId': 'avgSpeedBinID', 'roadtypeId': 'roadTypeID', 'hourId': 'hourID'},\n",
    "              inplace=True)\n",
    "\n",
    "    # Calculate total VMT by vehicle group\n",
    "    df['light'] = df['sov_vmt']+df['hov2_vmt']+df['hov3_vmt']\n",
    "    df['medium'] = df['medium_truck_vmt']\n",
    "    df['heavy'] = df['heavy_truck_vmt']\n",
    "    # What about buses??\n",
    "    df.drop(['sov_vmt','hov2_vmt','hov3_vmt','medium_truck_vmt','heavy_truck_vmt','bus_vmt'], inplace=True, axis=1)\n",
    "\n",
    "    # Melt to pivot vmt by vehicle type columns as rows\n",
    "    df = pd.melt(df, id_vars=['avgSpeedBinID','roadTypeID','hourID','county'], var_name='veh_type', value_name='vmt')\n",
    "\n",
    "    newdf = pd.merge(df, df_rates, on=['avgSpeedBinID','roadTypeID','hourID','county','veh_type'], how='left', left_index=False)\n",
    "    # Calculate total grams of emission \n",
    "    newdf['grams_tot'] = newdf['grams_per_mile']*newdf['vmt']\n",
    "    newdf['tons_tot'] = grams_to_tons(newdf['grams_tot'])\n",
    "    \n",
    "    return newdf"
   ]
  },
  {
   "cell_type": "code",
   "execution_count": 371,
   "metadata": {
    "collapsed": true
   },
   "outputs": [],
   "source": [
    "# Load rate files\n",
    "df_rates = pd.DataFrame()\n",
    "for county in ['King','Kitsap','Pierce','Snohomish']:\n",
    "#     df1 = pd.read_csv(r'Y:\\Air Quality\\2018 Update MOVES\\RawOutput\\2040ghg\\\\' + county + '_2040_light.csv')\n",
    "    df1 = pd.read_csv(r'Y:\\Air Quality\\Vision2050\\2050\\output\\by_veh_type\\\\'+county.lower()+'_2050_grouped_light.csv')\n",
    "    df1['veh_type'] = 'light'\n",
    "    df1['county'] = county\n",
    "#     df2 = pd.read_csv(r'Y:\\Air Quality\\2018 Update MOVES\\RawOutput\\2040ghg\\\\' + county + '_2040_med.csv')\n",
    "    df2 = pd.read_csv(r'Y:\\Air Quality\\Vision2050\\2050\\output\\by_veh_type\\\\'+county.lower()+'_2050_grouped_medium.csv')\n",
    "    df2['veh_type'] = 'medium'\n",
    "    df2['county'] = county\n",
    "#     df3 = pd.read_csv(r'Y:\\Air Quality\\2018 Update MOVES\\RawOutput\\2040ghg\\\\' + county + '_2040_heavy.csv')\n",
    "    df3 = pd.read_csv(r'Y:\\Air Quality\\Vision2050\\2050\\output\\by_veh_type\\\\'+county.lower()+'_2050_grouped_heavy.csv')\n",
    "    df3['veh_type'] = 'heavy'\n",
    "    df3['county'] = county\n",
    "    \n",
    "    df_rates = df_rates.append(df1)\n",
    "    df_rates = df_rates.append(df2)\n",
    "    df_rates = df_rates.append(df3)\n",
    "\n",
    "df_rates.rename(columns={'sum(ratePerDistance)': 'grams_per_mile'}, inplace=True)\n",
    "# df_rates.rename(columns={'avgspeedbinId': 'avgSpeedBinID', 'roadtypeId': 'roadTypeID', 'hourId': 'hourID',\n",
    "#                         'gramsPerMile': 'grams_per_mile'}, inplace=True)"
   ]
  },
  {
   "cell_type": "markdown",
   "metadata": {},
   "source": [
    "# Interzonal Trips"
   ]
  },
  {
   "cell_type": "code",
   "execution_count": 415,
   "metadata": {
    "collapsed": true
   },
   "outputs": [],
   "source": [
    "df_inter = pd.read_csv(r'L:\\vision2050\\soundcast\\integrated\\final_runs\\tod\\tod_run_8.run_2018_10_29_15_01\\2050\\outputs\\emissions\\interzonal_vmt_grouped.csv')\n",
    "df_inter = calculate_tons(df_inter)"
   ]
  },
  {
   "cell_type": "markdown",
   "metadata": {
    "collapsed": true
   },
   "source": [
    "# Intrazonal Trips"
   ]
  },
  {
   "cell_type": "code",
   "execution_count": 498,
   "metadata": {},
   "outputs": [],
   "source": [
    "df_intra = pd.read_csv(r'L:\\vision2050\\soundcast\\integrated\\final_runs\\tod\\tod_run_8.run_2018_10_29_15_01\\2050\\outputs\\emissions\\intrazonal_vmt_grouped.csv')\n",
    "df_intra.rename(columns={'vehicle_type':'veh_type', 'VMT': 'vmt', 'hourId': 'hourID', 'geog_name': 'county'},inplace=True)\n",
    "df_intra.drop('tod', axis=1, inplace=True)\n",
    "\n",
    "df_intra_light = df_intra[df_intra['veh_type'].isin(['sov','hov2','hov3'])]\n",
    "df_intra_light = df_intra_light.groupby(['county','hourID']).sum()[['vmt']].reset_index()\n",
    "df_intra_light['veh_type'] = 'light'\n",
    "\n",
    "df_intra_medium = df_intra[df_intra['veh_type'] == 'mediumtruck']\n",
    "df_intra_medium['veh_type'] = 'medium'\n",
    "df_intra_heavy = df_intra[df_intra['veh_type'] == 'heavytruck']\n",
    "df_intra_heavy['veh_type'] = 'heavy'\n",
    "\n",
    "df_intra = df_intra_light.append(df_intra_medium)\n",
    "df_intra = df_intra.append(df_intra_heavy)\n",
    "\n",
    "# For intrazonals, assume standard speed bin and roadway type for all intrazonal trips\n",
    "speedbin = 4\n",
    "roadtype = 5\n",
    "\n",
    "iz_rates = df_rates[(df_rates['avgSpeedBinID'] == speedbin) &\n",
    "                    (df_rates['roadTypeID'] == roadtype)]\n",
    "\n",
    "df_intra = pd.merge(df_intra, iz_rates, on=['hourID','county','veh_type'], how='left', left_index=False)\n",
    "# Calculate total grams of emission \n",
    "df_intra['grams_tot'] = df_intra['grams_per_mile']*df_intra['vmt']\n",
    "df_intra['tons_tot'] = grams_to_tons(df_intra['grams_tot'])"
   ]
  },
  {
   "cell_type": "code",
   "execution_count": 501,
   "metadata": {},
   "outputs": [
    {
     "data": {
      "text/plain": [
       "153.3029325439923"
      ]
     },
     "execution_count": 501,
     "metadata": {},
     "output_type": "execute_result"
    }
   ],
   "source": [
    "df_intra[df_intra['pollutantID'] == 98]['tons_tot'].sum()"
   ]
  },
  {
   "cell_type": "markdown",
   "metadata": {},
   "source": [
    "# Starts"
   ]
  },
  {
   "cell_type": "code",
   "execution_count": null,
   "metadata": {
    "collapsed": true
   },
   "outputs": [],
   "source": []
  }
 ],
 "metadata": {
  "kernelspec": {
   "display_name": "Python 2",
   "language": "python",
   "name": "python2"
  },
  "language_info": {
   "codemirror_mode": {
    "name": "ipython",
    "version": 2
   },
   "file_extension": ".py",
   "mimetype": "text/x-python",
   "name": "python",
   "nbconvert_exporter": "python",
   "pygments_lexer": "ipython2",
   "version": "2.7.14"
  }
 },
 "nbformat": 4,
 "nbformat_minor": 2
}
