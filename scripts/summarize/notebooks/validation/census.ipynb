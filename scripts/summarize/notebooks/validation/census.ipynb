{
 "cells": [
  {
   "cell_type": "code",
   "execution_count": 1,
   "metadata": {},
   "outputs": [],
   "source": [
    "import os, sys, time\n",
    "from scipy import stats\n",
    "import warnings\n",
    "warnings.simplefilter(action='ignore', category=FutureWarning)\n",
    "import pandas as pd\n",
    "pd.options.mode.chained_assignment = None\n",
    "import numpy as np\n",
    "%matplotlib inline\n",
    "\n",
    "from IPython.display import display, HTML\n",
    "\n",
    "import pandas as pd\n",
    "import numpy as np\n",
    "%matplotlib inline\n",
    "\n",
    "from IPython.display import display, HTML\n",
    "\n",
    "if (sys.version_info < (3, 0)):\n",
    "    HTML('''<script>\n",
    "    code_show=true; \n",
    "    function code_toggle() {\n",
    "     if (code_show){\n",
    "     $('div.input').hide();\n",
    "     } else {\n",
    "     $('div.input').show();\n",
    "     }\n",
    "     code_show = !code_show\n",
    "    } \n",
    "    $( document ).ready(code_toggle);\n",
    "    </script>\n",
    "    <form action=\"javascript:code_toggle()\"><input type=\"submit\" value=\"Click here to toggle on/off the raw code.\"></form>''')\n"
   ]
  },
  {
   "cell_type": "code",
   "execution_count": 2,
   "metadata": {},
   "outputs": [
    {
     "name": "stdout",
     "output_type": "stream",
     "text": [
      "Summary run: Fri, 10 Jun 2022 10:36\n"
     ]
    }
   ],
   "source": [
    "# Create timestamp to show when this summary was run\n",
    "print('Summary run: ' + time.strftime(\"%a, %d %b %Y %H:%M\"))"
   ]
  },
  {
   "cell_type": "code",
   "execution_count": 3,
   "metadata": {},
   "outputs": [],
   "source": [
    "pd.options.display.float_format = '{:0,.2f}'.format\n",
    "format_percent = \"{:,.2%}\".format\n",
    "relative_path = '../../../../outputs'"
   ]
  },
  {
   "cell_type": "markdown",
   "metadata": {},
   "source": [
    "# Commute Mode by Workplace Geography"
   ]
  },
  {
   "cell_type": "code",
   "execution_count": 4,
   "metadata": {},
   "outputs": [
    {
     "data": {
      "text/html": [
       "<div>\n",
       "<style scoped>\n",
       "    .dataframe tbody tr th:only-of-type {\n",
       "        vertical-align: middle;\n",
       "    }\n",
       "\n",
       "    .dataframe tbody tr th {\n",
       "        vertical-align: top;\n",
       "    }\n",
       "\n",
       "    .dataframe thead th {\n",
       "        text-align: right;\n",
       "    }\n",
       "</style>\n",
       "<table border=\"1\" class=\"dataframe\">\n",
       "  <thead>\n",
       "    <tr style=\"text-align: right;\">\n",
       "      <th></th>\n",
       "      <th>work_place</th>\n",
       "      <th>mode</th>\n",
       "      <th>modeled_mode_total</th>\n",
       "      <th>observed_mode_total</th>\n",
       "      <th>percent_diff</th>\n",
       "      <th>diff</th>\n",
       "      <th>modeled_mode_share</th>\n",
       "      <th>observed_mode_share</th>\n",
       "    </tr>\n",
       "  </thead>\n",
       "  <tbody>\n",
       "    <tr>\n",
       "      <th>0</th>\n",
       "      <td>Auburn</td>\n",
       "      <td>auto</td>\n",
       "      <td>37,285.00</td>\n",
       "      <td>33431</td>\n",
       "      <td>0.12</td>\n",
       "      <td>3,854.00</td>\n",
       "      <td>0.95</td>\n",
       "      <td>0.94</td>\n",
       "    </tr>\n",
       "    <tr>\n",
       "      <th>1</th>\n",
       "      <td>Auburn</td>\n",
       "      <td>transit</td>\n",
       "      <td>1,305.00</td>\n",
       "      <td>691</td>\n",
       "      <td>0.89</td>\n",
       "      <td>614.00</td>\n",
       "      <td>0.03</td>\n",
       "      <td>0.02</td>\n",
       "    </tr>\n",
       "    <tr>\n",
       "      <th>2</th>\n",
       "      <td>Auburn</td>\n",
       "      <td>walk_and_bike</td>\n",
       "      <td>666.00</td>\n",
       "      <td>1355</td>\n",
       "      <td>-0.51</td>\n",
       "      <td>-689.00</td>\n",
       "      <td>0.02</td>\n",
       "      <td>0.04</td>\n",
       "    </tr>\n",
       "    <tr>\n",
       "      <th>3</th>\n",
       "      <td>Bellevue</td>\n",
       "      <td>auto</td>\n",
       "      <td>103,267.00</td>\n",
       "      <td>96761</td>\n",
       "      <td>0.07</td>\n",
       "      <td>6,506.00</td>\n",
       "      <td>0.89</td>\n",
       "      <td>0.84</td>\n",
       "    </tr>\n",
       "    <tr>\n",
       "      <th>4</th>\n",
       "      <td>Bellevue</td>\n",
       "      <td>transit</td>\n",
       "      <td>6,790.00</td>\n",
       "      <td>12505</td>\n",
       "      <td>-0.46</td>\n",
       "      <td>-5,715.00</td>\n",
       "      <td>0.06</td>\n",
       "      <td>0.11</td>\n",
       "    </tr>\n",
       "    <tr>\n",
       "      <th>5</th>\n",
       "      <td>Bellevue</td>\n",
       "      <td>walk_and_bike</td>\n",
       "      <td>6,388.00</td>\n",
       "      <td>6464</td>\n",
       "      <td>-0.01</td>\n",
       "      <td>-76.00</td>\n",
       "      <td>0.05</td>\n",
       "      <td>0.06</td>\n",
       "    </tr>\n",
       "    <tr>\n",
       "      <th>6</th>\n",
       "      <td>Everett</td>\n",
       "      <td>auto</td>\n",
       "      <td>61,898.00</td>\n",
       "      <td>81741</td>\n",
       "      <td>-0.24</td>\n",
       "      <td>-19,843.00</td>\n",
       "      <td>0.94</td>\n",
       "      <td>0.92</td>\n",
       "    </tr>\n",
       "    <tr>\n",
       "      <th>7</th>\n",
       "      <td>Everett</td>\n",
       "      <td>transit</td>\n",
       "      <td>1,476.00</td>\n",
       "      <td>2766</td>\n",
       "      <td>-0.47</td>\n",
       "      <td>-1,290.00</td>\n",
       "      <td>0.02</td>\n",
       "      <td>0.03</td>\n",
       "    </tr>\n",
       "    <tr>\n",
       "      <th>8</th>\n",
       "      <td>Everett</td>\n",
       "      <td>walk_and_bike</td>\n",
       "      <td>2,483.00</td>\n",
       "      <td>3961</td>\n",
       "      <td>-0.37</td>\n",
       "      <td>-1,478.00</td>\n",
       "      <td>0.04</td>\n",
       "      <td>0.04</td>\n",
       "    </tr>\n",
       "    <tr>\n",
       "      <th>9</th>\n",
       "      <td>Federal Way</td>\n",
       "      <td>auto</td>\n",
       "      <td>21,312.00</td>\n",
       "      <td>27590</td>\n",
       "      <td>-0.23</td>\n",
       "      <td>-6,278.00</td>\n",
       "      <td>0.94</td>\n",
       "      <td>0.93</td>\n",
       "    </tr>\n",
       "    <tr>\n",
       "      <th>10</th>\n",
       "      <td>Federal Way</td>\n",
       "      <td>transit</td>\n",
       "      <td>727.00</td>\n",
       "      <td>110</td>\n",
       "      <td>5.61</td>\n",
       "      <td>617.00</td>\n",
       "      <td>0.03</td>\n",
       "      <td>0.00</td>\n",
       "    </tr>\n",
       "    <tr>\n",
       "      <th>11</th>\n",
       "      <td>Federal Way</td>\n",
       "      <td>walk_and_bike</td>\n",
       "      <td>670.00</td>\n",
       "      <td>1828</td>\n",
       "      <td>-0.63</td>\n",
       "      <td>-1,158.00</td>\n",
       "      <td>0.03</td>\n",
       "      <td>0.06</td>\n",
       "    </tr>\n",
       "    <tr>\n",
       "      <th>12</th>\n",
       "      <td>Kent</td>\n",
       "      <td>auto</td>\n",
       "      <td>69,121.00</td>\n",
       "      <td>55178</td>\n",
       "      <td>0.25</td>\n",
       "      <td>13,943.00</td>\n",
       "      <td>0.95</td>\n",
       "      <td>0.92</td>\n",
       "    </tr>\n",
       "    <tr>\n",
       "      <th>13</th>\n",
       "      <td>Kent</td>\n",
       "      <td>transit</td>\n",
       "      <td>2,955.00</td>\n",
       "      <td>2837</td>\n",
       "      <td>0.04</td>\n",
       "      <td>118.00</td>\n",
       "      <td>0.04</td>\n",
       "      <td>0.05</td>\n",
       "    </tr>\n",
       "    <tr>\n",
       "      <th>14</th>\n",
       "      <td>Kent</td>\n",
       "      <td>walk_and_bike</td>\n",
       "      <td>924.00</td>\n",
       "      <td>1647</td>\n",
       "      <td>-0.44</td>\n",
       "      <td>-723.00</td>\n",
       "      <td>0.01</td>\n",
       "      <td>0.03</td>\n",
       "    </tr>\n",
       "    <tr>\n",
       "      <th>15</th>\n",
       "      <td>Kirkland</td>\n",
       "      <td>auto</td>\n",
       "      <td>35,863.00</td>\n",
       "      <td>33893</td>\n",
       "      <td>0.06</td>\n",
       "      <td>1,970.00</td>\n",
       "      <td>0.94</td>\n",
       "      <td>0.87</td>\n",
       "    </tr>\n",
       "    <tr>\n",
       "      <th>16</th>\n",
       "      <td>Kirkland</td>\n",
       "      <td>transit</td>\n",
       "      <td>1,027.00</td>\n",
       "      <td>3409</td>\n",
       "      <td>-0.70</td>\n",
       "      <td>-2,382.00</td>\n",
       "      <td>0.03</td>\n",
       "      <td>0.09</td>\n",
       "    </tr>\n",
       "    <tr>\n",
       "      <th>17</th>\n",
       "      <td>Kirkland</td>\n",
       "      <td>walk_and_bike</td>\n",
       "      <td>1,184.00</td>\n",
       "      <td>1766</td>\n",
       "      <td>-0.33</td>\n",
       "      <td>-582.00</td>\n",
       "      <td>0.03</td>\n",
       "      <td>0.05</td>\n",
       "    </tr>\n",
       "    <tr>\n",
       "      <th>18</th>\n",
       "      <td>Redmond</td>\n",
       "      <td>auto</td>\n",
       "      <td>70,072.00</td>\n",
       "      <td>70825</td>\n",
       "      <td>-0.01</td>\n",
       "      <td>-753.00</td>\n",
       "      <td>0.93</td>\n",
       "      <td>0.85</td>\n",
       "    </tr>\n",
       "    <tr>\n",
       "      <th>19</th>\n",
       "      <td>Redmond</td>\n",
       "      <td>transit</td>\n",
       "      <td>3,484.00</td>\n",
       "      <td>8841</td>\n",
       "      <td>-0.61</td>\n",
       "      <td>-5,357.00</td>\n",
       "      <td>0.05</td>\n",
       "      <td>0.11</td>\n",
       "    </tr>\n",
       "    <tr>\n",
       "      <th>20</th>\n",
       "      <td>Redmond</td>\n",
       "      <td>walk_and_bike</td>\n",
       "      <td>2,072.00</td>\n",
       "      <td>4137</td>\n",
       "      <td>-0.50</td>\n",
       "      <td>-2,065.00</td>\n",
       "      <td>0.03</td>\n",
       "      <td>0.05</td>\n",
       "    </tr>\n",
       "    <tr>\n",
       "      <th>21</th>\n",
       "      <td>Renton</td>\n",
       "      <td>auto</td>\n",
       "      <td>46,046.00</td>\n",
       "      <td>56760</td>\n",
       "      <td>-0.19</td>\n",
       "      <td>-10,714.00</td>\n",
       "      <td>0.93</td>\n",
       "      <td>0.91</td>\n",
       "    </tr>\n",
       "    <tr>\n",
       "      <th>22</th>\n",
       "      <td>Renton</td>\n",
       "      <td>transit</td>\n",
       "      <td>2,303.00</td>\n",
       "      <td>2659</td>\n",
       "      <td>-0.13</td>\n",
       "      <td>-356.00</td>\n",
       "      <td>0.05</td>\n",
       "      <td>0.04</td>\n",
       "    </tr>\n",
       "    <tr>\n",
       "      <th>23</th>\n",
       "      <td>Renton</td>\n",
       "      <td>walk_and_bike</td>\n",
       "      <td>1,086.00</td>\n",
       "      <td>3287</td>\n",
       "      <td>-0.67</td>\n",
       "      <td>-2,201.00</td>\n",
       "      <td>0.02</td>\n",
       "      <td>0.05</td>\n",
       "    </tr>\n",
       "    <tr>\n",
       "      <th>24</th>\n",
       "      <td>Seattle</td>\n",
       "      <td>auto</td>\n",
       "      <td>382,221.00</td>\n",
       "      <td>303129</td>\n",
       "      <td>0.26</td>\n",
       "      <td>79,092.00</td>\n",
       "      <td>0.72</td>\n",
       "      <td>0.55</td>\n",
       "    </tr>\n",
       "    <tr>\n",
       "      <th>25</th>\n",
       "      <td>Seattle</td>\n",
       "      <td>transit</td>\n",
       "      <td>91,295.00</td>\n",
       "      <td>173739</td>\n",
       "      <td>-0.47</td>\n",
       "      <td>-82,444.00</td>\n",
       "      <td>0.17</td>\n",
       "      <td>0.32</td>\n",
       "    </tr>\n",
       "    <tr>\n",
       "      <th>26</th>\n",
       "      <td>Seattle</td>\n",
       "      <td>walk_and_bike</td>\n",
       "      <td>58,373.00</td>\n",
       "      <td>74582</td>\n",
       "      <td>-0.22</td>\n",
       "      <td>-16,209.00</td>\n",
       "      <td>0.11</td>\n",
       "      <td>0.14</td>\n",
       "    </tr>\n",
       "    <tr>\n",
       "      <th>27</th>\n",
       "      <td>Tacoma</td>\n",
       "      <td>auto</td>\n",
       "      <td>85,673.00</td>\n",
       "      <td>105163</td>\n",
       "      <td>-0.19</td>\n",
       "      <td>-19,490.00</td>\n",
       "      <td>0.92</td>\n",
       "      <td>0.94</td>\n",
       "    </tr>\n",
       "    <tr>\n",
       "      <th>28</th>\n",
       "      <td>Tacoma</td>\n",
       "      <td>transit</td>\n",
       "      <td>2,375.00</td>\n",
       "      <td>3199</td>\n",
       "      <td>-0.26</td>\n",
       "      <td>-824.00</td>\n",
       "      <td>0.03</td>\n",
       "      <td>0.03</td>\n",
       "    </tr>\n",
       "    <tr>\n",
       "      <th>29</th>\n",
       "      <td>Tacoma</td>\n",
       "      <td>walk_and_bike</td>\n",
       "      <td>4,743.00</td>\n",
       "      <td>3929</td>\n",
       "      <td>0.21</td>\n",
       "      <td>814.00</td>\n",
       "      <td>0.05</td>\n",
       "      <td>0.03</td>\n",
       "    </tr>\n",
       "  </tbody>\n",
       "</table>\n",
       "</div>"
      ],
      "text/plain": [
       "     work_place           mode  modeled_mode_total  observed_mode_total  \\\n",
       "0        Auburn           auto           37,285.00                33431   \n",
       "1        Auburn        transit            1,305.00                  691   \n",
       "2        Auburn  walk_and_bike              666.00                 1355   \n",
       "3      Bellevue           auto          103,267.00                96761   \n",
       "4      Bellevue        transit            6,790.00                12505   \n",
       "5      Bellevue  walk_and_bike            6,388.00                 6464   \n",
       "6       Everett           auto           61,898.00                81741   \n",
       "7       Everett        transit            1,476.00                 2766   \n",
       "8       Everett  walk_and_bike            2,483.00                 3961   \n",
       "9   Federal Way           auto           21,312.00                27590   \n",
       "10  Federal Way        transit              727.00                  110   \n",
       "11  Federal Way  walk_and_bike              670.00                 1828   \n",
       "12         Kent           auto           69,121.00                55178   \n",
       "13         Kent        transit            2,955.00                 2837   \n",
       "14         Kent  walk_and_bike              924.00                 1647   \n",
       "15     Kirkland           auto           35,863.00                33893   \n",
       "16     Kirkland        transit            1,027.00                 3409   \n",
       "17     Kirkland  walk_and_bike            1,184.00                 1766   \n",
       "18      Redmond           auto           70,072.00                70825   \n",
       "19      Redmond        transit            3,484.00                 8841   \n",
       "20      Redmond  walk_and_bike            2,072.00                 4137   \n",
       "21       Renton           auto           46,046.00                56760   \n",
       "22       Renton        transit            2,303.00                 2659   \n",
       "23       Renton  walk_and_bike            1,086.00                 3287   \n",
       "24      Seattle           auto          382,221.00               303129   \n",
       "25      Seattle        transit           91,295.00               173739   \n",
       "26      Seattle  walk_and_bike           58,373.00                74582   \n",
       "27       Tacoma           auto           85,673.00               105163   \n",
       "28       Tacoma        transit            2,375.00                 3199   \n",
       "29       Tacoma  walk_and_bike            4,743.00                 3929   \n",
       "\n",
       "    percent_diff       diff  modeled_mode_share  observed_mode_share  \n",
       "0           0.12   3,854.00                0.95                 0.94  \n",
       "1           0.89     614.00                0.03                 0.02  \n",
       "2          -0.51    -689.00                0.02                 0.04  \n",
       "3           0.07   6,506.00                0.89                 0.84  \n",
       "4          -0.46  -5,715.00                0.06                 0.11  \n",
       "5          -0.01     -76.00                0.05                 0.06  \n",
       "6          -0.24 -19,843.00                0.94                 0.92  \n",
       "7          -0.47  -1,290.00                0.02                 0.03  \n",
       "8          -0.37  -1,478.00                0.04                 0.04  \n",
       "9          -0.23  -6,278.00                0.94                 0.93  \n",
       "10          5.61     617.00                0.03                 0.00  \n",
       "11         -0.63  -1,158.00                0.03                 0.06  \n",
       "12          0.25  13,943.00                0.95                 0.92  \n",
       "13          0.04     118.00                0.04                 0.05  \n",
       "14         -0.44    -723.00                0.01                 0.03  \n",
       "15          0.06   1,970.00                0.94                 0.87  \n",
       "16         -0.70  -2,382.00                0.03                 0.09  \n",
       "17         -0.33    -582.00                0.03                 0.05  \n",
       "18         -0.01    -753.00                0.93                 0.85  \n",
       "19         -0.61  -5,357.00                0.05                 0.11  \n",
       "20         -0.50  -2,065.00                0.03                 0.05  \n",
       "21         -0.19 -10,714.00                0.93                 0.91  \n",
       "22         -0.13    -356.00                0.05                 0.04  \n",
       "23         -0.67  -2,201.00                0.02                 0.05  \n",
       "24          0.26  79,092.00                0.72                 0.55  \n",
       "25         -0.47 -82,444.00                0.17                 0.32  \n",
       "26         -0.22 -16,209.00                0.11                 0.14  \n",
       "27         -0.19 -19,490.00                0.92                 0.94  \n",
       "28         -0.26    -824.00                0.03                 0.03  \n",
       "29          0.21     814.00                0.05                 0.03  "
      ]
     },
     "execution_count": 4,
     "metadata": {},
     "output_type": "execute_result"
    }
   ],
   "source": [
    "df = pd.read_csv(os.path.join(relative_path,'validation','acs_commute_share_by_workplace_geog.csv'))\n",
    "\n",
    "# Add mode share by work_place field\n",
    "_df = df.groupby('work_place').sum()[['modeled','observed']].reset_index()\n",
    "_df = _df.merge(df, on='work_place', suffixes=['_geog_total','_mode_total'])\n",
    "_df['observed_mode_share'] = _df['observed_mode_total']/_df['observed_geog_total']\n",
    "_df['modeled_mode_share'] = _df['modeled_mode_total']/_df['modeled_geog_total']\n",
    "_df[['work_place','mode','modeled_mode_total','observed_mode_total','percent_diff','diff','modeled_mode_share','observed_mode_share']]"
   ]
  },
  {
   "cell_type": "code",
   "execution_count": 5,
   "metadata": {},
   "outputs": [
    {
     "name": "stdout",
     "output_type": "stream",
     "text": [
      "r^2 : 0.9539785291300426\n"
     ]
    },
    {
     "data": {
      "image/png": "[encoded data removed]",
      "text/plain": [
       "<Figure size 432x288 with 1 Axes>"
      ]
     },
     "metadata": {
      "needs_background": "light"
     },
     "output_type": "display_data"
    }
   ],
   "source": [
    "ax = df.plot(kind='scatter', x='observed', y='modeled')\n",
    "lim = df[['observed','modeled']].max().max()*1.05\n",
    "ax.set_ylim(0,lim)\n",
    "ax.set_xlim(0,lim)\n",
    "x = np.linspace(*ax.get_xlim())\n",
    "ax.plot(x, x)\n",
    "slope, intercept, r_value, p_value, std_err = stats.linregress(df['observed'],df['modeled'])\n",
    "print('r^2 : ' + str(r_value))"
   ]
  },
  {
   "cell_type": "markdown",
   "metadata": {},
   "source": [
    "# Commute Mode Shares by Work Place\n",
    "----"
   ]
  },
  {
   "cell_type": "code",
   "execution_count": 6,
   "metadata": {},
   "outputs": [],
   "source": [
    "df_tot = df.groupby(['work_place']).sum()[['modeled','observed']].reset_index()\n",
    "df_shares = df.merge(df_tot, on='work_place', suffixes=['','_total'])\n",
    "df_shares['mode_share_modeled'] = df_shares['modeled']/df_shares['modeled_total']\n",
    "df_shares['mode_share_observed'] = df_shares['observed']/df_shares['observed_total']\n",
    "df_shares.rename(columns={'mode_share_modeled': 'modeled', 'mode_share_observed': 'observed',\n",
    "                         'modeled': '_', 'observed': '__'}, inplace=True)\n",
    "df_shares = df_shares[['work_place','modeled','observed','mode']]\n",
    "df_shares['percent_diff'] = (df_shares['modeled']-df_shares['observed'])/df_shares['observed']\n",
    "df_shares['diff'] = df_shares['modeled']-df_shares['observed']"
   ]
  },
  {
   "cell_type": "markdown",
   "metadata": {},
   "source": [
    "## Auto"
   ]
  },
  {
   "cell_type": "code",
   "execution_count": 7,
   "metadata": {},
   "outputs": [
    {
     "data": {
      "text/html": [
       "<div>\n",
       "<style scoped>\n",
       "    .dataframe tbody tr th:only-of-type {\n",
       "        vertical-align: middle;\n",
       "    }\n",
       "\n",
       "    .dataframe tbody tr th {\n",
       "        vertical-align: top;\n",
       "    }\n",
       "\n",
       "    .dataframe thead th {\n",
       "        text-align: right;\n",
       "    }\n",
       "</style>\n",
       "<table border=\"1\" class=\"dataframe\">\n",
       "  <thead>\n",
       "    <tr style=\"text-align: right;\">\n",
       "      <th></th>\n",
       "      <th>work_place</th>\n",
       "      <th>modeled</th>\n",
       "      <th>observed</th>\n",
       "      <th>mode</th>\n",
       "      <th>percent_diff</th>\n",
       "      <th>diff</th>\n",
       "    </tr>\n",
       "  </thead>\n",
       "  <tbody>\n",
       "    <tr>\n",
       "      <th>0</th>\n",
       "      <td>Auburn</td>\n",
       "      <td>0.95</td>\n",
       "      <td>0.94</td>\n",
       "      <td>auto</td>\n",
       "      <td>0.01</td>\n",
       "      <td>0.01</td>\n",
       "    </tr>\n",
       "    <tr>\n",
       "      <th>3</th>\n",
       "      <td>Bellevue</td>\n",
       "      <td>0.89</td>\n",
       "      <td>0.84</td>\n",
       "      <td>auto</td>\n",
       "      <td>0.06</td>\n",
       "      <td>0.05</td>\n",
       "    </tr>\n",
       "    <tr>\n",
       "      <th>6</th>\n",
       "      <td>Everett</td>\n",
       "      <td>0.94</td>\n",
       "      <td>0.92</td>\n",
       "      <td>auto</td>\n",
       "      <td>0.02</td>\n",
       "      <td>0.02</td>\n",
       "    </tr>\n",
       "    <tr>\n",
       "      <th>9</th>\n",
       "      <td>Federal Way</td>\n",
       "      <td>0.94</td>\n",
       "      <td>0.93</td>\n",
       "      <td>auto</td>\n",
       "      <td>0.00</td>\n",
       "      <td>0.00</td>\n",
       "    </tr>\n",
       "    <tr>\n",
       "      <th>12</th>\n",
       "      <td>Kent</td>\n",
       "      <td>0.95</td>\n",
       "      <td>0.92</td>\n",
       "      <td>auto</td>\n",
       "      <td>0.02</td>\n",
       "      <td>0.02</td>\n",
       "    </tr>\n",
       "    <tr>\n",
       "      <th>15</th>\n",
       "      <td>Kirkland</td>\n",
       "      <td>0.94</td>\n",
       "      <td>0.87</td>\n",
       "      <td>auto</td>\n",
       "      <td>0.09</td>\n",
       "      <td>0.07</td>\n",
       "    </tr>\n",
       "    <tr>\n",
       "      <th>18</th>\n",
       "      <td>Redmond</td>\n",
       "      <td>0.93</td>\n",
       "      <td>0.85</td>\n",
       "      <td>auto</td>\n",
       "      <td>0.10</td>\n",
       "      <td>0.08</td>\n",
       "    </tr>\n",
       "    <tr>\n",
       "      <th>21</th>\n",
       "      <td>Renton</td>\n",
       "      <td>0.93</td>\n",
       "      <td>0.91</td>\n",
       "      <td>auto</td>\n",
       "      <td>0.03</td>\n",
       "      <td>0.03</td>\n",
       "    </tr>\n",
       "    <tr>\n",
       "      <th>24</th>\n",
       "      <td>Seattle</td>\n",
       "      <td>0.72</td>\n",
       "      <td>0.55</td>\n",
       "      <td>auto</td>\n",
       "      <td>0.31</td>\n",
       "      <td>0.17</td>\n",
       "    </tr>\n",
       "    <tr>\n",
       "      <th>27</th>\n",
       "      <td>Tacoma</td>\n",
       "      <td>0.92</td>\n",
       "      <td>0.94</td>\n",
       "      <td>auto</td>\n",
       "      <td>-0.01</td>\n",
       "      <td>-0.01</td>\n",
       "    </tr>\n",
       "  </tbody>\n",
       "</table>\n",
       "</div>"
      ],
      "text/plain": [
       "     work_place  modeled  observed  mode  percent_diff  diff\n",
       "0        Auburn     0.95      0.94  auto          0.01  0.01\n",
       "3      Bellevue     0.89      0.84  auto          0.06  0.05\n",
       "6       Everett     0.94      0.92  auto          0.02  0.02\n",
       "9   Federal Way     0.94      0.93  auto          0.00  0.00\n",
       "12         Kent     0.95      0.92  auto          0.02  0.02\n",
       "15     Kirkland     0.94      0.87  auto          0.09  0.07\n",
       "18      Redmond     0.93      0.85  auto          0.10  0.08\n",
       "21       Renton     0.93      0.91  auto          0.03  0.03\n",
       "24      Seattle     0.72      0.55  auto          0.31  0.17\n",
       "27       Tacoma     0.92      0.94  auto         -0.01 -0.01"
      ]
     },
     "execution_count": 7,
     "metadata": {},
     "output_type": "execute_result"
    }
   ],
   "source": [
    "_df = df_shares[df_shares['mode'] == 'auto']\n",
    "_df"
   ]
  },
  {
   "cell_type": "code",
   "execution_count": 8,
   "metadata": {},
   "outputs": [
    {
     "name": "stdout",
     "output_type": "stream",
     "text": [
      "r^2 : 0.9674402547174963\n"
     ]
    },
    {
     "data": {
      "image/png": "[encoded data removed]",
      "text/plain": [
       "<Figure size 432x288 with 1 Axes>"
      ]
     },
     "metadata": {
      "needs_background": "light"
     },
     "output_type": "display_data"
    }
   ],
   "source": [
    "ax = _df.plot(kind='scatter', x='observed', y='modeled')\n",
    "lim = _df[['observed','modeled']].max().max()*1.05\n",
    "ax.set_ylim(0,lim)\n",
    "ax.set_xlim(0,lim)\n",
    "x = np.linspace(*ax.get_xlim())\n",
    "ax.plot(x, x)\n",
    "slope, intercept, r_value, p_value, std_err = stats.linregress(_df['observed'],_df['modeled'])\n",
    "print('r^2 : ' + str(r_value))"
   ]
  },
  {
   "cell_type": "markdown",
   "metadata": {},
   "source": [
    "## Transit"
   ]
  },
  {
   "cell_type": "code",
   "execution_count": 9,
   "metadata": {},
   "outputs": [
    {
     "data": {
      "text/html": [
       "<div>\n",
       "<style scoped>\n",
       "    .dataframe tbody tr th:only-of-type {\n",
       "        vertical-align: middle;\n",
       "    }\n",
       "\n",
       "    .dataframe tbody tr th {\n",
       "        vertical-align: top;\n",
       "    }\n",
       "\n",
       "    .dataframe thead th {\n",
       "        text-align: right;\n",
       "    }\n",
       "</style>\n",
       "<table border=\"1\" class=\"dataframe\">\n",
       "  <thead>\n",
       "    <tr style=\"text-align: right;\">\n",
       "      <th></th>\n",
       "      <th>work_place</th>\n",
       "      <th>modeled</th>\n",
       "      <th>observed</th>\n",
       "      <th>mode</th>\n",
       "      <th>percent_diff</th>\n",
       "      <th>diff</th>\n",
       "    </tr>\n",
       "  </thead>\n",
       "  <tbody>\n",
       "    <tr>\n",
       "      <th>1</th>\n",
       "      <td>Auburn</td>\n",
       "      <td>0.03</td>\n",
       "      <td>0.02</td>\n",
       "      <td>transit</td>\n",
       "      <td>0.71</td>\n",
       "      <td>0.01</td>\n",
       "    </tr>\n",
       "    <tr>\n",
       "      <th>4</th>\n",
       "      <td>Bellevue</td>\n",
       "      <td>0.06</td>\n",
       "      <td>0.11</td>\n",
       "      <td>transit</td>\n",
       "      <td>-0.46</td>\n",
       "      <td>-0.05</td>\n",
       "    </tr>\n",
       "    <tr>\n",
       "      <th>7</th>\n",
       "      <td>Everett</td>\n",
       "      <td>0.02</td>\n",
       "      <td>0.03</td>\n",
       "      <td>transit</td>\n",
       "      <td>-0.28</td>\n",
       "      <td>-0.01</td>\n",
       "    </tr>\n",
       "    <tr>\n",
       "      <th>10</th>\n",
       "      <td>Federal Way</td>\n",
       "      <td>0.03</td>\n",
       "      <td>0.00</td>\n",
       "      <td>transit</td>\n",
       "      <td>7.59</td>\n",
       "      <td>0.03</td>\n",
       "    </tr>\n",
       "    <tr>\n",
       "      <th>13</th>\n",
       "      <td>Kent</td>\n",
       "      <td>0.04</td>\n",
       "      <td>0.05</td>\n",
       "      <td>transit</td>\n",
       "      <td>-0.15</td>\n",
       "      <td>-0.01</td>\n",
       "    </tr>\n",
       "    <tr>\n",
       "      <th>16</th>\n",
       "      <td>Kirkland</td>\n",
       "      <td>0.03</td>\n",
       "      <td>0.09</td>\n",
       "      <td>transit</td>\n",
       "      <td>-0.69</td>\n",
       "      <td>-0.06</td>\n",
       "    </tr>\n",
       "    <tr>\n",
       "      <th>19</th>\n",
       "      <td>Redmond</td>\n",
       "      <td>0.05</td>\n",
       "      <td>0.11</td>\n",
       "      <td>transit</td>\n",
       "      <td>-0.56</td>\n",
       "      <td>-0.06</td>\n",
       "    </tr>\n",
       "    <tr>\n",
       "      <th>22</th>\n",
       "      <td>Renton</td>\n",
       "      <td>0.05</td>\n",
       "      <td>0.04</td>\n",
       "      <td>transit</td>\n",
       "      <td>0.10</td>\n",
       "      <td>0.00</td>\n",
       "    </tr>\n",
       "    <tr>\n",
       "      <th>25</th>\n",
       "      <td>Seattle</td>\n",
       "      <td>0.17</td>\n",
       "      <td>0.32</td>\n",
       "      <td>transit</td>\n",
       "      <td>-0.46</td>\n",
       "      <td>-0.14</td>\n",
       "    </tr>\n",
       "    <tr>\n",
       "      <th>28</th>\n",
       "      <td>Tacoma</td>\n",
       "      <td>0.03</td>\n",
       "      <td>0.03</td>\n",
       "      <td>transit</td>\n",
       "      <td>-0.10</td>\n",
       "      <td>-0.00</td>\n",
       "    </tr>\n",
       "  </tbody>\n",
       "</table>\n",
       "</div>"
      ],
      "text/plain": [
       "     work_place  modeled  observed     mode  percent_diff  diff\n",
       "1        Auburn     0.03      0.02  transit          0.71  0.01\n",
       "4      Bellevue     0.06      0.11  transit         -0.46 -0.05\n",
       "7       Everett     0.02      0.03  transit         -0.28 -0.01\n",
       "10  Federal Way     0.03      0.00  transit          7.59  0.03\n",
       "13         Kent     0.04      0.05  transit         -0.15 -0.01\n",
       "16     Kirkland     0.03      0.09  transit         -0.69 -0.06\n",
       "19      Redmond     0.05      0.11  transit         -0.56 -0.06\n",
       "22       Renton     0.05      0.04  transit          0.10  0.00\n",
       "25      Seattle     0.17      0.32  transit         -0.46 -0.14\n",
       "28       Tacoma     0.03      0.03  transit         -0.10 -0.00"
      ]
     },
     "execution_count": 9,
     "metadata": {},
     "output_type": "execute_result"
    }
   ],
   "source": [
    "_df = df_shares[df_shares['mode'] == 'transit']\n",
    "_df"
   ]
  },
  {
   "cell_type": "code",
   "execution_count": 10,
   "metadata": {},
   "outputs": [
    {
     "name": "stdout",
     "output_type": "stream",
     "text": [
      "r^2 : 0.9470571426887924\n"
     ]
    },
    {
     "data": {
      "image/png": "[encoded data removed]",
      "text/plain": [
       "<Figure size 432x288 with 1 Axes>"
      ]
     },
     "metadata": {
      "needs_background": "light"
     },
     "output_type": "display_data"
    }
   ],
   "source": [
    "ax = _df.plot(kind='scatter', x='observed', y='modeled')\n",
    "lim = _df[['observed','modeled']].max().max()*1.05\n",
    "ax.set_ylim(0,lim)\n",
    "ax.set_xlim(0,lim)\n",
    "x = np.linspace(*ax.get_xlim())\n",
    "ax.plot(x, x)\n",
    "slope, intercept, r_value, p_value, std_err = stats.linregress(_df['observed'],_df['modeled'])\n",
    "print('r^2 : ' + str(r_value))"
   ]
  },
  {
   "cell_type": "markdown",
   "metadata": {},
   "source": [
    "## Walk and Bike"
   ]
  },
  {
   "cell_type": "code",
   "execution_count": 11,
   "metadata": {},
   "outputs": [
    {
     "data": {
      "text/html": [
       "<div>\n",
       "<style scoped>\n",
       "    .dataframe tbody tr th:only-of-type {\n",
       "        vertical-align: middle;\n",
       "    }\n",
       "\n",
       "    .dataframe tbody tr th {\n",
       "        vertical-align: top;\n",
       "    }\n",
       "\n",
       "    .dataframe thead th {\n",
       "        text-align: right;\n",
       "    }\n",
       "</style>\n",
       "<table border=\"1\" class=\"dataframe\">\n",
       "  <thead>\n",
       "    <tr style=\"text-align: right;\">\n",
       "      <th></th>\n",
       "      <th>work_place</th>\n",
       "      <th>modeled</th>\n",
       "      <th>observed</th>\n",
       "      <th>mode</th>\n",
       "      <th>percent_diff</th>\n",
       "      <th>diff</th>\n",
       "    </tr>\n",
       "  </thead>\n",
       "  <tbody>\n",
       "    <tr>\n",
       "      <th>2</th>\n",
       "      <td>Auburn</td>\n",
       "      <td>0.02</td>\n",
       "      <td>0.04</td>\n",
       "      <td>walk_and_bike</td>\n",
       "      <td>-0.56</td>\n",
       "      <td>-0.02</td>\n",
       "    </tr>\n",
       "    <tr>\n",
       "      <th>5</th>\n",
       "      <td>Bellevue</td>\n",
       "      <td>0.05</td>\n",
       "      <td>0.06</td>\n",
       "      <td>walk_and_bike</td>\n",
       "      <td>-0.02</td>\n",
       "      <td>-0.00</td>\n",
       "    </tr>\n",
       "    <tr>\n",
       "      <th>8</th>\n",
       "      <td>Everett</td>\n",
       "      <td>0.04</td>\n",
       "      <td>0.04</td>\n",
       "      <td>walk_and_bike</td>\n",
       "      <td>-0.16</td>\n",
       "      <td>-0.01</td>\n",
       "    </tr>\n",
       "    <tr>\n",
       "      <th>11</th>\n",
       "      <td>Federal Way</td>\n",
       "      <td>0.03</td>\n",
       "      <td>0.06</td>\n",
       "      <td>walk_and_bike</td>\n",
       "      <td>-0.52</td>\n",
       "      <td>-0.03</td>\n",
       "    </tr>\n",
       "    <tr>\n",
       "      <th>14</th>\n",
       "      <td>Kent</td>\n",
       "      <td>0.01</td>\n",
       "      <td>0.03</td>\n",
       "      <td>walk_and_bike</td>\n",
       "      <td>-0.54</td>\n",
       "      <td>-0.01</td>\n",
       "    </tr>\n",
       "    <tr>\n",
       "      <th>17</th>\n",
       "      <td>Kirkland</td>\n",
       "      <td>0.03</td>\n",
       "      <td>0.05</td>\n",
       "      <td>walk_and_bike</td>\n",
       "      <td>-0.31</td>\n",
       "      <td>-0.01</td>\n",
       "    </tr>\n",
       "    <tr>\n",
       "      <th>20</th>\n",
       "      <td>Redmond</td>\n",
       "      <td>0.03</td>\n",
       "      <td>0.05</td>\n",
       "      <td>walk_and_bike</td>\n",
       "      <td>-0.45</td>\n",
       "      <td>-0.02</td>\n",
       "    </tr>\n",
       "    <tr>\n",
       "      <th>23</th>\n",
       "      <td>Renton</td>\n",
       "      <td>0.02</td>\n",
       "      <td>0.05</td>\n",
       "      <td>walk_and_bike</td>\n",
       "      <td>-0.58</td>\n",
       "      <td>-0.03</td>\n",
       "    </tr>\n",
       "    <tr>\n",
       "      <th>26</th>\n",
       "      <td>Seattle</td>\n",
       "      <td>0.11</td>\n",
       "      <td>0.14</td>\n",
       "      <td>walk_and_bike</td>\n",
       "      <td>-0.19</td>\n",
       "      <td>-0.03</td>\n",
       "    </tr>\n",
       "    <tr>\n",
       "      <th>29</th>\n",
       "      <td>Tacoma</td>\n",
       "      <td>0.05</td>\n",
       "      <td>0.03</td>\n",
       "      <td>walk_and_bike</td>\n",
       "      <td>0.46</td>\n",
       "      <td>0.02</td>\n",
       "    </tr>\n",
       "  </tbody>\n",
       "</table>\n",
       "</div>"
      ],
      "text/plain": [
       "     work_place  modeled  observed           mode  percent_diff  diff\n",
       "2        Auburn     0.02      0.04  walk_and_bike         -0.56 -0.02\n",
       "5      Bellevue     0.05      0.06  walk_and_bike         -0.02 -0.00\n",
       "8       Everett     0.04      0.04  walk_and_bike         -0.16 -0.01\n",
       "11  Federal Way     0.03      0.06  walk_and_bike         -0.52 -0.03\n",
       "14         Kent     0.01      0.03  walk_and_bike         -0.54 -0.01\n",
       "17     Kirkland     0.03      0.05  walk_and_bike         -0.31 -0.01\n",
       "20      Redmond     0.03      0.05  walk_and_bike         -0.45 -0.02\n",
       "23       Renton     0.02      0.05  walk_and_bike         -0.58 -0.03\n",
       "26      Seattle     0.11      0.14  walk_and_bike         -0.19 -0.03\n",
       "29       Tacoma     0.05      0.03  walk_and_bike          0.46  0.02"
      ]
     },
     "execution_count": 11,
     "metadata": {},
     "output_type": "execute_result"
    }
   ],
   "source": [
    "_df = df_shares[df_shares['mode'] == 'walk_and_bike']\n",
    "_df"
   ]
  },
  {
   "cell_type": "code",
   "execution_count": 12,
   "metadata": {},
   "outputs": [
    {
     "name": "stdout",
     "output_type": "stream",
     "text": [
      "r^2 : 0.8734413625912709\n"
     ]
    },
    {
     "data": {
      "image/png": "[encoded data removed]",
      "text/plain": [
       "<Figure size 432x288 with 1 Axes>"
      ]
     },
     "metadata": {
      "needs_background": "light"
     },
     "output_type": "display_data"
    }
   ],
   "source": [
    "ax = _df.plot(kind='scatter', x='observed', y='modeled')\n",
    "lim = _df[['observed','modeled']].max().max()*1.05\n",
    "ax.set_ylim(0,lim)\n",
    "ax.set_xlim(0,lim)\n",
    "x = np.linspace(*ax.get_xlim())\n",
    "ax.plot(x, x)\n",
    "slope, intercept, r_value, p_value, std_err = stats.linregress(_df['observed'],_df['modeled'])\n",
    "print('r^2 : ' + str(r_value))"
   ]
  },
  {
   "cell_type": "markdown",
   "metadata": {},
   "source": [
    "# Commute Mode Share by Home Tract\n",
    "----"
   ]
  },
  {
   "cell_type": "code",
   "execution_count": 13,
   "metadata": {},
   "outputs": [],
   "source": [
    "df = pd.read_csv(os.path.join(relative_path,'validation','acs_commute_share_by_home_tract.csv'))\n",
    "pd.options.display.float_format = '{:0,.0f}'.format"
   ]
  },
  {
   "cell_type": "code",
   "execution_count": 31,
   "metadata": {},
   "outputs": [
    {
     "data": {
      "text/html": [
       "<div>\n",
       "<style scoped>\n",
       "    .dataframe tbody tr th:only-of-type {\n",
       "        vertical-align: middle;\n",
       "    }\n",
       "\n",
       "    .dataframe tbody tr th {\n",
       "        vertical-align: top;\n",
       "    }\n",
       "\n",
       "    .dataframe thead th {\n",
       "        text-align: right;\n",
       "    }\n",
       "</style>\n",
       "<table border=\"1\" class=\"dataframe\">\n",
       "  <thead>\n",
       "    <tr style=\"text-align: right;\">\n",
       "      <th></th>\n",
       "      <th>CountyName</th>\n",
       "      <th>modeled</th>\n",
       "      <th>observed</th>\n",
       "    </tr>\n",
       "  </thead>\n",
       "  <tbody>\n",
       "    <tr>\n",
       "      <th>0</th>\n",
       "      <td>King</td>\n",
       "      <td>1,130,364</td>\n",
       "      <td>1,021,603</td>\n",
       "    </tr>\n",
       "    <tr>\n",
       "      <th>1</th>\n",
       "      <td>Kitsap</td>\n",
       "      <td>79,313</td>\n",
       "      <td>105,763</td>\n",
       "    </tr>\n",
       "    <tr>\n",
       "      <th>2</th>\n",
       "      <td>Pierce</td>\n",
       "      <td>234,401</td>\n",
       "      <td>364,096</td>\n",
       "    </tr>\n",
       "    <tr>\n",
       "      <th>3</th>\n",
       "      <td>Snohomish</td>\n",
       "      <td>205,136</td>\n",
       "      <td>351,318</td>\n",
       "    </tr>\n",
       "    <tr>\n",
       "      <th>4</th>\n",
       "      <td>Total</td>\n",
       "      <td>1,649,214</td>\n",
       "      <td>1,842,780</td>\n",
       "    </tr>\n",
       "  </tbody>\n",
       "</table>\n",
       "</div>"
      ],
      "text/plain": [
       "  CountyName   modeled  observed\n",
       "0       King 1,130,364 1,021,603\n",
       "1     Kitsap    79,313   105,763\n",
       "2     Pierce   234,401   364,096\n",
       "3  Snohomish   205,136   351,318\n",
       "4      Total 1,649,214 1,842,780"
      ]
     },
     "execution_count": 31,
     "metadata": {},
     "output_type": "execute_result"
    }
   ],
   "source": [
    "df_county = df.groupby('CountyName').sum()[['modeled','observed']].reset_index()\n",
    "df_total = df[['modeled','observed']].assign(CountyName='Total').groupby('CountyName').sum().reset_index()\n",
    "pd.concat([df_county, df_total], ignore_index=True)"
   ]
  },
  {
   "cell_type": "code",
   "execution_count": 39,
   "metadata": {},
   "outputs": [
    {
     "data": {
      "text/html": [
       "<div>\n",
       "<style scoped>\n",
       "    .dataframe tbody tr th:only-of-type {\n",
       "        vertical-align: middle;\n",
       "    }\n",
       "\n",
       "    .dataframe tbody tr th {\n",
       "        vertical-align: top;\n",
       "    }\n",
       "\n",
       "    .dataframe thead th {\n",
       "        text-align: right;\n",
       "    }\n",
       "</style>\n",
       "<table border=\"1\" class=\"dataframe\">\n",
       "  <thead>\n",
       "    <tr style=\"text-align: right;\">\n",
       "      <th></th>\n",
       "      <th>CountyGroup</th>\n",
       "      <th>modeled</th>\n",
       "      <th>observed</th>\n",
       "    </tr>\n",
       "  </thead>\n",
       "  <tbody>\n",
       "    <tr>\n",
       "      <th>0</th>\n",
       "      <td>Other</td>\n",
       "      <td>1,414,813</td>\n",
       "      <td>1,478,684</td>\n",
       "    </tr>\n",
       "    <tr>\n",
       "      <th>1</th>\n",
       "      <td>Pierce</td>\n",
       "      <td>234,401</td>\n",
       "      <td>364,096</td>\n",
       "    </tr>\n",
       "  </tbody>\n",
       "</table>\n",
       "</div>"
      ],
      "text/plain": [
       "  CountyGroup   modeled  observed\n",
       "0       Other 1,414,813 1,478,684\n",
       "1      Pierce   234,401   364,096"
      ]
     },
     "execution_count": 39,
     "metadata": {},
     "output_type": "execute_result"
    }
   ],
   "source": [
    "df_county['CountyGroup'] = np.where(df_county['CountyName']=='Pierce','Pierce','Other')\n",
    "df_pierce = df_county.groupby('CountyGroup').sum()[['modeled', 'observed']].reset_index()\n",
    "df_pierce"
   ]
  },
  {
   "cell_type": "code",
   "execution_count": 40,
   "metadata": {},
   "outputs": [],
   "source": [
    "def calculate_shares(df, geog_col, apply_format=False):\n",
    "    \n",
    "    df[['modeled','observed']] = df[['modeled','observed']].astype('int')\n",
    "    df_total = df.groupby(geog_col).sum()[['modeled','observed']].reset_index()\n",
    "    df_total.rename(columns={'modeled': 'modeled_total','observed':'observed_total'}, inplace=True)\n",
    "    df = df.merge(df_total, on=geog_col, how='left')\n",
    "    df['modeled_share'] = df['modeled']*1.0/df['modeled_total']\n",
    "    df['observed_share'] = df['observed']*1.0/df['observed_total']\n",
    "    if apply_format:\n",
    "        df[['modeled_share','observed_share']] = df[['modeled_share','observed_share']].applymap(format_percent)\n",
    "    \n",
    "    return df"
   ]
  },
  {
   "cell_type": "code",
   "execution_count": 41,
   "metadata": {},
   "outputs": [],
   "source": [
    "df_county_mode = df.groupby(['CountyName','mode']).sum()[['modeled','observed']].reset_index()\n",
    "df_county_mode = calculate_shares(df_county_mode, 'CountyName', apply_format=True)\n",
    "# Shares by Tract\n",
    "df_tract = df[['geoid','mode','modeled','observed']]\n",
    "df_tract_shares = calculate_shares(df_tract, 'geoid')"
   ]
  },
  {
   "cell_type": "markdown",
   "metadata": {},
   "source": [
    "## SOV"
   ]
  },
  {
   "cell_type": "code",
   "execution_count": 42,
   "metadata": {},
   "outputs": [
    {
     "name": "stdout",
     "output_type": "stream",
     "text": [
      " r^2: 0.632593984207109\n"
     ]
    },
    {
     "data": {
      "image/png": "[encoded data removed]",
      "text/plain": [
       "<Figure size 432x288 with 1 Axes>"
      ]
     },
     "metadata": {
      "needs_background": "light"
     },
     "output_type": "display_data"
    }
   ],
   "source": [
    "# Show only SOV\n",
    "sov_tract_shares = df_tract_shares[df_tract_shares['mode'] == 'SOV']\n",
    "sov_tract_shares = sov_tract_shares[-sov_tract_shares.observed_share.isnull()]\n",
    "\n",
    "_df = sov_tract_shares.copy()\n",
    "ax = _df.plot(kind='scatter', x='observed_share', y='modeled_share')\n",
    "lim = _df[['observed_share','modeled_share']].max().max()*1.05\n",
    "ax.set_ylim(0,lim)\n",
    "ax.set_xlim(0,lim)\n",
    "slope, intercept, r_value, p_value, std_err = stats.linregress(_df['observed_share'],_df['modeled_share'])\n",
    "x = np.linspace(*ax.get_xlim())\n",
    "ax.plot(x, x)\n",
    "print(' r^2: ' + str(r_value))"
   ]
  },
  {
   "cell_type": "markdown",
   "metadata": {},
   "source": [
    "## HOV"
   ]
  },
  {
   "cell_type": "code",
   "execution_count": 43,
   "metadata": {},
   "outputs": [
    {
     "name": "stdout",
     "output_type": "stream",
     "text": [
      " r^2: 0.15118404116488107\n"
     ]
    },
    {
     "data": {
      "image/png": "[encoded data removed]",
      "text/plain": [
       "<Figure size 432x288 with 1 Axes>"
      ]
     },
     "metadata": {
      "needs_background": "light"
     },
     "output_type": "display_data"
    }
   ],
   "source": [
    "# Show only SOV\n",
    "sov_tract_shares = df_tract_shares[df_tract_shares['mode'] == 'HOV']\n",
    "sov_tract_shares = sov_tract_shares[-sov_tract_shares.observed_share.isnull()]\n",
    "\n",
    "_df = sov_tract_shares.copy()\n",
    "ax = _df.plot(kind='scatter', x='observed_share', y='modeled_share')\n",
    "lim = _df[['observed_share','modeled_share']].max().max()*1.05\n",
    "ax.set_ylim(0,lim)\n",
    "ax.set_xlim(0,lim)\n",
    "slope, intercept, r_value, p_value, std_err = stats.linregress(_df['observed_share'],_df['modeled_share'])\n",
    "x = np.linspace(*ax.get_xlim())\n",
    "ax.plot(x, x)\n",
    "print(' r^2: ' + str(r_value))"
   ]
  },
  {
   "cell_type": "markdown",
   "metadata": {},
   "source": [
    "## Transit"
   ]
  },
  {
   "cell_type": "code",
   "execution_count": 44,
   "metadata": {},
   "outputs": [
    {
     "name": "stdout",
     "output_type": "stream",
     "text": [
      " r^2: 0.5963531416563294\n"
     ]
    },
    {
     "data": {
      "image/png": "[encoded data removed]",
      "text/plain": [
       "<Figure size 432x288 with 1 Axes>"
      ]
     },
     "metadata": {
      "needs_background": "light"
     },
     "output_type": "display_data"
    }
   ],
   "source": [
    "# Show only SOV\n",
    "sov_tract_shares = df_tract_shares[df_tract_shares['mode'] == 'Transit']\n",
    "sov_tract_shares = sov_tract_shares[-sov_tract_shares.observed_share.isnull()]\n",
    "\n",
    "_df = sov_tract_shares.copy()\n",
    "ax = _df.plot(kind='scatter', x='observed_share', y='modeled_share')\n",
    "lim = _df[['observed_share','modeled_share']].max().max()*1.05\n",
    "ax.set_ylim(0,lim)\n",
    "ax.set_xlim(0,lim)\n",
    "slope, intercept, r_value, p_value, std_err = stats.linregress(_df['observed_share'],_df['modeled_share'])\n",
    "x = np.linspace(*ax.get_xlim())\n",
    "ax.plot(x, x)\n",
    "print(' r^2: ' + str(r_value))"
   ]
  },
  {
   "cell_type": "markdown",
   "metadata": {},
   "source": [
    "## Walk"
   ]
  },
  {
   "cell_type": "code",
   "execution_count": 45,
   "metadata": {},
   "outputs": [
    {
     "name": "stdout",
     "output_type": "stream",
     "text": [
      " r^2: 0.7379919870887436\n"
     ]
    },
    {
     "data": {
      "image/png": "[encoded data removed]",
      "text/plain": [
       "<Figure size 432x288 with 1 Axes>"
      ]
     },
     "metadata": {
      "needs_background": "light"
     },
     "output_type": "display_data"
    }
   ],
   "source": [
    "# Show only SOV\n",
    "sov_tract_shares = df_tract_shares[df_tract_shares['mode'] == 'Walk']\n",
    "sov_tract_shares = sov_tract_shares[-sov_tract_shares.observed_share.isnull()]\n",
    "\n",
    "_df = sov_tract_shares.copy()\n",
    "ax = _df.plot(kind='scatter', x='observed_share', y='modeled_share')\n",
    "lim = _df[['observed_share','modeled_share']].max().max()*1.05\n",
    "ax.set_ylim(0,lim)\n",
    "ax.set_xlim(0,lim)\n",
    "slope, intercept, r_value, p_value, std_err = stats.linregress(_df['observed_share'],_df['modeled_share'])\n",
    "x = np.linspace(*ax.get_xlim())\n",
    "ax.plot(x, x)\n",
    "print(' r^2: ' + str(r_value))"
   ]
  },
  {
   "cell_type": "markdown",
   "metadata": {},
   "source": [
    "# Commute Mode Share by Home Tract - Pierce County"
   ]
  },
  {
   "cell_type": "code",
   "execution_count": 47,
   "metadata": {},
   "outputs": [],
   "source": [
    "df = pd.read_csv(os.path.join(relative_path,'validation','acs_commute_share_by_home_tract.csv'))\n",
    "df = df[df['CountyName'] == 'Pierce']\n",
    "\n",
    "df_county_mode = df.groupby(['CountyName','mode']).sum()[['modeled','observed']].reset_index()\n",
    "df_county_mode = calculate_shares(df_county_mode, 'CountyName', apply_format=True)\n",
    "# Shares by Tract\n",
    "df_tract = df[['geoid','mode','modeled','observed']]\n",
    "df_tract_shares = calculate_shares(df_tract, 'geoid')"
   ]
  },
  {
   "cell_type": "code",
   "execution_count": 48,
   "metadata": {},
   "outputs": [
    {
     "data": {
      "text/html": [
       "<div>\n",
       "<style scoped>\n",
       "    .dataframe tbody tr th:only-of-type {\n",
       "        vertical-align: middle;\n",
       "    }\n",
       "\n",
       "    .dataframe tbody tr th {\n",
       "        vertical-align: top;\n",
       "    }\n",
       "\n",
       "    .dataframe thead th {\n",
       "        text-align: right;\n",
       "    }\n",
       "</style>\n",
       "<table border=\"1\" class=\"dataframe\">\n",
       "  <thead>\n",
       "    <tr style=\"text-align: right;\">\n",
       "      <th></th>\n",
       "      <th>CountyName</th>\n",
       "      <th>mode</th>\n",
       "      <th>modeled</th>\n",
       "      <th>observed</th>\n",
       "      <th>modeled_total</th>\n",
       "      <th>observed_total</th>\n",
       "      <th>modeled_share</th>\n",
       "      <th>observed_share</th>\n",
       "    </tr>\n",
       "  </thead>\n",
       "  <tbody>\n",
       "    <tr>\n",
       "      <th>0</th>\n",
       "      <td>Pierce</td>\n",
       "      <td>HOV</td>\n",
       "      <td>65438</td>\n",
       "      <td>38125</td>\n",
       "      <td>234401</td>\n",
       "      <td>364096</td>\n",
       "      <td>27.92%</td>\n",
       "      <td>10.47%</td>\n",
       "    </tr>\n",
       "    <tr>\n",
       "      <th>1</th>\n",
       "      <td>Pierce</td>\n",
       "      <td>SOV</td>\n",
       "      <td>159679</td>\n",
       "      <td>307529</td>\n",
       "      <td>234401</td>\n",
       "      <td>364096</td>\n",
       "      <td>68.12%</td>\n",
       "      <td>84.46%</td>\n",
       "    </tr>\n",
       "    <tr>\n",
       "      <th>2</th>\n",
       "      <td>Pierce</td>\n",
       "      <td>Transit</td>\n",
       "      <td>4403</td>\n",
       "      <td>12237</td>\n",
       "      <td>234401</td>\n",
       "      <td>364096</td>\n",
       "      <td>1.88%</td>\n",
       "      <td>3.36%</td>\n",
       "    </tr>\n",
       "    <tr>\n",
       "      <th>3</th>\n",
       "      <td>Pierce</td>\n",
       "      <td>Walk</td>\n",
       "      <td>4881</td>\n",
       "      <td>6205</td>\n",
       "      <td>234401</td>\n",
       "      <td>364096</td>\n",
       "      <td>2.08%</td>\n",
       "      <td>1.70%</td>\n",
       "    </tr>\n",
       "  </tbody>\n",
       "</table>\n",
       "</div>"
      ],
      "text/plain": [
       "  CountyName     mode  modeled  observed  modeled_total  observed_total  \\\n",
       "0     Pierce      HOV    65438     38125         234401          364096   \n",
       "1     Pierce      SOV   159679    307529         234401          364096   \n",
       "2     Pierce  Transit     4403     12237         234401          364096   \n",
       "3     Pierce     Walk     4881      6205         234401          364096   \n",
       "\n",
       "  modeled_share observed_share  \n",
       "0        27.92%         10.47%  \n",
       "1        68.12%         84.46%  \n",
       "2         1.88%          3.36%  \n",
       "3         2.08%          1.70%  "
      ]
     },
     "execution_count": 48,
     "metadata": {},
     "output_type": "execute_result"
    }
   ],
   "source": [
    "df_county_mode"
   ]
  },
  {
   "cell_type": "markdown",
   "metadata": {},
   "source": [
    "## SOV"
   ]
  },
  {
   "cell_type": "code",
   "execution_count": 49,
   "metadata": {},
   "outputs": [
    {
     "name": "stdout",
     "output_type": "stream",
     "text": [
      " r^2: 0.31710442509952447\n"
     ]
    },
    {
     "data": {
      "image/png": "[encoded data removed]",
      "text/plain": [
       "<Figure size 432x288 with 1 Axes>"
      ]
     },
     "metadata": {
      "needs_background": "light"
     },
     "output_type": "display_data"
    }
   ],
   "source": [
    "# Show only SOV\n",
    "sov_tract_shares = df_tract_shares[df_tract_shares['mode'] == 'SOV']\n",
    "sov_tract_shares = sov_tract_shares[-sov_tract_shares.observed_share.isnull()]\n",
    "\n",
    "_df = sov_tract_shares.copy()\n",
    "ax = _df.plot(kind='scatter', x='observed_share', y='modeled_share')\n",
    "lim = _df[['observed_share','modeled_share']].max().max()*1.05\n",
    "ax.set_ylim(0,lim)\n",
    "ax.set_xlim(0,lim)\n",
    "slope, intercept, r_value, p_value, std_err = stats.linregress(_df['observed_share'],_df['modeled_share'])\n",
    "x = np.linspace(*ax.get_xlim())\n",
    "ax.plot(x, x)\n",
    "print(' r^2: ' + str(r_value))"
   ]
  },
  {
   "cell_type": "markdown",
   "metadata": {},
   "source": [
    "## HOV"
   ]
  },
  {
   "cell_type": "code",
   "execution_count": 50,
   "metadata": {},
   "outputs": [
    {
     "name": "stdout",
     "output_type": "stream",
     "text": [
      " r^2: 0.08190842222387167\n"
     ]
    },
    {
     "data": {
      "image/png": "[encoded data removed]",
      "text/plain": [
       "<Figure size 432x288 with 1 Axes>"
      ]
     },
     "metadata": {
      "needs_background": "light"
     },
     "output_type": "display_data"
    }
   ],
   "source": [
    "# Show only SOV\n",
    "sov_tract_shares = df_tract_shares[df_tract_shares['mode'] == 'HOV']\n",
    "sov_tract_shares = sov_tract_shares[-sov_tract_shares.observed_share.isnull()]\n",
    "\n",
    "_df = sov_tract_shares.copy()\n",
    "ax = _df.plot(kind='scatter', x='observed_share', y='modeled_share')\n",
    "lim = _df[['observed_share','modeled_share']].max().max()*1.05\n",
    "ax.set_ylim(0,lim)\n",
    "ax.set_xlim(0,lim)\n",
    "slope, intercept, r_value, p_value, std_err = stats.linregress(_df['observed_share'],_df['modeled_share'])\n",
    "x = np.linspace(*ax.get_xlim())\n",
    "ax.plot(x, x)\n",
    "print(' r^2: ' + str(r_value))"
   ]
  },
  {
   "cell_type": "markdown",
   "metadata": {},
   "source": [
    "## Transit"
   ]
  },
  {
   "cell_type": "code",
   "execution_count": 51,
   "metadata": {},
   "outputs": [
    {
     "name": "stdout",
     "output_type": "stream",
     "text": [
      " r^2: 0.24022754810414063\n"
     ]
    },
    {
     "data": {
      "image/png": "[encoded data removed]",
      "text/plain": [
       "<Figure size 432x288 with 1 Axes>"
      ]
     },
     "metadata": {
      "needs_background": "light"
     },
     "output_type": "display_data"
    }
   ],
   "source": [
    "# Show only SOV\n",
    "sov_tract_shares = df_tract_shares[df_tract_shares['mode'] == 'Transit']\n",
    "sov_tract_shares = sov_tract_shares[-sov_tract_shares.observed_share.isnull()]\n",
    "\n",
    "_df = sov_tract_shares.copy()\n",
    "ax = _df.plot(kind='scatter', x='observed_share', y='modeled_share')\n",
    "lim = _df[['observed_share','modeled_share']].max().max()*1.05\n",
    "ax.set_ylim(0,lim)\n",
    "ax.set_xlim(0,lim)\n",
    "slope, intercept, r_value, p_value, std_err = stats.linregress(_df['observed_share'],_df['modeled_share'])\n",
    "x = np.linspace(*ax.get_xlim())\n",
    "ax.plot(x, x)\n",
    "print(' r^2: ' + str(r_value))"
   ]
  },
  {
   "cell_type": "markdown",
   "metadata": {},
   "source": [
    "## Walk"
   ]
  },
  {
   "cell_type": "code",
   "execution_count": 52,
   "metadata": {},
   "outputs": [
    {
     "name": "stdout",
     "output_type": "stream",
     "text": [
      " r^2: 0.30045588006303625\n"
     ]
    },
    {
     "data": {
      "image/png": "[encoded data removed]",
      "text/plain": [
       "<Figure size 432x288 with 1 Axes>"
      ]
     },
     "metadata": {
      "needs_background": "light"
     },
     "output_type": "display_data"
    }
   ],
   "source": [
    "# Show only SOV\n",
    "sov_tract_shares = df_tract_shares[df_tract_shares['mode'] == 'Walk']\n",
    "sov_tract_shares = sov_tract_shares[-sov_tract_shares.observed_share.isnull()]\n",
    "\n",
    "_df = sov_tract_shares.copy()\n",
    "ax = _df.plot(kind='scatter', x='observed_share', y='modeled_share')\n",
    "lim = _df[['observed_share','modeled_share']].max().max()*1.05\n",
    "ax.set_ylim(0,lim)\n",
    "ax.set_xlim(0,lim)\n",
    "slope, intercept, r_value, p_value, std_err = stats.linregress(_df['observed_share'],_df['modeled_share'])\n",
    "x = np.linspace(*ax.get_xlim())\n",
    "ax.plot(x, x)\n",
    "print(' r^2: ' + str(r_value))"
   ]
  },
  {
   "cell_type": "markdown",
   "metadata": {},
   "source": [
    "# Commute Mode Share by Home Tract - Other Counties"
   ]
  },
  {
   "cell_type": "code",
   "execution_count": 53,
   "metadata": {},
   "outputs": [],
   "source": [
    "df = pd.read_csv(os.path.join(relative_path,'validation','acs_commute_share_by_home_tract.csv'))\n",
    "df = df[df['CountyName'] != 'Pierce']\n",
    "\n",
    "df_county_mode = df.groupby(['CountyName','mode']).sum()[['modeled','observed']].reset_index()\n",
    "df_county_mode = calculate_shares(df_county_mode, 'CountyName', apply_format=True)\n",
    "# Shares by Tract\n",
    "df_tract = df[['geoid','mode','modeled','observed']]\n",
    "df_tract_shares = calculate_shares(df_tract, 'geoid')"
   ]
  },
  {
   "cell_type": "code",
   "execution_count": 54,
   "metadata": {},
   "outputs": [
    {
     "data": {
      "text/html": [
       "<div>\n",
       "<style scoped>\n",
       "    .dataframe tbody tr th:only-of-type {\n",
       "        vertical-align: middle;\n",
       "    }\n",
       "\n",
       "    .dataframe tbody tr th {\n",
       "        vertical-align: top;\n",
       "    }\n",
       "\n",
       "    .dataframe thead th {\n",
       "        text-align: right;\n",
       "    }\n",
       "</style>\n",
       "<table border=\"1\" class=\"dataframe\">\n",
       "  <thead>\n",
       "    <tr style=\"text-align: right;\">\n",
       "      <th></th>\n",
       "      <th>CountyName</th>\n",
       "      <th>mode</th>\n",
       "      <th>modeled</th>\n",
       "      <th>observed</th>\n",
       "      <th>modeled_total</th>\n",
       "      <th>observed_total</th>\n",
       "      <th>modeled_share</th>\n",
       "      <th>observed_share</th>\n",
       "    </tr>\n",
       "  </thead>\n",
       "  <tbody>\n",
       "    <tr>\n",
       "      <th>0</th>\n",
       "      <td>King</td>\n",
       "      <td>HOV</td>\n",
       "      <td>270228</td>\n",
       "      <td>105734</td>\n",
       "      <td>1130364</td>\n",
       "      <td>1021603</td>\n",
       "      <td>23.91%</td>\n",
       "      <td>10.35%</td>\n",
       "    </tr>\n",
       "    <tr>\n",
       "      <th>1</th>\n",
       "      <td>King</td>\n",
       "      <td>SOV</td>\n",
       "      <td>683255</td>\n",
       "      <td>706557</td>\n",
       "      <td>1130364</td>\n",
       "      <td>1021603</td>\n",
       "      <td>60.45%</td>\n",
       "      <td>69.16%</td>\n",
       "    </tr>\n",
       "    <tr>\n",
       "      <th>2</th>\n",
       "      <td>King</td>\n",
       "      <td>Transit</td>\n",
       "      <td>118031</td>\n",
       "      <td>148985</td>\n",
       "      <td>1130364</td>\n",
       "      <td>1021603</td>\n",
       "      <td>10.44%</td>\n",
       "      <td>14.58%</td>\n",
       "    </tr>\n",
       "    <tr>\n",
       "      <th>3</th>\n",
       "      <td>King</td>\n",
       "      <td>Walk</td>\n",
       "      <td>58850</td>\n",
       "      <td>60327</td>\n",
       "      <td>1130364</td>\n",
       "      <td>1021603</td>\n",
       "      <td>5.21%</td>\n",
       "      <td>5.91%</td>\n",
       "    </tr>\n",
       "    <tr>\n",
       "      <th>4</th>\n",
       "      <td>Kitsap</td>\n",
       "      <td>HOV</td>\n",
       "      <td>21441</td>\n",
       "      <td>9400</td>\n",
       "      <td>79313</td>\n",
       "      <td>105763</td>\n",
       "      <td>27.03%</td>\n",
       "      <td>8.89%</td>\n",
       "    </tr>\n",
       "    <tr>\n",
       "      <th>5</th>\n",
       "      <td>Kitsap</td>\n",
       "      <td>SOV</td>\n",
       "      <td>54743</td>\n",
       "      <td>81227</td>\n",
       "      <td>79313</td>\n",
       "      <td>105763</td>\n",
       "      <td>69.02%</td>\n",
       "      <td>76.80%</td>\n",
       "    </tr>\n",
       "    <tr>\n",
       "      <th>6</th>\n",
       "      <td>Kitsap</td>\n",
       "      <td>Transit</td>\n",
       "      <td>1077</td>\n",
       "      <td>9327</td>\n",
       "      <td>79313</td>\n",
       "      <td>105763</td>\n",
       "      <td>1.36%</td>\n",
       "      <td>8.82%</td>\n",
       "    </tr>\n",
       "    <tr>\n",
       "      <th>7</th>\n",
       "      <td>Kitsap</td>\n",
       "      <td>Walk</td>\n",
       "      <td>2052</td>\n",
       "      <td>5809</td>\n",
       "      <td>79313</td>\n",
       "      <td>105763</td>\n",
       "      <td>2.59%</td>\n",
       "      <td>5.49%</td>\n",
       "    </tr>\n",
       "    <tr>\n",
       "      <th>8</th>\n",
       "      <td>Snohomish</td>\n",
       "      <td>HOV</td>\n",
       "      <td>56723</td>\n",
       "      <td>44150</td>\n",
       "      <td>205136</td>\n",
       "      <td>351318</td>\n",
       "      <td>27.65%</td>\n",
       "      <td>12.57%</td>\n",
       "    </tr>\n",
       "    <tr>\n",
       "      <th>9</th>\n",
       "      <td>Snohomish</td>\n",
       "      <td>SOV</td>\n",
       "      <td>141070</td>\n",
       "      <td>281848</td>\n",
       "      <td>205136</td>\n",
       "      <td>351318</td>\n",
       "      <td>68.77%</td>\n",
       "      <td>80.23%</td>\n",
       "    </tr>\n",
       "    <tr>\n",
       "      <th>10</th>\n",
       "      <td>Snohomish</td>\n",
       "      <td>Transit</td>\n",
       "      <td>3893</td>\n",
       "      <td>18788</td>\n",
       "      <td>205136</td>\n",
       "      <td>351318</td>\n",
       "      <td>1.90%</td>\n",
       "      <td>5.35%</td>\n",
       "    </tr>\n",
       "    <tr>\n",
       "      <th>11</th>\n",
       "      <td>Snohomish</td>\n",
       "      <td>Walk</td>\n",
       "      <td>3450</td>\n",
       "      <td>6532</td>\n",
       "      <td>205136</td>\n",
       "      <td>351318</td>\n",
       "      <td>1.68%</td>\n",
       "      <td>1.86%</td>\n",
       "    </tr>\n",
       "  </tbody>\n",
       "</table>\n",
       "</div>"
      ],
      "text/plain": [
       "   CountyName     mode  modeled  observed  modeled_total  observed_total  \\\n",
       "0        King      HOV   270228    105734        1130364         1021603   \n",
       "1        King      SOV   683255    706557        1130364         1021603   \n",
       "2        King  Transit   118031    148985        1130364         1021603   \n",
       "3        King     Walk    58850     60327        1130364         1021603   \n",
       "4      Kitsap      HOV    21441      9400          79313          105763   \n",
       "5      Kitsap      SOV    54743     81227          79313          105763   \n",
       "6      Kitsap  Transit     1077      9327          79313          105763   \n",
       "7      Kitsap     Walk     2052      5809          79313          105763   \n",
       "8   Snohomish      HOV    56723     44150         205136          351318   \n",
       "9   Snohomish      SOV   141070    281848         205136          351318   \n",
       "10  Snohomish  Transit     3893     18788         205136          351318   \n",
       "11  Snohomish     Walk     3450      6532         205136          351318   \n",
       "\n",
       "   modeled_share observed_share  \n",
       "0         23.91%         10.35%  \n",
       "1         60.45%         69.16%  \n",
       "2         10.44%         14.58%  \n",
       "3          5.21%          5.91%  \n",
       "4         27.03%          8.89%  \n",
       "5         69.02%         76.80%  \n",
       "6          1.36%          8.82%  \n",
       "7          2.59%          5.49%  \n",
       "8         27.65%         12.57%  \n",
       "9         68.77%         80.23%  \n",
       "10         1.90%          5.35%  \n",
       "11         1.68%          1.86%  "
      ]
     },
     "execution_count": 54,
     "metadata": {},
     "output_type": "execute_result"
    }
   ],
   "source": [
    "df_county_mode"
   ]
  },
  {
   "cell_type": "markdown",
   "metadata": {},
   "source": [
    "## SOV"
   ]
  },
  {
   "cell_type": "code",
   "execution_count": 55,
   "metadata": {},
   "outputs": [
    {
     "name": "stdout",
     "output_type": "stream",
     "text": [
      " r^2: 0.6759558531364793\n"
     ]
    },
    {
     "data": {
      "image/png": "[encoded data removed]",
      "text/plain": [
       "<Figure size 432x288 with 1 Axes>"
      ]
     },
     "metadata": {
      "needs_background": "light"
     },
     "output_type": "display_data"
    }
   ],
   "source": [
    "# Show only SOV\n",
    "sov_tract_shares = df_tract_shares[df_tract_shares['mode'] == 'SOV']\n",
    "sov_tract_shares = sov_tract_shares[-sov_tract_shares.observed_share.isnull()]\n",
    "\n",
    "_df = sov_tract_shares.copy()\n",
    "ax = _df.plot(kind='scatter', x='observed_share', y='modeled_share')\n",
    "lim = _df[['observed_share','modeled_share']].max().max()*1.05\n",
    "ax.set_ylim(0,lim)\n",
    "ax.set_xlim(0,lim)\n",
    "slope, intercept, r_value, p_value, std_err = stats.linregress(_df['observed_share'],_df['modeled_share'])\n",
    "x = np.linspace(*ax.get_xlim())\n",
    "ax.plot(x, x)\n",
    "print(' r^2: ' + str(r_value))"
   ]
  },
  {
   "cell_type": "markdown",
   "metadata": {},
   "source": [
    "## HOV"
   ]
  },
  {
   "cell_type": "code",
   "execution_count": 56,
   "metadata": {},
   "outputs": [
    {
     "name": "stdout",
     "output_type": "stream",
     "text": [
      " r^2: 0.1847941755038506\n"
     ]
    },
    {
     "data": {
      "image/png": "[encoded data removed]",
      "text/plain": [
       "<Figure size 432x288 with 1 Axes>"
      ]
     },
     "metadata": {
      "needs_background": "light"
     },
     "output_type": "display_data"
    }
   ],
   "source": [
    "# Show only HOV\n",
    "sov_tract_shares = df_tract_shares[df_tract_shares['mode'] == 'HOV']\n",
    "sov_tract_shares = sov_tract_shares[-sov_tract_shares.observed_share.isnull()]\n",
    "\n",
    "_df = sov_tract_shares.copy()\n",
    "ax = _df.plot(kind='scatter', x='observed_share', y='modeled_share')\n",
    "lim = _df[['observed_share','modeled_share']].max().max()*1.05\n",
    "ax.set_ylim(0,lim)\n",
    "ax.set_xlim(0,lim)\n",
    "slope, intercept, r_value, p_value, std_err = stats.linregress(_df['observed_share'],_df['modeled_share'])\n",
    "x = np.linspace(*ax.get_xlim())\n",
    "ax.plot(x, x)\n",
    "print(' r^2: ' + str(r_value))"
   ]
  },
  {
   "cell_type": "markdown",
   "metadata": {},
   "source": [
    "## Transit"
   ]
  },
  {
   "cell_type": "code",
   "execution_count": 57,
   "metadata": {},
   "outputs": [
    {
     "name": "stdout",
     "output_type": "stream",
     "text": [
      " r^2: 0.589753163070952\n"
     ]
    },
    {
     "data": {
      "image/png": "[encoded data removed]",
      "text/plain": [
       "<Figure size 432x288 with 1 Axes>"
      ]
     },
     "metadata": {
      "needs_background": "light"
     },
     "output_type": "display_data"
    }
   ],
   "source": [
    "# Show only Transit\n",
    "sov_tract_shares = df_tract_shares[df_tract_shares['mode'] == 'Transit']\n",
    "sov_tract_shares = sov_tract_shares[-sov_tract_shares.observed_share.isnull()]\n",
    "\n",
    "_df = sov_tract_shares.copy()\n",
    "ax = _df.plot(kind='scatter', x='observed_share', y='modeled_share')\n",
    "lim = _df[['observed_share','modeled_share']].max().max()*1.05\n",
    "ax.set_ylim(0,lim)\n",
    "ax.set_xlim(0,lim)\n",
    "slope, intercept, r_value, p_value, std_err = stats.linregress(_df['observed_share'],_df['modeled_share'])\n",
    "x = np.linspace(*ax.get_xlim())\n",
    "ax.plot(x, x)\n",
    "print(' r^2: ' + str(r_value))"
   ]
  },
  {
   "cell_type": "markdown",
   "metadata": {},
   "source": [
    "## Walk"
   ]
  },
  {
   "cell_type": "code",
   "execution_count": 58,
   "metadata": {},
   "outputs": [
    {
     "name": "stdout",
     "output_type": "stream",
     "text": [
      " r^2: 0.748568462361662\n"
     ]
    },
    {
     "data": {
      "image/png": "[encoded data removed]",
      "text/plain": [
       "<Figure size 432x288 with 1 Axes>"
      ]
     },
     "metadata": {
      "needs_background": "light"
     },
     "output_type": "display_data"
    }
   ],
   "source": [
    "# Show only Walk\n",
    "sov_tract_shares = df_tract_shares[df_tract_shares['mode'] == 'Walk']\n",
    "sov_tract_shares = sov_tract_shares[-sov_tract_shares.observed_share.isnull()]\n",
    "\n",
    "_df = sov_tract_shares.copy()\n",
    "ax = _df.plot(kind='scatter', x='observed_share', y='modeled_share')\n",
    "lim = _df[['observed_share','modeled_share']].max().max()*1.05\n",
    "ax.set_ylim(0,lim)\n",
    "ax.set_xlim(0,lim)\n",
    "slope, intercept, r_value, p_value, std_err = stats.linregress(_df['observed_share'],_df['modeled_share'])\n",
    "x = np.linspace(*ax.get_xlim())\n",
    "ax.plot(x, x)\n",
    "print(' r^2: ' + str(r_value))"
   ]
  }
 ],
 "metadata": {
  "kernelspec": {
   "display_name": "Python 3",
   "language": "python",
   "name": "python3"
  },
  "language_info": {
   "codemirror_mode": {
    "name": "ipython",
    "version": 3
   },
   "file_extension": ".py",
   "mimetype": "text/x-python",
   "name": "python",
   "nbconvert_exporter": "python",
   "pygments_lexer": "ipython3",
   "version": "3.7.10"
  }
 },
 "nbformat": 4,
 "nbformat_minor": 2
}
