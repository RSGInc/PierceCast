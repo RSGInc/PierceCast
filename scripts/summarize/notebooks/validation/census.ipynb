{
 "cells": [
  {
   "cell_type": "code",
   "execution_count": 1,
   "metadata": {},
   "outputs": [],
   "source": [
    "import os, sys, time\n",
    "from scipy import stats\n",
    "import warnings\n",
    "warnings.simplefilter(action='ignore', category=FutureWarning)\n",
    "import pandas as pd\n",
    "pd.options.mode.chained_assignment = None\n",
    "import numpy as np\n",
    "%matplotlib inline\n",
    "\n",
    "from IPython.display import display, HTML\n",
    "\n",
    "import pandas as pd\n",
    "import numpy as np\n",
    "%matplotlib inline\n",
    "\n",
    "from IPython.display import display, HTML\n",
    "\n",
    "if (sys.version_info < (3, 0)):\n",
    "    HTML('''<script>\n",
    "    code_show=true; \n",
    "    function code_toggle() {\n",
    "     if (code_show){\n",
    "     $('div.input').hide();\n",
    "     } else {\n",
    "     $('div.input').show();\n",
    "     }\n",
    "     code_show = !code_show\n",
    "    } \n",
    "    $( document ).ready(code_toggle);\n",
    "    </script>\n",
    "    <form action=\"javascript:code_toggle()\"><input type=\"submit\" value=\"Click here to toggle on/off the raw code.\"></form>''')\n"
   ]
  },
  {
   "cell_type": "code",
   "execution_count": 2,
   "metadata": {},
   "outputs": [
    {
     "name": "stdout",
     "output_type": "stream",
     "text": [
      "Summary run: Fri, 14 Jan 2022 11:14\n"
     ]
    }
   ],
   "source": [
    "# Create timestamp to show when this summary was run\n",
    "print('Summary run: ' + time.strftime(\"%a, %d %b %Y %H:%M\"))"
   ]
  },
  {
   "cell_type": "code",
   "execution_count": 3,
   "metadata": {},
   "outputs": [],
   "source": [
    "pd.options.display.float_format = '{:0,.2f}'.format\n",
    "format_percent = \"{:,.2%}\".format\n",
    "relative_path = '../../../../outputs'"
   ]
  },
  {
   "cell_type": "markdown",
   "metadata": {},
   "source": [
    "# Commute Mode by Workplace Geography"
   ]
  },
  {
   "cell_type": "code",
   "execution_count": 4,
   "metadata": {},
   "outputs": [
    {
     "data": {
      "text/html": [
       "<div>\n",
       "<style scoped>\n",
       "    .dataframe tbody tr th:only-of-type {\n",
       "        vertical-align: middle;\n",
       "    }\n",
       "\n",
       "    .dataframe tbody tr th {\n",
       "        vertical-align: top;\n",
       "    }\n",
       "\n",
       "    .dataframe thead th {\n",
       "        text-align: right;\n",
       "    }\n",
       "</style>\n",
       "<table border=\"1\" class=\"dataframe\">\n",
       "  <thead>\n",
       "    <tr style=\"text-align: right;\">\n",
       "      <th></th>\n",
       "      <th>work_place</th>\n",
       "      <th>mode</th>\n",
       "      <th>modeled_mode_total</th>\n",
       "      <th>observed_mode_total</th>\n",
       "      <th>percent_diff</th>\n",
       "      <th>diff</th>\n",
       "      <th>modeled_mode_share</th>\n",
       "      <th>observed_mode_share</th>\n",
       "    </tr>\n",
       "  </thead>\n",
       "  <tbody>\n",
       "    <tr>\n",
       "      <th>0</th>\n",
       "      <td>Auburn</td>\n",
       "      <td>auto</td>\n",
       "      <td>37,269.00</td>\n",
       "      <td>33431</td>\n",
       "      <td>0.11</td>\n",
       "      <td>3,838.00</td>\n",
       "      <td>0.95</td>\n",
       "      <td>0.94</td>\n",
       "    </tr>\n",
       "    <tr>\n",
       "      <th>1</th>\n",
       "      <td>Auburn</td>\n",
       "      <td>transit</td>\n",
       "      <td>1,314.00</td>\n",
       "      <td>691</td>\n",
       "      <td>0.90</td>\n",
       "      <td>623.00</td>\n",
       "      <td>0.03</td>\n",
       "      <td>0.02</td>\n",
       "    </tr>\n",
       "    <tr>\n",
       "      <th>2</th>\n",
       "      <td>Auburn</td>\n",
       "      <td>walk_and_bike</td>\n",
       "      <td>581.00</td>\n",
       "      <td>1355</td>\n",
       "      <td>-0.57</td>\n",
       "      <td>-774.00</td>\n",
       "      <td>0.01</td>\n",
       "      <td>0.04</td>\n",
       "    </tr>\n",
       "    <tr>\n",
       "      <th>3</th>\n",
       "      <td>Bellevue</td>\n",
       "      <td>auto</td>\n",
       "      <td>101,030.00</td>\n",
       "      <td>96761</td>\n",
       "      <td>0.04</td>\n",
       "      <td>4,269.00</td>\n",
       "      <td>0.89</td>\n",
       "      <td>0.84</td>\n",
       "    </tr>\n",
       "    <tr>\n",
       "      <th>4</th>\n",
       "      <td>Bellevue</td>\n",
       "      <td>transit</td>\n",
       "      <td>6,253.00</td>\n",
       "      <td>12505</td>\n",
       "      <td>-0.50</td>\n",
       "      <td>-6,252.00</td>\n",
       "      <td>0.06</td>\n",
       "      <td>0.11</td>\n",
       "    </tr>\n",
       "    <tr>\n",
       "      <th>5</th>\n",
       "      <td>Bellevue</td>\n",
       "      <td>walk_and_bike</td>\n",
       "      <td>6,076.00</td>\n",
       "      <td>6464</td>\n",
       "      <td>-0.06</td>\n",
       "      <td>-388.00</td>\n",
       "      <td>0.05</td>\n",
       "      <td>0.06</td>\n",
       "    </tr>\n",
       "    <tr>\n",
       "      <th>6</th>\n",
       "      <td>Everett</td>\n",
       "      <td>auto</td>\n",
       "      <td>67,594.00</td>\n",
       "      <td>81741</td>\n",
       "      <td>-0.17</td>\n",
       "      <td>-14,147.00</td>\n",
       "      <td>0.94</td>\n",
       "      <td>0.92</td>\n",
       "    </tr>\n",
       "    <tr>\n",
       "      <th>7</th>\n",
       "      <td>Everett</td>\n",
       "      <td>transit</td>\n",
       "      <td>1,494.00</td>\n",
       "      <td>2766</td>\n",
       "      <td>-0.46</td>\n",
       "      <td>-1,272.00</td>\n",
       "      <td>0.02</td>\n",
       "      <td>0.03</td>\n",
       "    </tr>\n",
       "    <tr>\n",
       "      <th>8</th>\n",
       "      <td>Everett</td>\n",
       "      <td>walk_and_bike</td>\n",
       "      <td>2,838.00</td>\n",
       "      <td>3961</td>\n",
       "      <td>-0.28</td>\n",
       "      <td>-1,123.00</td>\n",
       "      <td>0.04</td>\n",
       "      <td>0.04</td>\n",
       "    </tr>\n",
       "    <tr>\n",
       "      <th>9</th>\n",
       "      <td>Federal Way</td>\n",
       "      <td>auto</td>\n",
       "      <td>20,856.00</td>\n",
       "      <td>27590</td>\n",
       "      <td>-0.24</td>\n",
       "      <td>-6,734.00</td>\n",
       "      <td>0.95</td>\n",
       "      <td>0.93</td>\n",
       "    </tr>\n",
       "    <tr>\n",
       "      <th>10</th>\n",
       "      <td>Federal Way</td>\n",
       "      <td>transit</td>\n",
       "      <td>612.00</td>\n",
       "      <td>110</td>\n",
       "      <td>4.56</td>\n",
       "      <td>502.00</td>\n",
       "      <td>0.03</td>\n",
       "      <td>0.00</td>\n",
       "    </tr>\n",
       "    <tr>\n",
       "      <th>11</th>\n",
       "      <td>Federal Way</td>\n",
       "      <td>walk_and_bike</td>\n",
       "      <td>547.00</td>\n",
       "      <td>1828</td>\n",
       "      <td>-0.70</td>\n",
       "      <td>-1,281.00</td>\n",
       "      <td>0.02</td>\n",
       "      <td>0.06</td>\n",
       "    </tr>\n",
       "    <tr>\n",
       "      <th>12</th>\n",
       "      <td>Kent</td>\n",
       "      <td>auto</td>\n",
       "      <td>67,873.00</td>\n",
       "      <td>55178</td>\n",
       "      <td>0.23</td>\n",
       "      <td>12,695.00</td>\n",
       "      <td>0.95</td>\n",
       "      <td>0.92</td>\n",
       "    </tr>\n",
       "    <tr>\n",
       "      <th>13</th>\n",
       "      <td>Kent</td>\n",
       "      <td>transit</td>\n",
       "      <td>2,560.00</td>\n",
       "      <td>2837</td>\n",
       "      <td>-0.10</td>\n",
       "      <td>-277.00</td>\n",
       "      <td>0.04</td>\n",
       "      <td>0.05</td>\n",
       "    </tr>\n",
       "    <tr>\n",
       "      <th>14</th>\n",
       "      <td>Kent</td>\n",
       "      <td>walk_and_bike</td>\n",
       "      <td>783.00</td>\n",
       "      <td>1647</td>\n",
       "      <td>-0.52</td>\n",
       "      <td>-864.00</td>\n",
       "      <td>0.01</td>\n",
       "      <td>0.03</td>\n",
       "    </tr>\n",
       "    <tr>\n",
       "      <th>15</th>\n",
       "      <td>Kirkland</td>\n",
       "      <td>auto</td>\n",
       "      <td>35,131.00</td>\n",
       "      <td>33893</td>\n",
       "      <td>0.04</td>\n",
       "      <td>1,238.00</td>\n",
       "      <td>0.94</td>\n",
       "      <td>0.87</td>\n",
       "    </tr>\n",
       "    <tr>\n",
       "      <th>16</th>\n",
       "      <td>Kirkland</td>\n",
       "      <td>transit</td>\n",
       "      <td>988.00</td>\n",
       "      <td>3409</td>\n",
       "      <td>-0.71</td>\n",
       "      <td>-2,421.00</td>\n",
       "      <td>0.03</td>\n",
       "      <td>0.09</td>\n",
       "    </tr>\n",
       "    <tr>\n",
       "      <th>17</th>\n",
       "      <td>Kirkland</td>\n",
       "      <td>walk_and_bike</td>\n",
       "      <td>1,155.00</td>\n",
       "      <td>1766</td>\n",
       "      <td>-0.35</td>\n",
       "      <td>-611.00</td>\n",
       "      <td>0.03</td>\n",
       "      <td>0.05</td>\n",
       "    </tr>\n",
       "    <tr>\n",
       "      <th>18</th>\n",
       "      <td>Redmond</td>\n",
       "      <td>auto</td>\n",
       "      <td>69,034.00</td>\n",
       "      <td>70825</td>\n",
       "      <td>-0.03</td>\n",
       "      <td>-1,791.00</td>\n",
       "      <td>0.93</td>\n",
       "      <td>0.85</td>\n",
       "    </tr>\n",
       "    <tr>\n",
       "      <th>19</th>\n",
       "      <td>Redmond</td>\n",
       "      <td>transit</td>\n",
       "      <td>3,290.00</td>\n",
       "      <td>8841</td>\n",
       "      <td>-0.63</td>\n",
       "      <td>-5,551.00</td>\n",
       "      <td>0.04</td>\n",
       "      <td>0.11</td>\n",
       "    </tr>\n",
       "    <tr>\n",
       "      <th>20</th>\n",
       "      <td>Redmond</td>\n",
       "      <td>walk_and_bike</td>\n",
       "      <td>2,047.00</td>\n",
       "      <td>4137</td>\n",
       "      <td>-0.51</td>\n",
       "      <td>-2,090.00</td>\n",
       "      <td>0.03</td>\n",
       "      <td>0.05</td>\n",
       "    </tr>\n",
       "    <tr>\n",
       "      <th>21</th>\n",
       "      <td>Renton</td>\n",
       "      <td>auto</td>\n",
       "      <td>46,138.00</td>\n",
       "      <td>56760</td>\n",
       "      <td>-0.19</td>\n",
       "      <td>-10,622.00</td>\n",
       "      <td>0.94</td>\n",
       "      <td>0.91</td>\n",
       "    </tr>\n",
       "    <tr>\n",
       "      <th>22</th>\n",
       "      <td>Renton</td>\n",
       "      <td>transit</td>\n",
       "      <td>2,144.00</td>\n",
       "      <td>2659</td>\n",
       "      <td>-0.19</td>\n",
       "      <td>-515.00</td>\n",
       "      <td>0.04</td>\n",
       "      <td>0.04</td>\n",
       "    </tr>\n",
       "    <tr>\n",
       "      <th>23</th>\n",
       "      <td>Renton</td>\n",
       "      <td>walk_and_bike</td>\n",
       "      <td>931.00</td>\n",
       "      <td>3287</td>\n",
       "      <td>-0.72</td>\n",
       "      <td>-2,356.00</td>\n",
       "      <td>0.02</td>\n",
       "      <td>0.05</td>\n",
       "    </tr>\n",
       "    <tr>\n",
       "      <th>24</th>\n",
       "      <td>Seattle</td>\n",
       "      <td>auto</td>\n",
       "      <td>374,889.00</td>\n",
       "      <td>303129</td>\n",
       "      <td>0.24</td>\n",
       "      <td>71,760.00</td>\n",
       "      <td>0.73</td>\n",
       "      <td>0.55</td>\n",
       "    </tr>\n",
       "    <tr>\n",
       "      <th>25</th>\n",
       "      <td>Seattle</td>\n",
       "      <td>transit</td>\n",
       "      <td>83,166.00</td>\n",
       "      <td>173739</td>\n",
       "      <td>-0.52</td>\n",
       "      <td>-90,573.00</td>\n",
       "      <td>0.16</td>\n",
       "      <td>0.32</td>\n",
       "    </tr>\n",
       "    <tr>\n",
       "      <th>26</th>\n",
       "      <td>Seattle</td>\n",
       "      <td>walk_and_bike</td>\n",
       "      <td>56,815.00</td>\n",
       "      <td>74582</td>\n",
       "      <td>-0.24</td>\n",
       "      <td>-17,767.00</td>\n",
       "      <td>0.11</td>\n",
       "      <td>0.14</td>\n",
       "    </tr>\n",
       "    <tr>\n",
       "      <th>27</th>\n",
       "      <td>Tacoma</td>\n",
       "      <td>auto</td>\n",
       "      <td>82,633.00</td>\n",
       "      <td>105163</td>\n",
       "      <td>-0.21</td>\n",
       "      <td>-22,530.00</td>\n",
       "      <td>0.93</td>\n",
       "      <td>0.94</td>\n",
       "    </tr>\n",
       "    <tr>\n",
       "      <th>28</th>\n",
       "      <td>Tacoma</td>\n",
       "      <td>transit</td>\n",
       "      <td>2,391.00</td>\n",
       "      <td>3199</td>\n",
       "      <td>-0.25</td>\n",
       "      <td>-808.00</td>\n",
       "      <td>0.03</td>\n",
       "      <td>0.03</td>\n",
       "    </tr>\n",
       "    <tr>\n",
       "      <th>29</th>\n",
       "      <td>Tacoma</td>\n",
       "      <td>walk_and_bike</td>\n",
       "      <td>4,289.00</td>\n",
       "      <td>3929</td>\n",
       "      <td>0.09</td>\n",
       "      <td>360.00</td>\n",
       "      <td>0.05</td>\n",
       "      <td>0.03</td>\n",
       "    </tr>\n",
       "  </tbody>\n",
       "</table>\n",
       "</div>"
      ],
      "text/plain": [
       "     work_place           mode  modeled_mode_total  observed_mode_total  \\\n",
       "0        Auburn           auto           37,269.00                33431   \n",
       "1        Auburn        transit            1,314.00                  691   \n",
       "2        Auburn  walk_and_bike              581.00                 1355   \n",
       "3      Bellevue           auto          101,030.00                96761   \n",
       "4      Bellevue        transit            6,253.00                12505   \n",
       "5      Bellevue  walk_and_bike            6,076.00                 6464   \n",
       "6       Everett           auto           67,594.00                81741   \n",
       "7       Everett        transit            1,494.00                 2766   \n",
       "8       Everett  walk_and_bike            2,838.00                 3961   \n",
       "9   Federal Way           auto           20,856.00                27590   \n",
       "10  Federal Way        transit              612.00                  110   \n",
       "11  Federal Way  walk_and_bike              547.00                 1828   \n",
       "12         Kent           auto           67,873.00                55178   \n",
       "13         Kent        transit            2,560.00                 2837   \n",
       "14         Kent  walk_and_bike              783.00                 1647   \n",
       "15     Kirkland           auto           35,131.00                33893   \n",
       "16     Kirkland        transit              988.00                 3409   \n",
       "17     Kirkland  walk_and_bike            1,155.00                 1766   \n",
       "18      Redmond           auto           69,034.00                70825   \n",
       "19      Redmond        transit            3,290.00                 8841   \n",
       "20      Redmond  walk_and_bike            2,047.00                 4137   \n",
       "21       Renton           auto           46,138.00                56760   \n",
       "22       Renton        transit            2,144.00                 2659   \n",
       "23       Renton  walk_and_bike              931.00                 3287   \n",
       "24      Seattle           auto          374,889.00               303129   \n",
       "25      Seattle        transit           83,166.00               173739   \n",
       "26      Seattle  walk_and_bike           56,815.00                74582   \n",
       "27       Tacoma           auto           82,633.00               105163   \n",
       "28       Tacoma        transit            2,391.00                 3199   \n",
       "29       Tacoma  walk_and_bike            4,289.00                 3929   \n",
       "\n",
       "    percent_diff       diff  modeled_mode_share  observed_mode_share  \n",
       "0           0.11   3,838.00                0.95                 0.94  \n",
       "1           0.90     623.00                0.03                 0.02  \n",
       "2          -0.57    -774.00                0.01                 0.04  \n",
       "3           0.04   4,269.00                0.89                 0.84  \n",
       "4          -0.50  -6,252.00                0.06                 0.11  \n",
       "5          -0.06    -388.00                0.05                 0.06  \n",
       "6          -0.17 -14,147.00                0.94                 0.92  \n",
       "7          -0.46  -1,272.00                0.02                 0.03  \n",
       "8          -0.28  -1,123.00                0.04                 0.04  \n",
       "9          -0.24  -6,734.00                0.95                 0.93  \n",
       "10          4.56     502.00                0.03                 0.00  \n",
       "11         -0.70  -1,281.00                0.02                 0.06  \n",
       "12          0.23  12,695.00                0.95                 0.92  \n",
       "13         -0.10    -277.00                0.04                 0.05  \n",
       "14         -0.52    -864.00                0.01                 0.03  \n",
       "15          0.04   1,238.00                0.94                 0.87  \n",
       "16         -0.71  -2,421.00                0.03                 0.09  \n",
       "17         -0.35    -611.00                0.03                 0.05  \n",
       "18         -0.03  -1,791.00                0.93                 0.85  \n",
       "19         -0.63  -5,551.00                0.04                 0.11  \n",
       "20         -0.51  -2,090.00                0.03                 0.05  \n",
       "21         -0.19 -10,622.00                0.94                 0.91  \n",
       "22         -0.19    -515.00                0.04                 0.04  \n",
       "23         -0.72  -2,356.00                0.02                 0.05  \n",
       "24          0.24  71,760.00                0.73                 0.55  \n",
       "25         -0.52 -90,573.00                0.16                 0.32  \n",
       "26         -0.24 -17,767.00                0.11                 0.14  \n",
       "27         -0.21 -22,530.00                0.93                 0.94  \n",
       "28         -0.25    -808.00                0.03                 0.03  \n",
       "29          0.09     360.00                0.05                 0.03  "
      ]
     },
     "execution_count": 4,
     "metadata": {},
     "output_type": "execute_result"
    }
   ],
   "source": [
    "df = pd.read_csv(os.path.join(relative_path,'validation','acs_commute_share_by_workplace_geog.csv'))\n",
    "\n",
    "# Add mode share by work_place field\n",
    "_df = df.groupby('work_place').sum()[['modeled','observed']].reset_index()\n",
    "_df = _df.merge(df, on='work_place', suffixes=['_geog_total','_mode_total'])\n",
    "_df['observed_mode_share'] = _df['observed_mode_total']/_df['observed_geog_total']\n",
    "_df['modeled_mode_share'] = _df['modeled_mode_total']/_df['modeled_geog_total']\n",
    "_df[['work_place','mode','modeled_mode_total','observed_mode_total','percent_diff','diff','modeled_mode_share','observed_mode_share']]"
   ]
  },
  {
   "cell_type": "code",
   "execution_count": 5,
   "metadata": {},
   "outputs": [
    {
     "name": "stdout",
     "output_type": "stream",
     "text": [
      "r^2 : 0.9503933507328184\n"
     ]
    },
    {
     "data": {
      "image/png": "[encoded data removed]",
      "text/plain": [
       "<Figure size 432x288 with 1 Axes>"
      ]
     },
     "metadata": {
      "needs_background": "light"
     },
     "output_type": "display_data"
    }
   ],
   "source": [
    "ax = df.plot(kind='scatter', x='observed', y='modeled')\n",
    "lim = df[['observed','modeled']].max().max()*1.05\n",
    "ax.set_ylim(0,lim)\n",
    "ax.set_xlim(0,lim)\n",
    "x = np.linspace(*ax.get_xlim())\n",
    "ax.plot(x, x)\n",
    "slope, intercept, r_value, p_value, std_err = stats.linregress(df['observed'],df['modeled'])\n",
    "print('r^2 : ' + str(r_value))"
   ]
  },
  {
   "cell_type": "markdown",
   "metadata": {},
   "source": [
    "# Commute Mode Shares by Work Place\n",
    "----"
   ]
  },
  {
   "cell_type": "code",
   "execution_count": 6,
   "metadata": {},
   "outputs": [],
   "source": [
    "df_tot = df.groupby(['work_place']).sum()[['modeled','observed']].reset_index()\n",
    "df_shares = df.merge(df_tot, on='work_place', suffixes=['','_total'])\n",
    "df_shares['mode_share_modeled'] = df_shares['modeled']/df_shares['modeled_total']\n",
    "df_shares['mode_share_observed'] = df_shares['observed']/df_shares['observed_total']\n",
    "df_shares.rename(columns={'mode_share_modeled': 'modeled', 'mode_share_observed': 'observed',\n",
    "                         'modeled': '_', 'observed': '__'}, inplace=True)\n",
    "df_shares = df_shares[['work_place','modeled','observed','mode']]\n",
    "df_shares['percent_diff'] = (df_shares['modeled']-df_shares['observed'])/df_shares['observed']\n",
    "df_shares['diff'] = df_shares['modeled']-df_shares['observed']"
   ]
  },
  {
   "cell_type": "markdown",
   "metadata": {},
   "source": [
    "## Auto"
   ]
  },
  {
   "cell_type": "code",
   "execution_count": 7,
   "metadata": {},
   "outputs": [
    {
     "data": {
      "text/html": [
       "<div>\n",
       "<style scoped>\n",
       "    .dataframe tbody tr th:only-of-type {\n",
       "        vertical-align: middle;\n",
       "    }\n",
       "\n",
       "    .dataframe tbody tr th {\n",
       "        vertical-align: top;\n",
       "    }\n",
       "\n",
       "    .dataframe thead th {\n",
       "        text-align: right;\n",
       "    }\n",
       "</style>\n",
       "<table border=\"1\" class=\"dataframe\">\n",
       "  <thead>\n",
       "    <tr style=\"text-align: right;\">\n",
       "      <th></th>\n",
       "      <th>work_place</th>\n",
       "      <th>modeled</th>\n",
       "      <th>observed</th>\n",
       "      <th>mode</th>\n",
       "      <th>percent_diff</th>\n",
       "      <th>diff</th>\n",
       "    </tr>\n",
       "  </thead>\n",
       "  <tbody>\n",
       "    <tr>\n",
       "      <th>0</th>\n",
       "      <td>Auburn</td>\n",
       "      <td>0.95</td>\n",
       "      <td>0.94</td>\n",
       "      <td>auto</td>\n",
       "      <td>0.01</td>\n",
       "      <td>0.01</td>\n",
       "    </tr>\n",
       "    <tr>\n",
       "      <th>3</th>\n",
       "      <td>Bellevue</td>\n",
       "      <td>0.89</td>\n",
       "      <td>0.84</td>\n",
       "      <td>auto</td>\n",
       "      <td>0.07</td>\n",
       "      <td>0.06</td>\n",
       "    </tr>\n",
       "    <tr>\n",
       "      <th>6</th>\n",
       "      <td>Everett</td>\n",
       "      <td>0.94</td>\n",
       "      <td>0.92</td>\n",
       "      <td>auto</td>\n",
       "      <td>0.02</td>\n",
       "      <td>0.02</td>\n",
       "    </tr>\n",
       "    <tr>\n",
       "      <th>9</th>\n",
       "      <td>Federal Way</td>\n",
       "      <td>0.95</td>\n",
       "      <td>0.93</td>\n",
       "      <td>auto</td>\n",
       "      <td>0.01</td>\n",
       "      <td>0.01</td>\n",
       "    </tr>\n",
       "    <tr>\n",
       "      <th>12</th>\n",
       "      <td>Kent</td>\n",
       "      <td>0.95</td>\n",
       "      <td>0.92</td>\n",
       "      <td>auto</td>\n",
       "      <td>0.03</td>\n",
       "      <td>0.03</td>\n",
       "    </tr>\n",
       "    <tr>\n",
       "      <th>15</th>\n",
       "      <td>Kirkland</td>\n",
       "      <td>0.94</td>\n",
       "      <td>0.87</td>\n",
       "      <td>auto</td>\n",
       "      <td>0.09</td>\n",
       "      <td>0.07</td>\n",
       "    </tr>\n",
       "    <tr>\n",
       "      <th>18</th>\n",
       "      <td>Redmond</td>\n",
       "      <td>0.93</td>\n",
       "      <td>0.85</td>\n",
       "      <td>auto</td>\n",
       "      <td>0.10</td>\n",
       "      <td>0.08</td>\n",
       "    </tr>\n",
       "    <tr>\n",
       "      <th>21</th>\n",
       "      <td>Renton</td>\n",
       "      <td>0.94</td>\n",
       "      <td>0.91</td>\n",
       "      <td>auto</td>\n",
       "      <td>0.04</td>\n",
       "      <td>0.03</td>\n",
       "    </tr>\n",
       "    <tr>\n",
       "      <th>24</th>\n",
       "      <td>Seattle</td>\n",
       "      <td>0.73</td>\n",
       "      <td>0.55</td>\n",
       "      <td>auto</td>\n",
       "      <td>0.32</td>\n",
       "      <td>0.18</td>\n",
       "    </tr>\n",
       "    <tr>\n",
       "      <th>27</th>\n",
       "      <td>Tacoma</td>\n",
       "      <td>0.93</td>\n",
       "      <td>0.94</td>\n",
       "      <td>auto</td>\n",
       "      <td>-0.01</td>\n",
       "      <td>-0.01</td>\n",
       "    </tr>\n",
       "  </tbody>\n",
       "</table>\n",
       "</div>"
      ],
      "text/plain": [
       "     work_place  modeled  observed  mode  percent_diff  diff\n",
       "0        Auburn     0.95      0.94  auto          0.01  0.01\n",
       "3      Bellevue     0.89      0.84  auto          0.07  0.06\n",
       "6       Everett     0.94      0.92  auto          0.02  0.02\n",
       "9   Federal Way     0.95      0.93  auto          0.01  0.01\n",
       "12         Kent     0.95      0.92  auto          0.03  0.03\n",
       "15     Kirkland     0.94      0.87  auto          0.09  0.07\n",
       "18      Redmond     0.93      0.85  auto          0.10  0.08\n",
       "21       Renton     0.94      0.91  auto          0.04  0.03\n",
       "24      Seattle     0.73      0.55  auto          0.32  0.18\n",
       "27       Tacoma     0.93      0.94  auto         -0.01 -0.01"
      ]
     },
     "execution_count": 7,
     "metadata": {},
     "output_type": "execute_result"
    }
   ],
   "source": [
    "_df = df_shares[df_shares['mode'] == 'auto']\n",
    "_df"
   ]
  },
  {
   "cell_type": "code",
   "execution_count": 8,
   "metadata": {},
   "outputs": [
    {
     "name": "stdout",
     "output_type": "stream",
     "text": [
      "r^2 : 0.9696017106340644\n"
     ]
    },
    {
     "data": {
      "image/png": "[encoded data removed]",
      "text/plain": [
       "<Figure size 432x288 with 1 Axes>"
      ]
     },
     "metadata": {
      "needs_background": "light"
     },
     "output_type": "display_data"
    }
   ],
   "source": [
    "ax = _df.plot(kind='scatter', x='observed', y='modeled')\n",
    "lim = _df[['observed','modeled']].max().max()*1.05\n",
    "ax.set_ylim(0,lim)\n",
    "ax.set_xlim(0,lim)\n",
    "x = np.linspace(*ax.get_xlim())\n",
    "ax.plot(x, x)\n",
    "slope, intercept, r_value, p_value, std_err = stats.linregress(_df['observed'],_df['modeled'])\n",
    "print('r^2 : ' + str(r_value))"
   ]
  },
  {
   "cell_type": "markdown",
   "metadata": {},
   "source": [
    "## Transit"
   ]
  },
  {
   "cell_type": "code",
   "execution_count": 9,
   "metadata": {},
   "outputs": [
    {
     "data": {
      "text/html": [
       "<div>\n",
       "<style scoped>\n",
       "    .dataframe tbody tr th:only-of-type {\n",
       "        vertical-align: middle;\n",
       "    }\n",
       "\n",
       "    .dataframe tbody tr th {\n",
       "        vertical-align: top;\n",
       "    }\n",
       "\n",
       "    .dataframe thead th {\n",
       "        text-align: right;\n",
       "    }\n",
       "</style>\n",
       "<table border=\"1\" class=\"dataframe\">\n",
       "  <thead>\n",
       "    <tr style=\"text-align: right;\">\n",
       "      <th></th>\n",
       "      <th>work_place</th>\n",
       "      <th>modeled</th>\n",
       "      <th>observed</th>\n",
       "      <th>mode</th>\n",
       "      <th>percent_diff</th>\n",
       "      <th>diff</th>\n",
       "    </tr>\n",
       "  </thead>\n",
       "  <tbody>\n",
       "    <tr>\n",
       "      <th>1</th>\n",
       "      <td>Auburn</td>\n",
       "      <td>0.03</td>\n",
       "      <td>0.02</td>\n",
       "      <td>transit</td>\n",
       "      <td>0.72</td>\n",
       "      <td>0.01</td>\n",
       "    </tr>\n",
       "    <tr>\n",
       "      <th>4</th>\n",
       "      <td>Bellevue</td>\n",
       "      <td>0.06</td>\n",
       "      <td>0.11</td>\n",
       "      <td>transit</td>\n",
       "      <td>-0.49</td>\n",
       "      <td>-0.05</td>\n",
       "    </tr>\n",
       "    <tr>\n",
       "      <th>7</th>\n",
       "      <td>Everett</td>\n",
       "      <td>0.02</td>\n",
       "      <td>0.03</td>\n",
       "      <td>transit</td>\n",
       "      <td>-0.34</td>\n",
       "      <td>-0.01</td>\n",
       "    </tr>\n",
       "    <tr>\n",
       "      <th>10</th>\n",
       "      <td>Federal Way</td>\n",
       "      <td>0.03</td>\n",
       "      <td>0.00</td>\n",
       "      <td>transit</td>\n",
       "      <td>6.46</td>\n",
       "      <td>0.02</td>\n",
       "    </tr>\n",
       "    <tr>\n",
       "      <th>13</th>\n",
       "      <td>Kent</td>\n",
       "      <td>0.04</td>\n",
       "      <td>0.05</td>\n",
       "      <td>transit</td>\n",
       "      <td>-0.24</td>\n",
       "      <td>-0.01</td>\n",
       "    </tr>\n",
       "    <tr>\n",
       "      <th>16</th>\n",
       "      <td>Kirkland</td>\n",
       "      <td>0.03</td>\n",
       "      <td>0.09</td>\n",
       "      <td>transit</td>\n",
       "      <td>-0.70</td>\n",
       "      <td>-0.06</td>\n",
       "    </tr>\n",
       "    <tr>\n",
       "      <th>19</th>\n",
       "      <td>Redmond</td>\n",
       "      <td>0.04</td>\n",
       "      <td>0.11</td>\n",
       "      <td>transit</td>\n",
       "      <td>-0.58</td>\n",
       "      <td>-0.06</td>\n",
       "    </tr>\n",
       "    <tr>\n",
       "      <th>22</th>\n",
       "      <td>Renton</td>\n",
       "      <td>0.04</td>\n",
       "      <td>0.04</td>\n",
       "      <td>transit</td>\n",
       "      <td>0.03</td>\n",
       "      <td>0.00</td>\n",
       "    </tr>\n",
       "    <tr>\n",
       "      <th>25</th>\n",
       "      <td>Seattle</td>\n",
       "      <td>0.16</td>\n",
       "      <td>0.32</td>\n",
       "      <td>transit</td>\n",
       "      <td>-0.49</td>\n",
       "      <td>-0.15</td>\n",
       "    </tr>\n",
       "    <tr>\n",
       "      <th>28</th>\n",
       "      <td>Tacoma</td>\n",
       "      <td>0.03</td>\n",
       "      <td>0.03</td>\n",
       "      <td>transit</td>\n",
       "      <td>-0.06</td>\n",
       "      <td>-0.00</td>\n",
       "    </tr>\n",
       "  </tbody>\n",
       "</table>\n",
       "</div>"
      ],
      "text/plain": [
       "     work_place  modeled  observed     mode  percent_diff  diff\n",
       "1        Auburn     0.03      0.02  transit          0.72  0.01\n",
       "4      Bellevue     0.06      0.11  transit         -0.49 -0.05\n",
       "7       Everett     0.02      0.03  transit         -0.34 -0.01\n",
       "10  Federal Way     0.03      0.00  transit          6.46  0.02\n",
       "13         Kent     0.04      0.05  transit         -0.24 -0.01\n",
       "16     Kirkland     0.03      0.09  transit         -0.70 -0.06\n",
       "19      Redmond     0.04      0.11  transit         -0.58 -0.06\n",
       "22       Renton     0.04      0.04  transit          0.03  0.00\n",
       "25      Seattle     0.16      0.32  transit         -0.49 -0.15\n",
       "28       Tacoma     0.03      0.03  transit         -0.06 -0.00"
      ]
     },
     "execution_count": 9,
     "metadata": {},
     "output_type": "execute_result"
    }
   ],
   "source": [
    "_df = df_shares[df_shares['mode'] == 'transit']\n",
    "_df"
   ]
  },
  {
   "cell_type": "code",
   "execution_count": 10,
   "metadata": {},
   "outputs": [
    {
     "name": "stdout",
     "output_type": "stream",
     "text": [
      "r^2 : 0.9508849842746121\n"
     ]
    },
    {
     "data": {
      "image/png": "[encoded data removed]",
      "text/plain": [
       "<Figure size 432x288 with 1 Axes>"
      ]
     },
     "metadata": {
      "needs_background": "light"
     },
     "output_type": "display_data"
    }
   ],
   "source": [
    "ax = _df.plot(kind='scatter', x='observed', y='modeled')\n",
    "lim = _df[['observed','modeled']].max().max()*1.05\n",
    "ax.set_ylim(0,lim)\n",
    "ax.set_xlim(0,lim)\n",
    "x = np.linspace(*ax.get_xlim())\n",
    "ax.plot(x, x)\n",
    "slope, intercept, r_value, p_value, std_err = stats.linregress(_df['observed'],_df['modeled'])\n",
    "print('r^2 : ' + str(r_value))"
   ]
  },
  {
   "cell_type": "markdown",
   "metadata": {},
   "source": [
    "## Walk and Bike"
   ]
  },
  {
   "cell_type": "code",
   "execution_count": 11,
   "metadata": {},
   "outputs": [
    {
     "data": {
      "text/html": [
       "<div>\n",
       "<style scoped>\n",
       "    .dataframe tbody tr th:only-of-type {\n",
       "        vertical-align: middle;\n",
       "    }\n",
       "\n",
       "    .dataframe tbody tr th {\n",
       "        vertical-align: top;\n",
       "    }\n",
       "\n",
       "    .dataframe thead th {\n",
       "        text-align: right;\n",
       "    }\n",
       "</style>\n",
       "<table border=\"1\" class=\"dataframe\">\n",
       "  <thead>\n",
       "    <tr style=\"text-align: right;\">\n",
       "      <th></th>\n",
       "      <th>work_place</th>\n",
       "      <th>modeled</th>\n",
       "      <th>observed</th>\n",
       "      <th>mode</th>\n",
       "      <th>percent_diff</th>\n",
       "      <th>diff</th>\n",
       "    </tr>\n",
       "  </thead>\n",
       "  <tbody>\n",
       "    <tr>\n",
       "      <th>2</th>\n",
       "      <td>Auburn</td>\n",
       "      <td>0.01</td>\n",
       "      <td>0.04</td>\n",
       "      <td>walk_and_bike</td>\n",
       "      <td>-0.61</td>\n",
       "      <td>-0.02</td>\n",
       "    </tr>\n",
       "    <tr>\n",
       "      <th>5</th>\n",
       "      <td>Bellevue</td>\n",
       "      <td>0.05</td>\n",
       "      <td>0.06</td>\n",
       "      <td>walk_and_bike</td>\n",
       "      <td>-0.04</td>\n",
       "      <td>-0.00</td>\n",
       "    </tr>\n",
       "    <tr>\n",
       "      <th>8</th>\n",
       "      <td>Everett</td>\n",
       "      <td>0.04</td>\n",
       "      <td>0.04</td>\n",
       "      <td>walk_and_bike</td>\n",
       "      <td>-0.12</td>\n",
       "      <td>-0.01</td>\n",
       "    </tr>\n",
       "    <tr>\n",
       "      <th>11</th>\n",
       "      <td>Federal Way</td>\n",
       "      <td>0.02</td>\n",
       "      <td>0.06</td>\n",
       "      <td>walk_and_bike</td>\n",
       "      <td>-0.60</td>\n",
       "      <td>-0.04</td>\n",
       "    </tr>\n",
       "    <tr>\n",
       "      <th>14</th>\n",
       "      <td>Kent</td>\n",
       "      <td>0.01</td>\n",
       "      <td>0.03</td>\n",
       "      <td>walk_and_bike</td>\n",
       "      <td>-0.60</td>\n",
       "      <td>-0.02</td>\n",
       "    </tr>\n",
       "    <tr>\n",
       "      <th>17</th>\n",
       "      <td>Kirkland</td>\n",
       "      <td>0.03</td>\n",
       "      <td>0.05</td>\n",
       "      <td>walk_and_bike</td>\n",
       "      <td>-0.31</td>\n",
       "      <td>-0.01</td>\n",
       "    </tr>\n",
       "    <tr>\n",
       "      <th>20</th>\n",
       "      <td>Redmond</td>\n",
       "      <td>0.03</td>\n",
       "      <td>0.05</td>\n",
       "      <td>walk_and_bike</td>\n",
       "      <td>-0.44</td>\n",
       "      <td>-0.02</td>\n",
       "    </tr>\n",
       "    <tr>\n",
       "      <th>23</th>\n",
       "      <td>Renton</td>\n",
       "      <td>0.02</td>\n",
       "      <td>0.05</td>\n",
       "      <td>walk_and_bike</td>\n",
       "      <td>-0.64</td>\n",
       "      <td>-0.03</td>\n",
       "    </tr>\n",
       "    <tr>\n",
       "      <th>26</th>\n",
       "      <td>Seattle</td>\n",
       "      <td>0.11</td>\n",
       "      <td>0.14</td>\n",
       "      <td>walk_and_bike</td>\n",
       "      <td>-0.18</td>\n",
       "      <td>-0.02</td>\n",
       "    </tr>\n",
       "    <tr>\n",
       "      <th>29</th>\n",
       "      <td>Tacoma</td>\n",
       "      <td>0.05</td>\n",
       "      <td>0.03</td>\n",
       "      <td>walk_and_bike</td>\n",
       "      <td>0.37</td>\n",
       "      <td>0.01</td>\n",
       "    </tr>\n",
       "  </tbody>\n",
       "</table>\n",
       "</div>"
      ],
      "text/plain": [
       "     work_place  modeled  observed           mode  percent_diff  diff\n",
       "2        Auburn     0.01      0.04  walk_and_bike         -0.61 -0.02\n",
       "5      Bellevue     0.05      0.06  walk_and_bike         -0.04 -0.00\n",
       "8       Everett     0.04      0.04  walk_and_bike         -0.12 -0.01\n",
       "11  Federal Way     0.02      0.06  walk_and_bike         -0.60 -0.04\n",
       "14         Kent     0.01      0.03  walk_and_bike         -0.60 -0.02\n",
       "17     Kirkland     0.03      0.05  walk_and_bike         -0.31 -0.01\n",
       "20      Redmond     0.03      0.05  walk_and_bike         -0.44 -0.02\n",
       "23       Renton     0.02      0.05  walk_and_bike         -0.64 -0.03\n",
       "26      Seattle     0.11      0.14  walk_and_bike         -0.18 -0.02\n",
       "29       Tacoma     0.05      0.03  walk_and_bike          0.37  0.01"
      ]
     },
     "execution_count": 11,
     "metadata": {},
     "output_type": "execute_result"
    }
   ],
   "source": [
    "_df = df_shares[df_shares['mode'] == 'walk_and_bike']\n",
    "_df"
   ]
  },
  {
   "cell_type": "code",
   "execution_count": 12,
   "metadata": {},
   "outputs": [
    {
     "name": "stdout",
     "output_type": "stream",
     "text": [
      "r^2 : 0.8692586061753328\n"
     ]
    },
    {
     "data": {
      "image/png": "[encoded data removed]",
      "text/plain": [
       "<Figure size 432x288 with 1 Axes>"
      ]
     },
     "metadata": {
      "needs_background": "light"
     },
     "output_type": "display_data"
    }
   ],
   "source": [
    "ax = _df.plot(kind='scatter', x='observed', y='modeled')\n",
    "lim = _df[['observed','modeled']].max().max()*1.05\n",
    "ax.set_ylim(0,lim)\n",
    "ax.set_xlim(0,lim)\n",
    "x = np.linspace(*ax.get_xlim())\n",
    "ax.plot(x, x)\n",
    "slope, intercept, r_value, p_value, std_err = stats.linregress(_df['observed'],_df['modeled'])\n",
    "print('r^2 : ' + str(r_value))"
   ]
  },
  {
   "cell_type": "markdown",
   "metadata": {},
   "source": [
    "# Commute Mode Share by Home Tract\n",
    "----"
   ]
  },
  {
   "cell_type": "code",
   "execution_count": 13,
   "metadata": {},
   "outputs": [],
   "source": [
    "df = pd.read_csv(os.path.join(relative_path,'validation','acs_commute_share_by_home_tract.csv'))\n",
    "pd.options.display.float_format = '{:0,.0f}'.format"
   ]
  },
  {
   "cell_type": "code",
   "execution_count": 14,
   "metadata": {},
   "outputs": [
    {
     "data": {
      "text/html": [
       "<div>\n",
       "<style scoped>\n",
       "    .dataframe tbody tr th:only-of-type {\n",
       "        vertical-align: middle;\n",
       "    }\n",
       "\n",
       "    .dataframe tbody tr th {\n",
       "        vertical-align: top;\n",
       "    }\n",
       "\n",
       "    .dataframe thead th {\n",
       "        text-align: right;\n",
       "    }\n",
       "</style>\n",
       "<table border=\"1\" class=\"dataframe\">\n",
       "  <thead>\n",
       "    <tr style=\"text-align: right;\">\n",
       "      <th></th>\n",
       "      <th>CountyName</th>\n",
       "      <th>modeled</th>\n",
       "      <th>observed</th>\n",
       "    </tr>\n",
       "  </thead>\n",
       "  <tbody>\n",
       "    <tr>\n",
       "      <th>0</th>\n",
       "      <td>King</td>\n",
       "      <td>1,111,721</td>\n",
       "      <td>1,022,982</td>\n",
       "    </tr>\n",
       "    <tr>\n",
       "      <th>1</th>\n",
       "      <td>Kitsap</td>\n",
       "      <td>80,695</td>\n",
       "      <td>105,135</td>\n",
       "    </tr>\n",
       "    <tr>\n",
       "      <th>2</th>\n",
       "      <td>Pierce</td>\n",
       "      <td>227,397</td>\n",
       "      <td>358,602</td>\n",
       "    </tr>\n",
       "    <tr>\n",
       "      <th>3</th>\n",
       "      <td>Snohomish</td>\n",
       "      <td>210,627</td>\n",
       "      <td>350,898</td>\n",
       "    </tr>\n",
       "  </tbody>\n",
       "</table>\n",
       "</div>"
      ],
      "text/plain": [
       "  CountyName   modeled  observed\n",
       "0       King 1,111,721 1,022,982\n",
       "1     Kitsap    80,695   105,135\n",
       "2     Pierce   227,397   358,602\n",
       "3  Snohomish   210,627   350,898"
      ]
     },
     "execution_count": 14,
     "metadata": {},
     "output_type": "execute_result"
    }
   ],
   "source": [
    "df_county = df.groupby('CountyName').sum()[['modeled','observed']].reset_index()\n",
    "df_county"
   ]
  },
  {
   "cell_type": "code",
   "execution_count": 15,
   "metadata": {},
   "outputs": [
    {
     "data": {
      "text/html": [
       "<div>\n",
       "<style scoped>\n",
       "    .dataframe tbody tr th:only-of-type {\n",
       "        vertical-align: middle;\n",
       "    }\n",
       "\n",
       "    .dataframe tbody tr th {\n",
       "        vertical-align: top;\n",
       "    }\n",
       "\n",
       "    .dataframe thead th {\n",
       "        text-align: right;\n",
       "    }\n",
       "</style>\n",
       "<table border=\"1\" class=\"dataframe\">\n",
       "  <thead>\n",
       "    <tr style=\"text-align: right;\">\n",
       "      <th></th>\n",
       "      <th>CountyGroup</th>\n",
       "      <th>modeled</th>\n",
       "      <th>observed</th>\n",
       "    </tr>\n",
       "  </thead>\n",
       "  <tbody>\n",
       "    <tr>\n",
       "      <th>0</th>\n",
       "      <td>Other</td>\n",
       "      <td>1,403,043</td>\n",
       "      <td>1,479,015</td>\n",
       "    </tr>\n",
       "    <tr>\n",
       "      <th>1</th>\n",
       "      <td>Pierce</td>\n",
       "      <td>227,397</td>\n",
       "      <td>358,602</td>\n",
       "    </tr>\n",
       "  </tbody>\n",
       "</table>\n",
       "</div>"
      ],
      "text/plain": [
       "  CountyGroup   modeled  observed\n",
       "0       Other 1,403,043 1,479,015\n",
       "1      Pierce   227,397   358,602"
      ]
     },
     "execution_count": 15,
     "metadata": {},
     "output_type": "execute_result"
    }
   ],
   "source": [
    "df_county['CountyGroup'] = np.where(df_county['CountyName']=='Pierce','Pierce','Other')\n",
    "df_pierce = df_county.groupby('CountyGroup').sum()[['modeled', 'observed']].reset_index()\n",
    "df_pierce"
   ]
  },
  {
   "cell_type": "code",
   "execution_count": 16,
   "metadata": {},
   "outputs": [],
   "source": [
    "def calculate_shares(df, geog_col, apply_format=False):\n",
    "    \n",
    "    df[['modeled','observed']] = df[['modeled','observed']].astype('int')\n",
    "    df_total = df.groupby(geog_col).sum()[['modeled','observed']].reset_index()\n",
    "    df_total.rename(columns={'modeled': 'modeled_total','observed':'observed_total'}, inplace=True)\n",
    "    df = df.merge(df_total, on=geog_col, how='left')\n",
    "    df['modeled_share'] = df['modeled']*1.0/df['modeled_total']\n",
    "    df['observed_share'] = df['observed']*1.0/df['observed_total']\n",
    "    if apply_format:\n",
    "        df[['modeled_share','observed_share']] = df[['modeled_share','observed_share']].applymap(format_percent)\n",
    "    \n",
    "    return df"
   ]
  },
  {
   "cell_type": "code",
   "execution_count": 17,
   "metadata": {},
   "outputs": [],
   "source": [
    "df_county_mode = df.groupby(['CountyName','mode']).sum()[['modeled','observed']].reset_index()\n",
    "df_county_mode = calculate_shares(df_county_mode, 'CountyName', apply_format=True)\n",
    "# Shares by Tract\n",
    "df_tract = df[['geoid','mode','modeled','observed']]\n",
    "df_tract_shares = calculate_shares(df_tract, 'geoid')"
   ]
  },
  {
   "cell_type": "markdown",
   "metadata": {},
   "source": [
    "## SOV"
   ]
  },
  {
   "cell_type": "code",
   "execution_count": 18,
   "metadata": {},
   "outputs": [
    {
     "name": "stdout",
     "output_type": "stream",
     "text": [
      " r^2: 0.5914087722619639\n"
     ]
    },
    {
     "data": {
      "image/png": "[encoded data removed]",
      "text/plain": [
       "<Figure size 432x288 with 1 Axes>"
      ]
     },
     "metadata": {
      "needs_background": "light"
     },
     "output_type": "display_data"
    }
   ],
   "source": [
    "# Show only SOV\n",
    "sov_tract_shares = df_tract_shares[df_tract_shares['mode'] == 'SOV']\n",
    "sov_tract_shares = sov_tract_shares[-sov_tract_shares.observed_share.isnull()]\n",
    "\n",
    "_df = sov_tract_shares.copy()\n",
    "ax = _df.plot(kind='scatter', x='observed_share', y='modeled_share')\n",
    "lim = _df[['observed_share','modeled_share']].max().max()*1.05\n",
    "ax.set_ylim(0,lim)\n",
    "ax.set_xlim(0,lim)\n",
    "slope, intercept, r_value, p_value, std_err = stats.linregress(_df['observed_share'],_df['modeled_share'])\n",
    "x = np.linspace(*ax.get_xlim())\n",
    "ax.plot(x, x)\n",
    "print(' r^2: ' + str(r_value))"
   ]
  },
  {
   "cell_type": "markdown",
   "metadata": {},
   "source": [
    "## HOV"
   ]
  },
  {
   "cell_type": "code",
   "execution_count": 19,
   "metadata": {},
   "outputs": [
    {
     "name": "stdout",
     "output_type": "stream",
     "text": [
      " r^2: 0.5664316223509509\n"
     ]
    },
    {
     "data": {
      "image/png": "[encoded data removed]",
      "text/plain": [
       "<Figure size 432x288 with 1 Axes>"
      ]
     },
     "metadata": {
      "needs_background": "light"
     },
     "output_type": "display_data"
    }
   ],
   "source": [
    "# Show only SOV\n",
    "sov_tract_shares = df_tract_shares[df_tract_shares['mode'] == 'HOV']\n",
    "sov_tract_shares = sov_tract_shares[-sov_tract_shares.observed_share.isnull()]\n",
    "\n",
    "_df = sov_tract_shares.copy()\n",
    "ax = _df.plot(kind='scatter', x='observed_share', y='modeled_share')\n",
    "lim = _df[['observed_share','modeled_share']].max().max()*1.05\n",
    "ax.set_ylim(0,lim)\n",
    "ax.set_xlim(0,lim)\n",
    "slope, intercept, r_value, p_value, std_err = stats.linregress(_df['observed_share'],_df['modeled_share'])\n",
    "x = np.linspace(*ax.get_xlim())\n",
    "ax.plot(x, x)\n",
    "print(' r^2: ' + str(r_value))"
   ]
  },
  {
   "cell_type": "markdown",
   "metadata": {},
   "source": [
    "## Transit"
   ]
  },
  {
   "cell_type": "code",
   "execution_count": 20,
   "metadata": {},
   "outputs": [
    {
     "name": "stdout",
     "output_type": "stream",
     "text": [
      " r^2: 0.6098698771329341\n"
     ]
    },
    {
     "data": {
      "image/png": "[encoded data removed]",
      "text/plain": [
       "<Figure size 432x288 with 1 Axes>"
      ]
     },
     "metadata": {
      "needs_background": "light"
     },
     "output_type": "display_data"
    }
   ],
   "source": [
    "# Show only SOV\n",
    "sov_tract_shares = df_tract_shares[df_tract_shares['mode'] == 'Transit']\n",
    "sov_tract_shares = sov_tract_shares[-sov_tract_shares.observed_share.isnull()]\n",
    "\n",
    "_df = sov_tract_shares.copy()\n",
    "ax = _df.plot(kind='scatter', x='observed_share', y='modeled_share')\n",
    "lim = _df[['observed_share','modeled_share']].max().max()*1.05\n",
    "ax.set_ylim(0,lim)\n",
    "ax.set_xlim(0,lim)\n",
    "slope, intercept, r_value, p_value, std_err = stats.linregress(_df['observed_share'],_df['modeled_share'])\n",
    "x = np.linspace(*ax.get_xlim())\n",
    "ax.plot(x, x)\n",
    "print(' r^2: ' + str(r_value))"
   ]
  },
  {
   "cell_type": "markdown",
   "metadata": {},
   "source": [
    "## Walk"
   ]
  },
  {
   "cell_type": "code",
   "execution_count": 21,
   "metadata": {},
   "outputs": [
    {
     "name": "stdout",
     "output_type": "stream",
     "text": [
      " r^2: 0.7361480036421376\n"
     ]
    },
    {
     "data": {
      "image/png": "[encoded data removed]",
      "text/plain": [
       "<Figure size 432x288 with 1 Axes>"
      ]
     },
     "metadata": {
      "needs_background": "light"
     },
     "output_type": "display_data"
    }
   ],
   "source": [
    "# Show only SOV\n",
    "sov_tract_shares = df_tract_shares[df_tract_shares['mode'] == 'Walk']\n",
    "sov_tract_shares = sov_tract_shares[-sov_tract_shares.observed_share.isnull()]\n",
    "\n",
    "_df = sov_tract_shares.copy()\n",
    "ax = _df.plot(kind='scatter', x='observed_share', y='modeled_share')\n",
    "lim = _df[['observed_share','modeled_share']].max().max()*1.05\n",
    "ax.set_ylim(0,lim)\n",
    "ax.set_xlim(0,lim)\n",
    "slope, intercept, r_value, p_value, std_err = stats.linregress(_df['observed_share'],_df['modeled_share'])\n",
    "x = np.linspace(*ax.get_xlim())\n",
    "ax.plot(x, x)\n",
    "print(' r^2: ' + str(r_value))"
   ]
  },
  {
   "cell_type": "markdown",
   "metadata": {},
   "source": [
    "# Commute Mode Share by Home Tract - Pierce County"
   ]
  },
  {
   "cell_type": "code",
   "execution_count": 22,
   "metadata": {},
   "outputs": [],
   "source": [
    "df = pd.read_csv(os.path.join(relative_path,'validation','acs_commute_share_by_home_tract.csv'))\n",
    "df = df[df['CountyName'] == 'Pierce']\n",
    "\n",
    "df_county_mode = df.groupby(['CountyName','mode']).sum()[['modeled','observed']].reset_index()\n",
    "df_county_mode = calculate_shares(df_county_mode, 'CountyName', apply_format=True)\n",
    "# Shares by Tract\n",
    "df_tract = df[['geoid','mode','modeled','observed']]\n",
    "df_tract_shares = calculate_shares(df_tract, 'geoid')"
   ]
  },
  {
   "cell_type": "code",
   "execution_count": 23,
   "metadata": {},
   "outputs": [
    {
     "data": {
      "text/html": [
       "<div>\n",
       "<style scoped>\n",
       "    .dataframe tbody tr th:only-of-type {\n",
       "        vertical-align: middle;\n",
       "    }\n",
       "\n",
       "    .dataframe tbody tr th {\n",
       "        vertical-align: top;\n",
       "    }\n",
       "\n",
       "    .dataframe thead th {\n",
       "        text-align: right;\n",
       "    }\n",
       "</style>\n",
       "<table border=\"1\" class=\"dataframe\">\n",
       "  <thead>\n",
       "    <tr style=\"text-align: right;\">\n",
       "      <th></th>\n",
       "      <th>CountyName</th>\n",
       "      <th>mode</th>\n",
       "      <th>modeled</th>\n",
       "      <th>observed</th>\n",
       "      <th>modeled_total</th>\n",
       "      <th>observed_total</th>\n",
       "      <th>modeled_share</th>\n",
       "      <th>observed_share</th>\n",
       "    </tr>\n",
       "  </thead>\n",
       "  <tbody>\n",
       "    <tr>\n",
       "      <th>0</th>\n",
       "      <td>Pierce</td>\n",
       "      <td>HOV</td>\n",
       "      <td>63458</td>\n",
       "      <td>37236</td>\n",
       "      <td>227397</td>\n",
       "      <td>358602</td>\n",
       "      <td>27.91%</td>\n",
       "      <td>10.38%</td>\n",
       "    </tr>\n",
       "    <tr>\n",
       "      <th>1</th>\n",
       "      <td>Pierce</td>\n",
       "      <td>SOV</td>\n",
       "      <td>155122</td>\n",
       "      <td>302981</td>\n",
       "      <td>227397</td>\n",
       "      <td>358602</td>\n",
       "      <td>68.22%</td>\n",
       "      <td>84.49%</td>\n",
       "    </tr>\n",
       "    <tr>\n",
       "      <th>2</th>\n",
       "      <td>Pierce</td>\n",
       "      <td>Transit</td>\n",
       "      <td>4251</td>\n",
       "      <td>11625</td>\n",
       "      <td>227397</td>\n",
       "      <td>358602</td>\n",
       "      <td>1.87%</td>\n",
       "      <td>3.24%</td>\n",
       "    </tr>\n",
       "    <tr>\n",
       "      <th>3</th>\n",
       "      <td>Pierce</td>\n",
       "      <td>Walk</td>\n",
       "      <td>4566</td>\n",
       "      <td>6760</td>\n",
       "      <td>227397</td>\n",
       "      <td>358602</td>\n",
       "      <td>2.01%</td>\n",
       "      <td>1.89%</td>\n",
       "    </tr>\n",
       "  </tbody>\n",
       "</table>\n",
       "</div>"
      ],
      "text/plain": [
       "  CountyName     mode  modeled  observed  modeled_total  observed_total  \\\n",
       "0     Pierce      HOV    63458     37236         227397          358602   \n",
       "1     Pierce      SOV   155122    302981         227397          358602   \n",
       "2     Pierce  Transit     4251     11625         227397          358602   \n",
       "3     Pierce     Walk     4566      6760         227397          358602   \n",
       "\n",
       "  modeled_share observed_share  \n",
       "0        27.91%         10.38%  \n",
       "1        68.22%         84.49%  \n",
       "2         1.87%          3.24%  \n",
       "3         2.01%          1.89%  "
      ]
     },
     "execution_count": 23,
     "metadata": {},
     "output_type": "execute_result"
    }
   ],
   "source": [
    "df_county_mode"
   ]
  },
  {
   "cell_type": "markdown",
   "metadata": {},
   "source": [
    "## SOV"
   ]
  },
  {
   "cell_type": "code",
   "execution_count": 24,
   "metadata": {},
   "outputs": [
    {
     "name": "stdout",
     "output_type": "stream",
     "text": [
      " r^2: 0.2390540837404655\n"
     ]
    },
    {
     "data": {
      "image/png": "[encoded data removed]",
      "text/plain": [
       "<Figure size 432x288 with 1 Axes>"
      ]
     },
     "metadata": {
      "needs_background": "light"
     },
     "output_type": "display_data"
    }
   ],
   "source": [
    "# Show only SOV\n",
    "sov_tract_shares = df_tract_shares[df_tract_shares['mode'] == 'SOV']\n",
    "sov_tract_shares = sov_tract_shares[-sov_tract_shares.observed_share.isnull()]\n",
    "\n",
    "_df = sov_tract_shares.copy()\n",
    "ax = _df.plot(kind='scatter', x='observed_share', y='modeled_share')\n",
    "lim = _df[['observed_share','modeled_share']].max().max()*1.05\n",
    "ax.set_ylim(0,lim)\n",
    "ax.set_xlim(0,lim)\n",
    "slope, intercept, r_value, p_value, std_err = stats.linregress(_df['observed_share'],_df['modeled_share'])\n",
    "x = np.linspace(*ax.get_xlim())\n",
    "ax.plot(x, x)\n",
    "print(' r^2: ' + str(r_value))"
   ]
  },
  {
   "cell_type": "markdown",
   "metadata": {},
   "source": [
    "## HOV"
   ]
  },
  {
   "cell_type": "code",
   "execution_count": 25,
   "metadata": {},
   "outputs": [
    {
     "name": "stdout",
     "output_type": "stream",
     "text": [
      " r^2: 0.6076697352848759\n"
     ]
    },
    {
     "data": {
      "image/png": "[encoded data removed]",
      "text/plain": [
       "<Figure size 432x288 with 1 Axes>"
      ]
     },
     "metadata": {
      "needs_background": "light"
     },
     "output_type": "display_data"
    }
   ],
   "source": [
    "# Show only SOV\n",
    "sov_tract_shares = df_tract_shares[df_tract_shares['mode'] == 'HOV']\n",
    "sov_tract_shares = sov_tract_shares[-sov_tract_shares.observed_share.isnull()]\n",
    "\n",
    "_df = sov_tract_shares.copy()\n",
    "ax = _df.plot(kind='scatter', x='observed_share', y='modeled_share')\n",
    "lim = _df[['observed_share','modeled_share']].max().max()*1.05\n",
    "ax.set_ylim(0,lim)\n",
    "ax.set_xlim(0,lim)\n",
    "slope, intercept, r_value, p_value, std_err = stats.linregress(_df['observed_share'],_df['modeled_share'])\n",
    "x = np.linspace(*ax.get_xlim())\n",
    "ax.plot(x, x)\n",
    "print(' r^2: ' + str(r_value))"
   ]
  },
  {
   "cell_type": "markdown",
   "metadata": {},
   "source": [
    "## Transit"
   ]
  },
  {
   "cell_type": "code",
   "execution_count": 26,
   "metadata": {},
   "outputs": [
    {
     "name": "stdout",
     "output_type": "stream",
     "text": [
      " r^2: 0.34641393668446896\n"
     ]
    },
    {
     "data": {
      "image/png": "[encoded data removed]",
      "text/plain": [
       "<Figure size 432x288 with 1 Axes>"
      ]
     },
     "metadata": {
      "needs_background": "light"
     },
     "output_type": "display_data"
    }
   ],
   "source": [
    "# Show only SOV\n",
    "sov_tract_shares = df_tract_shares[df_tract_shares['mode'] == 'Transit']\n",
    "sov_tract_shares = sov_tract_shares[-sov_tract_shares.observed_share.isnull()]\n",
    "\n",
    "_df = sov_tract_shares.copy()\n",
    "ax = _df.plot(kind='scatter', x='observed_share', y='modeled_share')\n",
    "lim = _df[['observed_share','modeled_share']].max().max()*1.05\n",
    "ax.set_ylim(0,lim)\n",
    "ax.set_xlim(0,lim)\n",
    "slope, intercept, r_value, p_value, std_err = stats.linregress(_df['observed_share'],_df['modeled_share'])\n",
    "x = np.linspace(*ax.get_xlim())\n",
    "ax.plot(x, x)\n",
    "print(' r^2: ' + str(r_value))"
   ]
  },
  {
   "cell_type": "markdown",
   "metadata": {},
   "source": [
    "## Walk"
   ]
  },
  {
   "cell_type": "code",
   "execution_count": 27,
   "metadata": {},
   "outputs": [
    {
     "name": "stdout",
     "output_type": "stream",
     "text": [
      " r^2: 0.4753268347151123\n"
     ]
    },
    {
     "data": {
      "image/png": "[encoded data removed]",
      "text/plain": [
       "<Figure size 432x288 with 1 Axes>"
      ]
     },
     "metadata": {
      "needs_background": "light"
     },
     "output_type": "display_data"
    }
   ],
   "source": [
    "# Show only SOV\n",
    "sov_tract_shares = df_tract_shares[df_tract_shares['mode'] == 'Walk']\n",
    "sov_tract_shares = sov_tract_shares[-sov_tract_shares.observed_share.isnull()]\n",
    "\n",
    "_df = sov_tract_shares.copy()\n",
    "ax = _df.plot(kind='scatter', x='observed_share', y='modeled_share')\n",
    "lim = _df[['observed_share','modeled_share']].max().max()*1.05\n",
    "ax.set_ylim(0,lim)\n",
    "ax.set_xlim(0,lim)\n",
    "slope, intercept, r_value, p_value, std_err = stats.linregress(_df['observed_share'],_df['modeled_share'])\n",
    "x = np.linspace(*ax.get_xlim())\n",
    "ax.plot(x, x)\n",
    "print(' r^2: ' + str(r_value))"
   ]
  },
  {
   "cell_type": "markdown",
   "metadata": {},
   "source": [
    "# Commute Mode Share by Home Tract - Other Counties"
   ]
  },
  {
   "cell_type": "code",
   "execution_count": 28,
   "metadata": {},
   "outputs": [],
   "source": [
    "df = pd.read_csv(os.path.join(relative_path,'validation','acs_commute_share_by_home_tract.csv'))\n",
    "df = df[df['CountyName'] != 'Pierce']\n",
    "\n",
    "df_county_mode = df.groupby(['CountyName','mode']).sum()[['modeled','observed']].reset_index()\n",
    "df_county_mode = calculate_shares(df_county_mode, 'CountyName', apply_format=True)\n",
    "# Shares by Tract\n",
    "df_tract = df[['geoid','mode','modeled','observed']]\n",
    "df_tract_shares = calculate_shares(df_tract, 'geoid')"
   ]
  },
  {
   "cell_type": "code",
   "execution_count": 29,
   "metadata": {},
   "outputs": [
    {
     "data": {
      "text/html": [
       "<div>\n",
       "<style scoped>\n",
       "    .dataframe tbody tr th:only-of-type {\n",
       "        vertical-align: middle;\n",
       "    }\n",
       "\n",
       "    .dataframe tbody tr th {\n",
       "        vertical-align: top;\n",
       "    }\n",
       "\n",
       "    .dataframe thead th {\n",
       "        text-align: right;\n",
       "    }\n",
       "</style>\n",
       "<table border=\"1\" class=\"dataframe\">\n",
       "  <thead>\n",
       "    <tr style=\"text-align: right;\">\n",
       "      <th></th>\n",
       "      <th>CountyName</th>\n",
       "      <th>mode</th>\n",
       "      <th>modeled</th>\n",
       "      <th>observed</th>\n",
       "      <th>modeled_total</th>\n",
       "      <th>observed_total</th>\n",
       "      <th>modeled_share</th>\n",
       "      <th>observed_share</th>\n",
       "    </tr>\n",
       "  </thead>\n",
       "  <tbody>\n",
       "    <tr>\n",
       "      <th>0</th>\n",
       "      <td>King</td>\n",
       "      <td>HOV</td>\n",
       "      <td>268333</td>\n",
       "      <td>105958</td>\n",
       "      <td>1111721</td>\n",
       "      <td>1022982</td>\n",
       "      <td>24.14%</td>\n",
       "      <td>10.36%</td>\n",
       "    </tr>\n",
       "    <tr>\n",
       "      <th>1</th>\n",
       "      <td>King</td>\n",
       "      <td>SOV</td>\n",
       "      <td>676240</td>\n",
       "      <td>706466</td>\n",
       "      <td>1111721</td>\n",
       "      <td>1022982</td>\n",
       "      <td>60.83%</td>\n",
       "      <td>69.06%</td>\n",
       "    </tr>\n",
       "    <tr>\n",
       "      <th>2</th>\n",
       "      <td>King</td>\n",
       "      <td>Transit</td>\n",
       "      <td>108119</td>\n",
       "      <td>150007</td>\n",
       "      <td>1111721</td>\n",
       "      <td>1022982</td>\n",
       "      <td>9.73%</td>\n",
       "      <td>14.66%</td>\n",
       "    </tr>\n",
       "    <tr>\n",
       "      <th>3</th>\n",
       "      <td>King</td>\n",
       "      <td>Walk</td>\n",
       "      <td>59029</td>\n",
       "      <td>60551</td>\n",
       "      <td>1111721</td>\n",
       "      <td>1022982</td>\n",
       "      <td>5.31%</td>\n",
       "      <td>5.92%</td>\n",
       "    </tr>\n",
       "    <tr>\n",
       "      <th>4</th>\n",
       "      <td>Kitsap</td>\n",
       "      <td>HOV</td>\n",
       "      <td>21708</td>\n",
       "      <td>9400</td>\n",
       "      <td>80695</td>\n",
       "      <td>105135</td>\n",
       "      <td>26.90%</td>\n",
       "      <td>8.94%</td>\n",
       "    </tr>\n",
       "    <tr>\n",
       "      <th>5</th>\n",
       "      <td>Kitsap</td>\n",
       "      <td>SOV</td>\n",
       "      <td>55740</td>\n",
       "      <td>81227</td>\n",
       "      <td>80695</td>\n",
       "      <td>105135</td>\n",
       "      <td>69.07%</td>\n",
       "      <td>77.26%</td>\n",
       "    </tr>\n",
       "    <tr>\n",
       "      <th>6</th>\n",
       "      <td>Kitsap</td>\n",
       "      <td>Transit</td>\n",
       "      <td>1108</td>\n",
       "      <td>8663</td>\n",
       "      <td>80695</td>\n",
       "      <td>105135</td>\n",
       "      <td>1.37%</td>\n",
       "      <td>8.24%</td>\n",
       "    </tr>\n",
       "    <tr>\n",
       "      <th>7</th>\n",
       "      <td>Kitsap</td>\n",
       "      <td>Walk</td>\n",
       "      <td>2139</td>\n",
       "      <td>5845</td>\n",
       "      <td>80695</td>\n",
       "      <td>105135</td>\n",
       "      <td>2.65%</td>\n",
       "      <td>5.56%</td>\n",
       "    </tr>\n",
       "    <tr>\n",
       "      <th>8</th>\n",
       "      <td>Snohomish</td>\n",
       "      <td>HOV</td>\n",
       "      <td>58507</td>\n",
       "      <td>44214</td>\n",
       "      <td>210627</td>\n",
       "      <td>350898</td>\n",
       "      <td>27.78%</td>\n",
       "      <td>12.60%</td>\n",
       "    </tr>\n",
       "    <tr>\n",
       "      <th>9</th>\n",
       "      <td>Snohomish</td>\n",
       "      <td>SOV</td>\n",
       "      <td>144234</td>\n",
       "      <td>281564</td>\n",
       "      <td>210627</td>\n",
       "      <td>350898</td>\n",
       "      <td>68.48%</td>\n",
       "      <td>80.24%</td>\n",
       "    </tr>\n",
       "    <tr>\n",
       "      <th>10</th>\n",
       "      <td>Snohomish</td>\n",
       "      <td>Transit</td>\n",
       "      <td>3774</td>\n",
       "      <td>18610</td>\n",
       "      <td>210627</td>\n",
       "      <td>350898</td>\n",
       "      <td>1.79%</td>\n",
       "      <td>5.30%</td>\n",
       "    </tr>\n",
       "    <tr>\n",
       "      <th>11</th>\n",
       "      <td>Snohomish</td>\n",
       "      <td>Walk</td>\n",
       "      <td>4112</td>\n",
       "      <td>6510</td>\n",
       "      <td>210627</td>\n",
       "      <td>350898</td>\n",
       "      <td>1.95%</td>\n",
       "      <td>1.86%</td>\n",
       "    </tr>\n",
       "  </tbody>\n",
       "</table>\n",
       "</div>"
      ],
      "text/plain": [
       "   CountyName     mode  modeled  observed  modeled_total  observed_total  \\\n",
       "0        King      HOV   268333    105958        1111721         1022982   \n",
       "1        King      SOV   676240    706466        1111721         1022982   \n",
       "2        King  Transit   108119    150007        1111721         1022982   \n",
       "3        King     Walk    59029     60551        1111721         1022982   \n",
       "4      Kitsap      HOV    21708      9400          80695          105135   \n",
       "5      Kitsap      SOV    55740     81227          80695          105135   \n",
       "6      Kitsap  Transit     1108      8663          80695          105135   \n",
       "7      Kitsap     Walk     2139      5845          80695          105135   \n",
       "8   Snohomish      HOV    58507     44214         210627          350898   \n",
       "9   Snohomish      SOV   144234    281564         210627          350898   \n",
       "10  Snohomish  Transit     3774     18610         210627          350898   \n",
       "11  Snohomish     Walk     4112      6510         210627          350898   \n",
       "\n",
       "   modeled_share observed_share  \n",
       "0         24.14%         10.36%  \n",
       "1         60.83%         69.06%  \n",
       "2          9.73%         14.66%  \n",
       "3          5.31%          5.92%  \n",
       "4         26.90%          8.94%  \n",
       "5         69.07%         77.26%  \n",
       "6          1.37%          8.24%  \n",
       "7          2.65%          5.56%  \n",
       "8         27.78%         12.60%  \n",
       "9         68.48%         80.24%  \n",
       "10         1.79%          5.30%  \n",
       "11         1.95%          1.86%  "
      ]
     },
     "execution_count": 29,
     "metadata": {},
     "output_type": "execute_result"
    }
   ],
   "source": [
    "df_county_mode"
   ]
  },
  {
   "cell_type": "markdown",
   "metadata": {},
   "source": [
    "## SOV"
   ]
  },
  {
   "cell_type": "code",
   "execution_count": 30,
   "metadata": {},
   "outputs": [
    {
     "name": "stdout",
     "output_type": "stream",
     "text": [
      " r^2: 0.6797313998695955\n"
     ]
    },
    {
     "data": {
      "image/png": "[encoded data removed]",
      "text/plain": [
       "<Figure size 432x288 with 1 Axes>"
      ]
     },
     "metadata": {
      "needs_background": "light"
     },
     "output_type": "display_data"
    }
   ],
   "source": [
    "# Show only SOV\n",
    "sov_tract_shares = df_tract_shares[df_tract_shares['mode'] == 'SOV']\n",
    "sov_tract_shares = sov_tract_shares[-sov_tract_shares.observed_share.isnull()]\n",
    "\n",
    "_df = sov_tract_shares.copy()\n",
    "ax = _df.plot(kind='scatter', x='observed_share', y='modeled_share')\n",
    "lim = _df[['observed_share','modeled_share']].max().max()*1.05\n",
    "ax.set_ylim(0,lim)\n",
    "ax.set_xlim(0,lim)\n",
    "slope, intercept, r_value, p_value, std_err = stats.linregress(_df['observed_share'],_df['modeled_share'])\n",
    "x = np.linspace(*ax.get_xlim())\n",
    "ax.plot(x, x)\n",
    "print(' r^2: ' + str(r_value))"
   ]
  },
  {
   "cell_type": "markdown",
   "metadata": {},
   "source": [
    "## HOV"
   ]
  },
  {
   "cell_type": "code",
   "execution_count": 31,
   "metadata": {},
   "outputs": [
    {
     "name": "stdout",
     "output_type": "stream",
     "text": [
      " r^2: 0.5552289650528132\n"
     ]
    },
    {
     "data": {
      "image/png": "[encoded data removed]",
      "text/plain": [
       "<Figure size 432x288 with 1 Axes>"
      ]
     },
     "metadata": {
      "needs_background": "light"
     },
     "output_type": "display_data"
    }
   ],
   "source": [
    "# Show only HOV\n",
    "sov_tract_shares = df_tract_shares[df_tract_shares['mode'] == 'HOV']\n",
    "sov_tract_shares = sov_tract_shares[-sov_tract_shares.observed_share.isnull()]\n",
    "\n",
    "_df = sov_tract_shares.copy()\n",
    "ax = _df.plot(kind='scatter', x='observed_share', y='modeled_share')\n",
    "lim = _df[['observed_share','modeled_share']].max().max()*1.05\n",
    "ax.set_ylim(0,lim)\n",
    "ax.set_xlim(0,lim)\n",
    "slope, intercept, r_value, p_value, std_err = stats.linregress(_df['observed_share'],_df['modeled_share'])\n",
    "x = np.linspace(*ax.get_xlim())\n",
    "ax.plot(x, x)\n",
    "print(' r^2: ' + str(r_value))"
   ]
  },
  {
   "cell_type": "markdown",
   "metadata": {},
   "source": [
    "## Transit"
   ]
  },
  {
   "cell_type": "code",
   "execution_count": 32,
   "metadata": {},
   "outputs": [
    {
     "name": "stdout",
     "output_type": "stream",
     "text": [
      " r^2: 0.5940387369790296\n"
     ]
    },
    {
     "data": {
      "image/png": "[encoded data removed]",
      "text/plain": [
       "<Figure size 432x288 with 1 Axes>"
      ]
     },
     "metadata": {
      "needs_background": "light"
     },
     "output_type": "display_data"
    }
   ],
   "source": [
    "# Show only Transit\n",
    "sov_tract_shares = df_tract_shares[df_tract_shares['mode'] == 'Transit']\n",
    "sov_tract_shares = sov_tract_shares[-sov_tract_shares.observed_share.isnull()]\n",
    "\n",
    "_df = sov_tract_shares.copy()\n",
    "ax = _df.plot(kind='scatter', x='observed_share', y='modeled_share')\n",
    "lim = _df[['observed_share','modeled_share']].max().max()*1.05\n",
    "ax.set_ylim(0,lim)\n",
    "ax.set_xlim(0,lim)\n",
    "slope, intercept, r_value, p_value, std_err = stats.linregress(_df['observed_share'],_df['modeled_share'])\n",
    "x = np.linspace(*ax.get_xlim())\n",
    "ax.plot(x, x)\n",
    "print(' r^2: ' + str(r_value))"
   ]
  },
  {
   "cell_type": "markdown",
   "metadata": {},
   "source": [
    "## Walk"
   ]
  },
  {
   "cell_type": "code",
   "execution_count": 33,
   "metadata": {},
   "outputs": [
    {
     "name": "stdout",
     "output_type": "stream",
     "text": [
      " r^2: 0.7429164430356692\n"
     ]
    },
    {
     "data": {
      "image/png": "[encoded data removed]",
      "text/plain": [
       "<Figure size 432x288 with 1 Axes>"
      ]
     },
     "metadata": {
      "needs_background": "light"
     },
     "output_type": "display_data"
    }
   ],
   "source": [
    "# Show only Walk\n",
    "sov_tract_shares = df_tract_shares[df_tract_shares['mode'] == 'Walk']\n",
    "sov_tract_shares = sov_tract_shares[-sov_tract_shares.observed_share.isnull()]\n",
    "\n",
    "_df = sov_tract_shares.copy()\n",
    "ax = _df.plot(kind='scatter', x='observed_share', y='modeled_share')\n",
    "lim = _df[['observed_share','modeled_share']].max().max()*1.05\n",
    "ax.set_ylim(0,lim)\n",
    "ax.set_xlim(0,lim)\n",
    "slope, intercept, r_value, p_value, std_err = stats.linregress(_df['observed_share'],_df['modeled_share'])\n",
    "x = np.linspace(*ax.get_xlim())\n",
    "ax.plot(x, x)\n",
    "print(' r^2: ' + str(r_value))"
   ]
  }
 ],
 "metadata": {
  "kernelspec": {
   "display_name": "Python 3",
   "language": "python",
   "name": "python3"
  },
  "language_info": {
   "codemirror_mode": {
    "name": "ipython",
    "version": 3
   },
   "file_extension": ".py",
   "mimetype": "text/x-python",
   "name": "python",
   "nbconvert_exporter": "python",
   "pygments_lexer": "ipython3",
   "version": "3.7.10"
  }
 },
 "nbformat": 4,
 "nbformat_minor": 2
}
