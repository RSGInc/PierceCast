{
 "cells": [
  {
   "cell_type": "code",
   "execution_count": 1,
   "metadata": {
    "execution": {
     "iopub.execute_input": "2021-06-10T22:11:11.092276Z",
     "iopub.status.busy": "2021-06-10T22:11:11.092276Z",
     "iopub.status.idle": "2021-06-10T22:11:12.017349Z",
     "shell.execute_reply": "2021-06-10T22:11:12.017349Z"
    }
   },
   "outputs": [
    {
     "name": "stdout",
     "output_type": "stream",
     "text": [
      "E:\\projects\\clients\\PierceCounty\\Models\\BaseYear\\Development\\PierceCast\n"
     ]
    }
   ],
   "source": [
    "import warnings\n",
    "warnings.simplefilter(action='ignore', category=FutureWarning)\n",
    "import pandas as pd\n",
    "import os, sys\n",
    "%matplotlib inline\n",
    "\n",
    "os.chdir('..\\..\\..\\..')\n",
    "print(os.getcwd())\n",
    "\n",
    "from input_configuration import base_year\n",
    "\n",
    "from IPython.display import display, HTML\n",
    "\n",
    "if (sys.version_info < (3, 0)):\n",
    "    HTML('''<script>\n",
    "    code_show=true; \n",
    "    function code_toggle() {\n",
    "     if (code_show){\n",
    "     $('div.input').hide();\n",
    "     } else {\n",
    "     $('div.input').show();\n",
    "     }\n",
    "     code_show = !code_show\n",
    "    } \n",
    "    $( document ).ready(code_toggle);\n",
    "    </script>\n",
    "    <form action=\"javascript:code_toggle()\"><input type=\"submit\" value=\"Click here to toggle on/off the raw code.\"></form>''')\n",
    "\n",
    "\n",
    "\n",
    "# % Tours by Destination District\n",
    "# % Trips by Desitnation District\n",
    "# % People by District"
   ]
  },
  {
   "cell_type": "code",
   "execution_count": 2,
   "metadata": {
    "execution": {
     "iopub.execute_input": "2021-06-10T22:11:12.017349Z",
     "iopub.status.busy": "2021-06-10T22:11:12.017349Z",
     "iopub.status.idle": "2021-06-10T22:11:12.032969Z",
     "shell.execute_reply": "2021-06-10T22:11:12.032969Z"
    }
   },
   "outputs": [],
   "source": [
    "working_dir = r'outputs/agg/dash'\n",
    "pd.options.display.float_format = '{:0,.2f}'.format\n",
    "format_percent = \"{:,.2%}\".format"
   ]
  },
  {
   "cell_type": "code",
   "execution_count": 3,
   "metadata": {
    "execution": {
     "iopub.execute_input": "2021-06-10T22:11:12.032969Z",
     "iopub.status.busy": "2021-06-10T22:11:12.032969Z",
     "iopub.status.idle": "2021-06-10T22:11:12.048591Z",
     "shell.execute_reply": "2021-06-10T22:11:12.048591Z"
    }
   },
   "outputs": [],
   "source": [
    "def load_data(fname):\n",
    "    \"\"\" open and join model and survey data \"\"\"\n",
    "\n",
    "    df_model = pd.read_csv(os.path.join(working_dir,fname+'.csv'))\n",
    "    df_model['source'] = 'model'\n",
    "    df_survey = pd.read_csv(os.path.join(working_dir,'survey',fname+'.csv'))\n",
    "    df_survey['source'] = 'survey'\n",
    "    df = df_model.append(df_survey)\n",
    "\n",
    "    return df"
   ]
  },
  {
   "cell_type": "code",
   "execution_count": 4,
   "metadata": {
    "execution": {
     "iopub.execute_input": "2021-06-10T22:11:12.111090Z",
     "iopub.status.busy": "2021-06-10T22:11:12.111090Z",
     "iopub.status.idle": "2021-06-10T22:11:14.488434Z",
     "shell.execute_reply": "2021-06-10T22:11:14.488434Z"
    }
   },
   "outputs": [],
   "source": [
    "parcel_geog = pd.read_sql_table('parcel_'+base_year+'_geography', 'sqlite:///inputs/db/soundcast_inputs.db',\n",
    "        columns=['District','CountyName','ParcelID'])"
   ]
  },
  {
   "cell_type": "code",
   "execution_count": 5,
   "metadata": {
    "execution": {
     "iopub.execute_input": "2021-06-10T22:11:14.488434Z",
     "iopub.status.busy": "2021-06-10T22:11:14.488434Z",
     "iopub.status.idle": "2021-06-10T22:11:14.504058Z",
     "shell.execute_reply": "2021-06-10T22:11:14.504058Z"
    }
   },
   "outputs": [],
   "source": [
    "district_lookup = {1: 'Suburban Snohomish',\n",
    "                  2: 'Everett-Lynwood-Edmonds',\n",
    "                  3: 'North Seattle-Shoreline',\n",
    "                  4: 'Seattle CBD',\n",
    "                  5: 'West-South Seattle',\n",
    "                  6: 'East Side',\n",
    "                   7: 'Renton-FedWay-Kent',\n",
    "                   8: 'Tacoma',\n",
    "                   9: 'Kitsap',\n",
    "                   10: 'South Pierce',\n",
    "                   11: 'S.Kitsap'\n",
    "                  }"
   ]
  },
  {
   "cell_type": "markdown",
   "metadata": {},
   "source": [
    "# Average Distance by Tour Purpose"
   ]
  },
  {
   "cell_type": "code",
   "execution_count": 6,
   "metadata": {
    "execution": {
     "iopub.execute_input": "2021-06-10T22:11:14.519679Z",
     "iopub.status.busy": "2021-06-10T22:11:14.519679Z",
     "iopub.status.idle": "2021-06-10T22:11:14.910211Z",
     "shell.execute_reply": "2021-06-10T22:11:14.910211Z"
    }
   },
   "outputs": [
    {
     "data": {
      "text/html": [
       "<div>\n",
       "<style scoped>\n",
       "    .dataframe tbody tr th:only-of-type {\n",
       "        vertical-align: middle;\n",
       "    }\n",
       "\n",
       "    .dataframe tbody tr th {\n",
       "        vertical-align: top;\n",
       "    }\n",
       "\n",
       "    .dataframe thead th {\n",
       "        text-align: right;\n",
       "    }\n",
       "</style>\n",
       "<table border=\"1\" class=\"dataframe\">\n",
       "  <thead>\n",
       "    <tr style=\"text-align: right;\">\n",
       "      <th>source</th>\n",
       "      <th>model</th>\n",
       "      <th>survey</th>\n",
       "    </tr>\n",
       "    <tr>\n",
       "      <th>pdpurp</th>\n",
       "      <th></th>\n",
       "      <th></th>\n",
       "    </tr>\n",
       "  </thead>\n",
       "  <tbody>\n",
       "    <tr>\n",
       "      <th>Escort</th>\n",
       "      <td>6.93</td>\n",
       "      <td>3.88</td>\n",
       "    </tr>\n",
       "    <tr>\n",
       "      <th>Meal</th>\n",
       "      <td>5.33</td>\n",
       "      <td>4.22</td>\n",
       "    </tr>\n",
       "    <tr>\n",
       "      <th>Personal Business</th>\n",
       "      <td>6.78</td>\n",
       "      <td>5.49</td>\n",
       "    </tr>\n",
       "    <tr>\n",
       "      <th>School</th>\n",
       "      <td>3.66</td>\n",
       "      <td>4.28</td>\n",
       "    </tr>\n",
       "    <tr>\n",
       "      <th>Shop</th>\n",
       "      <td>4.79</td>\n",
       "      <td>4.53</td>\n",
       "    </tr>\n",
       "    <tr>\n",
       "      <th>Social</th>\n",
       "      <td>4.61</td>\n",
       "      <td>4.89</td>\n",
       "    </tr>\n",
       "    <tr>\n",
       "      <th>Work</th>\n",
       "      <td>11.48</td>\n",
       "      <td>11.51</td>\n",
       "    </tr>\n",
       "  </tbody>\n",
       "</table>\n",
       "</div>"
      ],
      "text/plain": [
       "source             model  survey\n",
       "pdpurp                          \n",
       "Escort              6.93    3.88\n",
       "Meal                5.33    4.22\n",
       "Personal Business   6.78    5.49\n",
       "School              3.66    4.28\n",
       "Shop                4.79    4.53\n",
       "Social              4.61    4.89\n",
       "Work               11.48   11.51"
      ]
     },
     "execution_count": 6,
     "metadata": {},
     "output_type": "execute_result"
    },
    {
     "data": {
      "image/png": "[encoded data removed]",
      "text/plain": [
       "<Figure size 432x288 with 1 Axes>"
      ]
     },
     "metadata": {
      "needs_background": "light"
     },
     "output_type": "display_data"
    }
   ],
   "source": [
    "df = load_data('tour_distance')\n",
    "# Trim any unreasonable survey distances off by taking max distance as max modeled bin value\n",
    "max_model_dist = df.loc[(df['source']=='model'), 'tautodist_bin'].max()\n",
    "df = df.loc[df['tautodist_bin'] <= max_model_dist]\n",
    "df['wt_autodist'] = (df['tautodist_bin']+0.5)*(df['toexpfac'])\n",
    "df_dist = pd.DataFrame()\n",
    "for source in ['model','survey']:\n",
    "    _df = df[(df['source'] == source)]\n",
    "    df1 = _df.groupby('pdpurp').sum()[['wt_autodist']].reset_index()\n",
    "    df2 = _df.groupby('pdpurp').sum()[['toexpfac']].reset_index ()\n",
    "    _df = df1.merge(df2, on='pdpurp')\n",
    "    _df['commute_distance'] = _df['wt_autodist']/_df['toexpfac']\n",
    "    _df['source'] = source\n",
    "    df_dist = df_dist.append(_df)\n",
    "df = df_dist.pivot_table(index='pdpurp', columns='source', aggfunc='first', values='commute_distance')\n",
    "df.rename(columns={'pdpurp': 'Tour Purpose'}, inplace=True)\n",
    "df.drop('Change Mode Inserted Purpose', axis=0, inplace=True)\n",
    "df.plot(kind='barh', alpha=0.6)\n",
    "df"
   ]
  },
  {
   "cell_type": "markdown",
   "metadata": {},
   "source": [
    "## Pierce County"
   ]
  },
  {
   "cell_type": "code",
   "execution_count": 7,
   "metadata": {},
   "outputs": [
    {
     "data": {
      "text/html": [
       "<div>\n",
       "<style scoped>\n",
       "    .dataframe tbody tr th:only-of-type {\n",
       "        vertical-align: middle;\n",
       "    }\n",
       "\n",
       "    .dataframe tbody tr th {\n",
       "        vertical-align: top;\n",
       "    }\n",
       "\n",
       "    .dataframe thead th {\n",
       "        text-align: right;\n",
       "    }\n",
       "</style>\n",
       "<table border=\"1\" class=\"dataframe\">\n",
       "  <thead>\n",
       "    <tr style=\"text-align: right;\">\n",
       "      <th>source</th>\n",
       "      <th>model</th>\n",
       "      <th>survey</th>\n",
       "    </tr>\n",
       "    <tr>\n",
       "      <th>pdpurp</th>\n",
       "      <th></th>\n",
       "      <th></th>\n",
       "    </tr>\n",
       "  </thead>\n",
       "  <tbody>\n",
       "    <tr>\n",
       "      <th>Escort</th>\n",
       "      <td>6.75</td>\n",
       "      <td>4.71</td>\n",
       "    </tr>\n",
       "    <tr>\n",
       "      <th>Meal</th>\n",
       "      <td>5.80</td>\n",
       "      <td>5.53</td>\n",
       "    </tr>\n",
       "    <tr>\n",
       "      <th>Personal Business</th>\n",
       "      <td>6.92</td>\n",
       "      <td>6.91</td>\n",
       "    </tr>\n",
       "    <tr>\n",
       "      <th>School</th>\n",
       "      <td>3.59</td>\n",
       "      <td>4.11</td>\n",
       "    </tr>\n",
       "    <tr>\n",
       "      <th>Shop</th>\n",
       "      <td>5.19</td>\n",
       "      <td>4.45</td>\n",
       "    </tr>\n",
       "    <tr>\n",
       "      <th>Social</th>\n",
       "      <td>4.42</td>\n",
       "      <td>3.90</td>\n",
       "    </tr>\n",
       "    <tr>\n",
       "      <th>Work</th>\n",
       "      <td>13.70</td>\n",
       "      <td>12.67</td>\n",
       "    </tr>\n",
       "  </tbody>\n",
       "</table>\n",
       "</div>"
      ],
      "text/plain": [
       "source             model  survey\n",
       "pdpurp                          \n",
       "Escort              6.75    4.71\n",
       "Meal                5.80    5.53\n",
       "Personal Business   6.92    6.91\n",
       "School              3.59    4.11\n",
       "Shop                5.19    4.45\n",
       "Social              4.42    3.90\n",
       "Work               13.70   12.67"
      ]
     },
     "execution_count": 7,
     "metadata": {},
     "output_type": "execute_result"
    },
    {
     "data": {
      "image/png": "[encoded data removed]",
      "text/plain": [
       "<Figure size 432x288 with 1 Axes>"
      ]
     },
     "metadata": {
      "needs_background": "light"
     },
     "output_type": "display_data"
    }
   ],
   "source": [
    "df = load_data('tour_distance')\n",
    "df =  df.loc[df['person_county'] == 'Pierce']\n",
    "# Trim any unreasonable survey distances off by taking max distance as max modeled bin value\n",
    "max_model_dist = df.loc[(df['source']=='model'), 'tautodist_bin'].max()\n",
    "df = df.loc[df['tautodist_bin'] <= max_model_dist]\n",
    "df['wt_autodist'] = (df['tautodist_bin']+0.5)*(df['toexpfac'])\n",
    "df_dist = pd.DataFrame()\n",
    "for source in ['model','survey']:\n",
    "    _df = df[(df['source'] == source)]\n",
    "    df1 = _df.groupby('pdpurp').sum()[['wt_autodist']].reset_index()\n",
    "    df2 = _df.groupby('pdpurp').sum()[['toexpfac']].reset_index ()\n",
    "    _df = df1.merge(df2, on='pdpurp')\n",
    "    _df['commute_distance'] = _df['wt_autodist']/_df['toexpfac']\n",
    "    _df['source'] = source\n",
    "    df_dist = df_dist.append(_df)\n",
    "df = df_dist.pivot_table(index='pdpurp', columns='source', aggfunc='first', values='commute_distance')\n",
    "df.rename(columns={'pdpurp': 'Tour Purpose'}, inplace=True)\n",
    "df.drop('Change Mode Inserted Purpose', axis=0, inplace=True, errors='ignore')\n",
    "df.plot(kind='barh', alpha=0.6)\n",
    "df"
   ]
  },
  {
   "cell_type": "markdown",
   "metadata": {},
   "source": [
    "## Other Counties"
   ]
  },
  {
   "cell_type": "code",
   "execution_count": 8,
   "metadata": {},
   "outputs": [
    {
     "data": {
      "text/html": [
       "<div>\n",
       "<style scoped>\n",
       "    .dataframe tbody tr th:only-of-type {\n",
       "        vertical-align: middle;\n",
       "    }\n",
       "\n",
       "    .dataframe tbody tr th {\n",
       "        vertical-align: top;\n",
       "    }\n",
       "\n",
       "    .dataframe thead th {\n",
       "        text-align: right;\n",
       "    }\n",
       "</style>\n",
       "<table border=\"1\" class=\"dataframe\">\n",
       "  <thead>\n",
       "    <tr style=\"text-align: right;\">\n",
       "      <th>source</th>\n",
       "      <th>model</th>\n",
       "      <th>survey</th>\n",
       "    </tr>\n",
       "    <tr>\n",
       "      <th>pdpurp</th>\n",
       "      <th></th>\n",
       "      <th></th>\n",
       "    </tr>\n",
       "  </thead>\n",
       "  <tbody>\n",
       "    <tr>\n",
       "      <th>Escort</th>\n",
       "      <td>6.98</td>\n",
       "      <td>3.62</td>\n",
       "    </tr>\n",
       "    <tr>\n",
       "      <th>Meal</th>\n",
       "      <td>5.23</td>\n",
       "      <td>3.88</td>\n",
       "    </tr>\n",
       "    <tr>\n",
       "      <th>Personal Business</th>\n",
       "      <td>6.74</td>\n",
       "      <td>5.18</td>\n",
       "    </tr>\n",
       "    <tr>\n",
       "      <th>School</th>\n",
       "      <td>3.68</td>\n",
       "      <td>4.33</td>\n",
       "    </tr>\n",
       "    <tr>\n",
       "      <th>Shop</th>\n",
       "      <td>4.68</td>\n",
       "      <td>4.55</td>\n",
       "    </tr>\n",
       "    <tr>\n",
       "      <th>Social</th>\n",
       "      <td>4.65</td>\n",
       "      <td>5.10</td>\n",
       "    </tr>\n",
       "    <tr>\n",
       "      <th>Work</th>\n",
       "      <td>11.02</td>\n",
       "      <td>11.23</td>\n",
       "    </tr>\n",
       "  </tbody>\n",
       "</table>\n",
       "</div>"
      ],
      "text/plain": [
       "source             model  survey\n",
       "pdpurp                          \n",
       "Escort              6.98    3.62\n",
       "Meal                5.23    3.88\n",
       "Personal Business   6.74    5.18\n",
       "School              3.68    4.33\n",
       "Shop                4.68    4.55\n",
       "Social              4.65    5.10\n",
       "Work               11.02   11.23"
      ]
     },
     "execution_count": 8,
     "metadata": {},
     "output_type": "execute_result"
    },
    {
     "data": {
      "image/png": "[encoded data removed]",
      "text/plain": [
       "<Figure size 432x288 with 1 Axes>"
      ]
     },
     "metadata": {
      "needs_background": "light"
     },
     "output_type": "display_data"
    }
   ],
   "source": [
    "df = load_data('tour_distance')\n",
    "df =  df.loc[df['person_county'] != 'Pierce']\n",
    "# Trim any unreasonable survey distances off by taking max distance as max modeled bin value\n",
    "max_model_dist = df.loc[(df['source']=='model'), 'tautodist_bin'].max()\n",
    "df = df.loc[df['tautodist_bin'] <= max_model_dist]\n",
    "df['wt_autodist'] = (df['tautodist_bin']+0.5)*(df['toexpfac'])\n",
    "df_dist = pd.DataFrame()\n",
    "for source in ['model','survey']:\n",
    "    _df = df[(df['source'] == source)]\n",
    "    df1 = _df.groupby('pdpurp').sum()[['wt_autodist']].reset_index()\n",
    "    df2 = _df.groupby('pdpurp').sum()[['toexpfac']].reset_index ()\n",
    "    _df = df1.merge(df2, on='pdpurp')\n",
    "    _df['commute_distance'] = _df['wt_autodist']/_df['toexpfac']\n",
    "    _df['source'] = source\n",
    "    df_dist = df_dist.append(_df)\n",
    "df = df_dist.pivot_table(index='pdpurp', columns='source', aggfunc='first', values='commute_distance')\n",
    "df.rename(columns={'pdpurp': 'Tour Purpose'}, inplace=True)\n",
    "df.drop('Change Mode Inserted Purpose', axis=0, inplace=True, errors='ignore')\n",
    "df.plot(kind='barh', alpha=0.6)\n",
    "df"
   ]
  },
  {
   "cell_type": "markdown",
   "metadata": {},
   "source": [
    "# Average Distance by Tour Mode"
   ]
  },
  {
   "cell_type": "code",
   "execution_count": 9,
   "metadata": {
    "execution": {
     "iopub.execute_input": "2021-06-10T22:11:14.925831Z",
     "iopub.status.busy": "2021-06-10T22:11:14.925831Z",
     "iopub.status.idle": "2021-06-10T22:11:15.144529Z",
     "shell.execute_reply": "2021-06-10T22:11:15.144529Z"
    }
   },
   "outputs": [
    {
     "data": {
      "text/html": [
       "<div>\n",
       "<style scoped>\n",
       "    .dataframe tbody tr th:only-of-type {\n",
       "        vertical-align: middle;\n",
       "    }\n",
       "\n",
       "    .dataframe tbody tr th {\n",
       "        vertical-align: top;\n",
       "    }\n",
       "\n",
       "    .dataframe thead th {\n",
       "        text-align: right;\n",
       "    }\n",
       "</style>\n",
       "<table border=\"1\" class=\"dataframe\">\n",
       "  <thead>\n",
       "    <tr style=\"text-align: right;\">\n",
       "      <th>source</th>\n",
       "      <th>model</th>\n",
       "      <th>survey</th>\n",
       "    </tr>\n",
       "    <tr>\n",
       "      <th>tmodetp</th>\n",
       "      <th></th>\n",
       "      <th></th>\n",
       "    </tr>\n",
       "  </thead>\n",
       "  <tbody>\n",
       "    <tr>\n",
       "      <th>Bike</th>\n",
       "      <td>5.70</td>\n",
       "      <td>3.03</td>\n",
       "    </tr>\n",
       "    <tr>\n",
       "      <th>HOV2</th>\n",
       "      <td>7.23</td>\n",
       "      <td>6.70</td>\n",
       "    </tr>\n",
       "    <tr>\n",
       "      <th>HOV3+</th>\n",
       "      <td>6.86</td>\n",
       "      <td>6.22</td>\n",
       "    </tr>\n",
       "    <tr>\n",
       "      <th>SOV</th>\n",
       "      <td>8.70</td>\n",
       "      <td>8.50</td>\n",
       "    </tr>\n",
       "    <tr>\n",
       "      <th>School Bus</th>\n",
       "      <td>3.21</td>\n",
       "      <td>3.32</td>\n",
       "    </tr>\n",
       "    <tr>\n",
       "      <th>TNC</th>\n",
       "      <td>2.55</td>\n",
       "      <td>3.99</td>\n",
       "    </tr>\n",
       "    <tr>\n",
       "      <th>Transit</th>\n",
       "      <td>9.79</td>\n",
       "      <td>9.40</td>\n",
       "    </tr>\n",
       "    <tr>\n",
       "      <th>Walk</th>\n",
       "      <td>0.94</td>\n",
       "      <td>0.89</td>\n",
       "    </tr>\n",
       "  </tbody>\n",
       "</table>\n",
       "</div>"
      ],
      "text/plain": [
       "source      model  survey\n",
       "tmodetp                  \n",
       "Bike         5.70    3.03\n",
       "HOV2         7.23    6.70\n",
       "HOV3+        6.86    6.22\n",
       "SOV          8.70    8.50\n",
       "School Bus   3.21    3.32\n",
       "TNC          2.55    3.99\n",
       "Transit      9.79    9.40\n",
       "Walk         0.94    0.89"
      ]
     },
     "execution_count": 9,
     "metadata": {},
     "output_type": "execute_result"
    },
    {
     "data": {
      "image/png": "[encoded data removed]",
      "text/plain": [
       "<Figure size 432x288 with 1 Axes>"
      ]
     },
     "metadata": {
      "needs_background": "light"
     },
     "output_type": "display_data"
    }
   ],
   "source": [
    "df = load_data('tour_distance')\n",
    "# Trim any unreasonable survey distances off by taking max distance as max modeled bin value\n",
    "max_model_dist = df.loc[(df['source']=='model'), 'tautodist_bin'].max()\n",
    "df = df.loc[df['tautodist_bin'] <= max_model_dist]\n",
    "df['wt_autodist'] = (df['tautodist_bin']+0.5)*(df['toexpfac'])\n",
    "df_dist = pd.DataFrame()\n",
    "for source in ['model','survey']:\n",
    "    _df = df[(df['source'] == source)]\n",
    "    df1 = _df.groupby('tmodetp').sum()[['wt_autodist']].reset_index()\n",
    "    df2 = _df.groupby('tmodetp').sum()[['toexpfac']].reset_index ()\n",
    "    _df = df1.merge(df2, on='tmodetp')\n",
    "    _df['commute_distance'] = _df['wt_autodist']/_df['toexpfac']\n",
    "    _df['source'] = source\n",
    "    df_dist = df_dist.append(_df)\n",
    "df = df_dist.pivot_table(index='tmodetp', columns='source', aggfunc='first', values='commute_distance')\n",
    "df.rename(columns={'tmodetp': 'Tour Mode'}, inplace=True)\n",
    "\n",
    "df.drop('Park', inplace=True)\n",
    "df.plot(kind='barh', alpha=0.6)\n",
    "df"
   ]
  },
  {
   "cell_type": "markdown",
   "metadata": {},
   "source": [
    "## Pierce County"
   ]
  },
  {
   "cell_type": "code",
   "execution_count": 10,
   "metadata": {},
   "outputs": [
    {
     "data": {
      "text/html": [
       "<div>\n",
       "<style scoped>\n",
       "    .dataframe tbody tr th:only-of-type {\n",
       "        vertical-align: middle;\n",
       "    }\n",
       "\n",
       "    .dataframe tbody tr th {\n",
       "        vertical-align: top;\n",
       "    }\n",
       "\n",
       "    .dataframe thead th {\n",
       "        text-align: right;\n",
       "    }\n",
       "</style>\n",
       "<table border=\"1\" class=\"dataframe\">\n",
       "  <thead>\n",
       "    <tr style=\"text-align: right;\">\n",
       "      <th>source</th>\n",
       "      <th>model</th>\n",
       "      <th>survey</th>\n",
       "    </tr>\n",
       "    <tr>\n",
       "      <th>tmodetp</th>\n",
       "      <th></th>\n",
       "      <th></th>\n",
       "    </tr>\n",
       "  </thead>\n",
       "  <tbody>\n",
       "    <tr>\n",
       "      <th>Bike</th>\n",
       "      <td>5.92</td>\n",
       "      <td>4.78</td>\n",
       "    </tr>\n",
       "    <tr>\n",
       "      <th>HOV2</th>\n",
       "      <td>7.31</td>\n",
       "      <td>7.04</td>\n",
       "    </tr>\n",
       "    <tr>\n",
       "      <th>HOV3+</th>\n",
       "      <td>6.79</td>\n",
       "      <td>6.74</td>\n",
       "    </tr>\n",
       "    <tr>\n",
       "      <th>SOV</th>\n",
       "      <td>9.26</td>\n",
       "      <td>8.72</td>\n",
       "    </tr>\n",
       "    <tr>\n",
       "      <th>School Bus</th>\n",
       "      <td>3.17</td>\n",
       "      <td>2.72</td>\n",
       "    </tr>\n",
       "    <tr>\n",
       "      <th>TNC</th>\n",
       "      <td>2.71</td>\n",
       "      <td>10.34</td>\n",
       "    </tr>\n",
       "    <tr>\n",
       "      <th>Transit</th>\n",
       "      <td>20.07</td>\n",
       "      <td>15.27</td>\n",
       "    </tr>\n",
       "    <tr>\n",
       "      <th>Walk</th>\n",
       "      <td>1.00</td>\n",
       "      <td>0.92</td>\n",
       "    </tr>\n",
       "  </tbody>\n",
       "</table>\n",
       "</div>"
      ],
      "text/plain": [
       "source      model  survey\n",
       "tmodetp                  \n",
       "Bike         5.92    4.78\n",
       "HOV2         7.31    7.04\n",
       "HOV3+        6.79    6.74\n",
       "SOV          9.26    8.72\n",
       "School Bus   3.17    2.72\n",
       "TNC          2.71   10.34\n",
       "Transit     20.07   15.27\n",
       "Walk         1.00    0.92"
      ]
     },
     "execution_count": 10,
     "metadata": {},
     "output_type": "execute_result"
    },
    {
     "data": {
      "image/png": "[encoded data removed]",
      "text/plain": [
       "<Figure size 432x288 with 1 Axes>"
      ]
     },
     "metadata": {
      "needs_background": "light"
     },
     "output_type": "display_data"
    }
   ],
   "source": [
    "df = load_data('tour_distance')\n",
    "df = df.loc[df['person_county']=='Pierce']\n",
    "# Trim any unreasonable survey distances off by taking max distance as max modeled bin value\n",
    "max_model_dist = df.loc[(df['source']=='model'), 'tautodist_bin'].max()\n",
    "df = df.loc[df['tautodist_bin'] <= max_model_dist]\n",
    "df['wt_autodist'] = (df['tautodist_bin']+0.5)*(df['toexpfac'])\n",
    "df_dist = pd.DataFrame()\n",
    "for source in ['model','survey']:\n",
    "    _df = df[(df['source'] == source)]\n",
    "    df1 = _df.groupby('tmodetp').sum()[['wt_autodist']].reset_index()\n",
    "    df2 = _df.groupby('tmodetp').sum()[['toexpfac']].reset_index ()\n",
    "    _df = df1.merge(df2, on='tmodetp')\n",
    "    _df['commute_distance'] = _df['wt_autodist']/_df['toexpfac']\n",
    "    _df['source'] = source\n",
    "    df_dist = df_dist.append(_df)\n",
    "df = df_dist.pivot_table(index='tmodetp', columns='source', aggfunc='first', values='commute_distance')\n",
    "df.rename(columns={'tmodetp': 'Tour Mode'}, inplace=True)\n",
    "\n",
    "df.drop('Park', inplace=True, errors='ignore')\n",
    "df.plot(kind='barh', alpha=0.6)\n",
    "df"
   ]
  },
  {
   "cell_type": "markdown",
   "metadata": {},
   "source": [
    "## Other Counties"
   ]
  },
  {
   "cell_type": "code",
   "execution_count": 11,
   "metadata": {},
   "outputs": [
    {
     "data": {
      "text/html": [
       "<div>\n",
       "<style scoped>\n",
       "    .dataframe tbody tr th:only-of-type {\n",
       "        vertical-align: middle;\n",
       "    }\n",
       "\n",
       "    .dataframe tbody tr th {\n",
       "        vertical-align: top;\n",
       "    }\n",
       "\n",
       "    .dataframe thead th {\n",
       "        text-align: right;\n",
       "    }\n",
       "</style>\n",
       "<table border=\"1\" class=\"dataframe\">\n",
       "  <thead>\n",
       "    <tr style=\"text-align: right;\">\n",
       "      <th>source</th>\n",
       "      <th>model</th>\n",
       "      <th>survey</th>\n",
       "    </tr>\n",
       "    <tr>\n",
       "      <th>tmodetp</th>\n",
       "      <th></th>\n",
       "      <th></th>\n",
       "    </tr>\n",
       "  </thead>\n",
       "  <tbody>\n",
       "    <tr>\n",
       "      <th>Bike</th>\n",
       "      <td>5.66</td>\n",
       "      <td>2.84</td>\n",
       "    </tr>\n",
       "    <tr>\n",
       "      <th>HOV2</th>\n",
       "      <td>7.21</td>\n",
       "      <td>6.61</td>\n",
       "    </tr>\n",
       "    <tr>\n",
       "      <th>HOV3+</th>\n",
       "      <td>6.88</td>\n",
       "      <td>6.09</td>\n",
       "    </tr>\n",
       "    <tr>\n",
       "      <th>SOV</th>\n",
       "      <td>8.56</td>\n",
       "      <td>8.44</td>\n",
       "    </tr>\n",
       "    <tr>\n",
       "      <th>School Bus</th>\n",
       "      <td>3.22</td>\n",
       "      <td>3.57</td>\n",
       "    </tr>\n",
       "    <tr>\n",
       "      <th>TNC</th>\n",
       "      <td>2.52</td>\n",
       "      <td>3.60</td>\n",
       "    </tr>\n",
       "    <tr>\n",
       "      <th>Transit</th>\n",
       "      <td>8.81</td>\n",
       "      <td>8.96</td>\n",
       "    </tr>\n",
       "    <tr>\n",
       "      <th>Walk</th>\n",
       "      <td>0.92</td>\n",
       "      <td>0.88</td>\n",
       "    </tr>\n",
       "  </tbody>\n",
       "</table>\n",
       "</div>"
      ],
      "text/plain": [
       "source      model  survey\n",
       "tmodetp                  \n",
       "Bike         5.66    2.84\n",
       "HOV2         7.21    6.61\n",
       "HOV3+        6.88    6.09\n",
       "SOV          8.56    8.44\n",
       "School Bus   3.22    3.57\n",
       "TNC          2.52    3.60\n",
       "Transit      8.81    8.96\n",
       "Walk         0.92    0.88"
      ]
     },
     "execution_count": 11,
     "metadata": {},
     "output_type": "execute_result"
    },
    {
     "data": {
      "image/png": "[encoded data removed]",
      "text/plain": [
       "<Figure size 432x288 with 1 Axes>"
      ]
     },
     "metadata": {
      "needs_background": "light"
     },
     "output_type": "display_data"
    }
   ],
   "source": [
    "df = load_data('tour_distance')\n",
    "df = df.loc[df['person_county']!='Pierce']\n",
    "# Trim any unreasonable survey distances off by taking max distance as max modeled bin value\n",
    "max_model_dist = df.loc[(df['source']=='model'), 'tautodist_bin'].max()\n",
    "df = df.loc[df['tautodist_bin'] <= max_model_dist]\n",
    "df['wt_autodist'] = (df['tautodist_bin']+0.5)*(df['toexpfac'])\n",
    "df_dist = pd.DataFrame()\n",
    "for source in ['model','survey']:\n",
    "    _df = df[(df['source'] == source)]\n",
    "    df1 = _df.groupby('tmodetp').sum()[['wt_autodist']].reset_index()\n",
    "    df2 = _df.groupby('tmodetp').sum()[['toexpfac']].reset_index ()\n",
    "    _df = df1.merge(df2, on='tmodetp')\n",
    "    _df['commute_distance'] = _df['wt_autodist']/_df['toexpfac']\n",
    "    _df['source'] = source\n",
    "    df_dist = df_dist.append(_df)\n",
    "df = df_dist.pivot_table(index='tmodetp', columns='source', aggfunc='first', values='commute_distance')\n",
    "df.rename(columns={'tmodetp': 'Tour Mode'}, inplace=True)\n",
    "\n",
    "df.drop('Park', inplace=True, errors='ignore')\n",
    "df.plot(kind='barh', alpha=0.6)\n",
    "df"
   ]
  },
  {
   "cell_type": "markdown",
   "metadata": {},
   "source": [
    "# Trips per Tour by Tour Purpose\n",
    "Average number of trip legs in a tour"
   ]
  },
  {
   "cell_type": "code",
   "execution_count": 12,
   "metadata": {
    "execution": {
     "iopub.execute_input": "2021-06-10T22:11:15.144529Z",
     "iopub.status.busy": "2021-06-10T22:11:15.144529Z",
     "iopub.status.idle": "2021-06-10T22:11:15.363161Z",
     "shell.execute_reply": "2021-06-10T22:11:15.363161Z"
    },
    "scrolled": false
   },
   "outputs": [
    {
     "data": {
      "text/html": [
       "<div>\n",
       "<style scoped>\n",
       "    .dataframe tbody tr th:only-of-type {\n",
       "        vertical-align: middle;\n",
       "    }\n",
       "\n",
       "    .dataframe tbody tr th {\n",
       "        vertical-align: top;\n",
       "    }\n",
       "\n",
       "    .dataframe thead th {\n",
       "        text-align: right;\n",
       "    }\n",
       "</style>\n",
       "<table border=\"1\" class=\"dataframe\">\n",
       "  <thead>\n",
       "    <tr style=\"text-align: right;\">\n",
       "      <th>source</th>\n",
       "      <th>model</th>\n",
       "      <th>survey</th>\n",
       "    </tr>\n",
       "    <tr>\n",
       "      <th>pdpurp</th>\n",
       "      <th></th>\n",
       "      <th></th>\n",
       "    </tr>\n",
       "  </thead>\n",
       "  <tbody>\n",
       "    <tr>\n",
       "      <th>Escort</th>\n",
       "      <td>2.65</td>\n",
       "      <td>2.38</td>\n",
       "    </tr>\n",
       "    <tr>\n",
       "      <th>Meal</th>\n",
       "      <td>2.17</td>\n",
       "      <td>2.70</td>\n",
       "    </tr>\n",
       "    <tr>\n",
       "      <th>Personal Business</th>\n",
       "      <td>2.41</td>\n",
       "      <td>2.83</td>\n",
       "    </tr>\n",
       "    <tr>\n",
       "      <th>School</th>\n",
       "      <td>2.56</td>\n",
       "      <td>2.44</td>\n",
       "    </tr>\n",
       "    <tr>\n",
       "      <th>Shop</th>\n",
       "      <td>2.43</td>\n",
       "      <td>2.87</td>\n",
       "    </tr>\n",
       "    <tr>\n",
       "      <th>Social</th>\n",
       "      <td>2.24</td>\n",
       "      <td>2.78</td>\n",
       "    </tr>\n",
       "    <tr>\n",
       "      <th>Work</th>\n",
       "      <td>2.90</td>\n",
       "      <td>3.08</td>\n",
       "    </tr>\n",
       "  </tbody>\n",
       "</table>\n",
       "</div>"
      ],
      "text/plain": [
       "source             model  survey\n",
       "pdpurp                          \n",
       "Escort              2.65    2.38\n",
       "Meal                2.17    2.70\n",
       "Personal Business   2.41    2.83\n",
       "School              2.56    2.44\n",
       "Shop                2.43    2.87\n",
       "Social              2.24    2.78\n",
       "Work                2.90    3.08"
      ]
     },
     "execution_count": 12,
     "metadata": {},
     "output_type": "execute_result"
    },
    {
     "data": {
      "image/png": "[encoded data removed]",
      "text/plain": [
       "<Figure size 432x288 with 1 Axes>"
      ]
     },
     "metadata": {
      "needs_background": "light"
     },
     "output_type": "display_data"
    }
   ],
   "source": [
    "df = load_data('trips_by_tour')\n",
    "df['wt_tot_trips'] = (df['tripsh1']+df['tripsh2'])*df['toexpfac']\n",
    "\n",
    "df1 = df.pivot_table(columns='source', index='pdpurp', values='toexpfac', aggfunc='sum')\n",
    "df2 = df.pivot_table(columns='source', index='pdpurp', values='wt_tot_trips', aggfunc='sum')\n",
    "\n",
    "df = df2/df1\n",
    "df.drop('Change Mode Inserted Purpose', axis=0, inplace=True, errors='ignore')\n",
    "df.plot(kind='barh', alpha=0.6)\n",
    "df"
   ]
  },
  {
   "cell_type": "markdown",
   "metadata": {},
   "source": [
    "## Pierce County"
   ]
  },
  {
   "cell_type": "code",
   "execution_count": 13,
   "metadata": {},
   "outputs": [
    {
     "data": {
      "text/html": [
       "<div>\n",
       "<style scoped>\n",
       "    .dataframe tbody tr th:only-of-type {\n",
       "        vertical-align: middle;\n",
       "    }\n",
       "\n",
       "    .dataframe tbody tr th {\n",
       "        vertical-align: top;\n",
       "    }\n",
       "\n",
       "    .dataframe thead th {\n",
       "        text-align: right;\n",
       "    }\n",
       "</style>\n",
       "<table border=\"1\" class=\"dataframe\">\n",
       "  <thead>\n",
       "    <tr style=\"text-align: right;\">\n",
       "      <th>source</th>\n",
       "      <th>model</th>\n",
       "      <th>survey</th>\n",
       "    </tr>\n",
       "    <tr>\n",
       "      <th>pdpurp</th>\n",
       "      <th></th>\n",
       "      <th></th>\n",
       "    </tr>\n",
       "  </thead>\n",
       "  <tbody>\n",
       "    <tr>\n",
       "      <th>Escort</th>\n",
       "      <td>2.65</td>\n",
       "      <td>2.52</td>\n",
       "    </tr>\n",
       "    <tr>\n",
       "      <th>Meal</th>\n",
       "      <td>2.19</td>\n",
       "      <td>2.83</td>\n",
       "    </tr>\n",
       "    <tr>\n",
       "      <th>Personal Business</th>\n",
       "      <td>2.42</td>\n",
       "      <td>3.38</td>\n",
       "    </tr>\n",
       "    <tr>\n",
       "      <th>School</th>\n",
       "      <td>2.55</td>\n",
       "      <td>2.30</td>\n",
       "    </tr>\n",
       "    <tr>\n",
       "      <th>Shop</th>\n",
       "      <td>2.44</td>\n",
       "      <td>3.23</td>\n",
       "    </tr>\n",
       "    <tr>\n",
       "      <th>Social</th>\n",
       "      <td>2.25</td>\n",
       "      <td>2.85</td>\n",
       "    </tr>\n",
       "    <tr>\n",
       "      <th>Work</th>\n",
       "      <td>2.89</td>\n",
       "      <td>3.12</td>\n",
       "    </tr>\n",
       "  </tbody>\n",
       "</table>\n",
       "</div>"
      ],
      "text/plain": [
       "source             model  survey\n",
       "pdpurp                          \n",
       "Escort              2.65    2.52\n",
       "Meal                2.19    2.83\n",
       "Personal Business   2.42    3.38\n",
       "School              2.55    2.30\n",
       "Shop                2.44    3.23\n",
       "Social              2.25    2.85\n",
       "Work                2.89    3.12"
      ]
     },
     "execution_count": 13,
     "metadata": {},
     "output_type": "execute_result"
    },
    {
     "data": {
      "image/png": "[encoded data removed]",
      "text/plain": [
       "<Figure size 432x288 with 1 Axes>"
      ]
     },
     "metadata": {
      "needs_background": "light"
     },
     "output_type": "display_data"
    }
   ],
   "source": [
    "df = load_data('trips_by_tour')\n",
    "df = df.loc[df['person_county']=='Pierce']\n",
    "df['wt_tot_trips'] = (df['tripsh1']+df['tripsh2'])*df['toexpfac']\n",
    "\n",
    "df1 = df.pivot_table(columns='source', index='pdpurp', values='toexpfac', aggfunc='sum')\n",
    "df2 = df.pivot_table(columns='source', index='pdpurp', values='wt_tot_trips', aggfunc='sum')\n",
    "\n",
    "df = df2/df1\n",
    "df.drop('Change Mode Inserted Purpose', axis=0, inplace=True, errors='ignore')\n",
    "df.plot(kind='barh', alpha=0.6)\n",
    "df"
   ]
  },
  {
   "cell_type": "markdown",
   "metadata": {},
   "source": [
    "## Other Counties"
   ]
  },
  {
   "cell_type": "code",
   "execution_count": 14,
   "metadata": {},
   "outputs": [
    {
     "data": {
      "text/html": [
       "<div>\n",
       "<style scoped>\n",
       "    .dataframe tbody tr th:only-of-type {\n",
       "        vertical-align: middle;\n",
       "    }\n",
       "\n",
       "    .dataframe tbody tr th {\n",
       "        vertical-align: top;\n",
       "    }\n",
       "\n",
       "    .dataframe thead th {\n",
       "        text-align: right;\n",
       "    }\n",
       "</style>\n",
       "<table border=\"1\" class=\"dataframe\">\n",
       "  <thead>\n",
       "    <tr style=\"text-align: right;\">\n",
       "      <th>source</th>\n",
       "      <th>model</th>\n",
       "      <th>survey</th>\n",
       "    </tr>\n",
       "    <tr>\n",
       "      <th>pdpurp</th>\n",
       "      <th></th>\n",
       "      <th></th>\n",
       "    </tr>\n",
       "  </thead>\n",
       "  <tbody>\n",
       "    <tr>\n",
       "      <th>Escort</th>\n",
       "      <td>2.65</td>\n",
       "      <td>2.34</td>\n",
       "    </tr>\n",
       "    <tr>\n",
       "      <th>Meal</th>\n",
       "      <td>2.16</td>\n",
       "      <td>2.67</td>\n",
       "    </tr>\n",
       "    <tr>\n",
       "      <th>Personal Business</th>\n",
       "      <td>2.41</td>\n",
       "      <td>2.71</td>\n",
       "    </tr>\n",
       "    <tr>\n",
       "      <th>School</th>\n",
       "      <td>2.57</td>\n",
       "      <td>2.48</td>\n",
       "    </tr>\n",
       "    <tr>\n",
       "      <th>Shop</th>\n",
       "      <td>2.43</td>\n",
       "      <td>2.77</td>\n",
       "    </tr>\n",
       "    <tr>\n",
       "      <th>Social</th>\n",
       "      <td>2.24</td>\n",
       "      <td>2.76</td>\n",
       "    </tr>\n",
       "    <tr>\n",
       "      <th>Work</th>\n",
       "      <td>2.91</td>\n",
       "      <td>3.07</td>\n",
       "    </tr>\n",
       "  </tbody>\n",
       "</table>\n",
       "</div>"
      ],
      "text/plain": [
       "source             model  survey\n",
       "pdpurp                          \n",
       "Escort              2.65    2.34\n",
       "Meal                2.16    2.67\n",
       "Personal Business   2.41    2.71\n",
       "School              2.57    2.48\n",
       "Shop                2.43    2.77\n",
       "Social              2.24    2.76\n",
       "Work                2.91    3.07"
      ]
     },
     "execution_count": 14,
     "metadata": {},
     "output_type": "execute_result"
    },
    {
     "data": {
      "image/png": "[encoded data removed]",
      "text/plain": [
       "<Figure size 432x288 with 1 Axes>"
      ]
     },
     "metadata": {
      "needs_background": "light"
     },
     "output_type": "display_data"
    }
   ],
   "source": [
    "df = load_data('trips_by_tour')\n",
    "df = df.loc[df['person_county']!='Pierce']\n",
    "df['wt_tot_trips'] = (df['tripsh1']+df['tripsh2'])*df['toexpfac']\n",
    "\n",
    "df1 = df.pivot_table(columns='source', index='pdpurp', values='toexpfac', aggfunc='sum')\n",
    "df2 = df.pivot_table(columns='source', index='pdpurp', values='wt_tot_trips', aggfunc='sum')\n",
    "\n",
    "df = df2/df1\n",
    "df.drop('Change Mode Inserted Purpose', axis=0, inplace=True, errors='ignore')\n",
    "df.plot(kind='barh', alpha=0.6)\n",
    "df"
   ]
  },
  {
   "cell_type": "markdown",
   "metadata": {},
   "source": [
    "# Trips per Tour by Tour Mode\n",
    "Average number of trip legs in a tour"
   ]
  },
  {
   "cell_type": "code",
   "execution_count": 15,
   "metadata": {
    "execution": {
     "iopub.execute_input": "2021-06-10T22:11:15.363161Z",
     "iopub.status.busy": "2021-06-10T22:11:15.363161Z",
     "iopub.status.idle": "2021-06-10T22:11:15.581927Z",
     "shell.execute_reply": "2021-06-10T22:11:15.581927Z"
    }
   },
   "outputs": [
    {
     "data": {
      "text/html": [
       "<div>\n",
       "<style scoped>\n",
       "    .dataframe tbody tr th:only-of-type {\n",
       "        vertical-align: middle;\n",
       "    }\n",
       "\n",
       "    .dataframe tbody tr th {\n",
       "        vertical-align: top;\n",
       "    }\n",
       "\n",
       "    .dataframe thead th {\n",
       "        text-align: right;\n",
       "    }\n",
       "</style>\n",
       "<table border=\"1\" class=\"dataframe\">\n",
       "  <thead>\n",
       "    <tr style=\"text-align: right;\">\n",
       "      <th>source</th>\n",
       "      <th>model</th>\n",
       "      <th>survey</th>\n",
       "    </tr>\n",
       "    <tr>\n",
       "      <th>tmodetp</th>\n",
       "      <th></th>\n",
       "      <th></th>\n",
       "    </tr>\n",
       "  </thead>\n",
       "  <tbody>\n",
       "    <tr>\n",
       "      <th>Bike</th>\n",
       "      <td>2.47</td>\n",
       "      <td>2.39</td>\n",
       "    </tr>\n",
       "    <tr>\n",
       "      <th>HOV2</th>\n",
       "      <td>2.64</td>\n",
       "      <td>2.92</td>\n",
       "    </tr>\n",
       "    <tr>\n",
       "      <th>HOV3+</th>\n",
       "      <td>2.58</td>\n",
       "      <td>3.04</td>\n",
       "    </tr>\n",
       "    <tr>\n",
       "      <th>SOV</th>\n",
       "      <td>2.52</td>\n",
       "      <td>2.77</td>\n",
       "    </tr>\n",
       "    <tr>\n",
       "      <th>School Bus</th>\n",
       "      <td>2.36</td>\n",
       "      <td>2.31</td>\n",
       "    </tr>\n",
       "    <tr>\n",
       "      <th>TNC</th>\n",
       "      <td>2.27</td>\n",
       "      <td>2.85</td>\n",
       "    </tr>\n",
       "    <tr>\n",
       "      <th>Transit</th>\n",
       "      <td>2.67</td>\n",
       "      <td>3.02</td>\n",
       "    </tr>\n",
       "    <tr>\n",
       "      <th>Walk</th>\n",
       "      <td>2.27</td>\n",
       "      <td>2.18</td>\n",
       "    </tr>\n",
       "  </tbody>\n",
       "</table>\n",
       "</div>"
      ],
      "text/plain": [
       "source      model  survey\n",
       "tmodetp                  \n",
       "Bike         2.47    2.39\n",
       "HOV2         2.64    2.92\n",
       "HOV3+        2.58    3.04\n",
       "SOV          2.52    2.77\n",
       "School Bus   2.36    2.31\n",
       "TNC          2.27    2.85\n",
       "Transit      2.67    3.02\n",
       "Walk         2.27    2.18"
      ]
     },
     "execution_count": 15,
     "metadata": {},
     "output_type": "execute_result"
    },
    {
     "data": {
      "image/png": "[encoded data removed]",
      "text/plain": [
       "<Figure size 432x288 with 1 Axes>"
      ]
     },
     "metadata": {
      "needs_background": "light"
     },
     "output_type": "display_data"
    }
   ],
   "source": [
    "df = load_data('trips_by_tour')\n",
    "df['wt_tot_trips'] = (df['tripsh1']+df['tripsh2'])*df['toexpfac']\n",
    "\n",
    "df1 = df.pivot_table(columns='source', index='tmodetp', values='toexpfac', aggfunc='sum')\n",
    "df2 = df.pivot_table(columns='source', index='tmodetp', values='wt_tot_trips', aggfunc='sum')\n",
    "\n",
    "df = df2/df1\n",
    "df.drop('Park', axis=0, inplace=True)\n",
    "df.plot(kind='barh', alpha=0.6)\n",
    "df"
   ]
  },
  {
   "cell_type": "markdown",
   "metadata": {},
   "source": [
    "## Pierce County"
   ]
  },
  {
   "cell_type": "code",
   "execution_count": 16,
   "metadata": {},
   "outputs": [
    {
     "data": {
      "text/html": [
       "<div>\n",
       "<style scoped>\n",
       "    .dataframe tbody tr th:only-of-type {\n",
       "        vertical-align: middle;\n",
       "    }\n",
       "\n",
       "    .dataframe tbody tr th {\n",
       "        vertical-align: top;\n",
       "    }\n",
       "\n",
       "    .dataframe thead th {\n",
       "        text-align: right;\n",
       "    }\n",
       "</style>\n",
       "<table border=\"1\" class=\"dataframe\">\n",
       "  <thead>\n",
       "    <tr style=\"text-align: right;\">\n",
       "      <th>source</th>\n",
       "      <th>model</th>\n",
       "      <th>survey</th>\n",
       "    </tr>\n",
       "    <tr>\n",
       "      <th>tmodetp</th>\n",
       "      <th></th>\n",
       "      <th></th>\n",
       "    </tr>\n",
       "  </thead>\n",
       "  <tbody>\n",
       "    <tr>\n",
       "      <th>Bike</th>\n",
       "      <td>2.47</td>\n",
       "      <td>2.51</td>\n",
       "    </tr>\n",
       "    <tr>\n",
       "      <th>HOV2</th>\n",
       "      <td>2.63</td>\n",
       "      <td>3.33</td>\n",
       "    </tr>\n",
       "    <tr>\n",
       "      <th>HOV3+</th>\n",
       "      <td>2.58</td>\n",
       "      <td>3.17</td>\n",
       "    </tr>\n",
       "    <tr>\n",
       "      <th>SOV</th>\n",
       "      <td>2.51</td>\n",
       "      <td>2.82</td>\n",
       "    </tr>\n",
       "    <tr>\n",
       "      <th>School Bus</th>\n",
       "      <td>2.36</td>\n",
       "      <td>2.14</td>\n",
       "    </tr>\n",
       "    <tr>\n",
       "      <th>TNC</th>\n",
       "      <td>2.30</td>\n",
       "      <td>2.76</td>\n",
       "    </tr>\n",
       "    <tr>\n",
       "      <th>Transit</th>\n",
       "      <td>2.75</td>\n",
       "      <td>2.94</td>\n",
       "    </tr>\n",
       "    <tr>\n",
       "      <th>Walk</th>\n",
       "      <td>2.26</td>\n",
       "      <td>2.18</td>\n",
       "    </tr>\n",
       "  </tbody>\n",
       "</table>\n",
       "</div>"
      ],
      "text/plain": [
       "source      model  survey\n",
       "tmodetp                  \n",
       "Bike         2.47    2.51\n",
       "HOV2         2.63    3.33\n",
       "HOV3+        2.58    3.17\n",
       "SOV          2.51    2.82\n",
       "School Bus   2.36    2.14\n",
       "TNC          2.30    2.76\n",
       "Transit      2.75    2.94\n",
       "Walk         2.26    2.18"
      ]
     },
     "execution_count": 16,
     "metadata": {},
     "output_type": "execute_result"
    },
    {
     "data": {
      "image/png": "[encoded data removed]",
      "text/plain": [
       "<Figure size 432x288 with 1 Axes>"
      ]
     },
     "metadata": {
      "needs_background": "light"
     },
     "output_type": "display_data"
    }
   ],
   "source": [
    "df = load_data('trips_by_tour')\n",
    "df = df.loc[df['person_county']=='Pierce']\n",
    "df['wt_tot_trips'] = (df['tripsh1']+df['tripsh2'])*df['toexpfac']\n",
    "\n",
    "df1 = df.pivot_table(columns='source', index='tmodetp', values='toexpfac', aggfunc='sum')\n",
    "df2 = df.pivot_table(columns='source', index='tmodetp', values='wt_tot_trips', aggfunc='sum')\n",
    "\n",
    "df = df2/df1\n",
    "df.drop('Park', axis=0, inplace=True)\n",
    "df.plot(kind='barh', alpha=0.6)\n",
    "df"
   ]
  },
  {
   "cell_type": "markdown",
   "metadata": {},
   "source": [
    "## Other Counties"
   ]
  },
  {
   "cell_type": "code",
   "execution_count": 17,
   "metadata": {},
   "outputs": [
    {
     "data": {
      "text/html": [
       "<div>\n",
       "<style scoped>\n",
       "    .dataframe tbody tr th:only-of-type {\n",
       "        vertical-align: middle;\n",
       "    }\n",
       "\n",
       "    .dataframe tbody tr th {\n",
       "        vertical-align: top;\n",
       "    }\n",
       "\n",
       "    .dataframe thead th {\n",
       "        text-align: right;\n",
       "    }\n",
       "</style>\n",
       "<table border=\"1\" class=\"dataframe\">\n",
       "  <thead>\n",
       "    <tr style=\"text-align: right;\">\n",
       "      <th>source</th>\n",
       "      <th>model</th>\n",
       "      <th>survey</th>\n",
       "    </tr>\n",
       "    <tr>\n",
       "      <th>tmodetp</th>\n",
       "      <th></th>\n",
       "      <th></th>\n",
       "    </tr>\n",
       "  </thead>\n",
       "  <tbody>\n",
       "    <tr>\n",
       "      <th>Bike</th>\n",
       "      <td>2.47</td>\n",
       "      <td>2.37</td>\n",
       "    </tr>\n",
       "    <tr>\n",
       "      <th>HOV2</th>\n",
       "      <td>2.65</td>\n",
       "      <td>2.81</td>\n",
       "    </tr>\n",
       "    <tr>\n",
       "      <th>HOV3+</th>\n",
       "      <td>2.59</td>\n",
       "      <td>3.00</td>\n",
       "    </tr>\n",
       "    <tr>\n",
       "      <th>SOV</th>\n",
       "      <td>2.52</td>\n",
       "      <td>2.75</td>\n",
       "    </tr>\n",
       "    <tr>\n",
       "      <th>School Bus</th>\n",
       "      <td>2.36</td>\n",
       "      <td>2.38</td>\n",
       "    </tr>\n",
       "    <tr>\n",
       "      <th>TNC</th>\n",
       "      <td>2.26</td>\n",
       "      <td>2.85</td>\n",
       "    </tr>\n",
       "    <tr>\n",
       "      <th>Transit</th>\n",
       "      <td>2.66</td>\n",
       "      <td>3.03</td>\n",
       "    </tr>\n",
       "    <tr>\n",
       "      <th>Walk</th>\n",
       "      <td>2.27</td>\n",
       "      <td>2.17</td>\n",
       "    </tr>\n",
       "  </tbody>\n",
       "</table>\n",
       "</div>"
      ],
      "text/plain": [
       "source      model  survey\n",
       "tmodetp                  \n",
       "Bike         2.47    2.37\n",
       "HOV2         2.65    2.81\n",
       "HOV3+        2.59    3.00\n",
       "SOV          2.52    2.75\n",
       "School Bus   2.36    2.38\n",
       "TNC          2.26    2.85\n",
       "Transit      2.66    3.03\n",
       "Walk         2.27    2.17"
      ]
     },
     "execution_count": 17,
     "metadata": {},
     "output_type": "execute_result"
    },
    {
     "data": {
      "image/png": "[encoded data removed]",
      "text/plain": [
       "<Figure size 432x288 with 1 Axes>"
      ]
     },
     "metadata": {
      "needs_background": "light"
     },
     "output_type": "display_data"
    }
   ],
   "source": [
    "df = load_data('trips_by_tour')\n",
    "df = df.loc[df['person_county']!='Pierce']\n",
    "df['wt_tot_trips'] = (df['tripsh1']+df['tripsh2'])*df['toexpfac']\n",
    "\n",
    "df1 = df.pivot_table(columns='source', index='tmodetp', values='toexpfac', aggfunc='sum')\n",
    "df2 = df.pivot_table(columns='source', index='tmodetp', values='wt_tot_trips', aggfunc='sum')\n",
    "\n",
    "df = df2/df1\n",
    "df.drop('Park', axis=0, inplace=True)\n",
    "df.plot(kind='barh', alpha=0.6)\n",
    "df"
   ]
  },
  {
   "cell_type": "markdown",
   "metadata": {},
   "source": [
    "# Tour Destinations by District\n",
    "Total tours with primary destinations in each district"
   ]
  },
  {
   "cell_type": "code",
   "execution_count": 18,
   "metadata": {
    "execution": {
     "iopub.execute_input": "2021-06-10T22:11:15.597550Z",
     "iopub.status.busy": "2021-06-10T22:11:15.581927Z",
     "iopub.status.idle": "2021-06-10T22:11:16.159848Z",
     "shell.execute_reply": "2021-06-10T22:11:16.159848Z"
    }
   },
   "outputs": [
    {
     "data": {
      "text/html": [
       "<div>\n",
       "<style scoped>\n",
       "    .dataframe tbody tr th:only-of-type {\n",
       "        vertical-align: middle;\n",
       "    }\n",
       "\n",
       "    .dataframe tbody tr th {\n",
       "        vertical-align: top;\n",
       "    }\n",
       "\n",
       "    .dataframe thead th {\n",
       "        text-align: right;\n",
       "    }\n",
       "</style>\n",
       "<table border=\"1\" class=\"dataframe\">\n",
       "  <thead>\n",
       "    <tr style=\"text-align: right;\">\n",
       "      <th></th>\n",
       "      <th>model</th>\n",
       "      <th>survey</th>\n",
       "    </tr>\n",
       "  </thead>\n",
       "  <tbody>\n",
       "    <tr>\n",
       "      <th>Suburban Snohomish</th>\n",
       "      <td>8.04%</td>\n",
       "      <td>8.82%</td>\n",
       "    </tr>\n",
       "    <tr>\n",
       "      <th>Everett-Lynwood-Edmonds</th>\n",
       "      <td>8.19%</td>\n",
       "      <td>7.36%</td>\n",
       "    </tr>\n",
       "    <tr>\n",
       "      <th>North Seattle-Shoreline</th>\n",
       "      <td>8.58%</td>\n",
       "      <td>10.19%</td>\n",
       "    </tr>\n",
       "    <tr>\n",
       "      <th>Seattle CBD</th>\n",
       "      <td>11.55%</td>\n",
       "      <td>10.76%</td>\n",
       "    </tr>\n",
       "    <tr>\n",
       "      <th>West-South Seattle</th>\n",
       "      <td>6.30%</td>\n",
       "      <td>5.75%</td>\n",
       "    </tr>\n",
       "    <tr>\n",
       "      <th>East Side</th>\n",
       "      <td>16.52%</td>\n",
       "      <td>19.50%</td>\n",
       "    </tr>\n",
       "    <tr>\n",
       "      <th>Renton-FedWay-Kent</th>\n",
       "      <td>16.29%</td>\n",
       "      <td>11.70%</td>\n",
       "    </tr>\n",
       "    <tr>\n",
       "      <th>Tacoma</th>\n",
       "      <td>7.19%</td>\n",
       "      <td>7.21%</td>\n",
       "    </tr>\n",
       "    <tr>\n",
       "      <th>Kitsap</th>\n",
       "      <td>5.70%</td>\n",
       "      <td>6.63%</td>\n",
       "    </tr>\n",
       "    <tr>\n",
       "      <th>South Pierce</th>\n",
       "      <td>10.23%</td>\n",
       "      <td>9.97%</td>\n",
       "    </tr>\n",
       "    <tr>\n",
       "      <th>S.Kitsap</th>\n",
       "      <td>1.42%</td>\n",
       "      <td>2.12%</td>\n",
       "    </tr>\n",
       "  </tbody>\n",
       "</table>\n",
       "</div>"
      ],
      "text/plain": [
       "                         model  survey\n",
       "Suburban Snohomish       8.04%   8.82%\n",
       "Everett-Lynwood-Edmonds  8.19%   7.36%\n",
       "North Seattle-Shoreline  8.58%  10.19%\n",
       "Seattle CBD             11.55%  10.76%\n",
       "West-South Seattle       6.30%   5.75%\n",
       "East Side               16.52%  19.50%\n",
       "Renton-FedWay-Kent      16.29%  11.70%\n",
       "Tacoma                   7.19%   7.21%\n",
       "Kitsap                   5.70%   6.63%\n",
       "South Pierce            10.23%   9.97%\n",
       "S.Kitsap                 1.42%   2.12%"
      ]
     },
     "execution_count": 18,
     "metadata": {},
     "output_type": "execute_result"
    },
    {
     "data": {
      "image/png": "[encoded data removed]",
      "text/plain": [
       "<Figure size 432x288 with 1 Axes>"
      ]
     },
     "metadata": {
      "needs_background": "light"
     },
     "output_type": "display_data"
    }
   ],
   "source": [
    "pd.options.display.float_format = '{:0,.2%}'.format\n",
    "\n",
    "_df = pd.DataFrame()\n",
    "for id, name in district_lookup.items():\n",
    "    df = load_data('tour_total_tour_d_district_'+name)\n",
    "    for source in ['model','survey']:\n",
    "        _df.loc[name,source] = df[df['source'] == source]['toexpfac'].sum()\n",
    "        \n",
    "_df = _df/_df.sum()\n",
    "_df.plot(kind='barh', alpha=0.6)\n",
    "_df"
   ]
  },
  {
   "cell_type": "markdown",
   "metadata": {},
   "source": [
    "## Pierce County"
   ]
  },
  {
   "cell_type": "code",
   "execution_count": 19,
   "metadata": {},
   "outputs": [
    {
     "data": {
      "text/html": [
       "<div>\n",
       "<style scoped>\n",
       "    .dataframe tbody tr th:only-of-type {\n",
       "        vertical-align: middle;\n",
       "    }\n",
       "\n",
       "    .dataframe tbody tr th {\n",
       "        vertical-align: top;\n",
       "    }\n",
       "\n",
       "    .dataframe thead th {\n",
       "        text-align: right;\n",
       "    }\n",
       "</style>\n",
       "<table border=\"1\" class=\"dataframe\">\n",
       "  <thead>\n",
       "    <tr style=\"text-align: right;\">\n",
       "      <th></th>\n",
       "      <th>model</th>\n",
       "      <th>survey</th>\n",
       "    </tr>\n",
       "  </thead>\n",
       "  <tbody>\n",
       "    <tr>\n",
       "      <th>Suburban Snohomish</th>\n",
       "      <td>0.01%</td>\n",
       "      <td>0.01%</td>\n",
       "    </tr>\n",
       "    <tr>\n",
       "      <th>Everett-Lynwood-Edmonds</th>\n",
       "      <td>0.03%</td>\n",
       "      <td>0.00%</td>\n",
       "    </tr>\n",
       "    <tr>\n",
       "      <th>North Seattle-Shoreline</th>\n",
       "      <td>0.20%</td>\n",
       "      <td>0.37%</td>\n",
       "    </tr>\n",
       "    <tr>\n",
       "      <th>Seattle CBD</th>\n",
       "      <td>1.65%</td>\n",
       "      <td>1.51%</td>\n",
       "    </tr>\n",
       "    <tr>\n",
       "      <th>West-South Seattle</th>\n",
       "      <td>0.68%</td>\n",
       "      <td>1.09%</td>\n",
       "    </tr>\n",
       "    <tr>\n",
       "      <th>East Side</th>\n",
       "      <td>0.49%</td>\n",
       "      <td>1.41%</td>\n",
       "    </tr>\n",
       "    <tr>\n",
       "      <th>Renton-FedWay-Kent</th>\n",
       "      <td>9.08%</td>\n",
       "      <td>6.60%</td>\n",
       "    </tr>\n",
       "    <tr>\n",
       "      <th>Tacoma</th>\n",
       "      <td>32.90%</td>\n",
       "      <td>35.31%</td>\n",
       "    </tr>\n",
       "    <tr>\n",
       "      <th>Kitsap</th>\n",
       "      <td>0.98%</td>\n",
       "      <td>2.12%</td>\n",
       "    </tr>\n",
       "    <tr>\n",
       "      <th>South Pierce</th>\n",
       "      <td>48.11%</td>\n",
       "      <td>43.10%</td>\n",
       "    </tr>\n",
       "    <tr>\n",
       "      <th>S.Kitsap</th>\n",
       "      <td>5.88%</td>\n",
       "      <td>8.49%</td>\n",
       "    </tr>\n",
       "  </tbody>\n",
       "</table>\n",
       "</div>"
      ],
      "text/plain": [
       "                         model  survey\n",
       "Suburban Snohomish       0.01%   0.01%\n",
       "Everett-Lynwood-Edmonds  0.03%   0.00%\n",
       "North Seattle-Shoreline  0.20%   0.37%\n",
       "Seattle CBD              1.65%   1.51%\n",
       "West-South Seattle       0.68%   1.09%\n",
       "East Side                0.49%   1.41%\n",
       "Renton-FedWay-Kent       9.08%   6.60%\n",
       "Tacoma                  32.90%  35.31%\n",
       "Kitsap                   0.98%   2.12%\n",
       "South Pierce            48.11%  43.10%\n",
       "S.Kitsap                 5.88%   8.49%"
      ]
     },
     "execution_count": 19,
     "metadata": {},
     "output_type": "execute_result"
    },
    {
     "data": {
      "image/png": "[encoded data removed]",
      "text/plain": [
       "<Figure size 432x288 with 1 Axes>"
      ]
     },
     "metadata": {
      "needs_background": "light"
     },
     "output_type": "display_data"
    }
   ],
   "source": [
    "_df = pd.DataFrame()\n",
    "for id, name in district_lookup.items():\n",
    "    df = load_data('tour_total_tour_d_district_'+name)\n",
    "    df = df.loc[df.person_county=='Pierce']\n",
    "    for source in ['model','survey']:\n",
    "        _df.loc[name,source] = df[df['source'] == source]['toexpfac'].sum()\n",
    "        \n",
    "_df = _df/_df.sum()\n",
    "_df.plot(kind='barh', alpha=0.6)\n",
    "_df"
   ]
  },
  {
   "cell_type": "markdown",
   "metadata": {},
   "source": [
    "## Other Counties"
   ]
  },
  {
   "cell_type": "code",
   "execution_count": 20,
   "metadata": {},
   "outputs": [
    {
     "data": {
      "text/html": [
       "<div>\n",
       "<style scoped>\n",
       "    .dataframe tbody tr th:only-of-type {\n",
       "        vertical-align: middle;\n",
       "    }\n",
       "\n",
       "    .dataframe tbody tr th {\n",
       "        vertical-align: top;\n",
       "    }\n",
       "\n",
       "    .dataframe thead th {\n",
       "        text-align: right;\n",
       "    }\n",
       "</style>\n",
       "<table border=\"1\" class=\"dataframe\">\n",
       "  <thead>\n",
       "    <tr style=\"text-align: right;\">\n",
       "      <th></th>\n",
       "      <th>model</th>\n",
       "      <th>survey</th>\n",
       "    </tr>\n",
       "  </thead>\n",
       "  <tbody>\n",
       "    <tr>\n",
       "      <th>Suburban Snohomish</th>\n",
       "      <td>10.02%</td>\n",
       "      <td>10.97%</td>\n",
       "    </tr>\n",
       "    <tr>\n",
       "      <th>Everett-Lynwood-Edmonds</th>\n",
       "      <td>10.20%</td>\n",
       "      <td>9.15%</td>\n",
       "    </tr>\n",
       "    <tr>\n",
       "      <th>North Seattle-Shoreline</th>\n",
       "      <td>10.65%</td>\n",
       "      <td>12.59%</td>\n",
       "    </tr>\n",
       "    <tr>\n",
       "      <th>Seattle CBD</th>\n",
       "      <td>13.99%</td>\n",
       "      <td>13.02%</td>\n",
       "    </tr>\n",
       "    <tr>\n",
       "      <th>West-South Seattle</th>\n",
       "      <td>7.68%</td>\n",
       "      <td>6.88%</td>\n",
       "    </tr>\n",
       "    <tr>\n",
       "      <th>East Side</th>\n",
       "      <td>20.47%</td>\n",
       "      <td>23.91%</td>\n",
       "    </tr>\n",
       "    <tr>\n",
       "      <th>Renton-FedWay-Kent</th>\n",
       "      <td>18.06%</td>\n",
       "      <td>12.94%</td>\n",
       "    </tr>\n",
       "    <tr>\n",
       "      <th>Tacoma</th>\n",
       "      <td>0.85%</td>\n",
       "      <td>0.36%</td>\n",
       "    </tr>\n",
       "    <tr>\n",
       "      <th>Kitsap</th>\n",
       "      <td>6.86%</td>\n",
       "      <td>7.73%</td>\n",
       "    </tr>\n",
       "    <tr>\n",
       "      <th>South Pierce</th>\n",
       "      <td>0.88%</td>\n",
       "      <td>1.89%</td>\n",
       "    </tr>\n",
       "    <tr>\n",
       "      <th>S.Kitsap</th>\n",
       "      <td>0.32%</td>\n",
       "      <td>0.57%</td>\n",
       "    </tr>\n",
       "  </tbody>\n",
       "</table>\n",
       "</div>"
      ],
      "text/plain": [
       "                         model  survey\n",
       "Suburban Snohomish      10.02%  10.97%\n",
       "Everett-Lynwood-Edmonds 10.20%   9.15%\n",
       "North Seattle-Shoreline 10.65%  12.59%\n",
       "Seattle CBD             13.99%  13.02%\n",
       "West-South Seattle       7.68%   6.88%\n",
       "East Side               20.47%  23.91%\n",
       "Renton-FedWay-Kent      18.06%  12.94%\n",
       "Tacoma                   0.85%   0.36%\n",
       "Kitsap                   6.86%   7.73%\n",
       "South Pierce             0.88%   1.89%\n",
       "S.Kitsap                 0.32%   0.57%"
      ]
     },
     "execution_count": 20,
     "metadata": {},
     "output_type": "execute_result"
    },
    {
     "data": {
      "image/png": "[encoded data removed]",
      "text/plain": [
       "<Figure size 432x288 with 1 Axes>"
      ]
     },
     "metadata": {
      "needs_background": "light"
     },
     "output_type": "display_data"
    }
   ],
   "source": [
    "_df = pd.DataFrame()\n",
    "for id, name in district_lookup.items():\n",
    "    df = load_data('tour_total_tour_d_district_'+name)\n",
    "    df = df.loc[df.person_county!='Pierce']\n",
    "    for source in ['model','survey']:\n",
    "        _df.loc[name,source] = df[df['source'] == source]['toexpfac'].sum()\n",
    "        \n",
    "_df = _df/_df.sum()\n",
    "_df.plot(kind='barh', alpha=0.6)\n",
    "_df"
   ]
  }
 ],
 "metadata": {
  "kernelspec": {
   "display_name": "Python 3",
   "language": "python",
   "name": "python3"
  },
  "language_info": {
   "codemirror_mode": {
    "name": "ipython",
    "version": 3
   },
   "file_extension": ".py",
   "mimetype": "text/x-python",
   "name": "python",
   "nbconvert_exporter": "python",
   "pygments_lexer": "ipython3",
   "version": "3.7.10"
  }
 },
 "nbformat": 4,
 "nbformat_minor": 4
}
