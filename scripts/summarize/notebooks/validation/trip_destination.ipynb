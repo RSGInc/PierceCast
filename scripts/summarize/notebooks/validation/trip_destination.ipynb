{
 "cells": [
  {
   "cell_type": "code",
   "execution_count": 1,
   "metadata": {
    "execution": {
     "iopub.execute_input": "2021-06-10T22:11:35.327029Z",
     "iopub.status.busy": "2021-06-10T22:11:35.327029Z",
     "iopub.status.idle": "2021-06-10T22:11:36.205054Z",
     "shell.execute_reply": "2021-06-10T22:11:36.205054Z"
    }
   },
   "outputs": [],
   "source": [
    "import pandas as pd\n",
    "import os, sys\n",
    "%matplotlib inline\n",
    "\n",
    "from IPython.display import display, HTML\n",
    "\n",
    "if (sys.version_info < (3, 0)):\n",
    "    HTML('''<script>\n",
    "    code_show=true; \n",
    "    function code_toggle() {\n",
    "     if (code_show){\n",
    "     $('div.input').hide();\n",
    "     } else {\n",
    "     $('div.input').show();\n",
    "     }\n",
    "     code_show = !code_show\n",
    "    } \n",
    "    $( document ).ready(code_toggle);\n",
    "    </script>\n",
    "    <form action=\"javascript:code_toggle()\"><input type=\"submit\" value=\"Click here to toggle on/off the raw code.\"></form>''')\n"
   ]
  },
  {
   "cell_type": "code",
   "execution_count": 2,
   "metadata": {
    "execution": {
     "iopub.execute_input": "2021-06-10T22:11:36.205054Z",
     "iopub.status.busy": "2021-06-10T22:11:36.205054Z",
     "iopub.status.idle": "2021-06-10T22:11:36.220670Z",
     "shell.execute_reply": "2021-06-10T22:11:36.220670Z"
    }
   },
   "outputs": [],
   "source": [
    "working_dir = r'../../../../outputs/agg/dash'\n",
    "pd.options.display.float_format = '{:0,.2f}'.format"
   ]
  },
  {
   "cell_type": "code",
   "execution_count": 3,
   "metadata": {
    "execution": {
     "iopub.execute_input": "2021-06-10T22:11:36.220670Z",
     "iopub.status.busy": "2021-06-10T22:11:36.220670Z",
     "iopub.status.idle": "2021-06-10T22:11:36.236291Z",
     "shell.execute_reply": "2021-06-10T22:11:36.236291Z"
    }
   },
   "outputs": [],
   "source": [
    "def load_data(fname):\n",
    "    \"\"\" open and join model and survey data \"\"\"\n",
    "\n",
    "    df_model = pd.read_csv(os.path.join(working_dir,fname+'.csv'))\n",
    "    df_model['source'] = 'model'\n",
    "    df_survey = pd.read_csv(os.path.join(working_dir,'survey',fname+'.csv'))\n",
    "    df_survey['source'] = 'survey'\n",
    "    df = df_model.append(df_survey)\n",
    "\n",
    "    return df"
   ]
  },
  {
   "cell_type": "code",
   "execution_count": 4,
   "metadata": {
    "execution": {
     "iopub.execute_input": "2021-06-10T22:11:36.236291Z",
     "iopub.status.busy": "2021-06-10T22:11:36.236291Z",
     "iopub.status.idle": "2021-06-10T22:11:36.251912Z",
     "shell.execute_reply": "2021-06-10T22:11:36.251912Z"
    }
   },
   "outputs": [],
   "source": [
    "district_lookup = {1: 'Suburban Snohomish',\n",
    "                  2: 'Everett-Lynwood-Edmonds',\n",
    "                  3: 'North Seattle-Shoreline',\n",
    "                  4: 'Seattle CBD',\n",
    "                  5: 'West-South Seattle',\n",
    "                  6: 'East Side',\n",
    "                   7: 'Renton-FedWay-Kent',\n",
    "                   8: 'Tacoma',\n",
    "                   9: 'Kitsap',\n",
    "                   10: 'South Pierce',\n",
    "                   11: 'S.Kitsap'\n",
    "                  }"
   ]
  },
  {
   "cell_type": "markdown",
   "metadata": {},
   "source": [
    "# Average Distance by Trip Purpose "
   ]
  },
  {
   "cell_type": "code",
   "execution_count": 5,
   "metadata": {
    "execution": {
     "iopub.execute_input": "2021-06-10T22:11:36.267534Z",
     "iopub.status.busy": "2021-06-10T22:11:36.267534Z",
     "iopub.status.idle": "2021-06-10T22:11:36.720573Z",
     "shell.execute_reply": "2021-06-10T22:11:36.720573Z"
    },
    "scrolled": true
   },
   "outputs": [
    {
     "data": {
      "text/html": [
       "<div>\n",
       "<style scoped>\n",
       "    .dataframe tbody tr th:only-of-type {\n",
       "        vertical-align: middle;\n",
       "    }\n",
       "\n",
       "    .dataframe tbody tr th {\n",
       "        vertical-align: top;\n",
       "    }\n",
       "\n",
       "    .dataframe thead th {\n",
       "        text-align: right;\n",
       "    }\n",
       "</style>\n",
       "<table border=\"1\" class=\"dataframe\">\n",
       "  <thead>\n",
       "    <tr style=\"text-align: right;\">\n",
       "      <th>source</th>\n",
       "      <th>model</th>\n",
       "      <th>survey</th>\n",
       "    </tr>\n",
       "    <tr>\n",
       "      <th>dpurp</th>\n",
       "      <th></th>\n",
       "      <th></th>\n",
       "    </tr>\n",
       "  </thead>\n",
       "  <tbody>\n",
       "    <tr>\n",
       "      <th>Escort</th>\n",
       "      <td>5.63</td>\n",
       "      <td>4.85</td>\n",
       "    </tr>\n",
       "    <tr>\n",
       "      <th>Meal</th>\n",
       "      <td>4.70</td>\n",
       "      <td>4.04</td>\n",
       "    </tr>\n",
       "    <tr>\n",
       "      <th>None/Home</th>\n",
       "      <td>6.01</td>\n",
       "      <td>6.07</td>\n",
       "    </tr>\n",
       "    <tr>\n",
       "      <th>Personal Business</th>\n",
       "      <td>4.92</td>\n",
       "      <td>5.25</td>\n",
       "    </tr>\n",
       "    <tr>\n",
       "      <th>School</th>\n",
       "      <td>3.41</td>\n",
       "      <td>4.65</td>\n",
       "    </tr>\n",
       "    <tr>\n",
       "      <th>Shop</th>\n",
       "      <td>4.20</td>\n",
       "      <td>4.42</td>\n",
       "    </tr>\n",
       "    <tr>\n",
       "      <th>Social</th>\n",
       "      <td>4.35</td>\n",
       "      <td>4.71</td>\n",
       "    </tr>\n",
       "    <tr>\n",
       "      <th>Work</th>\n",
       "      <td>8.72</td>\n",
       "      <td>8.60</td>\n",
       "    </tr>\n",
       "  </tbody>\n",
       "</table>\n",
       "</div>"
      ],
      "text/plain": [
       "source             model  survey\n",
       "dpurp                           \n",
       "Escort              5.63    4.85\n",
       "Meal                4.70    4.04\n",
       "None/Home           6.01    6.07\n",
       "Personal Business   4.92    5.25\n",
       "School              3.41    4.65\n",
       "Shop                4.20    4.42\n",
       "Social              4.35    4.71\n",
       "Work                8.72    8.60"
      ]
     },
     "execution_count": 5,
     "metadata": {},
     "output_type": "execute_result"
    },
    {
     "data": {
      "image/png": "[encoded data removed]",
      "text/plain": [
       "<Figure size 432x288 with 1 Axes>"
      ]
     },
     "metadata": {
      "needs_background": "light"
     },
     "output_type": "display_data"
    }
   ],
   "source": [
    "df = load_data('trip_distance')\n",
    "# Trim any unreasonable survey distances off by taking max distance as max modeled bin value\n",
    "max_model_dist = df.loc[(df['source']=='model'), 'travdist_bin'].max()\n",
    "df = df.loc[df['travdist_bin'] <= max_model_dist]\n",
    "df['wt_autodist'] = (df['travdist_bin']+0.5)*(df['trexpfac'])\n",
    "df_dist = pd.DataFrame()\n",
    "for source in ['model','survey']:\n",
    "    _df = df[(df['source'] == source)]\n",
    "    df1 = _df.groupby('dpurp').sum()[['wt_autodist']].reset_index()\n",
    "    df2 = _df.groupby('dpurp').sum()[['trexpfac']].reset_index ()\n",
    "    _df = df1.merge(df2, on='dpurp')\n",
    "    _df['wt_distance'] = _df['wt_autodist']/_df['trexpfac']\n",
    "    _df['source'] = source\n",
    "    df_dist = df_dist.append(_df)\n",
    "df = df_dist.pivot_table(index='dpurp', columns='source', aggfunc='first', values='wt_distance')\n",
    "df.rename(columns={'dpurp': 'Tour Purpose'}, inplace=True)\n",
    "df.drop('Change Mode Inserted Purpose', axis=0, inplace=True)\n",
    "df.plot(kind='barh', alpha=0.6)\n",
    "df"
   ]
  },
  {
   "cell_type": "markdown",
   "metadata": {},
   "source": [
    "## Pierce County"
   ]
  },
  {
   "cell_type": "code",
   "execution_count": 6,
   "metadata": {},
   "outputs": [
    {
     "data": {
      "text/html": [
       "<div>\n",
       "<style scoped>\n",
       "    .dataframe tbody tr th:only-of-type {\n",
       "        vertical-align: middle;\n",
       "    }\n",
       "\n",
       "    .dataframe tbody tr th {\n",
       "        vertical-align: top;\n",
       "    }\n",
       "\n",
       "    .dataframe thead th {\n",
       "        text-align: right;\n",
       "    }\n",
       "</style>\n",
       "<table border=\"1\" class=\"dataframe\">\n",
       "  <thead>\n",
       "    <tr style=\"text-align: right;\">\n",
       "      <th>source</th>\n",
       "      <th>model</th>\n",
       "      <th>survey</th>\n",
       "    </tr>\n",
       "    <tr>\n",
       "      <th>dpurp</th>\n",
       "      <th></th>\n",
       "      <th></th>\n",
       "    </tr>\n",
       "  </thead>\n",
       "  <tbody>\n",
       "    <tr>\n",
       "      <th>Escort</th>\n",
       "      <td>5.96</td>\n",
       "      <td>5.08</td>\n",
       "    </tr>\n",
       "    <tr>\n",
       "      <th>Meal</th>\n",
       "      <td>5.27</td>\n",
       "      <td>5.73</td>\n",
       "    </tr>\n",
       "    <tr>\n",
       "      <th>None/Home</th>\n",
       "      <td>6.54</td>\n",
       "      <td>6.71</td>\n",
       "    </tr>\n",
       "    <tr>\n",
       "      <th>Personal Business</th>\n",
       "      <td>5.24</td>\n",
       "      <td>6.08</td>\n",
       "    </tr>\n",
       "    <tr>\n",
       "      <th>School</th>\n",
       "      <td>3.44</td>\n",
       "      <td>4.77</td>\n",
       "    </tr>\n",
       "    <tr>\n",
       "      <th>Shop</th>\n",
       "      <td>4.63</td>\n",
       "      <td>4.51</td>\n",
       "    </tr>\n",
       "    <tr>\n",
       "      <th>Social</th>\n",
       "      <td>4.54</td>\n",
       "      <td>4.51</td>\n",
       "    </tr>\n",
       "    <tr>\n",
       "      <th>Work</th>\n",
       "      <td>10.94</td>\n",
       "      <td>9.21</td>\n",
       "    </tr>\n",
       "  </tbody>\n",
       "</table>\n",
       "</div>"
      ],
      "text/plain": [
       "source             model  survey\n",
       "dpurp                           \n",
       "Escort              5.96    5.08\n",
       "Meal                5.27    5.73\n",
       "None/Home           6.54    6.71\n",
       "Personal Business   5.24    6.08\n",
       "School              3.44    4.77\n",
       "Shop                4.63    4.51\n",
       "Social              4.54    4.51\n",
       "Work               10.94    9.21"
      ]
     },
     "execution_count": 6,
     "metadata": {},
     "output_type": "execute_result"
    },
    {
     "data": {
      "image/png": "[encoded data removed]",
      "text/plain": [
       "<Figure size 432x288 with 1 Axes>"
      ]
     },
     "metadata": {
      "needs_background": "light"
     },
     "output_type": "display_data"
    }
   ],
   "source": [
    "df = load_data('trip_distance')\n",
    "df = df.loc[df.person_county=='Pierce']\n",
    "# Trim any unreasonable survey distances off by taking max distance as max modeled bin value\n",
    "max_model_dist = df.loc[(df['source']=='model'), 'travdist_bin'].max()\n",
    "df = df.loc[df['travdist_bin'] <= max_model_dist]\n",
    "df['wt_autodist'] = (df['travdist_bin']+0.5)*(df['trexpfac'])\n",
    "df_dist = pd.DataFrame()\n",
    "for source in ['model','survey']:\n",
    "    _df = df[(df['source'] == source)]\n",
    "    df1 = _df.groupby('dpurp').sum()[['wt_autodist']].reset_index()\n",
    "    df2 = _df.groupby('dpurp').sum()[['trexpfac']].reset_index ()\n",
    "    _df = df1.merge(df2, on='dpurp')\n",
    "    _df['wt_distance'] = _df['wt_autodist']/_df['trexpfac']\n",
    "    _df['source'] = source\n",
    "    df_dist = df_dist.append(_df)\n",
    "df = df_dist.pivot_table(index='dpurp', columns='source', aggfunc='first', values='wt_distance')\n",
    "df.rename(columns={'dpurp': 'Tour Purpose'}, inplace=True)\n",
    "df.drop('Change Mode Inserted Purpose', axis=0, inplace=True)\n",
    "df.plot(kind='barh', alpha=0.6)\n",
    "df"
   ]
  },
  {
   "cell_type": "markdown",
   "metadata": {},
   "source": [
    "## Other Counties"
   ]
  },
  {
   "cell_type": "code",
   "execution_count": 7,
   "metadata": {},
   "outputs": [
    {
     "data": {
      "text/html": [
       "<div>\n",
       "<style scoped>\n",
       "    .dataframe tbody tr th:only-of-type {\n",
       "        vertical-align: middle;\n",
       "    }\n",
       "\n",
       "    .dataframe tbody tr th {\n",
       "        vertical-align: top;\n",
       "    }\n",
       "\n",
       "    .dataframe thead th {\n",
       "        text-align: right;\n",
       "    }\n",
       "</style>\n",
       "<table border=\"1\" class=\"dataframe\">\n",
       "  <thead>\n",
       "    <tr style=\"text-align: right;\">\n",
       "      <th>source</th>\n",
       "      <th>model</th>\n",
       "      <th>survey</th>\n",
       "    </tr>\n",
       "    <tr>\n",
       "      <th>dpurp</th>\n",
       "      <th></th>\n",
       "      <th></th>\n",
       "    </tr>\n",
       "  </thead>\n",
       "  <tbody>\n",
       "    <tr>\n",
       "      <th>Escort</th>\n",
       "      <td>5.55</td>\n",
       "      <td>4.79</td>\n",
       "    </tr>\n",
       "    <tr>\n",
       "      <th>Meal</th>\n",
       "      <td>4.58</td>\n",
       "      <td>3.67</td>\n",
       "    </tr>\n",
       "    <tr>\n",
       "      <th>None/Home</th>\n",
       "      <td>5.88</td>\n",
       "      <td>5.93</td>\n",
       "    </tr>\n",
       "    <tr>\n",
       "      <th>Personal Business</th>\n",
       "      <td>4.84</td>\n",
       "      <td>5.02</td>\n",
       "    </tr>\n",
       "    <tr>\n",
       "      <th>School</th>\n",
       "      <td>3.40</td>\n",
       "      <td>4.62</td>\n",
       "    </tr>\n",
       "    <tr>\n",
       "      <th>Shop</th>\n",
       "      <td>4.08</td>\n",
       "      <td>4.39</td>\n",
       "    </tr>\n",
       "    <tr>\n",
       "      <th>Social</th>\n",
       "      <td>4.31</td>\n",
       "      <td>4.75</td>\n",
       "    </tr>\n",
       "    <tr>\n",
       "      <th>Work</th>\n",
       "      <td>8.27</td>\n",
       "      <td>8.46</td>\n",
       "    </tr>\n",
       "  </tbody>\n",
       "</table>\n",
       "</div>"
      ],
      "text/plain": [
       "source             model  survey\n",
       "dpurp                           \n",
       "Escort              5.55    4.79\n",
       "Meal                4.58    3.67\n",
       "None/Home           5.88    5.93\n",
       "Personal Business   4.84    5.02\n",
       "School              3.40    4.62\n",
       "Shop                4.08    4.39\n",
       "Social              4.31    4.75\n",
       "Work                8.27    8.46"
      ]
     },
     "execution_count": 7,
     "metadata": {},
     "output_type": "execute_result"
    },
    {
     "data": {
      "image/png": "[encoded data removed]",
      "text/plain": [
       "<Figure size 432x288 with 1 Axes>"
      ]
     },
     "metadata": {
      "needs_background": "light"
     },
     "output_type": "display_data"
    }
   ],
   "source": [
    "df = load_data('trip_distance')\n",
    "df = df.loc[df.person_county!='Pierce']\n",
    "# Trim any unreasonable survey distances off by taking max distance as max modeled bin value\n",
    "max_model_dist = df.loc[(df['source']=='model'), 'travdist_bin'].max()\n",
    "df = df.loc[df['travdist_bin'] <= max_model_dist]\n",
    "df['wt_autodist'] = (df['travdist_bin']+0.5)*(df['trexpfac'])\n",
    "df_dist = pd.DataFrame()\n",
    "for source in ['model','survey']:\n",
    "    _df = df[(df['source'] == source)]\n",
    "    df1 = _df.groupby('dpurp').sum()[['wt_autodist']].reset_index()\n",
    "    df2 = _df.groupby('dpurp').sum()[['trexpfac']].reset_index ()\n",
    "    _df = df1.merge(df2, on='dpurp')\n",
    "    _df['wt_distance'] = _df['wt_autodist']/_df['trexpfac']\n",
    "    _df['source'] = source\n",
    "    df_dist = df_dist.append(_df)\n",
    "df = df_dist.pivot_table(index='dpurp', columns='source', aggfunc='first', values='wt_distance')\n",
    "df.rename(columns={'dpurp': 'Tour Purpose'}, inplace=True)\n",
    "df.drop('Change Mode Inserted Purpose', axis=0, inplace=True)\n",
    "df.plot(kind='barh', alpha=0.6)\n",
    "df"
   ]
  },
  {
   "cell_type": "markdown",
   "metadata": {},
   "source": [
    "# Average Distance by Trip Mode"
   ]
  },
  {
   "cell_type": "code",
   "execution_count": 8,
   "metadata": {
    "execution": {
     "iopub.execute_input": "2021-06-10T22:11:36.736175Z",
     "iopub.status.busy": "2021-06-10T22:11:36.736175Z",
     "iopub.status.idle": "2021-06-10T22:11:36.970492Z",
     "shell.execute_reply": "2021-06-10T22:11:36.970492Z"
    }
   },
   "outputs": [
    {
     "data": {
      "text/html": [
       "<div>\n",
       "<style scoped>\n",
       "    .dataframe tbody tr th:only-of-type {\n",
       "        vertical-align: middle;\n",
       "    }\n",
       "\n",
       "    .dataframe tbody tr th {\n",
       "        vertical-align: top;\n",
       "    }\n",
       "\n",
       "    .dataframe thead th {\n",
       "        text-align: right;\n",
       "    }\n",
       "</style>\n",
       "<table border=\"1\" class=\"dataframe\">\n",
       "  <thead>\n",
       "    <tr style=\"text-align: right;\">\n",
       "      <th>source</th>\n",
       "      <th>model</th>\n",
       "      <th>survey</th>\n",
       "    </tr>\n",
       "    <tr>\n",
       "      <th>mode</th>\n",
       "      <th></th>\n",
       "      <th></th>\n",
       "    </tr>\n",
       "  </thead>\n",
       "  <tbody>\n",
       "    <tr>\n",
       "      <th>Bike</th>\n",
       "      <td>4.93</td>\n",
       "      <td>3.68</td>\n",
       "    </tr>\n",
       "    <tr>\n",
       "      <th>HOV2</th>\n",
       "      <td>5.79</td>\n",
       "      <td>5.96</td>\n",
       "    </tr>\n",
       "    <tr>\n",
       "      <th>HOV3+</th>\n",
       "      <td>5.82</td>\n",
       "      <td>5.08</td>\n",
       "    </tr>\n",
       "    <tr>\n",
       "      <th>SOV</th>\n",
       "      <td>7.13</td>\n",
       "      <td>7.16</td>\n",
       "    </tr>\n",
       "    <tr>\n",
       "      <th>School Bus</th>\n",
       "      <td>3.04</td>\n",
       "      <td>3.55</td>\n",
       "    </tr>\n",
       "    <tr>\n",
       "      <th>TNC</th>\n",
       "      <td>2.29</td>\n",
       "      <td>4.94</td>\n",
       "    </tr>\n",
       "    <tr>\n",
       "      <th>Transit</th>\n",
       "      <td>9.04</td>\n",
       "      <td>9.06</td>\n",
       "    </tr>\n",
       "    <tr>\n",
       "      <th>Walk</th>\n",
       "      <td>1.01</td>\n",
       "      <td>0.82</td>\n",
       "    </tr>\n",
       "  </tbody>\n",
       "</table>\n",
       "</div>"
      ],
      "text/plain": [
       "source      model  survey\n",
       "mode                     \n",
       "Bike         4.93    3.68\n",
       "HOV2         5.79    5.96\n",
       "HOV3+        5.82    5.08\n",
       "SOV          7.13    7.16\n",
       "School Bus   3.04    3.55\n",
       "TNC          2.29    4.94\n",
       "Transit      9.04    9.06\n",
       "Walk         1.01    0.82"
      ]
     },
     "execution_count": 8,
     "metadata": {},
     "output_type": "execute_result"
    },
    {
     "data": {
      "image/png": "[encoded data removed]",
      "text/plain": [
       "<Figure size 432x288 with 1 Axes>"
      ]
     },
     "metadata": {
      "needs_background": "light"
     },
     "output_type": "display_data"
    }
   ],
   "source": [
    "df = load_data('trip_distance')\n",
    "# Trim any unreasonable survey distances off by taking max distance as max modeled bin value\n",
    "max_model_dist = df.loc[(df['source']=='model'), 'travdist_bin'].max()\n",
    "df = df.loc[df['travdist_bin'] <= max_model_dist]\n",
    "df['wt_autodist'] = (df['travdist_bin']+0.5)*(df['trexpfac'])\n",
    "df_dist = pd.DataFrame()\n",
    "for source in ['model','survey']:\n",
    "    _df = df[(df['source'] == source)]\n",
    "    df1 = _df.groupby('mode').sum()[['wt_autodist']].reset_index()\n",
    "    df2 = _df.groupby('mode').sum()[['trexpfac']].reset_index ()\n",
    "    _df = df1.merge(df2, on='mode')\n",
    "    _df['wt_distance'] = _df['wt_autodist']/_df['trexpfac']\n",
    "    _df['source'] = source\n",
    "    df_dist = df_dist.append(_df)\n",
    "df = df_dist.pivot_table(index='mode', columns='source', aggfunc='first', values='wt_distance')\n",
    "df.rename(columns={'dpurp': 'Tour Purpose'}, inplace=True)\n",
    "df.plot(kind='barh', alpha=0.6)\n",
    "df"
   ]
  },
  {
   "cell_type": "markdown",
   "metadata": {},
   "source": [
    "## Pierce County"
   ]
  },
  {
   "cell_type": "code",
   "execution_count": 9,
   "metadata": {},
   "outputs": [
    {
     "data": {
      "text/html": [
       "<div>\n",
       "<style scoped>\n",
       "    .dataframe tbody tr th:only-of-type {\n",
       "        vertical-align: middle;\n",
       "    }\n",
       "\n",
       "    .dataframe tbody tr th {\n",
       "        vertical-align: top;\n",
       "    }\n",
       "\n",
       "    .dataframe thead th {\n",
       "        text-align: right;\n",
       "    }\n",
       "</style>\n",
       "<table border=\"1\" class=\"dataframe\">\n",
       "  <thead>\n",
       "    <tr style=\"text-align: right;\">\n",
       "      <th>source</th>\n",
       "      <th>model</th>\n",
       "      <th>survey</th>\n",
       "    </tr>\n",
       "    <tr>\n",
       "      <th>mode</th>\n",
       "      <th></th>\n",
       "      <th></th>\n",
       "    </tr>\n",
       "  </thead>\n",
       "  <tbody>\n",
       "    <tr>\n",
       "      <th>Bike</th>\n",
       "      <td>5.18</td>\n",
       "      <td>3.04</td>\n",
       "    </tr>\n",
       "    <tr>\n",
       "      <th>HOV2</th>\n",
       "      <td>6.03</td>\n",
       "      <td>6.41</td>\n",
       "    </tr>\n",
       "    <tr>\n",
       "      <th>HOV3+</th>\n",
       "      <td>5.97</td>\n",
       "      <td>5.67</td>\n",
       "    </tr>\n",
       "    <tr>\n",
       "      <th>SOV</th>\n",
       "      <td>7.85</td>\n",
       "      <td>7.06</td>\n",
       "    </tr>\n",
       "    <tr>\n",
       "      <th>School Bus</th>\n",
       "      <td>3.09</td>\n",
       "      <td>3.20</td>\n",
       "    </tr>\n",
       "    <tr>\n",
       "      <th>TNC</th>\n",
       "      <td>2.49</td>\n",
       "      <td>6.88</td>\n",
       "    </tr>\n",
       "    <tr>\n",
       "      <th>Transit</th>\n",
       "      <td>15.67</td>\n",
       "      <td>10.52</td>\n",
       "    </tr>\n",
       "    <tr>\n",
       "      <th>Walk</th>\n",
       "      <td>1.12</td>\n",
       "      <td>1.07</td>\n",
       "    </tr>\n",
       "  </tbody>\n",
       "</table>\n",
       "</div>"
      ],
      "text/plain": [
       "source      model  survey\n",
       "mode                     \n",
       "Bike         5.18    3.04\n",
       "HOV2         6.03    6.41\n",
       "HOV3+        5.97    5.67\n",
       "SOV          7.85    7.06\n",
       "School Bus   3.09    3.20\n",
       "TNC          2.49    6.88\n",
       "Transit     15.67   10.52\n",
       "Walk         1.12    1.07"
      ]
     },
     "execution_count": 9,
     "metadata": {},
     "output_type": "execute_result"
    },
    {
     "data": {
      "image/png": "[encoded data removed]",
      "text/plain": [
       "<Figure size 432x288 with 1 Axes>"
      ]
     },
     "metadata": {
      "needs_background": "light"
     },
     "output_type": "display_data"
    }
   ],
   "source": [
    "df = load_data('trip_distance')\n",
    "df = df.loc[df.person_county=='Pierce']\n",
    "# Trim any unreasonable survey distances off by taking max distance as max modeled bin value\n",
    "max_model_dist = df.loc[(df['source']=='model'), 'travdist_bin'].max()\n",
    "df = df.loc[df['travdist_bin'] <= max_model_dist]\n",
    "df['wt_autodist'] = (df['travdist_bin']+0.5)*(df['trexpfac'])\n",
    "df_dist = pd.DataFrame()\n",
    "for source in ['model','survey']:\n",
    "    _df = df[(df['source'] == source)]\n",
    "    df1 = _df.groupby('mode').sum()[['wt_autodist']].reset_index()\n",
    "    df2 = _df.groupby('mode').sum()[['trexpfac']].reset_index ()\n",
    "    _df = df1.merge(df2, on='mode')\n",
    "    _df['wt_distance'] = _df['wt_autodist']/_df['trexpfac']\n",
    "    _df['source'] = source\n",
    "    df_dist = df_dist.append(_df)\n",
    "df = df_dist.pivot_table(index='mode', columns='source', aggfunc='first', values='wt_distance')\n",
    "df.rename(columns={'dpurp': 'Tour Purpose'}, inplace=True)\n",
    "df.plot(kind='barh', alpha=0.6)\n",
    "df"
   ]
  },
  {
   "cell_type": "markdown",
   "metadata": {},
   "source": [
    "## Other Counties"
   ]
  },
  {
   "cell_type": "code",
   "execution_count": 10,
   "metadata": {},
   "outputs": [
    {
     "data": {
      "text/html": [
       "<div>\n",
       "<style scoped>\n",
       "    .dataframe tbody tr th:only-of-type {\n",
       "        vertical-align: middle;\n",
       "    }\n",
       "\n",
       "    .dataframe tbody tr th {\n",
       "        vertical-align: top;\n",
       "    }\n",
       "\n",
       "    .dataframe thead th {\n",
       "        text-align: right;\n",
       "    }\n",
       "</style>\n",
       "<table border=\"1\" class=\"dataframe\">\n",
       "  <thead>\n",
       "    <tr style=\"text-align: right;\">\n",
       "      <th>source</th>\n",
       "      <th>model</th>\n",
       "      <th>survey</th>\n",
       "    </tr>\n",
       "    <tr>\n",
       "      <th>mode</th>\n",
       "      <th></th>\n",
       "      <th></th>\n",
       "    </tr>\n",
       "  </thead>\n",
       "  <tbody>\n",
       "    <tr>\n",
       "      <th>Bike</th>\n",
       "      <td>4.87</td>\n",
       "      <td>3.71</td>\n",
       "    </tr>\n",
       "    <tr>\n",
       "      <th>HOV2</th>\n",
       "      <td>5.73</td>\n",
       "      <td>5.85</td>\n",
       "    </tr>\n",
       "    <tr>\n",
       "      <th>HOV3+</th>\n",
       "      <td>5.78</td>\n",
       "      <td>4.94</td>\n",
       "    </tr>\n",
       "    <tr>\n",
       "      <th>SOV</th>\n",
       "      <td>6.95</td>\n",
       "      <td>7.19</td>\n",
       "    </tr>\n",
       "    <tr>\n",
       "      <th>School Bus</th>\n",
       "      <td>3.02</td>\n",
       "      <td>3.70</td>\n",
       "    </tr>\n",
       "    <tr>\n",
       "      <th>TNC</th>\n",
       "      <td>2.25</td>\n",
       "      <td>4.75</td>\n",
       "    </tr>\n",
       "    <tr>\n",
       "      <th>Transit</th>\n",
       "      <td>8.32</td>\n",
       "      <td>8.90</td>\n",
       "    </tr>\n",
       "    <tr>\n",
       "      <th>Walk</th>\n",
       "      <td>0.98</td>\n",
       "      <td>0.79</td>\n",
       "    </tr>\n",
       "  </tbody>\n",
       "</table>\n",
       "</div>"
      ],
      "text/plain": [
       "source      model  survey\n",
       "mode                     \n",
       "Bike         4.87    3.71\n",
       "HOV2         5.73    5.85\n",
       "HOV3+        5.78    4.94\n",
       "SOV          6.95    7.19\n",
       "School Bus   3.02    3.70\n",
       "TNC          2.25    4.75\n",
       "Transit      8.32    8.90\n",
       "Walk         0.98    0.79"
      ]
     },
     "execution_count": 10,
     "metadata": {},
     "output_type": "execute_result"
    },
    {
     "data": {
      "image/png": "[encoded data removed]",
      "text/plain": [
       "<Figure size 432x288 with 1 Axes>"
      ]
     },
     "metadata": {
      "needs_background": "light"
     },
     "output_type": "display_data"
    }
   ],
   "source": [
    "df = load_data('trip_distance')\n",
    "df = df.loc[df.person_county!='Pierce']\n",
    "# Trim any unreasonable survey distances off by taking max distance as max modeled bin value\n",
    "max_model_dist = df.loc[(df['source']=='model'), 'travdist_bin'].max()\n",
    "df = df.loc[df['travdist_bin'] <= max_model_dist]\n",
    "df['wt_autodist'] = (df['travdist_bin']+0.5)*(df['trexpfac'])\n",
    "df_dist = pd.DataFrame()\n",
    "for source in ['model','survey']:\n",
    "    _df = df[(df['source'] == source)]\n",
    "    df1 = _df.groupby('mode').sum()[['wt_autodist']].reset_index()\n",
    "    df2 = _df.groupby('mode').sum()[['trexpfac']].reset_index ()\n",
    "    _df = df1.merge(df2, on='mode')\n",
    "    _df['wt_distance'] = _df['wt_autodist']/_df['trexpfac']\n",
    "    _df['source'] = source\n",
    "    df_dist = df_dist.append(_df)\n",
    "df = df_dist.pivot_table(index='mode', columns='source', aggfunc='first', values='wt_distance')\n",
    "df.rename(columns={'dpurp': 'Tour Purpose'}, inplace=True)\n",
    "df.plot(kind='barh', alpha=0.6)\n",
    "df"
   ]
  },
  {
   "cell_type": "markdown",
   "metadata": {},
   "source": [
    "# Trip Destination District"
   ]
  },
  {
   "cell_type": "code",
   "execution_count": 11,
   "metadata": {
    "execution": {
     "iopub.execute_input": "2021-06-10T22:11:36.986114Z",
     "iopub.status.busy": "2021-06-10T22:11:36.970492Z",
     "iopub.status.idle": "2021-06-10T22:11:37.298540Z",
     "shell.execute_reply": "2021-06-10T22:11:37.298540Z"
    },
    "scrolled": false
   },
   "outputs": [
    {
     "data": {
      "text/html": [
       "<div>\n",
       "<style scoped>\n",
       "    .dataframe tbody tr th:only-of-type {\n",
       "        vertical-align: middle;\n",
       "    }\n",
       "\n",
       "    .dataframe tbody tr th {\n",
       "        vertical-align: top;\n",
       "    }\n",
       "\n",
       "    .dataframe thead th {\n",
       "        text-align: right;\n",
       "    }\n",
       "</style>\n",
       "<table border=\"1\" class=\"dataframe\">\n",
       "  <thead>\n",
       "    <tr style=\"text-align: right;\">\n",
       "      <th></th>\n",
       "      <th>model</th>\n",
       "      <th>survey</th>\n",
       "    </tr>\n",
       "  </thead>\n",
       "  <tbody>\n",
       "    <tr>\n",
       "      <th>Suburban Snohomish</th>\n",
       "      <td>8.20%</td>\n",
       "      <td>8.82%</td>\n",
       "    </tr>\n",
       "    <tr>\n",
       "      <th>Everett-Lynwood-Edmonds</th>\n",
       "      <td>8.31%</td>\n",
       "      <td>7.36%</td>\n",
       "    </tr>\n",
       "    <tr>\n",
       "      <th>North Seattle-Shoreline</th>\n",
       "      <td>8.55%</td>\n",
       "      <td>10.19%</td>\n",
       "    </tr>\n",
       "    <tr>\n",
       "      <th>Seattle CBD</th>\n",
       "      <td>11.48%</td>\n",
       "      <td>10.76%</td>\n",
       "    </tr>\n",
       "    <tr>\n",
       "      <th>West-South Seattle</th>\n",
       "      <td>6.25%</td>\n",
       "      <td>5.75%</td>\n",
       "    </tr>\n",
       "    <tr>\n",
       "      <th>East Side</th>\n",
       "      <td>16.53%</td>\n",
       "      <td>19.50%</td>\n",
       "    </tr>\n",
       "    <tr>\n",
       "      <th>Renton-FedWay-Kent</th>\n",
       "      <td>16.31%</td>\n",
       "      <td>11.70%</td>\n",
       "    </tr>\n",
       "    <tr>\n",
       "      <th>Tacoma</th>\n",
       "      <td>7.20%</td>\n",
       "      <td>7.21%</td>\n",
       "    </tr>\n",
       "    <tr>\n",
       "      <th>Kitsap</th>\n",
       "      <td>5.74%</td>\n",
       "      <td>6.63%</td>\n",
       "    </tr>\n",
       "    <tr>\n",
       "      <th>South Pierce</th>\n",
       "      <td>9.99%</td>\n",
       "      <td>9.97%</td>\n",
       "    </tr>\n",
       "    <tr>\n",
       "      <th>S.Kitsap</th>\n",
       "      <td>1.45%</td>\n",
       "      <td>2.12%</td>\n",
       "    </tr>\n",
       "  </tbody>\n",
       "</table>\n",
       "</div>"
      ],
      "text/plain": [
       "                         model  survey\n",
       "Suburban Snohomish       8.20%   8.82%\n",
       "Everett-Lynwood-Edmonds  8.31%   7.36%\n",
       "North Seattle-Shoreline  8.55%  10.19%\n",
       "Seattle CBD             11.48%  10.76%\n",
       "West-South Seattle       6.25%   5.75%\n",
       "East Side               16.53%  19.50%\n",
       "Renton-FedWay-Kent      16.31%  11.70%\n",
       "Tacoma                   7.20%   7.21%\n",
       "Kitsap                   5.74%   6.63%\n",
       "South Pierce             9.99%   9.97%\n",
       "S.Kitsap                 1.45%   2.12%"
      ]
     },
     "execution_count": 11,
     "metadata": {},
     "output_type": "execute_result"
    },
    {
     "data": {
      "image/png": "[encoded data removed]",
      "text/plain": [
       "<Figure size 432x288 with 1 Axes>"
      ]
     },
     "metadata": {
      "needs_background": "light"
     },
     "output_type": "display_data"
    }
   ],
   "source": [
    "pd.options.display.float_format = '{:0,.2%}'.format\n",
    "\n",
    "_df = pd.DataFrame()\n",
    "for id, name in district_lookup.items():\n",
    "    df = load_data('tour_total_tour_d_district_'+name)\n",
    "    for source in ['model','survey']:\n",
    "        _df.loc[name,source] = df[df['source'] == source]['toexpfac'].sum()\n",
    "        \n",
    "_df = _df/_df.sum()\n",
    "_df.plot(kind='barh', alpha=0.6)\n",
    "_df"
   ]
  },
  {
   "cell_type": "markdown",
   "metadata": {},
   "source": [
    "## Pierce County"
   ]
  },
  {
   "cell_type": "code",
   "execution_count": 12,
   "metadata": {},
   "outputs": [
    {
     "data": {
      "text/html": [
       "<div>\n",
       "<style scoped>\n",
       "    .dataframe tbody tr th:only-of-type {\n",
       "        vertical-align: middle;\n",
       "    }\n",
       "\n",
       "    .dataframe tbody tr th {\n",
       "        vertical-align: top;\n",
       "    }\n",
       "\n",
       "    .dataframe thead th {\n",
       "        text-align: right;\n",
       "    }\n",
       "</style>\n",
       "<table border=\"1\" class=\"dataframe\">\n",
       "  <thead>\n",
       "    <tr style=\"text-align: right;\">\n",
       "      <th></th>\n",
       "      <th>model</th>\n",
       "      <th>survey</th>\n",
       "    </tr>\n",
       "  </thead>\n",
       "  <tbody>\n",
       "    <tr>\n",
       "      <th>Suburban Snohomish</th>\n",
       "      <td>0.02%</td>\n",
       "      <td>0.01%</td>\n",
       "    </tr>\n",
       "    <tr>\n",
       "      <th>Everett-Lynwood-Edmonds</th>\n",
       "      <td>0.04%</td>\n",
       "      <td>0.00%</td>\n",
       "    </tr>\n",
       "    <tr>\n",
       "      <th>North Seattle-Shoreline</th>\n",
       "      <td>0.27%</td>\n",
       "      <td>0.37%</td>\n",
       "    </tr>\n",
       "    <tr>\n",
       "      <th>Seattle CBD</th>\n",
       "      <td>1.58%</td>\n",
       "      <td>1.51%</td>\n",
       "    </tr>\n",
       "    <tr>\n",
       "      <th>West-South Seattle</th>\n",
       "      <td>0.83%</td>\n",
       "      <td>1.09%</td>\n",
       "    </tr>\n",
       "    <tr>\n",
       "      <th>East Side</th>\n",
       "      <td>0.77%</td>\n",
       "      <td>1.41%</td>\n",
       "    </tr>\n",
       "    <tr>\n",
       "      <th>Renton-FedWay-Kent</th>\n",
       "      <td>10.18%</td>\n",
       "      <td>6.60%</td>\n",
       "    </tr>\n",
       "    <tr>\n",
       "      <th>Tacoma</th>\n",
       "      <td>32.47%</td>\n",
       "      <td>35.31%</td>\n",
       "    </tr>\n",
       "    <tr>\n",
       "      <th>Kitsap</th>\n",
       "      <td>1.11%</td>\n",
       "      <td>2.12%</td>\n",
       "    </tr>\n",
       "    <tr>\n",
       "      <th>South Pierce</th>\n",
       "      <td>46.76%</td>\n",
       "      <td>43.10%</td>\n",
       "    </tr>\n",
       "    <tr>\n",
       "      <th>S.Kitsap</th>\n",
       "      <td>5.97%</td>\n",
       "      <td>8.49%</td>\n",
       "    </tr>\n",
       "  </tbody>\n",
       "</table>\n",
       "</div>"
      ],
      "text/plain": [
       "                         model  survey\n",
       "Suburban Snohomish       0.02%   0.01%\n",
       "Everett-Lynwood-Edmonds  0.04%   0.00%\n",
       "North Seattle-Shoreline  0.27%   0.37%\n",
       "Seattle CBD              1.58%   1.51%\n",
       "West-South Seattle       0.83%   1.09%\n",
       "East Side                0.77%   1.41%\n",
       "Renton-FedWay-Kent      10.18%   6.60%\n",
       "Tacoma                  32.47%  35.31%\n",
       "Kitsap                   1.11%   2.12%\n",
       "South Pierce            46.76%  43.10%\n",
       "S.Kitsap                 5.97%   8.49%"
      ]
     },
     "execution_count": 12,
     "metadata": {},
     "output_type": "execute_result"
    },
    {
     "data": {
      "image/png": "[encoded data removed]",
      "text/plain": [
       "<Figure size 432x288 with 1 Axes>"
      ]
     },
     "metadata": {
      "needs_background": "light"
     },
     "output_type": "display_data"
    }
   ],
   "source": [
    "_df = pd.DataFrame()\n",
    "for id, name in district_lookup.items():\n",
    "    df = load_data('tour_total_tour_d_district_'+name)\n",
    "    df = df.loc[df.person_county=='Pierce']\n",
    "    for source in ['model','survey']:\n",
    "        _df.loc[name,source] = df[df['source'] == source]['toexpfac'].sum()\n",
    "        \n",
    "_df = _df/_df.sum()\n",
    "_df.plot(kind='barh', alpha=0.6)\n",
    "_df"
   ]
  },
  {
   "cell_type": "markdown",
   "metadata": {},
   "source": [
    "## Other Counties"
   ]
  },
  {
   "cell_type": "code",
   "execution_count": 13,
   "metadata": {},
   "outputs": [
    {
     "data": {
      "text/html": [
       "<div>\n",
       "<style scoped>\n",
       "    .dataframe tbody tr th:only-of-type {\n",
       "        vertical-align: middle;\n",
       "    }\n",
       "\n",
       "    .dataframe tbody tr th {\n",
       "        vertical-align: top;\n",
       "    }\n",
       "\n",
       "    .dataframe thead th {\n",
       "        text-align: right;\n",
       "    }\n",
       "</style>\n",
       "<table border=\"1\" class=\"dataframe\">\n",
       "  <thead>\n",
       "    <tr style=\"text-align: right;\">\n",
       "      <th></th>\n",
       "      <th>model</th>\n",
       "      <th>survey</th>\n",
       "    </tr>\n",
       "  </thead>\n",
       "  <tbody>\n",
       "    <tr>\n",
       "      <th>Suburban Snohomish</th>\n",
       "      <td>10.21%</td>\n",
       "      <td>10.97%</td>\n",
       "    </tr>\n",
       "    <tr>\n",
       "      <th>Everett-Lynwood-Edmonds</th>\n",
       "      <td>10.34%</td>\n",
       "      <td>9.15%</td>\n",
       "    </tr>\n",
       "    <tr>\n",
       "      <th>North Seattle-Shoreline</th>\n",
       "      <td>10.58%</td>\n",
       "      <td>12.59%</td>\n",
       "    </tr>\n",
       "    <tr>\n",
       "      <th>Seattle CBD</th>\n",
       "      <td>13.92%</td>\n",
       "      <td>13.02%</td>\n",
       "    </tr>\n",
       "    <tr>\n",
       "      <th>West-South Seattle</th>\n",
       "      <td>7.58%</td>\n",
       "      <td>6.88%</td>\n",
       "    </tr>\n",
       "    <tr>\n",
       "      <th>East Side</th>\n",
       "      <td>20.41%</td>\n",
       "      <td>23.91%</td>\n",
       "    </tr>\n",
       "    <tr>\n",
       "      <th>Renton-FedWay-Kent</th>\n",
       "      <td>17.82%</td>\n",
       "      <td>12.94%</td>\n",
       "    </tr>\n",
       "    <tr>\n",
       "      <th>Tacoma</th>\n",
       "      <td>0.99%</td>\n",
       "      <td>0.36%</td>\n",
       "    </tr>\n",
       "    <tr>\n",
       "      <th>Kitsap</th>\n",
       "      <td>6.87%</td>\n",
       "      <td>7.73%</td>\n",
       "    </tr>\n",
       "    <tr>\n",
       "      <th>South Pierce</th>\n",
       "      <td>0.95%</td>\n",
       "      <td>1.89%</td>\n",
       "    </tr>\n",
       "    <tr>\n",
       "      <th>S.Kitsap</th>\n",
       "      <td>0.34%</td>\n",
       "      <td>0.57%</td>\n",
       "    </tr>\n",
       "  </tbody>\n",
       "</table>\n",
       "</div>"
      ],
      "text/plain": [
       "                         model  survey\n",
       "Suburban Snohomish      10.21%  10.97%\n",
       "Everett-Lynwood-Edmonds 10.34%   9.15%\n",
       "North Seattle-Shoreline 10.58%  12.59%\n",
       "Seattle CBD             13.92%  13.02%\n",
       "West-South Seattle       7.58%   6.88%\n",
       "East Side               20.41%  23.91%\n",
       "Renton-FedWay-Kent      17.82%  12.94%\n",
       "Tacoma                   0.99%   0.36%\n",
       "Kitsap                   6.87%   7.73%\n",
       "South Pierce             0.95%   1.89%\n",
       "S.Kitsap                 0.34%   0.57%"
      ]
     },
     "execution_count": 13,
     "metadata": {},
     "output_type": "execute_result"
    },
    {
     "data": {
      "image/png": "[encoded data removed]",
      "text/plain": [
       "<Figure size 432x288 with 1 Axes>"
      ]
     },
     "metadata": {
      "needs_background": "light"
     },
     "output_type": "display_data"
    }
   ],
   "source": [
    "_df = pd.DataFrame()\n",
    "for id, name in district_lookup.items():\n",
    "    df = load_data('tour_total_tour_d_district_'+name)\n",
    "    df = df.loc[df.person_county!='Pierce']\n",
    "    for source in ['model','survey']:\n",
    "        _df.loc[name,source] = df[df['source'] == source]['toexpfac'].sum()\n",
    "        \n",
    "_df = _df/_df.sum()\n",
    "_df.plot(kind='barh', alpha=0.6)\n",
    "_df"
   ]
  }
 ],
 "metadata": {
  "kernelspec": {
   "display_name": "Python 3",
   "language": "python",
   "name": "python3"
  },
  "language_info": {
   "codemirror_mode": {
    "name": "ipython",
    "version": 3
   },
   "file_extension": ".py",
   "mimetype": "text/x-python",
   "name": "python",
   "nbconvert_exporter": "python",
   "pygments_lexer": "ipython3",
   "version": "3.7.10"
  }
 },
 "nbformat": 4,
 "nbformat_minor": 4
}
