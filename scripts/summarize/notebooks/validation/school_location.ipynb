{
 "cells": [
  {
   "cell_type": "code",
   "execution_count": 1,
   "metadata": {
    "execution": {
     "iopub.execute_input": "2021-06-10T22:10:33.654742Z",
     "iopub.status.busy": "2021-06-10T22:10:33.654742Z",
     "iopub.status.idle": "2021-06-10T22:10:34.486002Z",
     "shell.execute_reply": "2021-06-10T22:10:34.486002Z"
    }
   },
   "outputs": [
    {
     "name": "stdout",
     "output_type": "stream",
     "text": [
      "E:\\projects\\clients\\PierceCounty\\Models\\BaseYear\\Development\\SoundCast\n"
     ]
    }
   ],
   "source": [
    "import warnings\n",
    "warnings.simplefilter(action='ignore', category=FutureWarning)\n",
    "import pandas as pd\n",
    "import os, sys\n",
    "%matplotlib inline\n",
    "\n",
    "os.chdir('..\\..\\..\\..')\n",
    "print(os.getcwd())\n",
    "\n",
    "from input_configuration import base_year\n",
    "\n",
    "from IPython.display import display, HTML\n",
    "\n",
    "if (sys.version_info < (3, 0)):\n",
    "    HTML('''<script>\n",
    "    code_show=true; \n",
    "    function code_toggle() {\n",
    "     if (code_show){\n",
    "     $('div.input').hide();\n",
    "     } else {\n",
    "     $('div.input').show();\n",
    "     }\n",
    "     code_show = !code_show\n",
    "    } \n",
    "    $( document ).ready(code_toggle);\n",
    "    </script>\n",
    "    <form action=\"javascript:code_toggle()\"><input type=\"submit\" value=\"Click here to toggle on/off the raw code.\"></form>''')\n"
   ]
  },
  {
   "cell_type": "code",
   "execution_count": 2,
   "metadata": {
    "execution": {
     "iopub.execute_input": "2021-06-10T22:10:34.486002Z",
     "iopub.status.busy": "2021-06-10T22:10:34.486002Z",
     "iopub.status.idle": "2021-06-10T22:10:34.501691Z",
     "shell.execute_reply": "2021-06-10T22:10:34.501691Z"
    }
   },
   "outputs": [],
   "source": [
    "working_dir = r'outputs/agg/dash'\n",
    "# pd.options.display.float_format = '{:0,.0f}'.format\n",
    "format_percent = \"{:,.2%}\".format"
   ]
  },
  {
   "cell_type": "code",
   "execution_count": 3,
   "metadata": {
    "execution": {
     "iopub.execute_input": "2021-06-10T22:10:34.501691Z",
     "iopub.status.busy": "2021-06-10T22:10:34.501691Z",
     "iopub.status.idle": "2021-06-10T22:10:34.517245Z",
     "shell.execute_reply": "2021-06-10T22:10:34.517245Z"
    }
   },
   "outputs": [],
   "source": [
    "def load_data(fname):\n",
    "    \"\"\" open and join model and survey data \"\"\"\n",
    "\n",
    "    df_model = pd.read_csv(os.path.join(working_dir,fname+'.csv'))\n",
    "    df_model['source'] = 'model'\n",
    "    df_survey = pd.read_csv(os.path.join(working_dir,'survey',fname+'.csv'))\n",
    "    df_survey['source'] = 'survey'\n",
    "    df = df_model.append(df_survey)\n",
    "\n",
    "    return df"
   ]
  },
  {
   "cell_type": "code",
   "execution_count": 4,
   "metadata": {
    "execution": {
     "iopub.execute_input": "2021-06-10T22:10:34.517245Z",
     "iopub.status.busy": "2021-06-10T22:10:34.517245Z",
     "iopub.status.idle": "2021-06-10T22:10:36.941657Z",
     "shell.execute_reply": "2021-06-10T22:10:36.941657Z"
    }
   },
   "outputs": [],
   "source": [
    "parcel_geog = pd.read_sql_table('parcel_'+base_year+'_geography', 'sqlite:///inputs/db/soundcast_inputs.db',\n",
    "        columns=['CountyName','ParcelID'])"
   ]
  },
  {
   "cell_type": "markdown",
   "metadata": {},
   "source": [
    "# Usual School Distance"
   ]
  },
  {
   "cell_type": "code",
   "execution_count": 5,
   "metadata": {
    "execution": {
     "iopub.execute_input": "2021-06-10T22:10:36.941657Z",
     "iopub.status.busy": "2021-06-10T22:10:36.941657Z",
     "iopub.status.idle": "2021-06-10T22:10:52.532154Z",
     "shell.execute_reply": "2021-06-10T22:10:52.532154Z"
    }
   },
   "outputs": [],
   "source": [
    "person = pd.read_csv(r'outputs/daysim/_person.tsv', delim_whitespace=True)\n",
    "person_survey = pd.read_csv(r'inputs/base_year/survey/_person.tsv', delim_whitespace=True)\n",
    "\n",
    "person['source'] = 'model'\n",
    "person_survey['source'] = 'survey'"
   ]
  },
  {
   "cell_type": "code",
   "execution_count": 6,
   "metadata": {
    "execution": {
     "iopub.execute_input": "2021-06-10T22:10:52.532154Z",
     "iopub.status.busy": "2021-06-10T22:10:52.532154Z",
     "iopub.status.idle": "2021-06-10T22:10:53.863196Z",
     "shell.execute_reply": "2021-06-10T22:10:53.863196Z"
    }
   },
   "outputs": [],
   "source": [
    "person = person.append(person_survey)\n",
    "person = person.merge(parcel_geog, left_on='pspcl', right_on='ParcelID', how='left')"
   ]
  },
  {
   "cell_type": "code",
   "execution_count": 7,
   "metadata": {},
   "outputs": [
    {
     "name": "stdout",
     "output_type": "stream",
     "text": [
      "id\n",
      "hhno\n",
      "pno\n",
      "pptyp\n",
      "pagey\n",
      "pgend\n",
      "pwtyp\n",
      "pwpcl\n",
      "pwtaz\n",
      "pwautime\n",
      "pwaudist\n",
      "pstyp\n",
      "pspcl\n",
      "pstaz\n",
      "psautime\n",
      "psaudist\n",
      "puwmode\n",
      "puwarrp\n",
      "puwdepp\n",
      "ptpass\n",
      "ppaidprk\n",
      "pdiary\n",
      "pproxy\n",
      "psexpfac\n",
      "source\n",
      "CountyName\n",
      "ParcelID\n"
     ]
    }
   ],
   "source": [
    "for col in person.columns:\n",
    "    print(col)"
   ]
  },
  {
   "cell_type": "code",
   "execution_count": 8,
   "metadata": {},
   "outputs": [
    {
     "name": "stdout",
     "output_type": "stream",
     "text": [
      "King         505556\n",
      "Pierce       203761\n",
      "Snohomish    171696\n",
      "Kitsap        54899\n",
      "Name: CountyName, dtype: int64\n",
      "\n",
      " Only 23% of the data has County or TAZ info labelled\n"
     ]
    }
   ],
   "source": [
    "print(person['CountyName'].value_counts())\n",
    "print(\"\\n Only 23% of the data has County or TAZ info labelled\")"
   ]
  },
  {
   "cell_type": "code",
   "execution_count": 9,
   "metadata": {
    "execution": {
     "iopub.execute_input": "2021-06-10T22:10:53.863196Z",
     "iopub.status.busy": "2021-06-10T22:10:53.863196Z",
     "iopub.status.idle": "2021-06-10T22:10:53.956926Z",
     "shell.execute_reply": "2021-06-10T22:10:53.956926Z"
    }
   },
   "outputs": [],
   "source": [
    "person['wt_psautime'] = person['psautime']*person['psexpfac']\n",
    "person['wt_psaudist'] = person['psaudist']*person['psexpfac']"
   ]
  },
  {
   "cell_type": "markdown",
   "metadata": {},
   "source": [
    "### Average Distance for **All Students**"
   ]
  },
  {
   "cell_type": "code",
   "execution_count": 10,
   "metadata": {
    "execution": {
     "iopub.execute_input": "2021-06-10T22:10:53.956926Z",
     "iopub.status.busy": "2021-06-10T22:10:53.956926Z",
     "iopub.status.idle": "2021-06-10T22:10:55.066039Z",
     "shell.execute_reply": "2021-06-10T22:10:55.066039Z"
    }
   },
   "outputs": [
    {
     "data": {
      "text/plain": [
       "source\n",
       "model     4.249495\n",
       "survey    4.970066\n",
       "dtype: float64"
      ]
     },
     "execution_count": 10,
     "metadata": {},
     "output_type": "execute_result"
    }
   ],
   "source": [
    "df = person[(person['pstaz'] > 0) & (person['psaudist'] > 0)]\n",
    "df.groupby('source').sum()['wt_psaudist']/df.groupby('source').sum()['psexpfac']"
   ]
  },
  {
   "cell_type": "markdown",
   "metadata": {},
   "source": [
    "#### Average Distance by School County"
   ]
  },
  {
   "cell_type": "code",
   "execution_count": 11,
   "metadata": {
    "execution": {
     "iopub.execute_input": "2021-06-10T22:10:55.144146Z",
     "iopub.status.busy": "2021-06-10T22:10:55.144146Z",
     "iopub.status.idle": "2021-06-10T22:10:55.643958Z",
     "shell.execute_reply": "2021-06-10T22:10:55.643958Z"
    }
   },
   "outputs": [
    {
     "data": {
      "text/html": [
       "<div>\n",
       "<style scoped>\n",
       "    .dataframe tbody tr th:only-of-type {\n",
       "        vertical-align: middle;\n",
       "    }\n",
       "\n",
       "    .dataframe tbody tr th {\n",
       "        vertical-align: top;\n",
       "    }\n",
       "\n",
       "    .dataframe thead th {\n",
       "        text-align: right;\n",
       "    }\n",
       "</style>\n",
       "<table border=\"1\" class=\"dataframe\">\n",
       "  <thead>\n",
       "    <tr style=\"text-align: right;\">\n",
       "      <th>source</th>\n",
       "      <th>model</th>\n",
       "      <th>survey</th>\n",
       "    </tr>\n",
       "    <tr>\n",
       "      <th>CountyName</th>\n",
       "      <th></th>\n",
       "      <th></th>\n",
       "    </tr>\n",
       "  </thead>\n",
       "  <tbody>\n",
       "    <tr>\n",
       "      <th>King</th>\n",
       "      <td>4.391051</td>\n",
       "      <td>4.869694</td>\n",
       "    </tr>\n",
       "    <tr>\n",
       "      <th>Kitsap</th>\n",
       "      <td>4.063509</td>\n",
       "      <td>5.084389</td>\n",
       "    </tr>\n",
       "    <tr>\n",
       "      <th>Pierce</th>\n",
       "      <td>4.375929</td>\n",
       "      <td>3.757325</td>\n",
       "    </tr>\n",
       "    <tr>\n",
       "      <th>Snohomish</th>\n",
       "      <td>3.742563</td>\n",
       "      <td>6.957565</td>\n",
       "    </tr>\n",
       "  </tbody>\n",
       "</table>\n",
       "</div>"
      ],
      "text/plain": [
       "source         model    survey\n",
       "CountyName                    \n",
       "King        4.391051  4.869694\n",
       "Kitsap      4.063509  5.084389\n",
       "Pierce      4.375929  3.757325\n",
       "Snohomish   3.742563  6.957565"
      ]
     },
     "execution_count": 11,
     "metadata": {},
     "output_type": "execute_result"
    }
   ],
   "source": [
    "df1 = df.groupby(['CountyName', 'source']).sum()[['wt_psaudist']]\n",
    "df2 = df.groupby(['CountyName', 'source']).sum()[['psexpfac']]\n",
    "_df = df1.merge(df2, left_index=True, right_index=True)\n",
    "_df = pd.DataFrame(_df['wt_psaudist']/_df['psexpfac'])\n",
    "_df.pivot_table(index='CountyName', columns='source', values=0, aggfunc='sum')"
   ]
  },
  {
   "cell_type": "markdown",
   "metadata": {},
   "source": [
    "### Average Distance for **University** Students only"
   ]
  },
  {
   "cell_type": "code",
   "execution_count": 12,
   "metadata": {
    "execution": {
     "iopub.execute_input": "2021-06-10T22:10:55.643958Z",
     "iopub.status.busy": "2021-06-10T22:10:55.643958Z",
     "iopub.status.idle": "2021-06-10T22:10:55.862726Z",
     "shell.execute_reply": "2021-06-10T22:10:55.862726Z"
    }
   },
   "outputs": [
    {
     "data": {
      "text/plain": [
       "source\n",
       "model      6.334805\n",
       "survey    10.074345\n",
       "dtype: float64"
      ]
     },
     "execution_count": 12,
     "metadata": {},
     "output_type": "execute_result"
    }
   ],
   "source": [
    "df = person[(person['pstaz'] > 0) & (person['psaudist'] > 0) & (person['pptyp'] == 5)]\n",
    "df.groupby('source').sum()['wt_psaudist']/df.groupby('source').sum()['psexpfac']"
   ]
  },
  {
   "cell_type": "markdown",
   "metadata": {},
   "source": [
    "#### Average Distance by School County"
   ]
  },
  {
   "cell_type": "code",
   "execution_count": 13,
   "metadata": {
    "execution": {
     "iopub.execute_input": "2021-06-10T22:10:55.895191Z",
     "iopub.status.busy": "2021-06-10T22:10:55.893900Z",
     "iopub.status.idle": "2021-06-10T22:10:55.991066Z",
     "shell.execute_reply": "2021-06-10T22:10:55.991066Z"
    }
   },
   "outputs": [
    {
     "data": {
      "text/html": [
       "<div>\n",
       "<style scoped>\n",
       "    .dataframe tbody tr th:only-of-type {\n",
       "        vertical-align: middle;\n",
       "    }\n",
       "\n",
       "    .dataframe tbody tr th {\n",
       "        vertical-align: top;\n",
       "    }\n",
       "\n",
       "    .dataframe thead th {\n",
       "        text-align: right;\n",
       "    }\n",
       "</style>\n",
       "<table border=\"1\" class=\"dataframe\">\n",
       "  <thead>\n",
       "    <tr style=\"text-align: right;\">\n",
       "      <th>source</th>\n",
       "      <th>model</th>\n",
       "      <th>survey</th>\n",
       "    </tr>\n",
       "    <tr>\n",
       "      <th>CountyName</th>\n",
       "      <th></th>\n",
       "      <th></th>\n",
       "    </tr>\n",
       "  </thead>\n",
       "  <tbody>\n",
       "    <tr>\n",
       "      <th>King</th>\n",
       "      <td>5.932603</td>\n",
       "      <td>8.175139</td>\n",
       "    </tr>\n",
       "    <tr>\n",
       "      <th>Kitsap</th>\n",
       "      <td>8.567841</td>\n",
       "      <td>10.788048</td>\n",
       "    </tr>\n",
       "    <tr>\n",
       "      <th>Pierce</th>\n",
       "      <td>6.566659</td>\n",
       "      <td>8.544986</td>\n",
       "    </tr>\n",
       "    <tr>\n",
       "      <th>Snohomish</th>\n",
       "      <td>7.320120</td>\n",
       "      <td>18.596234</td>\n",
       "    </tr>\n",
       "  </tbody>\n",
       "</table>\n",
       "</div>"
      ],
      "text/plain": [
       "source         model     survey\n",
       "CountyName                     \n",
       "King        5.932603   8.175139\n",
       "Kitsap      8.567841  10.788048\n",
       "Pierce      6.566659   8.544986\n",
       "Snohomish   7.320120  18.596234"
      ]
     },
     "execution_count": 13,
     "metadata": {},
     "output_type": "execute_result"
    }
   ],
   "source": [
    "df1 = df.groupby(['CountyName', 'source']).sum()[['wt_psaudist']]\n",
    "df2 = df.groupby(['CountyName', 'source']).sum()[['psexpfac']]\n",
    "_df = df1.merge(df2, left_index=True, right_index=True)\n",
    "_df = pd.DataFrame(_df['wt_psaudist']/_df['psexpfac'])\n",
    "_df.pivot_table(index='CountyName', columns='source', values=0, aggfunc='sum')"
   ]
  },
  {
   "cell_type": "markdown",
   "metadata": {},
   "source": [
    "#### Top 10 University TAZs"
   ]
  },
  {
   "cell_type": "code",
   "execution_count": 14,
   "metadata": {
    "execution": {
     "iopub.execute_input": "2021-06-10T22:10:55.991066Z",
     "iopub.status.busy": "2021-06-10T22:10:55.991066Z",
     "iopub.status.idle": "2021-06-10T22:10:56.037929Z",
     "shell.execute_reply": "2021-06-10T22:10:56.037929Z"
    }
   },
   "outputs": [],
   "source": [
    "_df = person_survey[person_survey['pptyp'] == 5]\n",
    "_df = _df[_df['psaudist'] > 0]\n",
    "# Top 10 College Destinations\n",
    "n = 10\n",
    "top10_college = _df['pstaz'].value_counts()[:n].index.tolist()\n",
    "\n",
    "_df['wt_psaudist'] = _df['psaudist']*_df['psexpfac']\n",
    "survey_avg = _df[_df['pstaz'].isin(top10_college)].groupby('pstaz').sum()[['psexpfac','wt_psaudist']]\n",
    "survey_avg['average_survey'] = survey_avg['wt_psaudist']/survey_avg['psexpfac']\n",
    "\n",
    "# add survey count as we;ll\n",
    "person_count = person_survey[(person_survey['pptyp'] == 5) & (person_survey['psaudist'] >0)]\n",
    "person_count = person_count.groupby('pstaz').count()[['hhno']].reset_index()\n",
    "person_count.rename(columns={'hhno': 'sample_count'}, inplace=True)\n",
    "survey_avg = survey_avg.merge(person_count, left_index=True, right_on='pstaz')"
   ]
  },
  {
   "cell_type": "code",
   "execution_count": 15,
   "metadata": {
    "execution": {
     "iopub.execute_input": "2021-06-10T22:10:56.037929Z",
     "iopub.status.busy": "2021-06-10T22:10:56.037929Z",
     "iopub.status.idle": "2021-06-10T22:10:56.194141Z",
     "shell.execute_reply": "2021-06-10T22:10:56.194141Z"
    }
   },
   "outputs": [],
   "source": [
    "model_avg = person[person['pptyp'] == 5]\n",
    "model_avg = model_avg[model_avg['psaudist'] > 0]\n",
    "model_avg = model_avg[model_avg['pstaz'].isin(top10_college)].groupby('pstaz').sum()[['psexpfac','psaudist']]\n",
    "model_avg['average_model'] = model_avg['psaudist']/model_avg['psexpfac']\n",
    "model_avg = model_avg.reset_index()"
   ]
  },
  {
   "cell_type": "code",
   "execution_count": 16,
   "metadata": {
    "execution": {
     "iopub.execute_input": "2021-06-10T22:10:56.225320Z",
     "iopub.status.busy": "2021-06-10T22:10:56.209765Z",
     "iopub.status.idle": "2021-06-10T22:10:56.241006Z",
     "shell.execute_reply": "2021-06-10T22:10:56.241006Z"
    }
   },
   "outputs": [
    {
     "data": {
      "text/html": [
       "<div>\n",
       "<style scoped>\n",
       "    .dataframe tbody tr th:only-of-type {\n",
       "        vertical-align: middle;\n",
       "    }\n",
       "\n",
       "    .dataframe tbody tr th {\n",
       "        vertical-align: top;\n",
       "    }\n",
       "\n",
       "    .dataframe thead th {\n",
       "        text-align: right;\n",
       "    }\n",
       "</style>\n",
       "<table border=\"1\" class=\"dataframe\">\n",
       "  <thead>\n",
       "    <tr style=\"text-align: right;\">\n",
       "      <th></th>\n",
       "      <th>average_model</th>\n",
       "      <th>pstaz</th>\n",
       "      <th>average_survey</th>\n",
       "      <th>sample_count</th>\n",
       "    </tr>\n",
       "  </thead>\n",
       "  <tbody>\n",
       "    <tr>\n",
       "      <th>0</th>\n",
       "      <td>2.612423</td>\n",
       "      <td>72</td>\n",
       "      <td>1.095581</td>\n",
       "      <td>4</td>\n",
       "    </tr>\n",
       "    <tr>\n",
       "      <th>1</th>\n",
       "      <td>2.863691</td>\n",
       "      <td>302</td>\n",
       "      <td>3.842871</td>\n",
       "      <td>85</td>\n",
       "    </tr>\n",
       "    <tr>\n",
       "      <th>2</th>\n",
       "      <td>0.054577</td>\n",
       "      <td>303</td>\n",
       "      <td>3.148578</td>\n",
       "      <td>23</td>\n",
       "    </tr>\n",
       "    <tr>\n",
       "      <th>3</th>\n",
       "      <td>0.022707</td>\n",
       "      <td>304</td>\n",
       "      <td>8.839913</td>\n",
       "      <td>21</td>\n",
       "    </tr>\n",
       "    <tr>\n",
       "      <th>4</th>\n",
       "      <td>0.064921</td>\n",
       "      <td>305</td>\n",
       "      <td>1.180015</td>\n",
       "      <td>5</td>\n",
       "    </tr>\n",
       "    <tr>\n",
       "      <th>5</th>\n",
       "      <td>0.061153</td>\n",
       "      <td>340</td>\n",
       "      <td>2.201191</td>\n",
       "      <td>8</td>\n",
       "    </tr>\n",
       "    <tr>\n",
       "      <th>6</th>\n",
       "      <td>2.914086</td>\n",
       "      <td>552</td>\n",
       "      <td>4.347698</td>\n",
       "      <td>8</td>\n",
       "    </tr>\n",
       "    <tr>\n",
       "      <th>7</th>\n",
       "      <td>2.107837</td>\n",
       "      <td>584</td>\n",
       "      <td>2.870651</td>\n",
       "      <td>10</td>\n",
       "    </tr>\n",
       "    <tr>\n",
       "      <th>8</th>\n",
       "      <td>4.285678</td>\n",
       "      <td>756</td>\n",
       "      <td>2.640770</td>\n",
       "      <td>4</td>\n",
       "    </tr>\n",
       "    <tr>\n",
       "      <th>9</th>\n",
       "      <td>4.780830</td>\n",
       "      <td>1798</td>\n",
       "      <td>24.735015</td>\n",
       "      <td>5</td>\n",
       "    </tr>\n",
       "  </tbody>\n",
       "</table>\n",
       "</div>"
      ],
      "text/plain": [
       "   average_model  pstaz  average_survey  sample_count\n",
       "0       2.612423     72        1.095581             4\n",
       "1       2.863691    302        3.842871            85\n",
       "2       0.054577    303        3.148578            23\n",
       "3       0.022707    304        8.839913            21\n",
       "4       0.064921    305        1.180015             5\n",
       "5       0.061153    340        2.201191             8\n",
       "6       2.914086    552        4.347698             8\n",
       "7       2.107837    584        2.870651            10\n",
       "8       4.285678    756        2.640770             4\n",
       "9       4.780830   1798       24.735015             5"
      ]
     },
     "execution_count": 16,
     "metadata": {},
     "output_type": "execute_result"
    }
   ],
   "source": [
    "_df = model_avg[['average_model','pstaz']].merge(survey_avg[['average_survey','sample_count','pstaz']], on='pstaz')\n",
    "# _df[~_df.average_survey.isnull()]\n",
    "_df"
   ]
  },
  {
   "cell_type": "markdown",
   "metadata": {},
   "source": [
    "#### Top 10 University TAZs in Pierce County"
   ]
  },
  {
   "cell_type": "code",
   "execution_count": 17,
   "metadata": {},
   "outputs": [],
   "source": [
    "pierce_tazs = [i for i in range(2669,3466+1)]"
   ]
  },
  {
   "cell_type": "code",
   "execution_count": 18,
   "metadata": {},
   "outputs": [],
   "source": [
    "_df = person_survey[person_survey['pptyp'] == 5]\n",
    "_df = _df[_df['pstaz'].isin(pierce_tazs)]\n",
    "_df = _df[_df['psaudist'] > 0]\n",
    "# Top 10 College Destinations\n",
    "n = 10\n",
    "top10_college = _df['pstaz'].value_counts()[:n].index.tolist()\n",
    "\n",
    "_df['wt_psaudist'] = _df['psaudist']*_df['psexpfac']\n",
    "survey_avg = _df[_df['pstaz'].isin(top10_college)].groupby('pstaz').sum()[['psexpfac','wt_psaudist']]\n",
    "survey_avg['average_survey'] = survey_avg['wt_psaudist']/survey_avg['psexpfac']\n",
    "\n",
    "# add survey count as we;ll\n",
    "person_count = person_survey[(person_survey['pptyp'] == 5) & (person_survey['psaudist'] >0)]\n",
    "person_count = person_count.groupby('pstaz').count()[['hhno']].reset_index()\n",
    "person_count.rename(columns={'hhno': 'sample_count'}, inplace=True)\n",
    "survey_avg = survey_avg.merge(person_count, left_index=True, right_on='pstaz')"
   ]
  },
  {
   "cell_type": "code",
   "execution_count": 19,
   "metadata": {},
   "outputs": [],
   "source": [
    "model_avg = person[person['pptyp'] == 5]\n",
    "model_avg = model_avg[model_avg['psaudist'] > 0]\n",
    "model_avg = model_avg[model_avg['pstaz'].isin(top10_college)].groupby('pstaz').sum()[['psexpfac','psaudist']]\n",
    "model_avg['average_model'] = model_avg['psaudist']/model_avg['psexpfac']\n",
    "model_avg = model_avg.reset_index()"
   ]
  },
  {
   "cell_type": "code",
   "execution_count": 20,
   "metadata": {},
   "outputs": [
    {
     "data": {
      "text/html": [
       "<div>\n",
       "<style scoped>\n",
       "    .dataframe tbody tr th:only-of-type {\n",
       "        vertical-align: middle;\n",
       "    }\n",
       "\n",
       "    .dataframe tbody tr th {\n",
       "        vertical-align: top;\n",
       "    }\n",
       "\n",
       "    .dataframe thead th {\n",
       "        text-align: right;\n",
       "    }\n",
       "</style>\n",
       "<table border=\"1\" class=\"dataframe\">\n",
       "  <thead>\n",
       "    <tr style=\"text-align: right;\">\n",
       "      <th></th>\n",
       "      <th>average_model</th>\n",
       "      <th>pstaz</th>\n",
       "      <th>average_survey</th>\n",
       "      <th>sample_count</th>\n",
       "    </tr>\n",
       "  </thead>\n",
       "  <tbody>\n",
       "    <tr>\n",
       "      <th>0</th>\n",
       "      <td>0.018061</td>\n",
       "      <td>2827</td>\n",
       "      <td>5.09</td>\n",
       "      <td>1</td>\n",
       "    </tr>\n",
       "    <tr>\n",
       "      <th>1</th>\n",
       "      <td>0.017396</td>\n",
       "      <td>2875</td>\n",
       "      <td>16.05</td>\n",
       "      <td>1</td>\n",
       "    </tr>\n",
       "    <tr>\n",
       "      <th>2</th>\n",
       "      <td>0.018321</td>\n",
       "      <td>3019</td>\n",
       "      <td>8.19</td>\n",
       "      <td>1</td>\n",
       "    </tr>\n",
       "    <tr>\n",
       "      <th>3</th>\n",
       "      <td>4.441150</td>\n",
       "      <td>3314</td>\n",
       "      <td>7.53</td>\n",
       "      <td>1</td>\n",
       "    </tr>\n",
       "    <tr>\n",
       "      <th>4</th>\n",
       "      <td>0.001390</td>\n",
       "      <td>3348</td>\n",
       "      <td>2.97</td>\n",
       "      <td>1</td>\n",
       "    </tr>\n",
       "    <tr>\n",
       "      <th>5</th>\n",
       "      <td>0.348281</td>\n",
       "      <td>3350</td>\n",
       "      <td>27.13</td>\n",
       "      <td>1</td>\n",
       "    </tr>\n",
       "  </tbody>\n",
       "</table>\n",
       "</div>"
      ],
      "text/plain": [
       "   average_model  pstaz  average_survey  sample_count\n",
       "0       0.018061   2827            5.09             1\n",
       "1       0.017396   2875           16.05             1\n",
       "2       0.018321   3019            8.19             1\n",
       "3       4.441150   3314            7.53             1\n",
       "4       0.001390   3348            2.97             1\n",
       "5       0.348281   3350           27.13             1"
      ]
     },
     "execution_count": 20,
     "metadata": {},
     "output_type": "execute_result"
    }
   ],
   "source": [
    "_df = model_avg[['average_model','pstaz']].merge(survey_avg[['average_survey','sample_count','pstaz']], on='pstaz')\n",
    "# _df[~_df.average_survey.isnull()]\n",
    "_df"
   ]
  },
  {
   "cell_type": "markdown",
   "metadata": {},
   "source": [
    "#### Average Distance for **High School Students 16+** "
   ]
  },
  {
   "cell_type": "code",
   "execution_count": 21,
   "metadata": {
    "execution": {
     "iopub.execute_input": "2021-06-10T22:10:56.241006Z",
     "iopub.status.busy": "2021-06-10T22:10:56.241006Z",
     "iopub.status.idle": "2021-06-10T22:10:56.444015Z",
     "shell.execute_reply": "2021-06-10T22:10:56.444015Z"
    }
   },
   "outputs": [
    {
     "data": {
      "text/plain": [
       "source\n",
       "model     4.630675\n",
       "survey    5.315163\n",
       "dtype: float64"
      ]
     },
     "execution_count": 21,
     "metadata": {},
     "output_type": "execute_result"
    }
   ],
   "source": [
    "df = person[(person['pstaz'] > 0) & (person['psaudist'] > 0) & (person['pptyp'] == 6)]\n",
    "df.groupby('source').sum()['wt_psaudist']/df.groupby('source').sum()['psexpfac']"
   ]
  },
  {
   "cell_type": "code",
   "execution_count": 22,
   "metadata": {
    "execution": {
     "iopub.execute_input": "2021-06-10T22:10:56.475326Z",
     "iopub.status.busy": "2021-06-10T22:10:56.459708Z",
     "iopub.status.idle": "2021-06-10T22:10:56.600295Z",
     "shell.execute_reply": "2021-06-10T22:10:56.600295Z"
    }
   },
   "outputs": [
    {
     "data": {
      "text/html": [
       "<div>\n",
       "<style scoped>\n",
       "    .dataframe tbody tr th:only-of-type {\n",
       "        vertical-align: middle;\n",
       "    }\n",
       "\n",
       "    .dataframe tbody tr th {\n",
       "        vertical-align: top;\n",
       "    }\n",
       "\n",
       "    .dataframe thead th {\n",
       "        text-align: right;\n",
       "    }\n",
       "</style>\n",
       "<table border=\"1\" class=\"dataframe\">\n",
       "  <thead>\n",
       "    <tr style=\"text-align: right;\">\n",
       "      <th>source</th>\n",
       "      <th>model</th>\n",
       "      <th>survey</th>\n",
       "    </tr>\n",
       "    <tr>\n",
       "      <th>CountyName</th>\n",
       "      <th></th>\n",
       "      <th></th>\n",
       "    </tr>\n",
       "  </thead>\n",
       "  <tbody>\n",
       "    <tr>\n",
       "      <th>King</th>\n",
       "      <td>4.798156</td>\n",
       "      <td>6.343142</td>\n",
       "    </tr>\n",
       "    <tr>\n",
       "      <th>Kitsap</th>\n",
       "      <td>3.750528</td>\n",
       "      <td>5.394562</td>\n",
       "    </tr>\n",
       "    <tr>\n",
       "      <th>Pierce</th>\n",
       "      <td>4.762022</td>\n",
       "      <td>1.988059</td>\n",
       "    </tr>\n",
       "    <tr>\n",
       "      <th>Snohomish</th>\n",
       "      <td>4.303073</td>\n",
       "      <td>3.717452</td>\n",
       "    </tr>\n",
       "  </tbody>\n",
       "</table>\n",
       "</div>"
      ],
      "text/plain": [
       "source         model    survey\n",
       "CountyName                    \n",
       "King        4.798156  6.343142\n",
       "Kitsap      3.750528  5.394562\n",
       "Pierce      4.762022  1.988059\n",
       "Snohomish   4.303073  3.717452"
      ]
     },
     "execution_count": 22,
     "metadata": {},
     "output_type": "execute_result"
    }
   ],
   "source": [
    "df1 = df.groupby(['CountyName', 'source']).sum()[['wt_psaudist']]\n",
    "df2 = df.groupby(['CountyName', 'source']).sum()[['psexpfac']]\n",
    "_df = df1.merge(df2, left_index=True, right_index=True)\n",
    "_df = pd.DataFrame(_df['wt_psaudist']/_df['psexpfac'])\n",
    "_df.pivot_table(index='CountyName', columns='source', values=0, aggfunc='sum')"
   ]
  },
  {
   "cell_type": "markdown",
   "metadata": {},
   "source": [
    "### Average Distance for **Kids Age 5-15**"
   ]
  },
  {
   "cell_type": "code",
   "execution_count": 23,
   "metadata": {
    "execution": {
     "iopub.execute_input": "2021-06-10T22:10:56.600295Z",
     "iopub.status.busy": "2021-06-10T22:10:56.600295Z",
     "iopub.status.idle": "2021-06-10T22:10:57.006451Z",
     "shell.execute_reply": "2021-06-10T22:10:57.006451Z"
    }
   },
   "outputs": [
    {
     "data": {
      "text/plain": [
       "source\n",
       "model     2.601670\n",
       "survey    3.408273\n",
       "dtype: float64"
      ]
     },
     "execution_count": 23,
     "metadata": {},
     "output_type": "execute_result"
    }
   ],
   "source": [
    "df = person[(person['pstaz'] > 0) & (person['psaudist'] > 0) & (person['pptyp'] == 7)]\n",
    "df.groupby('source').sum()['wt_psaudist']/df.groupby('source').sum()['psexpfac']"
   ]
  },
  {
   "cell_type": "markdown",
   "metadata": {},
   "source": [
    "#### Average Distance by School County"
   ]
  },
  {
   "cell_type": "code",
   "execution_count": 24,
   "metadata": {
    "execution": {
     "iopub.execute_input": "2021-06-10T22:10:57.053317Z",
     "iopub.status.busy": "2021-06-10T22:10:57.053317Z",
     "iopub.status.idle": "2021-06-10T22:10:57.318878Z",
     "shell.execute_reply": "2021-06-10T22:10:57.318878Z"
    }
   },
   "outputs": [
    {
     "data": {
      "text/html": [
       "<div>\n",
       "<style scoped>\n",
       "    .dataframe tbody tr th:only-of-type {\n",
       "        vertical-align: middle;\n",
       "    }\n",
       "\n",
       "    .dataframe tbody tr th {\n",
       "        vertical-align: top;\n",
       "    }\n",
       "\n",
       "    .dataframe thead th {\n",
       "        text-align: right;\n",
       "    }\n",
       "</style>\n",
       "<table border=\"1\" class=\"dataframe\">\n",
       "  <thead>\n",
       "    <tr style=\"text-align: right;\">\n",
       "      <th>source</th>\n",
       "      <th>model</th>\n",
       "      <th>survey</th>\n",
       "    </tr>\n",
       "    <tr>\n",
       "      <th>CountyName</th>\n",
       "      <th></th>\n",
       "      <th></th>\n",
       "    </tr>\n",
       "  </thead>\n",
       "  <tbody>\n",
       "    <tr>\n",
       "      <th>King</th>\n",
       "      <td>2.551908</td>\n",
       "      <td>3.557559</td>\n",
       "    </tr>\n",
       "    <tr>\n",
       "      <th>Kitsap</th>\n",
       "      <td>2.696737</td>\n",
       "      <td>4.686768</td>\n",
       "    </tr>\n",
       "    <tr>\n",
       "      <th>Pierce</th>\n",
       "      <td>2.654624</td>\n",
       "      <td>3.046646</td>\n",
       "    </tr>\n",
       "    <tr>\n",
       "      <th>Snohomish</th>\n",
       "      <td>2.634905</td>\n",
       "      <td>2.481274</td>\n",
       "    </tr>\n",
       "  </tbody>\n",
       "</table>\n",
       "</div>"
      ],
      "text/plain": [
       "source         model    survey\n",
       "CountyName                    \n",
       "King        2.551908  3.557559\n",
       "Kitsap      2.696737  4.686768\n",
       "Pierce      2.654624  3.046646\n",
       "Snohomish   2.634905  2.481274"
      ]
     },
     "execution_count": 24,
     "metadata": {},
     "output_type": "execute_result"
    }
   ],
   "source": [
    "df1 = df.groupby(['CountyName', 'source']).sum()[['wt_psaudist']]\n",
    "df2 = df.groupby(['CountyName', 'source']).sum()[['psexpfac']]\n",
    "_df = df1.merge(df2, left_index=True, right_index=True)\n",
    "_df = pd.DataFrame(_df['wt_psaudist']/_df['psexpfac'])\n",
    "_df.pivot_table(index='CountyName', columns='source', values=0, aggfunc='sum')"
   ]
  },
  {
   "cell_type": "markdown",
   "metadata": {},
   "source": [
    "## Usual School Location Distance Distribution (miles)\n",
    "Percent of Total, bins of 1 mile up to 60 miles\n",
    "\n",
    "All Students"
   ]
  },
  {
   "cell_type": "code",
   "execution_count": 25,
   "metadata": {
    "execution": {
     "iopub.execute_input": "2021-06-10T22:10:57.334500Z",
     "iopub.status.busy": "2021-06-10T22:10:57.334500Z",
     "iopub.status.idle": "2021-06-10T22:10:58.349883Z",
     "shell.execute_reply": "2021-06-10T22:10:58.349883Z"
    }
   },
   "outputs": [
    {
     "data": {
      "text/plain": [
       "<AxesSubplot:xlabel='psaudist_bin'>"
      ]
     },
     "execution_count": 25,
     "metadata": {},
     "output_type": "execute_result"
    },
    {
     "data": {
      "image/png": "[encoded data removed]",
      "text/plain": [
       "<Figure size 432x288 with 1 Axes>"
      ]
     },
     "metadata": {
      "needs_background": "light"
     },
     "output_type": "display_data"
    }
   ],
   "source": [
    "# Create bins\n",
    "max_bin = 60\n",
    "person['psaudist_bin'] = pd.cut(person['psaudist'], bins=range(0,max_bin), labels=[str(i)+'-'+str(i+1) for i in range(0,max_bin-1)])\n",
    "df1 = person[(person['source'] == 'model') & (person['psaudist'] <= max_bin) & (person['psaudist'] > 0)]\n",
    "df2 = person[(person['source'] == 'survey') & (person['psaudist'] <= max_bin) & (person['psaudist'] > 0)]\n",
    "df1 = df1.groupby('psaudist_bin').sum()[['psexpfac']]/df1['psexpfac'].sum()\n",
    "df2 = df2.groupby('psaudist_bin').sum()[['psexpfac']]/df2['psexpfac'].sum()\n",
    "df = df1.merge(df2, left_index=True, right_index=True, suffixes=['_model','_survey'])\n",
    "df.plot()"
   ]
  },
  {
   "cell_type": "markdown",
   "metadata": {},
   "source": [
    "#### For students in Pierce County"
   ]
  },
  {
   "cell_type": "code",
   "execution_count": 26,
   "metadata": {},
   "outputs": [],
   "source": [
    "person1 = person[person['CountyName'] == 'Pierce']"
   ]
  },
  {
   "cell_type": "code",
   "execution_count": 27,
   "metadata": {},
   "outputs": [
    {
     "name": "stderr",
     "output_type": "stream",
     "text": [
      "C:\\Users\\aditya.gore\\.conda\\envs\\summary\\lib\\site-packages\\ipykernel_launcher.py:3: SettingWithCopyWarning: \n",
      "A value is trying to be set on a copy of a slice from a DataFrame.\n",
      "Try using .loc[row_indexer,col_indexer] = value instead\n",
      "\n",
      "See the caveats in the documentation: https://pandas.pydata.org/pandas-docs/stable/user_guide/indexing.html#returning-a-view-versus-a-copy\n",
      "  This is separate from the ipykernel package so we can avoid doing imports until\n"
     ]
    },
    {
     "data": {
      "text/plain": [
       "<AxesSubplot:xlabel='psaudist_bin'>"
      ]
     },
     "execution_count": 27,
     "metadata": {},
     "output_type": "execute_result"
    },
    {
     "data": {
      "image/png": "[encoded data removed]",
      "text/plain": [
       "<Figure size 432x288 with 1 Axes>"
      ]
     },
     "metadata": {
      "needs_background": "light"
     },
     "output_type": "display_data"
    }
   ],
   "source": [
    "# Create bins\n",
    "max_bin = 60\n",
    "person1['psaudist_bin'] = pd.cut(person1['psaudist'], bins=range(0,max_bin), labels=[str(i)+'-'+str(i+1) for i in range(0,max_bin-1)])\n",
    "df1 = person1[(person1['source'] == 'model') & (person1['psaudist'] <= max_bin) & (person1['psaudist'] > 0)]\n",
    "df2 = person1[(person1['source'] == 'survey') & (person1['psaudist'] <= max_bin) & (person1['psaudist'] > 0)]\n",
    "df1 = df1.groupby('psaudist_bin').sum()[['psexpfac']]/df1['psexpfac'].sum()\n",
    "df2 = df2.groupby('psaudist_bin').sum()[['psexpfac']]/df2['psexpfac'].sum()\n",
    "df = df1.merge(df2, left_index=True, right_index=True, suffixes=['_model','_survey'])\n",
    "df.plot()"
   ]
  },
  {
   "cell_type": "markdown",
   "metadata": {},
   "source": [
    "#### For students outside Pierce County"
   ]
  },
  {
   "cell_type": "code",
   "execution_count": 28,
   "metadata": {},
   "outputs": [],
   "source": [
    "person2 = person[person['CountyName'].isin(['King','Snohomish','Kitsap'])]"
   ]
  },
  {
   "cell_type": "code",
   "execution_count": 29,
   "metadata": {},
   "outputs": [
    {
     "name": "stderr",
     "output_type": "stream",
     "text": [
      "C:\\Users\\aditya.gore\\.conda\\envs\\summary\\lib\\site-packages\\ipykernel_launcher.py:3: SettingWithCopyWarning: \n",
      "A value is trying to be set on a copy of a slice from a DataFrame.\n",
      "Try using .loc[row_indexer,col_indexer] = value instead\n",
      "\n",
      "See the caveats in the documentation: https://pandas.pydata.org/pandas-docs/stable/user_guide/indexing.html#returning-a-view-versus-a-copy\n",
      "  This is separate from the ipykernel package so we can avoid doing imports until\n"
     ]
    },
    {
     "data": {
      "text/plain": [
       "<AxesSubplot:xlabel='psaudist_bin'>"
      ]
     },
     "execution_count": 29,
     "metadata": {},
     "output_type": "execute_result"
    },
    {
     "data": {
      "image/png": "[encoded data removed]",
      "text/plain": [
       "<Figure size 432x288 with 1 Axes>"
      ]
     },
     "metadata": {
      "needs_background": "light"
     },
     "output_type": "display_data"
    }
   ],
   "source": [
    "# Create bins\n",
    "max_bin = 60\n",
    "person2['psaudist_bin'] = pd.cut(person2['psaudist'], bins=range(0,max_bin), labels=[str(i)+'-'+str(i+1) for i in range(0,max_bin-1)])\n",
    "df1 = person2[(person2['source'] == 'model') & (person2['psaudist'] <= max_bin) & (person2['psaudist'] > 0)]\n",
    "df2 = person2[(person2['source'] == 'survey') & (person2['psaudist'] <= max_bin) & (person2['psaudist'] > 0)]\n",
    "df1 = df1.groupby('psaudist_bin').sum()[['psexpfac']]/df1['psexpfac'].sum()\n",
    "df2 = df2.groupby('psaudist_bin').sum()[['psexpfac']]/df2['psexpfac'].sum()\n",
    "df = df1.merge(df2, left_index=True, right_index=True, suffixes=['_model','_survey'])\n",
    "df.plot()"
   ]
  },
  {
   "cell_type": "markdown",
   "metadata": {},
   "source": [
    "Bins of 5 miles, up to 50 miles"
   ]
  },
  {
   "cell_type": "code",
   "execution_count": 30,
   "metadata": {
    "execution": {
     "iopub.execute_input": "2021-06-10T22:10:58.349883Z",
     "iopub.status.busy": "2021-06-10T22:10:58.349883Z",
     "iopub.status.idle": "2021-06-10T22:10:58.365437Z",
     "shell.execute_reply": "2021-06-10T22:10:58.365437Z"
    }
   },
   "outputs": [
    {
     "data": {
      "text/plain": [
       "range(0, 60, 5)"
      ]
     },
     "execution_count": 30,
     "metadata": {},
     "output_type": "execute_result"
    }
   ],
   "source": [
    "range(0,max_bin,5)"
   ]
  },
  {
   "cell_type": "code",
   "execution_count": 31,
   "metadata": {
    "execution": {
     "iopub.execute_input": "2021-06-10T22:10:58.381127Z",
     "iopub.status.busy": "2021-06-10T22:10:58.381127Z",
     "iopub.status.idle": "2021-06-10T22:10:59.289933Z",
     "shell.execute_reply": "2021-06-10T22:10:59.289933Z"
    }
   },
   "outputs": [
    {
     "data": {
      "text/plain": [
       "<AxesSubplot:xlabel='psaudist_bin'>"
      ]
     },
     "execution_count": 31,
     "metadata": {},
     "output_type": "execute_result"
    },
    {
     "data": {
      "image/png": "[encoded data removed]",
      "text/plain": [
       "<Figure size 432x288 with 1 Axes>"
      ]
     },
     "metadata": {
      "needs_background": "light"
     },
     "output_type": "display_data"
    }
   ],
   "source": [
    "# Create bins\n",
    "max_bin = 30\n",
    "person['psaudist_bin'] = pd.cut(person['psaudist'], bins=range(0,max_bin,5), labels=[str(i*5)+'-'+str((i+1)*5) for i in range(0,5)])\n",
    "df1 = person[(person['source'] == 'model') & (person['psaudist'] <= max_bin) & (person['psaudist'] > 0)]\n",
    "df2 = person[(person['source'] == 'survey') & (person['psaudist'] <= max_bin) & (person['psaudist'] > 0)]\n",
    "df1 = df1.groupby('psaudist_bin').sum()[['psexpfac']]/df1['psexpfac'].sum()\n",
    "df2 = df2.groupby('psaudist_bin').sum()[['psexpfac']]/df2['psexpfac'].sum()\n",
    "df = df1.merge(df2, left_index=True, right_index=True, suffixes=['_model','_survey'])\n",
    "df.plot(kind='bar')"
   ]
  },
  {
   "cell_type": "markdown",
   "metadata": {},
   "source": [
    "#### For students in Pierce County"
   ]
  },
  {
   "cell_type": "code",
   "execution_count": 32,
   "metadata": {},
   "outputs": [
    {
     "name": "stderr",
     "output_type": "stream",
     "text": [
      "C:\\Users\\aditya.gore\\.conda\\envs\\summary\\lib\\site-packages\\ipykernel_launcher.py:3: SettingWithCopyWarning: \n",
      "A value is trying to be set on a copy of a slice from a DataFrame.\n",
      "Try using .loc[row_indexer,col_indexer] = value instead\n",
      "\n",
      "See the caveats in the documentation: https://pandas.pydata.org/pandas-docs/stable/user_guide/indexing.html#returning-a-view-versus-a-copy\n",
      "  This is separate from the ipykernel package so we can avoid doing imports until\n"
     ]
    },
    {
     "data": {
      "text/plain": [
       "<AxesSubplot:xlabel='psaudist_bin'>"
      ]
     },
     "execution_count": 32,
     "metadata": {},
     "output_type": "execute_result"
    },
    {
     "data": {
      "image/png": "[encoded data removed]",
      "text/plain": [
       "<Figure size 432x288 with 1 Axes>"
      ]
     },
     "metadata": {
      "needs_background": "light"
     },
     "output_type": "display_data"
    }
   ],
   "source": [
    "# Create bins\n",
    "max_bin = 30\n",
    "person1['psaudist_bin'] = pd.cut(person1['psaudist'], bins=range(0,max_bin,5), labels=[str(i*5)+'-'+str((i+1)*5) for i in range(0,5)])\n",
    "df1 = person1[(person1['source'] == 'model') & (person1['psaudist'] <= max_bin) & (person1['psaudist'] > 0)]\n",
    "df2 = person1[(person1['source'] == 'survey') & (person1['psaudist'] <= max_bin) & (person1['psaudist'] > 0)]\n",
    "df1 = df1.groupby('psaudist_bin').sum()[['psexpfac']]/df1['psexpfac'].sum()\n",
    "df2 = df2.groupby('psaudist_bin').sum()[['psexpfac']]/df2['psexpfac'].sum()\n",
    "df = df1.merge(df2, left_index=True, right_index=True, suffixes=['_model','_survey'])\n",
    "df.plot(kind='bar')"
   ]
  },
  {
   "cell_type": "markdown",
   "metadata": {},
   "source": [
    "#### For students outside Pierce County"
   ]
  },
  {
   "cell_type": "code",
   "execution_count": 33,
   "metadata": {},
   "outputs": [
    {
     "name": "stderr",
     "output_type": "stream",
     "text": [
      "C:\\Users\\aditya.gore\\.conda\\envs\\summary\\lib\\site-packages\\ipykernel_launcher.py:3: SettingWithCopyWarning: \n",
      "A value is trying to be set on a copy of a slice from a DataFrame.\n",
      "Try using .loc[row_indexer,col_indexer] = value instead\n",
      "\n",
      "See the caveats in the documentation: https://pandas.pydata.org/pandas-docs/stable/user_guide/indexing.html#returning-a-view-versus-a-copy\n",
      "  This is separate from the ipykernel package so we can avoid doing imports until\n"
     ]
    },
    {
     "data": {
      "text/plain": [
       "<AxesSubplot:xlabel='psaudist_bin'>"
      ]
     },
     "execution_count": 33,
     "metadata": {},
     "output_type": "execute_result"
    },
    {
     "data": {
      "image/png": "[encoded data removed]",
      "text/plain": [
       "<Figure size 432x288 with 1 Axes>"
      ]
     },
     "metadata": {
      "needs_background": "light"
     },
     "output_type": "display_data"
    }
   ],
   "source": [
    "# Create bins\n",
    "max_bin = 30\n",
    "person2['psaudist_bin'] = pd.cut(person2['psaudist'], bins=range(0,max_bin,5), labels=[str(i*5)+'-'+str((i+1)*5) for i in range(0,5)])\n",
    "df1 = person2[(person2['source'] == 'model') & (person2['psaudist'] <= max_bin) & (person2['psaudist'] > 0)]\n",
    "df2 = person2[(person2['source'] == 'survey') & (person2['psaudist'] <= max_bin) & (person2['psaudist'] > 0)]\n",
    "df1 = df1.groupby('psaudist_bin').sum()[['psexpfac']]/df1['psexpfac'].sum()\n",
    "df2 = df2.groupby('psaudist_bin').sum()[['psexpfac']]/df2['psexpfac'].sum()\n",
    "df = df1.merge(df2, left_index=True, right_index=True, suffixes=['_model','_survey'])\n",
    "df.plot(kind='bar')"
   ]
  },
  {
   "cell_type": "markdown",
   "metadata": {},
   "source": [
    "### College Student Usual School Distance"
   ]
  },
  {
   "cell_type": "code",
   "execution_count": 34,
   "metadata": {
    "execution": {
     "iopub.execute_input": "2021-06-10T22:10:59.305619Z",
     "iopub.status.busy": "2021-06-10T22:10:59.305619Z",
     "iopub.status.idle": "2021-06-10T22:11:00.055372Z",
     "shell.execute_reply": "2021-06-10T22:11:00.055372Z"
    }
   },
   "outputs": [
    {
     "name": "stdout",
     "output_type": "stream",
     "text": [
      "College Students: 160991\n"
     ]
    },
    {
     "data": {
      "text/plain": [
       "<AxesSubplot:xlabel='psaudist_bin'>"
      ]
     },
     "execution_count": 34,
     "metadata": {},
     "output_type": "execute_result"
    },
    {
     "data": {
      "image/png": "[encoded data removed]",
      "text/plain": [
       "<Figure size 432x288 with 1 Axes>"
      ]
     },
     "metadata": {
      "needs_background": "light"
     },
     "output_type": "display_data"
    }
   ],
   "source": [
    "# By studnet type (persontype == 5, 6, 7 )\n",
    "max_bin = 30\n",
    "ptype = 5\n",
    "person['psaudist_bin'] = pd.cut(person['psaudist'], bins=range(0,max_bin,5), labels=[str(i*5)+'-'+str((i+1)*5) for i in range(0,int(max_bin/6))])\n",
    "df1 = person[(person['source'] == 'model') & (person['psaudist'] <= max_bin) & (person['psaudist'] > 0) & (person['pptyp'] == ptype)]\n",
    "df2 = person[(person['source'] == 'survey') & (person['psaudist'] <= max_bin) & (person['psaudist'] > 0) & (person['pptyp'] == ptype)]\n",
    "df1 = df1.groupby('psaudist_bin').sum()[['psexpfac']]/df1['psexpfac'].sum()\n",
    "df2 = df2.groupby('psaudist_bin').sum()[['psexpfac']]/df2['psexpfac'].sum()\n",
    "df = df1.merge(df2, left_index=True, right_index=True, suffixes=['_model','_survey'])\n",
    "print('College Students: ' + str(len(person[person['pptyp'] == ptype])))\n",
    "df.plot(kind='bar')"
   ]
  },
  {
   "cell_type": "markdown",
   "metadata": {},
   "source": [
    "#### College Students - Pierce County"
   ]
  },
  {
   "cell_type": "code",
   "execution_count": 35,
   "metadata": {},
   "outputs": [
    {
     "name": "stdout",
     "output_type": "stream",
     "text": [
      "College Students: 33613\n"
     ]
    },
    {
     "name": "stderr",
     "output_type": "stream",
     "text": [
      "C:\\Users\\aditya.gore\\.conda\\envs\\summary\\lib\\site-packages\\ipykernel_launcher.py:4: SettingWithCopyWarning: \n",
      "A value is trying to be set on a copy of a slice from a DataFrame.\n",
      "Try using .loc[row_indexer,col_indexer] = value instead\n",
      "\n",
      "See the caveats in the documentation: https://pandas.pydata.org/pandas-docs/stable/user_guide/indexing.html#returning-a-view-versus-a-copy\n",
      "  after removing the cwd from sys.path.\n"
     ]
    },
    {
     "data": {
      "text/plain": [
       "<AxesSubplot:xlabel='psaudist_bin'>"
      ]
     },
     "execution_count": 35,
     "metadata": {},
     "output_type": "execute_result"
    },
    {
     "data": {
      "image/png": "[encoded data removed]",
      "text/plain": [
       "<Figure size 432x288 with 1 Axes>"
      ]
     },
     "metadata": {
      "needs_background": "light"
     },
     "output_type": "display_data"
    }
   ],
   "source": [
    "# By studnet type (person1type == 5, 6, 7 )\n",
    "max_bin = 30\n",
    "ptype = 5\n",
    "person1['psaudist_bin'] = pd.cut(person1['psaudist'], bins=range(0,max_bin,5), labels=[str(i*5)+'-'+str((i+1)*5) for i in range(0,int(max_bin/6))])\n",
    "df1 = person1[(person1['source'] == 'model') & (person1['psaudist'] <= max_bin) & (person1['psaudist'] > 0) & (person1['pptyp'] == ptype)]\n",
    "df2 = person1[(person1['source'] == 'survey') & (person1['psaudist'] <= max_bin) & (person1['psaudist'] > 0) & (person1['pptyp'] == ptype)]\n",
    "df1 = df1.groupby('psaudist_bin').sum()[['psexpfac']]/df1['psexpfac'].sum()\n",
    "df2 = df2.groupby('psaudist_bin').sum()[['psexpfac']]/df2['psexpfac'].sum()\n",
    "df = df1.merge(df2, left_index=True, right_index=True, suffixes=['_model','_survey'])\n",
    "print('College Students: ' + str(len(person1[person1['pptyp'] == ptype])))\n",
    "df.plot(kind='bar')"
   ]
  },
  {
   "cell_type": "markdown",
   "metadata": {},
   "source": [
    "#### College Students - Other Counties"
   ]
  },
  {
   "cell_type": "code",
   "execution_count": 36,
   "metadata": {},
   "outputs": [
    {
     "name": "stderr",
     "output_type": "stream",
     "text": [
      "C:\\Users\\aditya.gore\\.conda\\envs\\summary\\lib\\site-packages\\ipykernel_launcher.py:4: SettingWithCopyWarning: \n",
      "A value is trying to be set on a copy of a slice from a DataFrame.\n",
      "Try using .loc[row_indexer,col_indexer] = value instead\n",
      "\n",
      "See the caveats in the documentation: https://pandas.pydata.org/pandas-docs/stable/user_guide/indexing.html#returning-a-view-versus-a-copy\n",
      "  after removing the cwd from sys.path.\n"
     ]
    },
    {
     "name": "stdout",
     "output_type": "stream",
     "text": [
      "College Students: 127260\n"
     ]
    },
    {
     "data": {
      "text/plain": [
       "<AxesSubplot:xlabel='psaudist_bin'>"
      ]
     },
     "execution_count": 36,
     "metadata": {},
     "output_type": "execute_result"
    },
    {
     "data": {
      "image/png": "[encoded data removed]",
      "text/plain": [
       "<Figure size 432x288 with 1 Axes>"
      ]
     },
     "metadata": {
      "needs_background": "light"
     },
     "output_type": "display_data"
    }
   ],
   "source": [
    "# By studnet type (person2type == 5, 6, 7 )\n",
    "max_bin = 30\n",
    "ptype = 5\n",
    "person2['psaudist_bin'] = pd.cut(person2['psaudist'], bins=range(0,max_bin,5), labels=[str(i*5)+'-'+str((i+1)*5) for i in range(0,int(max_bin/6))])\n",
    "df1 = person2[(person2['source'] == 'model') & (person2['psaudist'] <= max_bin) & (person2['psaudist'] > 0) & (person2['pptyp'] == ptype)]\n",
    "df2 = person2[(person2['source'] == 'survey') & (person2['psaudist'] <= max_bin) & (person2['psaudist'] > 0) & (person2['pptyp'] == ptype)]\n",
    "df1 = df1.groupby('psaudist_bin').sum()[['psexpfac']]/df1['psexpfac'].sum()\n",
    "df2 = df2.groupby('psaudist_bin').sum()[['psexpfac']]/df2['psexpfac'].sum()\n",
    "df = df1.merge(df2, left_index=True, right_index=True, suffixes=['_model','_survey'])\n",
    "print('College Students: ' + str(len(person2[person2['pptyp'] == ptype])))\n",
    "df.plot(kind='bar')"
   ]
  },
  {
   "cell_type": "markdown",
   "metadata": {},
   "source": [
    "### High School Student 16+ School Distance"
   ]
  },
  {
   "cell_type": "code",
   "execution_count": 37,
   "metadata": {
    "execution": {
     "iopub.execute_input": "2021-06-10T22:11:00.071066Z",
     "iopub.status.busy": "2021-06-10T22:11:00.071066Z",
     "iopub.status.idle": "2021-06-10T22:11:00.889643Z",
     "shell.execute_reply": "2021-06-10T22:11:00.889643Z"
    }
   },
   "outputs": [
    {
     "name": "stdout",
     "output_type": "stream",
     "text": [
      "High School Students 16+: 160857\n"
     ]
    },
    {
     "data": {
      "text/plain": [
       "<AxesSubplot:xlabel='psaudist_bin'>"
      ]
     },
     "execution_count": 37,
     "metadata": {},
     "output_type": "execute_result"
    },
    {
     "data": {
      "image/png": "[encoded data removed]",
      "text/plain": [
       "<Figure size 432x288 with 1 Axes>"
      ]
     },
     "metadata": {
      "needs_background": "light"
     },
     "output_type": "display_data"
    }
   ],
   "source": [
    "# By studnet type (persontype == 5, 6, 7 )\n",
    "max_bin = 30\n",
    "ptype = 6\n",
    "person['psaudist_bin'] = pd.cut(person['psaudist'], bins=range(0,max_bin,5), labels=[str(i*5)+'-'+str((i+1)*5) for i in range(0,int(max_bin/6))])\n",
    "df1 = person[(person['source'] == 'model') & (person['psaudist'] <= max_bin) & (person['psaudist'] > 0) & (person['pptyp'] == ptype)]\n",
    "df2 = person[(person['source'] == 'survey') & (person['psaudist'] <= max_bin) & (person['psaudist'] > 0) & (person['pptyp'] == ptype)]\n",
    "df1 = df1.groupby('psaudist_bin').sum()[['psexpfac']]/df1['psexpfac'].sum()\n",
    "df2 = df2.groupby('psaudist_bin').sum()[['psexpfac']]/df2['psexpfac'].sum()\n",
    "df = df1.merge(df2, left_index=True, right_index=True, suffixes=['_model','_survey'])\n",
    "print('High School Students 16+: ' + str(len(person[person['pptyp'] == ptype])))\n",
    "df.plot(kind='bar')"
   ]
  },
  {
   "cell_type": "markdown",
   "metadata": {},
   "source": [
    "#### High School Student - Pierce County"
   ]
  },
  {
   "cell_type": "code",
   "execution_count": 38,
   "metadata": {},
   "outputs": [
    {
     "name": "stdout",
     "output_type": "stream",
     "text": [
      "High School Students 16+: 33778\n"
     ]
    },
    {
     "name": "stderr",
     "output_type": "stream",
     "text": [
      "C:\\Users\\aditya.gore\\.conda\\envs\\summary\\lib\\site-packages\\ipykernel_launcher.py:4: SettingWithCopyWarning: \n",
      "A value is trying to be set on a copy of a slice from a DataFrame.\n",
      "Try using .loc[row_indexer,col_indexer] = value instead\n",
      "\n",
      "See the caveats in the documentation: https://pandas.pydata.org/pandas-docs/stable/user_guide/indexing.html#returning-a-view-versus-a-copy\n",
      "  after removing the cwd from sys.path.\n"
     ]
    },
    {
     "data": {
      "text/plain": [
       "<AxesSubplot:xlabel='psaudist_bin'>"
      ]
     },
     "execution_count": 38,
     "metadata": {},
     "output_type": "execute_result"
    },
    {
     "data": {
      "image/png": "[encoded data removed]",
      "text/plain": [
       "<Figure size 432x288 with 1 Axes>"
      ]
     },
     "metadata": {
      "needs_background": "light"
     },
     "output_type": "display_data"
    }
   ],
   "source": [
    "# By studnet type (person1type == 5, 6, 7 )\n",
    "max_bin = 30\n",
    "ptype = 6\n",
    "person1['psaudist_bin'] = pd.cut(person1['psaudist'], bins=range(0,max_bin,5), labels=[str(i*5)+'-'+str((i+1)*5) for i in range(0,int(max_bin/6))])\n",
    "df1 = person1[(person1['source'] == 'model') & (person1['psaudist'] <= max_bin) & (person1['psaudist'] > 0) & (person1['pptyp'] == ptype)]\n",
    "df2 = person1[(person1['source'] == 'survey') & (person1['psaudist'] <= max_bin) & (person1['psaudist'] > 0) & (person1['pptyp'] == ptype)]\n",
    "df1 = df1.groupby('psaudist_bin').sum()[['psexpfac']]/df1['psexpfac'].sum()\n",
    "df2 = df2.groupby('psaudist_bin').sum()[['psexpfac']]/df2['psexpfac'].sum()\n",
    "df = df1.merge(df2, left_index=True, right_index=True, suffixes=['_model','_survey'])\n",
    "print('High School Students 16+: ' + str(len(person1[person1['pptyp'] == ptype])))\n",
    "df.plot(kind='bar')"
   ]
  },
  {
   "cell_type": "markdown",
   "metadata": {},
   "source": [
    "#### High School Student - Other Counties"
   ]
  },
  {
   "cell_type": "code",
   "execution_count": 39,
   "metadata": {},
   "outputs": [
    {
     "name": "stderr",
     "output_type": "stream",
     "text": [
      "C:\\Users\\aditya.gore\\.conda\\envs\\summary\\lib\\site-packages\\ipykernel_launcher.py:4: SettingWithCopyWarning: \n",
      "A value is trying to be set on a copy of a slice from a DataFrame.\n",
      "Try using .loc[row_indexer,col_indexer] = value instead\n",
      "\n",
      "See the caveats in the documentation: https://pandas.pydata.org/pandas-docs/stable/user_guide/indexing.html#returning-a-view-versus-a-copy\n",
      "  after removing the cwd from sys.path.\n"
     ]
    },
    {
     "name": "stdout",
     "output_type": "stream",
     "text": [
      "High School Students 16+: 127011\n"
     ]
    },
    {
     "data": {
      "text/plain": [
       "<AxesSubplot:xlabel='psaudist_bin'>"
      ]
     },
     "execution_count": 39,
     "metadata": {},
     "output_type": "execute_result"
    },
    {
     "data": {
      "image/png": "[encoded data removed]",
      "text/plain": [
       "<Figure size 432x288 with 1 Axes>"
      ]
     },
     "metadata": {
      "needs_background": "light"
     },
     "output_type": "display_data"
    }
   ],
   "source": [
    "# By studnet type (person2type == 5, 6, 7 )\n",
    "max_bin = 30\n",
    "ptype = 6\n",
    "person2['psaudist_bin'] = pd.cut(person2['psaudist'], bins=range(0,max_bin,5), labels=[str(i*5)+'-'+str((i+1)*5) for i in range(0,int(max_bin/6))])\n",
    "df1 = person2[(person2['source'] == 'model') & (person2['psaudist'] <= max_bin) & (person2['psaudist'] > 0) & (person2['pptyp'] == ptype)]\n",
    "df2 = person2[(person2['source'] == 'survey') & (person2['psaudist'] <= max_bin) & (person2['psaudist'] > 0) & (person2['pptyp'] == ptype)]\n",
    "df1 = df1.groupby('psaudist_bin').sum()[['psexpfac']]/df1['psexpfac'].sum()\n",
    "df2 = df2.groupby('psaudist_bin').sum()[['psexpfac']]/df2['psexpfac'].sum()\n",
    "df = df1.merge(df2, left_index=True, right_index=True, suffixes=['_model','_survey'])\n",
    "print('High School Students 16+: ' + str(len(person2[person2['pptyp'] == ptype])))\n",
    "df.plot(kind='bar')"
   ]
  },
  {
   "cell_type": "markdown",
   "metadata": {},
   "source": [
    "### Age 5-15 Student School Distance"
   ]
  },
  {
   "cell_type": "code",
   "execution_count": 40,
   "metadata": {
    "execution": {
     "iopub.execute_input": "2021-06-10T22:11:00.905218Z",
     "iopub.status.busy": "2021-06-10T22:11:00.905218Z",
     "iopub.status.idle": "2021-06-10T22:11:01.858100Z",
     "shell.execute_reply": "2021-06-10T22:11:01.858100Z"
    }
   },
   "outputs": [
    {
     "name": "stdout",
     "output_type": "stream",
     "text": [
      "Students Age 5-15: 519956\n"
     ]
    },
    {
     "data": {
      "text/plain": [
       "<AxesSubplot:xlabel='psaudist_bin'>"
      ]
     },
     "execution_count": 40,
     "metadata": {},
     "output_type": "execute_result"
    },
    {
     "data": {
      "image/png": "[encoded data removed]",
      "text/plain": [
       "<Figure size 432x288 with 1 Axes>"
      ]
     },
     "metadata": {
      "needs_background": "light"
     },
     "output_type": "display_data"
    }
   ],
   "source": [
    "# By studnet type (persontype == 5, 6, 7 )\n",
    "max_bin = 30\n",
    "ptype = 7\n",
    "person['psaudist_bin'] = pd.cut(person['psaudist'], bins=range(0,max_bin,5), labels=[str(i*5)+'-'+str((i+1)*5) for i in range(0,int(max_bin/6))])\n",
    "df1 = person[(person['source'] == 'model') & (person['psaudist'] <= max_bin) & (person['psaudist'] > 0) & (person['pptyp'] == ptype)]\n",
    "df2 = person[(person['source'] == 'survey') & (person['psaudist'] <= max_bin) & (person['psaudist'] > 0) & (person['pptyp'] == ptype)]\n",
    "df1 = df1.groupby('psaudist_bin').sum()[['psexpfac']]/df1['psexpfac'].sum()\n",
    "df2 = df2.groupby('psaudist_bin').sum()[['psexpfac']]/df2['psexpfac'].sum()\n",
    "df = df1.merge(df2, left_index=True, right_index=True, suffixes=['_model','_survey'])\n",
    "print('Students Age 5-15: ' + str(len(person[person['pptyp'] == ptype])))\n",
    "df.plot(kind='bar')"
   ]
  },
  {
   "cell_type": "markdown",
   "metadata": {},
   "source": [
    "#### Age 5-15 Student - Pierce County"
   ]
  },
  {
   "cell_type": "code",
   "execution_count": 41,
   "metadata": {},
   "outputs": [
    {
     "name": "stdout",
     "output_type": "stream",
     "text": [
      "Students Age 5-15: 111379\n"
     ]
    },
    {
     "name": "stderr",
     "output_type": "stream",
     "text": [
      "C:\\Users\\aditya.gore\\.conda\\envs\\summary\\lib\\site-packages\\ipykernel_launcher.py:4: SettingWithCopyWarning: \n",
      "A value is trying to be set on a copy of a slice from a DataFrame.\n",
      "Try using .loc[row_indexer,col_indexer] = value instead\n",
      "\n",
      "See the caveats in the documentation: https://pandas.pydata.org/pandas-docs/stable/user_guide/indexing.html#returning-a-view-versus-a-copy\n",
      "  after removing the cwd from sys.path.\n"
     ]
    },
    {
     "data": {
      "text/plain": [
       "<AxesSubplot:xlabel='psaudist_bin'>"
      ]
     },
     "execution_count": 41,
     "metadata": {},
     "output_type": "execute_result"
    },
    {
     "data": {
      "image/png": "[encoded data removed]",
      "text/plain": [
       "<Figure size 432x288 with 1 Axes>"
      ]
     },
     "metadata": {
      "needs_background": "light"
     },
     "output_type": "display_data"
    }
   ],
   "source": [
    "# By studnet type (person1type == 5, 6, 7 )\n",
    "max_bin = 30\n",
    "ptype = 7\n",
    "person1['psaudist_bin'] = pd.cut(person1['psaudist'], bins=range(0,max_bin,5), labels=[str(i*5)+'-'+str((i+1)*5) for i in range(0,int(max_bin/6))])\n",
    "df1 = person1[(person1['source'] == 'model') & (person1['psaudist'] <= max_bin) & (person1['psaudist'] > 0) & (person1['pptyp'] == ptype)]\n",
    "df2 = person1[(person1['source'] == 'survey') & (person1['psaudist'] <= max_bin) & (person1['psaudist'] > 0) & (person1['pptyp'] == ptype)]\n",
    "df1 = df1.groupby('psaudist_bin').sum()[['psexpfac']]/df1['psexpfac'].sum()\n",
    "df2 = df2.groupby('psaudist_bin').sum()[['psexpfac']]/df2['psexpfac'].sum()\n",
    "df = df1.merge(df2, left_index=True, right_index=True, suffixes=['_model','_survey'])\n",
    "print('Students Age 5-15: ' + str(len(person1[person1['pptyp'] == ptype])))\n",
    "df.plot(kind='bar')"
   ]
  },
  {
   "cell_type": "markdown",
   "metadata": {},
   "source": [
    "#### Age 5-15 Student - Other Counties"
   ]
  },
  {
   "cell_type": "code",
   "execution_count": 42,
   "metadata": {},
   "outputs": [
    {
     "name": "stderr",
     "output_type": "stream",
     "text": [
      "C:\\Users\\aditya.gore\\.conda\\envs\\summary\\lib\\site-packages\\ipykernel_launcher.py:4: SettingWithCopyWarning: \n",
      "A value is trying to be set on a copy of a slice from a DataFrame.\n",
      "Try using .loc[row_indexer,col_indexer] = value instead\n",
      "\n",
      "See the caveats in the documentation: https://pandas.pydata.org/pandas-docs/stable/user_guide/indexing.html#returning-a-view-versus-a-copy\n",
      "  after removing the cwd from sys.path.\n"
     ]
    },
    {
     "name": "stdout",
     "output_type": "stream",
     "text": [
      "Students Age 5-15: 389465\n"
     ]
    },
    {
     "data": {
      "text/plain": [
       "<AxesSubplot:xlabel='psaudist_bin'>"
      ]
     },
     "execution_count": 42,
     "metadata": {},
     "output_type": "execute_result"
    },
    {
     "data": {
      "image/png": "[encoded data removed]",
      "text/plain": [
       "<Figure size 432x288 with 1 Axes>"
      ]
     },
     "metadata": {
      "needs_background": "light"
     },
     "output_type": "display_data"
    }
   ],
   "source": [
    "# By studnet type (person2type == 5, 6, 7 )\n",
    "max_bin = 30\n",
    "ptype = 7\n",
    "person2['psaudist_bin'] = pd.cut(person2['psaudist'], bins=range(0,max_bin,5), labels=[str(i*5)+'-'+str((i+1)*5) for i in range(0,int(max_bin/6))])\n",
    "df1 = person2[(person2['source'] == 'model') & (person2['psaudist'] <= max_bin) & (person2['psaudist'] > 0) & (person2['pptyp'] == ptype)]\n",
    "df2 = person2[(person2['source'] == 'survey') & (person2['psaudist'] <= max_bin) & (person2['psaudist'] > 0) & (person2['pptyp'] == ptype)]\n",
    "df1 = df1.groupby('psaudist_bin').sum()[['psexpfac']]/df1['psexpfac'].sum()\n",
    "df2 = df2.groupby('psaudist_bin').sum()[['psexpfac']]/df2['psexpfac'].sum()\n",
    "df = df1.merge(df2, left_index=True, right_index=True, suffixes=['_model','_survey'])\n",
    "print('Students Age 5-15: ' + str(len(person2[person2['pptyp'] == ptype])))\n",
    "df.plot(kind='bar')"
   ]
  },
  {
   "cell_type": "code",
   "execution_count": null,
   "metadata": {},
   "outputs": [],
   "source": []
  }
 ],
 "metadata": {
  "kernelspec": {
   "display_name": "Python 3",
   "language": "python",
   "name": "python3"
  },
  "language_info": {
   "codemirror_mode": {
    "name": "ipython",
    "version": 3
   },
   "file_extension": ".py",
   "mimetype": "text/x-python",
   "name": "python",
   "nbconvert_exporter": "python",
   "pygments_lexer": "ipython3",
   "version": "3.7.10"
  }
 },
 "nbformat": 4,
 "nbformat_minor": 4
}
