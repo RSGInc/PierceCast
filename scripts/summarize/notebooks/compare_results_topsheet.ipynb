{
 "cells": [
  {
   "cell_type": "code",
   "execution_count": 5,
   "metadata": {
    "execution": {
     "iopub.execute_input": "2021-06-10T22:08:00.311088Z",
     "iopub.status.busy": "2021-06-10T22:08:00.311088Z",
     "iopub.status.idle": "2021-06-10T22:08:00.905102Z",
     "shell.execute_reply": "2021-06-10T22:08:00.905102Z"
    }
   },
   "outputs": [],
   "source": [
    "import pandas as pd\n",
    "import os\n",
    "from settings import comparison_dict"
   ]
  },
  {
   "cell_type": "code",
   "execution_count": 6,
   "metadata": {
    "execution": {
     "iopub.execute_input": "2021-06-10T22:08:00.920804Z",
     "iopub.status.busy": "2021-06-10T22:08:00.920804Z",
     "iopub.status.idle": "2021-06-10T22:08:00.936389Z",
     "shell.execute_reply": "2021-06-10T22:08:00.936389Z"
    }
   },
   "outputs": [],
   "source": [
    "def load_data(fname, geog):\n",
    "    df = pd.DataFrame()\n",
    "    for scen_name, scen_path in comparison_dict.items():\n",
    "        _df = pd.read_csv(os.path.join(scen_path,r'outputs\\compare', geog ,fname))\n",
    "        _df['source'] = scen_name\n",
    "        df = df.append(_df)\n",
    "    \n",
    "    return df"
   ]
  },
  {
   "cell_type": "code",
   "execution_count": 7,
   "metadata": {
    "execution": {
     "iopub.execute_input": "2021-06-10T22:08:00.936389Z",
     "iopub.status.busy": "2021-06-10T22:08:00.936389Z",
     "iopub.status.idle": "2021-06-10T22:08:00.952092Z",
     "shell.execute_reply": "2021-06-10T22:08:00.952092Z"
    }
   },
   "outputs": [],
   "source": [
    "geog = 'topsheet'"
   ]
  },
  {
   "cell_type": "markdown",
   "metadata": {},
   "source": [
    "# VMT \n",
    "by Facility Type"
   ]
  },
  {
   "cell_type": "code",
   "execution_count": 17,
   "metadata": {
    "execution": {
     "iopub.execute_input": "2021-06-10T22:08:00.952092Z",
     "iopub.status.busy": "2021-06-10T22:08:00.952092Z",
     "iopub.status.idle": "2021-06-10T22:08:01.014588Z",
     "shell.execute_reply": "2021-06-10T22:08:01.014588Z"
    }
   },
   "outputs": [
    {
     "data": {
      "text/html": [
       "<div>\n",
       "<style scoped>\n",
       "    .dataframe tbody tr th:only-of-type {\n",
       "        vertical-align: middle;\n",
       "    }\n",
       "\n",
       "    .dataframe tbody tr th {\n",
       "        vertical-align: top;\n",
       "    }\n",
       "\n",
       "    .dataframe thead th {\n",
       "        text-align: right;\n",
       "    }\n",
       "</style>\n",
       "<table border=\"1\" class=\"dataframe\">\n",
       "  <thead>\n",
       "    <tr style=\"text-align: right;\">\n",
       "      <th>source</th>\n",
       "      <th>Base</th>\n",
       "      <th>Scenario 1</th>\n",
       "      <th>Scenario 2</th>\n",
       "    </tr>\n",
       "    <tr>\n",
       "      <th>Facility Type</th>\n",
       "      <th></th>\n",
       "      <th></th>\n",
       "      <th></th>\n",
       "    </tr>\n",
       "  </thead>\n",
       "  <tbody>\n",
       "    <tr>\n",
       "      <th>connector</th>\n",
       "      <td>5,597,335</td>\n",
       "      <td>5,597,335</td>\n",
       "      <td>5,597,335</td>\n",
       "    </tr>\n",
       "    <tr>\n",
       "      <th>arterial</th>\n",
       "      <td>39,668,787</td>\n",
       "      <td>39,668,787</td>\n",
       "      <td>39,668,787</td>\n",
       "    </tr>\n",
       "    <tr>\n",
       "      <th>highway</th>\n",
       "      <td>43,922,022</td>\n",
       "      <td>43,922,022</td>\n",
       "      <td>43,922,022</td>\n",
       "    </tr>\n",
       "    <tr>\n",
       "      <th>Total</th>\n",
       "      <td>89,188,144</td>\n",
       "      <td>89,188,144</td>\n",
       "      <td>89,188,144</td>\n",
       "    </tr>\n",
       "  </tbody>\n",
       "</table>\n",
       "</div>"
      ],
      "text/plain": [
       "source              Base  Scenario 1  Scenario 2\n",
       "Facility Type                                   \n",
       "connector      5,597,335   5,597,335   5,597,335\n",
       "arterial      39,668,787  39,668,787  39,668,787\n",
       "highway       43,922,022  43,922,022  43,922,022\n",
       "Total         89,188,144  89,188,144  89,188,144"
      ]
     },
     "execution_count": 17,
     "metadata": {},
     "output_type": "execute_result"
    }
   ],
   "source": [
    "pd.options.display.float_format = '{:0,.0f}'.format\n",
    "df = load_data('1_vmt_facility_type.csv', geog)\n",
    "df = df.pivot_table(index='Facility Type', columns='source', aggfunc='sum', values='VMT')\n",
    "df = df.reindex(index = ['connector','arterial','highway','Total'])\n",
    "df"
   ]
  },
  {
   "cell_type": "code",
   "execution_count": 18,
   "metadata": {
    "execution": {
     "iopub.execute_input": "2021-06-10T22:08:01.014588Z",
     "iopub.status.busy": "2021-06-10T22:08:01.014588Z",
     "iopub.status.idle": "2021-06-10T22:08:01.530056Z",
     "shell.execute_reply": "2021-06-10T22:08:01.530056Z"
    }
   },
   "outputs": [
    {
     "data": {
      "text/html": [
       "<div>\n",
       "<style scoped>\n",
       "    .dataframe tbody tr th:only-of-type {\n",
       "        vertical-align: middle;\n",
       "    }\n",
       "\n",
       "    .dataframe tbody tr th {\n",
       "        vertical-align: top;\n",
       "    }\n",
       "\n",
       "    .dataframe thead th {\n",
       "        text-align: right;\n",
       "    }\n",
       "</style>\n",
       "<table border=\"1\" class=\"dataframe\">\n",
       "  <thead>\n",
       "    <tr style=\"text-align: right;\">\n",
       "      <th>source</th>\n",
       "      <th>Base</th>\n",
       "      <th>Scenario 1</th>\n",
       "      <th>Scenario 2</th>\n",
       "    </tr>\n",
       "    <tr>\n",
       "      <th>Facility Type</th>\n",
       "      <th></th>\n",
       "      <th></th>\n",
       "      <th></th>\n",
       "    </tr>\n",
       "  </thead>\n",
       "  <tbody>\n",
       "    <tr>\n",
       "      <th>connector</th>\n",
       "      <td>5,597,335</td>\n",
       "      <td>5,597,335</td>\n",
       "      <td>5,597,335</td>\n",
       "    </tr>\n",
       "    <tr>\n",
       "      <th>arterial</th>\n",
       "      <td>39,668,787</td>\n",
       "      <td>39,668,787</td>\n",
       "      <td>39,668,787</td>\n",
       "    </tr>\n",
       "    <tr>\n",
       "      <th>highway</th>\n",
       "      <td>43,922,022</td>\n",
       "      <td>43,922,022</td>\n",
       "      <td>43,922,022</td>\n",
       "    </tr>\n",
       "    <tr>\n",
       "      <th>Total</th>\n",
       "      <td>89,188,144</td>\n",
       "      <td>89,188,144</td>\n",
       "      <td>89,188,144</td>\n",
       "    </tr>\n",
       "  </tbody>\n",
       "</table>\n",
       "</div>"
      ],
      "text/plain": [
       "source              Base  Scenario 1  Scenario 2\n",
       "Facility Type                                   \n",
       "connector      5,597,335   5,597,335   5,597,335\n",
       "arterial      39,668,787  39,668,787  39,668,787\n",
       "highway       43,922,022  43,922,022  43,922,022\n",
       "Total         89,188,144  89,188,144  89,188,144"
      ]
     },
     "execution_count": 18,
     "metadata": {},
     "output_type": "execute_result"
    },
    {
     "data": {
      "image/png": "[encoded data removed]",
      "text/plain": [
       "<Figure size 432x288 with 1 Axes>"
      ]
     },
     "metadata": {
      "needs_background": "light"
     },
     "output_type": "display_data"
    }
   ],
   "source": [
    "df.plot(kind='barh', alpha=0.6)\n",
    "df"
   ]
  },
  {
   "cell_type": "markdown",
   "metadata": {},
   "source": [
    "# VMT\n",
    "By Time of Day"
   ]
  },
  {
   "cell_type": "code",
   "execution_count": 21,
   "metadata": {
    "execution": {
     "iopub.execute_input": "2021-06-10T22:08:01.530056Z",
     "iopub.status.busy": "2021-06-10T22:08:01.530056Z",
     "iopub.status.idle": "2021-06-10T22:08:01.592542Z",
     "shell.execute_reply": "2021-06-10T22:08:01.592542Z"
    }
   },
   "outputs": [
    {
     "data": {
      "text/html": [
       "<div>\n",
       "<style scoped>\n",
       "    .dataframe tbody tr th:only-of-type {\n",
       "        vertical-align: middle;\n",
       "    }\n",
       "\n",
       "    .dataframe tbody tr th {\n",
       "        vertical-align: top;\n",
       "    }\n",
       "\n",
       "    .dataframe thead th {\n",
       "        text-align: right;\n",
       "    }\n",
       "</style>\n",
       "<table border=\"1\" class=\"dataframe\">\n",
       "  <thead>\n",
       "    <tr style=\"text-align: right;\">\n",
       "      <th>source</th>\n",
       "      <th>Base</th>\n",
       "      <th>Scenario 1</th>\n",
       "      <th>Scenario 2</th>\n",
       "    </tr>\n",
       "    <tr>\n",
       "      <th>period</th>\n",
       "      <th></th>\n",
       "      <th></th>\n",
       "      <th></th>\n",
       "    </tr>\n",
       "  </thead>\n",
       "  <tbody>\n",
       "    <tr>\n",
       "      <th>am</th>\n",
       "      <td>20,762,828</td>\n",
       "      <td>20,762,828</td>\n",
       "      <td>20,762,828</td>\n",
       "    </tr>\n",
       "    <tr>\n",
       "      <th>md</th>\n",
       "      <td>29,536,017</td>\n",
       "      <td>29,536,017</td>\n",
       "      <td>29,536,017</td>\n",
       "    </tr>\n",
       "    <tr>\n",
       "      <th>pm</th>\n",
       "      <td>21,051,011</td>\n",
       "      <td>21,051,011</td>\n",
       "      <td>21,051,011</td>\n",
       "    </tr>\n",
       "    <tr>\n",
       "      <th>ev</th>\n",
       "      <td>11,426,155</td>\n",
       "      <td>11,426,155</td>\n",
       "      <td>11,426,155</td>\n",
       "    </tr>\n",
       "    <tr>\n",
       "      <th>ni</th>\n",
       "      <td>6,412,135</td>\n",
       "      <td>6,412,135</td>\n",
       "      <td>6,412,135</td>\n",
       "    </tr>\n",
       "    <tr>\n",
       "      <th>Total</th>\n",
       "      <td>89,188,144</td>\n",
       "      <td>89,188,144</td>\n",
       "      <td>89,188,144</td>\n",
       "    </tr>\n",
       "  </tbody>\n",
       "</table>\n",
       "</div>"
      ],
      "text/plain": [
       "source       Base  Scenario 1  Scenario 2\n",
       "period                                   \n",
       "am     20,762,828  20,762,828  20,762,828\n",
       "md     29,536,017  29,536,017  29,536,017\n",
       "pm     21,051,011  21,051,011  21,051,011\n",
       "ev     11,426,155  11,426,155  11,426,155\n",
       "ni      6,412,135   6,412,135   6,412,135\n",
       "Total  89,188,144  89,188,144  89,188,144"
      ]
     },
     "execution_count": 21,
     "metadata": {},
     "output_type": "execute_result"
    }
   ],
   "source": [
    "pd.options.display.float_format = '{:0,.0f}'.format\n",
    "df = load_data('2_vmt_tod.csv', geog)\n",
    "df = df.pivot_table(index='period', columns='source', aggfunc='sum', values='VMT')\n",
    "df = df.reindex(index = ['am','md','pm','ev','ni','Total'])\n",
    "df"
   ]
  },
  {
   "cell_type": "code",
   "execution_count": 23,
   "metadata": {},
   "outputs": [
    {
     "data": {
      "text/plain": [
       "<AxesSubplot:ylabel='period'>"
      ]
     },
     "execution_count": 23,
     "metadata": {},
     "output_type": "execute_result"
    },
    {
     "data": {
      "image/png": "[encoded data removed]",
      "text/plain": [
       "<Figure size 432x288 with 1 Axes>"
      ]
     },
     "metadata": {
      "needs_background": "light"
     },
     "output_type": "display_data"
    }
   ],
   "source": [
    "df.plot(kind='barh', alpha=0.6)"
   ]
  },
  {
   "cell_type": "markdown",
   "metadata": {},
   "source": [
    "# VHT\n",
    "By Facility Type"
   ]
  },
  {
   "cell_type": "code",
   "execution_count": 37,
   "metadata": {
    "execution": {
     "iopub.execute_input": "2021-06-10T22:08:01.592542Z",
     "iopub.status.busy": "2021-06-10T22:08:01.592542Z",
     "iopub.status.idle": "2021-06-10T22:08:01.826660Z",
     "shell.execute_reply": "2021-06-10T22:08:01.826660Z"
    }
   },
   "outputs": [
    {
     "data": {
      "text/html": [
       "<div>\n",
       "<style scoped>\n",
       "    .dataframe tbody tr th:only-of-type {\n",
       "        vertical-align: middle;\n",
       "    }\n",
       "\n",
       "    .dataframe tbody tr th {\n",
       "        vertical-align: top;\n",
       "    }\n",
       "\n",
       "    .dataframe thead th {\n",
       "        text-align: right;\n",
       "    }\n",
       "</style>\n",
       "<table border=\"1\" class=\"dataframe\">\n",
       "  <thead>\n",
       "    <tr style=\"text-align: right;\">\n",
       "      <th>source</th>\n",
       "      <th>Base</th>\n",
       "      <th>Scenario 1</th>\n",
       "      <th>Scenario 2</th>\n",
       "    </tr>\n",
       "    <tr>\n",
       "      <th>Facility Type</th>\n",
       "      <th></th>\n",
       "      <th></th>\n",
       "      <th></th>\n",
       "    </tr>\n",
       "  </thead>\n",
       "  <tbody>\n",
       "    <tr>\n",
       "      <th>connector</th>\n",
       "      <td>357,966</td>\n",
       "      <td>357,966</td>\n",
       "      <td>357,966</td>\n",
       "    </tr>\n",
       "    <tr>\n",
       "      <th>arterial</th>\n",
       "      <td>1,391,371</td>\n",
       "      <td>1,391,371</td>\n",
       "      <td>1,391,371</td>\n",
       "    </tr>\n",
       "    <tr>\n",
       "      <th>highway</th>\n",
       "      <td>1,073,257</td>\n",
       "      <td>1,073,257</td>\n",
       "      <td>1,073,257</td>\n",
       "    </tr>\n",
       "    <tr>\n",
       "      <th>Total</th>\n",
       "      <td>2,822,594</td>\n",
       "      <td>2,822,594</td>\n",
       "      <td>2,822,594</td>\n",
       "    </tr>\n",
       "  </tbody>\n",
       "</table>\n",
       "</div>"
      ],
      "text/plain": [
       "source             Base  Scenario 1  Scenario 2\n",
       "Facility Type                                  \n",
       "connector       357,966     357,966     357,966\n",
       "arterial      1,391,371   1,391,371   1,391,371\n",
       "highway       1,073,257   1,073,257   1,073,257\n",
       "Total         2,822,594   2,822,594   2,822,594"
      ]
     },
     "execution_count": 37,
     "metadata": {},
     "output_type": "execute_result"
    },
    {
     "data": {
      "image/png": "[encoded data removed]",
      "text/plain": [
       "<Figure size 432x288 with 1 Axes>"
      ]
     },
     "metadata": {
      "needs_background": "light"
     },
     "output_type": "display_data"
    }
   ],
   "source": [
    "df = load_data('3_vht_facility_type.csv', geog)\n",
    "df = df.pivot_table(index='Facility Type', columns='source', aggfunc='sum', values='VHT')\n",
    "df = df.reindex(index = ['connector','arterial','highway','Total'])\n",
    "df.plot(kind='barh', alpha=0.6).invert_yaxis()\n",
    "df"
   ]
  },
  {
   "cell_type": "markdown",
   "metadata": {},
   "source": [
    "## VHT\n",
    "By Time of Day"
   ]
  },
  {
   "cell_type": "code",
   "execution_count": 35,
   "metadata": {
    "execution": {
     "iopub.execute_input": "2021-06-10T22:08:01.826660Z",
     "iopub.status.busy": "2021-06-10T22:08:01.826660Z",
     "iopub.status.idle": "2021-06-10T22:08:02.045358Z",
     "shell.execute_reply": "2021-06-10T22:08:02.045358Z"
    }
   },
   "outputs": [
    {
     "data": {
      "text/html": [
       "<div>\n",
       "<style scoped>\n",
       "    .dataframe tbody tr th:only-of-type {\n",
       "        vertical-align: middle;\n",
       "    }\n",
       "\n",
       "    .dataframe tbody tr th {\n",
       "        vertical-align: top;\n",
       "    }\n",
       "\n",
       "    .dataframe thead th {\n",
       "        text-align: right;\n",
       "    }\n",
       "</style>\n",
       "<table border=\"1\" class=\"dataframe\">\n",
       "  <thead>\n",
       "    <tr style=\"text-align: right;\">\n",
       "      <th>source</th>\n",
       "      <th>Base</th>\n",
       "      <th>Scenario 1</th>\n",
       "      <th>Scenario 2</th>\n",
       "    </tr>\n",
       "    <tr>\n",
       "      <th>period</th>\n",
       "      <th></th>\n",
       "      <th></th>\n",
       "      <th></th>\n",
       "    </tr>\n",
       "  </thead>\n",
       "  <tbody>\n",
       "    <tr>\n",
       "      <th>am</th>\n",
       "      <td>671,114</td>\n",
       "      <td>671,114</td>\n",
       "      <td>671,114</td>\n",
       "    </tr>\n",
       "    <tr>\n",
       "      <th>md</th>\n",
       "      <td>868,404</td>\n",
       "      <td>868,404</td>\n",
       "      <td>868,404</td>\n",
       "    </tr>\n",
       "    <tr>\n",
       "      <th>pm</th>\n",
       "      <td>730,629</td>\n",
       "      <td>730,629</td>\n",
       "      <td>730,629</td>\n",
       "    </tr>\n",
       "    <tr>\n",
       "      <th>ev</th>\n",
       "      <td>385,537</td>\n",
       "      <td>385,537</td>\n",
       "      <td>385,537</td>\n",
       "    </tr>\n",
       "    <tr>\n",
       "      <th>ni</th>\n",
       "      <td>166,910</td>\n",
       "      <td>166,910</td>\n",
       "      <td>166,910</td>\n",
       "    </tr>\n",
       "    <tr>\n",
       "      <th>Total</th>\n",
       "      <td>2,822,594</td>\n",
       "      <td>2,822,594</td>\n",
       "      <td>2,822,594</td>\n",
       "    </tr>\n",
       "  </tbody>\n",
       "</table>\n",
       "</div>"
      ],
      "text/plain": [
       "source      Base  Scenario 1  Scenario 2\n",
       "period                                  \n",
       "am       671,114     671,114     671,114\n",
       "md       868,404     868,404     868,404\n",
       "pm       730,629     730,629     730,629\n",
       "ev       385,537     385,537     385,537\n",
       "ni       166,910     166,910     166,910\n",
       "Total  2,822,594   2,822,594   2,822,594"
      ]
     },
     "execution_count": 35,
     "metadata": {},
     "output_type": "execute_result"
    },
    {
     "data": {
      "image/png": "[encoded data removed]",
      "text/plain": [
       "<Figure size 432x288 with 1 Axes>"
      ]
     },
     "metadata": {
      "needs_background": "light"
     },
     "output_type": "display_data"
    }
   ],
   "source": [
    "df = load_data('4_vht_tod.csv', geog)\n",
    "df = df.pivot_table(index='period', columns='source', aggfunc='sum', values='VHT')\n",
    "df = df.reindex(index = ['am','md','pm','ev','ni','Total'])\n",
    "df.plot(kind='barh', alpha=0.6).invert_yaxis()\n",
    "df"
   ]
  },
  {
   "cell_type": "markdown",
   "metadata": {},
   "source": [
    "# Delay\n",
    "by Facility Type"
   ]
  },
  {
   "cell_type": "code",
   "execution_count": 39,
   "metadata": {
    "execution": {
     "iopub.execute_input": "2021-06-10T22:08:02.045358Z",
     "iopub.status.busy": "2021-06-10T22:08:02.045358Z",
     "iopub.status.idle": "2021-06-10T22:08:02.248732Z",
     "shell.execute_reply": "2021-06-10T22:08:02.248732Z"
    }
   },
   "outputs": [
    {
     "data": {
      "text/html": [
       "<div>\n",
       "<style scoped>\n",
       "    .dataframe tbody tr th:only-of-type {\n",
       "        vertical-align: middle;\n",
       "    }\n",
       "\n",
       "    .dataframe tbody tr th {\n",
       "        vertical-align: top;\n",
       "    }\n",
       "\n",
       "    .dataframe thead th {\n",
       "        text-align: right;\n",
       "    }\n",
       "</style>\n",
       "<table border=\"1\" class=\"dataframe\">\n",
       "  <thead>\n",
       "    <tr style=\"text-align: right;\">\n",
       "      <th>source</th>\n",
       "      <th>Base</th>\n",
       "      <th>Scenario 1</th>\n",
       "      <th>Scenario 2</th>\n",
       "    </tr>\n",
       "    <tr>\n",
       "      <th>Facility Type</th>\n",
       "      <th></th>\n",
       "      <th></th>\n",
       "      <th></th>\n",
       "    </tr>\n",
       "  </thead>\n",
       "  <tbody>\n",
       "    <tr>\n",
       "      <th>connector</th>\n",
       "      <td>0</td>\n",
       "      <td>0</td>\n",
       "      <td>0</td>\n",
       "    </tr>\n",
       "    <tr>\n",
       "      <th>arterial</th>\n",
       "      <td>163,578</td>\n",
       "      <td>163,578</td>\n",
       "      <td>163,578</td>\n",
       "    </tr>\n",
       "    <tr>\n",
       "      <th>highway</th>\n",
       "      <td>241,988</td>\n",
       "      <td>241,988</td>\n",
       "      <td>241,988</td>\n",
       "    </tr>\n",
       "    <tr>\n",
       "      <th>Total</th>\n",
       "      <td>405,566</td>\n",
       "      <td>405,566</td>\n",
       "      <td>405,566</td>\n",
       "    </tr>\n",
       "  </tbody>\n",
       "</table>\n",
       "</div>"
      ],
      "text/plain": [
       "source           Base  Scenario 1  Scenario 2\n",
       "Facility Type                                \n",
       "connector           0           0           0\n",
       "arterial      163,578     163,578     163,578\n",
       "highway       241,988     241,988     241,988\n",
       "Total         405,566     405,566     405,566"
      ]
     },
     "execution_count": 39,
     "metadata": {},
     "output_type": "execute_result"
    },
    {
     "data": {
      "image/png": "[encoded data removed]",
      "text/plain": [
       "<Figure size 432x288 with 1 Axes>"
      ]
     },
     "metadata": {
      "needs_background": "light"
     },
     "output_type": "display_data"
    }
   ],
   "source": [
    "df = load_data('5_delay_facility_type.csv', geog)\n",
    "df = df.pivot_table(index='Facility Type', columns='source', aggfunc='sum', values='Delay')\n",
    "df = df.reindex(index = ['connector','arterial','highway','Total'])\n",
    "df = df.fillna(0)\n",
    "df.plot(kind='barh', alpha=0.6).invert_yaxis()\n",
    "df"
   ]
  },
  {
   "cell_type": "markdown",
   "metadata": {},
   "source": [
    "# Delay\n",
    "by Time of Day"
   ]
  },
  {
   "cell_type": "code",
   "execution_count": 36,
   "metadata": {
    "scrolled": true
   },
   "outputs": [
    {
     "data": {
      "text/html": [
       "<div>\n",
       "<style scoped>\n",
       "    .dataframe tbody tr th:only-of-type {\n",
       "        vertical-align: middle;\n",
       "    }\n",
       "\n",
       "    .dataframe tbody tr th {\n",
       "        vertical-align: top;\n",
       "    }\n",
       "\n",
       "    .dataframe thead th {\n",
       "        text-align: right;\n",
       "    }\n",
       "</style>\n",
       "<table border=\"1\" class=\"dataframe\">\n",
       "  <thead>\n",
       "    <tr style=\"text-align: right;\">\n",
       "      <th>source</th>\n",
       "      <th>Base</th>\n",
       "      <th>Scenario 1</th>\n",
       "      <th>Scenario 2</th>\n",
       "    </tr>\n",
       "    <tr>\n",
       "      <th>period</th>\n",
       "      <th></th>\n",
       "      <th></th>\n",
       "      <th></th>\n",
       "    </tr>\n",
       "  </thead>\n",
       "  <tbody>\n",
       "    <tr>\n",
       "      <th>am</th>\n",
       "      <td>127,889</td>\n",
       "      <td>127,889</td>\n",
       "      <td>127,889</td>\n",
       "    </tr>\n",
       "    <tr>\n",
       "      <th>md</th>\n",
       "      <td>67,266</td>\n",
       "      <td>67,266</td>\n",
       "      <td>67,266</td>\n",
       "    </tr>\n",
       "    <tr>\n",
       "      <th>pm</th>\n",
       "      <td>151,444</td>\n",
       "      <td>151,444</td>\n",
       "      <td>151,444</td>\n",
       "    </tr>\n",
       "    <tr>\n",
       "      <th>ev</th>\n",
       "      <td>58,966</td>\n",
       "      <td>58,966</td>\n",
       "      <td>58,966</td>\n",
       "    </tr>\n",
       "    <tr>\n",
       "      <th>ni</th>\n",
       "      <td>0</td>\n",
       "      <td>0</td>\n",
       "      <td>0</td>\n",
       "    </tr>\n",
       "    <tr>\n",
       "      <th>Total</th>\n",
       "      <td>405,566</td>\n",
       "      <td>405,566</td>\n",
       "      <td>405,566</td>\n",
       "    </tr>\n",
       "  </tbody>\n",
       "</table>\n",
       "</div>"
      ],
      "text/plain": [
       "source    Base  Scenario 1  Scenario 2\n",
       "period                                \n",
       "am     127,889     127,889     127,889\n",
       "md      67,266      67,266      67,266\n",
       "pm     151,444     151,444     151,444\n",
       "ev      58,966      58,966      58,966\n",
       "ni           0           0           0\n",
       "Total  405,566     405,566     405,566"
      ]
     },
     "execution_count": 36,
     "metadata": {},
     "output_type": "execute_result"
    },
    {
     "data": {
      "image/png": "[encoded data removed]",
      "text/plain": [
       "<Figure size 432x288 with 1 Axes>"
      ]
     },
     "metadata": {
      "needs_background": "light"
     },
     "output_type": "display_data"
    }
   ],
   "source": [
    "df = load_data('6_delay_tod.csv', geog)\n",
    "df = df.pivot_table(index='period', columns='source', aggfunc='sum', values='Delay')\n",
    "df = df.reindex(index = ['am','md','pm','ev','ni','Total'])\n",
    "df.plot(kind='barh', alpha=0.6).invert_yaxis()\n",
    "df"
   ]
  },
  {
   "cell_type": "markdown",
   "metadata": {},
   "source": [
    "# VMT per Person"
   ]
  },
  {
   "cell_type": "code",
   "execution_count": 47,
   "metadata": {},
   "outputs": [
    {
     "data": {
      "text/html": [
       "<div>\n",
       "<style scoped>\n",
       "    .dataframe tbody tr th:only-of-type {\n",
       "        vertical-align: middle;\n",
       "    }\n",
       "\n",
       "    .dataframe tbody tr th {\n",
       "        vertical-align: top;\n",
       "    }\n",
       "\n",
       "    .dataframe thead th {\n",
       "        text-align: right;\n",
       "    }\n",
       "</style>\n",
       "<table border=\"1\" class=\"dataframe\">\n",
       "  <thead>\n",
       "    <tr style=\"text-align: right;\">\n",
       "      <th></th>\n",
       "      <th>source</th>\n",
       "      <th>Average VMT per Capita</th>\n",
       "    </tr>\n",
       "  </thead>\n",
       "  <tbody>\n",
       "    <tr>\n",
       "      <th>0</th>\n",
       "      <td>Base</td>\n",
       "      <td>22.1</td>\n",
       "    </tr>\n",
       "    <tr>\n",
       "      <th>1</th>\n",
       "      <td>Scenario 1</td>\n",
       "      <td>22.1</td>\n",
       "    </tr>\n",
       "    <tr>\n",
       "      <th>2</th>\n",
       "      <td>Scenario 2</td>\n",
       "      <td>22.1</td>\n",
       "    </tr>\n",
       "  </tbody>\n",
       "</table>\n",
       "</div>"
      ],
      "text/plain": [
       "       source  Average VMT per Capita\n",
       "0        Base                    22.1\n",
       "1  Scenario 1                    22.1\n",
       "2  Scenario 2                    22.1"
      ]
     },
     "execution_count": 47,
     "metadata": {},
     "output_type": "execute_result"
    }
   ],
   "source": [
    "pd.options.display.float_format = '{:0,.1f}'.format\n",
    "df = load_data('7_vmt_per_person.csv', geog)\n",
    "df.drop('Unnamed: 0', axis=1, inplace=True)\n",
    "df.reset_index(inplace=True, drop=True)\n",
    "df[['source','Average VMT per Capita']]"
   ]
  },
  {
   "cell_type": "markdown",
   "metadata": {},
   "source": [
    "# Trips per Person"
   ]
  },
  {
   "cell_type": "code",
   "execution_count": 54,
   "metadata": {},
   "outputs": [
    {
     "data": {
      "text/html": [
       "<div>\n",
       "<style scoped>\n",
       "    .dataframe tbody tr th:only-of-type {\n",
       "        vertical-align: middle;\n",
       "    }\n",
       "\n",
       "    .dataframe tbody tr th {\n",
       "        vertical-align: top;\n",
       "    }\n",
       "\n",
       "    .dataframe thead th {\n",
       "        text-align: right;\n",
       "    }\n",
       "</style>\n",
       "<table border=\"1\" class=\"dataframe\">\n",
       "  <thead>\n",
       "    <tr style=\"text-align: right;\">\n",
       "      <th></th>\n",
       "      <th>source</th>\n",
       "      <th>Total Trips per Capita</th>\n",
       "    </tr>\n",
       "  </thead>\n",
       "  <tbody>\n",
       "    <tr>\n",
       "      <th>0</th>\n",
       "      <td>Base</td>\n",
       "      <td>4.0</td>\n",
       "    </tr>\n",
       "    <tr>\n",
       "      <th>1</th>\n",
       "      <td>Scenario 1</td>\n",
       "      <td>4.0</td>\n",
       "    </tr>\n",
       "    <tr>\n",
       "      <th>2</th>\n",
       "      <td>Scenario 2</td>\n",
       "      <td>4.0</td>\n",
       "    </tr>\n",
       "  </tbody>\n",
       "</table>\n",
       "</div>"
      ],
      "text/plain": [
       "       source  Total Trips per Capita\n",
       "0        Base                     4.0\n",
       "1  Scenario 1                     4.0\n",
       "2  Scenario 2                     4.0"
      ]
     },
     "execution_count": 54,
     "metadata": {},
     "output_type": "execute_result"
    }
   ],
   "source": [
    "df = load_data('8_trips_per_person.csv', geog)\n",
    "df = df[df['Unnamed: 0'] == 'Model']\n",
    "df.drop('Unnamed: 0', axis=1, inplace=True)\n",
    "df.reset_index(inplace=True, drop=True)\n",
    "df[['source','Total Trips per Capita']]"
   ]
  },
  {
   "cell_type": "markdown",
   "metadata": {},
   "source": [
    "# Aveage Trip Distance\n",
    "by Purpose"
   ]
  },
  {
   "cell_type": "code",
   "execution_count": 67,
   "metadata": {},
   "outputs": [
    {
     "data": {
      "text/html": [
       "<div>\n",
       "<style scoped>\n",
       "    .dataframe tbody tr th:only-of-type {\n",
       "        vertical-align: middle;\n",
       "    }\n",
       "\n",
       "    .dataframe tbody tr th {\n",
       "        vertical-align: top;\n",
       "    }\n",
       "\n",
       "    .dataframe thead th {\n",
       "        text-align: right;\n",
       "    }\n",
       "</style>\n",
       "<table border=\"1\" class=\"dataframe\">\n",
       "  <thead>\n",
       "    <tr style=\"text-align: right;\">\n",
       "      <th>source</th>\n",
       "      <th>Base</th>\n",
       "      <th>Scenario 1</th>\n",
       "      <th>Scenario 2</th>\n",
       "    </tr>\n",
       "    <tr>\n",
       "      <th>Trip Purpose</th>\n",
       "      <th></th>\n",
       "      <th></th>\n",
       "      <th></th>\n",
       "    </tr>\n",
       "  </thead>\n",
       "  <tbody>\n",
       "    <tr>\n",
       "      <th>All Trips</th>\n",
       "      <td>5.7</td>\n",
       "      <td>5.7</td>\n",
       "      <td>5.7</td>\n",
       "    </tr>\n",
       "    <tr>\n",
       "      <th>Change Mode</th>\n",
       "      <td>8.7</td>\n",
       "      <td>8.7</td>\n",
       "      <td>8.7</td>\n",
       "    </tr>\n",
       "    <tr>\n",
       "      <th>Escort</th>\n",
       "      <td>5.6</td>\n",
       "      <td>5.6</td>\n",
       "      <td>5.6</td>\n",
       "    </tr>\n",
       "    <tr>\n",
       "      <th>Home</th>\n",
       "      <td>5.9</td>\n",
       "      <td>5.9</td>\n",
       "      <td>5.9</td>\n",
       "    </tr>\n",
       "    <tr>\n",
       "      <th>Meal</th>\n",
       "      <td>4.7</td>\n",
       "      <td>4.7</td>\n",
       "      <td>4.7</td>\n",
       "    </tr>\n",
       "    <tr>\n",
       "      <th>Personal Business</th>\n",
       "      <td>4.8</td>\n",
       "      <td>4.8</td>\n",
       "      <td>4.8</td>\n",
       "    </tr>\n",
       "    <tr>\n",
       "      <th>School</th>\n",
       "      <td>3.6</td>\n",
       "      <td>3.6</td>\n",
       "      <td>3.6</td>\n",
       "    </tr>\n",
       "    <tr>\n",
       "      <th>Shopping</th>\n",
       "      <td>4.1</td>\n",
       "      <td>4.1</td>\n",
       "      <td>4.1</td>\n",
       "    </tr>\n",
       "    <tr>\n",
       "      <th>Social</th>\n",
       "      <td>4.3</td>\n",
       "      <td>4.3</td>\n",
       "      <td>4.3</td>\n",
       "    </tr>\n",
       "    <tr>\n",
       "      <th>Work</th>\n",
       "      <td>8.5</td>\n",
       "      <td>8.5</td>\n",
       "      <td>8.5</td>\n",
       "    </tr>\n",
       "  </tbody>\n",
       "</table>\n",
       "</div>"
      ],
      "text/plain": [
       "source             Base  Scenario 1  Scenario 2\n",
       "Trip Purpose                                   \n",
       "All Trips           5.7         5.7         5.7\n",
       "Change Mode         8.7         8.7         8.7\n",
       "Escort              5.6         5.6         5.6\n",
       "Home                5.9         5.9         5.9\n",
       "Meal                4.7         4.7         4.7\n",
       "Personal Business   4.8         4.8         4.8\n",
       "School              3.6         3.6         3.6\n",
       "Shopping            4.1         4.1         4.1\n",
       "Social              4.3         4.3         4.3\n",
       "Work                8.5         8.5         8.5"
      ]
     },
     "execution_count": 67,
     "metadata": {},
     "output_type": "execute_result"
    },
    {
     "data": {
      "image/png": "[encoded data removed]",
      "text/plain": [
       "<Figure size 432x288 with 1 Axes>"
      ]
     },
     "metadata": {
      "needs_background": "light"
     },
     "output_type": "display_data"
    }
   ],
   "source": [
    "df = load_data('9_trip_distance_purpose.csv', geog)\n",
    "df = df.pivot_table(index='Trip Purpose', columns='source', aggfunc='sum', values='Model')\n",
    "df.plot(kind='barh', alpha=0.6).invert_yaxis()\n",
    "df"
   ]
  },
  {
   "cell_type": "markdown",
   "metadata": {},
   "source": [
    "# Average Trip Distance\n",
    "By Mode"
   ]
  },
  {
   "cell_type": "code",
   "execution_count": 74,
   "metadata": {},
   "outputs": [
    {
     "data": {
      "text/html": [
       "<div>\n",
       "<style scoped>\n",
       "    .dataframe tbody tr th:only-of-type {\n",
       "        vertical-align: middle;\n",
       "    }\n",
       "\n",
       "    .dataframe tbody tr th {\n",
       "        vertical-align: top;\n",
       "    }\n",
       "\n",
       "    .dataframe thead th {\n",
       "        text-align: right;\n",
       "    }\n",
       "</style>\n",
       "<table border=\"1\" class=\"dataframe\">\n",
       "  <thead>\n",
       "    <tr style=\"text-align: right;\">\n",
       "      <th>source</th>\n",
       "      <th>Base</th>\n",
       "      <th>Scenario 1</th>\n",
       "      <th>Scenario 2</th>\n",
       "    </tr>\n",
       "    <tr>\n",
       "      <th>Trip Mode</th>\n",
       "      <th></th>\n",
       "      <th></th>\n",
       "      <th></th>\n",
       "    </tr>\n",
       "  </thead>\n",
       "  <tbody>\n",
       "    <tr>\n",
       "      <th>All Trips</th>\n",
       "      <td>5.7</td>\n",
       "      <td>5.7</td>\n",
       "      <td>5.7</td>\n",
       "    </tr>\n",
       "    <tr>\n",
       "      <th>Bike</th>\n",
       "      <td>5.1</td>\n",
       "      <td>5.1</td>\n",
       "      <td>5.1</td>\n",
       "    </tr>\n",
       "    <tr>\n",
       "      <th>HOV2</th>\n",
       "      <td>5.7</td>\n",
       "      <td>5.7</td>\n",
       "      <td>5.7</td>\n",
       "    </tr>\n",
       "    <tr>\n",
       "      <th>HOV3+</th>\n",
       "      <td>5.9</td>\n",
       "      <td>5.9</td>\n",
       "      <td>5.9</td>\n",
       "    </tr>\n",
       "    <tr>\n",
       "      <th>SOV</th>\n",
       "      <td>7.0</td>\n",
       "      <td>7.0</td>\n",
       "      <td>7.0</td>\n",
       "    </tr>\n",
       "    <tr>\n",
       "      <th>School Bus</th>\n",
       "      <td>3.2</td>\n",
       "      <td>3.2</td>\n",
       "      <td>3.2</td>\n",
       "    </tr>\n",
       "    <tr>\n",
       "      <th>Transit</th>\n",
       "      <td>8.6</td>\n",
       "      <td>8.6</td>\n",
       "      <td>8.6</td>\n",
       "    </tr>\n",
       "    <tr>\n",
       "      <th>Walk</th>\n",
       "      <td>1.0</td>\n",
       "      <td>1.0</td>\n",
       "      <td>1.0</td>\n",
       "    </tr>\n",
       "  </tbody>\n",
       "</table>\n",
       "</div>"
      ],
      "text/plain": [
       "source      Base  Scenario 1  Scenario 2\n",
       "Trip Mode                               \n",
       "All Trips    5.7         5.7         5.7\n",
       "Bike         5.1         5.1         5.1\n",
       "HOV2         5.7         5.7         5.7\n",
       "HOV3+        5.9         5.9         5.9\n",
       "SOV          7.0         7.0         7.0\n",
       "School Bus   3.2         3.2         3.2\n",
       "Transit      8.6         8.6         8.6\n",
       "Walk         1.0         1.0         1.0"
      ]
     },
     "execution_count": 74,
     "metadata": {},
     "output_type": "execute_result"
    },
    {
     "data": {
      "image/png": "[encoded data removed]",
      "text/plain": [
       "<Figure size 432x288 with 1 Axes>"
      ]
     },
     "metadata": {
      "needs_background": "light"
     },
     "output_type": "display_data"
    }
   ],
   "source": [
    "df = load_data('10_trip_distance_mode.csv', geog)\n",
    "df = df.pivot_table(index='Trip Mode', columns='source', aggfunc='sum', values='Model')\n",
    "df.plot(kind='barh', alpha=0.6).invert_yaxis()\n",
    "df"
   ]
  },
  {
   "cell_type": "markdown",
   "metadata": {},
   "source": [
    "# Transit Boardings"
   ]
  },
  {
   "cell_type": "code",
   "execution_count": 78,
   "metadata": {},
   "outputs": [
    {
     "data": {
      "text/html": [
       "<div>\n",
       "<style scoped>\n",
       "    .dataframe tbody tr th:only-of-type {\n",
       "        vertical-align: middle;\n",
       "    }\n",
       "\n",
       "    .dataframe tbody tr th {\n",
       "        vertical-align: top;\n",
       "    }\n",
       "\n",
       "    .dataframe thead th {\n",
       "        text-align: right;\n",
       "    }\n",
       "</style>\n",
       "<table border=\"1\" class=\"dataframe\">\n",
       "  <thead>\n",
       "    <tr style=\"text-align: right;\">\n",
       "      <th>source</th>\n",
       "      <th>Base</th>\n",
       "      <th>Scenario 1</th>\n",
       "      <th>Scenario 2</th>\n",
       "    </tr>\n",
       "    <tr>\n",
       "      <th>agency_name</th>\n",
       "      <th></th>\n",
       "      <th></th>\n",
       "      <th></th>\n",
       "    </tr>\n",
       "  </thead>\n",
       "  <tbody>\n",
       "    <tr>\n",
       "      <th>Community Transit</th>\n",
       "      <td>34,180.7</td>\n",
       "      <td>34,180.7</td>\n",
       "      <td>34,180.7</td>\n",
       "    </tr>\n",
       "    <tr>\n",
       "      <th>Everett Transit</th>\n",
       "      <td>5,440.6</td>\n",
       "      <td>5,440.6</td>\n",
       "      <td>5,440.6</td>\n",
       "    </tr>\n",
       "    <tr>\n",
       "      <th>King County Metro</th>\n",
       "      <td>409,432.7</td>\n",
       "      <td>409,432.7</td>\n",
       "      <td>409,432.7</td>\n",
       "    </tr>\n",
       "    <tr>\n",
       "      <th>Kitsap Transit</th>\n",
       "      <td>15,681.9</td>\n",
       "      <td>15,681.9</td>\n",
       "      <td>15,681.9</td>\n",
       "    </tr>\n",
       "    <tr>\n",
       "      <th>Pierce Transit</th>\n",
       "      <td>33,655.1</td>\n",
       "      <td>33,655.1</td>\n",
       "      <td>33,655.1</td>\n",
       "    </tr>\n",
       "    <tr>\n",
       "      <th>Sound Transit</th>\n",
       "      <td>157,902.8</td>\n",
       "      <td>157,902.8</td>\n",
       "      <td>157,902.8</td>\n",
       "    </tr>\n",
       "    <tr>\n",
       "      <th>Washington Ferries</th>\n",
       "      <td>10,795.5</td>\n",
       "      <td>10,795.5</td>\n",
       "      <td>10,795.5</td>\n",
       "    </tr>\n",
       "    <tr>\n",
       "      <th>Region Total</th>\n",
       "      <td>667,089.3</td>\n",
       "      <td>667,089.3</td>\n",
       "      <td>667,089.3</td>\n",
       "    </tr>\n",
       "  </tbody>\n",
       "</table>\n",
       "</div>"
      ],
      "text/plain": [
       "source                  Base  Scenario 1  Scenario 2\n",
       "agency_name                                         \n",
       "Community Transit   34,180.7    34,180.7    34,180.7\n",
       "Everett Transit      5,440.6     5,440.6     5,440.6\n",
       "King County Metro  409,432.7   409,432.7   409,432.7\n",
       "Kitsap Transit      15,681.9    15,681.9    15,681.9\n",
       "Pierce Transit      33,655.1    33,655.1    33,655.1\n",
       "Sound Transit      157,902.8   157,902.8   157,902.8\n",
       "Washington Ferries  10,795.5    10,795.5    10,795.5\n",
       "Region Total       667,089.3   667,089.3   667,089.3"
      ]
     },
     "execution_count": 78,
     "metadata": {},
     "output_type": "execute_result"
    },
    {
     "data": {
      "image/png": "[encoded data removed]",
      "text/plain": [
       "<Figure size 432x288 with 1 Axes>"
      ]
     },
     "metadata": {
      "needs_background": "light"
     },
     "output_type": "display_data"
    }
   ],
   "source": [
    "df = load_data('11_transit_boardings.csv', geog)\n",
    "df = df.pivot_table(index='agency_name', columns='source', aggfunc='sum', values='boardings')\n",
    "df = df.reindex(index = ['Community Transit','Everett Transit','King County Metro',\n",
    "                        'Kitsap Transit','Pierce Transit','Sound Transit','Washington Ferries','Region Total'])\n",
    "df.plot(kind='barh', alpha=0.6).invert_yaxis()\n",
    "df"
   ]
  },
  {
   "cell_type": "markdown",
   "metadata": {},
   "source": [
    "# Trip Mode Share"
   ]
  },
  {
   "cell_type": "code",
   "execution_count": 81,
   "metadata": {},
   "outputs": [
    {
     "data": {
      "text/html": [
       "<div>\n",
       "<style scoped>\n",
       "    .dataframe tbody tr th:only-of-type {\n",
       "        vertical-align: middle;\n",
       "    }\n",
       "\n",
       "    .dataframe tbody tr th {\n",
       "        vertical-align: top;\n",
       "    }\n",
       "\n",
       "    .dataframe thead th {\n",
       "        text-align: right;\n",
       "    }\n",
       "</style>\n",
       "<table border=\"1\" class=\"dataframe\">\n",
       "  <thead>\n",
       "    <tr style=\"text-align: right;\">\n",
       "      <th>source</th>\n",
       "      <th>Base</th>\n",
       "      <th>Scenario 1</th>\n",
       "      <th>Scenario 2</th>\n",
       "    </tr>\n",
       "    <tr>\n",
       "      <th>mode</th>\n",
       "      <th></th>\n",
       "      <th></th>\n",
       "      <th></th>\n",
       "    </tr>\n",
       "  </thead>\n",
       "  <tbody>\n",
       "    <tr>\n",
       "      <th>Bike</th>\n",
       "      <td>1.4%</td>\n",
       "      <td>1.4%</td>\n",
       "      <td>1.4%</td>\n",
       "    </tr>\n",
       "    <tr>\n",
       "      <th>HOV2</th>\n",
       "      <td>23.5%</td>\n",
       "      <td>23.5%</td>\n",
       "      <td>23.5%</td>\n",
       "    </tr>\n",
       "    <tr>\n",
       "      <th>HOV3+</th>\n",
       "      <td>15.5%</td>\n",
       "      <td>15.5%</td>\n",
       "      <td>15.5%</td>\n",
       "    </tr>\n",
       "    <tr>\n",
       "      <th>SOV</th>\n",
       "      <td>41.5%</td>\n",
       "      <td>41.5%</td>\n",
       "      <td>41.5%</td>\n",
       "    </tr>\n",
       "    <tr>\n",
       "      <th>School Bus</th>\n",
       "      <td>1.9%</td>\n",
       "      <td>1.9%</td>\n",
       "      <td>1.9%</td>\n",
       "    </tr>\n",
       "    <tr>\n",
       "      <th>TNC</th>\n",
       "      <td>1.0%</td>\n",
       "      <td>1.0%</td>\n",
       "      <td>1.0%</td>\n",
       "    </tr>\n",
       "    <tr>\n",
       "      <th>Transit</th>\n",
       "      <td>3.0%</td>\n",
       "      <td>3.0%</td>\n",
       "      <td>3.0%</td>\n",
       "    </tr>\n",
       "    <tr>\n",
       "      <th>Walk</th>\n",
       "      <td>12.2%</td>\n",
       "      <td>12.2%</td>\n",
       "      <td>12.2%</td>\n",
       "    </tr>\n",
       "  </tbody>\n",
       "</table>\n",
       "</div>"
      ],
      "text/plain": [
       "source      Base  Scenario 1  Scenario 2\n",
       "mode                                    \n",
       "Bike        1.4%        1.4%        1.4%\n",
       "HOV2       23.5%       23.5%       23.5%\n",
       "HOV3+      15.5%       15.5%       15.5%\n",
       "SOV        41.5%       41.5%       41.5%\n",
       "School Bus  1.9%        1.9%        1.9%\n",
       "TNC         1.0%        1.0%        1.0%\n",
       "Transit     3.0%        3.0%        3.0%\n",
       "Walk       12.2%       12.2%       12.2%"
      ]
     },
     "execution_count": 81,
     "metadata": {},
     "output_type": "execute_result"
    },
    {
     "data": {
      "image/png": "[encoded data removed]",
      "text/plain": [
       "<Figure size 432x288 with 1 Axes>"
      ]
     },
     "metadata": {
      "needs_background": "light"
     },
     "output_type": "display_data"
    }
   ],
   "source": [
    "pd.options.display.float_format = '{:0,.1%}'.format\n",
    "df = load_data('12_trip_mode_share.csv', geog)\n",
    "df = df.pivot_table(index='mode', columns='source', aggfunc='sum', values='Model')\n",
    "df.plot(kind='barh', alpha=0.6).invert_yaxis()\n",
    "df"
   ]
  },
  {
   "cell_type": "markdown",
   "metadata": {},
   "source": [
    "# Home-Based Work Trip Mode Share"
   ]
  },
  {
   "cell_type": "code",
   "execution_count": 85,
   "metadata": {},
   "outputs": [
    {
     "data": {
      "text/html": [
       "<div>\n",
       "<style scoped>\n",
       "    .dataframe tbody tr th:only-of-type {\n",
       "        vertical-align: middle;\n",
       "    }\n",
       "\n",
       "    .dataframe tbody tr th {\n",
       "        vertical-align: top;\n",
       "    }\n",
       "\n",
       "    .dataframe thead th {\n",
       "        text-align: right;\n",
       "    }\n",
       "</style>\n",
       "<table border=\"1\" class=\"dataframe\">\n",
       "  <thead>\n",
       "    <tr style=\"text-align: right;\">\n",
       "      <th>source</th>\n",
       "      <th>Base</th>\n",
       "      <th>Scenario 1</th>\n",
       "      <th>Scenario 2</th>\n",
       "    </tr>\n",
       "    <tr>\n",
       "      <th>mode</th>\n",
       "      <th></th>\n",
       "      <th></th>\n",
       "      <th></th>\n",
       "    </tr>\n",
       "  </thead>\n",
       "  <tbody>\n",
       "    <tr>\n",
       "      <th>10</th>\n",
       "      <td>0.9%</td>\n",
       "      <td>0.9%</td>\n",
       "      <td>0.9%</td>\n",
       "    </tr>\n",
       "    <tr>\n",
       "      <th>Bike</th>\n",
       "      <td>0.9%</td>\n",
       "      <td>0.9%</td>\n",
       "      <td>0.9%</td>\n",
       "    </tr>\n",
       "    <tr>\n",
       "      <th>HOV2</th>\n",
       "      <td>22.9%</td>\n",
       "      <td>22.9%</td>\n",
       "      <td>22.9%</td>\n",
       "    </tr>\n",
       "    <tr>\n",
       "      <th>HOV3+</th>\n",
       "      <td>15.8%</td>\n",
       "      <td>15.8%</td>\n",
       "      <td>15.8%</td>\n",
       "    </tr>\n",
       "    <tr>\n",
       "      <th>SOV</th>\n",
       "      <td>42.8%</td>\n",
       "      <td>42.8%</td>\n",
       "      <td>42.8%</td>\n",
       "    </tr>\n",
       "    <tr>\n",
       "      <th>School Bus</th>\n",
       "      <td>1.3%</td>\n",
       "      <td>1.3%</td>\n",
       "      <td>1.3%</td>\n",
       "    </tr>\n",
       "    <tr>\n",
       "      <th>TNC</th>\n",
       "      <td>0.3%</td>\n",
       "      <td>0.3%</td>\n",
       "      <td>0.3%</td>\n",
       "    </tr>\n",
       "    <tr>\n",
       "      <th>Transit</th>\n",
       "      <td>3.5%</td>\n",
       "      <td>3.5%</td>\n",
       "      <td>3.5%</td>\n",
       "    </tr>\n",
       "    <tr>\n",
       "      <th>Walk</th>\n",
       "      <td>11.5%</td>\n",
       "      <td>11.5%</td>\n",
       "      <td>11.5%</td>\n",
       "    </tr>\n",
       "  </tbody>\n",
       "</table>\n",
       "</div>"
      ],
      "text/plain": [
       "source      Base  Scenario 1  Scenario 2\n",
       "mode                                    \n",
       "10          0.9%        0.9%        0.9%\n",
       "Bike        0.9%        0.9%        0.9%\n",
       "HOV2       22.9%       22.9%       22.9%\n",
       "HOV3+      15.8%       15.8%       15.8%\n",
       "SOV        42.8%       42.8%       42.8%\n",
       "School Bus  1.3%        1.3%        1.3%\n",
       "TNC         0.3%        0.3%        0.3%\n",
       "Transit     3.5%        3.5%        3.5%\n",
       "Walk       11.5%       11.5%       11.5%"
      ]
     },
     "execution_count": 85,
     "metadata": {},
     "output_type": "execute_result"
    },
    {
     "data": {
      "image/png": "[encoded data removed]",
      "text/plain": [
       "<Figure size 432x288 with 1 Axes>"
      ]
     },
     "metadata": {
      "needs_background": "light"
     },
     "output_type": "display_data"
    }
   ],
   "source": [
    "pd.options.display.float_format = '{:0,.1%}'.format\n",
    "df = load_data('14_other_trip_mode_share.csv', geog)\n",
    "df = df.pivot_table(index='mode', columns='source', aggfunc='sum', values='share')\n",
    "df.plot(kind='barh', alpha=0.6).invert_yaxis()\n",
    "df"
   ]
  }
 ],
 "metadata": {
  "kernelspec": {
   "display_name": "Python 3",
   "language": "python",
   "name": "python3"
  },
  "language_info": {
   "codemirror_mode": {
    "name": "ipython",
    "version": 3
   },
   "file_extension": ".py",
   "mimetype": "text/x-python",
   "name": "python",
   "nbconvert_exporter": "python",
   "pygments_lexer": "ipython3",
   "version": "3.8.5"
  }
 },
 "nbformat": 4,
 "nbformat_minor": 4
}
