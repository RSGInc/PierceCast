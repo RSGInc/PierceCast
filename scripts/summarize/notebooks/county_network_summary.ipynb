{
 "cells": [
  {
   "cell_type": "code",
   "execution_count": 1,
   "metadata": {
    "execution": {
     "iopub.execute_input": "2021-06-10T22:01:28.576834Z",
     "iopub.status.busy": "2021-06-10T22:01:28.576834Z",
     "iopub.status.idle": "2021-06-10T22:01:30.754964Z",
     "shell.execute_reply": "2021-06-10T22:01:30.754964Z"
    }
   },
   "outputs": [],
   "source": [
    "import pandas as pd\n",
    "import geopandas as gpd\n",
    "import seaborn as sns\n",
    "from itertools import cycle, islice"
   ]
  },
  {
   "cell_type": "code",
   "execution_count": 2,
   "metadata": {
    "execution": {
     "iopub.execute_input": "2021-06-10T22:01:30.754964Z",
     "iopub.status.busy": "2021-06-10T22:01:30.754964Z",
     "iopub.status.idle": "2021-06-10T22:01:30.770659Z",
     "shell.execute_reply": "2021-06-10T22:01:30.770659Z"
    }
   },
   "outputs": [],
   "source": [
    "# set chart style\n",
    "sns.set_style(\"dark\")\n",
    "sns.set_context(\"notebook\", font_scale=1.5, \n",
    "                rc={\"lines.linewidth\": 1.5})\n",
    "colors = ['#91268F','#F05A28','#8CC63E','#00A7A0','#4C4C4C',\n",
    "          '#BFE9E7','#7a2700']\n",
    "sns.set(font=\"Pragmatica\")"
   ]
  },
  {
   "cell_type": "code",
   "execution_count": 3,
   "metadata": {
    "execution": {
     "iopub.execute_input": "2021-06-10T22:01:30.786272Z",
     "iopub.status.busy": "2021-06-10T22:01:30.786272Z",
     "iopub.status.idle": "2021-06-10T22:01:36.978236Z",
     "shell.execute_reply": "2021-06-10T22:01:36.978236Z"
    }
   },
   "outputs": [],
   "source": [
    "df = pd.read_csv(r'..\\..\\..\\outputs\\network\\network_results.csv')\n",
    "\n",
    "# Congested network components by time of day\n",
    "df.columns\n",
    "\n",
    "# Get freeflow from 20to5 period\n",
    "\n",
    "# Exclude trips taken on non-designated facilities (facility_type == 0)\n",
    "# These are artificial (weave lanes to connect HOV) or for non-auto uses \n",
    "df = df[df['data3'] != 0]    # data3 represents facility_type\n",
    "\n",
    "# calculate total link VMT and VHT\n",
    "df['VMT'] = df['@tveh']*df['length']\n",
    "df['VHT'] = df['@tveh']*df['auto_time']/60\n",
    "\n",
    "# Define facility type\n",
    "df.loc[df['data3'].isin([1,2]), 'facility_type'] = 'highway'\n",
    "df.loc[df['data3'].isin([3,4,6]), 'facility_type'] = 'arterial'\n",
    "df.loc[df['data3'].isin([5]), 'facility_type'] = 'connector'\n",
    "\n",
    "# Calculate delay\n",
    "# Select links from overnight time of day\n",
    "delay_df = df.loc[df['tod'] == '20to5'][['ij','auto_time']]\n",
    "delay_df.rename(columns={'auto_time':'freeflow_time'}, inplace=True)\n",
    "\n",
    "# Merge delay field back onto network link df\n",
    "df = pd.merge(df, delay_df, on='ij', how='left')\n",
    "\n",
    "# Calcualte hourly delay\n",
    "df['total_delay'] = ((df['auto_time']-df['freeflow_time'])*df['@tveh'])/60    # sum of (volume)*(travtime diff from freeflow)\n",
    "\n",
    "# Calcualte speed as a percent of freeflow\n",
    "df['flow_index'] = df['auto_time']/df['freeflow_time']\n",
    "\n",
    "df['county'] =df['@countyid'].map({33: 'King',\n",
    "                                      35: 'Kitsap',\n",
    "                                      53: 'Pierce',\n",
    "                                      61: 'Snohomish'})\n",
    "\n",
    "# FGTS\n",
    "\n",
    "# Non-motorized extent in geographies\n",
    "\n",
    "# High Capacity Transit Network"
   ]
  },
  {
   "cell_type": "code",
   "execution_count": 4,
   "metadata": {
    "execution": {
     "iopub.execute_input": "2021-06-10T22:01:36.993853Z",
     "iopub.status.busy": "2021-06-10T22:01:36.978236Z",
     "iopub.status.idle": "2021-06-10T22:01:37.087584Z",
     "shell.execute_reply": "2021-06-10T22:01:37.087584Z"
    }
   },
   "outputs": [],
   "source": [
    "df['speed'] = df['length']/df['auto_time']*60\n",
    "df['congestion_index'] = df['speed']/df['data2']\n",
    "df['congestion_index'] = df['congestion_index'].clip(0,1)\n",
    "df['congestion_category'] = pd.cut(df['congestion_index'], bins=[0,.25,.5,.7,1], labels=['Severe','Heavy','Moderate','Light'])"
   ]
  },
  {
   "cell_type": "markdown",
   "metadata": {},
   "source": [
    "# Congestion by County Tables\n",
    "### Total VMT & Percent of County VMT by Congestion Level\n",
    "\n",
    "- **Severe: < 25% Speed Limit** (e.g., less than 15 mph on a road with speed limit of 60 mph)\n",
    "- **Heavy: 25-50% Speed Limit** (e.g., 15-30 mph on a road with speed limit of 60 mph)\n",
    "- **Moderate: 50-70% Speed Limit** (e.g, 30-42 mph on a road with speed limit of 60 mph)\n",
    "\n",
    "#### All Day"
   ]
  },
  {
   "cell_type": "code",
   "execution_count": 5,
   "metadata": {
    "execution": {
     "iopub.execute_input": "2021-06-10T22:01:37.087584Z",
     "iopub.status.busy": "2021-06-10T22:01:37.087584Z",
     "iopub.status.idle": "2021-06-10T22:01:37.434212Z",
     "shell.execute_reply": "2021-06-10T22:01:37.434212Z"
    }
   },
   "outputs": [
    {
     "data": {
      "text/html": [
       "<div>\n",
       "<style scoped>\n",
       "    .dataframe tbody tr th:only-of-type {\n",
       "        vertical-align: middle;\n",
       "    }\n",
       "\n",
       "    .dataframe tbody tr th {\n",
       "        vertical-align: top;\n",
       "    }\n",
       "\n",
       "    .dataframe thead th {\n",
       "        text-align: right;\n",
       "    }\n",
       "</style>\n",
       "<table border=\"1\" class=\"dataframe\">\n",
       "  <thead>\n",
       "    <tr style=\"text-align: right;\">\n",
       "      <th></th>\n",
       "      <th>King</th>\n",
       "      <th>Kitsap</th>\n",
       "      <th>Pierce</th>\n",
       "      <th>Snohomish</th>\n",
       "    </tr>\n",
       "  </thead>\n",
       "  <tbody>\n",
       "    <tr>\n",
       "      <th>Light</th>\n",
       "      <td>36,565,462</td>\n",
       "      <td>4,552,628</td>\n",
       "      <td>15,512,433</td>\n",
       "      <td>14,476,750</td>\n",
       "    </tr>\n",
       "    <tr>\n",
       "      <th>Moderate</th>\n",
       "      <td>6,556,035</td>\n",
       "      <td>118,710</td>\n",
       "      <td>2,249,319</td>\n",
       "      <td>1,785,834</td>\n",
       "    </tr>\n",
       "    <tr>\n",
       "      <th>Heavy</th>\n",
       "      <td>4,178,137</td>\n",
       "      <td>71,420</td>\n",
       "      <td>1,107,101</td>\n",
       "      <td>951,764</td>\n",
       "    </tr>\n",
       "    <tr>\n",
       "      <th>Severe</th>\n",
       "      <td>445,568</td>\n",
       "      <td>36,374</td>\n",
       "      <td>153,762</td>\n",
       "      <td>74,595</td>\n",
       "    </tr>\n",
       "  </tbody>\n",
       "</table>\n",
       "</div>"
      ],
      "text/plain": [
       "               King    Kitsap     Pierce  Snohomish\n",
       "Light    36,565,462 4,552,628 15,512,433 14,476,750\n",
       "Moderate  6,556,035   118,710  2,249,319  1,785,834\n",
       "Heavy     4,178,137    71,420  1,107,101    951,764\n",
       "Severe      445,568    36,374    153,762     74,595"
      ]
     },
     "execution_count": 5,
     "metadata": {},
     "output_type": "execute_result"
    }
   ],
   "source": [
    "# Percent of VMT by congestion category\n",
    "pd.options.display.float_format = '{:0,.0f}'.format\n",
    "_df = df.pivot_table(index='congestion_category',columns='county',\n",
    "               aggfunc='sum',values='VMT')\n",
    "_df = _df.reindex(['Light','Moderate','Heavy','Severe'])\n",
    "_df.index.name = None\n",
    "_df.columns.name = None\n",
    "_df"
   ]
  },
  {
   "cell_type": "code",
   "execution_count": 6,
   "metadata": {
    "execution": {
     "iopub.execute_input": "2021-06-10T22:01:37.449831Z",
     "iopub.status.busy": "2021-06-10T22:01:37.449831Z",
     "iopub.status.idle": "2021-06-10T22:01:37.465453Z",
     "shell.execute_reply": "2021-06-10T22:01:37.465453Z"
    }
   },
   "outputs": [
    {
     "data": {
      "text/html": [
       "<div>\n",
       "<style scoped>\n",
       "    .dataframe tbody tr th:only-of-type {\n",
       "        vertical-align: middle;\n",
       "    }\n",
       "\n",
       "    .dataframe tbody tr th {\n",
       "        vertical-align: top;\n",
       "    }\n",
       "\n",
       "    .dataframe thead th {\n",
       "        text-align: right;\n",
       "    }\n",
       "</style>\n",
       "<table border=\"1\" class=\"dataframe\">\n",
       "  <thead>\n",
       "    <tr style=\"text-align: right;\">\n",
       "      <th></th>\n",
       "      <th>King</th>\n",
       "      <th>Kitsap</th>\n",
       "      <th>Pierce</th>\n",
       "      <th>Snohomish</th>\n",
       "    </tr>\n",
       "  </thead>\n",
       "  <tbody>\n",
       "    <tr>\n",
       "      <th>Light</th>\n",
       "      <td>76.6%</td>\n",
       "      <td>95.3%</td>\n",
       "      <td>81.5%</td>\n",
       "      <td>83.7%</td>\n",
       "    </tr>\n",
       "    <tr>\n",
       "      <th>Moderate</th>\n",
       "      <td>13.7%</td>\n",
       "      <td>2.5%</td>\n",
       "      <td>11.8%</td>\n",
       "      <td>10.3%</td>\n",
       "    </tr>\n",
       "    <tr>\n",
       "      <th>Heavy</th>\n",
       "      <td>8.8%</td>\n",
       "      <td>1.5%</td>\n",
       "      <td>5.8%</td>\n",
       "      <td>5.5%</td>\n",
       "    </tr>\n",
       "    <tr>\n",
       "      <th>Severe</th>\n",
       "      <td>0.9%</td>\n",
       "      <td>0.8%</td>\n",
       "      <td>0.8%</td>\n",
       "      <td>0.4%</td>\n",
       "    </tr>\n",
       "  </tbody>\n",
       "</table>\n",
       "</div>"
      ],
      "text/plain": [
       "          King  Kitsap  Pierce  Snohomish\n",
       "Light    76.6%   95.3%   81.5%      83.7%\n",
       "Moderate 13.7%    2.5%   11.8%      10.3%\n",
       "Heavy     8.8%    1.5%    5.8%       5.5%\n",
       "Severe    0.9%    0.8%    0.8%       0.4%"
      ]
     },
     "execution_count": 6,
     "metadata": {},
     "output_type": "execute_result"
    }
   ],
   "source": [
    "pd.options.display.float_format = '{:0,.1%}'.format\n",
    "_df = _df/_df.sum(axis=0)\n",
    "_df"
   ]
  },
  {
   "cell_type": "code",
   "execution_count": 7,
   "metadata": {
    "execution": {
     "iopub.execute_input": "2021-06-10T22:01:37.465453Z",
     "iopub.status.busy": "2021-06-10T22:01:37.465453Z",
     "iopub.status.idle": "2021-06-10T22:01:37.746636Z",
     "shell.execute_reply": "2021-06-10T22:01:37.746636Z"
    }
   },
   "outputs": [
    {
     "data": {
      "image/png": "[encoded data removed]",
      "text/plain": [
       "<Figure size 576x432 with 1 Axes>"
      ]
     },
     "metadata": {},
     "output_type": "display_data"
    }
   ],
   "source": [
    "my_colors = list(islice(cycle(colors), None, len(_df)))\n",
    "ax = _df.plot(kind='barh', alpha=0.6, color=colors, figsize=(8,6))\n",
    "ax.invert_yaxis()\n",
    "ax.legend(loc='lower right');"
   ]
  },
  {
   "cell_type": "markdown",
   "metadata": {},
   "source": [
    "#### AM Peak (7 to 8 AM)"
   ]
  },
  {
   "cell_type": "code",
   "execution_count": 8,
   "metadata": {
    "execution": {
     "iopub.execute_input": "2021-06-10T22:01:37.809121Z",
     "iopub.status.busy": "2021-06-10T22:01:37.809121Z",
     "iopub.status.idle": "2021-06-10T22:01:37.871605Z",
     "shell.execute_reply": "2021-06-10T22:01:37.871605Z"
    }
   },
   "outputs": [
    {
     "data": {
      "text/html": [
       "<div>\n",
       "<style scoped>\n",
       "    .dataframe tbody tr th:only-of-type {\n",
       "        vertical-align: middle;\n",
       "    }\n",
       "\n",
       "    .dataframe tbody tr th {\n",
       "        vertical-align: top;\n",
       "    }\n",
       "\n",
       "    .dataframe thead th {\n",
       "        text-align: right;\n",
       "    }\n",
       "</style>\n",
       "<table border=\"1\" class=\"dataframe\">\n",
       "  <thead>\n",
       "    <tr style=\"text-align: right;\">\n",
       "      <th></th>\n",
       "      <th>King</th>\n",
       "      <th>Kitsap</th>\n",
       "      <th>Pierce</th>\n",
       "      <th>Snohomish</th>\n",
       "    </tr>\n",
       "  </thead>\n",
       "  <tbody>\n",
       "    <tr>\n",
       "      <th>Light</th>\n",
       "      <td>2,191,019</td>\n",
       "      <td>337,491</td>\n",
       "      <td>945,818</td>\n",
       "      <td>909,972</td>\n",
       "    </tr>\n",
       "    <tr>\n",
       "      <th>Moderate</th>\n",
       "      <td>652,921</td>\n",
       "      <td>14,538</td>\n",
       "      <td>266,489</td>\n",
       "      <td>229,613</td>\n",
       "    </tr>\n",
       "    <tr>\n",
       "      <th>Heavy</th>\n",
       "      <td>692,604</td>\n",
       "      <td>9,410</td>\n",
       "      <td>222,169</td>\n",
       "      <td>167,148</td>\n",
       "    </tr>\n",
       "    <tr>\n",
       "      <th>Severe</th>\n",
       "      <td>75,173</td>\n",
       "      <td>8,403</td>\n",
       "      <td>51,070</td>\n",
       "      <td>11,774</td>\n",
       "    </tr>\n",
       "  </tbody>\n",
       "</table>\n",
       "</div>"
      ],
      "text/plain": [
       "              King  Kitsap  Pierce  Snohomish\n",
       "Light    2,191,019 337,491 945,818    909,972\n",
       "Moderate   652,921  14,538 266,489    229,613\n",
       "Heavy      692,604   9,410 222,169    167,148\n",
       "Severe      75,173   8,403  51,070     11,774"
      ]
     },
     "execution_count": 8,
     "metadata": {},
     "output_type": "execute_result"
    }
   ],
   "source": [
    "pd.options.display.float_format = '{:0,.0f}'.format\n",
    "df_am = df[df['tod'] == '7to8']\n",
    "_df = df_am.pivot_table(index='congestion_category',columns='county',\n",
    "               aggfunc='sum',values='VMT')\n",
    "_df = _df.reindex(['Light','Moderate','Heavy','Severe'])\n",
    "_df.index.name = None\n",
    "_df.columns.name = None\n",
    "_df"
   ]
  },
  {
   "cell_type": "code",
   "execution_count": 9,
   "metadata": {
    "execution": {
     "iopub.execute_input": "2021-06-10T22:01:37.871605Z",
     "iopub.status.busy": "2021-06-10T22:01:37.871605Z",
     "iopub.status.idle": "2021-06-10T22:01:37.887225Z",
     "shell.execute_reply": "2021-06-10T22:01:37.887225Z"
    }
   },
   "outputs": [
    {
     "data": {
      "text/html": [
       "<div>\n",
       "<style scoped>\n",
       "    .dataframe tbody tr th:only-of-type {\n",
       "        vertical-align: middle;\n",
       "    }\n",
       "\n",
       "    .dataframe tbody tr th {\n",
       "        vertical-align: top;\n",
       "    }\n",
       "\n",
       "    .dataframe thead th {\n",
       "        text-align: right;\n",
       "    }\n",
       "</style>\n",
       "<table border=\"1\" class=\"dataframe\">\n",
       "  <thead>\n",
       "    <tr style=\"text-align: right;\">\n",
       "      <th></th>\n",
       "      <th>King</th>\n",
       "      <th>Kitsap</th>\n",
       "      <th>Pierce</th>\n",
       "      <th>Snohomish</th>\n",
       "    </tr>\n",
       "  </thead>\n",
       "  <tbody>\n",
       "    <tr>\n",
       "      <th>Light</th>\n",
       "      <td>60.7%</td>\n",
       "      <td>91.3%</td>\n",
       "      <td>63.7%</td>\n",
       "      <td>69.0%</td>\n",
       "    </tr>\n",
       "    <tr>\n",
       "      <th>Moderate</th>\n",
       "      <td>18.1%</td>\n",
       "      <td>3.9%</td>\n",
       "      <td>17.9%</td>\n",
       "      <td>17.4%</td>\n",
       "    </tr>\n",
       "    <tr>\n",
       "      <th>Heavy</th>\n",
       "      <td>19.2%</td>\n",
       "      <td>2.5%</td>\n",
       "      <td>15.0%</td>\n",
       "      <td>12.7%</td>\n",
       "    </tr>\n",
       "    <tr>\n",
       "      <th>Severe</th>\n",
       "      <td>2.1%</td>\n",
       "      <td>2.3%</td>\n",
       "      <td>3.4%</td>\n",
       "      <td>0.9%</td>\n",
       "    </tr>\n",
       "  </tbody>\n",
       "</table>\n",
       "</div>"
      ],
      "text/plain": [
       "          King  Kitsap  Pierce  Snohomish\n",
       "Light    60.7%   91.3%   63.7%      69.0%\n",
       "Moderate 18.1%    3.9%   17.9%      17.4%\n",
       "Heavy    19.2%    2.5%   15.0%      12.7%\n",
       "Severe    2.1%    2.3%    3.4%       0.9%"
      ]
     },
     "execution_count": 9,
     "metadata": {},
     "output_type": "execute_result"
    }
   ],
   "source": [
    "pd.options.display.float_format = '{:0,.1%}'.format\n",
    "_df = _df/_df.sum(axis=0)\n",
    "_df"
   ]
  },
  {
   "cell_type": "code",
   "execution_count": 10,
   "metadata": {
    "execution": {
     "iopub.execute_input": "2021-06-10T22:01:37.934088Z",
     "iopub.status.busy": "2021-06-10T22:01:37.902850Z",
     "iopub.status.idle": "2021-06-10T22:01:38.059064Z",
     "shell.execute_reply": "2021-06-10T22:01:38.059064Z"
    }
   },
   "outputs": [
    {
     "data": {
      "image/png": "[encoded data removed]",
      "text/plain": [
       "<Figure size 576x432 with 1 Axes>"
      ]
     },
     "metadata": {},
     "output_type": "display_data"
    }
   ],
   "source": [
    "my_colors = list(islice(cycle(colors), None, len(_df)))\n",
    "ax = _df.plot(kind='barh', alpha=0.6, color=colors, figsize=(8,6))\n",
    "ax.invert_yaxis()\n",
    "ax.legend(loc='lower right');"
   ]
  },
  {
   "cell_type": "markdown",
   "metadata": {},
   "source": [
    "#### PM Peak (5 to 6 PM)"
   ]
  },
  {
   "cell_type": "code",
   "execution_count": 11,
   "metadata": {
    "execution": {
     "iopub.execute_input": "2021-06-10T22:01:38.105931Z",
     "iopub.status.busy": "2021-06-10T22:01:38.105931Z",
     "iopub.status.idle": "2021-06-10T22:01:38.152724Z",
     "shell.execute_reply": "2021-06-10T22:01:38.152724Z"
    }
   },
   "outputs": [
    {
     "data": {
      "text/html": [
       "<div>\n",
       "<style scoped>\n",
       "    .dataframe tbody tr th:only-of-type {\n",
       "        vertical-align: middle;\n",
       "    }\n",
       "\n",
       "    .dataframe tbody tr th {\n",
       "        vertical-align: top;\n",
       "    }\n",
       "\n",
       "    .dataframe thead th {\n",
       "        text-align: right;\n",
       "    }\n",
       "</style>\n",
       "<table border=\"1\" class=\"dataframe\">\n",
       "  <thead>\n",
       "    <tr style=\"text-align: right;\">\n",
       "      <th></th>\n",
       "      <th>King</th>\n",
       "      <th>Kitsap</th>\n",
       "      <th>Pierce</th>\n",
       "      <th>Snohomish</th>\n",
       "    </tr>\n",
       "  </thead>\n",
       "  <tbody>\n",
       "    <tr>\n",
       "      <th>Light</th>\n",
       "      <td>2,451,116</td>\n",
       "      <td>383,842</td>\n",
       "      <td>1,063,526</td>\n",
       "      <td>1,018,808</td>\n",
       "    </tr>\n",
       "    <tr>\n",
       "      <th>Moderate</th>\n",
       "      <td>810,774</td>\n",
       "      <td>16,922</td>\n",
       "      <td>306,504</td>\n",
       "      <td>252,249</td>\n",
       "    </tr>\n",
       "    <tr>\n",
       "      <th>Heavy</th>\n",
       "      <td>681,939</td>\n",
       "      <td>4,853</td>\n",
       "      <td>223,945</td>\n",
       "      <td>166,762</td>\n",
       "    </tr>\n",
       "    <tr>\n",
       "      <th>Severe</th>\n",
       "      <td>83,106</td>\n",
       "      <td>7,783</td>\n",
       "      <td>16,157</td>\n",
       "      <td>16,471</td>\n",
       "    </tr>\n",
       "  </tbody>\n",
       "</table>\n",
       "</div>"
      ],
      "text/plain": [
       "              King  Kitsap    Pierce  Snohomish\n",
       "Light    2,451,116 383,842 1,063,526  1,018,808\n",
       "Moderate   810,774  16,922   306,504    252,249\n",
       "Heavy      681,939   4,853   223,945    166,762\n",
       "Severe      83,106   7,783    16,157     16,471"
      ]
     },
     "execution_count": 11,
     "metadata": {},
     "output_type": "execute_result"
    }
   ],
   "source": [
    "pd.options.display.float_format = '{:0,.0f}'.format\n",
    "df_am = df[df['tod'] == '17to18']\n",
    "_df = df_am.pivot_table(index='congestion_category',columns='county',\n",
    "               aggfunc='sum',values='VMT')\n",
    "_df = _df.reindex(['Light','Moderate','Heavy','Severe'])\n",
    "_df.index.name = None\n",
    "_df.columns.name = None\n",
    "_df"
   ]
  },
  {
   "cell_type": "code",
   "execution_count": 12,
   "metadata": {
    "execution": {
     "iopub.execute_input": "2021-06-10T22:01:38.168411Z",
     "iopub.status.busy": "2021-06-10T22:01:38.168411Z",
     "iopub.status.idle": "2021-06-10T22:01:38.184033Z",
     "shell.execute_reply": "2021-06-10T22:01:38.184033Z"
    }
   },
   "outputs": [
    {
     "data": {
      "text/html": [
       "<div>\n",
       "<style scoped>\n",
       "    .dataframe tbody tr th:only-of-type {\n",
       "        vertical-align: middle;\n",
       "    }\n",
       "\n",
       "    .dataframe tbody tr th {\n",
       "        vertical-align: top;\n",
       "    }\n",
       "\n",
       "    .dataframe thead th {\n",
       "        text-align: right;\n",
       "    }\n",
       "</style>\n",
       "<table border=\"1\" class=\"dataframe\">\n",
       "  <thead>\n",
       "    <tr style=\"text-align: right;\">\n",
       "      <th></th>\n",
       "      <th>King</th>\n",
       "      <th>Kitsap</th>\n",
       "      <th>Pierce</th>\n",
       "      <th>Snohomish</th>\n",
       "    </tr>\n",
       "  </thead>\n",
       "  <tbody>\n",
       "    <tr>\n",
       "      <th>Light</th>\n",
       "      <td>60.9%</td>\n",
       "      <td>92.9%</td>\n",
       "      <td>66.1%</td>\n",
       "      <td>70.1%</td>\n",
       "    </tr>\n",
       "    <tr>\n",
       "      <th>Moderate</th>\n",
       "      <td>20.1%</td>\n",
       "      <td>4.1%</td>\n",
       "      <td>19.0%</td>\n",
       "      <td>17.3%</td>\n",
       "    </tr>\n",
       "    <tr>\n",
       "      <th>Heavy</th>\n",
       "      <td>16.9%</td>\n",
       "      <td>1.2%</td>\n",
       "      <td>13.9%</td>\n",
       "      <td>11.5%</td>\n",
       "    </tr>\n",
       "    <tr>\n",
       "      <th>Severe</th>\n",
       "      <td>2.1%</td>\n",
       "      <td>1.9%</td>\n",
       "      <td>1.0%</td>\n",
       "      <td>1.1%</td>\n",
       "    </tr>\n",
       "  </tbody>\n",
       "</table>\n",
       "</div>"
      ],
      "text/plain": [
       "          King  Kitsap  Pierce  Snohomish\n",
       "Light    60.9%   92.9%   66.1%      70.1%\n",
       "Moderate 20.1%    4.1%   19.0%      17.3%\n",
       "Heavy    16.9%    1.2%   13.9%      11.5%\n",
       "Severe    2.1%    1.9%    1.0%       1.1%"
      ]
     },
     "execution_count": 12,
     "metadata": {},
     "output_type": "execute_result"
    }
   ],
   "source": [
    "pd.options.display.float_format = '{:0,.1%}'.format\n",
    "_df = _df/_df.sum(axis=0)\n",
    "_df"
   ]
  },
  {
   "cell_type": "code",
   "execution_count": 13,
   "metadata": {
    "execution": {
     "iopub.execute_input": "2021-06-10T22:01:38.215280Z",
     "iopub.status.busy": "2021-06-10T22:01:38.199653Z",
     "iopub.status.idle": "2021-06-10T22:01:38.402730Z",
     "shell.execute_reply": "2021-06-10T22:01:38.402730Z"
    }
   },
   "outputs": [
    {
     "data": {
      "image/png": "[encoded data removed]",
      "text/plain": [
       "<Figure size 576x432 with 1 Axes>"
      ]
     },
     "metadata": {},
     "output_type": "display_data"
    }
   ],
   "source": [
    "my_colors = list(islice(cycle(colors), None, len(_df)))\n",
    "ax = _df.plot(kind='barh', alpha=0.6, color=colors, figsize=(8,6))\n",
    "ax.invert_yaxis()\n",
    "ax.legend(loc='lower right');"
   ]
  },
  {
   "cell_type": "markdown",
   "metadata": {},
   "source": [
    "# Freight Congestion\n",
    "## All Trucks (Heavy & Medium)\n",
    "#### All Day"
   ]
  },
  {
   "cell_type": "code",
   "execution_count": 14,
   "metadata": {
    "execution": {
     "iopub.execute_input": "2021-06-10T22:01:38.402730Z",
     "iopub.status.busy": "2021-06-10T22:01:38.402730Z",
     "iopub.status.idle": "2021-06-10T22:01:38.449596Z",
     "shell.execute_reply": "2021-06-10T22:01:38.449596Z"
    }
   },
   "outputs": [],
   "source": [
    "df['heavy_truck_vmt'] = df['length']*df['@heavy_truck']\n",
    "df['medium_truck_vmt'] = df['length']*df['@medium_truck']\n",
    "df['total_truck_vmt'] = df['heavy_truck_vmt']+df['medium_truck_vmt'] "
   ]
  },
  {
   "cell_type": "code",
   "execution_count": 15,
   "metadata": {
    "execution": {
     "iopub.execute_input": "2021-06-10T22:01:38.449596Z",
     "iopub.status.busy": "2021-06-10T22:01:38.449596Z",
     "iopub.status.idle": "2021-06-10T22:01:38.762022Z",
     "shell.execute_reply": "2021-06-10T22:01:38.762022Z"
    }
   },
   "outputs": [
    {
     "data": {
      "text/html": [
       "<div>\n",
       "<style scoped>\n",
       "    .dataframe tbody tr th:only-of-type {\n",
       "        vertical-align: middle;\n",
       "    }\n",
       "\n",
       "    .dataframe tbody tr th {\n",
       "        vertical-align: top;\n",
       "    }\n",
       "\n",
       "    .dataframe thead th {\n",
       "        text-align: right;\n",
       "    }\n",
       "</style>\n",
       "<table border=\"1\" class=\"dataframe\">\n",
       "  <thead>\n",
       "    <tr style=\"text-align: right;\">\n",
       "      <th></th>\n",
       "      <th>King</th>\n",
       "      <th>Kitsap</th>\n",
       "      <th>Pierce</th>\n",
       "      <th>Snohomish</th>\n",
       "    </tr>\n",
       "  </thead>\n",
       "  <tbody>\n",
       "    <tr>\n",
       "      <th>Light</th>\n",
       "      <td>4,736,797</td>\n",
       "      <td>406,577</td>\n",
       "      <td>1,600,028</td>\n",
       "      <td>1,716,213</td>\n",
       "    </tr>\n",
       "    <tr>\n",
       "      <th>Moderate</th>\n",
       "      <td>871,513</td>\n",
       "      <td>6,238</td>\n",
       "      <td>267,875</td>\n",
       "      <td>203,972</td>\n",
       "    </tr>\n",
       "    <tr>\n",
       "      <th>Heavy</th>\n",
       "      <td>541,335</td>\n",
       "      <td>5,086</td>\n",
       "      <td>120,497</td>\n",
       "      <td>88,271</td>\n",
       "    </tr>\n",
       "    <tr>\n",
       "      <th>Severe</th>\n",
       "      <td>39,966</td>\n",
       "      <td>2,478</td>\n",
       "      <td>15,981</td>\n",
       "      <td>4,966</td>\n",
       "    </tr>\n",
       "  </tbody>\n",
       "</table>\n",
       "</div>"
      ],
      "text/plain": [
       "              King  Kitsap    Pierce  Snohomish\n",
       "Light    4,736,797 406,577 1,600,028  1,716,213\n",
       "Moderate   871,513   6,238   267,875    203,972\n",
       "Heavy      541,335   5,086   120,497     88,271\n",
       "Severe      39,966   2,478    15,981      4,966"
      ]
     },
     "execution_count": 15,
     "metadata": {},
     "output_type": "execute_result"
    }
   ],
   "source": [
    "pd.options.display.float_format = '{:0,.0f}'.format\n",
    "_df = df.pivot_table(index='congestion_category',columns='county',\n",
    "               aggfunc='sum',values='total_truck_vmt')\n",
    "_df = _df.reindex(['Light','Moderate','Heavy','Severe'])\n",
    "_df.index.name = None\n",
    "_df.columns.name = None\n",
    "_df"
   ]
  },
  {
   "cell_type": "code",
   "execution_count": 16,
   "metadata": {
    "execution": {
     "iopub.execute_input": "2021-06-10T22:01:38.777650Z",
     "iopub.status.busy": "2021-06-10T22:01:38.777650Z",
     "iopub.status.idle": "2021-06-10T22:01:38.793272Z",
     "shell.execute_reply": "2021-06-10T22:01:38.793272Z"
    }
   },
   "outputs": [
    {
     "data": {
      "text/html": [
       "<div>\n",
       "<style scoped>\n",
       "    .dataframe tbody tr th:only-of-type {\n",
       "        vertical-align: middle;\n",
       "    }\n",
       "\n",
       "    .dataframe tbody tr th {\n",
       "        vertical-align: top;\n",
       "    }\n",
       "\n",
       "    .dataframe thead th {\n",
       "        text-align: right;\n",
       "    }\n",
       "</style>\n",
       "<table border=\"1\" class=\"dataframe\">\n",
       "  <thead>\n",
       "    <tr style=\"text-align: right;\">\n",
       "      <th></th>\n",
       "      <th>King</th>\n",
       "      <th>Kitsap</th>\n",
       "      <th>Pierce</th>\n",
       "      <th>Snohomish</th>\n",
       "    </tr>\n",
       "  </thead>\n",
       "  <tbody>\n",
       "    <tr>\n",
       "      <th>Light</th>\n",
       "      <td>76.5%</td>\n",
       "      <td>96.7%</td>\n",
       "      <td>79.8%</td>\n",
       "      <td>85.2%</td>\n",
       "    </tr>\n",
       "    <tr>\n",
       "      <th>Moderate</th>\n",
       "      <td>14.1%</td>\n",
       "      <td>1.5%</td>\n",
       "      <td>13.4%</td>\n",
       "      <td>10.1%</td>\n",
       "    </tr>\n",
       "    <tr>\n",
       "      <th>Heavy</th>\n",
       "      <td>8.7%</td>\n",
       "      <td>1.2%</td>\n",
       "      <td>6.0%</td>\n",
       "      <td>4.4%</td>\n",
       "    </tr>\n",
       "    <tr>\n",
       "      <th>Severe</th>\n",
       "      <td>0.6%</td>\n",
       "      <td>0.6%</td>\n",
       "      <td>0.8%</td>\n",
       "      <td>0.2%</td>\n",
       "    </tr>\n",
       "  </tbody>\n",
       "</table>\n",
       "</div>"
      ],
      "text/plain": [
       "          King  Kitsap  Pierce  Snohomish\n",
       "Light    76.5%   96.7%   79.8%      85.2%\n",
       "Moderate 14.1%    1.5%   13.4%      10.1%\n",
       "Heavy     8.7%    1.2%    6.0%       4.4%\n",
       "Severe    0.6%    0.6%    0.8%       0.2%"
      ]
     },
     "execution_count": 16,
     "metadata": {},
     "output_type": "execute_result"
    }
   ],
   "source": [
    "pd.options.display.float_format = '{:0,.1%}'.format\n",
    "_df = _df/_df.sum(axis=0)\n",
    "_df"
   ]
  },
  {
   "cell_type": "code",
   "execution_count": 17,
   "metadata": {
    "execution": {
     "iopub.execute_input": "2021-06-10T22:01:38.886989Z",
     "iopub.status.busy": "2021-06-10T22:01:38.808888Z",
     "iopub.status.idle": "2021-06-10T22:01:39.027589Z",
     "shell.execute_reply": "2021-06-10T22:01:39.027589Z"
    }
   },
   "outputs": [
    {
     "data": {
      "image/png": "[encoded data removed]",
      "text/plain": [
       "<Figure size 576x432 with 1 Axes>"
      ]
     },
     "metadata": {},
     "output_type": "display_data"
    }
   ],
   "source": [
    "my_colors = list(islice(cycle(colors), None, len(_df)))\n",
    "ax = _df.plot(kind='barh', alpha=0.6, color=colors, figsize=(8,6))\n",
    "ax.invert_yaxis()\n",
    "ax.legend(loc='lower right');"
   ]
  },
  {
   "cell_type": "markdown",
   "metadata": {},
   "source": [
    "## Heavy Trucks"
   ]
  },
  {
   "cell_type": "code",
   "execution_count": 18,
   "metadata": {
    "execution": {
     "iopub.execute_input": "2021-06-10T22:01:39.058829Z",
     "iopub.status.busy": "2021-06-10T22:01:39.058829Z",
     "iopub.status.idle": "2021-06-10T22:01:39.168179Z",
     "shell.execute_reply": "2021-06-10T22:01:39.168179Z"
    }
   },
   "outputs": [
    {
     "data": {
      "text/html": [
       "<div>\n",
       "<style scoped>\n",
       "    .dataframe tbody tr th:only-of-type {\n",
       "        vertical-align: middle;\n",
       "    }\n",
       "\n",
       "    .dataframe tbody tr th {\n",
       "        vertical-align: top;\n",
       "    }\n",
       "\n",
       "    .dataframe thead th {\n",
       "        text-align: right;\n",
       "    }\n",
       "</style>\n",
       "<table border=\"1\" class=\"dataframe\">\n",
       "  <thead>\n",
       "    <tr style=\"text-align: right;\">\n",
       "      <th></th>\n",
       "      <th>King</th>\n",
       "      <th>Kitsap</th>\n",
       "      <th>Pierce</th>\n",
       "      <th>Snohomish</th>\n",
       "    </tr>\n",
       "  </thead>\n",
       "  <tbody>\n",
       "    <tr>\n",
       "      <th>Light</th>\n",
       "      <td>2,258,321</td>\n",
       "      <td>151,358</td>\n",
       "      <td>862,175</td>\n",
       "      <td>959,229</td>\n",
       "    </tr>\n",
       "    <tr>\n",
       "      <th>Moderate</th>\n",
       "      <td>400,024</td>\n",
       "      <td>1,632</td>\n",
       "      <td>156,034</td>\n",
       "      <td>104,443</td>\n",
       "    </tr>\n",
       "    <tr>\n",
       "      <th>Heavy</th>\n",
       "      <td>247,567</td>\n",
       "      <td>1,603</td>\n",
       "      <td>80,712</td>\n",
       "      <td>42,760</td>\n",
       "    </tr>\n",
       "    <tr>\n",
       "      <th>Severe</th>\n",
       "      <td>14,663</td>\n",
       "      <td>980</td>\n",
       "      <td>12,186</td>\n",
       "      <td>1,614</td>\n",
       "    </tr>\n",
       "  </tbody>\n",
       "</table>\n",
       "</div>"
      ],
      "text/plain": [
       "              King  Kitsap  Pierce  Snohomish\n",
       "Light    2,258,321 151,358 862,175    959,229\n",
       "Moderate   400,024   1,632 156,034    104,443\n",
       "Heavy      247,567   1,603  80,712     42,760\n",
       "Severe      14,663     980  12,186      1,614"
      ]
     },
     "execution_count": 18,
     "metadata": {},
     "output_type": "execute_result"
    }
   ],
   "source": [
    "pd.options.display.float_format = '{:0,.0f}'.format\n",
    "_df = df.pivot_table(index='congestion_category',columns='county',\n",
    "               aggfunc='sum',values='heavy_truck_vmt')\n",
    "_df = _df.reindex(['Light','Moderate','Heavy','Severe'])\n",
    "_df.index.name = None\n",
    "_df.columns.name = None\n",
    "_df"
   ]
  },
  {
   "cell_type": "code",
   "execution_count": 19,
   "metadata": {
    "execution": {
     "iopub.execute_input": "2021-06-10T22:01:39.183801Z",
     "iopub.status.busy": "2021-06-10T22:01:39.183801Z",
     "iopub.status.idle": "2021-06-10T22:01:39.199419Z",
     "shell.execute_reply": "2021-06-10T22:01:39.199419Z"
    }
   },
   "outputs": [
    {
     "data": {
      "text/html": [
       "<div>\n",
       "<style scoped>\n",
       "    .dataframe tbody tr th:only-of-type {\n",
       "        vertical-align: middle;\n",
       "    }\n",
       "\n",
       "    .dataframe tbody tr th {\n",
       "        vertical-align: top;\n",
       "    }\n",
       "\n",
       "    .dataframe thead th {\n",
       "        text-align: right;\n",
       "    }\n",
       "</style>\n",
       "<table border=\"1\" class=\"dataframe\">\n",
       "  <thead>\n",
       "    <tr style=\"text-align: right;\">\n",
       "      <th></th>\n",
       "      <th>King</th>\n",
       "      <th>Kitsap</th>\n",
       "      <th>Pierce</th>\n",
       "      <th>Snohomish</th>\n",
       "    </tr>\n",
       "  </thead>\n",
       "  <tbody>\n",
       "    <tr>\n",
       "      <th>Light</th>\n",
       "      <td>77.3%</td>\n",
       "      <td>97.3%</td>\n",
       "      <td>77.6%</td>\n",
       "      <td>86.6%</td>\n",
       "    </tr>\n",
       "    <tr>\n",
       "      <th>Moderate</th>\n",
       "      <td>13.7%</td>\n",
       "      <td>1.0%</td>\n",
       "      <td>14.0%</td>\n",
       "      <td>9.4%</td>\n",
       "    </tr>\n",
       "    <tr>\n",
       "      <th>Heavy</th>\n",
       "      <td>8.5%</td>\n",
       "      <td>1.0%</td>\n",
       "      <td>7.3%</td>\n",
       "      <td>3.9%</td>\n",
       "    </tr>\n",
       "    <tr>\n",
       "      <th>Severe</th>\n",
       "      <td>0.5%</td>\n",
       "      <td>0.6%</td>\n",
       "      <td>1.1%</td>\n",
       "      <td>0.1%</td>\n",
       "    </tr>\n",
       "  </tbody>\n",
       "</table>\n",
       "</div>"
      ],
      "text/plain": [
       "          King  Kitsap  Pierce  Snohomish\n",
       "Light    77.3%   97.3%   77.6%      86.6%\n",
       "Moderate 13.7%    1.0%   14.0%       9.4%\n",
       "Heavy     8.5%    1.0%    7.3%       3.9%\n",
       "Severe    0.5%    0.6%    1.1%       0.1%"
      ]
     },
     "execution_count": 19,
     "metadata": {},
     "output_type": "execute_result"
    }
   ],
   "source": [
    "pd.options.display.float_format = '{:0,.1%}'.format\n",
    "_df = _df/_df.sum(axis=0)\n",
    "_df"
   ]
  },
  {
   "cell_type": "code",
   "execution_count": 20,
   "metadata": {
    "execution": {
     "iopub.execute_input": "2021-06-10T22:01:39.230665Z",
     "iopub.status.busy": "2021-06-10T22:01:39.215043Z",
     "iopub.status.idle": "2021-06-10T22:01:39.452680Z",
     "shell.execute_reply": "2021-06-10T22:01:39.452680Z"
    }
   },
   "outputs": [
    {
     "data": {
      "image/png": "[encoded data removed]",
      "text/plain": [
       "<Figure size 576x432 with 1 Axes>"
      ]
     },
     "metadata": {},
     "output_type": "display_data"
    }
   ],
   "source": [
    "my_colors = list(islice(cycle(colors), None, len(_df)))\n",
    "ax = _df.plot(kind='barh', alpha=0.6, color=colors, figsize=(8,6))\n",
    "ax.invert_yaxis()\n",
    "ax.legend(loc='lower right');"
   ]
  },
  {
   "cell_type": "markdown",
   "metadata": {},
   "source": [
    "## Medium Trucks"
   ]
  },
  {
   "cell_type": "code",
   "execution_count": 21,
   "metadata": {
    "execution": {
     "iopub.execute_input": "2021-06-10T22:01:39.546396Z",
     "iopub.status.busy": "2021-06-10T22:01:39.546396Z",
     "iopub.status.idle": "2021-06-10T22:01:39.593253Z",
     "shell.execute_reply": "2021-06-10T22:01:39.593253Z"
    }
   },
   "outputs": [
    {
     "data": {
      "text/html": [
       "<div>\n",
       "<style scoped>\n",
       "    .dataframe tbody tr th:only-of-type {\n",
       "        vertical-align: middle;\n",
       "    }\n",
       "\n",
       "    .dataframe tbody tr th {\n",
       "        vertical-align: top;\n",
       "    }\n",
       "\n",
       "    .dataframe thead th {\n",
       "        text-align: right;\n",
       "    }\n",
       "</style>\n",
       "<table border=\"1\" class=\"dataframe\">\n",
       "  <thead>\n",
       "    <tr style=\"text-align: right;\">\n",
       "      <th>county</th>\n",
       "      <th>King</th>\n",
       "      <th>Kitsap</th>\n",
       "      <th>Pierce</th>\n",
       "      <th>Snohomish</th>\n",
       "    </tr>\n",
       "    <tr>\n",
       "      <th>congestion_category</th>\n",
       "      <th></th>\n",
       "      <th></th>\n",
       "      <th></th>\n",
       "      <th></th>\n",
       "    </tr>\n",
       "  </thead>\n",
       "  <tbody>\n",
       "    <tr>\n",
       "      <th>Severe</th>\n",
       "      <td>25,303</td>\n",
       "      <td>1,498</td>\n",
       "      <td>3,795</td>\n",
       "      <td>3,352</td>\n",
       "    </tr>\n",
       "    <tr>\n",
       "      <th>Heavy</th>\n",
       "      <td>293,768</td>\n",
       "      <td>3,483</td>\n",
       "      <td>39,785</td>\n",
       "      <td>45,511</td>\n",
       "    </tr>\n",
       "    <tr>\n",
       "      <th>Moderate</th>\n",
       "      <td>471,489</td>\n",
       "      <td>4,606</td>\n",
       "      <td>111,841</td>\n",
       "      <td>99,529</td>\n",
       "    </tr>\n",
       "    <tr>\n",
       "      <th>Light</th>\n",
       "      <td>2,478,476</td>\n",
       "      <td>255,219</td>\n",
       "      <td>737,852</td>\n",
       "      <td>756,984</td>\n",
       "    </tr>\n",
       "  </tbody>\n",
       "</table>\n",
       "</div>"
      ],
      "text/plain": [
       "county                   King  Kitsap  Pierce  Snohomish\n",
       "congestion_category                                     \n",
       "Severe                 25,303   1,498   3,795      3,352\n",
       "Heavy                 293,768   3,483  39,785     45,511\n",
       "Moderate              471,489   4,606 111,841     99,529\n",
       "Light               2,478,476 255,219 737,852    756,984"
      ]
     },
     "execution_count": 21,
     "metadata": {},
     "output_type": "execute_result"
    }
   ],
   "source": [
    "pd.options.display.float_format = '{:0,.0f}'.format\n",
    "_df = df.pivot_table(index='congestion_category',columns='county',\n",
    "               aggfunc='sum',values='medium_truck_vmt')\n",
    "\n",
    "_df"
   ]
  },
  {
   "cell_type": "code",
   "execution_count": 22,
   "metadata": {
    "execution": {
     "iopub.execute_input": "2021-06-10T22:01:39.624507Z",
     "iopub.status.busy": "2021-06-10T22:01:39.624507Z",
     "iopub.status.idle": "2021-06-10T22:01:39.733847Z",
     "shell.execute_reply": "2021-06-10T22:01:39.733847Z"
    }
   },
   "outputs": [
    {
     "data": {
      "text/html": [
       "<div>\n",
       "<style scoped>\n",
       "    .dataframe tbody tr th:only-of-type {\n",
       "        vertical-align: middle;\n",
       "    }\n",
       "\n",
       "    .dataframe tbody tr th {\n",
       "        vertical-align: top;\n",
       "    }\n",
       "\n",
       "    .dataframe thead th {\n",
       "        text-align: right;\n",
       "    }\n",
       "</style>\n",
       "<table border=\"1\" class=\"dataframe\">\n",
       "  <thead>\n",
       "    <tr style=\"text-align: right;\">\n",
       "      <th></th>\n",
       "      <th>King</th>\n",
       "      <th>Kitsap</th>\n",
       "      <th>Pierce</th>\n",
       "      <th>Snohomish</th>\n",
       "    </tr>\n",
       "  </thead>\n",
       "  <tbody>\n",
       "    <tr>\n",
       "      <th>Light</th>\n",
       "      <td>2,478,476</td>\n",
       "      <td>255,219</td>\n",
       "      <td>737,852</td>\n",
       "      <td>756,984</td>\n",
       "    </tr>\n",
       "    <tr>\n",
       "      <th>Moderate</th>\n",
       "      <td>471,489</td>\n",
       "      <td>4,606</td>\n",
       "      <td>111,841</td>\n",
       "      <td>99,529</td>\n",
       "    </tr>\n",
       "    <tr>\n",
       "      <th>Heavy</th>\n",
       "      <td>293,768</td>\n",
       "      <td>3,483</td>\n",
       "      <td>39,785</td>\n",
       "      <td>45,511</td>\n",
       "    </tr>\n",
       "    <tr>\n",
       "      <th>Severe</th>\n",
       "      <td>25,303</td>\n",
       "      <td>1,498</td>\n",
       "      <td>3,795</td>\n",
       "      <td>3,352</td>\n",
       "    </tr>\n",
       "  </tbody>\n",
       "</table>\n",
       "</div>"
      ],
      "text/plain": [
       "              King  Kitsap  Pierce  Snohomish\n",
       "Light    2,478,476 255,219 737,852    756,984\n",
       "Moderate   471,489   4,606 111,841     99,529\n",
       "Heavy      293,768   3,483  39,785     45,511\n",
       "Severe      25,303   1,498   3,795      3,352"
      ]
     },
     "execution_count": 22,
     "metadata": {},
     "output_type": "execute_result"
    }
   ],
   "source": [
    "pd.options.display.float_format = '{:0,.0f}'.format\n",
    "_df = df.pivot_table(index='congestion_category',columns='county',\n",
    "               aggfunc='sum',values='medium_truck_vmt')\n",
    "_df = _df.reindex(['Light','Moderate','Heavy','Severe'])\n",
    "_df.index.name = None\n",
    "_df.columns.name = None\n",
    "_df"
   ]
  },
  {
   "cell_type": "code",
   "execution_count": 23,
   "metadata": {
    "execution": {
     "iopub.execute_input": "2021-06-10T22:01:39.749472Z",
     "iopub.status.busy": "2021-06-10T22:01:39.749472Z",
     "iopub.status.idle": "2021-06-10T22:01:39.765093Z",
     "shell.execute_reply": "2021-06-10T22:01:39.765093Z"
    }
   },
   "outputs": [
    {
     "data": {
      "text/html": [
       "<div>\n",
       "<style scoped>\n",
       "    .dataframe tbody tr th:only-of-type {\n",
       "        vertical-align: middle;\n",
       "    }\n",
       "\n",
       "    .dataframe tbody tr th {\n",
       "        vertical-align: top;\n",
       "    }\n",
       "\n",
       "    .dataframe thead th {\n",
       "        text-align: right;\n",
       "    }\n",
       "</style>\n",
       "<table border=\"1\" class=\"dataframe\">\n",
       "  <thead>\n",
       "    <tr style=\"text-align: right;\">\n",
       "      <th></th>\n",
       "      <th>King</th>\n",
       "      <th>Kitsap</th>\n",
       "      <th>Pierce</th>\n",
       "      <th>Snohomish</th>\n",
       "    </tr>\n",
       "  </thead>\n",
       "  <tbody>\n",
       "    <tr>\n",
       "      <th>Light</th>\n",
       "      <td>75.8%</td>\n",
       "      <td>96.4%</td>\n",
       "      <td>82.6%</td>\n",
       "      <td>83.6%</td>\n",
       "    </tr>\n",
       "    <tr>\n",
       "      <th>Moderate</th>\n",
       "      <td>14.4%</td>\n",
       "      <td>1.7%</td>\n",
       "      <td>12.5%</td>\n",
       "      <td>11.0%</td>\n",
       "    </tr>\n",
       "    <tr>\n",
       "      <th>Heavy</th>\n",
       "      <td>9.0%</td>\n",
       "      <td>1.3%</td>\n",
       "      <td>4.5%</td>\n",
       "      <td>5.0%</td>\n",
       "    </tr>\n",
       "    <tr>\n",
       "      <th>Severe</th>\n",
       "      <td>0.8%</td>\n",
       "      <td>0.6%</td>\n",
       "      <td>0.4%</td>\n",
       "      <td>0.4%</td>\n",
       "    </tr>\n",
       "  </tbody>\n",
       "</table>\n",
       "</div>"
      ],
      "text/plain": [
       "          King  Kitsap  Pierce  Snohomish\n",
       "Light    75.8%   96.4%   82.6%      83.6%\n",
       "Moderate 14.4%    1.7%   12.5%      11.0%\n",
       "Heavy     9.0%    1.3%    4.5%       5.0%\n",
       "Severe    0.8%    0.6%    0.4%       0.4%"
      ]
     },
     "execution_count": 23,
     "metadata": {},
     "output_type": "execute_result"
    }
   ],
   "source": [
    "pd.options.display.float_format = '{:0,.1%}'.format\n",
    "_df = _df/_df.sum(axis=0)\n",
    "_df"
   ]
  },
  {
   "cell_type": "code",
   "execution_count": 24,
   "metadata": {
    "execution": {
     "iopub.execute_input": "2021-06-10T22:01:39.796333Z",
     "iopub.status.busy": "2021-06-10T22:01:39.796333Z",
     "iopub.status.idle": "2021-06-10T22:01:39.999407Z",
     "shell.execute_reply": "2021-06-10T22:01:39.999407Z"
    }
   },
   "outputs": [
    {
     "data": {
      "image/png": "[encoded data removed]",
      "text/plain": [
       "<Figure size 576x432 with 1 Axes>"
      ]
     },
     "metadata": {},
     "output_type": "display_data"
    }
   ],
   "source": [
    "my_colors = list(islice(cycle(colors), None, len(_df)))\n",
    "ax = _df.plot(kind='barh', alpha=0.6, color=colors, figsize=(8,6))\n",
    "ax.invert_yaxis()\n",
    "ax.legend(loc='lower right');"
   ]
  }
 ],
 "metadata": {
  "kernelspec": {
   "display_name": "Python 3",
   "language": "python",
   "name": "python3"
  },
  "language_info": {
   "codemirror_mode": {
    "name": "ipython",
    "version": 3
   },
   "file_extension": ".py",
   "mimetype": "text/x-python",
   "name": "python",
   "nbconvert_exporter": "python",
   "pygments_lexer": "ipython3",
   "version": "3.7.10"
  }
 },
 "nbformat": 4,
 "nbformat_minor": 4
}
