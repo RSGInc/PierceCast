{
 "cells": [
  {
   "cell_type": "code",
   "execution_count": 1,
   "metadata": {
    "execution": {
     "iopub.execute_input": "2021-06-10T22:01:23.174777Z",
     "iopub.status.busy": "2021-06-10T22:01:23.174777Z",
     "iopub.status.idle": "2021-06-10T22:01:24.205860Z",
     "shell.execute_reply": "2021-06-10T22:01:24.205860Z"
    }
   },
   "outputs": [],
   "source": [
    "import os, sys, time\n",
    "import warnings\n",
    "warnings.simplefilter(action='ignore', category=FutureWarning)\n",
    "import pandas as pd\n",
    "pd.options.mode.chained_assignment = None\n",
    "import h5py\n",
    "\n",
    "%matplotlib inline\n",
    "\n",
    "from IPython.display import display, HTML\n",
    "\n",
    "if (sys.version_info < (3, 0)):\n",
    "    HTML('''<script>\n",
    "    code_show=true; \n",
    "    function code_toggle() {\n",
    "     if (code_show){\n",
    "     $('div.input').hide();\n",
    "     } else {\n",
    "     $('div.input').show();\n",
    "     }\n",
    "     code_show = !code_show\n",
    "    } \n",
    "    $( document ).ready(code_toggle);\n",
    "    </script>\n",
    "    <form action=\"javascript:code_toggle()\"><input type=\"submit\" value=\"Click here to toggle on/off the raw code.\"></form>''')\n"
   ]
  },
  {
   "cell_type": "code",
   "execution_count": 2,
   "metadata": {
    "execution": {
     "iopub.execute_input": "2021-06-10T22:01:24.205860Z",
     "iopub.status.busy": "2021-06-10T22:01:24.205860Z",
     "iopub.status.idle": "2021-06-10T22:01:24.221481Z",
     "shell.execute_reply": "2021-06-10T22:01:24.221481Z"
    }
   },
   "outputs": [
    {
     "name": "stdout",
     "output_type": "stream",
     "text": [
      "Summary run: Thu, 23 Dec 2021 15:03:36\n"
     ]
    }
   ],
   "source": [
    "# Create timestamp to show when this summary was run\n",
    "print('Summary run: ' + time.strftime(\"%a, %d %b %Y %H:%M:%S\"))"
   ]
  },
  {
   "cell_type": "code",
   "execution_count": 3,
   "metadata": {
    "execution": {
     "iopub.execute_input": "2021-06-10T22:01:24.221481Z",
     "iopub.status.busy": "2021-06-10T22:01:24.221481Z",
     "iopub.status.idle": "2021-06-10T22:01:24.239951Z",
     "shell.execute_reply": "2021-06-10T22:01:24.239951Z"
    }
   },
   "outputs": [],
   "source": [
    "pd.options.display.float_format = '{:0,.0f}'.format"
   ]
  },
  {
   "cell_type": "code",
   "execution_count": 4,
   "metadata": {
    "execution": {
     "iopub.execute_input": "2021-06-10T22:01:24.239951Z",
     "iopub.status.busy": "2021-06-10T22:01:24.239951Z",
     "iopub.status.idle": "2021-06-10T22:01:24.255644Z",
     "shell.execute_reply": "2021-06-10T22:01:24.255644Z"
    }
   },
   "outputs": [],
   "source": [
    "# Region\n",
    "# Counties\n",
    "# RGC\n",
    "# MIC\n",
    "# HCT Areas\n",
    "# Regional Geographies\n",
    "# Equity Geographies (over 50%)\n",
    "# Equity Geographies (over Regional Average)\n",
    "\n",
    "\n",
    "# Travel Metrics\n",
    "# Transit Ridership\n",
    "# Congestion Levels\n",
    "# Truck Data\n",
    "# VMT\n",
    "# Delay\n",
    "# Miles of Congestion\n",
    "# Vehicle Data\n",
    "# VMT\n",
    "# Delay\n",
    "# Miles of Congestion"
   ]
  },
  {
   "cell_type": "code",
   "execution_count": 5,
   "metadata": {},
   "outputs": [],
   "source": [
    "geog = 'county'\n",
    "geog_col = 'hh_county'"
   ]
  },
  {
   "cell_type": "markdown",
   "metadata": {},
   "source": [
    "# County \n",
    "Results based on household location by county\n"
   ]
  },
  {
   "cell_type": "markdown",
   "metadata": {},
   "source": [
    "# Population"
   ]
  },
  {
   "cell_type": "code",
   "execution_count": 6,
   "metadata": {
    "execution": {
     "iopub.execute_input": "2021-06-10T22:01:24.271264Z",
     "iopub.status.busy": "2021-06-10T22:01:24.255644Z",
     "iopub.status.idle": "2021-06-10T22:01:24.327289Z",
     "shell.execute_reply": "2021-06-10T22:01:24.327289Z"
    }
   },
   "outputs": [
    {
     "data": {
      "text/html": [
       "<div>\n",
       "<style scoped>\n",
       "    .dataframe tbody tr th:only-of-type {\n",
       "        vertical-align: middle;\n",
       "    }\n",
       "\n",
       "    .dataframe tbody tr th {\n",
       "        vertical-align: top;\n",
       "    }\n",
       "\n",
       "    .dataframe thead th {\n",
       "        text-align: right;\n",
       "    }\n",
       "</style>\n",
       "<table border=\"1\" class=\"dataframe\">\n",
       "  <thead>\n",
       "    <tr style=\"text-align: right;\">\n",
       "      <th></th>\n",
       "      <th>Households</th>\n",
       "      <th>Persons</th>\n",
       "    </tr>\n",
       "    <tr>\n",
       "      <th>hh_county</th>\n",
       "      <th></th>\n",
       "      <th></th>\n",
       "    </tr>\n",
       "  </thead>\n",
       "  <tbody>\n",
       "    <tr>\n",
       "      <th>King</th>\n",
       "      <td>884,650</td>\n",
       "      <td>2,149,234</td>\n",
       "    </tr>\n",
       "    <tr>\n",
       "      <th>Kitsap</th>\n",
       "      <td>101,859</td>\n",
       "      <td>257,159</td>\n",
       "    </tr>\n",
       "    <tr>\n",
       "      <th>Pierce</th>\n",
       "      <td>323,804</td>\n",
       "      <td>851,709</td>\n",
       "    </tr>\n",
       "    <tr>\n",
       "      <th>Snohomish</th>\n",
       "      <td>294,950</td>\n",
       "      <td>795,052</td>\n",
       "    </tr>\n",
       "    <tr>\n",
       "      <th>Total</th>\n",
       "      <td>1,605,263</td>\n",
       "      <td>4,053,154</td>\n",
       "    </tr>\n",
       "  </tbody>\n",
       "</table>\n",
       "</div>"
      ],
      "text/plain": [
       "           Households   Persons\n",
       "hh_county                      \n",
       "King          884,650 2,149,234\n",
       "Kitsap        101,859   257,159\n",
       "Pierce        323,804   851,709\n",
       "Snohomish     294,950   795,052\n",
       "Total       1,605,263 4,053,154"
      ]
     },
     "execution_count": 6,
     "metadata": {},
     "output_type": "execute_result"
    }
   ],
   "source": [
    "df = pd.read_csv(r'..\\..\\..\\outputs\\agg\\dash\\person_geog.csv')\n",
    "_df_pop = df.groupby(geog_col).sum()[['psexpfac']]\n",
    "\n",
    "df = pd.read_csv(r'..\\..\\..\\outputs\\agg\\dash\\hh_geog.csv')\n",
    "_df_hh = df.groupby(geog_col).sum()[['hhexpfac']]\n",
    "\n",
    "df = _df_hh.merge(_df_pop, on=geog_col)\n",
    "df.rename(columns={'hhexpfac': 'Households', 'psexpfac': 'Persons'}, inplace=True)\n",
    "df.to_csv(os.path.join(os.getcwd(), r'..\\..\\..\\outputs\\compare',geog,'1_population.csv'))\n",
    "df.loc['Total'] = df.sum(axis=0)\n",
    "df"
   ]
  },
  {
   "cell_type": "markdown",
   "metadata": {},
   "source": [
    "# Employment"
   ]
  },
  {
   "cell_type": "code",
   "execution_count": 7,
   "metadata": {
    "execution": {
     "iopub.execute_input": "2021-06-10T22:01:24.327289Z",
     "iopub.status.busy": "2021-06-10T22:01:24.327289Z",
     "iopub.status.idle": "2021-06-10T22:01:24.389275Z",
     "shell.execute_reply": "2021-06-10T22:01:24.389275Z"
    }
   },
   "outputs": [
    {
     "data": {
      "text/html": [
       "<div>\n",
       "<style scoped>\n",
       "    .dataframe tbody tr th:only-of-type {\n",
       "        vertical-align: middle;\n",
       "    }\n",
       "\n",
       "    .dataframe tbody tr th {\n",
       "        vertical-align: top;\n",
       "    }\n",
       "\n",
       "    .dataframe thead th {\n",
       "        text-align: right;\n",
       "    }\n",
       "</style>\n",
       "<table border=\"1\" class=\"dataframe\">\n",
       "  <thead>\n",
       "    <tr style=\"text-align: right;\">\n",
       "      <th>pwtyp</th>\n",
       "      <th>Paid Full-Time Worker</th>\n",
       "      <th>Paid Part-Time Worker</th>\n",
       "      <th>Total</th>\n",
       "    </tr>\n",
       "    <tr>\n",
       "      <th>hh_county</th>\n",
       "      <th></th>\n",
       "      <th></th>\n",
       "      <th></th>\n",
       "    </tr>\n",
       "  </thead>\n",
       "  <tbody>\n",
       "    <tr>\n",
       "      <th>King</th>\n",
       "      <td>900,611</td>\n",
       "      <td>203,447</td>\n",
       "      <td>1,104,058</td>\n",
       "    </tr>\n",
       "    <tr>\n",
       "      <th>Kitsap</th>\n",
       "      <td>87,765</td>\n",
       "      <td>24,816</td>\n",
       "      <td>112,581</td>\n",
       "    </tr>\n",
       "    <tr>\n",
       "      <th>Pierce</th>\n",
       "      <td>309,585</td>\n",
       "      <td>73,121</td>\n",
       "      <td>382,706</td>\n",
       "    </tr>\n",
       "    <tr>\n",
       "      <th>Snohomish</th>\n",
       "      <td>312,698</td>\n",
       "      <td>70,085</td>\n",
       "      <td>382,783</td>\n",
       "    </tr>\n",
       "    <tr>\n",
       "      <th>Total</th>\n",
       "      <td>1,610,659</td>\n",
       "      <td>371,469</td>\n",
       "      <td>1,982,128</td>\n",
       "    </tr>\n",
       "  </tbody>\n",
       "</table>\n",
       "</div>"
      ],
      "text/plain": [
       "pwtyp      Paid Full-Time Worker  Paid Part-Time Worker     Total\n",
       "hh_county                                                        \n",
       "King                     900,611                203,447 1,104,058\n",
       "Kitsap                    87,765                 24,816   112,581\n",
       "Pierce                   309,585                 73,121   382,706\n",
       "Snohomish                312,698                 70,085   382,783\n",
       "Total                  1,610,659                371,469 1,982,128"
      ]
     },
     "execution_count": 7,
     "metadata": {},
     "output_type": "execute_result"
    }
   ],
   "source": [
    "df = pd.read_csv(r'..\\..\\..\\outputs\\agg\\dash\\person_geog.csv')\n",
    "df = df[df['pwtyp'].isin(['Paid Full-Time Worker', 'Paid Part-Time Worker'])]\n",
    "_df = df.pivot_table(index=geog_col, columns='pwtyp', aggfunc='sum', values='psexpfac')\n",
    "_df.to_csv(os.path.join(os.getcwd(), r'..\\..\\..\\outputs\\compare',geog,'2_employment.csv'))\n",
    "_df.loc['Total'] = _df.sum(axis=0)\n",
    "_df['Total'] = _df.sum(axis=1)\n",
    "_df"
   ]
  },
  {
   "cell_type": "markdown",
   "metadata": {},
   "source": [
    "\n",
    "### Transit Ridership\n",
    "\n",
    "#### Total trips"
   ]
  },
  {
   "cell_type": "code",
   "execution_count": 8,
   "metadata": {
    "execution": {
     "iopub.execute_input": "2021-06-10T22:01:24.389275Z",
     "iopub.status.busy": "2021-06-10T22:01:24.389275Z",
     "iopub.status.idle": "2021-06-10T22:01:24.420515Z",
     "shell.execute_reply": "2021-06-10T22:01:24.420515Z"
    }
   },
   "outputs": [
    {
     "data": {
      "text/html": [
       "<div>\n",
       "<style scoped>\n",
       "    .dataframe tbody tr th:only-of-type {\n",
       "        vertical-align: middle;\n",
       "    }\n",
       "\n",
       "    .dataframe tbody tr th {\n",
       "        vertical-align: top;\n",
       "    }\n",
       "\n",
       "    .dataframe thead th {\n",
       "        text-align: right;\n",
       "    }\n",
       "</style>\n",
       "<table border=\"1\" class=\"dataframe\">\n",
       "  <thead>\n",
       "    <tr style=\"text-align: right;\">\n",
       "      <th></th>\n",
       "      <th>trexpfac</th>\n",
       "    </tr>\n",
       "    <tr>\n",
       "      <th>hh_county</th>\n",
       "      <th></th>\n",
       "    </tr>\n",
       "  </thead>\n",
       "  <tbody>\n",
       "    <tr>\n",
       "      <th>King</th>\n",
       "      <td>372,172</td>\n",
       "    </tr>\n",
       "    <tr>\n",
       "      <th>Kitsap</th>\n",
       "      <td>20,550</td>\n",
       "    </tr>\n",
       "    <tr>\n",
       "      <th>Pierce</th>\n",
       "      <td>46,782</td>\n",
       "    </tr>\n",
       "    <tr>\n",
       "      <th>Snohomish</th>\n",
       "      <td>40,904</td>\n",
       "    </tr>\n",
       "    <tr>\n",
       "      <th>Total</th>\n",
       "      <td>480,408</td>\n",
       "    </tr>\n",
       "  </tbody>\n",
       "</table>\n",
       "</div>"
      ],
      "text/plain": [
       "           trexpfac\n",
       "hh_county          \n",
       "King        372,172\n",
       "Kitsap       20,550\n",
       "Pierce       46,782\n",
       "Snohomish    40,904\n",
       "Total       480,408"
      ]
     },
     "execution_count": 8,
     "metadata": {},
     "output_type": "execute_result"
    }
   ],
   "source": [
    "# Region\n",
    "# By Agency\n",
    "\n",
    "# Transit Trips from Daysim, by location\n",
    "df = pd.read_csv(r'..\\..\\..\\outputs\\agg\\dash\\mode_share_'+geog+'.csv')\n",
    "_df = df[df['mode']=='Transit'].groupby(geog_col).sum()[['trexpfac']]\n",
    "_df.to_csv(os.path.join(os.getcwd(), r'..\\..\\..\\outputs\\compare',geog,'3_transit_trips.csv'))\n",
    "_df.loc['Total'] = _df.sum(axis=0)\n",
    "_df"
   ]
  },
  {
   "cell_type": "markdown",
   "metadata": {},
   "source": [
    "#### % Commute Trips by Transit (Home to Work direct)"
   ]
  },
  {
   "cell_type": "code",
   "execution_count": 9,
   "metadata": {
    "execution": {
     "iopub.execute_input": "2021-06-10T22:01:24.436139Z",
     "iopub.status.busy": "2021-06-10T22:01:24.436139Z",
     "iopub.status.idle": "2021-06-10T22:01:24.451760Z",
     "shell.execute_reply": "2021-06-10T22:01:24.451760Z"
    }
   },
   "outputs": [
    {
     "data": {
      "text/html": [
       "<div>\n",
       "<style scoped>\n",
       "    .dataframe tbody tr th:only-of-type {\n",
       "        vertical-align: middle;\n",
       "    }\n",
       "\n",
       "    .dataframe tbody tr th {\n",
       "        vertical-align: top;\n",
       "    }\n",
       "\n",
       "    .dataframe thead th {\n",
       "        text-align: right;\n",
       "    }\n",
       "</style>\n",
       "<table border=\"1\" class=\"dataframe\">\n",
       "  <thead>\n",
       "    <tr style=\"text-align: right;\">\n",
       "      <th></th>\n",
       "      <th>hh_county</th>\n",
       "      <th>mode_share</th>\n",
       "    </tr>\n",
       "  </thead>\n",
       "  <tbody>\n",
       "    <tr>\n",
       "      <th>6</th>\n",
       "      <td>King</td>\n",
       "      <td>7.6%</td>\n",
       "    </tr>\n",
       "    <tr>\n",
       "      <th>14</th>\n",
       "      <td>Kitsap</td>\n",
       "      <td>6.2%</td>\n",
       "    </tr>\n",
       "    <tr>\n",
       "      <th>22</th>\n",
       "      <td>Pierce</td>\n",
       "      <td>4.4%</td>\n",
       "    </tr>\n",
       "    <tr>\n",
       "      <th>30</th>\n",
       "      <td>Snohomish</td>\n",
       "      <td>3.5%</td>\n",
       "    </tr>\n",
       "  </tbody>\n",
       "</table>\n",
       "</div>"
      ],
      "text/plain": [
       "    hh_county  mode_share\n",
       "6        King        7.6%\n",
       "14     Kitsap        6.2%\n",
       "22     Pierce        4.4%\n",
       "30  Snohomish        3.5%"
      ]
     },
     "execution_count": 9,
     "metadata": {},
     "output_type": "execute_result"
    }
   ],
   "source": [
    "# Mode share\n",
    "df = df[df['dpurp'] == 'Work']\n",
    "_df = df.pivot_table(index=[geog_col, 'mode'], aggfunc='sum', values='trexpfac').reset_index()\n",
    "_df_tot = _df.groupby(geog_col).sum()[['trexpfac']]\n",
    "_df = _df.merge(_df_tot, how='left', on=geog_col)\n",
    "_df['mode_share'] = _df['trexpfac_x']/_df['trexpfac_y']\n",
    "\n",
    "_df = _df[_df['mode'] == 'Transit'][[geog_col,'mode_share']]\n",
    "pd.options.display.float_format = '{:0,.1%}'.format\n",
    "_df.to_csv(os.path.join(os.getcwd(), r'..\\..\\..\\outputs\\compare',geog,'4_transit_commute_share.csv'))\n",
    "_df"
   ]
  },
  {
   "cell_type": "markdown",
   "metadata": {},
   "source": [
    "## VMT"
   ]
  },
  {
   "cell_type": "code",
   "execution_count": 10,
   "metadata": {
    "execution": {
     "iopub.execute_input": "2021-06-10T22:01:24.451760Z",
     "iopub.status.busy": "2021-06-10T22:01:24.451760Z",
     "iopub.status.idle": "2021-06-10T22:01:24.733104Z",
     "shell.execute_reply": "2021-06-10T22:01:24.733104Z"
    }
   },
   "outputs": [
    {
     "data": {
      "text/html": [
       "<div>\n",
       "<style scoped>\n",
       "    .dataframe tbody tr th:only-of-type {\n",
       "        vertical-align: middle;\n",
       "    }\n",
       "\n",
       "    .dataframe tbody tr th {\n",
       "        vertical-align: top;\n",
       "    }\n",
       "\n",
       "    .dataframe thead th {\n",
       "        text-align: right;\n",
       "    }\n",
       "</style>\n",
       "<table border=\"1\" class=\"dataframe\">\n",
       "  <thead>\n",
       "    <tr style=\"text-align: right;\">\n",
       "      <th></th>\n",
       "      <th>VMT</th>\n",
       "      <th>% of VMT</th>\n",
       "    </tr>\n",
       "    <tr>\n",
       "      <th>hh_county</th>\n",
       "      <th></th>\n",
       "      <th></th>\n",
       "    </tr>\n",
       "  </thead>\n",
       "  <tbody>\n",
       "    <tr>\n",
       "      <th>King</th>\n",
       "      <td>34,152,985</td>\n",
       "      <td>49.5%</td>\n",
       "    </tr>\n",
       "    <tr>\n",
       "      <th>Kitsap</th>\n",
       "      <td>3,891,611</td>\n",
       "      <td>5.6%</td>\n",
       "    </tr>\n",
       "    <tr>\n",
       "      <th>Pierce</th>\n",
       "      <td>15,090,132</td>\n",
       "      <td>21.9%</td>\n",
       "    </tr>\n",
       "    <tr>\n",
       "      <th>Snohomish</th>\n",
       "      <td>15,805,123</td>\n",
       "      <td>22.9%</td>\n",
       "    </tr>\n",
       "    <tr>\n",
       "      <th>Total</th>\n",
       "      <td>68,939,851</td>\n",
       "      <td>100.0%</td>\n",
       "    </tr>\n",
       "  </tbody>\n",
       "</table>\n",
       "</div>"
      ],
      "text/plain": [
       "                 VMT % of VMT\n",
       "hh_county                    \n",
       "King      34,152,985    49.5%\n",
       "Kitsap     3,891,611     5.6%\n",
       "Pierce    15,090,132    21.9%\n",
       "Snohomish 15,805,123    22.9%\n",
       "Total     68,939,851   100.0%"
      ]
     },
     "execution_count": 10,
     "metadata": {},
     "output_type": "execute_result"
    },
    {
     "data": {
      "image/png": "[encoded data removed]",
      "text/plain": [
       "<Figure size 432x288 with 1 Axes>"
      ]
     },
     "metadata": {
      "needs_background": "light"
     },
     "output_type": "display_data"
    }
   ],
   "source": [
    "pd.options.display.float_format = '{:0,.0f}'.format\n",
    "# aggfunc sum trips filtered by dorp==1 and auto modes | groupby hh_rg_proposed\n",
    "# hh_rg_proposed, \n",
    "df = pd.read_csv(r'..\\..\\..\\outputs\\agg\\dash\\person_vmt.csv')\n",
    "df = df[(df['dorp'] == 1) & (df['mode'].isin(['SOV','HOV2','HOV3+']))]\n",
    "_df = df.groupby(geog_col).sum()[['travdist_wt']]\n",
    "_df['% of VMT'] = (_df/_df.sum()).astype('float')\n",
    "_df.rename(columns={'travdist_wt': 'VMT'}, inplace=True)\n",
    "_df.to_csv(os.path.join(os.getcwd(), r'..\\..\\..\\outputs\\compare',geog,'5_vmt.csv'))\n",
    "_df[['VMT']].plot(kind='barh', alpha=0.6)\n",
    "_df.loc['Total'] = _df.sum(axis=0)\n",
    "_df['% of VMT'] = _df['% of VMT'].apply('{:0,.1%}'.format)\n",
    "_df"
   ]
  },
  {
   "cell_type": "code",
   "execution_count": 11,
   "metadata": {
    "execution": {
     "iopub.execute_input": "2021-06-10T22:01:24.748725Z",
     "iopub.status.busy": "2021-06-10T22:01:24.748725Z",
     "iopub.status.idle": "2021-06-10T22:01:24.920561Z",
     "shell.execute_reply": "2021-06-10T22:01:24.920561Z"
    }
   },
   "outputs": [
    {
     "data": {
      "text/html": [
       "<div>\n",
       "<style scoped>\n",
       "    .dataframe tbody tr th:only-of-type {\n",
       "        vertical-align: middle;\n",
       "    }\n",
       "\n",
       "    .dataframe tbody tr th {\n",
       "        vertical-align: top;\n",
       "    }\n",
       "\n",
       "    .dataframe thead th {\n",
       "        text-align: right;\n",
       "    }\n",
       "</style>\n",
       "<table border=\"1\" class=\"dataframe\">\n",
       "  <thead>\n",
       "    <tr style=\"text-align: right;\">\n",
       "      <th></th>\n",
       "      <th>VHT</th>\n",
       "      <th>% of VHT</th>\n",
       "    </tr>\n",
       "    <tr>\n",
       "      <th>hh_county</th>\n",
       "      <th></th>\n",
       "      <th></th>\n",
       "    </tr>\n",
       "  </thead>\n",
       "  <tbody>\n",
       "    <tr>\n",
       "      <th>King</th>\n",
       "      <td>1,461,354</td>\n",
       "      <td>52.0%</td>\n",
       "    </tr>\n",
       "    <tr>\n",
       "      <th>Kitsap</th>\n",
       "      <td>149,409</td>\n",
       "      <td>5.3%</td>\n",
       "    </tr>\n",
       "    <tr>\n",
       "      <th>Pierce</th>\n",
       "      <td>597,494</td>\n",
       "      <td>21.3%</td>\n",
       "    </tr>\n",
       "    <tr>\n",
       "      <th>Snohomish</th>\n",
       "      <td>603,288</td>\n",
       "      <td>21.5%</td>\n",
       "    </tr>\n",
       "    <tr>\n",
       "      <th>Total</th>\n",
       "      <td>2,811,546</td>\n",
       "      <td>100.0%</td>\n",
       "    </tr>\n",
       "  </tbody>\n",
       "</table>\n",
       "</div>"
      ],
      "text/plain": [
       "                VHT % of VHT\n",
       "hh_county                   \n",
       "King      1,461,354    52.0%\n",
       "Kitsap      149,409     5.3%\n",
       "Pierce      597,494    21.3%\n",
       "Snohomish   603,288    21.5%\n",
       "Total     2,811,546   100.0%"
      ]
     },
     "execution_count": 11,
     "metadata": {},
     "output_type": "execute_result"
    },
    {
     "data": {
      "image/png": "[encoded data removed]",
      "text/plain": [
       "<Figure size 432x288 with 1 Axes>"
      ]
     },
     "metadata": {
      "needs_background": "light"
     },
     "output_type": "display_data"
    }
   ],
   "source": [
    "pd.options.display.float_format = '{:0,.0f}'.format\n",
    "# aggfunc sum trips filtered by dorp==1 and auto modes | groupby hh_rg_proposed\n",
    "# hh_rg_proposed, \n",
    "df = pd.read_csv(r'..\\..\\..\\outputs\\agg\\dash\\person_vht.csv')\n",
    "df = df[(df['dorp'] == 1) & (df['mode'].isin(['SOV','HOV2','HOV3+']))]\n",
    "_df = df.groupby(geog_col).sum()[['travtime_wt']]/60.0\n",
    "_df['% of VHT'] = (_df/_df.sum()).astype('float')\n",
    "_df.rename(columns={'travtime_wt': 'VHT'}, inplace=True)\n",
    "_df[['VHT']].plot(kind='barh', alpha=0.6)\n",
    "_df.loc['Total'] = _df.sum(axis=0)\n",
    "_df['% of VHT'] = _df['% of VHT'].apply('{:0,.1%}'.format)\n",
    "_df.to_csv(os.path.join(os.getcwd(), r'..\\..\\..\\outputs\\compare',geog,'6_vht.csv'))\n",
    "_df"
   ]
  },
  {
   "cell_type": "markdown",
   "metadata": {},
   "source": [
    "## Delay\n",
    "Calculated based on Household Location"
   ]
  },
  {
   "cell_type": "code",
   "execution_count": 12,
   "metadata": {
    "execution": {
     "iopub.execute_input": "2021-06-10T22:01:24.920561Z",
     "iopub.status.busy": "2021-06-10T22:01:24.920561Z",
     "iopub.status.idle": "2021-06-10T22:01:24.936182Z",
     "shell.execute_reply": "2021-06-10T22:01:24.936182Z"
    }
   },
   "outputs": [],
   "source": [
    "# might need to be calculated individually?\n",
    "# create a delay summary from total vmt and total sov_ff_time"
   ]
  },
  {
   "cell_type": "code",
   "execution_count": 13,
   "metadata": {
    "execution": {
     "iopub.execute_input": "2021-06-10T22:01:24.936182Z",
     "iopub.status.busy": "2021-06-10T22:01:24.936182Z",
     "iopub.status.idle": "2021-06-10T22:01:24.983045Z",
     "shell.execute_reply": "2021-06-10T22:01:24.983045Z"
    }
   },
   "outputs": [
    {
     "data": {
      "text/html": [
       "<div>\n",
       "<style scoped>\n",
       "    .dataframe tbody tr th:only-of-type {\n",
       "        vertical-align: middle;\n",
       "    }\n",
       "\n",
       "    .dataframe tbody tr th {\n",
       "        vertical-align: top;\n",
       "    }\n",
       "\n",
       "    .dataframe thead th {\n",
       "        text-align: right;\n",
       "    }\n",
       "</style>\n",
       "<table border=\"1\" class=\"dataframe\">\n",
       "  <thead>\n",
       "    <tr style=\"text-align: right;\">\n",
       "      <th></th>\n",
       "      <th>VHT</th>\n",
       "      <th>% of VHT</th>\n",
       "    </tr>\n",
       "    <tr>\n",
       "      <th>hh_county</th>\n",
       "      <th></th>\n",
       "      <th></th>\n",
       "    </tr>\n",
       "  </thead>\n",
       "  <tbody>\n",
       "    <tr>\n",
       "      <th>King</th>\n",
       "      <td>1,461,354</td>\n",
       "      <td>52.0%</td>\n",
       "    </tr>\n",
       "    <tr>\n",
       "      <th>Kitsap</th>\n",
       "      <td>149,409</td>\n",
       "      <td>5.3%</td>\n",
       "    </tr>\n",
       "    <tr>\n",
       "      <th>Pierce</th>\n",
       "      <td>597,494</td>\n",
       "      <td>21.3%</td>\n",
       "    </tr>\n",
       "    <tr>\n",
       "      <th>Snohomish</th>\n",
       "      <td>603,288</td>\n",
       "      <td>21.5%</td>\n",
       "    </tr>\n",
       "    <tr>\n",
       "      <th>Total</th>\n",
       "      <td>2,811,546</td>\n",
       "      <td>100.0%</td>\n",
       "    </tr>\n",
       "  </tbody>\n",
       "</table>\n",
       "</div>"
      ],
      "text/plain": [
       "                VHT % of VHT\n",
       "hh_county                   \n",
       "King      1,461,354    52.0%\n",
       "Kitsap      149,409     5.3%\n",
       "Pierce      597,494    21.3%\n",
       "Snohomish   603,288    21.5%\n",
       "Total     2,811,546   100.0%"
      ]
     },
     "execution_count": 13,
     "metadata": {},
     "output_type": "execute_result"
    }
   ],
   "source": [
    "df = pd.read_csv(r'..\\..\\..\\outputs\\agg\\dash\\trip_time_total.csv')\n",
    "df = df.groupby(geog_col).sum()[['travtime_wt']]\n",
    "\n",
    "df2 = pd.read_csv(r'..\\..\\..\\outputs\\agg\\dash\\trip_sov_ff_time.csv')\n",
    "df2 = df2.groupby(geog_col).sum()[['sov_ff_time_wt']]\n",
    "df = df2.merge(df, on=geog_col)\n",
    "\n",
    "# Hours of delay from travel time (in min)\n",
    "df['Total Delay Hours'] = (df['travtime_wt'] - df['sov_ff_time_wt'])/60\n",
    "\n",
    "pd.options.display.float_format = '{:0,.0f}'.format\n",
    "# Hours of delay for households in these locations\n",
    "df[['Total Delay Hours']]\n",
    "\n",
    "_df"
   ]
  },
  {
   "cell_type": "markdown",
   "metadata": {},
   "source": [
    "#### Average Delay Minutes per Household (per Weekday)"
   ]
  },
  {
   "cell_type": "code",
   "execution_count": 14,
   "metadata": {
    "execution": {
     "iopub.execute_input": "2021-06-10T22:01:24.998664Z",
     "iopub.status.busy": "2021-06-10T22:01:24.998664Z",
     "iopub.status.idle": "2021-06-10T22:01:25.014288Z",
     "shell.execute_reply": "2021-06-10T22:01:25.014288Z"
    }
   },
   "outputs": [
    {
     "data": {
      "text/html": [
       "<div>\n",
       "<style scoped>\n",
       "    .dataframe tbody tr th:only-of-type {\n",
       "        vertical-align: middle;\n",
       "    }\n",
       "\n",
       "    .dataframe tbody tr th {\n",
       "        vertical-align: top;\n",
       "    }\n",
       "\n",
       "    .dataframe thead th {\n",
       "        text-align: right;\n",
       "    }\n",
       "</style>\n",
       "<table border=\"1\" class=\"dataframe\">\n",
       "  <thead>\n",
       "    <tr style=\"text-align: right;\">\n",
       "      <th></th>\n",
       "      <th>Avg. Minutes of Delay per Household</th>\n",
       "    </tr>\n",
       "    <tr>\n",
       "      <th>hh_county</th>\n",
       "      <th></th>\n",
       "    </tr>\n",
       "  </thead>\n",
       "  <tbody>\n",
       "    <tr>\n",
       "      <th>King</th>\n",
       "      <td>12.2</td>\n",
       "    </tr>\n",
       "    <tr>\n",
       "      <th>Kitsap</th>\n",
       "      <td>4.0</td>\n",
       "    </tr>\n",
       "    <tr>\n",
       "      <th>Pierce</th>\n",
       "      <td>11.8</td>\n",
       "    </tr>\n",
       "    <tr>\n",
       "      <th>Snohomish</th>\n",
       "      <td>17.7</td>\n",
       "    </tr>\n",
       "  </tbody>\n",
       "</table>\n",
       "</div>"
      ],
      "text/plain": [
       "           Avg. Minutes of Delay per Household\n",
       "hh_county                                     \n",
       "King                                      12.2\n",
       "Kitsap                                     4.0\n",
       "Pierce                                    11.8\n",
       "Snohomish                                 17.7"
      ]
     },
     "execution_count": 14,
     "metadata": {},
     "output_type": "execute_result"
    }
   ],
   "source": [
    "# Average minutes of delay per household\n",
    "pd.options.display.float_format = '{:0,.1f}'.format\n",
    "_df = _df_hh.merge(df[['Total Delay Hours']], left_index=True, right_index=True)\n",
    "df['Avg. Minutes of Delay per Household'] = df['Total Delay Hours']/_df['hhexpfac']*60\n",
    "df.to_csv(os.path.join(os.getcwd(), r'..\\..\\..\\outputs\\compare',geog,'7_delay.csv'))\n",
    "\n",
    "df[['Avg. Minutes of Delay per Household']]"
   ]
  },
  {
   "cell_type": "code",
   "execution_count": null,
   "metadata": {},
   "outputs": [],
   "source": []
  }
 ],
 "metadata": {
  "kernelspec": {
   "display_name": "Python 3",
   "language": "python",
   "name": "python3"
  },
  "language_info": {
   "codemirror_mode": {
    "name": "ipython",
    "version": 3
   },
   "file_extension": ".py",
   "mimetype": "text/x-python",
   "name": "python",
   "nbconvert_exporter": "python",
   "pygments_lexer": "ipython3",
   "version": "3.7.10"
  }
 },
 "nbformat": 4,
 "nbformat_minor": 4
}
