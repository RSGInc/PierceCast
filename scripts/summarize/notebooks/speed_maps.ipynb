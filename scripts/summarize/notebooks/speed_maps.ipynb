{
 "cells": [
  {
   "cell_type": "code",
   "execution_count": 1,
   "metadata": {
    "collapsed": true
   },
   "outputs": [],
   "source": [
    "import pandas as pd"
   ]
  },
  {
   "cell_type": "code",
   "execution_count": 113,
   "metadata": {},
   "outputs": [],
   "source": [
    "df = pd.read_csv(r'L:\\vision2050\\soundcast\\integrated\\final_runs\\tod\\tod_run_8.run_2018_10_29_15_01\\2050\\outputs\\network\\network_results.csv')"
   ]
  },
  {
   "cell_type": "code",
   "execution_count": 114,
   "metadata": {},
   "outputs": [
    {
     "data": {
      "text/plain": [
       "Index([u'@bveh', u'@bvol', u'@h2tl1', u'@h2tl2', u'@h2tl3', u'@h3tl1',\n",
       "       u'@h3tl2', u'@h3tl3', u'@hveh', u'@hvtrk', u'@lttrk', u'@metrk',\n",
       "       u'@mveh', u'@svtl1', u'@svtl2', u'@svtl3', u'@tveh', u'auto_time',\n",
       "       u'auto_volume', u'data1', u'data2', u'data3', u'length', u'num_lanes',\n",
       "       u'type', u'volume_delay_func', u'i', u'j', u'ij', u'tod'],\n",
       "      dtype='object')"
      ]
     },
     "execution_count": 114,
     "metadata": {},
     "output_type": "execute_result"
    }
   ],
   "source": [
    "df.columns"
   ]
  },
  {
   "cell_type": "code",
   "execution_count": 115,
   "metadata": {},
   "outputs": [],
   "source": [
    "# df['']df['auto_time']\n",
    "df['speed_limit'] = df['data2']"
   ]
  },
  {
   "cell_type": "code",
   "execution_count": 116,
   "metadata": {},
   "outputs": [],
   "source": [
    "# df['speed_limit'] - df['auto_']\n",
    "df['speed'] = df['length']/(df['auto_time']/60)\n",
    "df.ix[df['speed'] < 0, 'speed'] = 0"
   ]
  },
  {
   "cell_type": "code",
   "execution_count": 129,
   "metadata": {},
   "outputs": [],
   "source": [
    "df['speed_limit_minus_travel_speed'] = df['speed_limit']-df['speed'] \n",
    "df.ix[df['speed_limit_minus_travel_speed'] < 0, 'speed_limit_minus_travel_speed'] = 0\n",
    "df['percent_speed_difference'] = df['speed_limit_minus_travel_speed']/df['speed_limit']"
   ]
  },
  {
   "cell_type": "code",
   "execution_count": 133,
   "metadata": {},
   "outputs": [],
   "source": [
    "# For each pair ij, find the time of day with max percent speed difference (most congested period)\n",
    "gb = df[['ij','percent_speed_difference','tod']].groupby('ij').max()[['percent_speed_difference','tod']]"
   ]
  },
  {
   "cell_type": "code",
   "execution_count": 134,
   "metadata": {},
   "outputs": [],
   "source": [
    "gb.to_csv(r'L:\\vision2050\\soundcast\\integrated\\final_runs\\tod\\tod_run_8.run_2018_10_29_15_01\\2050\\outputs\\network\\max_congested_ij.csv')"
   ]
  },
  {
   "cell_type": "code",
   "execution_count": 132,
   "metadata": {},
   "outputs": [
    {
     "data": {
      "text/plain": [
       "0.001138819752689398"
      ]
     },
     "execution_count": 132,
     "metadata": {},
     "output_type": "execute_result"
    }
   ],
   "source": [
    "df['percent_speed_difference'].median()"
   ]
  },
  {
   "cell_type": "code",
   "execution_count": 128,
   "metadata": {},
   "outputs": [
    {
     "data": {
      "text/plain": [
       "0.016078080540536277"
      ]
     },
     "execution_count": 128,
     "metadata": {},
     "output_type": "execute_result"
    }
   ],
   "source": []
  },
  {
   "cell_type": "code",
   "execution_count": null,
   "metadata": {
    "collapsed": true
   },
   "outputs": [],
   "source": []
  }
 ],
 "metadata": {
  "kernelspec": {
   "display_name": "Python 2",
   "language": "python",
   "name": "python2"
  },
  "language_info": {
   "codemirror_mode": {
    "name": "ipython",
    "version": 2
   },
   "file_extension": ".py",
   "mimetype": "text/x-python",
   "name": "python",
   "nbconvert_exporter": "python",
   "pygments_lexer": "ipython2",
   "version": "2.7.14"
  }
 },
 "nbformat": 4,
 "nbformat_minor": 2
}
