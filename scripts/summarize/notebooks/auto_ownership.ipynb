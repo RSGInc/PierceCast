{
 "cells": [
  {
   "cell_type": "markdown",
   "metadata": {},
   "source": [
    "# Auto Ownership- Survey Comparison"
   ]
  },
  {
   "cell_type": "code",
   "execution_count": 1,
   "metadata": {},
   "outputs": [],
   "source": [
    "import warnings\n",
    "warnings.simplefilter(action='ignore', category=FutureWarning)\n",
    "import pandas as pd\n",
    "import os, sys\n",
    "%matplotlib inline\n",
    "\n",
    "from IPython.display import display, HTML\n",
    "\n",
    "if (sys.version_info < (3, 0)):\n",
    "    HTML('''<script>\n",
    "    code_show=true; \n",
    "    function code_toggle() {\n",
    "     if (code_show){\n",
    "     $('div.input').hide();\n",
    "     } else {\n",
    "     $('div.input').show();\n",
    "     }\n",
    "     code_show = !code_show\n",
    "    } \n",
    "    $( document ).ready(code_toggle);\n",
    "    </script>\n",
    "    <form action=\"javascript:code_toggle()\"><input type=\"submit\" value=\"Click here to toggle on/off the raw code.\"></form>''')\n"
   ]
  },
  {
   "cell_type": "code",
   "execution_count": 2,
   "metadata": {},
   "outputs": [],
   "source": [
    "working_dir = r'../../../outputs/agg/dash'\n",
    "pd.options.display.float_format = '{:0,.0f}'.format\n",
    "format_percent = \"{:,.2%}\".format"
   ]
  },
  {
   "cell_type": "code",
   "execution_count": 3,
   "metadata": {},
   "outputs": [],
   "source": [
    "def load_data(fname):\n",
    "    \"\"\" open and join model and survey data \"\"\"\n",
    "\n",
    "    df_model = pd.read_csv(os.path.join(working_dir,fname+'.csv'))\n",
    "    df_model['source'] = 'model'\n",
    "    df_survey = pd.read_csv(os.path.join(working_dir,'survey',fname+'.csv'))\n",
    "    df_survey['source'] = 'survey'\n",
    "    df = df_model.append(df_survey)\n",
    "\n",
    "    return df"
   ]
  },
  {
   "cell_type": "code",
   "execution_count": 4,
   "metadata": {},
   "outputs": [
    {
     "data": {
      "text/plain": [
       "<matplotlib.axes._subplots.AxesSubplot at 0x24f45209448>"
      ]
     },
     "execution_count": 4,
     "metadata": {},
     "output_type": "execute_result"
    },
    {
     "data": {
      "image/png": "[encoded data removed]",
      "text/plain": [
       "<Figure size 432x288 with 1 Axes>"
      ]
     },
     "metadata": {
      "needs_background": "light"
     },
     "output_type": "display_data"
    }
   ],
   "source": [
    "df = load_data('auto_ownership')\n",
    "df.loc[df['hhvehs'] >= 4, 'hhvehs'] = '4+'\n",
    "df = df.pivot_table(index='hhvehs', columns='source', aggfunc='sum', values='hhexpfac')\n",
    "df.plot(kind='barh', title='Region', legend='reverse', alpha=0.6)"
   ]
  },
  {
   "cell_type": "code",
   "execution_count": 5,
   "metadata": {},
   "outputs": [
    {
     "data": {
      "text/html": [
       "<div>\n",
       "<style scoped>\n",
       "    .dataframe tbody tr th:only-of-type {\n",
       "        vertical-align: middle;\n",
       "    }\n",
       "\n",
       "    .dataframe tbody tr th {\n",
       "        vertical-align: top;\n",
       "    }\n",
       "\n",
       "    .dataframe thead th {\n",
       "        text-align: right;\n",
       "    }\n",
       "</style>\n",
       "<table border=\"1\" class=\"dataframe\">\n",
       "  <thead>\n",
       "    <tr style=\"text-align: right;\">\n",
       "      <th>source</th>\n",
       "      <th>model</th>\n",
       "      <th>survey</th>\n",
       "      <th>est/observed</th>\n",
       "    </tr>\n",
       "    <tr>\n",
       "      <th>hhvehs</th>\n",
       "      <th></th>\n",
       "      <th></th>\n",
       "      <th></th>\n",
       "    </tr>\n",
       "  </thead>\n",
       "  <tbody>\n",
       "    <tr>\n",
       "      <th>0.0</th>\n",
       "      <td>138,601</td>\n",
       "      <td>129,688</td>\n",
       "      <td>107</td>\n",
       "    </tr>\n",
       "    <tr>\n",
       "      <th>1.0</th>\n",
       "      <td>485,134</td>\n",
       "      <td>512,273</td>\n",
       "      <td>95</td>\n",
       "    </tr>\n",
       "    <tr>\n",
       "      <th>2.0</th>\n",
       "      <td>620,449</td>\n",
       "      <td>624,897</td>\n",
       "      <td>99</td>\n",
       "    </tr>\n",
       "    <tr>\n",
       "      <th>3.0</th>\n",
       "      <td>233,994</td>\n",
       "      <td>267,391</td>\n",
       "      <td>88</td>\n",
       "    </tr>\n",
       "    <tr>\n",
       "      <th>4+</th>\n",
       "      <td>127,085</td>\n",
       "      <td>122,263</td>\n",
       "      <td>104</td>\n",
       "    </tr>\n",
       "  </tbody>\n",
       "</table>\n",
       "</div>"
      ],
      "text/plain": [
       "source   model  survey  est/observed\n",
       "hhvehs                              \n",
       "0.0    138,601 129,688           107\n",
       "1.0    485,134 512,273            95\n",
       "2.0    620,449 624,897            99\n",
       "3.0    233,994 267,391            88\n",
       "4+     127,085 122,263           104"
      ]
     },
     "execution_count": 5,
     "metadata": {},
     "output_type": "execute_result"
    }
   ],
   "source": [
    "df['est/observed'] = (df['model'] / df['survey']) * 100\n",
    "df"
   ]
  },
  {
   "cell_type": "markdown",
   "metadata": {},
   "source": [
    "## By Income"
   ]
  },
  {
   "cell_type": "code",
   "execution_count": 6,
   "metadata": {},
   "outputs": [
    {
     "data": {
      "text/html": [
       "<div>\n",
       "<style scoped>\n",
       "    .dataframe tbody tr th:only-of-type {\n",
       "        vertical-align: middle;\n",
       "    }\n",
       "\n",
       "    .dataframe tbody tr th {\n",
       "        vertical-align: top;\n",
       "    }\n",
       "\n",
       "    .dataframe thead th {\n",
       "        text-align: right;\n",
       "    }\n",
       "</style>\n",
       "<table border=\"1\" class=\"dataframe\">\n",
       "  <thead>\n",
       "    <tr style=\"text-align: right;\">\n",
       "      <th></th>\n",
       "      <th>income_bin</th>\n",
       "      <th>0-$20k</th>\n",
       "      <th>$20-40k</th>\n",
       "      <th>$40-60k</th>\n",
       "      <th>$60-75k</th>\n",
       "      <th>&gt;$75k</th>\n",
       "    </tr>\n",
       "    <tr>\n",
       "      <th>hhvehs</th>\n",
       "      <th>source</th>\n",
       "      <th></th>\n",
       "      <th></th>\n",
       "      <th></th>\n",
       "      <th></th>\n",
       "      <th></th>\n",
       "    </tr>\n",
       "  </thead>\n",
       "  <tbody>\n",
       "    <tr>\n",
       "      <th rowspan=\"2\" valign=\"top\">0.0</th>\n",
       "      <th>model</th>\n",
       "      <td>54,250</td>\n",
       "      <td>31,122</td>\n",
       "      <td>17,659</td>\n",
       "      <td>5,733</td>\n",
       "      <td>29,830</td>\n",
       "    </tr>\n",
       "    <tr>\n",
       "      <th>survey</th>\n",
       "      <td>64,043</td>\n",
       "      <td>27,901</td>\n",
       "      <td>17,279</td>\n",
       "      <td>0</td>\n",
       "      <td>20,465</td>\n",
       "    </tr>\n",
       "    <tr>\n",
       "      <th rowspan=\"2\" valign=\"top\">1.0</th>\n",
       "      <th>model</th>\n",
       "      <td>110,298</td>\n",
       "      <td>103,181</td>\n",
       "      <td>80,125</td>\n",
       "      <td>29,340</td>\n",
       "      <td>162,096</td>\n",
       "    </tr>\n",
       "    <tr>\n",
       "      <th>survey</th>\n",
       "      <td>138,715</td>\n",
       "      <td>102,527</td>\n",
       "      <td>110,953</td>\n",
       "      <td>0</td>\n",
       "      <td>160,079</td>\n",
       "    </tr>\n",
       "    <tr>\n",
       "      <th rowspan=\"2\" valign=\"top\">2.0</th>\n",
       "      <th>model</th>\n",
       "      <td>37,984</td>\n",
       "      <td>57,982</td>\n",
       "      <td>81,948</td>\n",
       "      <td>41,048</td>\n",
       "      <td>401,471</td>\n",
       "    </tr>\n",
       "    <tr>\n",
       "      <th>survey</th>\n",
       "      <td>90,579</td>\n",
       "      <td>85,436</td>\n",
       "      <td>77,247</td>\n",
       "      <td>0</td>\n",
       "      <td>371,635</td>\n",
       "    </tr>\n",
       "    <tr>\n",
       "      <th rowspan=\"2\" valign=\"top\">3+</th>\n",
       "      <th>model</th>\n",
       "      <td>10,188</td>\n",
       "      <td>19,719</td>\n",
       "      <td>33,040</td>\n",
       "      <td>17,703</td>\n",
       "      <td>280,421</td>\n",
       "    </tr>\n",
       "    <tr>\n",
       "      <th>survey</th>\n",
       "      <td>55,980</td>\n",
       "      <td>20,591</td>\n",
       "      <td>36,424</td>\n",
       "      <td>0</td>\n",
       "      <td>276,658</td>\n",
       "    </tr>\n",
       "  </tbody>\n",
       "</table>\n",
       "</div>"
      ],
      "text/plain": [
       "income_bin     0-$20k  $20-40k  $40-60k  $60-75k   >$75k\n",
       "hhvehs source                                           \n",
       "0.0    model   54,250   31,122   17,659    5,733  29,830\n",
       "       survey  64,043   27,901   17,279        0  20,465\n",
       "1.0    model  110,298  103,181   80,125   29,340 162,096\n",
       "       survey 138,715  102,527  110,953        0 160,079\n",
       "2.0    model   37,984   57,982   81,948   41,048 401,471\n",
       "       survey  90,579   85,436   77,247        0 371,635\n",
       "3+     model   10,188   19,719   33,040   17,703 280,421\n",
       "       survey  55,980   20,591   36,424        0 276,658"
      ]
     },
     "execution_count": 6,
     "metadata": {},
     "output_type": "execute_result"
    }
   ],
   "source": [
    "df = load_data('auto_ownership')\n",
    "\n",
    "# Define income groups\n",
    "inc_bin=[-1,20000,40000,60000,75000,9999999999999]\n",
    "inc_bin_labels = ['0-$20k','$20-40k','$40-60k','$60-75k','>$75k']\n",
    "df['income_bin'] = pd.cut(df['hhincome_thousands'], bins=inc_bin, labels=inc_bin_labels)\n",
    "\n",
    "df.loc[df['hhvehs'] >= 3, 'hhvehs'] = '3+'\n",
    "\n",
    "pd.pivot_table(df, index=['hhvehs','source'], columns='income_bin', values='hhexpfac', aggfunc='sum')"
   ]
  },
  {
   "cell_type": "code",
   "execution_count": 7,
   "metadata": {},
   "outputs": [],
   "source": [
    "pd.options.display.float_format = \"{:,.2%}\".format\n",
    "_df_model = pd.pivot_table(df[df['source'] == 'model'], index='hhvehs', columns='hh_county', values='hhexpfac', aggfunc='sum')\n",
    "_df_model = _df_model/_df_model.sum()\n",
    "_df_survey = pd.pivot_table(df[df['source'] == 'survey'], index='hhvehs', columns='hh_county', values='hhexpfac', aggfunc='sum')\n",
    "_df_survey = _df_survey/_df_survey.sum()"
   ]
  },
  {
   "cell_type": "code",
   "execution_count": 8,
   "metadata": {},
   "outputs": [
    {
     "data": {
      "image/png": "[encoded data removed]",
      "text/plain": [
       "<Figure size 432x288 with 1 Axes>"
      ]
     },
     "metadata": {
      "needs_background": "light"
     },
     "output_type": "display_data"
    },
    {
     "data": {
      "image/png": "[encoded data removed]",
      "text/plain": [
       "<Figure size 432x288 with 1 Axes>"
      ]
     },
     "metadata": {
      "needs_background": "light"
     },
     "output_type": "display_data"
    },
    {
     "data": {
      "image/png": "[encoded data removed]",
      "text/plain": [
       "<Figure size 432x288 with 1 Axes>"
      ]
     },
     "metadata": {
      "needs_background": "light"
     },
     "output_type": "display_data"
    },
    {
     "data": {
      "image/png": "[encoded data removed]",
      "text/plain": [
       "<Figure size 432x288 with 1 Axes>"
      ]
     },
     "metadata": {
      "needs_background": "light"
     },
     "output_type": "display_data"
    }
   ],
   "source": [
    "for county in df['hh_county'].unique():\n",
    "    _df = pd.DataFrame([_df_survey[county],_df_model[county]]).T\n",
    "    _df.columns = ['survey','model']\n",
    "    _df.plot(kind='barh', title=county, legend='reverse', alpha=0.6)"
   ]
  },
  {
   "cell_type": "code",
   "execution_count": null,
   "metadata": {},
   "outputs": [],
   "source": []
  }
 ],
 "metadata": {
  "kernelspec": {
   "display_name": "Python 3",
   "language": "python",
   "name": "python3"
  },
  "language_info": {
   "codemirror_mode": {
    "name": "ipython",
    "version": 3
   },
   "file_extension": ".py",
   "mimetype": "text/x-python",
   "name": "python",
   "nbconvert_exporter": "python",
   "pygments_lexer": "ipython3",
   "version": "3.7.10"
  }
 },
 "nbformat": 4,
 "nbformat_minor": 4
}
