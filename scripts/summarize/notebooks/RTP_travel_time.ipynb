{
 "cells": [
  {
   "cell_type": "code",
   "execution_count": 1,
   "id": "4f06d1ae",
   "metadata": {},
   "outputs": [],
   "source": [
    "import os, sys, time\n",
    "import warnings\n",
    "warnings.simplefilter(action='ignore', category=FutureWarning)\n",
    "import pandas as pd\n",
    "pd.options.mode.chained_assignment = None\n",
    "import h5py\n",
    "\n",
    "%matplotlib inline\n",
    "\n",
    "from IPython.display import display, HTML\n",
    "\n",
    "if (sys.version_info < (3, 0)):\n",
    "    HTML('''<script>\n",
    "    code_show=true; \n",
    "    function code_toggle() {\n",
    "     if (code_show){\n",
    "     $('div.input').hide();\n",
    "     } else {\n",
    "     $('div.input').show();\n",
    "     }\n",
    "     code_show = !code_show\n",
    "    } \n",
    "    $( document ).ready(code_toggle);\n",
    "    </script>\n",
    "    <form action=\"javascript:code_toggle()\"><input type=\"submit\" value=\"Click here to toggle on/off the raw code.\"></form>''')\n"
   ]
  },
  {
   "cell_type": "code",
   "execution_count": 2,
   "id": "051b5556",
   "metadata": {},
   "outputs": [],
   "source": [
    "CSS = \"\"\"\n",
    ".output {\n",
    "    flex-direction: row;\n",
    "}\n",
    "\"\"\"\n",
    "\n",
    "HTML('<style>{}</style>'.format(CSS))\n",
    "\n",
    "# Relative path between notebooks and goruped output directories\n",
    "relative_path = '../../../outputs'\n",
    "survey_path = '../../../inputs/base_year/survey'"
   ]
  },
  {
   "cell_type": "code",
   "execution_count": 3,
   "id": "1e1b55d1",
   "metadata": {},
   "outputs": [],
   "source": [
    "pd.options.display.float_format = '{:0,.0f}'.format"
   ]
  },
  {
   "cell_type": "code",
   "execution_count": 4,
   "id": "9a76f42a",
   "metadata": {},
   "outputs": [],
   "source": [
    "def load_network_summary(filepath):\n",
    "    \"\"\"Load network-level results using a standard procedure. \"\"\"\n",
    "    df = pd.read_csv(filepath)\n",
    "\n",
    "    # Congested network components by time of day\n",
    "    df.columns\n",
    "\n",
    "    # Get freeflow from 20to5 period\n",
    "\n",
    "    # Exclude trips taken on non-designated facilities (facility_type == 0)\n",
    "    # These are artificial (weave lanes to connect HOV) or for non-auto uses \n",
    "    df = df[df['data3'] != 0]    # data3 represents facility_type\n",
    "\n",
    "    # calculate total link VMT and VHT\n",
    "    df['VMT'] = df['@tveh']*df['length']\n",
    "    df['VHT'] = df['@tveh']*df['auto_time']/60\n",
    "\n",
    "    # Define facility type\n",
    "    df.loc[df['data3'].isin([1,2]), 'facility_type'] = 'highway'\n",
    "    df.loc[df['data3'].isin([3,4,6]), 'facility_type'] = 'arterial'\n",
    "    df.loc[df['data3'].isin([5]), 'facility_type'] = 'connector'\n",
    "\n",
    "    # Calculate delay\n",
    "    # Select links from overnight time of day\n",
    "    delay_df = df.loc[df['tod'] == '20to5'][['ij','auto_time']]\n",
    "    delay_df.rename(columns={'auto_time':'freeflow_time'}, inplace=True)\n",
    "\n",
    "    # Merge delay field back onto network link df\n",
    "    df = pd.merge(df, delay_df, on='ij', how='left')\n",
    "\n",
    "    # Calcualte hourly delay\n",
    "    df['total_delay'] = ((df['auto_time']-df['freeflow_time'])*df['@tveh'])/60    # sum of (volume)*(travtime diff from freeflow)\n",
    "\n",
    "    df['county'] =df['@countyid'].map({33: 'King',\n",
    "                                      35: 'Kitsap',\n",
    "                                      53: 'Pierce',\n",
    "                                      61: 'Snohomish'})\n",
    "    \n",
    "    return df"
   ]
  },
  {
   "cell_type": "markdown",
   "id": "545bbe45",
   "metadata": {},
   "source": [
    "# SOV Travel Time\n",
    "Identified Corridors\n",
    "AM & PM Peaks"
   ]
  },
  {
   "cell_type": "markdown",
   "id": "c0072334",
   "metadata": {},
   "source": [
    "# Express Lane Travel Time\n",
    "Identified Corridors\n",
    "AM & PM Peaks"
   ]
  },
  {
   "cell_type": "markdown",
   "id": "545bbe45",
   "metadata": {},
   "source": [
    "# Transit Travel Time\n",
    "Identified Corridors\n",
    "AM & PM Peaks"
   ]
  },
  {
   "cell_type": "code",
   "execution_count": 7,
   "id": "0257b706",
   "metadata": {},
   "outputs": [],
   "source": [
    "# Map, showing all links with equity geographies as layers\n",
    "# Create a shapefile that can be imported as a layer (?)"
   ]
  },
  {
   "cell_type": "code",
   "execution_count": 8,
   "id": "286bca7a",
   "metadata": {},
   "outputs": [],
   "source": [
    "# Congestion by Level \n",
    "# Table\n",
    "# County + Region by Roadway type\n",
    "# AM & PM Peak Periods"
   ]
  },
  {
   "cell_type": "code",
   "execution_count": null,
   "id": "f8fb32aa",
   "metadata": {},
   "outputs": [],
   "source": []
  }
 ],
 "metadata": {
  "celltoolbar": "Edit Metadata",
  "kernelspec": {
   "display_name": "Python 3",
   "language": "python",
   "name": "python3"
  },
  "language_info": {
   "codemirror_mode": {
    "name": "ipython",
    "version": 3
   },
   "file_extension": ".py",
   "mimetype": "text/x-python",
   "name": "python",
   "nbconvert_exporter": "python",
   "pygments_lexer": "ipython3",
   "version": "3.7.10"
  }
 },
 "nbformat": 4,
 "nbformat_minor": 5
}
