{
 "cells": [
  {
   "cell_type": "code",
   "execution_count": 1,
   "metadata": {},
   "outputs": [
    {
     "data": {
      "text/html": [
       "<script>\n",
       "code_show=true; \n",
       "function code_toggle() {\n",
       " if (code_show){\n",
       " $('div.input').hide();\n",
       " } else {\n",
       " $('div.input').show();\n",
       " }\n",
       " code_show = !code_show\n",
       "} \n",
       "$( document ).ready(code_toggle);\n",
       "</script>\n",
       "<form action=\"javascript:code_toggle()\"><input type=\"submit\" value=\"Click here to toggle on/off the raw code.\"></form>"
      ],
      "text/plain": [
       "<IPython.core.display.HTML object>"
      ]
     },
     "execution_count": 1,
     "metadata": {},
     "output_type": "execute_result"
    }
   ],
   "source": [
    "import os, time\n",
    "from scipy import stats\n",
    "import warnings\n",
    "warnings.simplefilter(action='ignore', category=FutureWarning)\n",
    "import pandas as pd\n",
    "import numpy as np\n",
    "import matplotlib.pyplot as plt\n",
    "%matplotlib inline\n",
    "\n",
    "from IPython.display import display, HTML\n",
    "\n",
    "HTML('''<script>\n",
    "code_show=true; \n",
    "function code_toggle() {\n",
    " if (code_show){\n",
    " $('div.input').hide();\n",
    " } else {\n",
    " $('div.input').show();\n",
    " }\n",
    " code_show = !code_show\n",
    "} \n",
    "$( document ).ready(code_toggle);\n",
    "</script>\n",
    "<form action=\"javascript:code_toggle()\"><input type=\"submit\" value=\"Click here to toggle on/off the raw code.\"></form>''')"
   ]
  },
  {
   "cell_type": "code",
   "execution_count": 2,
   "metadata": {},
   "outputs": [
    {
     "name": "stdout",
     "output_type": "stream",
     "text": [
      "Summary run: Mon, 22 Mar 2021 17:44\n"
     ]
    }
   ],
   "source": [
    "# Create timestamp to show when this summary was run\n",
    "print 'Summary run: ' + time.strftime(\"%a, %d %b %Y %H:%M\")"
   ]
  },
  {
   "cell_type": "code",
   "execution_count": 3,
   "metadata": {},
   "outputs": [],
   "source": [
    "base_path = os.getcwd().split('\\\\scripts')[0]\n",
    "relative_path = '../../../outputs'\n",
    "pd.options.display.float_format = '{:,.3f}'.format\n",
    "format_percent = \"{:,.2%}\".format"
   ]
  },
  {
   "cell_type": "markdown",
   "metadata": {},
   "source": [
    "# Workers by County"
   ]
  },
  {
   "cell_type": "code",
   "execution_count": 4,
   "metadata": {},
   "outputs": [
    {
     "data": {
      "text/html": [
       "<div>\n",
       "<table border=\"1\" class=\"dataframe\">\n",
       "  <thead>\n",
       "    <tr style=\"text-align: right;\">\n",
       "      <th></th>\n",
       "      <th>WFH Workers</th>\n",
       "      <th>Total Workers</th>\n",
       "      <th>% WFH Workers</th>\n",
       "    </tr>\n",
       "    <tr>\n",
       "      <th>person_county</th>\n",
       "      <th></th>\n",
       "      <th></th>\n",
       "      <th></th>\n",
       "    </tr>\n",
       "  </thead>\n",
       "  <tbody>\n",
       "    <tr>\n",
       "      <th>King</th>\n",
       "      <td>78,333.000</td>\n",
       "      <td>1,460,329.000</td>\n",
       "      <td>0.054</td>\n",
       "    </tr>\n",
       "    <tr>\n",
       "      <th>Kitsap</th>\n",
       "      <td>17,657.000</td>\n",
       "      <td>152,452.000</td>\n",
       "      <td>0.116</td>\n",
       "    </tr>\n",
       "    <tr>\n",
       "      <th>Pierce</th>\n",
       "      <td>40,553.000</td>\n",
       "      <td>533,213.000</td>\n",
       "      <td>0.076</td>\n",
       "    </tr>\n",
       "    <tr>\n",
       "      <th>Snohomish</th>\n",
       "      <td>39,525.000</td>\n",
       "      <td>561,695.000</td>\n",
       "      <td>0.070</td>\n",
       "    </tr>\n",
       "    <tr>\n",
       "      <th>Region</th>\n",
       "      <td>176,068.000</td>\n",
       "      <td>2,707,689.000</td>\n",
       "      <td>0.065</td>\n",
       "    </tr>\n",
       "  </tbody>\n",
       "</table>\n",
       "</div>"
      ],
      "text/plain": [
       "               WFH Workers  Total Workers  % WFH Workers\n",
       "person_county                                           \n",
       "King            78,333.000  1,460,329.000          0.054\n",
       "Kitsap          17,657.000    152,452.000          0.116\n",
       "Pierce          40,553.000    533,213.000          0.076\n",
       "Snohomish       39,525.000    561,695.000          0.070\n",
       "Region         176,068.000  2,707,689.000          0.065"
      ]
     },
     "execution_count": 4,
     "metadata": {},
     "output_type": "execute_result"
    }
   ],
   "source": [
    "df_wfh = pd.read_csv(os.path.join(relative_path,'agg','dash','wfh_county.csv'))\n",
    "df_wfh_survey = pd.read_csv(os.path.join(relative_path,'agg','dash','survey','wfh_county.csv'))\n",
    "\n",
    "# Total Workers by County\n",
    "df_tot = pd.read_csv(os.path.join(relative_path,'agg','dash','pptyp_county.csv'))\n",
    "df_tot = df_tot[df_tot['pptyp'].isin(['Full-Time Worker', 'Part-Time Worker'])]\n",
    "df_tot = df_tot.groupby('person_county').sum()[['psexpfac']].reset_index()\n",
    "total_nonwfh_workers = df_tot.sum()['psexpfac']\n",
    "\n",
    "df_tot_survey = pd.read_csv(os.path.join(relative_path,'agg','dash','survey','pptyp_county.csv'))\n",
    "df_tot_survey = df_tot_survey[df_tot_survey['pptyp'].isin(['Full-Time Worker', 'Part-Time Worker'])]\n",
    "df_tot_survey = df_tot_survey.groupby('person_county').sum()[['psexpfac']].reset_index()\n",
    "total_nonwfh_workers_survey = df_tot_survey.sum()['psexpfac']\n",
    "\n",
    "df = df_wfh.merge(df_tot, on='person_county')\n",
    "df.index = df['person_county']\n",
    "df.drop('person_county', axis=1,inplace=True)\n",
    "df.columns = ['WFH Workers', 'Total Workers']\n",
    "df.loc['Region'] = df.sum(axis=0)\n",
    "df['% WFH Workers'] = df['WFH Workers']/df['Total Workers']\n",
    "df"
   ]
  },
  {
   "cell_type": "code",
   "execution_count": 5,
   "metadata": {},
   "outputs": [
    {
     "data": {
      "text/plain": [
       "2707689.0"
      ]
     },
     "execution_count": 5,
     "metadata": {},
     "output_type": "execute_result"
    }
   ],
   "source": [
    "df_tot.sum()['psexpfac']"
   ]
  },
  {
   "cell_type": "markdown",
   "metadata": {},
   "source": [
    "# Tour Rate for Work-at-Home Workers"
   ]
  },
  {
   "cell_type": "code",
   "execution_count": 6,
   "metadata": {},
   "outputs": [
    {
     "data": {
      "text/html": [
       "<div>\n",
       "<table border=\"1\" class=\"dataframe\">\n",
       "  <thead>\n",
       "    <tr style=\"text-align: right;\">\n",
       "      <th></th>\n",
       "      <th>pdpurp</th>\n",
       "      <th>tours_model</th>\n",
       "      <th>tours_survey</th>\n",
       "      <th>tour_rate_model</th>\n",
       "      <th>tour_rate_survey</th>\n",
       "    </tr>\n",
       "  </thead>\n",
       "  <tbody>\n",
       "    <tr>\n",
       "      <th>0</th>\n",
       "      <td>Escort</td>\n",
       "      <td>59,671.000</td>\n",
       "      <td>23855</td>\n",
       "      <td>0.339</td>\n",
       "      <td>0.135</td>\n",
       "    </tr>\n",
       "    <tr>\n",
       "      <th>1</th>\n",
       "      <td>Meal</td>\n",
       "      <td>9,654.000</td>\n",
       "      <td>13883</td>\n",
       "      <td>0.055</td>\n",
       "      <td>0.079</td>\n",
       "    </tr>\n",
       "    <tr>\n",
       "      <th>2</th>\n",
       "      <td>Personal Business</td>\n",
       "      <td>44,647.000</td>\n",
       "      <td>37346</td>\n",
       "      <td>0.254</td>\n",
       "      <td>0.212</td>\n",
       "    </tr>\n",
       "    <tr>\n",
       "      <th>3</th>\n",
       "      <td>School</td>\n",
       "      <td>3,965.000</td>\n",
       "      <td>687</td>\n",
       "      <td>0.023</td>\n",
       "      <td>0.004</td>\n",
       "    </tr>\n",
       "    <tr>\n",
       "      <th>4</th>\n",
       "      <td>Shop</td>\n",
       "      <td>55,344.000</td>\n",
       "      <td>51688</td>\n",
       "      <td>0.314</td>\n",
       "      <td>0.294</td>\n",
       "    </tr>\n",
       "    <tr>\n",
       "      <th>5</th>\n",
       "      <td>Social</td>\n",
       "      <td>55,903.000</td>\n",
       "      <td>76994</td>\n",
       "      <td>0.318</td>\n",
       "      <td>0.437</td>\n",
       "    </tr>\n",
       "    <tr>\n",
       "      <th>6</th>\n",
       "      <td>Work</td>\n",
       "      <td>24,602.000</td>\n",
       "      <td>25335</td>\n",
       "      <td>0.140</td>\n",
       "      <td>0.144</td>\n",
       "    </tr>\n",
       "  </tbody>\n",
       "</table>\n",
       "</div>"
      ],
      "text/plain": [
       "              pdpurp  tours_model  tours_survey  tour_rate_model  \\\n",
       "0             Escort   59,671.000         23855            0.339   \n",
       "1               Meal    9,654.000         13883            0.055   \n",
       "2  Personal Business   44,647.000         37346            0.254   \n",
       "3             School    3,965.000           687            0.023   \n",
       "4               Shop   55,344.000         51688            0.314   \n",
       "5             Social   55,903.000         76994            0.318   \n",
       "6               Work   24,602.000         25335            0.140   \n",
       "\n",
       "   tour_rate_survey  \n",
       "0             0.135  \n",
       "1             0.079  \n",
       "2             0.212  \n",
       "3             0.004  \n",
       "4             0.294  \n",
       "5             0.437  \n",
       "6             0.144  "
      ]
     },
     "execution_count": 6,
     "metadata": {},
     "output_type": "execute_result"
    }
   ],
   "source": [
    "df_tours = pd.read_csv(os.path.join(relative_path,'agg','dash','work_from_home_tours.csv'))\n",
    "total_wfh_workers = df_wfh.psexpfac.sum()\n",
    "df = df_tours.groupby('pdpurp').sum()[['toexpfac']].reset_index()\n",
    "df['tour_rate'] = df['toexpfac']/total_wfh_workers\n",
    "df\n",
    "\n",
    "df_tours_survey = pd.read_csv(os.path.join(relative_path,'agg','dash','survey','work_from_home_tours.csv'))\n",
    "total_wfh_workers_survey = df_wfh.psexpfac.sum()\n",
    "df_survey = df_tours_survey.groupby('pdpurp').sum()[['toexpfac']].reset_index()\n",
    "df_survey['tour_rate'] = df_survey['toexpfac']/total_wfh_workers_survey\n",
    "df = df.merge(df_survey,on='pdpurp',suffixes=['_model','_survey'])\n",
    "df.rename(columns={'toexpfac_model': 'tours_model', 'toexpfac_survey': 'tours_survey'}, inplace=True)\n",
    "df['tours_survey'] = df['tours_survey'].astype('int')\n",
    "df[['pdpurp','tours_model','tours_survey','tour_rate_model','tour_rate_survey']]"
   ]
  },
  {
   "cell_type": "markdown",
   "metadata": {},
   "source": [
    "### Tour Rates for Workers that do NOT WF"
   ]
  },
  {
   "cell_type": "code",
   "execution_count": 7,
   "metadata": {},
   "outputs": [
    {
     "data": {
      "text/html": [
       "<div>\n",
       "<table border=\"1\" class=\"dataframe\">\n",
       "  <thead>\n",
       "    <tr style=\"text-align: right;\">\n",
       "      <th></th>\n",
       "      <th>pdpurp</th>\n",
       "      <th>total_tours_model</th>\n",
       "      <th>total_tours_survey</th>\n",
       "      <th>tour_rate_model</th>\n",
       "      <th>tour_rate_survey</th>\n",
       "    </tr>\n",
       "  </thead>\n",
       "  <tbody>\n",
       "    <tr>\n",
       "      <th>0</th>\n",
       "      <td>Escort</td>\n",
       "      <td>278,574.000</td>\n",
       "      <td>174,142.860</td>\n",
       "      <td>0.103</td>\n",
       "      <td>0.093</td>\n",
       "    </tr>\n",
       "    <tr>\n",
       "      <th>1</th>\n",
       "      <td>Meal</td>\n",
       "      <td>559,183.000</td>\n",
       "      <td>239,951.960</td>\n",
       "      <td>0.207</td>\n",
       "      <td>0.129</td>\n",
       "    </tr>\n",
       "    <tr>\n",
       "      <th>2</th>\n",
       "      <td>Personal Business</td>\n",
       "      <td>257,010.000</td>\n",
       "      <td>269,848.570</td>\n",
       "      <td>0.095</td>\n",
       "      <td>0.145</td>\n",
       "    </tr>\n",
       "    <tr>\n",
       "      <th>3</th>\n",
       "      <td>School</td>\n",
       "      <td>45,912.000</td>\n",
       "      <td>15,975.350</td>\n",
       "      <td>0.017</td>\n",
       "      <td>0.009</td>\n",
       "    </tr>\n",
       "    <tr>\n",
       "      <th>4</th>\n",
       "      <td>Shop</td>\n",
       "      <td>340,165.000</td>\n",
       "      <td>249,110.000</td>\n",
       "      <td>0.126</td>\n",
       "      <td>0.134</td>\n",
       "    </tr>\n",
       "    <tr>\n",
       "      <th>5</th>\n",
       "      <td>Social</td>\n",
       "      <td>721,108.000</td>\n",
       "      <td>454,542.440</td>\n",
       "      <td>0.266</td>\n",
       "      <td>0.244</td>\n",
       "    </tr>\n",
       "    <tr>\n",
       "      <th>6</th>\n",
       "      <td>Work</td>\n",
       "      <td>2,368,974.000</td>\n",
       "      <td>1,903,085.920</td>\n",
       "      <td>0.875</td>\n",
       "      <td>1.020</td>\n",
       "    </tr>\n",
       "  </tbody>\n",
       "</table>\n",
       "</div>"
      ],
      "text/plain": [
       "              pdpurp  total_tours_model  total_tours_survey  tour_rate_model  \\\n",
       "0             Escort        278,574.000         174,142.860            0.103   \n",
       "1               Meal        559,183.000         239,951.960            0.207   \n",
       "2  Personal Business        257,010.000         269,848.570            0.095   \n",
       "3             School         45,912.000          15,975.350            0.017   \n",
       "4               Shop        340,165.000         249,110.000            0.126   \n",
       "5             Social        721,108.000         454,542.440            0.266   \n",
       "6               Work      2,368,974.000       1,903,085.920            0.875   \n",
       "\n",
       "   tour_rate_survey  \n",
       "0             0.093  \n",
       "1             0.129  \n",
       "2             0.145  \n",
       "3             0.009  \n",
       "4             0.134  \n",
       "5             0.244  \n",
       "6             1.020  "
      ]
     },
     "execution_count": 7,
     "metadata": {},
     "output_type": "execute_result"
    }
   ],
   "source": [
    "# Tour Rates by purpose by worker type\n",
    "df = pd.read_csv(os.path.join(relative_path,'agg','dash','non_wfh_tours.csv'))\n",
    "df = df[df['pptyp'].isin(['Full-Time Worker', 'Part-Time Worker'])]\n",
    "df = df.groupby('pdpurp').sum().reset_index()\n",
    "df['tour_rate'] = df['toexpfac']/df_tot.sum()[['psexpfac']].values[0]\n",
    "\n",
    "df_survey = pd.read_csv(os.path.join(relative_path,'agg','dash','survey','non_wfh_tours.csv'))\n",
    "df_survey = df_survey[df_survey['pptyp'].isin(['Full-Time Worker', 'Part-Time Worker'])]\n",
    "df_survey = df_survey.groupby('pdpurp').sum().reset_index()\n",
    "df_survey['tour_rate'] = df_survey['toexpfac']/df_tot_survey.sum()[['psexpfac']].values[0]\n",
    "\n",
    "df = df.merge(df_survey, on='pdpurp', suffixes=['_model','_survey'])\n",
    "df.rename(columns={'toexpfac_model':'total_tours_model','toexpfac_survey':'total_tours_survey'},\n",
    "         inplace=True)\n",
    "df[['pdpurp','total_tours_model','total_tours_survey','tour_rate_model','tour_rate_survey']]"
   ]
  },
  {
   "cell_type": "code",
   "execution_count": 8,
   "metadata": {},
   "outputs": [
    {
     "data": {
      "text/plain": [
       "2707689.0"
      ]
     },
     "execution_count": 8,
     "metadata": {},
     "output_type": "execute_result"
    }
   ],
   "source": [
    "total_nonwfh_workers"
   ]
  },
  {
   "cell_type": "markdown",
   "metadata": {},
   "source": [
    "### Tour Rates for Non-Workers"
   ]
  },
  {
   "cell_type": "code",
   "execution_count": 9,
   "metadata": {},
   "outputs": [
    {
     "data": {
      "text/html": [
       "<div>\n",
       "<table border=\"1\" class=\"dataframe\">\n",
       "  <thead>\n",
       "    <tr style=\"text-align: right;\">\n",
       "      <th></th>\n",
       "      <th>pdpurp</th>\n",
       "      <th>total_tours_model</th>\n",
       "      <th>total_tours_survey</th>\n",
       "      <th>tour_rate_model</th>\n",
       "      <th>tour_rate_survey</th>\n",
       "    </tr>\n",
       "  </thead>\n",
       "  <tbody>\n",
       "    <tr>\n",
       "      <th>0</th>\n",
       "      <td>Escort</td>\n",
       "      <td>634,987.000</td>\n",
       "      <td>430,403.590</td>\n",
       "      <td>0.340</td>\n",
       "      <td>0.231</td>\n",
       "    </tr>\n",
       "    <tr>\n",
       "      <th>1</th>\n",
       "      <td>Meal</td>\n",
       "      <td>201,194.000</td>\n",
       "      <td>166,557.020</td>\n",
       "      <td>0.108</td>\n",
       "      <td>0.089</td>\n",
       "    </tr>\n",
       "    <tr>\n",
       "      <th>2</th>\n",
       "      <td>Personal Business</td>\n",
       "      <td>786,750.000</td>\n",
       "      <td>605,619.500</td>\n",
       "      <td>0.422</td>\n",
       "      <td>0.325</td>\n",
       "    </tr>\n",
       "    <tr>\n",
       "      <th>3</th>\n",
       "      <td>School</td>\n",
       "      <td>914,889.000</td>\n",
       "      <td>702,028.230</td>\n",
       "      <td>0.491</td>\n",
       "      <td>0.376</td>\n",
       "    </tr>\n",
       "    <tr>\n",
       "      <th>4</th>\n",
       "      <td>Shop</td>\n",
       "      <td>755,659.000</td>\n",
       "      <td>492,264.740</td>\n",
       "      <td>0.405</td>\n",
       "      <td>0.264</td>\n",
       "    </tr>\n",
       "    <tr>\n",
       "      <th>5</th>\n",
       "      <td>Social</td>\n",
       "      <td>1,109,561.000</td>\n",
       "      <td>742,332.310</td>\n",
       "      <td>0.595</td>\n",
       "      <td>0.398</td>\n",
       "    </tr>\n",
       "    <tr>\n",
       "      <th>6</th>\n",
       "      <td>Work</td>\n",
       "      <td>107,520.000</td>\n",
       "      <td>131,466.770</td>\n",
       "      <td>0.058</td>\n",
       "      <td>0.070</td>\n",
       "    </tr>\n",
       "  </tbody>\n",
       "</table>\n",
       "</div>"
      ],
      "text/plain": [
       "              pdpurp  total_tours_model  total_tours_survey  tour_rate_model  \\\n",
       "0             Escort        634,987.000         430,403.590            0.340   \n",
       "1               Meal        201,194.000         166,557.020            0.108   \n",
       "2  Personal Business        786,750.000         605,619.500            0.422   \n",
       "3             School        914,889.000         702,028.230            0.491   \n",
       "4               Shop        755,659.000         492,264.740            0.405   \n",
       "5             Social      1,109,561.000         742,332.310            0.595   \n",
       "6               Work        107,520.000         131,466.770            0.058   \n",
       "\n",
       "   tour_rate_survey  \n",
       "0             0.231  \n",
       "1             0.089  \n",
       "2             0.325  \n",
       "3             0.376  \n",
       "4             0.264  \n",
       "5             0.398  \n",
       "6             0.070  "
      ]
     },
     "execution_count": 9,
     "metadata": {},
     "output_type": "execute_result"
    }
   ],
   "source": [
    "df = pd.read_csv(os.path.join(relative_path,'agg','dash','non_wfh_tours.csv'))\n",
    "df = df[-df['pptyp'].isin(['Full-Time Worker', 'Part-Time Worker'])]\n",
    "df = df.groupby('pdpurp').sum().reset_index()\n",
    "df['tour_rate'] = df['toexpfac']/df_tot_survey.sum()[['psexpfac']].values[0]\n",
    "\n",
    "\n",
    "df_survey = pd.read_csv(os.path.join(relative_path,'agg','dash','survey','non_wfh_tours.csv'))\n",
    "df_survey = df_survey[-df_survey['pptyp'].isin(['Full-Time Worker', 'Part-Time Worker'])]\n",
    "df_survey = df_survey.groupby('pdpurp').sum().reset_index()\n",
    "df_survey['tour_rate'] = df_survey['toexpfac']/df_tot_survey.sum()[['psexpfac']].values[0]\n",
    "\n",
    "df = df.merge(df_survey, on='pdpurp', suffixes=['_model','_survey'])\n",
    "df.rename(columns={'toexpfac_model':'total_tours_model','toexpfac_survey':'total_tours_survey'},\n",
    "         inplace=True)\n",
    "df[['pdpurp','total_tours_model','total_tours_survey','tour_rate_model','tour_rate_survey']]"
   ]
  },
  {
   "cell_type": "markdown",
   "metadata": {},
   "source": [
    "# Commute Tour Distance\n",
    "All Workers"
   ]
  },
  {
   "cell_type": "code",
   "execution_count": 10,
   "metadata": {},
   "outputs": [],
   "source": [
    "df = pd.read_csv(os.path.join(relative_path,'agg','dash','tour_distance.csv'))\n",
    "df = df[df['pdpurp'] == 'Work']\n",
    "\n",
    "pd.options.display.float_format = '{:0,.4f}'.format\n",
    "_df = df.groupby('tautodist_bin').sum()[['toexpfac']].reset_index()\n",
    "\n",
    "_df['percent'] = _df['toexpfac']/_df['toexpfac'].sum()\n",
    "_df['cumulative_percent'] = _df['percent'].cumsum()\n",
    "\n",
    "# remove records that are outside 99% of records\n",
    "_df = _df[_df['cumulative_percent'] <= 0.99]"
   ]
  },
  {
   "cell_type": "code",
   "execution_count": 11,
   "metadata": {},
   "outputs": [],
   "source": [
    "df_survey = pd.read_csv(os.path.join(relative_path,'agg','dash','survey','tour_distance.csv'))\n",
    "df_survey = df_survey[df_survey['pdpurp'] == 'Work']\n",
    "\n",
    "_df_survey = df_survey.groupby('tautodist_bin').sum()[['toexpfac']].reset_index()\n",
    "\n",
    "_df_survey['percent'] = _df_survey['toexpfac']/_df_survey['toexpfac'].sum()\n",
    "_df_survey['cumulative_percent'] = _df_survey['percent'].cumsum()\n",
    "\n",
    "# remove records that are outside 99% of records\n",
    "_df_survey = _df_survey[_df_survey['cumulative_percent'] <= 0.99]"
   ]
  },
  {
   "cell_type": "markdown",
   "metadata": {},
   "source": [
    "Weighted Average Distance"
   ]
  },
  {
   "cell_type": "code",
   "execution_count": 12,
   "metadata": {},
   "outputs": [
    {
     "name": "stdout",
     "output_type": "stream",
     "text": [
      "8.70048195817\n"
     ]
    }
   ],
   "source": [
    "if len(_df_survey) > 0:\n",
    "    _df_merged = _df.merge(_df_survey, on='tautodist_bin', suffixes=['_model','_survey'])\n",
    "    print('model: '+ str((_df_merged['toexpfac_model']*_df_merged['tautodist_bin']).sum()*1.0/_df_merged['toexpfac_model'].sum()))\n",
    "    print('survey: '+ str((_df_merged['toexpfac_survey']*_df_merged['tautodist_bin']).sum()*1.0/_df_merged['toexpfac_survey'].sum()))\n",
    "else:\n",
    "    print(str((_df['toexpfac']*_df['tautodist_bin']).sum()*1.0/_df['toexpfac'].sum()))\n"
   ]
  },
  {
   "cell_type": "code",
   "execution_count": 13,
   "metadata": {},
   "outputs": [],
   "source": [
    "# Work trip distance to not usual workplace for non-WFH workers\n"
   ]
  },
  {
   "cell_type": "code",
   "execution_count": 14,
   "metadata": {},
   "outputs": [
    {
     "data": {
      "image/png": "[encoded data removed]",
      "text/plain": [
       "<matplotlib.figure.Figure at 0xadc2550>"
      ]
     },
     "metadata": {},
     "output_type": "display_data"
    }
   ],
   "source": [
    "if len(_df_survey) > 0:\n",
    "    _df_merged[['percent_model','percent_survey']].plot(alpha=0.6)\n",
    "else:\n",
    "    _df[['percent']].plot(alpha=0.6)"
   ]
  },
  {
   "cell_type": "markdown",
   "metadata": {},
   "source": [
    "# Average Trip Distance\n",
    "Workers that work DO NOT work from home"
   ]
  },
  {
   "cell_type": "code",
   "execution_count": 15,
   "metadata": {},
   "outputs": [
    {
     "name": "stdout",
     "output_type": "stream",
     "text": [
      "Avg. distance to Usual Workplace: 7.09521703381\n",
      "Avg. distance to Other Workplace: 4.35988734948\n",
      "----------------------------------------\n"
     ]
    },
    {
     "data": {
      "text/html": [
       "<div>\n",
       "<table border=\"1\" class=\"dataframe\">\n",
       "  <thead>\n",
       "    <tr style=\"text-align: right;\">\n",
       "      <th></th>\n",
       "      <th>Purpose</th>\n",
       "      <th>Workers at Non-Home Location</th>\n",
       "    </tr>\n",
       "  </thead>\n",
       "  <tbody>\n",
       "    <tr>\n",
       "      <th>0</th>\n",
       "      <td>Shop</td>\n",
       "      <td>3.1810</td>\n",
       "    </tr>\n",
       "    <tr>\n",
       "      <th>1</th>\n",
       "      <td>School</td>\n",
       "      <td>2.6290</td>\n",
       "    </tr>\n",
       "    <tr>\n",
       "      <th>2</th>\n",
       "      <td>Work</td>\n",
       "      <td>6.5307</td>\n",
       "    </tr>\n",
       "    <tr>\n",
       "      <th>3</th>\n",
       "      <td>Meal</td>\n",
       "      <td>2.2954</td>\n",
       "    </tr>\n",
       "    <tr>\n",
       "      <th>4</th>\n",
       "      <td>Change Mode Inserted Purpose</td>\n",
       "      <td>8.0419</td>\n",
       "    </tr>\n",
       "    <tr>\n",
       "      <th>5</th>\n",
       "      <td>Escort</td>\n",
       "      <td>4.5201</td>\n",
       "    </tr>\n",
       "    <tr>\n",
       "      <th>6</th>\n",
       "      <td>Social</td>\n",
       "      <td>3.4068</td>\n",
       "    </tr>\n",
       "    <tr>\n",
       "      <th>7</th>\n",
       "      <td>None/Home</td>\n",
       "      <td>4.5326</td>\n",
       "    </tr>\n",
       "    <tr>\n",
       "      <th>8</th>\n",
       "      <td>Personal Business</td>\n",
       "      <td>3.8749</td>\n",
       "    </tr>\n",
       "  </tbody>\n",
       "</table>\n",
       "</div>"
      ],
      "text/plain": [
       "                        Purpose  Workers at Non-Home Location\n",
       "0                          Shop                        3.1810\n",
       "1                        School                        2.6290\n",
       "2                          Work                        6.5307\n",
       "3                          Meal                        2.2954\n",
       "4  Change Mode Inserted Purpose                        8.0419\n",
       "5                        Escort                        4.5201\n",
       "6                        Social                        3.4068\n",
       "7                     None/Home                        4.5326\n",
       "8             Personal Business                        3.8749"
      ]
     },
     "execution_count": 15,
     "metadata": {},
     "output_type": "execute_result"
    }
   ],
   "source": [
    "# Non WFH Workers\n",
    "df = pd.read_csv(os.path.join(relative_path,'agg','dash','trip_distance_non_wfh.csv'))\n",
    "df = df[df['pptyp'].isin(['Full-Time Worker','Part-Time Worker'])]\n",
    "df = df[(df['dpurp'] == 'Work') & (df['dadtyp'].isin(['Other','Usual Workplace']))]\n",
    "# df.groupby(['travdist_bin','']).sum()[['trexpfac']]\n",
    "df_usual = df[df['dadtyp'] == 'Usual Workplace']\n",
    "dist = (df_usual['trexpfac']*1.0*df_usual['travdist_bin']).sum()/df_usual['trexpfac'].sum()\n",
    "print('Avg. distance to Usual Workplace: ' + str(dist))\n",
    "df_other = df[df['dadtyp'] == 'Other']\n",
    "dist = (df_other['trexpfac']*1.0*df_other['travdist_bin']).sum()/df_other['trexpfac'].sum()\n",
    "print('Avg. distance to Other Workplace: ' + str(dist))\n",
    "print('----------------------------------------')\n",
    "# Non WFH Workers\n",
    "df = pd.read_csv(os.path.join(relative_path,'agg','dash','trip_distance_non_wfh.csv'))\n",
    "df['wt_sum'] = df['trexpfac']*1.0*df['travdist_bin']\n",
    "result = {}\n",
    "for purp in pd.unique(df['dpurp']):\n",
    "    _df = df[df['dpurp'] == purp]\n",
    "    result[purp] = _df['wt_sum'].sum()/_df['trexpfac'].sum()\n",
    "    \n",
    "_df_non_wfh = pd.DataFrame.from_dict(result, orient='index').reset_index()\n",
    "_df_non_wfh.columns = ['Purpose','Workers at Non-Home Location']\n",
    "_df_non_wfh"
   ]
  },
  {
   "cell_type": "markdown",
   "metadata": {},
   "source": [
    "Only workers that work **from home**"
   ]
  },
  {
   "cell_type": "code",
   "execution_count": 16,
   "metadata": {},
   "outputs": [
    {
     "name": "stdout",
     "output_type": "stream",
     "text": [
      "Avg. distance to Other Workplace: 4.30620881446\n",
      "----------------------------------\n"
     ]
    },
    {
     "data": {
      "text/html": [
       "<div>\n",
       "<table border=\"1\" class=\"dataframe\">\n",
       "  <thead>\n",
       "    <tr style=\"text-align: right;\">\n",
       "      <th></th>\n",
       "      <th>Purpose</th>\n",
       "      <th>WFH Workers</th>\n",
       "    </tr>\n",
       "  </thead>\n",
       "  <tbody>\n",
       "    <tr>\n",
       "      <th>0</th>\n",
       "      <td>Shop</td>\n",
       "      <td>1.7684</td>\n",
       "    </tr>\n",
       "    <tr>\n",
       "      <th>1</th>\n",
       "      <td>School</td>\n",
       "      <td>4.8314</td>\n",
       "    </tr>\n",
       "    <tr>\n",
       "      <th>2</th>\n",
       "      <td>Work</td>\n",
       "      <td>4.3049</td>\n",
       "    </tr>\n",
       "    <tr>\n",
       "      <th>3</th>\n",
       "      <td>Meal</td>\n",
       "      <td>1.5786</td>\n",
       "    </tr>\n",
       "    <tr>\n",
       "      <th>4</th>\n",
       "      <td>Change Mode Inserted Purpose</td>\n",
       "      <td>6.0587</td>\n",
       "    </tr>\n",
       "    <tr>\n",
       "      <th>5</th>\n",
       "      <td>Escort</td>\n",
       "      <td>2.1171</td>\n",
       "    </tr>\n",
       "    <tr>\n",
       "      <th>6</th>\n",
       "      <td>Social</td>\n",
       "      <td>1.7945</td>\n",
       "    </tr>\n",
       "    <tr>\n",
       "      <th>7</th>\n",
       "      <td>None/Home</td>\n",
       "      <td>2.2420</td>\n",
       "    </tr>\n",
       "    <tr>\n",
       "      <th>8</th>\n",
       "      <td>Personal Business</td>\n",
       "      <td>1.7614</td>\n",
       "    </tr>\n",
       "  </tbody>\n",
       "</table>\n",
       "</div>"
      ],
      "text/plain": [
       "                        Purpose  WFH Workers\n",
       "0                          Shop       1.7684\n",
       "1                        School       4.8314\n",
       "2                          Work       4.3049\n",
       "3                          Meal       1.5786\n",
       "4  Change Mode Inserted Purpose       6.0587\n",
       "5                        Escort       2.1171\n",
       "6                        Social       1.7945\n",
       "7                     None/Home       2.2420\n",
       "8             Personal Business       1.7614"
      ]
     },
     "execution_count": 16,
     "metadata": {},
     "output_type": "execute_result"
    }
   ],
   "source": [
    "# WFH Workers\n",
    "df = pd.read_csv(os.path.join(relative_path,'agg','dash','trip_distance_wfh.csv'))\n",
    "df = df[(df['dpurp'] == 'Work') & (df['dadtyp'].isin(['Other','Usual Workplace']))]\n",
    "\n",
    "df_other = df[df['dadtyp'] == 'Other']\n",
    "dist = (df_other['trexpfac']*1.0*df_other['travdist_bin']).sum()/df_other['trexpfac'].sum()\n",
    "print('Avg. distance to Other Workplace: ' + str(dist))\n",
    "print('----------------------------------')\n",
    "df = pd.read_csv(os.path.join(relative_path,'agg','dash','trip_distance_wfh.csv'))\n",
    "df['wt_sum'] = df['trexpfac']*1.0*df['travdist_bin']\n",
    "result = {}\n",
    "for purp in pd.unique(df['dpurp']):\n",
    "    _df = df[df['dpurp'] == purp]\n",
    "    result[purp] = _df['wt_sum'].sum()/_df['trexpfac'].sum()\n",
    "\n",
    "_df_wfh = pd.DataFrame.from_dict(result, orient='index')\n",
    "_df_wfh = _df_wfh.reset_index()\n",
    "_df_wfh.columns = ['Purpose','WFH Workers']\n",
    "_df_wfh"
   ]
  },
  {
   "cell_type": "code",
   "execution_count": 17,
   "metadata": {},
   "outputs": [
    {
     "data": {
      "text/html": [
       "<div>\n",
       "<table border=\"1\" class=\"dataframe\">\n",
       "  <thead>\n",
       "    <tr style=\"text-align: right;\">\n",
       "      <th></th>\n",
       "      <th>Purpose</th>\n",
       "      <th>Non-Workers</th>\n",
       "    </tr>\n",
       "  </thead>\n",
       "  <tbody>\n",
       "    <tr>\n",
       "      <th>0</th>\n",
       "      <td>Shop</td>\n",
       "      <td>3.1810</td>\n",
       "    </tr>\n",
       "    <tr>\n",
       "      <th>1</th>\n",
       "      <td>School</td>\n",
       "      <td>2.6290</td>\n",
       "    </tr>\n",
       "    <tr>\n",
       "      <th>2</th>\n",
       "      <td>Work</td>\n",
       "      <td>6.5307</td>\n",
       "    </tr>\n",
       "    <tr>\n",
       "      <th>3</th>\n",
       "      <td>Meal</td>\n",
       "      <td>2.2954</td>\n",
       "    </tr>\n",
       "    <tr>\n",
       "      <th>4</th>\n",
       "      <td>Change Mode Inserted Purpose</td>\n",
       "      <td>8.0419</td>\n",
       "    </tr>\n",
       "    <tr>\n",
       "      <th>5</th>\n",
       "      <td>Escort</td>\n",
       "      <td>4.5201</td>\n",
       "    </tr>\n",
       "    <tr>\n",
       "      <th>6</th>\n",
       "      <td>Social</td>\n",
       "      <td>3.4068</td>\n",
       "    </tr>\n",
       "    <tr>\n",
       "      <th>7</th>\n",
       "      <td>None/Home</td>\n",
       "      <td>4.5326</td>\n",
       "    </tr>\n",
       "    <tr>\n",
       "      <th>8</th>\n",
       "      <td>Personal Business</td>\n",
       "      <td>3.8749</td>\n",
       "    </tr>\n",
       "  </tbody>\n",
       "</table>\n",
       "</div>"
      ],
      "text/plain": [
       "                        Purpose  Non-Workers\n",
       "0                          Shop       3.1810\n",
       "1                        School       2.6290\n",
       "2                          Work       6.5307\n",
       "3                          Meal       2.2954\n",
       "4  Change Mode Inserted Purpose       8.0419\n",
       "5                        Escort       4.5201\n",
       "6                        Social       3.4068\n",
       "7                     None/Home       4.5326\n",
       "8             Personal Business       3.8749"
      ]
     },
     "execution_count": 17,
     "metadata": {},
     "output_type": "execute_result"
    }
   ],
   "source": [
    "# Non-Workers\n",
    "df = pd.read_csv(os.path.join(relative_path,'agg','dash','trip_distance_non_wfh.csv'))\n",
    "df = df[-df['pptyp'].isin(['Full-Time Worker','Part-Time Worker'])]\n",
    "df = df[(df['dpurp'] == 'Work') & (df['dadtyp'].isin(['Other','Usual Workplace']))]\n",
    "\n",
    "# Non-Workers\n",
    "df = pd.read_csv(os.path.join(relative_path,'agg','dash','trip_distance_non_wfh.csv'))\n",
    "df['wt_sum'] = df['trexpfac']*1.0*df['travdist_bin']\n",
    "result = {}\n",
    "for purp in pd.unique(df['dpurp']):\n",
    "    _df = df[df['dpurp'] == purp]\n",
    "    result[purp] = _df['wt_sum'].sum()/_df['trexpfac'].sum()\n",
    "    \n",
    "_df_non_worker = pd.DataFrame.from_dict(result, orient='index')\n",
    "_df_non_worker = _df_non_worker.reset_index()\n",
    "_df_non_worker.columns = ['Purpose','Non-Workers']\n",
    "_df_non_worker"
   ]
  },
  {
   "cell_type": "markdown",
   "metadata": {},
   "source": [
    "Average Trip Distance by Purpose and Worker/Person Type"
   ]
  },
  {
   "cell_type": "code",
   "execution_count": 18,
   "metadata": {},
   "outputs": [],
   "source": [
    "_df = pd.merge(_df_non_wfh, _df_wfh).merge(_df_non_worker)"
   ]
  },
  {
   "cell_type": "code",
   "execution_count": 19,
   "metadata": {},
   "outputs": [
    {
     "data": {
      "text/html": [
       "<div>\n",
       "<table border=\"1\" class=\"dataframe\">\n",
       "  <thead>\n",
       "    <tr style=\"text-align: right;\">\n",
       "      <th></th>\n",
       "      <th>Purpose</th>\n",
       "      <th>Workers at Non-Home Location</th>\n",
       "      <th>WFH Workers</th>\n",
       "      <th>Non-Workers</th>\n",
       "    </tr>\n",
       "  </thead>\n",
       "  <tbody>\n",
       "    <tr>\n",
       "      <th>0</th>\n",
       "      <td>Shop</td>\n",
       "      <td>3.1810</td>\n",
       "      <td>1.7684</td>\n",
       "      <td>3.1810</td>\n",
       "    </tr>\n",
       "    <tr>\n",
       "      <th>1</th>\n",
       "      <td>School</td>\n",
       "      <td>2.6290</td>\n",
       "      <td>4.8314</td>\n",
       "      <td>2.6290</td>\n",
       "    </tr>\n",
       "    <tr>\n",
       "      <th>2</th>\n",
       "      <td>Work</td>\n",
       "      <td>6.5307</td>\n",
       "      <td>4.3049</td>\n",
       "      <td>6.5307</td>\n",
       "    </tr>\n",
       "    <tr>\n",
       "      <th>3</th>\n",
       "      <td>Meal</td>\n",
       "      <td>2.2954</td>\n",
       "      <td>1.5786</td>\n",
       "      <td>2.2954</td>\n",
       "    </tr>\n",
       "    <tr>\n",
       "      <th>4</th>\n",
       "      <td>Change Mode Inserted Purpose</td>\n",
       "      <td>8.0419</td>\n",
       "      <td>6.0587</td>\n",
       "      <td>8.0419</td>\n",
       "    </tr>\n",
       "    <tr>\n",
       "      <th>5</th>\n",
       "      <td>Escort</td>\n",
       "      <td>4.5201</td>\n",
       "      <td>2.1171</td>\n",
       "      <td>4.5201</td>\n",
       "    </tr>\n",
       "    <tr>\n",
       "      <th>6</th>\n",
       "      <td>Social</td>\n",
       "      <td>3.4068</td>\n",
       "      <td>1.7945</td>\n",
       "      <td>3.4068</td>\n",
       "    </tr>\n",
       "    <tr>\n",
       "      <th>7</th>\n",
       "      <td>None/Home</td>\n",
       "      <td>4.5326</td>\n",
       "      <td>2.2420</td>\n",
       "      <td>4.5326</td>\n",
       "    </tr>\n",
       "    <tr>\n",
       "      <th>8</th>\n",
       "      <td>Personal Business</td>\n",
       "      <td>3.8749</td>\n",
       "      <td>1.7614</td>\n",
       "      <td>3.8749</td>\n",
       "    </tr>\n",
       "  </tbody>\n",
       "</table>\n",
       "</div>"
      ],
      "text/plain": [
       "                        Purpose  Workers at Non-Home Location  WFH Workers  \\\n",
       "0                          Shop                        3.1810       1.7684   \n",
       "1                        School                        2.6290       4.8314   \n",
       "2                          Work                        6.5307       4.3049   \n",
       "3                          Meal                        2.2954       1.5786   \n",
       "4  Change Mode Inserted Purpose                        8.0419       6.0587   \n",
       "5                        Escort                        4.5201       2.1171   \n",
       "6                        Social                        3.4068       1.7945   \n",
       "7                     None/Home                        4.5326       2.2420   \n",
       "8             Personal Business                        3.8749       1.7614   \n",
       "\n",
       "   Non-Workers  \n",
       "0       3.1810  \n",
       "1       2.6290  \n",
       "2       6.5307  \n",
       "3       2.2954  \n",
       "4       8.0419  \n",
       "5       4.5201  \n",
       "6       3.4068  \n",
       "7       4.5326  \n",
       "8       3.8749  "
      ]
     },
     "execution_count": 19,
     "metadata": {},
     "output_type": "execute_result"
    }
   ],
   "source": [
    "_df"
   ]
  },
  {
   "cell_type": "markdown",
   "metadata": {},
   "source": [
    "# VMT"
   ]
  },
  {
   "cell_type": "markdown",
   "metadata": {},
   "source": [
    "Workers that Work from Home"
   ]
  },
  {
   "cell_type": "code",
   "execution_count": 20,
   "metadata": {},
   "outputs": [
    {
     "data": {
      "text/html": [
       "<div>\n",
       "<table border=\"1\" class=\"dataframe\">\n",
       "  <thead>\n",
       "    <tr style=\"text-align: right;\">\n",
       "      <th></th>\n",
       "      <th>Total VMT (Model)</th>\n",
       "      <th>VMT per Person (Model)_model</th>\n",
       "      <th>travdist_wt_survey</th>\n",
       "      <th>VMT per Person (Model)_survey</th>\n",
       "    </tr>\n",
       "    <tr>\n",
       "      <th>dpurp</th>\n",
       "      <th></th>\n",
       "      <th></th>\n",
       "      <th></th>\n",
       "      <th></th>\n",
       "    </tr>\n",
       "  </thead>\n",
       "  <tbody>\n",
       "    <tr>\n",
       "      <th>Change Mode Inserted Purpose</th>\n",
       "      <td>309</td>\n",
       "      <td>0.00</td>\n",
       "      <td>-1320</td>\n",
       "      <td>-0.01</td>\n",
       "    </tr>\n",
       "    <tr>\n",
       "      <th>Escort</th>\n",
       "      <td>139886</td>\n",
       "      <td>0.79</td>\n",
       "      <td>-18998</td>\n",
       "      <td>-0.11</td>\n",
       "    </tr>\n",
       "    <tr>\n",
       "      <th>Meal</th>\n",
       "      <td>28553</td>\n",
       "      <td>0.16</td>\n",
       "      <td>-12122</td>\n",
       "      <td>-0.07</td>\n",
       "    </tr>\n",
       "    <tr>\n",
       "      <th>None/Home</th>\n",
       "      <td>425486</td>\n",
       "      <td>2.42</td>\n",
       "      <td>-82089</td>\n",
       "      <td>-0.47</td>\n",
       "    </tr>\n",
       "    <tr>\n",
       "      <th>Personal Business</th>\n",
       "      <td>145599</td>\n",
       "      <td>0.83</td>\n",
       "      <td>-26755</td>\n",
       "      <td>-0.15</td>\n",
       "    </tr>\n",
       "    <tr>\n",
       "      <th>School</th>\n",
       "      <td>6446</td>\n",
       "      <td>0.04</td>\n",
       "      <td>-120</td>\n",
       "      <td>-0.00</td>\n",
       "    </tr>\n",
       "    <tr>\n",
       "      <th>Shop</th>\n",
       "      <td>167169</td>\n",
       "      <td>0.95</td>\n",
       "      <td>-89591</td>\n",
       "      <td>-0.51</td>\n",
       "    </tr>\n",
       "    <tr>\n",
       "      <th>Social</th>\n",
       "      <td>104380</td>\n",
       "      <td>0.59</td>\n",
       "      <td>-26746</td>\n",
       "      <td>-0.15</td>\n",
       "    </tr>\n",
       "    <tr>\n",
       "      <th>Work</th>\n",
       "      <td>17222</td>\n",
       "      <td>0.10</td>\n",
       "      <td>-3706</td>\n",
       "      <td>-0.02</td>\n",
       "    </tr>\n",
       "    <tr>\n",
       "      <th>Total</th>\n",
       "      <td>1035054</td>\n",
       "      <td>5.88</td>\n",
       "      <td>-261450</td>\n",
       "      <td>-1.48</td>\n",
       "    </tr>\n",
       "  </tbody>\n",
       "</table>\n",
       "</div>"
      ],
      "text/plain": [
       "                              Total VMT (Model)  VMT per Person (Model)_model  \\\n",
       "dpurp                                                                           \n",
       "Change Mode Inserted Purpose                309                          0.00   \n",
       "Escort                                   139886                          0.79   \n",
       "Meal                                      28553                          0.16   \n",
       "None/Home                                425486                          2.42   \n",
       "Personal Business                        145599                          0.83   \n",
       "School                                     6446                          0.04   \n",
       "Shop                                     167169                          0.95   \n",
       "Social                                   104380                          0.59   \n",
       "Work                                      17222                          0.10   \n",
       "Total                                   1035054                          5.88   \n",
       "\n",
       "                              travdist_wt_survey  \\\n",
       "dpurp                                              \n",
       "Change Mode Inserted Purpose               -1320   \n",
       "Escort                                    -18998   \n",
       "Meal                                      -12122   \n",
       "None/Home                                 -82089   \n",
       "Personal Business                         -26755   \n",
       "School                                      -120   \n",
       "Shop                                      -89591   \n",
       "Social                                    -26746   \n",
       "Work                                       -3706   \n",
       "Total                                    -261450   \n",
       "\n",
       "                              VMT per Person (Model)_survey  \n",
       "dpurp                                                        \n",
       "Change Mode Inserted Purpose                          -0.01  \n",
       "Escort                                                -0.11  \n",
       "Meal                                                  -0.07  \n",
       "None/Home                                             -0.47  \n",
       "Personal Business                                     -0.15  \n",
       "School                                                -0.00  \n",
       "Shop                                                  -0.51  \n",
       "Social                                                -0.15  \n",
       "Work                                                  -0.02  \n",
       "Total                                                 -1.48  "
      ]
     },
     "execution_count": 20,
     "metadata": {},
     "output_type": "execute_result"
    }
   ],
   "source": [
    "df = pd.read_csv(os.path.join(relative_path,'agg','dash','vmt_wfh.csv'))\n",
    "df_survey = pd.read_csv(os.path.join(relative_path,'agg','dash','survey','vmt_wfh.csv'))\n",
    "\n",
    "pd.options.display.float_format = '{:,.2f}'.format\n",
    "_df = df[(df['mode'].isin(['SOV','HOV2','HOV3+']))&\n",
    "   (df['dorp']==1) &\n",
    "   (df['pptyp'].isin(['Full-Time Worker','Part-Time Worker']))].groupby('dpurp').sum()[['travdist_wt']]\n",
    "_df['VMT per Person (Model)'] = _df['travdist_wt']/total_wfh_workers\n",
    "\n",
    "_df_survey = df_survey[(df_survey['mode'].isin(['SOV','HOV2','HOV3+']))&\n",
    "   (df_survey['dorp']==1) &\n",
    "   (df_survey['pptyp'].isin(['Full-Time Worker','Part-Time Worker']))].groupby('dpurp').sum()[['travdist_wt']]\n",
    "_df_survey['VMT per Person (Model)'] = _df_survey['travdist_wt']/total_wfh_workers_survey\n",
    "\n",
    "_df = _df.merge(_df_survey, left_index=True, right_index=True, suffixes=['_model','_survey'])\n",
    "_df.loc['Total',:] = _df.sum()\n",
    "_df[['travdist_wt_model','travdist_wt_survey']] = _df[['travdist_wt_model','travdist_wt_survey']].astype('int')\n",
    "_df.rename(columns={'travdist_wt_model': 'Total VMT (Model)', 'travidst_wt_survey': 'Total VMT (Survey)'},\n",
    "                   inplace=True)\n",
    "_df"
   ]
  },
  {
   "cell_type": "markdown",
   "metadata": {},
   "source": [
    "Workers that do NOT Work from Home"
   ]
  },
  {
   "cell_type": "code",
   "execution_count": 21,
   "metadata": {},
   "outputs": [
    {
     "data": {
      "text/html": [
       "<div>\n",
       "<table border=\"1\" class=\"dataframe\">\n",
       "  <thead>\n",
       "    <tr style=\"text-align: right;\">\n",
       "      <th></th>\n",
       "      <th>Total VMT (Model)</th>\n",
       "      <th>VMT per Person (Model)_model</th>\n",
       "      <th>travdist_wt_survey</th>\n",
       "      <th>VMT per Person (Model)_survey</th>\n",
       "    </tr>\n",
       "    <tr>\n",
       "      <th>dpurp</th>\n",
       "      <th></th>\n",
       "      <th></th>\n",
       "      <th></th>\n",
       "      <th></th>\n",
       "    </tr>\n",
       "  </thead>\n",
       "  <tbody>\n",
       "    <tr>\n",
       "      <th>Change Mode Inserted Purpose</th>\n",
       "      <td>353257</td>\n",
       "      <td>0.13</td>\n",
       "      <td>-11606</td>\n",
       "      <td>-0.01</td>\n",
       "    </tr>\n",
       "    <tr>\n",
       "      <th>Escort</th>\n",
       "      <td>2906496</td>\n",
       "      <td>1.07</td>\n",
       "      <td>-611606</td>\n",
       "      <td>-0.33</td>\n",
       "    </tr>\n",
       "    <tr>\n",
       "      <th>Meal</th>\n",
       "      <td>1589204</td>\n",
       "      <td>0.59</td>\n",
       "      <td>-415146</td>\n",
       "      <td>-0.22</td>\n",
       "    </tr>\n",
       "    <tr>\n",
       "      <th>None/Home</th>\n",
       "      <td>18535847</td>\n",
       "      <td>6.85</td>\n",
       "      <td>-2225642</td>\n",
       "      <td>-1.19</td>\n",
       "    </tr>\n",
       "    <tr>\n",
       "      <th>Personal Business</th>\n",
       "      <td>2373147</td>\n",
       "      <td>0.88</td>\n",
       "      <td>-604545</td>\n",
       "      <td>-0.32</td>\n",
       "    </tr>\n",
       "    <tr>\n",
       "      <th>School</th>\n",
       "      <td>271897</td>\n",
       "      <td>0.10</td>\n",
       "      <td>-14149</td>\n",
       "      <td>-0.01</td>\n",
       "    </tr>\n",
       "    <tr>\n",
       "      <th>Shop</th>\n",
       "      <td>2681386</td>\n",
       "      <td>0.99</td>\n",
       "      <td>-702148</td>\n",
       "      <td>-0.38</td>\n",
       "    </tr>\n",
       "    <tr>\n",
       "      <th>Social</th>\n",
       "      <td>2986887</td>\n",
       "      <td>1.10</td>\n",
       "      <td>-495702</td>\n",
       "      <td>-0.27</td>\n",
       "    </tr>\n",
       "    <tr>\n",
       "      <th>Work</th>\n",
       "      <td>18789179</td>\n",
       "      <td>6.94</td>\n",
       "      <td>-2224998</td>\n",
       "      <td>-1.19</td>\n",
       "    </tr>\n",
       "    <tr>\n",
       "      <th>Total</th>\n",
       "      <td>50487303</td>\n",
       "      <td>18.65</td>\n",
       "      <td>-7305546</td>\n",
       "      <td>-3.92</td>\n",
       "    </tr>\n",
       "  </tbody>\n",
       "</table>\n",
       "</div>"
      ],
      "text/plain": [
       "                              Total VMT (Model)  VMT per Person (Model)_model  \\\n",
       "dpurp                                                                           \n",
       "Change Mode Inserted Purpose             353257                          0.13   \n",
       "Escort                                  2906496                          1.07   \n",
       "Meal                                    1589204                          0.59   \n",
       "None/Home                              18535847                          6.85   \n",
       "Personal Business                       2373147                          0.88   \n",
       "School                                   271897                          0.10   \n",
       "Shop                                    2681386                          0.99   \n",
       "Social                                  2986887                          1.10   \n",
       "Work                                   18789179                          6.94   \n",
       "Total                                  50487303                         18.65   \n",
       "\n",
       "                              travdist_wt_survey  \\\n",
       "dpurp                                              \n",
       "Change Mode Inserted Purpose              -11606   \n",
       "Escort                                   -611606   \n",
       "Meal                                     -415146   \n",
       "None/Home                               -2225642   \n",
       "Personal Business                        -604545   \n",
       "School                                    -14149   \n",
       "Shop                                     -702148   \n",
       "Social                                   -495702   \n",
       "Work                                    -2224998   \n",
       "Total                                   -7305546   \n",
       "\n",
       "                              VMT per Person (Model)_survey  \n",
       "dpurp                                                        \n",
       "Change Mode Inserted Purpose                          -0.01  \n",
       "Escort                                                -0.33  \n",
       "Meal                                                  -0.22  \n",
       "None/Home                                             -1.19  \n",
       "Personal Business                                     -0.32  \n",
       "School                                                -0.01  \n",
       "Shop                                                  -0.38  \n",
       "Social                                                -0.27  \n",
       "Work                                                  -1.19  \n",
       "Total                                                 -3.92  "
      ]
     },
     "execution_count": 21,
     "metadata": {},
     "output_type": "execute_result"
    }
   ],
   "source": [
    "df = pd.read_csv(os.path.join(relative_path,'agg','dash','vmt_nonwfh.csv'))\n",
    "df_survey = pd.read_csv(os.path.join(relative_path,'agg','dash','survey','vmt_nonwfh.csv'))\n",
    "\n",
    "pd.options.display.float_format = '{:,.2f}'.format\n",
    "_df = df[(df['mode'].isin(['SOV','HOV2','HOV3+']))&\n",
    "   (df['dorp']==1) &\n",
    "   (df['pptyp'].isin(['Full-Time Worker','Part-Time Worker']))].groupby('dpurp').sum()[['travdist_wt']]\n",
    "_df['VMT per Person (Model)'] = _df['travdist_wt']/total_nonwfh_workers\n",
    "\n",
    "_df_survey = df_survey[(df_survey['mode'].isin(['SOV','HOV2','HOV3+']))&\n",
    "   (df_survey['dorp']==1) &\n",
    "   (df_survey['pptyp'].isin(['Full-Time Worker','Part-Time Worker']))].groupby('dpurp').sum()[['travdist_wt']]\n",
    "_df_survey['VMT per Person (Model)'] = _df_survey['travdist_wt']/total_nonwfh_workers_survey\n",
    "\n",
    "_df = _df.merge(_df_survey, left_index=True, right_index=True, suffixes=['_model','_survey'])\n",
    "_df.loc['Total',:] = _df.sum()\n",
    "_df[['travdist_wt_model','travdist_wt_survey']] = _df[['travdist_wt_model','travdist_wt_survey']].astype('int')\n",
    "_df.rename(columns={'travdist_wt_model': 'Total VMT (Model)', 'travidst_wt_survey': 'Total VMT (Survey)'},\n",
    "                   inplace=True)\n",
    "_df"
   ]
  },
  {
   "cell_type": "markdown",
   "metadata": {},
   "source": [
    "# Commute Tour Distance by Mode\n",
    "All Workers"
   ]
  },
  {
   "cell_type": "code",
   "execution_count": 22,
   "metadata": {},
   "outputs": [
    {
     "data": {
      "text/plain": [
       "tmodetp\n",
       "Bike           961\n",
       "HOV2          2381\n",
       "HOV3+         2469\n",
       "Park           224\n",
       "SOV           1887\n",
       "School Bus     159\n",
       "TNC            587\n",
       "Transit       1459\n",
       "Walk           565\n",
       "dtype: int64"
      ]
     },
     "execution_count": 22,
     "metadata": {},
     "output_type": "execute_result"
    }
   ],
   "source": [
    "df = pd.read_csv(os.path.join(relative_path,'agg','dash','tour_distance.csv'))\n",
    "df.groupby('tmodetp').size()"
   ]
  },
  {
   "cell_type": "code",
   "execution_count": 23,
   "metadata": {},
   "outputs": [
    {
     "name": "stdout",
     "output_type": "stream",
     "text": [
      "Walk\n",
      "Bike\n",
      "SOV\n",
      "HOV2\n",
      "HOV3+\n"
     ]
    },
    {
     "name": "stdout",
     "output_type": "stream",
     "text": [
      "Transit\n",
      "Park\n",
      "TNC\n"
     ]
    },
    {
     "data": {
      "image/png": "[encoded data removed]",
      "text/plain": [
       "<matplotlib.figure.Figure at 0x451ec88>"
      ]
     },
     "metadata": {},
     "output_type": "display_data"
    },
    {
     "data": {
      "image/png": "[encoded data removed]",
      "text/plain": [
       "<matplotlib.figure.Figure at 0xaf3f898>"
      ]
     },
     "metadata": {},
     "output_type": "display_data"
    },
    {
     "data": {
      "image/png": "[encoded data removed]",
      "text/plain": [
       "<matplotlib.figure.Figure at 0xaf80dd8>"
      ]
     },
     "metadata": {},
     "output_type": "display_data"
    },
    {
     "data": {
      "image/png": "[encoded data removed]",
      "text/plain": [
       "<matplotlib.figure.Figure at 0xb4c3710>"
      ]
     },
     "metadata": {},
     "output_type": "display_data"
    },
    {
     "data": {
      "image/png": "[encoded data removed]",
      "text/plain": [
       "<matplotlib.figure.Figure at 0xb4c39e8>"
      ]
     },
     "metadata": {},
     "output_type": "display_data"
    },
    {
     "data": {
      "image/png": "[encoded data removed]",
      "text/plain": [
       "<matplotlib.figure.Figure at 0xb59a5f8>"
      ]
     },
     "metadata": {},
     "output_type": "display_data"
    },
    {
     "data": {
      "image/png": "[encoded data removed]",
      "text/plain": [
       "<matplotlib.figure.Figure at 0xb7c40b8>"
      ]
     },
     "metadata": {},
     "output_type": "display_data"
    },
    {
     "data": {
      "image/png": "[encoded data removed]",
      "text/plain": [
       "<matplotlib.figure.Figure at 0xb79d550>"
      ]
     },
     "metadata": {},
     "output_type": "display_data"
    }
   ],
   "source": [
    "df = pd.read_csv(os.path.join(relative_path,'agg','dash','tour_distance.csv'))\n",
    "df_survey = pd.read_csv(os.path.join(relative_path,'agg','dash','survey','tour_distance.csv'))\n",
    "df = df[df['pdpurp'] == 'Work']\n",
    "df = df[df['tmodetp'] != \"-1\"]\n",
    "\n",
    "for mode in df['tmodetp'].unique():\n",
    "    _df = df[df['tmodetp'] == mode]\n",
    "    \n",
    "    \n",
    "    if len(_df) > 0:\n",
    "        print(mode)\n",
    "        _df = _df.groupby('tautodist_bin').sum()[['toexpfac']].reset_index()\n",
    "\n",
    "        _df['percent'] = _df['toexpfac']/_df['toexpfac'].sum()\n",
    "        _df['cumulative_percent'] = _df['percent'].cumsum()\n",
    "\n",
    "        # remove records that are outside 99% of records\n",
    "        _df = _df[_df['cumulative_percent'] <= 0.99]\n",
    "\n",
    "        _df_survey = df_survey[df_survey['tmodetp'] == mode]\n",
    "        _df_survey = _df_survey.groupby('tautodist_bin').sum()[['toexpfac']].reset_index()\n",
    "\n",
    "        _df_survey['percent'] = _df_survey['toexpfac']/_df_survey['toexpfac'].sum()\n",
    "        _df_survey['cumulative_percent'] = _df_survey['percent'].cumsum()\n",
    "\n",
    "        # remove records that are outside 99% of records\n",
    "        _df_survey = _df_survey[_df_survey['cumulative_percent'] <= 0.99]\n",
    "\n",
    "        fig, ax = plt.subplots()\n",
    "        if len(_df_survey > 0):\n",
    "            _df_merged = _df.merge(_df_survey, on='tautodist_bin', suffixes=['_model','_survey'])\n",
    "            _df_merged[['percent_model','percent_survey']].plot(alpha=0.6, title=mode)\n",
    "        else:\n",
    "            _df['percent'].plot(alpha=0.6, title='Commute Distance by '+str(mode))\n",
    "        \n",
    "\n"
   ]
  }
 ],
 "metadata": {
  "kernelspec": {
   "display_name": "Python 2",
   "language": "python",
   "name": "python2"
  },
  "language_info": {
   "codemirror_mode": {
    "name": "ipython",
    "version": 2
   },
   "file_extension": ".py",
   "mimetype": "text/x-python",
   "name": "python",
   "nbconvert_exporter": "python",
   "pygments_lexer": "ipython2",
   "version": "2.7.14"
  }
 },
 "nbformat": 4,
 "nbformat_minor": 2
}
