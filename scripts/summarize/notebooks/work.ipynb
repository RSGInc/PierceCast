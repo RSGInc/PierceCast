{
 "cells": [
  {
   "cell_type": "code",
   "execution_count": 1,
   "metadata": {},
   "outputs": [
    {
     "data": {
      "text/html": [
       "<script>\n",
       "code_show=true; \n",
       "function code_toggle() {\n",
       " if (code_show){\n",
       " $('div.input').hide();\n",
       " } else {\n",
       " $('div.input').show();\n",
       " }\n",
       " code_show = !code_show\n",
       "} \n",
       "$( document ).ready(code_toggle);\n",
       "</script>\n",
       "<form action=\"javascript:code_toggle()\"><input type=\"submit\" value=\"Click here to toggle on/off the raw code.\"></form>"
      ],
      "text/plain": [
       "<IPython.core.display.HTML object>"
      ]
     },
     "execution_count": 1,
     "metadata": {},
     "output_type": "execute_result"
    }
   ],
   "source": [
    "import os, time\n",
    "from scipy import stats\n",
    "import warnings\n",
    "warnings.simplefilter(action='ignore', category=FutureWarning)\n",
    "import pandas as pd\n",
    "import numpy as np\n",
    "%matplotlib inline\n",
    "\n",
    "from IPython.display import display, HTML\n",
    "\n",
    "HTML('''<script>\n",
    "code_show=true; \n",
    "function code_toggle() {\n",
    " if (code_show){\n",
    " $('div.input').hide();\n",
    " } else {\n",
    " $('div.input').show();\n",
    " }\n",
    " code_show = !code_show\n",
    "} \n",
    "$( document ).ready(code_toggle);\n",
    "</script>\n",
    "<form action=\"javascript:code_toggle()\"><input type=\"submit\" value=\"Click here to toggle on/off the raw code.\"></form>''')"
   ]
  },
  {
   "cell_type": "code",
   "execution_count": 2,
   "metadata": {},
   "outputs": [
    {
     "name": "stdout",
     "output_type": "stream",
     "text": [
      "Summary run: Thu, 05 Nov 2020 16:40\n"
     ]
    }
   ],
   "source": [
    "# Create timestamp to show when this summary was run\n",
    "print 'Summary run: ' + time.strftime(\"%a, %d %b %Y %H:%M\")"
   ]
  },
  {
   "cell_type": "code",
   "execution_count": 3,
   "metadata": {},
   "outputs": [],
   "source": [
    "base_path = os.getcwd().split('\\\\scripts')[0]\n",
    "relative_path = '../../../outputs'\n",
    "pd.options.display.float_format = '{:,.3f}'.format\n",
    "format_percent = \"{:,.2%}\".format"
   ]
  },
  {
   "cell_type": "markdown",
   "metadata": {},
   "source": [
    "# Workers by County"
   ]
  },
  {
   "cell_type": "code",
   "execution_count": 4,
   "metadata": {},
   "outputs": [
    {
     "data": {
      "text/html": [
       "<div>\n",
       "<table border=\"1\" class=\"dataframe\">\n",
       "  <thead>\n",
       "    <tr style=\"text-align: right;\">\n",
       "      <th></th>\n",
       "      <th>WFH Workers</th>\n",
       "      <th>Total Workers</th>\n",
       "      <th>% WFH Workers</th>\n",
       "    </tr>\n",
       "    <tr>\n",
       "      <th>person_county</th>\n",
       "      <th></th>\n",
       "      <th></th>\n",
       "      <th></th>\n",
       "    </tr>\n",
       "  </thead>\n",
       "  <tbody>\n",
       "    <tr>\n",
       "      <th>King</th>\n",
       "      <td>61,654.000</td>\n",
       "      <td>757,936.000</td>\n",
       "      <td>0.081</td>\n",
       "    </tr>\n",
       "    <tr>\n",
       "      <th>Kitsap</th>\n",
       "      <td>11,191.000</td>\n",
       "      <td>185,105.000</td>\n",
       "      <td>0.060</td>\n",
       "    </tr>\n",
       "    <tr>\n",
       "      <th>Pierce</th>\n",
       "      <td>30,775.000</td>\n",
       "      <td>466,723.000</td>\n",
       "      <td>0.066</td>\n",
       "    </tr>\n",
       "    <tr>\n",
       "      <th>Snohomish</th>\n",
       "      <td>27,502.000</td>\n",
       "      <td>469,048.000</td>\n",
       "      <td>0.059</td>\n",
       "    </tr>\n",
       "    <tr>\n",
       "      <th>Region</th>\n",
       "      <td>131,122.000</td>\n",
       "      <td>1,878,812.000</td>\n",
       "      <td>0.070</td>\n",
       "    </tr>\n",
       "  </tbody>\n",
       "</table>\n",
       "</div>"
      ],
      "text/plain": [
       "               WFH Workers  Total Workers  % WFH Workers\n",
       "person_county                                           \n",
       "King            61,654.000    757,936.000          0.081\n",
       "Kitsap          11,191.000    185,105.000          0.060\n",
       "Pierce          30,775.000    466,723.000          0.066\n",
       "Snohomish       27,502.000    469,048.000          0.059\n",
       "Region         131,122.000  1,878,812.000          0.070"
      ]
     },
     "execution_count": 4,
     "metadata": {},
     "output_type": "execute_result"
    }
   ],
   "source": [
    "df_wfh = pd.read_csv(os.path.join(relative_path,'agg','dash','wfh_county.csv'))\n",
    "df_wfh_survey = pd.read_csv(os.path.join(relative_path,'agg','dash','survey','wfh_county.csv'))\n",
    "\n",
    "# Total Workers by County\n",
    "df_tot = pd.read_csv(os.path.join(relative_path,'agg','dash','pptyp_county.csv'))\n",
    "df_tot = df_tot[df_tot['pptyp'].isin(['Full-Time Worker', 'Part-Time Worker'])]\n",
    "df_tot = df_tot.groupby('person_county').sum()[['psexpfac']].reset_index()\n",
    "total_nonwfh_workers = df_tot.sum()['psexpfac']\n",
    "\n",
    "df_tot_survey = pd.read_csv(os.path.join(relative_path,'agg','dash','survey','pptyp_county.csv'))\n",
    "df_tot_survey = df_tot_survey[df_tot_survey['pptyp'].isin(['Full-Time Worker', 'Part-Time Worker'])]\n",
    "df_tot_survey = df_tot_survey.groupby('person_county').sum()[['psexpfac']].reset_index()\n",
    "total_nonwfh_workers_survey = df_tot_survey.sum()['psexpfac']\n",
    "\n",
    "df = df_wfh.merge(df_tot, on='person_county')\n",
    "df.index = df['person_county']\n",
    "df.drop('person_county', axis=1,inplace=True)\n",
    "df.columns = ['WFH Workers', 'Total Workers']\n",
    "df.loc['Region'] = df.sum(axis=0)\n",
    "df['% WFH Workers'] = df['WFH Workers']/df['Total Workers']\n",
    "df"
   ]
  },
  {
   "cell_type": "code",
   "execution_count": 5,
   "metadata": {},
   "outputs": [
    {
     "data": {
      "text/plain": [
       "1878812.0"
      ]
     },
     "execution_count": 5,
     "metadata": {},
     "output_type": "execute_result"
    }
   ],
   "source": [
    "df_tot.sum()['psexpfac']"
   ]
  },
  {
   "cell_type": "markdown",
   "metadata": {},
   "source": [
    "# Tour Rate for Work-at-Home Workers"
   ]
  },
  {
   "cell_type": "code",
   "execution_count": 6,
   "metadata": {},
   "outputs": [
    {
     "data": {
      "text/html": [
       "<div>\n",
       "<table border=\"1\" class=\"dataframe\">\n",
       "  <thead>\n",
       "    <tr style=\"text-align: right;\">\n",
       "      <th></th>\n",
       "      <th>pdpurp</th>\n",
       "      <th>tours_model</th>\n",
       "      <th>tours_survey</th>\n",
       "      <th>tour_rate_model</th>\n",
       "      <th>tour_rate_survey</th>\n",
       "    </tr>\n",
       "  </thead>\n",
       "  <tbody>\n",
       "    <tr>\n",
       "      <th>0</th>\n",
       "      <td>Escort</td>\n",
       "      <td>130,155.000</td>\n",
       "      <td>159384</td>\n",
       "      <td>0.993</td>\n",
       "      <td>1.216</td>\n",
       "    </tr>\n",
       "    <tr>\n",
       "      <th>1</th>\n",
       "      <td>Meal</td>\n",
       "      <td>15,878.000</td>\n",
       "      <td>81480</td>\n",
       "      <td>0.121</td>\n",
       "      <td>0.621</td>\n",
       "    </tr>\n",
       "    <tr>\n",
       "      <th>2</th>\n",
       "      <td>Personal Business</td>\n",
       "      <td>83,948.000</td>\n",
       "      <td>141008</td>\n",
       "      <td>0.640</td>\n",
       "      <td>1.075</td>\n",
       "    </tr>\n",
       "    <tr>\n",
       "      <th>3</th>\n",
       "      <td>School</td>\n",
       "      <td>10,228.000</td>\n",
       "      <td>4622</td>\n",
       "      <td>0.078</td>\n",
       "      <td>0.035</td>\n",
       "    </tr>\n",
       "    <tr>\n",
       "      <th>4</th>\n",
       "      <td>Shop</td>\n",
       "      <td>102,856.000</td>\n",
       "      <td>187659</td>\n",
       "      <td>0.784</td>\n",
       "      <td>1.431</td>\n",
       "    </tr>\n",
       "    <tr>\n",
       "      <th>5</th>\n",
       "      <td>Social</td>\n",
       "      <td>93,801.000</td>\n",
       "      <td>420295</td>\n",
       "      <td>0.715</td>\n",
       "      <td>3.205</td>\n",
       "    </tr>\n",
       "    <tr>\n",
       "      <th>6</th>\n",
       "      <td>Work</td>\n",
       "      <td>64,042.000</td>\n",
       "      <td>177049</td>\n",
       "      <td>0.488</td>\n",
       "      <td>1.350</td>\n",
       "    </tr>\n",
       "  </tbody>\n",
       "</table>\n",
       "</div>"
      ],
      "text/plain": [
       "              pdpurp  tours_model  tours_survey  tour_rate_model  \\\n",
       "0             Escort  130,155.000        159384            0.993   \n",
       "1               Meal   15,878.000         81480            0.121   \n",
       "2  Personal Business   83,948.000        141008            0.640   \n",
       "3             School   10,228.000          4622            0.078   \n",
       "4               Shop  102,856.000        187659            0.784   \n",
       "5             Social   93,801.000        420295            0.715   \n",
       "6               Work   64,042.000        177049            0.488   \n",
       "\n",
       "   tour_rate_survey  \n",
       "0             1.216  \n",
       "1             0.621  \n",
       "2             1.075  \n",
       "3             0.035  \n",
       "4             1.431  \n",
       "5             3.205  \n",
       "6             1.350  "
      ]
     },
     "execution_count": 6,
     "metadata": {},
     "output_type": "execute_result"
    }
   ],
   "source": [
    "df_tours = pd.read_csv(os.path.join(relative_path,'agg','dash','work_from_home_tours.csv'))\n",
    "total_wfh_workers = df_wfh.psexpfac.sum()\n",
    "df = df_tours.groupby('pdpurp').sum()[['toexpfac']].reset_index()\n",
    "df['tour_rate'] = df['toexpfac']/total_wfh_workers\n",
    "df\n",
    "\n",
    "df_tours_survey = pd.read_csv(os.path.join(relative_path,'agg','dash','survey','work_from_home_tours.csv'))\n",
    "total_wfh_workers_survey = df_wfh.psexpfac.sum()\n",
    "df_survey = df_tours_survey.groupby('pdpurp').sum()[['toexpfac']].reset_index()\n",
    "df_survey['tour_rate'] = df_survey['toexpfac']/total_wfh_workers_survey\n",
    "df = df.merge(df_survey,on='pdpurp',suffixes=['_model','_survey'])\n",
    "df.rename(columns={'toexpfac_model': 'tours_model', 'toexpfac_survey': 'tours_survey'}, inplace=True)\n",
    "df['tours_survey'] = df['tours_survey'].astype('int')\n",
    "df[['pdpurp','tours_model','tours_survey','tour_rate_model','tour_rate_survey']]"
   ]
  },
  {
   "cell_type": "markdown",
   "metadata": {},
   "source": [
    "### Tour Rates for Workers that do NOT WF"
   ]
  },
  {
   "cell_type": "code",
   "execution_count": 7,
   "metadata": {},
   "outputs": [
    {
     "data": {
      "text/html": [
       "<div>\n",
       "<table border=\"1\" class=\"dataframe\">\n",
       "  <thead>\n",
       "    <tr style=\"text-align: right;\">\n",
       "      <th></th>\n",
       "      <th>pdpurp</th>\n",
       "      <th>total_tours_model</th>\n",
       "      <th>total_tours_survey</th>\n",
       "      <th>tour_rate_model</th>\n",
       "      <th>tour_rate_survey</th>\n",
       "    </tr>\n",
       "  </thead>\n",
       "  <tbody>\n",
       "    <tr>\n",
       "      <th>0</th>\n",
       "      <td>Escort</td>\n",
       "      <td>534,963.000</td>\n",
       "      <td>906,946.150</td>\n",
       "      <td>0.285</td>\n",
       "      <td>0.479</td>\n",
       "    </tr>\n",
       "    <tr>\n",
       "      <th>1</th>\n",
       "      <td>Meal</td>\n",
       "      <td>713,632.000</td>\n",
       "      <td>1,003,021.420</td>\n",
       "      <td>0.380</td>\n",
       "      <td>0.530</td>\n",
       "    </tr>\n",
       "    <tr>\n",
       "      <th>2</th>\n",
       "      <td>Personal Business</td>\n",
       "      <td>401,546.000</td>\n",
       "      <td>1,197,447.670</td>\n",
       "      <td>0.214</td>\n",
       "      <td>0.633</td>\n",
       "    </tr>\n",
       "    <tr>\n",
       "      <th>3</th>\n",
       "      <td>School</td>\n",
       "      <td>71,538.000</td>\n",
       "      <td>77,042.920</td>\n",
       "      <td>0.038</td>\n",
       "      <td>0.041</td>\n",
       "    </tr>\n",
       "    <tr>\n",
       "      <th>4</th>\n",
       "      <td>Shop</td>\n",
       "      <td>536,883.000</td>\n",
       "      <td>1,253,671.290</td>\n",
       "      <td>0.286</td>\n",
       "      <td>0.662</td>\n",
       "    </tr>\n",
       "    <tr>\n",
       "      <th>5</th>\n",
       "      <td>Social</td>\n",
       "      <td>1,037,263.000</td>\n",
       "      <td>2,036,336.670</td>\n",
       "      <td>0.552</td>\n",
       "      <td>1.076</td>\n",
       "    </tr>\n",
       "    <tr>\n",
       "      <th>6</th>\n",
       "      <td>Work</td>\n",
       "      <td>4,772,942.000</td>\n",
       "      <td>10,841,545.600</td>\n",
       "      <td>2.540</td>\n",
       "      <td>5.729</td>\n",
       "    </tr>\n",
       "  </tbody>\n",
       "</table>\n",
       "</div>"
      ],
      "text/plain": [
       "              pdpurp  total_tours_model  total_tours_survey  tour_rate_model  \\\n",
       "0             Escort        534,963.000         906,946.150            0.285   \n",
       "1               Meal        713,632.000       1,003,021.420            0.380   \n",
       "2  Personal Business        401,546.000       1,197,447.670            0.214   \n",
       "3             School         71,538.000          77,042.920            0.038   \n",
       "4               Shop        536,883.000       1,253,671.290            0.286   \n",
       "5             Social      1,037,263.000       2,036,336.670            0.552   \n",
       "6               Work      4,772,942.000      10,841,545.600            2.540   \n",
       "\n",
       "   tour_rate_survey  \n",
       "0             0.479  \n",
       "1             0.530  \n",
       "2             0.633  \n",
       "3             0.041  \n",
       "4             0.662  \n",
       "5             1.076  \n",
       "6             5.729  "
      ]
     },
     "execution_count": 7,
     "metadata": {},
     "output_type": "execute_result"
    }
   ],
   "source": [
    "# Tour Rates by purpose by worker type\n",
    "df = pd.read_csv(os.path.join(relative_path,'agg','dash','non_wfh_tours.csv'))\n",
    "df = df[df['pptyp'].isin(['Full-Time Worker', 'Part-Time Worker'])]\n",
    "df = df.groupby('pdpurp').sum().reset_index()\n",
    "df['tour_rate'] = df['toexpfac']/df_tot.sum()[['psexpfac']].values[0]\n",
    "\n",
    "df_survey = pd.read_csv(os.path.join(relative_path,'agg','dash','survey','non_wfh_tours.csv'))\n",
    "df_survey = df_survey[df_survey['pptyp'].isin(['Full-Time Worker', 'Part-Time Worker'])]\n",
    "df_survey = df_survey.groupby('pdpurp').sum().reset_index()\n",
    "df_survey['tour_rate'] = df_survey['toexpfac']/df_tot_survey.sum()[['psexpfac']].values[0]\n",
    "\n",
    "df = df.merge(df_survey, on='pdpurp', suffixes=['_model','_survey'])\n",
    "df.rename(columns={'toexpfac_model':'total_tours_model','toexpfac_survey':'total_tours_survey'},\n",
    "         inplace=True)\n",
    "df[['pdpurp','total_tours_model','total_tours_survey','tour_rate_model','tour_rate_survey']]"
   ]
  },
  {
   "cell_type": "code",
   "execution_count": 8,
   "metadata": {},
   "outputs": [
    {
     "data": {
      "text/plain": [
       "1878812.0"
      ]
     },
     "execution_count": 8,
     "metadata": {},
     "output_type": "execute_result"
    }
   ],
   "source": [
    "total_nonwfh_workers"
   ]
  },
  {
   "cell_type": "markdown",
   "metadata": {},
   "source": [
    "### Tour Rates for Non-Workers"
   ]
  },
  {
   "cell_type": "code",
   "execution_count": 9,
   "metadata": {},
   "outputs": [
    {
     "data": {
      "text/html": [
       "<div>\n",
       "<table border=\"1\" class=\"dataframe\">\n",
       "  <thead>\n",
       "    <tr style=\"text-align: right;\">\n",
       "      <th></th>\n",
       "      <th>pdpurp</th>\n",
       "      <th>total_tours_model</th>\n",
       "      <th>total_tours_survey</th>\n",
       "      <th>tour_rate_model</th>\n",
       "      <th>tour_rate_survey</th>\n",
       "    </tr>\n",
       "  </thead>\n",
       "  <tbody>\n",
       "    <tr>\n",
       "      <th>0</th>\n",
       "      <td>Escort</td>\n",
       "      <td>1,324,432.000</td>\n",
       "      <td>2,027,402.260</td>\n",
       "      <td>0.700</td>\n",
       "      <td>1.071</td>\n",
       "    </tr>\n",
       "    <tr>\n",
       "      <th>1</th>\n",
       "      <td>Meal</td>\n",
       "      <td>297,747.000</td>\n",
       "      <td>792,740.920</td>\n",
       "      <td>0.157</td>\n",
       "      <td>0.419</td>\n",
       "    </tr>\n",
       "    <tr>\n",
       "      <th>2</th>\n",
       "      <td>Personal Business</td>\n",
       "      <td>1,292,259.000</td>\n",
       "      <td>2,522,716.010</td>\n",
       "      <td>0.683</td>\n",
       "      <td>1.333</td>\n",
       "    </tr>\n",
       "    <tr>\n",
       "      <th>3</th>\n",
       "      <td>School</td>\n",
       "      <td>1,691,100.000</td>\n",
       "      <td>3,072,544.730</td>\n",
       "      <td>0.894</td>\n",
       "      <td>1.623</td>\n",
       "    </tr>\n",
       "    <tr>\n",
       "      <th>4</th>\n",
       "      <td>Shop</td>\n",
       "      <td>1,260,702.000</td>\n",
       "      <td>2,177,461.050</td>\n",
       "      <td>0.666</td>\n",
       "      <td>1.151</td>\n",
       "    </tr>\n",
       "    <tr>\n",
       "      <th>5</th>\n",
       "      <td>Social</td>\n",
       "      <td>1,680,930.000</td>\n",
       "      <td>3,637,072.870</td>\n",
       "      <td>0.888</td>\n",
       "      <td>1.922</td>\n",
       "    </tr>\n",
       "    <tr>\n",
       "      <th>6</th>\n",
       "      <td>Work</td>\n",
       "      <td>255,130.000</td>\n",
       "      <td>704,161.470</td>\n",
       "      <td>0.135</td>\n",
       "      <td>0.372</td>\n",
       "    </tr>\n",
       "  </tbody>\n",
       "</table>\n",
       "</div>"
      ],
      "text/plain": [
       "              pdpurp  total_tours_model  total_tours_survey  tour_rate_model  \\\n",
       "0             Escort      1,324,432.000       2,027,402.260            0.700   \n",
       "1               Meal        297,747.000         792,740.920            0.157   \n",
       "2  Personal Business      1,292,259.000       2,522,716.010            0.683   \n",
       "3             School      1,691,100.000       3,072,544.730            0.894   \n",
       "4               Shop      1,260,702.000       2,177,461.050            0.666   \n",
       "5             Social      1,680,930.000       3,637,072.870            0.888   \n",
       "6               Work        255,130.000         704,161.470            0.135   \n",
       "\n",
       "   tour_rate_survey  \n",
       "0             1.071  \n",
       "1             0.419  \n",
       "2             1.333  \n",
       "3             1.623  \n",
       "4             1.151  \n",
       "5             1.922  \n",
       "6             0.372  "
      ]
     },
     "execution_count": 9,
     "metadata": {},
     "output_type": "execute_result"
    }
   ],
   "source": [
    "df = pd.read_csv(os.path.join(relative_path,'agg','dash','non_wfh_tours.csv'))\n",
    "df = df[-df['pptyp'].isin(['Full-Time Worker', 'Part-Time Worker'])]\n",
    "df = df.groupby('pdpurp').sum().reset_index()\n",
    "df['tour_rate'] = df['toexpfac']/df_tot_survey.sum()[['psexpfac']].values[0]\n",
    "\n",
    "\n",
    "df_survey = pd.read_csv(os.path.join(relative_path,'agg','dash','survey','non_wfh_tours.csv'))\n",
    "df_survey = df_survey[-df_survey['pptyp'].isin(['Full-Time Worker', 'Part-Time Worker'])]\n",
    "df_survey = df_survey.groupby('pdpurp').sum().reset_index()\n",
    "df_survey['tour_rate'] = df_survey['toexpfac']/df_tot_survey.sum()[['psexpfac']].values[0]\n",
    "\n",
    "df = df.merge(df_survey, on='pdpurp', suffixes=['_model','_survey'])\n",
    "df.rename(columns={'toexpfac_model':'total_tours_model','toexpfac_survey':'total_tours_survey'},\n",
    "         inplace=True)\n",
    "df[['pdpurp','total_tours_model','total_tours_survey','tour_rate_model','tour_rate_survey']]"
   ]
  },
  {
   "cell_type": "markdown",
   "metadata": {},
   "source": [
    "# Commute Tour Distance\n",
    "All Workers"
   ]
  },
  {
   "cell_type": "code",
   "execution_count": 10,
   "metadata": {},
   "outputs": [],
   "source": [
    "df = pd.read_csv(os.path.join(relative_path,'agg','dash','tour_distance.csv'))\n",
    "df = df[df['pdpurp'] == 'Work']\n",
    "\n",
    "pd.options.display.float_format = '{:0,.4f}'.format\n",
    "_df = df.groupby('tautodist_bin').sum()[['toexpfac']].reset_index()\n",
    "\n",
    "_df['percent'] = _df['toexpfac']/_df['toexpfac'].sum()\n",
    "_df['cumulative_percent'] = _df['percent'].cumsum()\n",
    "\n",
    "# remove records that are outside 99% of records\n",
    "_df = _df[_df['cumulative_percent'] <= 0.99]"
   ]
  },
  {
   "cell_type": "code",
   "execution_count": 11,
   "metadata": {},
   "outputs": [],
   "source": [
    "df_survey = pd.read_csv(os.path.join(relative_path,'agg','dash','survey','tour_distance.csv'))\n",
    "df_survey = df_survey[df_survey['pdpurp'] == 'Work']\n",
    "\n",
    "_df_survey = df_survey.groupby('tautodist_bin').sum()[['toexpfac']].reset_index()\n",
    "\n",
    "_df_survey['percent'] = _df_survey['toexpfac']/_df_survey['toexpfac'].sum()\n",
    "_df_survey['cumulative_percent'] = _df_survey['percent'].cumsum()\n",
    "\n",
    "# remove records that are outside 99% of records\n",
    "_df_survey = _df_survey[_df_survey['cumulative_percent'] <= 0.99]"
   ]
  },
  {
   "cell_type": "markdown",
   "metadata": {},
   "source": [
    "Weighted Average Distance"
   ]
  },
  {
   "cell_type": "code",
   "execution_count": 12,
   "metadata": {},
   "outputs": [
    {
     "name": "stdout",
     "output_type": "stream",
     "text": [
      "model: 10.1653664567\n",
      "survey: 10.5561412338\n"
     ]
    }
   ],
   "source": [
    "_df_merged = _df.merge(_df_survey, on='tautodist_bin', suffixes=['_model','_survey'])\n",
    "print('model: '+ str((_df_merged['toexpfac_model']*_df_merged['tautodist_bin']).sum()*1.0/_df_merged['toexpfac_model'].sum()))\n",
    "print('survey: '+ str((_df_merged['toexpfac_survey']*_df_merged['tautodist_bin']).sum()*1.0/_df_merged['toexpfac_survey'].sum()))"
   ]
  },
  {
   "cell_type": "code",
   "execution_count": 13,
   "metadata": {},
   "outputs": [],
   "source": [
    "# Work trip distance to not usual workplace for non-WFH workers\n"
   ]
  },
  {
   "cell_type": "code",
   "execution_count": 14,
   "metadata": {},
   "outputs": [
    {
     "data": {
      "text/plain": [
       "<matplotlib.axes._subplots.AxesSubplot at 0x530cdd8>"
      ]
     },
     "execution_count": 14,
     "metadata": {},
     "output_type": "execute_result"
    },
    {
     "data": {
      "image/png": "[encoded data removed]",
      "text/plain": [
       "<matplotlib.figure.Figure at 0x5396240>"
      ]
     },
     "metadata": {},
     "output_type": "display_data"
    }
   ],
   "source": [
    "_df_merged[['percent_model','percent_survey']].plot(alpha=0.6)\n",
    "\n",
    "# _df[['trexpfac']].plot(kind='bar')"
   ]
  },
  {
   "cell_type": "markdown",
   "metadata": {},
   "source": [
    "# Average Trip Distance\n",
    "Workers that work DO NOT work from home"
   ]
  },
  {
   "cell_type": "code",
   "execution_count": 15,
   "metadata": {},
   "outputs": [
    {
     "name": "stdout",
     "output_type": "stream",
     "text": [
      "Avg. distance to Usual Workplace: 8.39164175159\n",
      "Avg. distance to Other Workplace: 4.69255710629\n",
      "----------------------------------------\n"
     ]
    },
    {
     "data": {
      "text/html": [
       "<div>\n",
       "<table border=\"1\" class=\"dataframe\">\n",
       "  <thead>\n",
       "    <tr style=\"text-align: right;\">\n",
       "      <th></th>\n",
       "      <th>Purpose</th>\n",
       "      <th>Workers at Non-Home Location</th>\n",
       "    </tr>\n",
       "  </thead>\n",
       "  <tbody>\n",
       "    <tr>\n",
       "      <th>0</th>\n",
       "      <td>Shop</td>\n",
       "      <td>3.6506</td>\n",
       "    </tr>\n",
       "    <tr>\n",
       "      <th>1</th>\n",
       "      <td>School</td>\n",
       "      <td>3.0770</td>\n",
       "    </tr>\n",
       "    <tr>\n",
       "      <th>2</th>\n",
       "      <td>Work</td>\n",
       "      <td>7.6272</td>\n",
       "    </tr>\n",
       "    <tr>\n",
       "      <th>3</th>\n",
       "      <td>Meal</td>\n",
       "      <td>2.7551</td>\n",
       "    </tr>\n",
       "    <tr>\n",
       "      <th>4</th>\n",
       "      <td>Change Mode Inserted Purpose</td>\n",
       "      <td>7.9225</td>\n",
       "    </tr>\n",
       "    <tr>\n",
       "      <th>5</th>\n",
       "      <td>Escort</td>\n",
       "      <td>5.2354</td>\n",
       "    </tr>\n",
       "    <tr>\n",
       "      <th>6</th>\n",
       "      <td>Social</td>\n",
       "      <td>3.8497</td>\n",
       "    </tr>\n",
       "    <tr>\n",
       "      <th>7</th>\n",
       "      <td>None/Home</td>\n",
       "      <td>5.3151</td>\n",
       "    </tr>\n",
       "    <tr>\n",
       "      <th>8</th>\n",
       "      <td>Personal Business</td>\n",
       "      <td>4.4175</td>\n",
       "    </tr>\n",
       "  </tbody>\n",
       "</table>\n",
       "</div>"
      ],
      "text/plain": [
       "                        Purpose  Workers at Non-Home Location\n",
       "0                          Shop                        3.6506\n",
       "1                        School                        3.0770\n",
       "2                          Work                        7.6272\n",
       "3                          Meal                        2.7551\n",
       "4  Change Mode Inserted Purpose                        7.9225\n",
       "5                        Escort                        5.2354\n",
       "6                        Social                        3.8497\n",
       "7                     None/Home                        5.3151\n",
       "8             Personal Business                        4.4175"
      ]
     },
     "execution_count": 15,
     "metadata": {},
     "output_type": "execute_result"
    }
   ],
   "source": [
    "# Non WFH Workers\n",
    "df = pd.read_csv(os.path.join(relative_path,'agg','dash','trip_distance_non_wfh.csv'))\n",
    "df = df[df['pptyp'].isin(['Full-Time Worker','Part-Time Worker'])]\n",
    "df = df[(df['dpurp'] == 'Work') & (df['dadtyp'].isin(['Other','Usual Workplace']))]\n",
    "# df.groupby(['travdist_bin','']).sum()[['trexpfac']]\n",
    "df_usual = df[df['dadtyp'] == 'Usual Workplace']\n",
    "dist = (df_usual['trexpfac']*1.0*df_usual['travdist_bin']).sum()/df_usual['trexpfac'].sum()\n",
    "print('Avg. distance to Usual Workplace: ' + str(dist))\n",
    "df_other = df[df['dadtyp'] == 'Other']\n",
    "dist = (df_other['trexpfac']*1.0*df_other['travdist_bin']).sum()/df_other['trexpfac'].sum()\n",
    "print('Avg. distance to Other Workplace: ' + str(dist))\n",
    "print('----------------------------------------')\n",
    "# Non WFH Workers\n",
    "df = pd.read_csv(os.path.join(relative_path,'agg','dash','trip_distance_non_wfh.csv'))\n",
    "df['wt_sum'] = df['trexpfac']*1.0*df['travdist_bin']\n",
    "result = {}\n",
    "for purp in pd.unique(df['dpurp']):\n",
    "    _df = df[df['dpurp'] == purp]\n",
    "    result[purp] = _df['wt_sum'].sum()/_df['trexpfac'].sum()\n",
    "    \n",
    "_df_non_wfh = pd.DataFrame.from_dict(result, orient='index').reset_index()\n",
    "_df_non_wfh.columns = ['Purpose','Workers at Non-Home Location']\n",
    "_df_non_wfh"
   ]
  },
  {
   "cell_type": "markdown",
   "metadata": {},
   "source": [
    "Only workers that work **from home**"
   ]
  },
  {
   "cell_type": "code",
   "execution_count": 16,
   "metadata": {},
   "outputs": [
    {
     "name": "stdout",
     "output_type": "stream",
     "text": [
      "Avg. distance to Other Workplace: 4.24052880821\n",
      "----------------------------------\n"
     ]
    },
    {
     "data": {
      "text/html": [
       "<div>\n",
       "<table border=\"1\" class=\"dataframe\">\n",
       "  <thead>\n",
       "    <tr style=\"text-align: right;\">\n",
       "      <th></th>\n",
       "      <th>Purpose</th>\n",
       "      <th>WFH Workers</th>\n",
       "    </tr>\n",
       "  </thead>\n",
       "  <tbody>\n",
       "    <tr>\n",
       "      <th>0</th>\n",
       "      <td>Shop</td>\n",
       "      <td>1.9260</td>\n",
       "    </tr>\n",
       "    <tr>\n",
       "      <th>1</th>\n",
       "      <td>School</td>\n",
       "      <td>4.6260</td>\n",
       "    </tr>\n",
       "    <tr>\n",
       "      <th>2</th>\n",
       "      <td>Work</td>\n",
       "      <td>4.2385</td>\n",
       "    </tr>\n",
       "    <tr>\n",
       "      <th>3</th>\n",
       "      <td>Meal</td>\n",
       "      <td>1.7512</td>\n",
       "    </tr>\n",
       "    <tr>\n",
       "      <th>4</th>\n",
       "      <td>Change Mode Inserted Purpose</td>\n",
       "      <td>4.7284</td>\n",
       "    </tr>\n",
       "    <tr>\n",
       "      <th>5</th>\n",
       "      <td>Escort</td>\n",
       "      <td>2.4313</td>\n",
       "    </tr>\n",
       "    <tr>\n",
       "      <th>6</th>\n",
       "      <td>Social</td>\n",
       "      <td>1.9650</td>\n",
       "    </tr>\n",
       "    <tr>\n",
       "      <th>7</th>\n",
       "      <td>None/Home</td>\n",
       "      <td>2.5200</td>\n",
       "    </tr>\n",
       "    <tr>\n",
       "      <th>8</th>\n",
       "      <td>Personal Business</td>\n",
       "      <td>1.9457</td>\n",
       "    </tr>\n",
       "  </tbody>\n",
       "</table>\n",
       "</div>"
      ],
      "text/plain": [
       "                        Purpose  WFH Workers\n",
       "0                          Shop       1.9260\n",
       "1                        School       4.6260\n",
       "2                          Work       4.2385\n",
       "3                          Meal       1.7512\n",
       "4  Change Mode Inserted Purpose       4.7284\n",
       "5                        Escort       2.4313\n",
       "6                        Social       1.9650\n",
       "7                     None/Home       2.5200\n",
       "8             Personal Business       1.9457"
      ]
     },
     "execution_count": 16,
     "metadata": {},
     "output_type": "execute_result"
    }
   ],
   "source": [
    "# WFH Workers\n",
    "df = pd.read_csv(os.path.join(relative_path,'agg','dash','trip_distance_wfh.csv'))\n",
    "df = df[(df['dpurp'] == 'Work') & (df['dadtyp'].isin(['Other','Usual Workplace']))]\n",
    "\n",
    "df_other = df[df['dadtyp'] == 'Other']\n",
    "dist = (df_other['trexpfac']*1.0*df_other['travdist_bin']).sum()/df_other['trexpfac'].sum()\n",
    "print('Avg. distance to Other Workplace: ' + str(dist))\n",
    "print('----------------------------------')\n",
    "df = pd.read_csv(os.path.join(relative_path,'agg','dash','trip_distance_wfh.csv'))\n",
    "df['wt_sum'] = df['trexpfac']*1.0*df['travdist_bin']\n",
    "result = {}\n",
    "for purp in pd.unique(df['dpurp']):\n",
    "    _df = df[df['dpurp'] == purp]\n",
    "    result[purp] = _df['wt_sum'].sum()/_df['trexpfac'].sum()\n",
    "\n",
    "_df_wfh = pd.DataFrame.from_dict(result, orient='index')\n",
    "_df_wfh = _df_wfh.reset_index()\n",
    "_df_wfh.columns = ['Purpose','WFH Workers']\n",
    "_df_wfh"
   ]
  },
  {
   "cell_type": "code",
   "execution_count": 17,
   "metadata": {},
   "outputs": [
    {
     "data": {
      "text/html": [
       "<div>\n",
       "<table border=\"1\" class=\"dataframe\">\n",
       "  <thead>\n",
       "    <tr style=\"text-align: right;\">\n",
       "      <th></th>\n",
       "      <th>Purpose</th>\n",
       "      <th>Non-Workers</th>\n",
       "    </tr>\n",
       "  </thead>\n",
       "  <tbody>\n",
       "    <tr>\n",
       "      <th>0</th>\n",
       "      <td>Shop</td>\n",
       "      <td>3.6506</td>\n",
       "    </tr>\n",
       "    <tr>\n",
       "      <th>1</th>\n",
       "      <td>School</td>\n",
       "      <td>3.0770</td>\n",
       "    </tr>\n",
       "    <tr>\n",
       "      <th>2</th>\n",
       "      <td>Work</td>\n",
       "      <td>7.6272</td>\n",
       "    </tr>\n",
       "    <tr>\n",
       "      <th>3</th>\n",
       "      <td>Meal</td>\n",
       "      <td>2.7551</td>\n",
       "    </tr>\n",
       "    <tr>\n",
       "      <th>4</th>\n",
       "      <td>Change Mode Inserted Purpose</td>\n",
       "      <td>7.9225</td>\n",
       "    </tr>\n",
       "    <tr>\n",
       "      <th>5</th>\n",
       "      <td>Escort</td>\n",
       "      <td>5.2354</td>\n",
       "    </tr>\n",
       "    <tr>\n",
       "      <th>6</th>\n",
       "      <td>Social</td>\n",
       "      <td>3.8497</td>\n",
       "    </tr>\n",
       "    <tr>\n",
       "      <th>7</th>\n",
       "      <td>None/Home</td>\n",
       "      <td>5.3151</td>\n",
       "    </tr>\n",
       "    <tr>\n",
       "      <th>8</th>\n",
       "      <td>Personal Business</td>\n",
       "      <td>4.4175</td>\n",
       "    </tr>\n",
       "  </tbody>\n",
       "</table>\n",
       "</div>"
      ],
      "text/plain": [
       "                        Purpose  Non-Workers\n",
       "0                          Shop       3.6506\n",
       "1                        School       3.0770\n",
       "2                          Work       7.6272\n",
       "3                          Meal       2.7551\n",
       "4  Change Mode Inserted Purpose       7.9225\n",
       "5                        Escort       5.2354\n",
       "6                        Social       3.8497\n",
       "7                     None/Home       5.3151\n",
       "8             Personal Business       4.4175"
      ]
     },
     "execution_count": 17,
     "metadata": {},
     "output_type": "execute_result"
    }
   ],
   "source": [
    "# Non-Workers\n",
    "df = pd.read_csv(os.path.join(relative_path,'agg','dash','trip_distance_non_wfh.csv'))\n",
    "df = df[-df['pptyp'].isin(['Full-Time Worker','Part-Time Worker'])]\n",
    "df = df[(df['dpurp'] == 'Work') & (df['dadtyp'].isin(['Other','Usual Workplace']))]\n",
    "\n",
    "# Non-Workers\n",
    "df = pd.read_csv(os.path.join(relative_path,'agg','dash','trip_distance_non_wfh.csv'))\n",
    "df['wt_sum'] = df['trexpfac']*1.0*df['travdist_bin']\n",
    "result = {}\n",
    "for purp in pd.unique(df['dpurp']):\n",
    "    _df = df[df['dpurp'] == purp]\n",
    "    result[purp] = _df['wt_sum'].sum()/_df['trexpfac'].sum()\n",
    "    \n",
    "_df_non_worker = pd.DataFrame.from_dict(result, orient='index')\n",
    "_df_non_worker = _df_non_worker.reset_index()\n",
    "_df_non_worker.columns = ['Purpose','Non-Workers']\n",
    "_df_non_worker"
   ]
  },
  {
   "cell_type": "markdown",
   "metadata": {},
   "source": [
    "Average Trip Distance by Purpose and Worker/Person Type"
   ]
  },
  {
   "cell_type": "code",
   "execution_count": 18,
   "metadata": {},
   "outputs": [],
   "source": [
    "_df = pd.merge(_df_non_wfh, _df_wfh).merge(_df_non_worker)"
   ]
  },
  {
   "cell_type": "code",
   "execution_count": 19,
   "metadata": {},
   "outputs": [
    {
     "data": {
      "text/html": [
       "<div>\n",
       "<table border=\"1\" class=\"dataframe\">\n",
       "  <thead>\n",
       "    <tr style=\"text-align: right;\">\n",
       "      <th></th>\n",
       "      <th>Purpose</th>\n",
       "      <th>Workers at Non-Home Location</th>\n",
       "      <th>WFH Workers</th>\n",
       "      <th>Non-Workers</th>\n",
       "    </tr>\n",
       "  </thead>\n",
       "  <tbody>\n",
       "    <tr>\n",
       "      <th>0</th>\n",
       "      <td>Shop</td>\n",
       "      <td>3.6506</td>\n",
       "      <td>1.9260</td>\n",
       "      <td>3.6506</td>\n",
       "    </tr>\n",
       "    <tr>\n",
       "      <th>1</th>\n",
       "      <td>School</td>\n",
       "      <td>3.0770</td>\n",
       "      <td>4.6260</td>\n",
       "      <td>3.0770</td>\n",
       "    </tr>\n",
       "    <tr>\n",
       "      <th>2</th>\n",
       "      <td>Work</td>\n",
       "      <td>7.6272</td>\n",
       "      <td>4.2385</td>\n",
       "      <td>7.6272</td>\n",
       "    </tr>\n",
       "    <tr>\n",
       "      <th>3</th>\n",
       "      <td>Meal</td>\n",
       "      <td>2.7551</td>\n",
       "      <td>1.7512</td>\n",
       "      <td>2.7551</td>\n",
       "    </tr>\n",
       "    <tr>\n",
       "      <th>4</th>\n",
       "      <td>Change Mode Inserted Purpose</td>\n",
       "      <td>7.9225</td>\n",
       "      <td>4.7284</td>\n",
       "      <td>7.9225</td>\n",
       "    </tr>\n",
       "    <tr>\n",
       "      <th>5</th>\n",
       "      <td>Escort</td>\n",
       "      <td>5.2354</td>\n",
       "      <td>2.4313</td>\n",
       "      <td>5.2354</td>\n",
       "    </tr>\n",
       "    <tr>\n",
       "      <th>6</th>\n",
       "      <td>Social</td>\n",
       "      <td>3.8497</td>\n",
       "      <td>1.9650</td>\n",
       "      <td>3.8497</td>\n",
       "    </tr>\n",
       "    <tr>\n",
       "      <th>7</th>\n",
       "      <td>None/Home</td>\n",
       "      <td>5.3151</td>\n",
       "      <td>2.5200</td>\n",
       "      <td>5.3151</td>\n",
       "    </tr>\n",
       "    <tr>\n",
       "      <th>8</th>\n",
       "      <td>Personal Business</td>\n",
       "      <td>4.4175</td>\n",
       "      <td>1.9457</td>\n",
       "      <td>4.4175</td>\n",
       "    </tr>\n",
       "  </tbody>\n",
       "</table>\n",
       "</div>"
      ],
      "text/plain": [
       "                        Purpose  Workers at Non-Home Location  WFH Workers  \\\n",
       "0                          Shop                        3.6506       1.9260   \n",
       "1                        School                        3.0770       4.6260   \n",
       "2                          Work                        7.6272       4.2385   \n",
       "3                          Meal                        2.7551       1.7512   \n",
       "4  Change Mode Inserted Purpose                        7.9225       4.7284   \n",
       "5                        Escort                        5.2354       2.4313   \n",
       "6                        Social                        3.8497       1.9650   \n",
       "7                     None/Home                        5.3151       2.5200   \n",
       "8             Personal Business                        4.4175       1.9457   \n",
       "\n",
       "   Non-Workers  \n",
       "0       3.6506  \n",
       "1       3.0770  \n",
       "2       7.6272  \n",
       "3       2.7551  \n",
       "4       7.9225  \n",
       "5       5.2354  \n",
       "6       3.8497  \n",
       "7       5.3151  \n",
       "8       4.4175  "
      ]
     },
     "execution_count": 19,
     "metadata": {},
     "output_type": "execute_result"
    }
   ],
   "source": [
    "_df"
   ]
  },
  {
   "cell_type": "markdown",
   "metadata": {},
   "source": [
    "# VMT"
   ]
  },
  {
   "cell_type": "markdown",
   "metadata": {},
   "source": [
    "Workers that Work from Home"
   ]
  },
  {
   "cell_type": "code",
   "execution_count": 20,
   "metadata": {},
   "outputs": [
    {
     "data": {
      "text/html": [
       "<div>\n",
       "<table border=\"1\" class=\"dataframe\">\n",
       "  <thead>\n",
       "    <tr style=\"text-align: right;\">\n",
       "      <th></th>\n",
       "      <th>Total VMT (Model)</th>\n",
       "      <th>VMT per Person (Model)_model</th>\n",
       "      <th>travdist_wt_survey</th>\n",
       "      <th>VMT per Person (Model)_survey</th>\n",
       "    </tr>\n",
       "    <tr>\n",
       "      <th>dpurp</th>\n",
       "      <th></th>\n",
       "      <th></th>\n",
       "      <th></th>\n",
       "      <th></th>\n",
       "    </tr>\n",
       "  </thead>\n",
       "  <tbody>\n",
       "    <tr>\n",
       "      <th>Change Mode Inserted Purpose</th>\n",
       "      <td>185</td>\n",
       "      <td>0.00</td>\n",
       "      <td>22100</td>\n",
       "      <td>0.17</td>\n",
       "    </tr>\n",
       "    <tr>\n",
       "      <th>Escort</th>\n",
       "      <td>130753</td>\n",
       "      <td>1.00</td>\n",
       "      <td>125808</td>\n",
       "      <td>0.96</td>\n",
       "    </tr>\n",
       "    <tr>\n",
       "      <th>Meal</th>\n",
       "      <td>21833</td>\n",
       "      <td>0.17</td>\n",
       "      <td>31104</td>\n",
       "      <td>0.24</td>\n",
       "    </tr>\n",
       "    <tr>\n",
       "      <th>None/Home</th>\n",
       "      <td>361736</td>\n",
       "      <td>2.76</td>\n",
       "      <td>328871</td>\n",
       "      <td>2.51</td>\n",
       "    </tr>\n",
       "    <tr>\n",
       "      <th>Personal Business</th>\n",
       "      <td>122301</td>\n",
       "      <td>0.93</td>\n",
       "      <td>45008</td>\n",
       "      <td>0.34</td>\n",
       "    </tr>\n",
       "    <tr>\n",
       "      <th>School</th>\n",
       "      <td>4109</td>\n",
       "      <td>0.03</td>\n",
       "      <td>421</td>\n",
       "      <td>0.00</td>\n",
       "    </tr>\n",
       "    <tr>\n",
       "      <th>Shop</th>\n",
       "      <td>139678</td>\n",
       "      <td>1.07</td>\n",
       "      <td>215302</td>\n",
       "      <td>1.64</td>\n",
       "    </tr>\n",
       "    <tr>\n",
       "      <th>Social</th>\n",
       "      <td>82086</td>\n",
       "      <td>0.63</td>\n",
       "      <td>140911</td>\n",
       "      <td>1.07</td>\n",
       "    </tr>\n",
       "    <tr>\n",
       "      <th>Work</th>\n",
       "      <td>12846</td>\n",
       "      <td>0.10</td>\n",
       "      <td>33978</td>\n",
       "      <td>0.26</td>\n",
       "    </tr>\n",
       "    <tr>\n",
       "      <th>Total</th>\n",
       "      <td>875532</td>\n",
       "      <td>6.68</td>\n",
       "      <td>943506</td>\n",
       "      <td>7.20</td>\n",
       "    </tr>\n",
       "  </tbody>\n",
       "</table>\n",
       "</div>"
      ],
      "text/plain": [
       "                              Total VMT (Model)  VMT per Person (Model)_model  \\\n",
       "dpurp                                                                           \n",
       "Change Mode Inserted Purpose                185                          0.00   \n",
       "Escort                                   130753                          1.00   \n",
       "Meal                                      21833                          0.17   \n",
       "None/Home                                361736                          2.76   \n",
       "Personal Business                        122301                          0.93   \n",
       "School                                     4109                          0.03   \n",
       "Shop                                     139678                          1.07   \n",
       "Social                                    82086                          0.63   \n",
       "Work                                      12846                          0.10   \n",
       "Total                                    875532                          6.68   \n",
       "\n",
       "                              travdist_wt_survey  \\\n",
       "dpurp                                              \n",
       "Change Mode Inserted Purpose               22100   \n",
       "Escort                                    125808   \n",
       "Meal                                       31104   \n",
       "None/Home                                 328871   \n",
       "Personal Business                          45008   \n",
       "School                                       421   \n",
       "Shop                                      215302   \n",
       "Social                                    140911   \n",
       "Work                                       33978   \n",
       "Total                                     943506   \n",
       "\n",
       "                              VMT per Person (Model)_survey  \n",
       "dpurp                                                        \n",
       "Change Mode Inserted Purpose                           0.17  \n",
       "Escort                                                 0.96  \n",
       "Meal                                                   0.24  \n",
       "None/Home                                              2.51  \n",
       "Personal Business                                      0.34  \n",
       "School                                                 0.00  \n",
       "Shop                                                   1.64  \n",
       "Social                                                 1.07  \n",
       "Work                                                   0.26  \n",
       "Total                                                  7.20  "
      ]
     },
     "execution_count": 20,
     "metadata": {},
     "output_type": "execute_result"
    }
   ],
   "source": [
    "df = pd.read_csv(os.path.join(relative_path,'agg','dash','vmt_wfh.csv'))\n",
    "df_survey = pd.read_csv(os.path.join(relative_path,'agg','dash','survey','vmt_wfh.csv'))\n",
    "\n",
    "pd.options.display.float_format = '{:,.2f}'.format\n",
    "_df = df[(df['mode'].isin(['SOV','HOV2','HOV3+']))&\n",
    "   (df['dorp']==1) &\n",
    "   (df['pptyp'].isin(['Full-Time Worker','Part-Time Worker']))].groupby('dpurp').sum()[['travdist_wt']]\n",
    "_df['VMT per Person (Model)'] = _df['travdist_wt']/total_wfh_workers\n",
    "\n",
    "_df_survey = df_survey[(df_survey['mode'].isin(['SOV','HOV2','HOV3+']))&\n",
    "   (df_survey['dorp']==1) &\n",
    "   (df_survey['pptyp'].isin(['Full-Time Worker','Part-Time Worker']))].groupby('dpurp').sum()[['travdist_wt']]\n",
    "_df_survey['VMT per Person (Model)'] = _df_survey['travdist_wt']/total_wfh_workers_survey\n",
    "\n",
    "_df = _df.merge(_df_survey, left_index=True, right_index=True, suffixes=['_model','_survey'])\n",
    "_df.loc['Total',:] = _df.sum()\n",
    "_df[['travdist_wt_model','travdist_wt_survey']] = _df[['travdist_wt_model','travdist_wt_survey']].astype('int')\n",
    "_df.rename(columns={'travdist_wt_model': 'Total VMT (Model)', 'travidst_wt_survey': 'Total VMT (Survey)'},\n",
    "                   inplace=True)\n",
    "_df"
   ]
  },
  {
   "cell_type": "markdown",
   "metadata": {},
   "source": [
    "Workers that do NOT Work from Home"
   ]
  },
  {
   "cell_type": "code",
   "execution_count": 21,
   "metadata": {},
   "outputs": [
    {
     "data": {
      "text/html": [
       "<div>\n",
       "<table border=\"1\" class=\"dataframe\">\n",
       "  <thead>\n",
       "    <tr style=\"text-align: right;\">\n",
       "      <th></th>\n",
       "      <th>Total VMT (Model)</th>\n",
       "      <th>VMT per Person (Model)_model</th>\n",
       "      <th>travdist_wt_survey</th>\n",
       "      <th>VMT per Person (Model)_survey</th>\n",
       "    </tr>\n",
       "    <tr>\n",
       "      <th>dpurp</th>\n",
       "      <th></th>\n",
       "      <th></th>\n",
       "      <th></th>\n",
       "      <th></th>\n",
       "    </tr>\n",
       "  </thead>\n",
       "  <tbody>\n",
       "    <tr>\n",
       "      <th>Change Mode Inserted Purpose</th>\n",
       "      <td>261082</td>\n",
       "      <td>0.14</td>\n",
       "      <td>82025</td>\n",
       "      <td>0.04</td>\n",
       "    </tr>\n",
       "    <tr>\n",
       "      <th>Escort</th>\n",
       "      <td>2687757</td>\n",
       "      <td>1.43</td>\n",
       "      <td>3229390</td>\n",
       "      <td>1.71</td>\n",
       "    </tr>\n",
       "    <tr>\n",
       "      <th>Meal</th>\n",
       "      <td>1257016</td>\n",
       "      <td>0.67</td>\n",
       "      <td>1920011</td>\n",
       "      <td>1.01</td>\n",
       "    </tr>\n",
       "    <tr>\n",
       "      <th>None/Home</th>\n",
       "      <td>15914303</td>\n",
       "      <td>8.47</td>\n",
       "      <td>17445260</td>\n",
       "      <td>9.22</td>\n",
       "    </tr>\n",
       "    <tr>\n",
       "      <th>Personal Business</th>\n",
       "      <td>1988388</td>\n",
       "      <td>1.06</td>\n",
       "      <td>3088130</td>\n",
       "      <td>1.63</td>\n",
       "    </tr>\n",
       "    <tr>\n",
       "      <th>School</th>\n",
       "      <td>185567</td>\n",
       "      <td>0.10</td>\n",
       "      <td>72220</td>\n",
       "      <td>0.04</td>\n",
       "    </tr>\n",
       "    <tr>\n",
       "      <th>Shop</th>\n",
       "      <td>2290814</td>\n",
       "      <td>1.22</td>\n",
       "      <td>3888156</td>\n",
       "      <td>2.05</td>\n",
       "    </tr>\n",
       "    <tr>\n",
       "      <th>Social</th>\n",
       "      <td>2364762</td>\n",
       "      <td>1.26</td>\n",
       "      <td>3188491</td>\n",
       "      <td>1.68</td>\n",
       "    </tr>\n",
       "    <tr>\n",
       "      <th>Work</th>\n",
       "      <td>16456450</td>\n",
       "      <td>8.76</td>\n",
       "      <td>20806319</td>\n",
       "      <td>10.99</td>\n",
       "    </tr>\n",
       "    <tr>\n",
       "      <th>Total</th>\n",
       "      <td>43406142</td>\n",
       "      <td>23.10</td>\n",
       "      <td>53720007</td>\n",
       "      <td>28.38</td>\n",
       "    </tr>\n",
       "  </tbody>\n",
       "</table>\n",
       "</div>"
      ],
      "text/plain": [
       "                              Total VMT (Model)  VMT per Person (Model)_model  \\\n",
       "dpurp                                                                           \n",
       "Change Mode Inserted Purpose             261082                          0.14   \n",
       "Escort                                  2687757                          1.43   \n",
       "Meal                                    1257016                          0.67   \n",
       "None/Home                              15914303                          8.47   \n",
       "Personal Business                       1988388                          1.06   \n",
       "School                                   185567                          0.10   \n",
       "Shop                                    2290814                          1.22   \n",
       "Social                                  2364762                          1.26   \n",
       "Work                                   16456450                          8.76   \n",
       "Total                                  43406142                         23.10   \n",
       "\n",
       "                              travdist_wt_survey  \\\n",
       "dpurp                                              \n",
       "Change Mode Inserted Purpose               82025   \n",
       "Escort                                   3229390   \n",
       "Meal                                     1920011   \n",
       "None/Home                               17445260   \n",
       "Personal Business                        3088130   \n",
       "School                                     72220   \n",
       "Shop                                     3888156   \n",
       "Social                                   3188491   \n",
       "Work                                    20806319   \n",
       "Total                                   53720007   \n",
       "\n",
       "                              VMT per Person (Model)_survey  \n",
       "dpurp                                                        \n",
       "Change Mode Inserted Purpose                           0.04  \n",
       "Escort                                                 1.71  \n",
       "Meal                                                   1.01  \n",
       "None/Home                                              9.22  \n",
       "Personal Business                                      1.63  \n",
       "School                                                 0.04  \n",
       "Shop                                                   2.05  \n",
       "Social                                                 1.68  \n",
       "Work                                                  10.99  \n",
       "Total                                                 28.38  "
      ]
     },
     "execution_count": 21,
     "metadata": {},
     "output_type": "execute_result"
    }
   ],
   "source": [
    "df = pd.read_csv(os.path.join(relative_path,'agg','dash','vmt_nonwfh.csv'))\n",
    "df_survey = pd.read_csv(os.path.join(relative_path,'agg','dash','survey','vmt_nonwfh.csv'))\n",
    "\n",
    "pd.options.display.float_format = '{:,.2f}'.format\n",
    "_df = df[(df['mode'].isin(['SOV','HOV2','HOV3+']))&\n",
    "   (df['dorp']==1) &\n",
    "   (df['pptyp'].isin(['Full-Time Worker','Part-Time Worker']))].groupby('dpurp').sum()[['travdist_wt']]\n",
    "_df['VMT per Person (Model)'] = _df['travdist_wt']/total_nonwfh_workers\n",
    "\n",
    "_df_survey = df_survey[(df_survey['mode'].isin(['SOV','HOV2','HOV3+']))&\n",
    "   (df_survey['dorp']==1) &\n",
    "   (df_survey['pptyp'].isin(['Full-Time Worker','Part-Time Worker']))].groupby('dpurp').sum()[['travdist_wt']]\n",
    "_df_survey['VMT per Person (Model)'] = _df_survey['travdist_wt']/total_nonwfh_workers_survey\n",
    "\n",
    "_df = _df.merge(_df_survey, left_index=True, right_index=True, suffixes=['_model','_survey'])\n",
    "_df.loc['Total',:] = _df.sum()\n",
    "_df[['travdist_wt_model','travdist_wt_survey']] = _df[['travdist_wt_model','travdist_wt_survey']].astype('int')\n",
    "_df.rename(columns={'travdist_wt_model': 'Total VMT (Model)', 'travidst_wt_survey': 'Total VMT (Survey)'},\n",
    "                   inplace=True)\n",
    "_df"
   ]
  },
  {
   "cell_type": "markdown",
   "metadata": {},
   "source": [
    "# Commute Tour Distance by Mode\n",
    "All Workers"
   ]
  },
  {
   "cell_type": "code",
   "execution_count": 22,
   "metadata": {},
   "outputs": [
    {
     "data": {
      "image/png": "[encoded data removed]",
      "text/plain": [
       "<matplotlib.figure.Figure at 0xbffb128>"
      ]
     },
     "metadata": {},
     "output_type": "display_data"
    },
    {
     "data": {
      "image/png": "[encoded data removed]",
      "text/plain": [
       "<matplotlib.figure.Figure at 0xc2ed048>"
      ]
     },
     "metadata": {},
     "output_type": "display_data"
    },
    {
     "data": {
      "image/png": "[encoded data removed]",
      "text/plain": [
       "<matplotlib.figure.Figure at 0xc093d68>"
      ]
     },
     "metadata": {},
     "output_type": "display_data"
    },
    {
     "data": {
      "image/png": "[encoded data removed]",
      "text/plain": [
       "<matplotlib.figure.Figure at 0xc5245c0>"
      ]
     },
     "metadata": {},
     "output_type": "display_data"
    },
    {
     "data": {
      "image/png": "[encoded data removed]",
      "text/plain": [
       "<matplotlib.figure.Figure at 0xc4fabe0>"
      ]
     },
     "metadata": {},
     "output_type": "display_data"
    },
    {
     "data": {
      "image/png": "[encoded data removed]",
      "text/plain": [
       "<matplotlib.figure.Figure at 0xc50bac8>"
      ]
     },
     "metadata": {},
     "output_type": "display_data"
    },
    {
     "data": {
      "image/png": "[encoded data removed]",
      "text/plain": [
       "<matplotlib.figure.Figure at 0xd487b38>"
      ]
     },
     "metadata": {},
     "output_type": "display_data"
    },
    {
     "data": {
      "image/png": "[encoded data removed]",
      "text/plain": [
       "<matplotlib.figure.Figure at 0xd614198>"
      ]
     },
     "metadata": {},
     "output_type": "display_data"
    }
   ],
   "source": [
    "df = pd.read_csv(os.path.join(relative_path,'agg','dash','tour_distance.csv'))\n",
    "df_survey = pd.read_csv(os.path.join(relative_path,'agg','dash','survey','tour_distance.csv'))\n",
    "df = df[df['pdpurp'] == 'Work']\n",
    "df = df[df['tmodetp'] != \"-1\"]\n",
    "\n",
    "for mode in df['tmodetp'].unique():\n",
    "    _df = df[df['tmodetp'] == mode]\n",
    "    \n",
    "    _df = _df.groupby('tautodist_bin').sum()[['toexpfac']].reset_index()\n",
    "\n",
    "    _df['percent'] = _df['toexpfac']/_df['toexpfac'].sum()\n",
    "    _df['cumulative_percent'] = _df['percent'].cumsum()\n",
    "\n",
    "    # remove records that are outside 99% of records\n",
    "    _df = _df[_df['cumulative_percent'] <= 0.99]\n",
    "    \n",
    "    _df_survey = df_survey[df_survey['tmodetp'] == mode]\n",
    "    _df_survey = _df_survey.groupby('tautodist_bin').sum()[['toexpfac']].reset_index()\n",
    "\n",
    "    _df_survey['percent'] = _df_survey['toexpfac']/_df_survey['toexpfac'].sum()\n",
    "    _df_survey['cumulative_percent'] = _df_survey['percent'].cumsum()\n",
    "\n",
    "    # remove records that are outside 99% of records\n",
    "    _df_survey = _df_survey[_df_survey['cumulative_percent'] <= 0.99]\n",
    "    \n",
    "    _df_merged = _df.merge(_df_survey, on='tautodist_bin', suffixes=['_model','_survey'])\n",
    "    _df_merged[['percent_model','percent_survey']].plot(alpha=0.6, title=mode)\n",
    "    "
   ]
  },
  {
   "cell_type": "code",
   "execution_count": 23,
   "metadata": {},
   "outputs": [],
   "source": []
  }
 ],
 "metadata": {
  "kernelspec": {
   "display_name": "Python 2",
   "language": "python",
   "name": "python2"
  },
  "language_info": {
   "codemirror_mode": {
    "name": "ipython",
    "version": 2
   },
   "file_extension": ".py",
   "mimetype": "text/x-python",
   "name": "python",
   "nbconvert_exporter": "python",
   "pygments_lexer": "ipython2",
   "version": "2.7.14"
  }
 },
 "nbformat": 4,
 "nbformat_minor": 2
}
