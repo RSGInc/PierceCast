{
 "cells": [
  {
   "cell_type": "code",
   "execution_count": 1,
   "metadata": {},
   "outputs": [],
   "source": [
    "import os, sys, time\n",
    "from scipy import stats\n",
    "import warnings\n",
    "warnings.simplefilter(action='ignore', category=FutureWarning)\n",
    "import pandas as pd\n",
    "import numpy as np\n",
    "import matplotlib.pyplot as plt\n",
    "%matplotlib inline\n",
    "\n",
    "from IPython.display import display, HTML\n",
    "\n",
    "if (sys.version_info < (3, 0)):\n",
    "    HTML('''<script>\n",
    "    code_show=true; \n",
    "    function code_toggle() {\n",
    "     if (code_show){\n",
    "     $('div.input').hide();\n",
    "     } else {\n",
    "     $('div.input').show();\n",
    "     }\n",
    "     code_show = !code_show\n",
    "    } \n",
    "    $( document ).ready(code_toggle);\n",
    "    </script>\n",
    "    <form action=\"javascript:code_toggle()\"><input type=\"submit\" value=\"Click here to toggle on/off the raw code.\"></form>''')\n"
   ]
  },
  {
   "cell_type": "code",
   "execution_count": 2,
   "metadata": {},
   "outputs": [
    {
     "name": "stdout",
     "output_type": "stream",
     "text": [
      "Summary run: Fri, 09 Apr 2021 10:31\n"
     ]
    }
   ],
   "source": [
    "# Create timestamp to show when this summary was run\n",
    "print('Summary run: ' + time.strftime(\"%a, %d %b %Y %H:%M\"))"
   ]
  },
  {
   "cell_type": "code",
   "execution_count": 3,
   "metadata": {},
   "outputs": [],
   "source": [
    "base_path = os.getcwd().split('\\\\scripts')[0]\n",
    "relative_path = '../../../outputs'\n",
    "pd.options.display.float_format = '{:,.3f}'.format\n",
    "format_percent = \"{:,.2%}\".format"
   ]
  },
  {
   "cell_type": "markdown",
   "metadata": {},
   "source": [
    "# Workers by County"
   ]
  },
  {
   "cell_type": "code",
   "execution_count": 4,
   "metadata": {},
   "outputs": [
    {
     "data": {
      "text/html": [
       "<div>\n",
       "<style scoped>\n",
       "    .dataframe tbody tr th:only-of-type {\n",
       "        vertical-align: middle;\n",
       "    }\n",
       "\n",
       "    .dataframe tbody tr th {\n",
       "        vertical-align: top;\n",
       "    }\n",
       "\n",
       "    .dataframe thead th {\n",
       "        text-align: right;\n",
       "    }\n",
       "</style>\n",
       "<table border=\"1\" class=\"dataframe\">\n",
       "  <thead>\n",
       "    <tr style=\"text-align: right;\">\n",
       "      <th></th>\n",
       "      <th>WFH Workers</th>\n",
       "      <th>Total Workers</th>\n",
       "      <th>% WFH Workers</th>\n",
       "    </tr>\n",
       "    <tr>\n",
       "      <th>person_county</th>\n",
       "      <th></th>\n",
       "      <th></th>\n",
       "      <th></th>\n",
       "    </tr>\n",
       "  </thead>\n",
       "  <tbody>\n",
       "    <tr>\n",
       "      <th>King</th>\n",
       "      <td>61,663.000</td>\n",
       "      <td>757,936.000</td>\n",
       "      <td>0.081</td>\n",
       "    </tr>\n",
       "    <tr>\n",
       "      <th>Kitsap</th>\n",
       "      <td>11,213.000</td>\n",
       "      <td>185,105.000</td>\n",
       "      <td>0.061</td>\n",
       "    </tr>\n",
       "    <tr>\n",
       "      <th>Pierce</th>\n",
       "      <td>30,720.000</td>\n",
       "      <td>466,723.000</td>\n",
       "      <td>0.066</td>\n",
       "    </tr>\n",
       "    <tr>\n",
       "      <th>Snohomish</th>\n",
       "      <td>27,545.000</td>\n",
       "      <td>469,048.000</td>\n",
       "      <td>0.059</td>\n",
       "    </tr>\n",
       "    <tr>\n",
       "      <th>Region</th>\n",
       "      <td>131,141.000</td>\n",
       "      <td>1,878,812.000</td>\n",
       "      <td>0.070</td>\n",
       "    </tr>\n",
       "  </tbody>\n",
       "</table>\n",
       "</div>"
      ],
      "text/plain": [
       "               WFH Workers  Total Workers  % WFH Workers\n",
       "person_county                                           \n",
       "King            61,663.000    757,936.000          0.081\n",
       "Kitsap          11,213.000    185,105.000          0.061\n",
       "Pierce          30,720.000    466,723.000          0.066\n",
       "Snohomish       27,545.000    469,048.000          0.059\n",
       "Region         131,141.000  1,878,812.000          0.070"
      ]
     },
     "execution_count": 4,
     "metadata": {},
     "output_type": "execute_result"
    }
   ],
   "source": [
    "df_wfh = pd.read_csv(os.path.join(relative_path,'agg','dash','wfh_county.csv'))\n",
    "df_wfh_survey = pd.read_csv(os.path.join(relative_path,'agg','dash','survey','wfh_county.csv'))\n",
    "\n",
    "# Total Workers by County\n",
    "df_tot = pd.read_csv(os.path.join(relative_path,'agg','dash','pptyp_county.csv'))\n",
    "df_tot = df_tot[df_tot['pptyp'].isin(['Full-Time Worker', 'Part-Time Worker'])]\n",
    "df_tot = df_tot.groupby('person_county').sum()[['psexpfac']].reset_index()\n",
    "total_nonwfh_workers = df_tot.sum()['psexpfac']\n",
    "\n",
    "df_tot_survey = pd.read_csv(os.path.join(relative_path,'agg','dash','survey','pptyp_county.csv'))\n",
    "df_tot_survey = df_tot_survey[df_tot_survey['pptyp'].isin(['Full-Time Worker', 'Part-Time Worker'])]\n",
    "df_tot_survey = df_tot_survey.groupby('person_county').sum()[['psexpfac']].reset_index()\n",
    "total_nonwfh_workers_survey = df_tot_survey.sum()['psexpfac']\n",
    "\n",
    "df = df_wfh.merge(df_tot, on='person_county')\n",
    "df.index = df['person_county']\n",
    "df.drop('person_county', axis=1,inplace=True)\n",
    "df.columns = ['WFH Workers', 'Total Workers']\n",
    "df.loc['Region'] = df.sum(axis=0)\n",
    "df['% WFH Workers'] = df['WFH Workers']/df['Total Workers']\n",
    "df"
   ]
  },
  {
   "cell_type": "code",
   "execution_count": 5,
   "metadata": {},
   "outputs": [
    {
     "data": {
      "text/plain": [
       "1878812.0"
      ]
     },
     "execution_count": 5,
     "metadata": {},
     "output_type": "execute_result"
    }
   ],
   "source": [
    "df_tot.sum()['psexpfac']"
   ]
  },
  {
   "cell_type": "markdown",
   "metadata": {},
   "source": [
    "# Tour Rate for Work-at-Home Workers"
   ]
  },
  {
   "cell_type": "code",
   "execution_count": 6,
   "metadata": {},
   "outputs": [
    {
     "data": {
      "text/html": [
       "<div>\n",
       "<style scoped>\n",
       "    .dataframe tbody tr th:only-of-type {\n",
       "        vertical-align: middle;\n",
       "    }\n",
       "\n",
       "    .dataframe tbody tr th {\n",
       "        vertical-align: top;\n",
       "    }\n",
       "\n",
       "    .dataframe thead th {\n",
       "        text-align: right;\n",
       "    }\n",
       "</style>\n",
       "<table border=\"1\" class=\"dataframe\">\n",
       "  <thead>\n",
       "    <tr style=\"text-align: right;\">\n",
       "      <th></th>\n",
       "      <th>pdpurp</th>\n",
       "      <th>tours_model</th>\n",
       "      <th>tours_survey</th>\n",
       "      <th>tour_rate_model</th>\n",
       "      <th>tour_rate_survey</th>\n",
       "    </tr>\n",
       "  </thead>\n",
       "  <tbody>\n",
       "    <tr>\n",
       "      <th>0</th>\n",
       "      <td>Escort</td>\n",
       "      <td>47,323.000</td>\n",
       "      <td>23855</td>\n",
       "      <td>0.361</td>\n",
       "      <td>0.182</td>\n",
       "    </tr>\n",
       "    <tr>\n",
       "      <th>1</th>\n",
       "      <td>Meal</td>\n",
       "      <td>6,494.000</td>\n",
       "      <td>13883</td>\n",
       "      <td>0.050</td>\n",
       "      <td>0.106</td>\n",
       "    </tr>\n",
       "    <tr>\n",
       "      <th>2</th>\n",
       "      <td>Personal Business</td>\n",
       "      <td>32,536.000</td>\n",
       "      <td>37346</td>\n",
       "      <td>0.248</td>\n",
       "      <td>0.285</td>\n",
       "    </tr>\n",
       "    <tr>\n",
       "      <th>3</th>\n",
       "      <td>School</td>\n",
       "      <td>3,681.000</td>\n",
       "      <td>687</td>\n",
       "      <td>0.028</td>\n",
       "      <td>0.005</td>\n",
       "    </tr>\n",
       "    <tr>\n",
       "      <th>4</th>\n",
       "      <td>Shop</td>\n",
       "      <td>40,290.000</td>\n",
       "      <td>51688</td>\n",
       "      <td>0.307</td>\n",
       "      <td>0.394</td>\n",
       "    </tr>\n",
       "    <tr>\n",
       "      <th>5</th>\n",
       "      <td>Social</td>\n",
       "      <td>40,089.000</td>\n",
       "      <td>76994</td>\n",
       "      <td>0.306</td>\n",
       "      <td>0.587</td>\n",
       "    </tr>\n",
       "    <tr>\n",
       "      <th>6</th>\n",
       "      <td>Work</td>\n",
       "      <td>19,058.000</td>\n",
       "      <td>25335</td>\n",
       "      <td>0.145</td>\n",
       "      <td>0.193</td>\n",
       "    </tr>\n",
       "  </tbody>\n",
       "</table>\n",
       "</div>"
      ],
      "text/plain": [
       "              pdpurp  tours_model  tours_survey  tour_rate_model  \\\n",
       "0             Escort   47,323.000         23855            0.361   \n",
       "1               Meal    6,494.000         13883            0.050   \n",
       "2  Personal Business   32,536.000         37346            0.248   \n",
       "3             School    3,681.000           687            0.028   \n",
       "4               Shop   40,290.000         51688            0.307   \n",
       "5             Social   40,089.000         76994            0.306   \n",
       "6               Work   19,058.000         25335            0.145   \n",
       "\n",
       "   tour_rate_survey  \n",
       "0             0.182  \n",
       "1             0.106  \n",
       "2             0.285  \n",
       "3             0.005  \n",
       "4             0.394  \n",
       "5             0.587  \n",
       "6             0.193  "
      ]
     },
     "execution_count": 6,
     "metadata": {},
     "output_type": "execute_result"
    }
   ],
   "source": [
    "df_tours = pd.read_csv(os.path.join(relative_path,'agg','dash','work_from_home_tours.csv'))\n",
    "total_wfh_workers = df_wfh.psexpfac.sum()\n",
    "df = df_tours.groupby('pdpurp').sum()[['toexpfac']].reset_index()\n",
    "df['tour_rate'] = df['toexpfac']/total_wfh_workers\n",
    "df\n",
    "\n",
    "df_tours_survey = pd.read_csv(os.path.join(relative_path,'agg','dash','survey','work_from_home_tours.csv'))\n",
    "total_wfh_workers_survey = df_wfh.psexpfac.sum()\n",
    "df_survey = df_tours_survey.groupby('pdpurp').sum()[['toexpfac']].reset_index()\n",
    "df_survey['tour_rate'] = df_survey['toexpfac']/total_wfh_workers_survey\n",
    "df = df.merge(df_survey,on='pdpurp',suffixes=['_model','_survey'])\n",
    "df.rename(columns={'toexpfac_model': 'tours_model', 'toexpfac_survey': 'tours_survey'}, inplace=True)\n",
    "df['tours_survey'] = df['tours_survey'].astype('int')\n",
    "df[['pdpurp','tours_model','tours_survey','tour_rate_model','tour_rate_survey']]"
   ]
  },
  {
   "cell_type": "markdown",
   "metadata": {},
   "source": [
    "### Tour Rates for Workers that do NOT WF"
   ]
  },
  {
   "cell_type": "code",
   "execution_count": 7,
   "metadata": {},
   "outputs": [
    {
     "data": {
      "text/html": [
       "<div>\n",
       "<style scoped>\n",
       "    .dataframe tbody tr th:only-of-type {\n",
       "        vertical-align: middle;\n",
       "    }\n",
       "\n",
       "    .dataframe tbody tr th {\n",
       "        vertical-align: top;\n",
       "    }\n",
       "\n",
       "    .dataframe thead th {\n",
       "        text-align: right;\n",
       "    }\n",
       "</style>\n",
       "<table border=\"1\" class=\"dataframe\">\n",
       "  <thead>\n",
       "    <tr style=\"text-align: right;\">\n",
       "      <th></th>\n",
       "      <th>pdpurp</th>\n",
       "      <th>total_tours_model</th>\n",
       "      <th>total_tours_survey</th>\n",
       "      <th>tour_rate_model</th>\n",
       "      <th>tour_rate_survey</th>\n",
       "    </tr>\n",
       "  </thead>\n",
       "  <tbody>\n",
       "    <tr>\n",
       "      <th>0</th>\n",
       "      <td>Escort</td>\n",
       "      <td>210,709.000</td>\n",
       "      <td>174,142.860</td>\n",
       "      <td>0.112</td>\n",
       "      <td>0.093</td>\n",
       "    </tr>\n",
       "    <tr>\n",
       "      <th>1</th>\n",
       "      <td>Meal</td>\n",
       "      <td>343,054.000</td>\n",
       "      <td>239,951.960</td>\n",
       "      <td>0.183</td>\n",
       "      <td>0.129</td>\n",
       "    </tr>\n",
       "    <tr>\n",
       "      <th>2</th>\n",
       "      <td>Personal Business</td>\n",
       "      <td>176,329.000</td>\n",
       "      <td>269,848.570</td>\n",
       "      <td>0.094</td>\n",
       "      <td>0.145</td>\n",
       "    </tr>\n",
       "    <tr>\n",
       "      <th>3</th>\n",
       "      <td>School</td>\n",
       "      <td>26,633.000</td>\n",
       "      <td>15,975.350</td>\n",
       "      <td>0.014</td>\n",
       "      <td>0.009</td>\n",
       "    </tr>\n",
       "    <tr>\n",
       "      <th>4</th>\n",
       "      <td>Shop</td>\n",
       "      <td>236,746.000</td>\n",
       "      <td>249,110.000</td>\n",
       "      <td>0.126</td>\n",
       "      <td>0.134</td>\n",
       "    </tr>\n",
       "    <tr>\n",
       "      <th>5</th>\n",
       "      <td>Social</td>\n",
       "      <td>478,233.000</td>\n",
       "      <td>454,542.440</td>\n",
       "      <td>0.255</td>\n",
       "      <td>0.244</td>\n",
       "    </tr>\n",
       "    <tr>\n",
       "      <th>6</th>\n",
       "      <td>Work</td>\n",
       "      <td>1,632,513.000</td>\n",
       "      <td>1,903,085.920</td>\n",
       "      <td>0.869</td>\n",
       "      <td>1.020</td>\n",
       "    </tr>\n",
       "  </tbody>\n",
       "</table>\n",
       "</div>"
      ],
      "text/plain": [
       "              pdpurp  total_tours_model  total_tours_survey  tour_rate_model  \\\n",
       "0             Escort        210,709.000         174,142.860            0.112   \n",
       "1               Meal        343,054.000         239,951.960            0.183   \n",
       "2  Personal Business        176,329.000         269,848.570            0.094   \n",
       "3             School         26,633.000          15,975.350            0.014   \n",
       "4               Shop        236,746.000         249,110.000            0.126   \n",
       "5             Social        478,233.000         454,542.440            0.255   \n",
       "6               Work      1,632,513.000       1,903,085.920            0.869   \n",
       "\n",
       "   tour_rate_survey  \n",
       "0             0.093  \n",
       "1             0.129  \n",
       "2             0.145  \n",
       "3             0.009  \n",
       "4             0.134  \n",
       "5             0.244  \n",
       "6             1.020  "
      ]
     },
     "execution_count": 7,
     "metadata": {},
     "output_type": "execute_result"
    }
   ],
   "source": [
    "# Tour Rates by purpose by worker type\n",
    "df = pd.read_csv(os.path.join(relative_path,'agg','dash','non_wfh_tours.csv'))\n",
    "df = df[df['pptyp'].isin(['Full-Time Worker', 'Part-Time Worker'])]\n",
    "df = df.groupby('pdpurp').sum().reset_index()\n",
    "df['tour_rate'] = df['toexpfac']/df_tot.sum()[['psexpfac']].values[0]\n",
    "\n",
    "df_survey = pd.read_csv(os.path.join(relative_path,'agg','dash','survey','non_wfh_tours.csv'))\n",
    "df_survey = df_survey[df_survey['pptyp'].isin(['Full-Time Worker', 'Part-Time Worker'])]\n",
    "df_survey = df_survey.groupby('pdpurp').sum().reset_index()\n",
    "df_survey['tour_rate'] = df_survey['toexpfac']/df_tot_survey.sum()[['psexpfac']].values[0]\n",
    "\n",
    "df = df.merge(df_survey, on='pdpurp', suffixes=['_model','_survey'])\n",
    "df.rename(columns={'toexpfac_model':'total_tours_model','toexpfac_survey':'total_tours_survey'},\n",
    "         inplace=True)\n",
    "df[['pdpurp','total_tours_model','total_tours_survey','tour_rate_model','tour_rate_survey']]"
   ]
  },
  {
   "cell_type": "code",
   "execution_count": 8,
   "metadata": {},
   "outputs": [
    {
     "data": {
      "text/plain": [
       "1878812.0"
      ]
     },
     "execution_count": 8,
     "metadata": {},
     "output_type": "execute_result"
    }
   ],
   "source": [
    "total_nonwfh_workers"
   ]
  },
  {
   "cell_type": "markdown",
   "metadata": {},
   "source": [
    "### Tour Rates for Non-Workers"
   ]
  },
  {
   "cell_type": "code",
   "execution_count": 9,
   "metadata": {},
   "outputs": [
    {
     "data": {
      "text/html": [
       "<div>\n",
       "<style scoped>\n",
       "    .dataframe tbody tr th:only-of-type {\n",
       "        vertical-align: middle;\n",
       "    }\n",
       "\n",
       "    .dataframe tbody tr th {\n",
       "        vertical-align: top;\n",
       "    }\n",
       "\n",
       "    .dataframe thead th {\n",
       "        text-align: right;\n",
       "    }\n",
       "</style>\n",
       "<table border=\"1\" class=\"dataframe\">\n",
       "  <thead>\n",
       "    <tr style=\"text-align: right;\">\n",
       "      <th></th>\n",
       "      <th>pdpurp</th>\n",
       "      <th>total_tours_model</th>\n",
       "      <th>total_tours_survey</th>\n",
       "      <th>tour_rate_model</th>\n",
       "      <th>tour_rate_survey</th>\n",
       "    </tr>\n",
       "  </thead>\n",
       "  <tbody>\n",
       "    <tr>\n",
       "      <th>0</th>\n",
       "      <td>Escort</td>\n",
       "      <td>491,798.000</td>\n",
       "      <td>430,403.590</td>\n",
       "      <td>0.264</td>\n",
       "      <td>0.231</td>\n",
       "    </tr>\n",
       "    <tr>\n",
       "      <th>1</th>\n",
       "      <td>Meal</td>\n",
       "      <td>126,995.000</td>\n",
       "      <td>166,557.020</td>\n",
       "      <td>0.068</td>\n",
       "      <td>0.089</td>\n",
       "    </tr>\n",
       "    <tr>\n",
       "      <th>2</th>\n",
       "      <td>Personal Business</td>\n",
       "      <td>528,945.000</td>\n",
       "      <td>605,619.500</td>\n",
       "      <td>0.284</td>\n",
       "      <td>0.325</td>\n",
       "    </tr>\n",
       "    <tr>\n",
       "      <th>3</th>\n",
       "      <td>School</td>\n",
       "      <td>661,027.000</td>\n",
       "      <td>702,028.230</td>\n",
       "      <td>0.354</td>\n",
       "      <td>0.376</td>\n",
       "    </tr>\n",
       "    <tr>\n",
       "      <th>4</th>\n",
       "      <td>Shop</td>\n",
       "      <td>505,963.000</td>\n",
       "      <td>492,264.740</td>\n",
       "      <td>0.271</td>\n",
       "      <td>0.264</td>\n",
       "    </tr>\n",
       "    <tr>\n",
       "      <th>5</th>\n",
       "      <td>Social</td>\n",
       "      <td>737,458.000</td>\n",
       "      <td>742,332.310</td>\n",
       "      <td>0.395</td>\n",
       "      <td>0.398</td>\n",
       "    </tr>\n",
       "    <tr>\n",
       "      <th>6</th>\n",
       "      <td>Work</td>\n",
       "      <td>81,170.000</td>\n",
       "      <td>131,466.770</td>\n",
       "      <td>0.044</td>\n",
       "      <td>0.070</td>\n",
       "    </tr>\n",
       "  </tbody>\n",
       "</table>\n",
       "</div>"
      ],
      "text/plain": [
       "              pdpurp  total_tours_model  total_tours_survey  tour_rate_model  \\\n",
       "0             Escort        491,798.000         430,403.590            0.264   \n",
       "1               Meal        126,995.000         166,557.020            0.068   \n",
       "2  Personal Business        528,945.000         605,619.500            0.284   \n",
       "3             School        661,027.000         702,028.230            0.354   \n",
       "4               Shop        505,963.000         492,264.740            0.271   \n",
       "5             Social        737,458.000         742,332.310            0.395   \n",
       "6               Work         81,170.000         131,466.770            0.044   \n",
       "\n",
       "   tour_rate_survey  \n",
       "0             0.231  \n",
       "1             0.089  \n",
       "2             0.325  \n",
       "3             0.376  \n",
       "4             0.264  \n",
       "5             0.398  \n",
       "6             0.070  "
      ]
     },
     "execution_count": 9,
     "metadata": {},
     "output_type": "execute_result"
    }
   ],
   "source": [
    "df = pd.read_csv(os.path.join(relative_path,'agg','dash','non_wfh_tours.csv'))\n",
    "df = df[-df['pptyp'].isin(['Full-Time Worker', 'Part-Time Worker'])]\n",
    "df = df.groupby('pdpurp').sum().reset_index()\n",
    "df['tour_rate'] = df['toexpfac']/df_tot_survey.sum()[['psexpfac']].values[0]\n",
    "\n",
    "\n",
    "df_survey = pd.read_csv(os.path.join(relative_path,'agg','dash','survey','non_wfh_tours.csv'))\n",
    "df_survey = df_survey[-df_survey['pptyp'].isin(['Full-Time Worker', 'Part-Time Worker'])]\n",
    "df_survey = df_survey.groupby('pdpurp').sum().reset_index()\n",
    "df_survey['tour_rate'] = df_survey['toexpfac']/df_tot_survey.sum()[['psexpfac']].values[0]\n",
    "\n",
    "df = df.merge(df_survey, on='pdpurp', suffixes=['_model','_survey'])\n",
    "df.rename(columns={'toexpfac_model':'total_tours_model','toexpfac_survey':'total_tours_survey'},\n",
    "         inplace=True)\n",
    "df[['pdpurp','total_tours_model','total_tours_survey','tour_rate_model','tour_rate_survey']]"
   ]
  },
  {
   "cell_type": "markdown",
   "metadata": {},
   "source": [
    "# Commute Tour Distance\n",
    "All Workers"
   ]
  },
  {
   "cell_type": "code",
   "execution_count": 10,
   "metadata": {},
   "outputs": [],
   "source": [
    "df = pd.read_csv(os.path.join(relative_path,'agg','dash','tour_distance.csv'))\n",
    "df = df[df['pdpurp'] == 'Work']\n",
    "\n",
    "pd.options.display.float_format = '{:0,.4f}'.format\n",
    "_df = df.groupby('tautodist_bin').sum()[['toexpfac']].reset_index()\n",
    "\n",
    "_df['percent'] = _df['toexpfac']/_df['toexpfac'].sum()\n",
    "_df['cumulative_percent'] = _df['percent'].cumsum()\n",
    "\n",
    "# remove records that are outside 99% of records\n",
    "_df = _df[_df['cumulative_percent'] <= 0.99]"
   ]
  },
  {
   "cell_type": "code",
   "execution_count": 11,
   "metadata": {},
   "outputs": [],
   "source": [
    "df_survey = pd.read_csv(os.path.join(relative_path,'agg','dash','survey','tour_distance.csv'))\n",
    "df_survey = df_survey[df_survey['pdpurp'] == 'Work']\n",
    "\n",
    "_df_survey = df_survey.groupby('tautodist_bin').sum()[['toexpfac']].reset_index()\n",
    "\n",
    "_df_survey['percent'] = _df_survey['toexpfac']/_df_survey['toexpfac'].sum()\n",
    "_df_survey['cumulative_percent'] = _df_survey['percent'].cumsum()\n",
    "\n",
    "# remove records that are outside 99% of records\n",
    "_df_survey = _df_survey[_df_survey['cumulative_percent'] <= 0.99]"
   ]
  },
  {
   "cell_type": "markdown",
   "metadata": {},
   "source": [
    "Weighted Average Distance"
   ]
  },
  {
   "cell_type": "code",
   "execution_count": 12,
   "metadata": {},
   "outputs": [
    {
     "name": "stdout",
     "output_type": "stream",
     "text": [
      "10.15306173649124\n"
     ]
    }
   ],
   "source": [
    "if len(_df_survey) > 0:\n",
    "    _df_merged = _df.merge(_df_survey, on='tautodist_bin', suffixes=['_model','_survey'])\n",
    "    print('model: '+ str((_df_merged['toexpfac_model']*_df_merged['tautodist_bin']).sum()*1.0/_df_merged['toexpfac_model'].sum()))\n",
    "    print('survey: '+ str((_df_merged['toexpfac_survey']*_df_merged['tautodist_bin']).sum()*1.0/_df_merged['toexpfac_survey'].sum()))\n",
    "else:\n",
    "    print(str((_df['toexpfac']*_df['tautodist_bin']).sum()*1.0/_df['toexpfac'].sum()))\n"
   ]
  },
  {
   "cell_type": "code",
   "execution_count": 13,
   "metadata": {},
   "outputs": [],
   "source": [
    "# Work trip distance to not usual workplace for non-WFH workers\n"
   ]
  },
  {
   "cell_type": "code",
   "execution_count": 14,
   "metadata": {},
   "outputs": [
    {
     "data": {
      "image/png": "[encoded data removed]",
      "text/plain": [
       "<Figure size 432x288 with 1 Axes>"
      ]
     },
     "metadata": {
      "needs_background": "light"
     },
     "output_type": "display_data"
    }
   ],
   "source": [
    "if len(_df_survey) > 0:\n",
    "    _df_merged[['percent_model','percent_survey']].plot(alpha=0.6)\n",
    "else:\n",
    "    _df[['percent']].plot(alpha=0.6)"
   ]
  },
  {
   "cell_type": "markdown",
   "metadata": {},
   "source": [
    "# Average Trip Distance\n",
    "Workers that work DO NOT work from home"
   ]
  },
  {
   "cell_type": "code",
   "execution_count": 15,
   "metadata": {},
   "outputs": [
    {
     "name": "stdout",
     "output_type": "stream",
     "text": [
      "Avg. distance to Usual Workplace: 8.386589409100386\n",
      "Avg. distance to Other Workplace: 4.664319652850579\n",
      "----------------------------------------\n"
     ]
    },
    {
     "data": {
      "text/html": [
       "<div>\n",
       "<style scoped>\n",
       "    .dataframe tbody tr th:only-of-type {\n",
       "        vertical-align: middle;\n",
       "    }\n",
       "\n",
       "    .dataframe tbody tr th {\n",
       "        vertical-align: top;\n",
       "    }\n",
       "\n",
       "    .dataframe thead th {\n",
       "        text-align: right;\n",
       "    }\n",
       "</style>\n",
       "<table border=\"1\" class=\"dataframe\">\n",
       "  <thead>\n",
       "    <tr style=\"text-align: right;\">\n",
       "      <th></th>\n",
       "      <th>Purpose</th>\n",
       "      <th>Workers at Non-Home Location</th>\n",
       "    </tr>\n",
       "  </thead>\n",
       "  <tbody>\n",
       "    <tr>\n",
       "      <th>0</th>\n",
       "      <td>None/Home</td>\n",
       "      <td>5.3108</td>\n",
       "    </tr>\n",
       "    <tr>\n",
       "      <th>1</th>\n",
       "      <td>Work</td>\n",
       "      <td>7.6215</td>\n",
       "    </tr>\n",
       "    <tr>\n",
       "      <th>2</th>\n",
       "      <td>School</td>\n",
       "      <td>3.0791</td>\n",
       "    </tr>\n",
       "    <tr>\n",
       "      <th>3</th>\n",
       "      <td>Escort</td>\n",
       "      <td>5.2399</td>\n",
       "    </tr>\n",
       "    <tr>\n",
       "      <th>4</th>\n",
       "      <td>Personal Business</td>\n",
       "      <td>4.4097</td>\n",
       "    </tr>\n",
       "    <tr>\n",
       "      <th>5</th>\n",
       "      <td>Shop</td>\n",
       "      <td>3.6469</td>\n",
       "    </tr>\n",
       "    <tr>\n",
       "      <th>6</th>\n",
       "      <td>Meal</td>\n",
       "      <td>2.7441</td>\n",
       "    </tr>\n",
       "    <tr>\n",
       "      <th>7</th>\n",
       "      <td>Social</td>\n",
       "      <td>3.8445</td>\n",
       "    </tr>\n",
       "    <tr>\n",
       "      <th>8</th>\n",
       "      <td>Change Mode Inserted Purpose</td>\n",
       "      <td>7.9084</td>\n",
       "    </tr>\n",
       "  </tbody>\n",
       "</table>\n",
       "</div>"
      ],
      "text/plain": [
       "                        Purpose  Workers at Non-Home Location\n",
       "0                     None/Home                        5.3108\n",
       "1                          Work                        7.6215\n",
       "2                        School                        3.0791\n",
       "3                        Escort                        5.2399\n",
       "4             Personal Business                        4.4097\n",
       "5                          Shop                        3.6469\n",
       "6                          Meal                        2.7441\n",
       "7                        Social                        3.8445\n",
       "8  Change Mode Inserted Purpose                        7.9084"
      ]
     },
     "execution_count": 15,
     "metadata": {},
     "output_type": "execute_result"
    }
   ],
   "source": [
    "# Non WFH Workers\n",
    "df = pd.read_csv(os.path.join(relative_path,'agg','dash','trip_distance_non_wfh.csv'))\n",
    "df = df[df['pptyp'].isin(['Full-Time Worker','Part-Time Worker'])]\n",
    "df = df[(df['dpurp'] == 'Work') & (df['dadtyp'].isin(['Other','Usual Workplace']))]\n",
    "# df.groupby(['travdist_bin','']).sum()[['trexpfac']]\n",
    "df_usual = df[df['dadtyp'] == 'Usual Workplace']\n",
    "dist = (df_usual['trexpfac']*1.0*df_usual['travdist_bin']).sum()/df_usual['trexpfac'].sum()\n",
    "print('Avg. distance to Usual Workplace: ' + str(dist))\n",
    "df_other = df[df['dadtyp'] == 'Other']\n",
    "dist = (df_other['trexpfac']*1.0*df_other['travdist_bin']).sum()/df_other['trexpfac'].sum()\n",
    "print('Avg. distance to Other Workplace: ' + str(dist))\n",
    "print('----------------------------------------')\n",
    "# Non WFH Workers\n",
    "df = pd.read_csv(os.path.join(relative_path,'agg','dash','trip_distance_non_wfh.csv'))\n",
    "df['wt_sum'] = df['trexpfac']*1.0*df['travdist_bin']\n",
    "result = {}\n",
    "for purp in pd.unique(df['dpurp']):\n",
    "    _df = df[df['dpurp'] == purp]\n",
    "    result[purp] = _df['wt_sum'].sum()/_df['trexpfac'].sum()\n",
    "    \n",
    "_df_non_wfh = pd.DataFrame.from_dict(result, orient='index').reset_index()\n",
    "_df_non_wfh.columns = ['Purpose','Workers at Non-Home Location']\n",
    "_df_non_wfh"
   ]
  },
  {
   "cell_type": "markdown",
   "metadata": {},
   "source": [
    "Only workers that work **from home**"
   ]
  },
  {
   "cell_type": "code",
   "execution_count": 16,
   "metadata": {},
   "outputs": [
    {
     "name": "stdout",
     "output_type": "stream",
     "text": [
      "Avg. distance to Other Workplace: 4.27466013278533\n",
      "----------------------------------\n"
     ]
    },
    {
     "data": {
      "text/html": [
       "<div>\n",
       "<style scoped>\n",
       "    .dataframe tbody tr th:only-of-type {\n",
       "        vertical-align: middle;\n",
       "    }\n",
       "\n",
       "    .dataframe tbody tr th {\n",
       "        vertical-align: top;\n",
       "    }\n",
       "\n",
       "    .dataframe thead th {\n",
       "        text-align: right;\n",
       "    }\n",
       "</style>\n",
       "<table border=\"1\" class=\"dataframe\">\n",
       "  <thead>\n",
       "    <tr style=\"text-align: right;\">\n",
       "      <th></th>\n",
       "      <th>Purpose</th>\n",
       "      <th>WFH Workers</th>\n",
       "    </tr>\n",
       "  </thead>\n",
       "  <tbody>\n",
       "    <tr>\n",
       "      <th>0</th>\n",
       "      <td>None/Home</td>\n",
       "      <td>2.5301</td>\n",
       "    </tr>\n",
       "    <tr>\n",
       "      <th>1</th>\n",
       "      <td>Work</td>\n",
       "      <td>4.2724</td>\n",
       "    </tr>\n",
       "    <tr>\n",
       "      <th>2</th>\n",
       "      <td>School</td>\n",
       "      <td>4.6389</td>\n",
       "    </tr>\n",
       "    <tr>\n",
       "      <th>3</th>\n",
       "      <td>Escort</td>\n",
       "      <td>2.4480</td>\n",
       "    </tr>\n",
       "    <tr>\n",
       "      <th>4</th>\n",
       "      <td>Personal Business</td>\n",
       "      <td>1.9350</td>\n",
       "    </tr>\n",
       "    <tr>\n",
       "      <th>5</th>\n",
       "      <td>Shop</td>\n",
       "      <td>1.9392</td>\n",
       "    </tr>\n",
       "    <tr>\n",
       "      <th>6</th>\n",
       "      <td>Meal</td>\n",
       "      <td>1.7694</td>\n",
       "    </tr>\n",
       "    <tr>\n",
       "      <th>7</th>\n",
       "      <td>Social</td>\n",
       "      <td>1.9750</td>\n",
       "    </tr>\n",
       "    <tr>\n",
       "      <th>8</th>\n",
       "      <td>Change Mode Inserted Purpose</td>\n",
       "      <td>4.6828</td>\n",
       "    </tr>\n",
       "  </tbody>\n",
       "</table>\n",
       "</div>"
      ],
      "text/plain": [
       "                        Purpose  WFH Workers\n",
       "0                     None/Home       2.5301\n",
       "1                          Work       4.2724\n",
       "2                        School       4.6389\n",
       "3                        Escort       2.4480\n",
       "4             Personal Business       1.9350\n",
       "5                          Shop       1.9392\n",
       "6                          Meal       1.7694\n",
       "7                        Social       1.9750\n",
       "8  Change Mode Inserted Purpose       4.6828"
      ]
     },
     "execution_count": 16,
     "metadata": {},
     "output_type": "execute_result"
    }
   ],
   "source": [
    "# WFH Workers\n",
    "df = pd.read_csv(os.path.join(relative_path,'agg','dash','trip_distance_wfh.csv'))\n",
    "df = df[(df['dpurp'] == 'Work') & (df['dadtyp'].isin(['Other','Usual Workplace']))]\n",
    "\n",
    "df_other = df[df['dadtyp'] == 'Other']\n",
    "dist = (df_other['trexpfac']*1.0*df_other['travdist_bin']).sum()/df_other['trexpfac'].sum()\n",
    "print('Avg. distance to Other Workplace: ' + str(dist))\n",
    "print('----------------------------------')\n",
    "df = pd.read_csv(os.path.join(relative_path,'agg','dash','trip_distance_wfh.csv'))\n",
    "df['wt_sum'] = df['trexpfac']*1.0*df['travdist_bin']\n",
    "result = {}\n",
    "for purp in pd.unique(df['dpurp']):\n",
    "    _df = df[df['dpurp'] == purp]\n",
    "    result[purp] = _df['wt_sum'].sum()/_df['trexpfac'].sum()\n",
    "\n",
    "_df_wfh = pd.DataFrame.from_dict(result, orient='index')\n",
    "_df_wfh = _df_wfh.reset_index()\n",
    "_df_wfh.columns = ['Purpose','WFH Workers']\n",
    "_df_wfh"
   ]
  },
  {
   "cell_type": "code",
   "execution_count": 17,
   "metadata": {},
   "outputs": [
    {
     "data": {
      "text/html": [
       "<div>\n",
       "<style scoped>\n",
       "    .dataframe tbody tr th:only-of-type {\n",
       "        vertical-align: middle;\n",
       "    }\n",
       "\n",
       "    .dataframe tbody tr th {\n",
       "        vertical-align: top;\n",
       "    }\n",
       "\n",
       "    .dataframe thead th {\n",
       "        text-align: right;\n",
       "    }\n",
       "</style>\n",
       "<table border=\"1\" class=\"dataframe\">\n",
       "  <thead>\n",
       "    <tr style=\"text-align: right;\">\n",
       "      <th></th>\n",
       "      <th>Purpose</th>\n",
       "      <th>Non-Workers</th>\n",
       "    </tr>\n",
       "  </thead>\n",
       "  <tbody>\n",
       "    <tr>\n",
       "      <th>0</th>\n",
       "      <td>None/Home</td>\n",
       "      <td>5.3108</td>\n",
       "    </tr>\n",
       "    <tr>\n",
       "      <th>1</th>\n",
       "      <td>Work</td>\n",
       "      <td>7.6215</td>\n",
       "    </tr>\n",
       "    <tr>\n",
       "      <th>2</th>\n",
       "      <td>School</td>\n",
       "      <td>3.0791</td>\n",
       "    </tr>\n",
       "    <tr>\n",
       "      <th>3</th>\n",
       "      <td>Escort</td>\n",
       "      <td>5.2399</td>\n",
       "    </tr>\n",
       "    <tr>\n",
       "      <th>4</th>\n",
       "      <td>Personal Business</td>\n",
       "      <td>4.4097</td>\n",
       "    </tr>\n",
       "    <tr>\n",
       "      <th>5</th>\n",
       "      <td>Shop</td>\n",
       "      <td>3.6469</td>\n",
       "    </tr>\n",
       "    <tr>\n",
       "      <th>6</th>\n",
       "      <td>Meal</td>\n",
       "      <td>2.7441</td>\n",
       "    </tr>\n",
       "    <tr>\n",
       "      <th>7</th>\n",
       "      <td>Social</td>\n",
       "      <td>3.8445</td>\n",
       "    </tr>\n",
       "    <tr>\n",
       "      <th>8</th>\n",
       "      <td>Change Mode Inserted Purpose</td>\n",
       "      <td>7.9084</td>\n",
       "    </tr>\n",
       "  </tbody>\n",
       "</table>\n",
       "</div>"
      ],
      "text/plain": [
       "                        Purpose  Non-Workers\n",
       "0                     None/Home       5.3108\n",
       "1                          Work       7.6215\n",
       "2                        School       3.0791\n",
       "3                        Escort       5.2399\n",
       "4             Personal Business       4.4097\n",
       "5                          Shop       3.6469\n",
       "6                          Meal       2.7441\n",
       "7                        Social       3.8445\n",
       "8  Change Mode Inserted Purpose       7.9084"
      ]
     },
     "execution_count": 17,
     "metadata": {},
     "output_type": "execute_result"
    }
   ],
   "source": [
    "# Non-Workers\n",
    "df = pd.read_csv(os.path.join(relative_path,'agg','dash','trip_distance_non_wfh.csv'))\n",
    "df = df[-df['pptyp'].isin(['Full-Time Worker','Part-Time Worker'])]\n",
    "df = df[(df['dpurp'] == 'Work') & (df['dadtyp'].isin(['Other','Usual Workplace']))]\n",
    "\n",
    "# Non-Workers\n",
    "df = pd.read_csv(os.path.join(relative_path,'agg','dash','trip_distance_non_wfh.csv'))\n",
    "df['wt_sum'] = df['trexpfac']*1.0*df['travdist_bin']\n",
    "result = {}\n",
    "for purp in pd.unique(df['dpurp']):\n",
    "    _df = df[df['dpurp'] == purp]\n",
    "    result[purp] = _df['wt_sum'].sum()/_df['trexpfac'].sum()\n",
    "    \n",
    "_df_non_worker = pd.DataFrame.from_dict(result, orient='index')\n",
    "_df_non_worker = _df_non_worker.reset_index()\n",
    "_df_non_worker.columns = ['Purpose','Non-Workers']\n",
    "_df_non_worker"
   ]
  },
  {
   "cell_type": "markdown",
   "metadata": {},
   "source": [
    "Average Trip Distance by Purpose and Worker/Person Type"
   ]
  },
  {
   "cell_type": "code",
   "execution_count": 18,
   "metadata": {},
   "outputs": [],
   "source": [
    "_df = pd.merge(_df_non_wfh, _df_wfh).merge(_df_non_worker)"
   ]
  },
  {
   "cell_type": "code",
   "execution_count": 19,
   "metadata": {},
   "outputs": [
    {
     "data": {
      "text/html": [
       "<div>\n",
       "<style scoped>\n",
       "    .dataframe tbody tr th:only-of-type {\n",
       "        vertical-align: middle;\n",
       "    }\n",
       "\n",
       "    .dataframe tbody tr th {\n",
       "        vertical-align: top;\n",
       "    }\n",
       "\n",
       "    .dataframe thead th {\n",
       "        text-align: right;\n",
       "    }\n",
       "</style>\n",
       "<table border=\"1\" class=\"dataframe\">\n",
       "  <thead>\n",
       "    <tr style=\"text-align: right;\">\n",
       "      <th></th>\n",
       "      <th>Purpose</th>\n",
       "      <th>Workers at Non-Home Location</th>\n",
       "      <th>WFH Workers</th>\n",
       "      <th>Non-Workers</th>\n",
       "    </tr>\n",
       "  </thead>\n",
       "  <tbody>\n",
       "    <tr>\n",
       "      <th>0</th>\n",
       "      <td>None/Home</td>\n",
       "      <td>5.3108</td>\n",
       "      <td>2.5301</td>\n",
       "      <td>5.3108</td>\n",
       "    </tr>\n",
       "    <tr>\n",
       "      <th>1</th>\n",
       "      <td>Work</td>\n",
       "      <td>7.6215</td>\n",
       "      <td>4.2724</td>\n",
       "      <td>7.6215</td>\n",
       "    </tr>\n",
       "    <tr>\n",
       "      <th>2</th>\n",
       "      <td>School</td>\n",
       "      <td>3.0791</td>\n",
       "      <td>4.6389</td>\n",
       "      <td>3.0791</td>\n",
       "    </tr>\n",
       "    <tr>\n",
       "      <th>3</th>\n",
       "      <td>Escort</td>\n",
       "      <td>5.2399</td>\n",
       "      <td>2.4480</td>\n",
       "      <td>5.2399</td>\n",
       "    </tr>\n",
       "    <tr>\n",
       "      <th>4</th>\n",
       "      <td>Personal Business</td>\n",
       "      <td>4.4097</td>\n",
       "      <td>1.9350</td>\n",
       "      <td>4.4097</td>\n",
       "    </tr>\n",
       "    <tr>\n",
       "      <th>5</th>\n",
       "      <td>Shop</td>\n",
       "      <td>3.6469</td>\n",
       "      <td>1.9392</td>\n",
       "      <td>3.6469</td>\n",
       "    </tr>\n",
       "    <tr>\n",
       "      <th>6</th>\n",
       "      <td>Meal</td>\n",
       "      <td>2.7441</td>\n",
       "      <td>1.7694</td>\n",
       "      <td>2.7441</td>\n",
       "    </tr>\n",
       "    <tr>\n",
       "      <th>7</th>\n",
       "      <td>Social</td>\n",
       "      <td>3.8445</td>\n",
       "      <td>1.9750</td>\n",
       "      <td>3.8445</td>\n",
       "    </tr>\n",
       "    <tr>\n",
       "      <th>8</th>\n",
       "      <td>Change Mode Inserted Purpose</td>\n",
       "      <td>7.9084</td>\n",
       "      <td>4.6828</td>\n",
       "      <td>7.9084</td>\n",
       "    </tr>\n",
       "  </tbody>\n",
       "</table>\n",
       "</div>"
      ],
      "text/plain": [
       "                        Purpose  Workers at Non-Home Location  WFH Workers  \\\n",
       "0                     None/Home                        5.3108       2.5301   \n",
       "1                          Work                        7.6215       4.2724   \n",
       "2                        School                        3.0791       4.6389   \n",
       "3                        Escort                        5.2399       2.4480   \n",
       "4             Personal Business                        4.4097       1.9350   \n",
       "5                          Shop                        3.6469       1.9392   \n",
       "6                          Meal                        2.7441       1.7694   \n",
       "7                        Social                        3.8445       1.9750   \n",
       "8  Change Mode Inserted Purpose                        7.9084       4.6828   \n",
       "\n",
       "   Non-Workers  \n",
       "0       5.3108  \n",
       "1       7.6215  \n",
       "2       3.0791  \n",
       "3       5.2399  \n",
       "4       4.4097  \n",
       "5       3.6469  \n",
       "6       2.7441  \n",
       "7       3.8445  \n",
       "8       7.9084  "
      ]
     },
     "execution_count": 19,
     "metadata": {},
     "output_type": "execute_result"
    }
   ],
   "source": [
    "_df"
   ]
  },
  {
   "cell_type": "markdown",
   "metadata": {},
   "source": [
    "# VMT"
   ]
  },
  {
   "cell_type": "markdown",
   "metadata": {},
   "source": [
    "Workers that Work from Home"
   ]
  },
  {
   "cell_type": "code",
   "execution_count": 20,
   "metadata": {},
   "outputs": [
    {
     "data": {
      "text/html": [
       "<div>\n",
       "<style scoped>\n",
       "    .dataframe tbody tr th:only-of-type {\n",
       "        vertical-align: middle;\n",
       "    }\n",
       "\n",
       "    .dataframe tbody tr th {\n",
       "        vertical-align: top;\n",
       "    }\n",
       "\n",
       "    .dataframe thead th {\n",
       "        text-align: right;\n",
       "    }\n",
       "</style>\n",
       "<table border=\"1\" class=\"dataframe\">\n",
       "  <thead>\n",
       "    <tr style=\"text-align: right;\">\n",
       "      <th></th>\n",
       "      <th>Total VMT (Model)</th>\n",
       "      <th>VMT per Person (Model)_model</th>\n",
       "      <th>travdist_wt_survey</th>\n",
       "      <th>VMT per Person (Model)_survey</th>\n",
       "    </tr>\n",
       "    <tr>\n",
       "      <th>dpurp</th>\n",
       "      <th></th>\n",
       "      <th></th>\n",
       "      <th></th>\n",
       "      <th></th>\n",
       "    </tr>\n",
       "  </thead>\n",
       "  <tbody>\n",
       "    <tr>\n",
       "      <th>Change Mode Inserted Purpose</th>\n",
       "      <td>164</td>\n",
       "      <td>0.00</td>\n",
       "      <td>-1320</td>\n",
       "      <td>-0.01</td>\n",
       "    </tr>\n",
       "    <tr>\n",
       "      <th>Escort</th>\n",
       "      <td>131028</td>\n",
       "      <td>1.00</td>\n",
       "      <td>-18998</td>\n",
       "      <td>-0.14</td>\n",
       "    </tr>\n",
       "    <tr>\n",
       "      <th>Meal</th>\n",
       "      <td>22014</td>\n",
       "      <td>0.17</td>\n",
       "      <td>-12122</td>\n",
       "      <td>-0.09</td>\n",
       "    </tr>\n",
       "    <tr>\n",
       "      <th>None/Home</th>\n",
       "      <td>363176</td>\n",
       "      <td>2.77</td>\n",
       "      <td>-82089</td>\n",
       "      <td>-0.63</td>\n",
       "    </tr>\n",
       "    <tr>\n",
       "      <th>Personal Business</th>\n",
       "      <td>121492</td>\n",
       "      <td>0.93</td>\n",
       "      <td>-26755</td>\n",
       "      <td>-0.20</td>\n",
       "    </tr>\n",
       "    <tr>\n",
       "      <th>School</th>\n",
       "      <td>4277</td>\n",
       "      <td>0.03</td>\n",
       "      <td>-120</td>\n",
       "      <td>-0.00</td>\n",
       "    </tr>\n",
       "    <tr>\n",
       "      <th>Shop</th>\n",
       "      <td>139619</td>\n",
       "      <td>1.06</td>\n",
       "      <td>-89591</td>\n",
       "      <td>-0.68</td>\n",
       "    </tr>\n",
       "    <tr>\n",
       "      <th>Social</th>\n",
       "      <td>82645</td>\n",
       "      <td>0.63</td>\n",
       "      <td>-26746</td>\n",
       "      <td>-0.20</td>\n",
       "    </tr>\n",
       "    <tr>\n",
       "      <th>Work</th>\n",
       "      <td>13242</td>\n",
       "      <td>0.10</td>\n",
       "      <td>-3706</td>\n",
       "      <td>-0.03</td>\n",
       "    </tr>\n",
       "    <tr>\n",
       "      <th>Total</th>\n",
       "      <td>877660</td>\n",
       "      <td>6.69</td>\n",
       "      <td>-261450</td>\n",
       "      <td>-1.99</td>\n",
       "    </tr>\n",
       "  </tbody>\n",
       "</table>\n",
       "</div>"
      ],
      "text/plain": [
       "                              Total VMT (Model)  VMT per Person (Model)_model  \\\n",
       "dpurp                                                                           \n",
       "Change Mode Inserted Purpose                164                          0.00   \n",
       "Escort                                   131028                          1.00   \n",
       "Meal                                      22014                          0.17   \n",
       "None/Home                                363176                          2.77   \n",
       "Personal Business                        121492                          0.93   \n",
       "School                                     4277                          0.03   \n",
       "Shop                                     139619                          1.06   \n",
       "Social                                    82645                          0.63   \n",
       "Work                                      13242                          0.10   \n",
       "Total                                    877660                          6.69   \n",
       "\n",
       "                              travdist_wt_survey  \\\n",
       "dpurp                                              \n",
       "Change Mode Inserted Purpose               -1320   \n",
       "Escort                                    -18998   \n",
       "Meal                                      -12122   \n",
       "None/Home                                 -82089   \n",
       "Personal Business                         -26755   \n",
       "School                                      -120   \n",
       "Shop                                      -89591   \n",
       "Social                                    -26746   \n",
       "Work                                       -3706   \n",
       "Total                                    -261450   \n",
       "\n",
       "                              VMT per Person (Model)_survey  \n",
       "dpurp                                                        \n",
       "Change Mode Inserted Purpose                          -0.01  \n",
       "Escort                                                -0.14  \n",
       "Meal                                                  -0.09  \n",
       "None/Home                                             -0.63  \n",
       "Personal Business                                     -0.20  \n",
       "School                                                -0.00  \n",
       "Shop                                                  -0.68  \n",
       "Social                                                -0.20  \n",
       "Work                                                  -0.03  \n",
       "Total                                                 -1.99  "
      ]
     },
     "execution_count": 20,
     "metadata": {},
     "output_type": "execute_result"
    }
   ],
   "source": [
    "df = pd.read_csv(os.path.join(relative_path,'agg','dash','vmt_wfh.csv'))\n",
    "df_survey = pd.read_csv(os.path.join(relative_path,'agg','dash','survey','vmt_wfh.csv'))\n",
    "\n",
    "pd.options.display.float_format = '{:,.2f}'.format\n",
    "_df = df[(df['mode'].isin(['SOV','HOV2','HOV3+']))&\n",
    "   (df['dorp']==1) &\n",
    "   (df['pptyp'].isin(['Full-Time Worker','Part-Time Worker']))].groupby('dpurp').sum()[['travdist_wt']]\n",
    "_df['VMT per Person (Model)'] = _df['travdist_wt']/total_wfh_workers\n",
    "\n",
    "_df_survey = df_survey[(df_survey['mode'].isin(['SOV','HOV2','HOV3+']))&\n",
    "   (df_survey['dorp']==1) &\n",
    "   (df_survey['pptyp'].isin(['Full-Time Worker','Part-Time Worker']))].groupby('dpurp').sum()[['travdist_wt']]\n",
    "_df_survey['VMT per Person (Model)'] = _df_survey['travdist_wt']/total_wfh_workers_survey\n",
    "\n",
    "_df = _df.merge(_df_survey, left_index=True, right_index=True, suffixes=['_model','_survey'])\n",
    "_df.loc['Total',:] = _df.sum()\n",
    "_df[['travdist_wt_model','travdist_wt_survey']] = _df[['travdist_wt_model','travdist_wt_survey']].astype('int')\n",
    "_df.rename(columns={'travdist_wt_model': 'Total VMT (Model)', 'travidst_wt_survey': 'Total VMT (Survey)'},\n",
    "                   inplace=True)\n",
    "_df"
   ]
  },
  {
   "cell_type": "markdown",
   "metadata": {},
   "source": [
    "Workers that do NOT Work from Home"
   ]
  },
  {
   "cell_type": "code",
   "execution_count": 21,
   "metadata": {},
   "outputs": [
    {
     "data": {
      "text/html": [
       "<div>\n",
       "<style scoped>\n",
       "    .dataframe tbody tr th:only-of-type {\n",
       "        vertical-align: middle;\n",
       "    }\n",
       "\n",
       "    .dataframe tbody tr th {\n",
       "        vertical-align: top;\n",
       "    }\n",
       "\n",
       "    .dataframe thead th {\n",
       "        text-align: right;\n",
       "    }\n",
       "</style>\n",
       "<table border=\"1\" class=\"dataframe\">\n",
       "  <thead>\n",
       "    <tr style=\"text-align: right;\">\n",
       "      <th></th>\n",
       "      <th>Total VMT (Model)</th>\n",
       "      <th>VMT per Person (Model)_model</th>\n",
       "      <th>travdist_wt_survey</th>\n",
       "      <th>VMT per Person (Model)_survey</th>\n",
       "    </tr>\n",
       "    <tr>\n",
       "      <th>dpurp</th>\n",
       "      <th></th>\n",
       "      <th></th>\n",
       "      <th></th>\n",
       "      <th></th>\n",
       "    </tr>\n",
       "  </thead>\n",
       "  <tbody>\n",
       "    <tr>\n",
       "      <th>Change Mode Inserted Purpose</th>\n",
       "      <td>255885</td>\n",
       "      <td>0.14</td>\n",
       "      <td>-11606</td>\n",
       "      <td>-0.01</td>\n",
       "    </tr>\n",
       "    <tr>\n",
       "      <th>Escort</th>\n",
       "      <td>2691903</td>\n",
       "      <td>1.43</td>\n",
       "      <td>-611606</td>\n",
       "      <td>-0.33</td>\n",
       "    </tr>\n",
       "    <tr>\n",
       "      <th>Meal</th>\n",
       "      <td>1252742</td>\n",
       "      <td>0.67</td>\n",
       "      <td>-415146</td>\n",
       "      <td>-0.22</td>\n",
       "    </tr>\n",
       "    <tr>\n",
       "      <th>None/Home</th>\n",
       "      <td>15905151</td>\n",
       "      <td>8.47</td>\n",
       "      <td>-2225642</td>\n",
       "      <td>-1.19</td>\n",
       "    </tr>\n",
       "    <tr>\n",
       "      <th>Personal Business</th>\n",
       "      <td>1989691</td>\n",
       "      <td>1.06</td>\n",
       "      <td>-604545</td>\n",
       "      <td>-0.32</td>\n",
       "    </tr>\n",
       "    <tr>\n",
       "      <th>School</th>\n",
       "      <td>185972</td>\n",
       "      <td>0.10</td>\n",
       "      <td>-14149</td>\n",
       "      <td>-0.01</td>\n",
       "    </tr>\n",
       "    <tr>\n",
       "      <th>Shop</th>\n",
       "      <td>2293624</td>\n",
       "      <td>1.22</td>\n",
       "      <td>-702148</td>\n",
       "      <td>-0.38</td>\n",
       "    </tr>\n",
       "    <tr>\n",
       "      <th>Social</th>\n",
       "      <td>2354854</td>\n",
       "      <td>1.25</td>\n",
       "      <td>-495702</td>\n",
       "      <td>-0.27</td>\n",
       "    </tr>\n",
       "    <tr>\n",
       "      <th>Work</th>\n",
       "      <td>16456391</td>\n",
       "      <td>8.76</td>\n",
       "      <td>-2224998</td>\n",
       "      <td>-1.19</td>\n",
       "    </tr>\n",
       "    <tr>\n",
       "      <th>Total</th>\n",
       "      <td>43386217</td>\n",
       "      <td>23.09</td>\n",
       "      <td>-7305546</td>\n",
       "      <td>-3.92</td>\n",
       "    </tr>\n",
       "  </tbody>\n",
       "</table>\n",
       "</div>"
      ],
      "text/plain": [
       "                              Total VMT (Model)  VMT per Person (Model)_model  \\\n",
       "dpurp                                                                           \n",
       "Change Mode Inserted Purpose             255885                          0.14   \n",
       "Escort                                  2691903                          1.43   \n",
       "Meal                                    1252742                          0.67   \n",
       "None/Home                              15905151                          8.47   \n",
       "Personal Business                       1989691                          1.06   \n",
       "School                                   185972                          0.10   \n",
       "Shop                                    2293624                          1.22   \n",
       "Social                                  2354854                          1.25   \n",
       "Work                                   16456391                          8.76   \n",
       "Total                                  43386217                         23.09   \n",
       "\n",
       "                              travdist_wt_survey  \\\n",
       "dpurp                                              \n",
       "Change Mode Inserted Purpose              -11606   \n",
       "Escort                                   -611606   \n",
       "Meal                                     -415146   \n",
       "None/Home                               -2225642   \n",
       "Personal Business                        -604545   \n",
       "School                                    -14149   \n",
       "Shop                                     -702148   \n",
       "Social                                   -495702   \n",
       "Work                                    -2224998   \n",
       "Total                                   -7305546   \n",
       "\n",
       "                              VMT per Person (Model)_survey  \n",
       "dpurp                                                        \n",
       "Change Mode Inserted Purpose                          -0.01  \n",
       "Escort                                                -0.33  \n",
       "Meal                                                  -0.22  \n",
       "None/Home                                             -1.19  \n",
       "Personal Business                                     -0.32  \n",
       "School                                                -0.01  \n",
       "Shop                                                  -0.38  \n",
       "Social                                                -0.27  \n",
       "Work                                                  -1.19  \n",
       "Total                                                 -3.92  "
      ]
     },
     "execution_count": 21,
     "metadata": {},
     "output_type": "execute_result"
    }
   ],
   "source": [
    "df = pd.read_csv(os.path.join(relative_path,'agg','dash','vmt_nonwfh.csv'))\n",
    "df_survey = pd.read_csv(os.path.join(relative_path,'agg','dash','survey','vmt_nonwfh.csv'))\n",
    "\n",
    "pd.options.display.float_format = '{:,.2f}'.format\n",
    "_df = df[(df['mode'].isin(['SOV','HOV2','HOV3+']))&\n",
    "   (df['dorp']==1) &\n",
    "   (df['pptyp'].isin(['Full-Time Worker','Part-Time Worker']))].groupby('dpurp').sum()[['travdist_wt']]\n",
    "_df['VMT per Person (Model)'] = _df['travdist_wt']/total_nonwfh_workers\n",
    "\n",
    "_df_survey = df_survey[(df_survey['mode'].isin(['SOV','HOV2','HOV3+']))&\n",
    "   (df_survey['dorp']==1) &\n",
    "   (df_survey['pptyp'].isin(['Full-Time Worker','Part-Time Worker']))].groupby('dpurp').sum()[['travdist_wt']]\n",
    "_df_survey['VMT per Person (Model)'] = _df_survey['travdist_wt']/total_nonwfh_workers_survey\n",
    "\n",
    "_df = _df.merge(_df_survey, left_index=True, right_index=True, suffixes=['_model','_survey'])\n",
    "_df.loc['Total',:] = _df.sum()\n",
    "_df[['travdist_wt_model','travdist_wt_survey']] = _df[['travdist_wt_model','travdist_wt_survey']].astype('int')\n",
    "_df.rename(columns={'travdist_wt_model': 'Total VMT (Model)', 'travidst_wt_survey': 'Total VMT (Survey)'},\n",
    "                   inplace=True)\n",
    "_df"
   ]
  },
  {
   "cell_type": "markdown",
   "metadata": {},
   "source": [
    "# Commute Tour Distance by Mode\n",
    "All Workers"
   ]
  },
  {
   "cell_type": "code",
   "execution_count": 22,
   "metadata": {},
   "outputs": [
    {
     "data": {
      "text/plain": [
       "tmodetp\n",
       "Bike           939\n",
       "HOV2          2368\n",
       "HOV3+         2432\n",
       "Park           211\n",
       "SOV           1871\n",
       "School Bus     156\n",
       "TNC            579\n",
       "Transit       1373\n",
       "Walk           480\n",
       "dtype: int64"
      ]
     },
     "execution_count": 22,
     "metadata": {},
     "output_type": "execute_result"
    }
   ],
   "source": [
    "df = pd.read_csv(os.path.join(relative_path,'agg','dash','tour_distance.csv'))\n",
    "df.groupby('tmodetp').size()"
   ]
  },
  {
   "cell_type": "code",
   "execution_count": 23,
   "metadata": {},
   "outputs": [
    {
     "name": "stdout",
     "output_type": "stream",
     "text": [
      "Walk\n",
      "Bike\n",
      "SOV\n",
      "HOV2\n",
      "HOV3+\n",
      "Transit\n",
      "Park\n"
     ]
    },
    {
     "name": "stdout",
     "output_type": "stream",
     "text": [
      "TNC\n"
     ]
    },
    {
     "data": {
      "image/png": "[encoded data removed]",
      "text/plain": [
       "<Figure size 432x288 with 1 Axes>"
      ]
     },
     "metadata": {
      "needs_background": "light"
     },
     "output_type": "display_data"
    },
    {
     "data": {
      "image/png": "[encoded data removed]",
      "text/plain": [
       "<Figure size 432x288 with 1 Axes>"
      ]
     },
     "metadata": {
      "needs_background": "light"
     },
     "output_type": "display_data"
    },
    {
     "data": {
      "image/png": "[encoded data removed]",
      "text/plain": [
       "<Figure size 432x288 with 1 Axes>"
      ]
     },
     "metadata": {
      "needs_background": "light"
     },
     "output_type": "display_data"
    },
    {
     "data": {
      "image/png": "[encoded data removed]",
      "text/plain": [
       "<Figure size 432x288 with 1 Axes>"
      ]
     },
     "metadata": {
      "needs_background": "light"
     },
     "output_type": "display_data"
    },
    {
     "data": {
      "image/png": "[encoded data removed]",
      "text/plain": [
       "<Figure size 432x288 with 1 Axes>"
      ]
     },
     "metadata": {
      "needs_background": "light"
     },
     "output_type": "display_data"
    },
    {
     "data": {
      "image/png": "[encoded data removed]",
      "text/plain": [
       "<Figure size 432x288 with 1 Axes>"
      ]
     },
     "metadata": {
      "needs_background": "light"
     },
     "output_type": "display_data"
    },
    {
     "data": {
      "image/png": "[encoded data removed]",
      "text/plain": [
       "<Figure size 432x288 with 1 Axes>"
      ]
     },
     "metadata": {
      "needs_background": "light"
     },
     "output_type": "display_data"
    },
    {
     "data": {
      "image/png": "[encoded data removed]",
      "text/plain": [
       "<Figure size 432x288 with 1 Axes>"
      ]
     },
     "metadata": {
      "needs_background": "light"
     },
     "output_type": "display_data"
    }
   ],
   "source": [
    "df = pd.read_csv(os.path.join(relative_path,'agg','dash','tour_distance.csv'))\n",
    "df_survey = pd.read_csv(os.path.join(relative_path,'agg','dash','survey','tour_distance.csv'))\n",
    "df = df[df['pdpurp'] == 'Work']\n",
    "df = df[df['tmodetp'] != \"-1\"]\n",
    "\n",
    "for mode in df['tmodetp'].unique():\n",
    "    _df = df[df['tmodetp'] == mode]\n",
    "    \n",
    "    \n",
    "    if len(_df) > 0:\n",
    "        print(mode)\n",
    "        _df = _df.groupby('tautodist_bin').sum()[['toexpfac']].reset_index()\n",
    "\n",
    "        _df['percent'] = _df['toexpfac']/_df['toexpfac'].sum()\n",
    "        _df['cumulative_percent'] = _df['percent'].cumsum()\n",
    "\n",
    "        # remove records that are outside 99% of records\n",
    "        _df = _df[_df['cumulative_percent'] <= 0.99]\n",
    "\n",
    "        _df_survey = df_survey[df_survey['tmodetp'] == mode]\n",
    "        _df_survey = _df_survey.groupby('tautodist_bin').sum()[['toexpfac']].reset_index()\n",
    "\n",
    "        _df_survey['percent'] = _df_survey['toexpfac']/_df_survey['toexpfac'].sum()\n",
    "        _df_survey['cumulative_percent'] = _df_survey['percent'].cumsum()\n",
    "\n",
    "        # remove records that are outside 99% of records\n",
    "        _df_survey = _df_survey[_df_survey['cumulative_percent'] <= 0.99]\n",
    "\n",
    "        fig, ax = plt.subplots()\n",
    "        if len(_df_survey > 0):\n",
    "            _df_merged = _df.merge(_df_survey, on='tautodist_bin', suffixes=['_model','_survey'])\n",
    "            _df_merged[['percent_model','percent_survey']].plot(alpha=0.6, title=mode)\n",
    "        else:\n",
    "            _df['percent'].plot(alpha=0.6, title='Commute Distance by '+str(mode))\n",
    "        \n",
    "\n"
   ]
  },
  {
   "cell_type": "code",
   "execution_count": null,
   "metadata": {},
   "outputs": [],
   "source": []
  }
 ],
 "metadata": {
  "kernelspec": {
   "display_name": "Python 3",
   "language": "python",
   "name": "python3"
  },
  "language_info": {
   "codemirror_mode": {
    "name": "ipython",
    "version": 3
   },
   "file_extension": ".py",
   "mimetype": "text/x-python",
   "name": "python",
   "nbconvert_exporter": "python",
   "pygments_lexer": "ipython3",
   "version": "3.7.10"
  }
 },
 "nbformat": 4,
 "nbformat_minor": 2
}
