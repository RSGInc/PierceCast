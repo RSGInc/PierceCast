{
 "cells": [
  {
   "cell_type": "code",
   "execution_count": 25,
   "metadata": {},
   "outputs": [
    {
     "data": {
      "text/html": [
       "<script>\n",
       "code_show=true; \n",
       "function code_toggle() {\n",
       " if (code_show){\n",
       " $('div.input').hide();\n",
       " } else {\n",
       " $('div.input').show();\n",
       " }\n",
       " code_show = !code_show\n",
       "} \n",
       "$( document ).ready(code_toggle);\n",
       "</script>\n",
       "<form action=\"javascript:code_toggle()\"><input type=\"submit\" value=\"Click here to toggle on/off the raw code.\"></form>"
      ],
      "text/plain": [
       "<IPython.core.display.HTML object>"
      ]
     },
     "execution_count": 25,
     "metadata": {},
     "output_type": "execute_result"
    }
   ],
   "source": [
    "import os, time\n",
    "from scipy import stats\n",
    "import warnings\n",
    "warnings.simplefilter(action='ignore', category=FutureWarning)\n",
    "import pandas as pd\n",
    "import numpy as np\n",
    "%matplotlib inline\n",
    "\n",
    "from IPython.display import display, HTML\n",
    "\n",
    "HTML('''<script>\n",
    "code_show=true; \n",
    "function code_toggle() {\n",
    " if (code_show){\n",
    " $('div.input').hide();\n",
    " } else {\n",
    " $('div.input').show();\n",
    " }\n",
    " code_show = !code_show\n",
    "} \n",
    "$( document ).ready(code_toggle);\n",
    "</script>\n",
    "<form action=\"javascript:code_toggle()\"><input type=\"submit\" value=\"Click here to toggle on/off the raw code.\"></form>''')"
   ]
  },
  {
   "cell_type": "code",
   "execution_count": 26,
   "metadata": {},
   "outputs": [
    {
     "name": "stdout",
     "output_type": "stream",
     "text": [
      "Summary run: Fri, 13 Nov 2020 16:06\n"
     ]
    }
   ],
   "source": [
    "# Create timestamp to show when this summary was run\n",
    "print 'Summary run: ' + time.strftime(\"%a, %d %b %Y %H:%M\")"
   ]
  },
  {
   "cell_type": "code",
   "execution_count": 27,
   "metadata": {},
   "outputs": [],
   "source": [
    "base_path = os.getcwd().split('\\\\scripts')[0]\n",
    "relative_path = '../../../outputs'\n",
    "pd.options.display.float_format = '{:,.3f}'.format\n",
    "format_percent = \"{:,.2%}\".format"
   ]
  },
  {
   "cell_type": "markdown",
   "metadata": {},
   "source": [
    "# Workers by County"
   ]
  },
  {
   "cell_type": "code",
   "execution_count": 28,
   "metadata": {},
   "outputs": [
    {
     "data": {
      "text/html": [
       "<div>\n",
       "<table border=\"1\" class=\"dataframe\">\n",
       "  <thead>\n",
       "    <tr style=\"text-align: right;\">\n",
       "      <th></th>\n",
       "      <th>WFH Workers</th>\n",
       "      <th>Total Workers</th>\n",
       "      <th>% WFH Workers</th>\n",
       "    </tr>\n",
       "    <tr>\n",
       "      <th>person_county</th>\n",
       "      <th></th>\n",
       "      <th></th>\n",
       "      <th></th>\n",
       "    </tr>\n",
       "  </thead>\n",
       "  <tbody>\n",
       "    <tr>\n",
       "      <th>King</th>\n",
       "      <td>60,471.000</td>\n",
       "      <td>757,936.000</td>\n",
       "      <td>0.080</td>\n",
       "    </tr>\n",
       "    <tr>\n",
       "      <th>Kitsap</th>\n",
       "      <td>10,595.000</td>\n",
       "      <td>185,105.000</td>\n",
       "      <td>0.057</td>\n",
       "    </tr>\n",
       "    <tr>\n",
       "      <th>Pierce</th>\n",
       "      <td>29,767.000</td>\n",
       "      <td>466,723.000</td>\n",
       "      <td>0.064</td>\n",
       "    </tr>\n",
       "    <tr>\n",
       "      <th>Snohomish</th>\n",
       "      <td>25,669.000</td>\n",
       "      <td>469,048.000</td>\n",
       "      <td>0.055</td>\n",
       "    </tr>\n",
       "    <tr>\n",
       "      <th>Region</th>\n",
       "      <td>126,502.000</td>\n",
       "      <td>1,878,812.000</td>\n",
       "      <td>0.067</td>\n",
       "    </tr>\n",
       "  </tbody>\n",
       "</table>\n",
       "</div>"
      ],
      "text/plain": [
       "               WFH Workers  Total Workers  % WFH Workers\n",
       "person_county                                           \n",
       "King            60,471.000    757,936.000          0.080\n",
       "Kitsap          10,595.000    185,105.000          0.057\n",
       "Pierce          29,767.000    466,723.000          0.064\n",
       "Snohomish       25,669.000    469,048.000          0.055\n",
       "Region         126,502.000  1,878,812.000          0.067"
      ]
     },
     "execution_count": 28,
     "metadata": {},
     "output_type": "execute_result"
    }
   ],
   "source": [
    "df_wfh = pd.read_csv(os.path.join(relative_path,'agg','dash','wfh_county.csv'))\n",
    "df_wfh_survey = pd.read_csv(os.path.join(relative_path,'agg','dash','survey','wfh_county.csv'))\n",
    "\n",
    "# Total Workers by County\n",
    "df_tot = pd.read_csv(os.path.join(relative_path,'agg','dash','pptyp_county.csv'))\n",
    "df_tot = df_tot[df_tot['pptyp'].isin(['Full-Time Worker', 'Part-Time Worker'])]\n",
    "df_tot = df_tot.groupby('person_county').sum()[['psexpfac']].reset_index()\n",
    "total_nonwfh_workers = df_tot.sum()['psexpfac']\n",
    "\n",
    "df_tot_survey = pd.read_csv(os.path.join(relative_path,'agg','dash','survey','pptyp_county.csv'))\n",
    "df_tot_survey = df_tot_survey[df_tot_survey['pptyp'].isin(['Full-Time Worker', 'Part-Time Worker'])]\n",
    "df_tot_survey = df_tot_survey.groupby('person_county').sum()[['psexpfac']].reset_index()\n",
    "total_nonwfh_workers_survey = df_tot_survey.sum()['psexpfac']\n",
    "\n",
    "df = df_wfh.merge(df_tot, on='person_county')\n",
    "df.index = df['person_county']\n",
    "df.drop('person_county', axis=1,inplace=True)\n",
    "df.columns = ['WFH Workers', 'Total Workers']\n",
    "df.loc['Region'] = df.sum(axis=0)\n",
    "df['% WFH Workers'] = df['WFH Workers']/df['Total Workers']\n",
    "df"
   ]
  },
  {
   "cell_type": "code",
   "execution_count": 29,
   "metadata": {},
   "outputs": [
    {
     "data": {
      "text/plain": [
       "1878812.0"
      ]
     },
     "execution_count": 29,
     "metadata": {},
     "output_type": "execute_result"
    }
   ],
   "source": [
    "df_tot.sum()['psexpfac']"
   ]
  },
  {
   "cell_type": "markdown",
   "metadata": {},
   "source": [
    "# Tour Rate for Work-at-Home Workers"
   ]
  },
  {
   "cell_type": "code",
   "execution_count": 30,
   "metadata": {},
   "outputs": [
    {
     "data": {
      "text/html": [
       "<div>\n",
       "<table border=\"1\" class=\"dataframe\">\n",
       "  <thead>\n",
       "    <tr style=\"text-align: right;\">\n",
       "      <th></th>\n",
       "      <th>pdpurp</th>\n",
       "      <th>tours_model</th>\n",
       "      <th>tours_survey</th>\n",
       "      <th>tour_rate_model</th>\n",
       "      <th>tour_rate_survey</th>\n",
       "    </tr>\n",
       "  </thead>\n",
       "  <tbody>\n",
       "    <tr>\n",
       "      <th>0</th>\n",
       "      <td>Escort</td>\n",
       "      <td>45,938.000</td>\n",
       "      <td>23855</td>\n",
       "      <td>0.363</td>\n",
       "      <td>0.189</td>\n",
       "    </tr>\n",
       "    <tr>\n",
       "      <th>1</th>\n",
       "      <td>Meal</td>\n",
       "      <td>6,271.000</td>\n",
       "      <td>13909</td>\n",
       "      <td>0.050</td>\n",
       "      <td>0.110</td>\n",
       "    </tr>\n",
       "    <tr>\n",
       "      <th>2</th>\n",
       "      <td>Personal Business</td>\n",
       "      <td>31,307.000</td>\n",
       "      <td>37415</td>\n",
       "      <td>0.247</td>\n",
       "      <td>0.296</td>\n",
       "    </tr>\n",
       "    <tr>\n",
       "      <th>3</th>\n",
       "      <td>School</td>\n",
       "      <td>3,625.000</td>\n",
       "      <td>675</td>\n",
       "      <td>0.029</td>\n",
       "      <td>0.005</td>\n",
       "    </tr>\n",
       "    <tr>\n",
       "      <th>4</th>\n",
       "      <td>Shop</td>\n",
       "      <td>38,886.000</td>\n",
       "      <td>51951</td>\n",
       "      <td>0.307</td>\n",
       "      <td>0.411</td>\n",
       "    </tr>\n",
       "    <tr>\n",
       "      <th>5</th>\n",
       "      <td>Social</td>\n",
       "      <td>38,529.000</td>\n",
       "      <td>76870</td>\n",
       "      <td>0.305</td>\n",
       "      <td>0.608</td>\n",
       "    </tr>\n",
       "    <tr>\n",
       "      <th>6</th>\n",
       "      <td>Work</td>\n",
       "      <td>18,292.000</td>\n",
       "      <td>25577</td>\n",
       "      <td>0.145</td>\n",
       "      <td>0.202</td>\n",
       "    </tr>\n",
       "  </tbody>\n",
       "</table>\n",
       "</div>"
      ],
      "text/plain": [
       "              pdpurp  tours_model  tours_survey  tour_rate_model  \\\n",
       "0             Escort   45,938.000         23855            0.363   \n",
       "1               Meal    6,271.000         13909            0.050   \n",
       "2  Personal Business   31,307.000         37415            0.247   \n",
       "3             School    3,625.000           675            0.029   \n",
       "4               Shop   38,886.000         51951            0.307   \n",
       "5             Social   38,529.000         76870            0.305   \n",
       "6               Work   18,292.000         25577            0.145   \n",
       "\n",
       "   tour_rate_survey  \n",
       "0             0.189  \n",
       "1             0.110  \n",
       "2             0.296  \n",
       "3             0.005  \n",
       "4             0.411  \n",
       "5             0.608  \n",
       "6             0.202  "
      ]
     },
     "execution_count": 30,
     "metadata": {},
     "output_type": "execute_result"
    }
   ],
   "source": [
    "df_tours = pd.read_csv(os.path.join(relative_path,'agg','dash','work_from_home_tours.csv'))\n",
    "total_wfh_workers = df_wfh.psexpfac.sum()\n",
    "df = df_tours.groupby('pdpurp').sum()[['toexpfac']].reset_index()\n",
    "df['tour_rate'] = df['toexpfac']/total_wfh_workers\n",
    "df\n",
    "\n",
    "df_tours_survey = pd.read_csv(os.path.join(relative_path,'agg','dash','survey','work_from_home_tours.csv'))\n",
    "total_wfh_workers_survey = df_wfh.psexpfac.sum()\n",
    "df_survey = df_tours_survey.groupby('pdpurp').sum()[['toexpfac']].reset_index()\n",
    "df_survey['tour_rate'] = df_survey['toexpfac']/total_wfh_workers_survey\n",
    "df = df.merge(df_survey,on='pdpurp',suffixes=['_model','_survey'])\n",
    "df.rename(columns={'toexpfac_model': 'tours_model', 'toexpfac_survey': 'tours_survey'}, inplace=True)\n",
    "df['tours_survey'] = df['tours_survey'].astype('int')\n",
    "df[['pdpurp','tours_model','tours_survey','tour_rate_model','tour_rate_survey']]"
   ]
  },
  {
   "cell_type": "markdown",
   "metadata": {},
   "source": [
    "### Tour Rates for Workers that do NOT WF"
   ]
  },
  {
   "cell_type": "code",
   "execution_count": 31,
   "metadata": {},
   "outputs": [
    {
     "data": {
      "text/html": [
       "<div>\n",
       "<table border=\"1\" class=\"dataframe\">\n",
       "  <thead>\n",
       "    <tr style=\"text-align: right;\">\n",
       "      <th></th>\n",
       "      <th>pdpurp</th>\n",
       "      <th>total_tours_model</th>\n",
       "      <th>total_tours_survey</th>\n",
       "      <th>tour_rate_model</th>\n",
       "      <th>tour_rate_survey</th>\n",
       "    </tr>\n",
       "  </thead>\n",
       "  <tbody>\n",
       "    <tr>\n",
       "      <th>0</th>\n",
       "      <td>Escort</td>\n",
       "      <td>211,607.000</td>\n",
       "      <td>173,138.190</td>\n",
       "      <td>0.113</td>\n",
       "      <td>0.091</td>\n",
       "    </tr>\n",
       "    <tr>\n",
       "      <th>1</th>\n",
       "      <td>Meal</td>\n",
       "      <td>344,157.000</td>\n",
       "      <td>233,295.070</td>\n",
       "      <td>0.183</td>\n",
       "      <td>0.123</td>\n",
       "    </tr>\n",
       "    <tr>\n",
       "      <th>2</th>\n",
       "      <td>Personal Business</td>\n",
       "      <td>176,840.000</td>\n",
       "      <td>265,388.630</td>\n",
       "      <td>0.094</td>\n",
       "      <td>0.140</td>\n",
       "    </tr>\n",
       "    <tr>\n",
       "      <th>3</th>\n",
       "      <td>School</td>\n",
       "      <td>26,733.000</td>\n",
       "      <td>15,916.400</td>\n",
       "      <td>0.014</td>\n",
       "      <td>0.008</td>\n",
       "    </tr>\n",
       "    <tr>\n",
       "      <th>4</th>\n",
       "      <td>Shop</td>\n",
       "      <td>237,612.000</td>\n",
       "      <td>247,085.710</td>\n",
       "      <td>0.126</td>\n",
       "      <td>0.131</td>\n",
       "    </tr>\n",
       "    <tr>\n",
       "      <th>5</th>\n",
       "      <td>Social</td>\n",
       "      <td>480,299.000</td>\n",
       "      <td>442,733.820</td>\n",
       "      <td>0.256</td>\n",
       "      <td>0.234</td>\n",
       "    </tr>\n",
       "    <tr>\n",
       "      <th>6</th>\n",
       "      <td>Work</td>\n",
       "      <td>1,633,936.000</td>\n",
       "      <td>1,870,382.830</td>\n",
       "      <td>0.870</td>\n",
       "      <td>0.988</td>\n",
       "    </tr>\n",
       "  </tbody>\n",
       "</table>\n",
       "</div>"
      ],
      "text/plain": [
       "              pdpurp  total_tours_model  total_tours_survey  tour_rate_model  \\\n",
       "0             Escort        211,607.000         173,138.190            0.113   \n",
       "1               Meal        344,157.000         233,295.070            0.183   \n",
       "2  Personal Business        176,840.000         265,388.630            0.094   \n",
       "3             School         26,733.000          15,916.400            0.014   \n",
       "4               Shop        237,612.000         247,085.710            0.126   \n",
       "5             Social        480,299.000         442,733.820            0.256   \n",
       "6               Work      1,633,936.000       1,870,382.830            0.870   \n",
       "\n",
       "   tour_rate_survey  \n",
       "0             0.091  \n",
       "1             0.123  \n",
       "2             0.140  \n",
       "3             0.008  \n",
       "4             0.131  \n",
       "5             0.234  \n",
       "6             0.988  "
      ]
     },
     "execution_count": 31,
     "metadata": {},
     "output_type": "execute_result"
    }
   ],
   "source": [
    "# Tour Rates by purpose by worker type\n",
    "df = pd.read_csv(os.path.join(relative_path,'agg','dash','non_wfh_tours.csv'))\n",
    "df = df[df['pptyp'].isin(['Full-Time Worker', 'Part-Time Worker'])]\n",
    "df = df.groupby('pdpurp').sum().reset_index()\n",
    "df['tour_rate'] = df['toexpfac']/df_tot.sum()[['psexpfac']].values[0]\n",
    "\n",
    "df_survey = pd.read_csv(os.path.join(relative_path,'agg','dash','survey','non_wfh_tours.csv'))\n",
    "df_survey = df_survey[df_survey['pptyp'].isin(['Full-Time Worker', 'Part-Time Worker'])]\n",
    "df_survey = df_survey.groupby('pdpurp').sum().reset_index()\n",
    "df_survey['tour_rate'] = df_survey['toexpfac']/df_tot_survey.sum()[['psexpfac']].values[0]\n",
    "\n",
    "df = df.merge(df_survey, on='pdpurp', suffixes=['_model','_survey'])\n",
    "df.rename(columns={'toexpfac_model':'total_tours_model','toexpfac_survey':'total_tours_survey'},\n",
    "         inplace=True)\n",
    "df[['pdpurp','total_tours_model','total_tours_survey','tour_rate_model','tour_rate_survey']]"
   ]
  },
  {
   "cell_type": "code",
   "execution_count": 32,
   "metadata": {},
   "outputs": [
    {
     "data": {
      "text/plain": [
       "1878812.0"
      ]
     },
     "execution_count": 32,
     "metadata": {},
     "output_type": "execute_result"
    }
   ],
   "source": [
    "total_nonwfh_workers"
   ]
  },
  {
   "cell_type": "markdown",
   "metadata": {},
   "source": [
    "### Tour Rates for Non-Workers"
   ]
  },
  {
   "cell_type": "code",
   "execution_count": 33,
   "metadata": {},
   "outputs": [
    {
     "data": {
      "text/html": [
       "<div>\n",
       "<table border=\"1\" class=\"dataframe\">\n",
       "  <thead>\n",
       "    <tr style=\"text-align: right;\">\n",
       "      <th></th>\n",
       "      <th>pdpurp</th>\n",
       "      <th>total_tours_model</th>\n",
       "      <th>total_tours_survey</th>\n",
       "      <th>tour_rate_model</th>\n",
       "      <th>tour_rate_survey</th>\n",
       "    </tr>\n",
       "  </thead>\n",
       "  <tbody>\n",
       "    <tr>\n",
       "      <th>0</th>\n",
       "      <td>Escort</td>\n",
       "      <td>491,838.000</td>\n",
       "      <td>422,966.420</td>\n",
       "      <td>0.260</td>\n",
       "      <td>0.223</td>\n",
       "    </tr>\n",
       "    <tr>\n",
       "      <th>1</th>\n",
       "      <td>Meal</td>\n",
       "      <td>127,429.000</td>\n",
       "      <td>163,207.570</td>\n",
       "      <td>0.067</td>\n",
       "      <td>0.086</td>\n",
       "    </tr>\n",
       "    <tr>\n",
       "      <th>2</th>\n",
       "      <td>Personal Business</td>\n",
       "      <td>528,953.000</td>\n",
       "      <td>599,422.640</td>\n",
       "      <td>0.279</td>\n",
       "      <td>0.317</td>\n",
       "    </tr>\n",
       "    <tr>\n",
       "      <th>3</th>\n",
       "      <td>School</td>\n",
       "      <td>661,220.000</td>\n",
       "      <td>699,217.240</td>\n",
       "      <td>0.349</td>\n",
       "      <td>0.369</td>\n",
       "    </tr>\n",
       "    <tr>\n",
       "      <th>4</th>\n",
       "      <td>Shop</td>\n",
       "      <td>506,051.000</td>\n",
       "      <td>491,168.590</td>\n",
       "      <td>0.267</td>\n",
       "      <td>0.260</td>\n",
       "    </tr>\n",
       "    <tr>\n",
       "      <th>5</th>\n",
       "      <td>Social</td>\n",
       "      <td>737,323.000</td>\n",
       "      <td>739,493.790</td>\n",
       "      <td>0.390</td>\n",
       "      <td>0.391</td>\n",
       "    </tr>\n",
       "    <tr>\n",
       "      <th>6</th>\n",
       "      <td>Work</td>\n",
       "      <td>81,927.000</td>\n",
       "      <td>130,935.260</td>\n",
       "      <td>0.043</td>\n",
       "      <td>0.069</td>\n",
       "    </tr>\n",
       "  </tbody>\n",
       "</table>\n",
       "</div>"
      ],
      "text/plain": [
       "              pdpurp  total_tours_model  total_tours_survey  tour_rate_model  \\\n",
       "0             Escort        491,838.000         422,966.420            0.260   \n",
       "1               Meal        127,429.000         163,207.570            0.067   \n",
       "2  Personal Business        528,953.000         599,422.640            0.279   \n",
       "3             School        661,220.000         699,217.240            0.349   \n",
       "4               Shop        506,051.000         491,168.590            0.267   \n",
       "5             Social        737,323.000         739,493.790            0.390   \n",
       "6               Work         81,927.000         130,935.260            0.043   \n",
       "\n",
       "   tour_rate_survey  \n",
       "0             0.223  \n",
       "1             0.086  \n",
       "2             0.317  \n",
       "3             0.369  \n",
       "4             0.260  \n",
       "5             0.391  \n",
       "6             0.069  "
      ]
     },
     "execution_count": 33,
     "metadata": {},
     "output_type": "execute_result"
    }
   ],
   "source": [
    "df = pd.read_csv(os.path.join(relative_path,'agg','dash','non_wfh_tours.csv'))\n",
    "df = df[-df['pptyp'].isin(['Full-Time Worker', 'Part-Time Worker'])]\n",
    "df = df.groupby('pdpurp').sum().reset_index()\n",
    "df['tour_rate'] = df['toexpfac']/df_tot_survey.sum()[['psexpfac']].values[0]\n",
    "\n",
    "\n",
    "df_survey = pd.read_csv(os.path.join(relative_path,'agg','dash','survey','non_wfh_tours.csv'))\n",
    "df_survey = df_survey[-df_survey['pptyp'].isin(['Full-Time Worker', 'Part-Time Worker'])]\n",
    "df_survey = df_survey.groupby('pdpurp').sum().reset_index()\n",
    "df_survey['tour_rate'] = df_survey['toexpfac']/df_tot_survey.sum()[['psexpfac']].values[0]\n",
    "\n",
    "df = df.merge(df_survey, on='pdpurp', suffixes=['_model','_survey'])\n",
    "df.rename(columns={'toexpfac_model':'total_tours_model','toexpfac_survey':'total_tours_survey'},\n",
    "         inplace=True)\n",
    "df[['pdpurp','total_tours_model','total_tours_survey','tour_rate_model','tour_rate_survey']]"
   ]
  },
  {
   "cell_type": "markdown",
   "metadata": {},
   "source": [
    "# Commute Tour Distance\n",
    "All Workers"
   ]
  },
  {
   "cell_type": "code",
   "execution_count": 34,
   "metadata": {},
   "outputs": [],
   "source": [
    "df = pd.read_csv(os.path.join(relative_path,'agg','dash','tour_distance.csv'))\n",
    "df = df[df['pdpurp'] == 'Work']\n",
    "\n",
    "pd.options.display.float_format = '{:0,.4f}'.format\n",
    "_df = df.groupby('tautodist_bin').sum()[['toexpfac']].reset_index()\n",
    "\n",
    "_df['percent'] = _df['toexpfac']/_df['toexpfac'].sum()\n",
    "_df['cumulative_percent'] = _df['percent'].cumsum()\n",
    "\n",
    "# remove records that are outside 99% of records\n",
    "_df = _df[_df['cumulative_percent'] <= 0.99]"
   ]
  },
  {
   "cell_type": "code",
   "execution_count": 35,
   "metadata": {},
   "outputs": [],
   "source": [
    "df_survey = pd.read_csv(os.path.join(relative_path,'agg','dash','survey','tour_distance.csv'))\n",
    "df_survey = df_survey[df_survey['pdpurp'] == 'Work']\n",
    "\n",
    "_df_survey = df_survey.groupby('tautodist_bin').sum()[['toexpfac']].reset_index()\n",
    "\n",
    "_df_survey['percent'] = _df_survey['toexpfac']/_df_survey['toexpfac'].sum()\n",
    "_df_survey['cumulative_percent'] = _df_survey['percent'].cumsum()\n",
    "\n",
    "# remove records that are outside 99% of records\n",
    "_df_survey = _df_survey[_df_survey['cumulative_percent'] <= 0.99]"
   ]
  },
  {
   "cell_type": "markdown",
   "metadata": {},
   "source": [
    "Weighted Average Distance"
   ]
  },
  {
   "cell_type": "code",
   "execution_count": 36,
   "metadata": {},
   "outputs": [
    {
     "name": "stdout",
     "output_type": "stream",
     "text": [
      "model: 10.1971802152\n",
      "survey: 10.4238467037\n"
     ]
    }
   ],
   "source": [
    "_df_merged = _df.merge(_df_survey, on='tautodist_bin', suffixes=['_model','_survey'])\n",
    "print('model: '+ str((_df_merged['toexpfac_model']*_df_merged['tautodist_bin']).sum()*1.0/_df_merged['toexpfac_model'].sum()))\n",
    "print('survey: '+ str((_df_merged['toexpfac_survey']*_df_merged['tautodist_bin']).sum()*1.0/_df_merged['toexpfac_survey'].sum()))"
   ]
  },
  {
   "cell_type": "code",
   "execution_count": 37,
   "metadata": {},
   "outputs": [],
   "source": [
    "# Work trip distance to not usual workplace for non-WFH workers\n"
   ]
  },
  {
   "cell_type": "code",
   "execution_count": 38,
   "metadata": {},
   "outputs": [
    {
     "data": {
      "text/plain": [
       "<matplotlib.axes._subplots.AxesSubplot at 0xbe0d0b8>"
      ]
     },
     "execution_count": 38,
     "metadata": {},
     "output_type": "execute_result"
    },
    {
     "data": {
      "image/png": "[encoded data removed]",
      "text/plain": [
       "<matplotlib.figure.Figure at 0xddd7978>"
      ]
     },
     "metadata": {},
     "output_type": "display_data"
    }
   ],
   "source": [
    "_df_merged[['percent_model','percent_survey']].plot(alpha=0.6)\n",
    "\n",
    "# _df[['trexpfac']].plot(kind='bar')"
   ]
  },
  {
   "cell_type": "markdown",
   "metadata": {},
   "source": [
    "# Average Trip Distance\n",
    "Workers that work DO NOT work from home"
   ]
  },
  {
   "cell_type": "code",
   "execution_count": 39,
   "metadata": {},
   "outputs": [
    {
     "name": "stdout",
     "output_type": "stream",
     "text": [
      "Avg. distance to Usual Workplace: 8.40637183145\n",
      "Avg. distance to Other Workplace: 4.67563137509\n",
      "----------------------------------------\n"
     ]
    },
    {
     "data": {
      "text/html": [
       "<div>\n",
       "<table border=\"1\" class=\"dataframe\">\n",
       "  <thead>\n",
       "    <tr style=\"text-align: right;\">\n",
       "      <th></th>\n",
       "      <th>Purpose</th>\n",
       "      <th>Workers at Non-Home Location</th>\n",
       "    </tr>\n",
       "  </thead>\n",
       "  <tbody>\n",
       "    <tr>\n",
       "      <th>0</th>\n",
       "      <td>Shop</td>\n",
       "      <td>3.6429</td>\n",
       "    </tr>\n",
       "    <tr>\n",
       "      <th>1</th>\n",
       "      <td>School</td>\n",
       "      <td>3.0846</td>\n",
       "    </tr>\n",
       "    <tr>\n",
       "      <th>2</th>\n",
       "      <td>Work</td>\n",
       "      <td>7.6362</td>\n",
       "    </tr>\n",
       "    <tr>\n",
       "      <th>3</th>\n",
       "      <td>Meal</td>\n",
       "      <td>2.7340</td>\n",
       "    </tr>\n",
       "    <tr>\n",
       "      <th>4</th>\n",
       "      <td>Change Mode Inserted Purpose</td>\n",
       "      <td>7.9652</td>\n",
       "    </tr>\n",
       "    <tr>\n",
       "      <th>5</th>\n",
       "      <td>Escort</td>\n",
       "      <td>5.1919</td>\n",
       "    </tr>\n",
       "    <tr>\n",
       "      <th>6</th>\n",
       "      <td>Social</td>\n",
       "      <td>3.8246</td>\n",
       "    </tr>\n",
       "    <tr>\n",
       "      <th>7</th>\n",
       "      <td>None/Home</td>\n",
       "      <td>5.3125</td>\n",
       "    </tr>\n",
       "    <tr>\n",
       "      <th>8</th>\n",
       "      <td>Personal Business</td>\n",
       "      <td>4.3803</td>\n",
       "    </tr>\n",
       "  </tbody>\n",
       "</table>\n",
       "</div>"
      ],
      "text/plain": [
       "                        Purpose  Workers at Non-Home Location\n",
       "0                          Shop                        3.6429\n",
       "1                        School                        3.0846\n",
       "2                          Work                        7.6362\n",
       "3                          Meal                        2.7340\n",
       "4  Change Mode Inserted Purpose                        7.9652\n",
       "5                        Escort                        5.1919\n",
       "6                        Social                        3.8246\n",
       "7                     None/Home                        5.3125\n",
       "8             Personal Business                        4.3803"
      ]
     },
     "execution_count": 39,
     "metadata": {},
     "output_type": "execute_result"
    }
   ],
   "source": [
    "# Non WFH Workers\n",
    "df = pd.read_csv(os.path.join(relative_path,'agg','dash','trip_distance_non_wfh.csv'))\n",
    "df = df[df['pptyp'].isin(['Full-Time Worker','Part-Time Worker'])]\n",
    "df = df[(df['dpurp'] == 'Work') & (df['dadtyp'].isin(['Other','Usual Workplace']))]\n",
    "# df.groupby(['travdist_bin','']).sum()[['trexpfac']]\n",
    "df_usual = df[df['dadtyp'] == 'Usual Workplace']\n",
    "dist = (df_usual['trexpfac']*1.0*df_usual['travdist_bin']).sum()/df_usual['trexpfac'].sum()\n",
    "print('Avg. distance to Usual Workplace: ' + str(dist))\n",
    "df_other = df[df['dadtyp'] == 'Other']\n",
    "dist = (df_other['trexpfac']*1.0*df_other['travdist_bin']).sum()/df_other['trexpfac'].sum()\n",
    "print('Avg. distance to Other Workplace: ' + str(dist))\n",
    "print('----------------------------------------')\n",
    "# Non WFH Workers\n",
    "df = pd.read_csv(os.path.join(relative_path,'agg','dash','trip_distance_non_wfh.csv'))\n",
    "df['wt_sum'] = df['trexpfac']*1.0*df['travdist_bin']\n",
    "result = {}\n",
    "for purp in pd.unique(df['dpurp']):\n",
    "    _df = df[df['dpurp'] == purp]\n",
    "    result[purp] = _df['wt_sum'].sum()/_df['trexpfac'].sum()\n",
    "    \n",
    "_df_non_wfh = pd.DataFrame.from_dict(result, orient='index').reset_index()\n",
    "_df_non_wfh.columns = ['Purpose','Workers at Non-Home Location']\n",
    "_df_non_wfh"
   ]
  },
  {
   "cell_type": "markdown",
   "metadata": {},
   "source": [
    "Only workers that work **from home**"
   ]
  },
  {
   "cell_type": "code",
   "execution_count": 40,
   "metadata": {},
   "outputs": [
    {
     "name": "stdout",
     "output_type": "stream",
     "text": [
      "Avg. distance to Other Workplace: 4.16064996726\n",
      "----------------------------------\n"
     ]
    },
    {
     "data": {
      "text/html": [
       "<div>\n",
       "<table border=\"1\" class=\"dataframe\">\n",
       "  <thead>\n",
       "    <tr style=\"text-align: right;\">\n",
       "      <th></th>\n",
       "      <th>Purpose</th>\n",
       "      <th>WFH Workers</th>\n",
       "    </tr>\n",
       "  </thead>\n",
       "  <tbody>\n",
       "    <tr>\n",
       "      <th>0</th>\n",
       "      <td>Shop</td>\n",
       "      <td>1.9443</td>\n",
       "    </tr>\n",
       "    <tr>\n",
       "      <th>1</th>\n",
       "      <td>School</td>\n",
       "      <td>4.6784</td>\n",
       "    </tr>\n",
       "    <tr>\n",
       "      <th>2</th>\n",
       "      <td>Work</td>\n",
       "      <td>4.1582</td>\n",
       "    </tr>\n",
       "    <tr>\n",
       "      <th>3</th>\n",
       "      <td>Meal</td>\n",
       "      <td>1.7435</td>\n",
       "    </tr>\n",
       "    <tr>\n",
       "      <th>4</th>\n",
       "      <td>Change Mode Inserted Purpose</td>\n",
       "      <td>4.8311</td>\n",
       "    </tr>\n",
       "    <tr>\n",
       "      <th>5</th>\n",
       "      <td>Escort</td>\n",
       "      <td>2.4244</td>\n",
       "    </tr>\n",
       "    <tr>\n",
       "      <th>6</th>\n",
       "      <td>Social</td>\n",
       "      <td>1.9521</td>\n",
       "    </tr>\n",
       "    <tr>\n",
       "      <th>7</th>\n",
       "      <td>None/Home</td>\n",
       "      <td>2.5093</td>\n",
       "    </tr>\n",
       "    <tr>\n",
       "      <th>8</th>\n",
       "      <td>Personal Business</td>\n",
       "      <td>1.9345</td>\n",
       "    </tr>\n",
       "  </tbody>\n",
       "</table>\n",
       "</div>"
      ],
      "text/plain": [
       "                        Purpose  WFH Workers\n",
       "0                          Shop       1.9443\n",
       "1                        School       4.6784\n",
       "2                          Work       4.1582\n",
       "3                          Meal       1.7435\n",
       "4  Change Mode Inserted Purpose       4.8311\n",
       "5                        Escort       2.4244\n",
       "6                        Social       1.9521\n",
       "7                     None/Home       2.5093\n",
       "8             Personal Business       1.9345"
      ]
     },
     "execution_count": 40,
     "metadata": {},
     "output_type": "execute_result"
    }
   ],
   "source": [
    "# WFH Workers\n",
    "df = pd.read_csv(os.path.join(relative_path,'agg','dash','trip_distance_wfh.csv'))\n",
    "df = df[(df['dpurp'] == 'Work') & (df['dadtyp'].isin(['Other','Usual Workplace']))]\n",
    "\n",
    "df_other = df[df['dadtyp'] == 'Other']\n",
    "dist = (df_other['trexpfac']*1.0*df_other['travdist_bin']).sum()/df_other['trexpfac'].sum()\n",
    "print('Avg. distance to Other Workplace: ' + str(dist))\n",
    "print('----------------------------------')\n",
    "df = pd.read_csv(os.path.join(relative_path,'agg','dash','trip_distance_wfh.csv'))\n",
    "df['wt_sum'] = df['trexpfac']*1.0*df['travdist_bin']\n",
    "result = {}\n",
    "for purp in pd.unique(df['dpurp']):\n",
    "    _df = df[df['dpurp'] == purp]\n",
    "    result[purp] = _df['wt_sum'].sum()/_df['trexpfac'].sum()\n",
    "\n",
    "_df_wfh = pd.DataFrame.from_dict(result, orient='index')\n",
    "_df_wfh = _df_wfh.reset_index()\n",
    "_df_wfh.columns = ['Purpose','WFH Workers']\n",
    "_df_wfh"
   ]
  },
  {
   "cell_type": "code",
   "execution_count": 41,
   "metadata": {},
   "outputs": [
    {
     "data": {
      "text/html": [
       "<div>\n",
       "<table border=\"1\" class=\"dataframe\">\n",
       "  <thead>\n",
       "    <tr style=\"text-align: right;\">\n",
       "      <th></th>\n",
       "      <th>Purpose</th>\n",
       "      <th>Non-Workers</th>\n",
       "    </tr>\n",
       "  </thead>\n",
       "  <tbody>\n",
       "    <tr>\n",
       "      <th>0</th>\n",
       "      <td>Shop</td>\n",
       "      <td>3.6429</td>\n",
       "    </tr>\n",
       "    <tr>\n",
       "      <th>1</th>\n",
       "      <td>School</td>\n",
       "      <td>3.0846</td>\n",
       "    </tr>\n",
       "    <tr>\n",
       "      <th>2</th>\n",
       "      <td>Work</td>\n",
       "      <td>7.6362</td>\n",
       "    </tr>\n",
       "    <tr>\n",
       "      <th>3</th>\n",
       "      <td>Meal</td>\n",
       "      <td>2.7340</td>\n",
       "    </tr>\n",
       "    <tr>\n",
       "      <th>4</th>\n",
       "      <td>Change Mode Inserted Purpose</td>\n",
       "      <td>7.9652</td>\n",
       "    </tr>\n",
       "    <tr>\n",
       "      <th>5</th>\n",
       "      <td>Escort</td>\n",
       "      <td>5.1919</td>\n",
       "    </tr>\n",
       "    <tr>\n",
       "      <th>6</th>\n",
       "      <td>Social</td>\n",
       "      <td>3.8246</td>\n",
       "    </tr>\n",
       "    <tr>\n",
       "      <th>7</th>\n",
       "      <td>None/Home</td>\n",
       "      <td>5.3125</td>\n",
       "    </tr>\n",
       "    <tr>\n",
       "      <th>8</th>\n",
       "      <td>Personal Business</td>\n",
       "      <td>4.3803</td>\n",
       "    </tr>\n",
       "  </tbody>\n",
       "</table>\n",
       "</div>"
      ],
      "text/plain": [
       "                        Purpose  Non-Workers\n",
       "0                          Shop       3.6429\n",
       "1                        School       3.0846\n",
       "2                          Work       7.6362\n",
       "3                          Meal       2.7340\n",
       "4  Change Mode Inserted Purpose       7.9652\n",
       "5                        Escort       5.1919\n",
       "6                        Social       3.8246\n",
       "7                     None/Home       5.3125\n",
       "8             Personal Business       4.3803"
      ]
     },
     "execution_count": 41,
     "metadata": {},
     "output_type": "execute_result"
    }
   ],
   "source": [
    "# Non-Workers\n",
    "df = pd.read_csv(os.path.join(relative_path,'agg','dash','trip_distance_non_wfh.csv'))\n",
    "df = df[-df['pptyp'].isin(['Full-Time Worker','Part-Time Worker'])]\n",
    "df = df[(df['dpurp'] == 'Work') & (df['dadtyp'].isin(['Other','Usual Workplace']))]\n",
    "\n",
    "# Non-Workers\n",
    "df = pd.read_csv(os.path.join(relative_path,'agg','dash','trip_distance_non_wfh.csv'))\n",
    "df['wt_sum'] = df['trexpfac']*1.0*df['travdist_bin']\n",
    "result = {}\n",
    "for purp in pd.unique(df['dpurp']):\n",
    "    _df = df[df['dpurp'] == purp]\n",
    "    result[purp] = _df['wt_sum'].sum()/_df['trexpfac'].sum()\n",
    "    \n",
    "_df_non_worker = pd.DataFrame.from_dict(result, orient='index')\n",
    "_df_non_worker = _df_non_worker.reset_index()\n",
    "_df_non_worker.columns = ['Purpose','Non-Workers']\n",
    "_df_non_worker"
   ]
  },
  {
   "cell_type": "markdown",
   "metadata": {},
   "source": [
    "Average Trip Distance by Purpose and Worker/Person Type"
   ]
  },
  {
   "cell_type": "code",
   "execution_count": 42,
   "metadata": {},
   "outputs": [],
   "source": [
    "_df = pd.merge(_df_non_wfh, _df_wfh).merge(_df_non_worker)"
   ]
  },
  {
   "cell_type": "code",
   "execution_count": 43,
   "metadata": {},
   "outputs": [
    {
     "data": {
      "text/html": [
       "<div>\n",
       "<table border=\"1\" class=\"dataframe\">\n",
       "  <thead>\n",
       "    <tr style=\"text-align: right;\">\n",
       "      <th></th>\n",
       "      <th>Purpose</th>\n",
       "      <th>Workers at Non-Home Location</th>\n",
       "      <th>WFH Workers</th>\n",
       "      <th>Non-Workers</th>\n",
       "    </tr>\n",
       "  </thead>\n",
       "  <tbody>\n",
       "    <tr>\n",
       "      <th>0</th>\n",
       "      <td>Shop</td>\n",
       "      <td>3.6429</td>\n",
       "      <td>1.9443</td>\n",
       "      <td>3.6429</td>\n",
       "    </tr>\n",
       "    <tr>\n",
       "      <th>1</th>\n",
       "      <td>School</td>\n",
       "      <td>3.0846</td>\n",
       "      <td>4.6784</td>\n",
       "      <td>3.0846</td>\n",
       "    </tr>\n",
       "    <tr>\n",
       "      <th>2</th>\n",
       "      <td>Work</td>\n",
       "      <td>7.6362</td>\n",
       "      <td>4.1582</td>\n",
       "      <td>7.6362</td>\n",
       "    </tr>\n",
       "    <tr>\n",
       "      <th>3</th>\n",
       "      <td>Meal</td>\n",
       "      <td>2.7340</td>\n",
       "      <td>1.7435</td>\n",
       "      <td>2.7340</td>\n",
       "    </tr>\n",
       "    <tr>\n",
       "      <th>4</th>\n",
       "      <td>Change Mode Inserted Purpose</td>\n",
       "      <td>7.9652</td>\n",
       "      <td>4.8311</td>\n",
       "      <td>7.9652</td>\n",
       "    </tr>\n",
       "    <tr>\n",
       "      <th>5</th>\n",
       "      <td>Escort</td>\n",
       "      <td>5.1919</td>\n",
       "      <td>2.4244</td>\n",
       "      <td>5.1919</td>\n",
       "    </tr>\n",
       "    <tr>\n",
       "      <th>6</th>\n",
       "      <td>Social</td>\n",
       "      <td>3.8246</td>\n",
       "      <td>1.9521</td>\n",
       "      <td>3.8246</td>\n",
       "    </tr>\n",
       "    <tr>\n",
       "      <th>7</th>\n",
       "      <td>None/Home</td>\n",
       "      <td>5.3125</td>\n",
       "      <td>2.5093</td>\n",
       "      <td>5.3125</td>\n",
       "    </tr>\n",
       "    <tr>\n",
       "      <th>8</th>\n",
       "      <td>Personal Business</td>\n",
       "      <td>4.3803</td>\n",
       "      <td>1.9345</td>\n",
       "      <td>4.3803</td>\n",
       "    </tr>\n",
       "  </tbody>\n",
       "</table>\n",
       "</div>"
      ],
      "text/plain": [
       "                        Purpose  Workers at Non-Home Location  WFH Workers  \\\n",
       "0                          Shop                        3.6429       1.9443   \n",
       "1                        School                        3.0846       4.6784   \n",
       "2                          Work                        7.6362       4.1582   \n",
       "3                          Meal                        2.7340       1.7435   \n",
       "4  Change Mode Inserted Purpose                        7.9652       4.8311   \n",
       "5                        Escort                        5.1919       2.4244   \n",
       "6                        Social                        3.8246       1.9521   \n",
       "7                     None/Home                        5.3125       2.5093   \n",
       "8             Personal Business                        4.3803       1.9345   \n",
       "\n",
       "   Non-Workers  \n",
       "0       3.6429  \n",
       "1       3.0846  \n",
       "2       7.6362  \n",
       "3       2.7340  \n",
       "4       7.9652  \n",
       "5       5.1919  \n",
       "6       3.8246  \n",
       "7       5.3125  \n",
       "8       4.3803  "
      ]
     },
     "execution_count": 43,
     "metadata": {},
     "output_type": "execute_result"
    }
   ],
   "source": [
    "_df"
   ]
  },
  {
   "cell_type": "markdown",
   "metadata": {},
   "source": [
    "# VMT"
   ]
  },
  {
   "cell_type": "markdown",
   "metadata": {},
   "source": [
    "Workers that Work from Home"
   ]
  },
  {
   "cell_type": "code",
   "execution_count": 44,
   "metadata": {},
   "outputs": [
    {
     "data": {
      "text/html": [
       "<div>\n",
       "<table border=\"1\" class=\"dataframe\">\n",
       "  <thead>\n",
       "    <tr style=\"text-align: right;\">\n",
       "      <th></th>\n",
       "      <th>Total VMT (Model)</th>\n",
       "      <th>VMT per Person (Model)_model</th>\n",
       "      <th>travdist_wt_survey</th>\n",
       "      <th>VMT per Person (Model)_survey</th>\n",
       "    </tr>\n",
       "    <tr>\n",
       "      <th>dpurp</th>\n",
       "      <th></th>\n",
       "      <th></th>\n",
       "      <th></th>\n",
       "      <th></th>\n",
       "    </tr>\n",
       "  </thead>\n",
       "  <tbody>\n",
       "    <tr>\n",
       "      <th>Change Mode Inserted Purpose</th>\n",
       "      <td>210</td>\n",
       "      <td>0.00</td>\n",
       "      <td>22100</td>\n",
       "      <td>0.17</td>\n",
       "    </tr>\n",
       "    <tr>\n",
       "      <th>Escort</th>\n",
       "      <td>126876</td>\n",
       "      <td>1.00</td>\n",
       "      <td>125808</td>\n",
       "      <td>0.99</td>\n",
       "    </tr>\n",
       "    <tr>\n",
       "      <th>Meal</th>\n",
       "      <td>21002</td>\n",
       "      <td>0.17</td>\n",
       "      <td>31104</td>\n",
       "      <td>0.25</td>\n",
       "    </tr>\n",
       "    <tr>\n",
       "      <th>None/Home</th>\n",
       "      <td>349345</td>\n",
       "      <td>2.76</td>\n",
       "      <td>328871</td>\n",
       "      <td>2.60</td>\n",
       "    </tr>\n",
       "    <tr>\n",
       "      <th>Personal Business</th>\n",
       "      <td>116784</td>\n",
       "      <td>0.92</td>\n",
       "      <td>45008</td>\n",
       "      <td>0.36</td>\n",
       "    </tr>\n",
       "    <tr>\n",
       "      <th>School</th>\n",
       "      <td>4418</td>\n",
       "      <td>0.03</td>\n",
       "      <td>421</td>\n",
       "      <td>0.00</td>\n",
       "    </tr>\n",
       "    <tr>\n",
       "      <th>Shop</th>\n",
       "      <td>134456</td>\n",
       "      <td>1.06</td>\n",
       "      <td>215302</td>\n",
       "      <td>1.70</td>\n",
       "    </tr>\n",
       "    <tr>\n",
       "      <th>Social</th>\n",
       "      <td>79062</td>\n",
       "      <td>0.62</td>\n",
       "      <td>140911</td>\n",
       "      <td>1.11</td>\n",
       "    </tr>\n",
       "    <tr>\n",
       "      <th>Work</th>\n",
       "      <td>12170</td>\n",
       "      <td>0.10</td>\n",
       "      <td>33978</td>\n",
       "      <td>0.27</td>\n",
       "    </tr>\n",
       "    <tr>\n",
       "      <th>Total</th>\n",
       "      <td>844327</td>\n",
       "      <td>6.67</td>\n",
       "      <td>943506</td>\n",
       "      <td>7.46</td>\n",
       "    </tr>\n",
       "  </tbody>\n",
       "</table>\n",
       "</div>"
      ],
      "text/plain": [
       "                              Total VMT (Model)  VMT per Person (Model)_model  \\\n",
       "dpurp                                                                           \n",
       "Change Mode Inserted Purpose                210                          0.00   \n",
       "Escort                                   126876                          1.00   \n",
       "Meal                                      21002                          0.17   \n",
       "None/Home                                349345                          2.76   \n",
       "Personal Business                        116784                          0.92   \n",
       "School                                     4418                          0.03   \n",
       "Shop                                     134456                          1.06   \n",
       "Social                                    79062                          0.62   \n",
       "Work                                      12170                          0.10   \n",
       "Total                                    844327                          6.67   \n",
       "\n",
       "                              travdist_wt_survey  \\\n",
       "dpurp                                              \n",
       "Change Mode Inserted Purpose               22100   \n",
       "Escort                                    125808   \n",
       "Meal                                       31104   \n",
       "None/Home                                 328871   \n",
       "Personal Business                          45008   \n",
       "School                                       421   \n",
       "Shop                                      215302   \n",
       "Social                                    140911   \n",
       "Work                                       33978   \n",
       "Total                                     943506   \n",
       "\n",
       "                              VMT per Person (Model)_survey  \n",
       "dpurp                                                        \n",
       "Change Mode Inserted Purpose                           0.17  \n",
       "Escort                                                 0.99  \n",
       "Meal                                                   0.25  \n",
       "None/Home                                              2.60  \n",
       "Personal Business                                      0.36  \n",
       "School                                                 0.00  \n",
       "Shop                                                   1.70  \n",
       "Social                                                 1.11  \n",
       "Work                                                   0.27  \n",
       "Total                                                  7.46  "
      ]
     },
     "execution_count": 44,
     "metadata": {},
     "output_type": "execute_result"
    }
   ],
   "source": [
    "df = pd.read_csv(os.path.join(relative_path,'agg','dash','vmt_wfh.csv'))\n",
    "df_survey = pd.read_csv(os.path.join(relative_path,'agg','dash','survey','vmt_wfh.csv'))\n",
    "\n",
    "pd.options.display.float_format = '{:,.2f}'.format\n",
    "_df = df[(df['mode'].isin(['SOV','HOV2','HOV3+']))&\n",
    "   (df['dorp']==1) &\n",
    "   (df['pptyp'].isin(['Full-Time Worker','Part-Time Worker']))].groupby('dpurp').sum()[['travdist_wt']]\n",
    "_df['VMT per Person (Model)'] = _df['travdist_wt']/total_wfh_workers\n",
    "\n",
    "_df_survey = df_survey[(df_survey['mode'].isin(['SOV','HOV2','HOV3+']))&\n",
    "   (df_survey['dorp']==1) &\n",
    "   (df_survey['pptyp'].isin(['Full-Time Worker','Part-Time Worker']))].groupby('dpurp').sum()[['travdist_wt']]\n",
    "_df_survey['VMT per Person (Model)'] = _df_survey['travdist_wt']/total_wfh_workers_survey\n",
    "\n",
    "_df = _df.merge(_df_survey, left_index=True, right_index=True, suffixes=['_model','_survey'])\n",
    "_df.loc['Total',:] = _df.sum()\n",
    "_df[['travdist_wt_model','travdist_wt_survey']] = _df[['travdist_wt_model','travdist_wt_survey']].astype('int')\n",
    "_df.rename(columns={'travdist_wt_model': 'Total VMT (Model)', 'travidst_wt_survey': 'Total VMT (Survey)'},\n",
    "                   inplace=True)\n",
    "_df"
   ]
  },
  {
   "cell_type": "markdown",
   "metadata": {},
   "source": [
    "Workers that do NOT Work from Home"
   ]
  },
  {
   "cell_type": "code",
   "execution_count": 45,
   "metadata": {},
   "outputs": [
    {
     "data": {
      "text/html": [
       "<div>\n",
       "<table border=\"1\" class=\"dataframe\">\n",
       "  <thead>\n",
       "    <tr style=\"text-align: right;\">\n",
       "      <th></th>\n",
       "      <th>Total VMT (Model)</th>\n",
       "      <th>VMT per Person (Model)_model</th>\n",
       "      <th>travdist_wt_survey</th>\n",
       "      <th>VMT per Person (Model)_survey</th>\n",
       "    </tr>\n",
       "    <tr>\n",
       "      <th>dpurp</th>\n",
       "      <th></th>\n",
       "      <th></th>\n",
       "      <th></th>\n",
       "      <th></th>\n",
       "    </tr>\n",
       "  </thead>\n",
       "  <tbody>\n",
       "    <tr>\n",
       "      <th>Change Mode Inserted Purpose</th>\n",
       "      <td>260678</td>\n",
       "      <td>0.14</td>\n",
       "      <td>82025</td>\n",
       "      <td>0.04</td>\n",
       "    </tr>\n",
       "    <tr>\n",
       "      <th>Escort</th>\n",
       "      <td>2677536</td>\n",
       "      <td>1.43</td>\n",
       "      <td>3229390</td>\n",
       "      <td>1.71</td>\n",
       "    </tr>\n",
       "    <tr>\n",
       "      <th>Meal</th>\n",
       "      <td>1254039</td>\n",
       "      <td>0.67</td>\n",
       "      <td>1920011</td>\n",
       "      <td>1.01</td>\n",
       "    </tr>\n",
       "    <tr>\n",
       "      <th>None/Home</th>\n",
       "      <td>15933596</td>\n",
       "      <td>8.48</td>\n",
       "      <td>17445260</td>\n",
       "      <td>9.22</td>\n",
       "    </tr>\n",
       "    <tr>\n",
       "      <th>Personal Business</th>\n",
       "      <td>1978605</td>\n",
       "      <td>1.05</td>\n",
       "      <td>3088130</td>\n",
       "      <td>1.63</td>\n",
       "    </tr>\n",
       "    <tr>\n",
       "      <th>School</th>\n",
       "      <td>190418</td>\n",
       "      <td>0.10</td>\n",
       "      <td>72220</td>\n",
       "      <td>0.04</td>\n",
       "    </tr>\n",
       "    <tr>\n",
       "      <th>Shop</th>\n",
       "      <td>2299044</td>\n",
       "      <td>1.22</td>\n",
       "      <td>3888156</td>\n",
       "      <td>2.05</td>\n",
       "    </tr>\n",
       "    <tr>\n",
       "      <th>Social</th>\n",
       "      <td>2357667</td>\n",
       "      <td>1.25</td>\n",
       "      <td>3188491</td>\n",
       "      <td>1.68</td>\n",
       "    </tr>\n",
       "    <tr>\n",
       "      <th>Work</th>\n",
       "      <td>16417762</td>\n",
       "      <td>8.74</td>\n",
       "      <td>20806319</td>\n",
       "      <td>10.99</td>\n",
       "    </tr>\n",
       "    <tr>\n",
       "      <th>Total</th>\n",
       "      <td>43369348</td>\n",
       "      <td>23.08</td>\n",
       "      <td>53720007</td>\n",
       "      <td>28.38</td>\n",
       "    </tr>\n",
       "  </tbody>\n",
       "</table>\n",
       "</div>"
      ],
      "text/plain": [
       "                              Total VMT (Model)  VMT per Person (Model)_model  \\\n",
       "dpurp                                                                           \n",
       "Change Mode Inserted Purpose             260678                          0.14   \n",
       "Escort                                  2677536                          1.43   \n",
       "Meal                                    1254039                          0.67   \n",
       "None/Home                              15933596                          8.48   \n",
       "Personal Business                       1978605                          1.05   \n",
       "School                                   190418                          0.10   \n",
       "Shop                                    2299044                          1.22   \n",
       "Social                                  2357667                          1.25   \n",
       "Work                                   16417762                          8.74   \n",
       "Total                                  43369348                         23.08   \n",
       "\n",
       "                              travdist_wt_survey  \\\n",
       "dpurp                                              \n",
       "Change Mode Inserted Purpose               82025   \n",
       "Escort                                   3229390   \n",
       "Meal                                     1920011   \n",
       "None/Home                               17445260   \n",
       "Personal Business                        3088130   \n",
       "School                                     72220   \n",
       "Shop                                     3888156   \n",
       "Social                                   3188491   \n",
       "Work                                    20806319   \n",
       "Total                                   53720007   \n",
       "\n",
       "                              VMT per Person (Model)_survey  \n",
       "dpurp                                                        \n",
       "Change Mode Inserted Purpose                           0.04  \n",
       "Escort                                                 1.71  \n",
       "Meal                                                   1.01  \n",
       "None/Home                                              9.22  \n",
       "Personal Business                                      1.63  \n",
       "School                                                 0.04  \n",
       "Shop                                                   2.05  \n",
       "Social                                                 1.68  \n",
       "Work                                                  10.99  \n",
       "Total                                                 28.38  "
      ]
     },
     "execution_count": 45,
     "metadata": {},
     "output_type": "execute_result"
    }
   ],
   "source": [
    "df = pd.read_csv(os.path.join(relative_path,'agg','dash','vmt_nonwfh.csv'))\n",
    "df_survey = pd.read_csv(os.path.join(relative_path,'agg','dash','survey','vmt_nonwfh.csv'))\n",
    "\n",
    "pd.options.display.float_format = '{:,.2f}'.format\n",
    "_df = df[(df['mode'].isin(['SOV','HOV2','HOV3+']))&\n",
    "   (df['dorp']==1) &\n",
    "   (df['pptyp'].isin(['Full-Time Worker','Part-Time Worker']))].groupby('dpurp').sum()[['travdist_wt']]\n",
    "_df['VMT per Person (Model)'] = _df['travdist_wt']/total_nonwfh_workers\n",
    "\n",
    "_df_survey = df_survey[(df_survey['mode'].isin(['SOV','HOV2','HOV3+']))&\n",
    "   (df_survey['dorp']==1) &\n",
    "   (df_survey['pptyp'].isin(['Full-Time Worker','Part-Time Worker']))].groupby('dpurp').sum()[['travdist_wt']]\n",
    "_df_survey['VMT per Person (Model)'] = _df_survey['travdist_wt']/total_nonwfh_workers_survey\n",
    "\n",
    "_df = _df.merge(_df_survey, left_index=True, right_index=True, suffixes=['_model','_survey'])\n",
    "_df.loc['Total',:] = _df.sum()\n",
    "_df[['travdist_wt_model','travdist_wt_survey']] = _df[['travdist_wt_model','travdist_wt_survey']].astype('int')\n",
    "_df.rename(columns={'travdist_wt_model': 'Total VMT (Model)', 'travidst_wt_survey': 'Total VMT (Survey)'},\n",
    "                   inplace=True)\n",
    "_df"
   ]
  },
  {
   "cell_type": "markdown",
   "metadata": {},
   "source": [
    "# Commute Tour Distance by Mode\n",
    "All Workers"
   ]
  },
  {
   "cell_type": "code",
   "execution_count": 46,
   "metadata": {},
   "outputs": [
    {
     "data": {
      "image/png": "[encoded data removed]",
      "text/plain": [
       "<matplotlib.figure.Figure at 0xd882320>"
      ]
     },
     "metadata": {},
     "output_type": "display_data"
    },
    {
     "data": {
      "image/png": "[encoded data removed]",
      "text/plain": [
       "<matplotlib.figure.Figure at 0xdc24c18>"
      ]
     },
     "metadata": {},
     "output_type": "display_data"
    },
    {
     "data": {
      "image/png": "[encoded data removed]",
      "text/plain": [
       "<matplotlib.figure.Figure at 0xdc01630>"
      ]
     },
     "metadata": {},
     "output_type": "display_data"
    },
    {
     "data": {
      "image/png": "[encoded data removed]",
      "text/plain": [
       "<matplotlib.figure.Figure at 0xdc01e80>"
      ]
     },
     "metadata": {},
     "output_type": "display_data"
    },
    {
     "data": {
      "image/png": "[encoded data removed]",
      "text/plain": [
       "<matplotlib.figure.Figure at 0xd9ec978>"
      ]
     },
     "metadata": {},
     "output_type": "display_data"
    },
    {
     "data": {
      "image/png": "[encoded data removed]",
      "text/plain": [
       "<matplotlib.figure.Figure at 0xdb2ce80>"
      ]
     },
     "metadata": {},
     "output_type": "display_data"
    },
    {
     "data": {
      "image/png": "[encoded data removed]",
      "text/plain": [
       "<matplotlib.figure.Figure at 0xc609d68>"
      ]
     },
     "metadata": {},
     "output_type": "display_data"
    },
    {
     "data": {
      "image/png": "[encoded data removed]",
      "text/plain": [
       "<matplotlib.figure.Figure at 0xc609978>"
      ]
     },
     "metadata": {},
     "output_type": "display_data"
    }
   ],
   "source": [
    "df = pd.read_csv(os.path.join(relative_path,'agg','dash','tour_distance.csv'))\n",
    "df_survey = pd.read_csv(os.path.join(relative_path,'agg','dash','survey','tour_distance.csv'))\n",
    "df = df[df['pdpurp'] == 'Work']\n",
    "df = df[df['tmodetp'] != \"-1\"]\n",
    "\n",
    "for mode in df['tmodetp'].unique():\n",
    "    _df = df[df['tmodetp'] == mode]\n",
    "    \n",
    "    if len(_df) > 0:\n",
    "    \n",
    "        _df = _df.groupby('tautodist_bin').sum()[['toexpfac']].reset_index()\n",
    "\n",
    "        _df['percent'] = _df['toexpfac']/_df['toexpfac'].sum()\n",
    "        _df['cumulative_percent'] = _df['percent'].cumsum()\n",
    "\n",
    "        # remove records that are outside 99% of records\n",
    "        _df = _df[_df['cumulative_percent'] <= 0.99]\n",
    "\n",
    "        _df_survey = df_survey[df_survey['tmodetp'] == mode]\n",
    "        _df_survey = _df_survey.groupby('tautodist_bin').sum()[['toexpfac']].reset_index()\n",
    "\n",
    "        _df_survey['percent'] = _df_survey['toexpfac']/_df_survey['toexpfac'].sum()\n",
    "        _df_survey['cumulative_percent'] = _df_survey['percent'].cumsum()\n",
    "\n",
    "        # remove records that are outside 99% of records\n",
    "        _df_survey = _df_survey[_df_survey['cumulative_percent'] <= 0.99]\n",
    "\n",
    "        _df_merged = _df.merge(_df_survey, on='tautodist_bin', suffixes=['_model','_survey'])\n",
    "        _df_merged[['percent_model','percent_survey']].plot(alpha=0.6, title=mode)\n"
   ]
  },
  {
   "cell_type": "code",
   "execution_count": null,
   "metadata": {},
   "outputs": [],
   "source": []
  }
 ],
 "metadata": {
  "kernelspec": {
   "display_name": "Python 2",
   "language": "python",
   "name": "python2"
  },
  "language_info": {
   "codemirror_mode": {
    "name": "ipython",
    "version": 2
   },
   "file_extension": ".py",
   "mimetype": "text/x-python",
   "name": "python",
   "nbconvert_exporter": "python",
   "pygments_lexer": "ipython2",
   "version": "2.7.14"
  }
 },
 "nbformat": 4,
 "nbformat_minor": 2
}
